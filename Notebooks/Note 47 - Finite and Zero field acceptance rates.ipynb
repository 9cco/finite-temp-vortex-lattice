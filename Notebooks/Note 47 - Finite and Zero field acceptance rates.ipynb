{
 "cells": [
  {
   "cell_type": "code",
   "execution_count": 1,
   "metadata": {},
   "outputs": [
    {
     "data": {
      "text/plain": [
       "Plots.PyPlotBackend()"
      ]
     },
     "execution_count": 1,
     "metadata": {},
     "output_type": "execute_result"
    }
   ],
   "source": [
    "using Plots\n",
    "pyplot()"
   ]
  },
  {
   "cell_type": "code",
   "execution_count": 2,
   "metadata": {},
   "outputs": [],
   "source": [
    "using Distributed\n",
    "@everywhere using Distributions\n",
    "using Test\n",
    "#using BenchmarkTools\n",
    "using Dates\n",
    "\n",
    "@everywhere struct Hack end\n",
    "function fixRC()\n",
    "    for p in workers()\n",
    "        @fetchfrom p Hack()\n",
    "    end\n",
    "end\n",
    "fixRC()\n",
    "\n",
    "@everywhere src_path = \"/home/nicolai/Documents/Work/PhD/Numerikk/MC/finite-temp-vortex-lattice/Source/Grid/\"\n",
    "#@everywhere src_path = \"/cluster/home/fredrkro/mc/Source/Grid/\"\n",
    "out_path = \"/home/nicolai/mc/Scripts/\"\n",
    "#out_path = \"/cluster/home/fredrkro/mc/Data/ExperimentalRuns/\"\n",
    "staging_path = \"\"\n",
    "#staging_path = \"/cluster/home/fredrkro/Staging/\"\n",
    "@everywhere push!(LOAD_PATH, $src_path)\n",
    "@everywhere using CuboidModule\n",
    "\n",
    "@everywhere include(src_path*\"observables.jl\")\n",
    "@everywhere include(src_path*\"utilities.jl\")\n",
    "\n",
    "using JLD"
   ]
  },
  {
   "cell_type": "code",
   "execution_count": 3,
   "metadata": {},
   "outputs": [
    {
     "name": "stdout",
     "output_type": "stream",
     "text": [
      "\n",
      "Started script at: 17:50\n",
      "Target temp: 1.5\n",
      "f = 0.0\n",
      "n = 0\n",
      "m = 0\n",
      "L = 32\n",
      "ν = 0.0\n",
      "κ₅ = 1.0\n",
      "gs = [0.3]\n",
      "Number of vortices: 0.0\n"
     ]
    }
   ],
   "source": [
    "# Enter data directory for structure function\n",
    "fixRC()\n",
    "# We run a simulation with parameter ν supplied by script\n",
    "if length(ARGS) != 1\n",
    "    println(\"ERROR: Need g supplied as script argument.\")\n",
    "    exit(-1)\n",
    "end\n",
    "ν = 0.0         # Gauge coupling\n",
    "gs = [0.3]#[-0.5, 0.0, 0.3, 0.5, 0.7]         # Fermi surface anisotropy\n",
    "κ₅ = 1.0\n",
    "\n",
    "# TODO: We should probably benchmark vortexSnapshot and see that it is faster than mcSweeps\n",
    "# Other parameters\n",
    "M_est = 2^7  # Number of MC-steps to do at T_start before cooldown.\n",
    "M_col = 2^18 # Number of MC-steps to use for cooling down the systems\n",
    "N_steps = 2^10   # Number of temperatures to go through from high temp before reaching the final temperature. (will divide M_col) must be >= 2\n",
    "M_th = 2^18  # Number of MC-steps to do for thermalization.\n",
    "M = 2^12     # Number of measurements\n",
    "M_amp = 15   # Number of these measurements that will be amplitude measurements, i.e. we need M >= M_amp\n",
    "Δt = 2^6      # Number of MC-steps between each measurement\n",
    "# L is assumed to be even.\n",
    "L = 32     # System length\n",
    "L₁ = L\n",
    "L₂ = L\n",
    "L₃ = L\n",
    "split = (1,1,3)\n",
    "N = L₁*L₂*L₃\n",
    "# Specify extended landau gauge using n,m s.t. constant Aᵢ(Lⱼ+1) = Aᵢ(0) mod 2π\n",
    "# n | L₁ and m | L₂\n",
    "n = 0; m = 0\n",
    "f = n/L₁ - m/L₂\n",
    "T = 0.7\n",
    "T_start = 2*4.0+0.1   # Start-temperature of states when thermalizing. \n",
    "N_g = length(gs)\n",
    "\n",
    "\n",
    "# Print parameters\n",
    "println(\"\\nStarted script at: $(Dates.format(now(), \"HH:MM\"))\")\n",
    "println(\"Target temp: $(T)\")\n",
    "println(\"f = $(f)\")\n",
    "println(\"n = $(n)\")\n",
    "println(\"m = $(m)\")\n",
    "println(\"L = $(L)\")\n",
    "println(\"ν = $(ν)\")\n",
    "println(\"κ₅ = $(κ₅)\")\n",
    "println(\"gs = $(gs)\")\n",
    "if f < 0\n",
    "    println(\"Number of anti-vortices: $(-f*L₁*L₂)\")\n",
    "else\n",
    "    println(\"Number of vortices: $(f*L₁*L₂)\")\n",
    "end\n"
   ]
  },
  {
   "cell_type": "code",
   "execution_count": 4,
   "metadata": {},
   "outputs": [],
   "source": [
    "# Checking available workers\n",
    "workers_pr_state = Int(split[1]*split[2]*split[3])\n",
    "needed_workers = workers_pr_state*N_g\n",
    "if nprocs()-1 < needed_workers\n",
    "    println(\"ERROR: Only $(nprocs()-1) workers have been allocated. $(needed_workers) are needed to split all\n",
    "of the $(length(gs)) states into $(split[1]*split[2]*split[3]) subcuboids.\")\n",
    "    exit()\n",
    "end"
   ]
  },
  {
   "cell_type": "code",
   "execution_count": 5,
   "metadata": {},
   "outputs": [],
   "source": [
    "syst = SystConstants(L₁,L₂,L₃,1/gs[1]^2,ν,κ₅,n,m)\n",
    "cub = Cuboid(6, syst, split, 1/T_start; u⁺=1/√(2), u⁻=1/√(2), pid_start=2)\n",
    "setUpdates!(cub; θ_max = 3.13, u_max = 1.0/√(2), A_max = 1e-1);"
   ]
  },
  {
   "cell_type": "code",
   "execution_count": 8,
   "metadata": {},
   "outputs": [],
   "source": [
    "nMCS!(cub, 1000)"
   ]
  },
  {
   "cell_type": "markdown",
   "metadata": {},
   "source": [
    "# Checking acceptance rates"
   ]
  },
  {
   "cell_type": "code",
   "execution_count": 21,
   "metadata": {},
   "outputs": [
    {
     "name": "stdout",
     "output_type": "stream",
     "text": [
      "676.812412 seconds (25.74 M allocations: 823.282 MiB, 0.12% gc time)\n"
     ]
    }
   ],
   "source": [
    "n = 20\n",
    "A_checks = [(20/3e-3)^(i/(n-1))*3e-3 for i = 0:n-1]\n",
    "ARs = Array{Float64, 1}(undef, n)\n",
    "ARs_err = Array{Float64, 1}(undef, n)\n",
    "θ_max = 3.14; u_max = 1.0/√(2)\n",
    "@time for i = 1:length(A_checks)\n",
    "    setUpdates!(cub; θ_max = θ_max, u_max = u_max, A_max = A_checks[i])\n",
    "    ARs[i], ARs_err[i] = estimateAR!(cub)\n",
    "end"
   ]
  },
  {
   "cell_type": "code",
   "execution_count": 13,
   "metadata": {},
   "outputs": [],
   "source": [
    "plt = plot(A_checks, ARs.*100; yerror=ARs_err.*100, xaxis=:log, \n",
    "    title=\"Acceptance Rate vs. A_max\", xlabel=\"A_max\", ylabel=\"AR %\", label=\"θ_max = $(θ_max),\\n u_max = $(round(u_max; digits=3))\")\n",
    "savefig(plt, \"AR_vs_Amax.png\")"
   ]
  },
  {
   "cell_type": "markdown",
   "metadata": {},
   "source": [
    "#### $\\theta$ acceptance rates"
   ]
  },
  {
   "cell_type": "code",
   "execution_count": 9,
   "metadata": {},
   "outputs": [
    {
     "name": "stdout",
     "output_type": "stream",
     "text": [
      "659.710964 seconds (25.72 M allocations: 827.162 MiB, 0.11% gc time)\n"
     ]
    }
   ],
   "source": [
    "n_ch = 20\n",
    "#θ_checks = [(π/3e-3)^(i/(n-1))*3e-3 for i = 0:n_ch-1]\n",
    "θ_checks = collect(range(0.1, 5; length=n_ch))\n",
    "#A_checks_lin = collect(range(0.05, 10; length=n_ch))\n",
    "ARs_θ = Array{Float64, 1}(undef, n_ch)\n",
    "ARs_θ_err = Array{Float64, 1}(undef, n_ch)\n",
    "θ_max = 3.14; u_max = 1.0/√(2); A_max = 0.6\n",
    "@time for i = 1:length(θ_checks)\n",
    "    setUpdates!(cub; θ_max = θ_checks[i], u_max = u_max, A_max = A_max)\n",
    "    ARs_θ[i], ARs_θ_err[i] = estimateAR!(cub)\n",
    "end"
   ]
  },
  {
   "cell_type": "code",
   "execution_count": 12,
   "metadata": {},
   "outputs": [
    {
     "data": {
      "image/png": "[encoded data removed]",
      "text/plain": [
       "PyPlot.Figure(PyObject <Figure size 600x400 with 1 Axes>)"
      ]
     },
     "metadata": {},
     "output_type": "display_data"
    }
   ],
   "source": [
    "plt = plot(θ_checks, ARs_θ.*100; yerror=ARs_θ_err.*100, \n",
    "    title=\"AR vs. θ_max (L=$(L), fL=$(f*L), g=$(gs[1]), ν=$(ν), T=$(T))\", xlabel=\"θ_max\", ylabel=\"AR %\",\n",
    "    label=\"A_max = $(A_max), u_max = $(round(u_max; digits=3))\")\n",
    "savefig(plt, \"AR_vs_theta_A=0.6.png\")"
   ]
  },
  {
   "cell_type": "code",
   "execution_count": 13,
   "metadata": {},
   "outputs": [
    {
     "data": {
      "text/plain": [
       "0.47990098763802447"
      ]
     },
     "execution_count": 13,
     "metadata": {},
     "output_type": "execute_result"
    }
   ],
   "source": [
    "sc = fetch(cub.grid[1])\n",
    "θ_rng = sc.sim.θ_rng"
   ]
  },
  {
   "cell_type": "code",
   "execution_count": 38,
   "metadata": {},
   "outputs": [
    {
     "data": {
      "text/plain": [
       "-4.812677660328159"
      ]
     },
     "execution_count": 38,
     "metadata": {},
     "output_type": "execute_result"
    }
   ],
   "source": [
    "rand(θ_rng)"
   ]
  },
  {
   "cell_type": "code",
   "execution_count": 77,
   "metadata": {},
   "outputs": [
    {
     "data": {
      "text/plain": [
       "-0.4548666478806562"
      ]
     },
     "execution_count": 77,
     "metadata": {},
     "output_type": "execute_result"
    }
   ],
   "source": [
    "mod(rand(θ_rng), 2π)-π"
   ]
  }
 ],
 "metadata": {
  "kernelspec": {
   "display_name": "Julia -p 3 1.0.3",
   "language": "julia",
   "name": "julia--p-3-1.0"
  },
  "language_info": {
   "file_extension": ".jl",
   "mimetype": "application/julia",
   "name": "julia",
   "version": "1.0.3"
  }
 },
 "nbformat": 4,
 "nbformat_minor": 2
}
