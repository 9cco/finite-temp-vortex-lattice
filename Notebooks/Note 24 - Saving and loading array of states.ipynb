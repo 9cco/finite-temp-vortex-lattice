{
 "cells": [
  {
   "cell_type": "code",
   "execution_count": 1,
   "metadata": {},
   "outputs": [
    {
     "data": {
      "text/plain": [
       "Plots.PyPlotBackend()"
      ]
     },
     "execution_count": 1,
     "metadata": {},
     "output_type": "execute_result"
    }
   ],
   "source": [
    "using Distributions\n",
    "using Base.Test\n",
    "using StatsBase\n",
    "cd(\"../Source/\")\n",
    "include(\"types.jl\")\n",
    "include(\"functions_neighbors.jl\")\n",
    "include(\"functions_types.jl\")\n",
    "include(\"functions_symmetric_energy.jl\")\n",
    "include(\"functions_mc.jl\")\n",
    "include(\"functions_thermalization.jl\")\n",
    "include(\"functions_observables.jl\")\n",
    "cd(\"../Notebooks/\")\n",
    "using Plots\n",
    "pyplot()"
   ]
  },
  {
   "cell_type": "code",
   "execution_count": 2,
   "metadata": {},
   "outputs": [
    {
     "name": "stdout",
     "output_type": "stream",
     "text": [
      "f set to 0.015625\n",
      "β set to 8.333333333333334\n"
     ]
    }
   ],
   "source": [
    "THERM_FRAC = 1/10\n",
    "DT_MAX = 10000\n",
    "\n",
    "@everywhere const two_pi = 2π\n",
    "\n",
    "# We run a simulation with the parameters\n",
    "g = 0.3    # Gauge coupling\n",
    "ν = 0.3    # Anisotropy\n",
    "\n",
    "# Other parameters\n",
    "L = 64# System length\n",
    "L₃ = 10\n",
    "T = 0.12 #0.11039   # Temperature\n",
    "γ = 1.0    # Order parameter amplitud\n",
    "κ₅ = 1.0\n",
    "f = 1.0/L\n",
    "println(\"f set to $(f)\")\n",
    "β = 1/T\n",
    "println(\"β set to $(β)\")\n",
    "\n",
    "# Create system\n",
    "syst = SystConstants(L, L₃, γ, 1/g^2, ν, κ₅, f, β)\n",
    "sim = Controls(π/3, 0.4, 3.0)\n",
    "\n",
    "# Measurement parameters\n",
    "M = 300    # Number of measurements\n",
    "Δt = 400  # Interval between measurements (MCS)\n",
    "# Construct k-matrix where the horizontal axis contains kx ∈ [-π, π), while\n",
    "# the vertical axis contain ky ∈ [-π, π) at the second component\n",
    "k_matrix = [[2π/L*(x-1-L/2), 2π/L*(L/2-y)] for y=1:L, x=1:L];"
   ]
  },
  {
   "cell_type": "code",
   "execution_count": 3,
   "metadata": {},
   "outputs": [],
   "source": [
    "ψ = State(2, syst);"
   ]
  },
  {
   "cell_type": "code",
   "execution_count": 4,
   "metadata": {},
   "outputs": [],
   "source": [
    "M = 8\n",
    "ψ_list = [ψ for i = 1:M];"
   ]
  },
  {
   "cell_type": "code",
   "execution_count": 5,
   "metadata": {},
   "outputs": [
    {
     "data": {
      "text/plain": [
       "save (generic function with 2 methods)"
      ]
     },
     "execution_count": 5,
     "metadata": {},
     "output_type": "execute_result"
    }
   ],
   "source": [
    "# -------------------------------------------------------------------------------------------------\n",
    "# Saves the state to file with specified filename. If mode is set to \"a\" then the state is appended\n",
    "# to the file.\n",
    "function save(ψ::State, filename::AbstractString, mode::AbstractString=\"w\")\n",
    "    if mode != \"w\" && mode != \"a\"\n",
    "        println(\"$(mode) is not a valid file-opening option.\")\n",
    "        return 0\n",
    "    end\n",
    "    println(\"Saving state to file $(filename)\")\n",
    "    L = ψ.consts.L\n",
    "    L₃ = ψ.consts.L₃\n",
    "    open(filename, mode) do f\n",
    "        # Write line indicating start of state\n",
    "        write(f, \"state start\\n\")\n",
    "        # Writing system constants on top of the file\n",
    "        write(f, \"$(ψ.consts.L)\\n\")\n",
    "        write(f, \"$(ψ.consts.L₃)\\n\")\n",
    "        write(f, \"$(ψ.consts.γ)\\n\")\n",
    "        write(f, \"$(ψ.consts.g⁻²)\\n\")\n",
    "        write(f, \"$(ψ.consts.ν)\\n\")\n",
    "        write(f, \"$(ψ.consts.κ₅)\\n\")\n",
    "        write(f, \"$(ψ.consts.f)\\n\")\n",
    "        write(f, \"$(ψ.consts.β)\\n\")\n",
    "        # Then starting writing the state lattice\n",
    "        for z=1:L₃, x=1:L, y=1:L\n",
    "            ϕ = ψ.lattice[y,x,z]\n",
    "            write(f, \"$(ϕ.A[1]):$(ϕ.A[2]):$(ϕ.A[3]):$(ϕ.θ⁺):$(ϕ.θ⁻):$(ϕ.u⁺):$(ϕ.u⁻)\\n\")\n",
    "        end\n",
    "        write(f, \"end\\n\")\n",
    "    end\n",
    "    return 1\n",
    "end\n",
    "\n"
   ]
  },
  {
   "cell_type": "code",
   "execution_count": 6,
   "metadata": {},
   "outputs": [
    {
     "data": {
      "text/plain": [
       "save (generic function with 4 methods)"
      ]
     },
     "execution_count": 6,
     "metadata": {},
     "output_type": "execute_result"
    }
   ],
   "source": [
    "function save(ψ_list::Array{State, 1}, filename::AbstractString=\"state_list.data\")\n",
    "    open(filename, \"w\") do f\n",
    "        write(f, \"state array\\n\")\n",
    "        write(f, \"$(length(ψ_list))\\n\")\n",
    "        write(f, \"$(ψ_list[1].consts.L):$(ψ_list[1].consts.L₃):$(ψ_list[1].consts.γ):$(ψ_list[1].consts.g⁻²):\")\n",
    "        write(f, \"$(ψ_list[1].consts.ν):$(ψ_list[1].consts.κ₅):$(ψ_list[1].consts.f):$(ψ_list[1].consts.β)\\n\")\n",
    "        for ψ in ψ_list\n",
    "            write(f, \"state start\\n\")\n",
    "            for z=1:L₃, h=1:L, v=1:L\n",
    "                ϕ = ψ.lattice[v,h,z]\n",
    "                write(f, \"$(ϕ.A[1]):$(ϕ.A[2]):$(ϕ.A[3]):$(ϕ.θ⁺):$(ϕ.θ⁻):$(ϕ.u⁺):$(ϕ.u⁻)\\n\")\n",
    "            end\n",
    "        end\n",
    "    end\n",
    "    return 1\n",
    "end"
   ]
  },
  {
   "cell_type": "code",
   "execution_count": 9,
   "metadata": {},
   "outputs": [
    {
     "data": {
      "text/plain": [
       "addToList (generic function with 1 method)"
      ]
     },
     "execution_count": 9,
     "metadata": {},
     "output_type": "execute_result"
    }
   ],
   "source": [
    "function addToList(ψ::State, filename::AbstractString)\n",
    "    M₀ = 0\n",
    "    # Get length of existing list and check that constants are the same as state.\n",
    "    open(filename, \"r\") do file\n",
    "        line = readline(file)\n",
    "        if line != \"state array\"\n",
    "            println(\"ERROR: Start of file is $(line)\")\n",
    "            throw(DomainError())\n",
    "        end\n",
    "        M₀ = parse(Int64, readline(file))\n",
    "        M₀ > 0 || throw(DomainError())\n",
    "        c_values = split(readline(file), \":\")\n",
    "        L = parse(Int64, c_values[1])\n",
    "        L > 0 || throw(DomainError())\n",
    "        L₃ = parse(Int64, c_values[2])\n",
    "        L₃ > 0 || throw(DomainError())\n",
    "        γ = parse(Float64, c_values[3])\n",
    "        g⁻² = parse(Float64, c_values[4])\n",
    "        ν = parse(Float64, c_values[5])\n",
    "        κ₅ = parse(Float64, c_values[6])\n",
    "        f = parse(Float64, c_values[7])\n",
    "        β = parse(Float64, c_values[8])\n",
    "        if !(ψ.consts.L == L && ψ.consts.L₃ == L₃ && ψ.consts.γ == γ && ψ.consts.g⁻² == g⁻² && ψ.consts.ν == ν\n",
    "                && ψ.consts.κ₅ == κ₅ && ψ.consts.f == f && ψ.consts.β == β)\n",
    "            throw(DomainError)\n",
    "        end\n",
    "    end\n",
    "    # Save lattice to new state at the end\n",
    "    open(filename, \"a\") do file\n",
    "        write(file, \"state start\\n\")\n",
    "        for z=1:L₃, h=1:L, v=1:L\n",
    "            ϕ = ψ.lattice[v,h,z]\n",
    "            write(file, \"$(ϕ.A[1]):$(ϕ.A[2]):$(ϕ.A[3]):$(ϕ.θ⁺):$(ϕ.θ⁻):$(ϕ.u⁺):$(ϕ.u⁻)\\n\")\n",
    "        end\n",
    "    end\n",
    "    # Update length of list by 1.\n",
    "    open(filename, \"r+\") do file\n",
    "        line = readline(file)\n",
    "        write(file, \"$(M₀+1)\\n\")\n",
    "    end\n",
    "    return 1\n",
    "end"
   ]
  },
  {
   "cell_type": "code",
   "execution_count": 10,
   "metadata": {},
   "outputs": [
    {
     "data": {
      "text/plain": [
       "1"
      ]
     },
     "execution_count": 10,
     "metadata": {},
     "output_type": "execute_result"
    }
   ],
   "source": [
    "save(ψ_list, \"state_list.data\")\n",
    "ψ₂ = State(2, syst)\n",
    "addToList(ψ₂, \"state_list.data\")"
   ]
  },
  {
   "cell_type": "code",
   "execution_count": 11,
   "metadata": {},
   "outputs": [
    {
     "data": {
      "text/plain": [
       "readState (generic function with 1 method)"
      ]
     },
     "execution_count": 11,
     "metadata": {},
     "output_type": "execute_result"
    }
   ],
   "source": [
    "# load\n",
    "# -------------------------------------------------------------------------------------------------\n",
    "# The converse of the save function above: takes a text file where a state is saved and converts\n",
    "# it into a State object which it return.\n",
    "function readState(filename::AbstractString)\n",
    "    open(filename, \"r\") do file\n",
    "        line = readline(file)\n",
    "        if line != \"state start\"\n",
    "            throw(DomainError())\n",
    "        end\n",
    "        L = parse(Int64, readline(file))\n",
    "        L₃ = parse(Int64, readline(file))\n",
    "        γ = parse(Float64, readline(file))\n",
    "        g⁻² = parse(Float64, readline(file))\n",
    "        ν = parse(Float64, readline(file))\n",
    "        κ₅ = parse(Float64, readline(file))\n",
    "        f = parse(Float64, readline(file))\n",
    "        β = parse(Float64, readline(file))\n",
    "        syst = SystConstants(L, L₃, γ, g⁻², ν, κ₅, f, β)\n",
    "        \n",
    "        lattice = Array{LatticeSite, 3}(L,L,L₃)\n",
    "        for z_pos = 1:L₃, h_pos = 1:L, v_pos = 1:L\n",
    "            ϕ_values = split(readline(file), \":\")\n",
    "            A₁ = parse(Float64, ϕ_values[1])\n",
    "            A₂ = parse(Float64, ϕ_values[2])\n",
    "            A₃ = parse(Float64, ϕ_values[3])\n",
    "            θ⁺ = parse(Float64, ϕ_values[4])\n",
    "            θ⁻ = parse(Float64, ϕ_values[5])\n",
    "            u⁺ = parse(Float64, ϕ_values[6])\n",
    "            u⁻ = parse(Float64, ϕ_values[7])\n",
    "            lattice[v_pos,h_pos,z_pos] = LatticeSite([A₁, A₂, A₃], θ⁺, θ⁻, u⁺, u⁻)\n",
    "        end\n",
    "        \n",
    "        nbl = latticeNeighbors(lattice,L,L₃)\n",
    "        nnbl = latticeNextNeighbors(lattice,L,L₃)\n",
    "        nnnbl = latticeNNNeighbors(lattice,L,L₃)\n",
    "        \n",
    "        return State(lattice, syst, nbl, nnbl, nnnbl)\n",
    "    end\n",
    "end\n"
   ]
  },
  {
   "cell_type": "code",
   "execution_count": 12,
   "metadata": {},
   "outputs": [
    {
     "data": {
      "text/plain": [
       "loadStates (generic function with 1 method)"
      ]
     },
     "execution_count": 12,
     "metadata": {},
     "output_type": "execute_result"
    }
   ],
   "source": [
    "function loadStates(filename::AbstractString)\n",
    "    open(filename, \"r\") do file\n",
    "        line = readline(file)\n",
    "        if line != \"state array\"\n",
    "            throw(DomainError())\n",
    "        end\n",
    "        M = parse(Int64, readline(file))\n",
    "        M > 0 || throw(DomainError())\n",
    "        ψ_l = Array{State, 1}(M)\n",
    "        c_values = split(readline(file), \":\")\n",
    "        L = parse(Int64, c_values[1])\n",
    "        L > 0 || throw(DomainError())\n",
    "        L₃ = parse(Int64, c_values[2])\n",
    "        L₃ > 0 || throw(DomainError())\n",
    "        γ = parse(Float64, c_values[3])\n",
    "        g⁻² = parse(Float64, c_values[4])\n",
    "        ν = parse(Float64, c_values[5])\n",
    "        κ₅ = parse(Float64, c_values[6])\n",
    "        f = parse(Float64, c_values[7])\n",
    "        β = parse(Float64, c_values[8])\n",
    "        for i = 1:M\n",
    "            line = readline(file)\n",
    "            if line != \"state start\"\n",
    "                throw(DomainError())\n",
    "            end\n",
    "            syst = SystConstants(L,L₃,γ,g⁻²,ν,κ₅,f,β)\n",
    "            lattice = Array{LatticeSite, 3}(L,L,L₃)\n",
    "            for z_pos = 1:L₃, h_pos = 1:L, v_pos = 1:L\n",
    "                ϕ_values = split(readline(file), \":\")\n",
    "                A₁ = parse(Float64, ϕ_values[1])\n",
    "                A₂ = parse(Float64, ϕ_values[2])\n",
    "                A₃ = parse(Float64, ϕ_values[3])\n",
    "                θ⁺ = parse(Float64, ϕ_values[4])\n",
    "                θ⁻ = parse(Float64, ϕ_values[5])\n",
    "                u⁺ = parse(Float64, ϕ_values[6])\n",
    "                u⁻ = parse(Float64, ϕ_values[7])\n",
    "                lattice[v_pos,h_pos,z_pos] = LatticeSite([A₁, A₂, A₃], θ⁺, θ⁻, u⁺, u⁻)\n",
    "            end\n",
    "\n",
    "            nbl = latticeNeighbors(lattice,L,L₃)\n",
    "            nnbl = latticeNextNeighbors(lattice,L,L₃)\n",
    "            nnnbl = latticeNNNeighbors(lattice,L,L₃)\n",
    "\n",
    "            ψ_l[i] = State(lattice, syst, nbl, nnbl, nnnbl)\n",
    "        end\n",
    "        return ψ_l\n",
    "    end\n",
    "end"
   ]
  },
  {
   "cell_type": "code",
   "execution_count": 29,
   "metadata": {},
   "outputs": [],
   "source": [
    "ψ_l = loadStates(\"state_list.data\");"
   ]
  },
  {
   "cell_type": "code",
   "execution_count": 14,
   "metadata": {},
   "outputs": [],
   "source": [
    "ψ_ll = [ψ_list..., ψ₂];"
   ]
  },
  {
   "cell_type": "code",
   "execution_count": 30,
   "metadata": {},
   "outputs": [
    {
     "data": {
      "text/plain": [
       "3-element Array{Float64,1}:\n",
       "  25.0831 \n",
       "  -6.74244\n",
       " -12.5871 "
      ]
     },
     "execution_count": 30,
     "metadata": {},
     "output_type": "execute_result"
    }
   ],
   "source": [
    "ψ_l[1].lattice[1,1,1].A"
   ]
  },
  {
   "cell_type": "code",
   "execution_count": 32,
   "metadata": {},
   "outputs": [],
   "source": [
    "length(ψ_l) == length(ψ_ll)\n",
    "for i = 1:length(ψ_l)\n",
    "    @test ψ_l[i] == ψ_ll[i]\n",
    "end"
   ]
  },
  {
   "cell_type": "code",
   "execution_count": 40,
   "metadata": {},
   "outputs": [
    {
     "data": {
      "text/plain": [
       "State"
      ]
     },
     "execution_count": 40,
     "metadata": {},
     "output_type": "execute_result"
    }
   ],
   "source": [
    "typeof(ψ_l[1])"
   ]
  }
 ],
 "metadata": {
  "kernelspec": {
   "display_name": "Julia 0.6.4",
   "language": "julia",
   "name": "julia-0.6"
  },
  "language_info": {
   "file_extension": ".jl",
   "mimetype": "application/julia",
   "name": "julia",
   "version": "0.6.4"
  }
 },
 "nbformat": 4,
 "nbformat_minor": 2
}
