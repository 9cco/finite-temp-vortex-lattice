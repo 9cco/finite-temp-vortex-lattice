{
 "cells": [
  {
   "cell_type": "code",
   "execution_count": 1,
   "metadata": {},
   "outputs": [
    {
     "data": {
      "text/plain": [
       "Plots.PyPlotBackend()"
      ]
     },
     "execution_count": 1,
     "metadata": {},
     "output_type": "execute_result"
    }
   ],
   "source": [
    "@everywhere using Distributions\n",
    "@everywhere using Base.Test\n",
    "@everywhere using StatsBase\n",
    "@everywhere using BenchmarkTools\n",
    "using MCMCDiagnostics\n",
    "cd(\"../Source/\")\n",
    "@everywhere include(\"functions_msc.jl\")\n",
    "@everywhere include(\"types.jl\")\n",
    "@everywhere include(\"functions_neighbors.jl\")\n",
    "@everywhere include(\"functions_types.jl\")\n",
    "@everywhere include(\"functions_symmetric_energy.jl\")\n",
    "@everywhere include(\"functions_mc.jl\")\n",
    "@everywhere include(\"functions_thermalization.jl\")\n",
    "@everywhere include(\"functions_observables.jl\")\n",
    "include(\"functions_plots_and_files.jl\")\n",
    "cd(\"../Notebooks/\")\n",
    "using Plots\n",
    "pyplot()"
   ]
  },
  {
   "cell_type": "code",
   "execution_count": 12,
   "metadata": {},
   "outputs": [
    {
     "name": "stdout",
     "output_type": "stream",
     "text": [
      "f set to 0.1\n",
      "β set to 1.6666666666666667\n"
     ]
    }
   ],
   "source": [
    "THERM_FRAC = 1/10\n",
    "DT_MAX = 10000\n",
    "\n",
    "@everywhere const two_pi = 2π\n",
    "\n",
    "# We run a simulation with the parameters\n",
    "g = 0.03    # Gauge coupling\n",
    "ν = 0.3    # Anisotropy\n",
    "\n",
    "# Other parameters\n",
    "L = 10# System length\n",
    "L₃ = 10\n",
    "T = 0.6 #0.11039   # Temperature\n",
    "γ = 1.0    # Order parameter amplitud\n",
    "κ₅ = 1.0\n",
    "f = 1.0/L\n",
    "println(\"f set to $(f)\")\n",
    "β = 1/T\n",
    "println(\"β set to $(β)\")\n",
    "\n",
    "# Create system\n",
    "syst = SystConstants(L, L₃, γ, 1/g^2, ν, κ₅, f, β)\n",
    "sim = Controls(π - π/12, 0.7, 6.0)\n",
    "\n",
    "# Measurement parameters\n",
    "M = 300    # Number of measurements\n",
    "Δt = 400  # Interval between measurements (MCS)\n",
    "# Construct k-matrix where the horizontal axis contains kx ∈ [-π, π), while\n",
    "# the vertical axis contain ky ∈ [-π, π) at the second component\n",
    "k_matrix = [[2π/L*(x-1-L/2), 2π/L*(L/2-y)] for y=1:L, x=1:L];"
   ]
  },
  {
   "cell_type": "code",
   "execution_count": 4,
   "metadata": {},
   "outputs": [],
   "source": [
    "ψ = State(2, syst);"
   ]
  },
  {
   "cell_type": "markdown",
   "metadata": {},
   "source": [
    "# Benchmarking changing use of rng objects"
   ]
  },
  {
   "cell_type": "code",
   "execution_count": 3,
   "metadata": {},
   "outputs": [
    {
     "data": {
      "text/plain": [
       "proposeLocalUpdate1 (generic function with 1 method)"
      ]
     },
     "execution_count": 3,
     "metadata": {},
     "output_type": "execute_result"
    }
   ],
   "source": [
    "function proposeLocalUpdate2(ϕ::LatticeSite, sim::Controls)\n",
    "    UMAX::Int64 = 4\n",
    "    u⁺ = 1.0#mod(ϕ.u⁺ + rand(Uniform(-sim.umax,sim.umax)), UMAX) # This does not allow u⁺ = UMAX, is this a problem?\n",
    "\tu⁻ = 0.0#mod(ϕ.u⁻ + rand(Uniform(-sim.umax,sim.umax)), UMAX)\n",
    "    # Construct new configuration at lattice site.\n",
    "    #return LatticeSite([ϕ.A[1]+rand(Uniform(-sim.Amax,sim.Amax)), ϕ.A[2]+rand(Uniform(-sim.Amax,sim.Amax)),\n",
    "    #                    ϕ.A[3]+rand(Uniform(-sim.Amax,sim.Amax))],\n",
    "    #    mod(ϕ.θ⁺ + rand(Uniform(-sim.θmax,sim.θmax)), 2π), mod(ϕ.θ⁻ + rand(Uniform(-sim.θmax,sim.θmax)), 2π), \n",
    "    #    u⁺, u⁻)\n",
    "#    return LatticeSite([ϕ.A[1]+rand(Uniform(-sim.Amax,sim.Amax)), ϕ.A[2]+rand(Uniform(-sim.Amax,sim.Amax)),\n",
    "#                        ϕ.A[3]+rand(Uniform(-sim.Amax,sim.Amax))],\n",
    "#        mod(ϕ.θ⁺ + rand(Uniform(-sim.θmax,sim.θmax)), 2π), mod(ϕ.θ⁻ + rand(Uniform(-sim.θmax,sim.θmax)), 2π), \n",
    "#        u⁺, u⁻)\n",
    "    return LatticeSite([0, 0, 0],\n",
    "        mod(ϕ.θ⁺ + rand(sim.θ_rng), 2π), mod(ϕ.θ⁻ + rand(sim.θ_rng), 2π), \n",
    "        u⁺, u⁻)\n",
    "end\n",
    "function proposeLocalUpdate1(ϕ::LatticeSite, sim::Controls)\n",
    "    UMAX::Int64 = 4\n",
    "    u⁺ = 1.0#mod(ϕ.u⁺ + rand(Uniform(-sim.umax,sim.umax)), UMAX) # This does not allow u⁺ = UMAX, is this a problem?\n",
    "\tu⁻ = 0.0#mod(ϕ.u⁻ + rand(Uniform(-sim.umax,sim.umax)), UMAX)\n",
    "    # Construct new configuration at lattice site.\n",
    "    #return LatticeSite([ϕ.A[1]+rand(Uniform(-sim.Amax,sim.Amax)), ϕ.A[2]+rand(Uniform(-sim.Amax,sim.Amax)),\n",
    "    #                    ϕ.A[3]+rand(Uniform(-sim.Amax,sim.Amax))],\n",
    "    #    mod(ϕ.θ⁺ + rand(Uniform(-sim.θmax,sim.θmax)), 2π), mod(ϕ.θ⁻ + rand(Uniform(-sim.θmax,sim.θmax)), 2π), \n",
    "    #    u⁺, u⁻)\n",
    "#    return LatticeSite([ϕ.A[1]+rand(Uniform(-sim.Amax,sim.Amax)), ϕ.A[2]+rand(Uniform(-sim.Amax,sim.Amax)),\n",
    "#                        ϕ.A[3]+rand(Uniform(-sim.Amax,sim.Amax))],\n",
    "#        mod(ϕ.θ⁺ + rand(Uniform(-sim.θmax,sim.θmax)), 2π), mod(ϕ.θ⁻ + rand(Uniform(-sim.θmax,sim.θmax)), 2π), \n",
    "#        u⁺, u⁻)\n",
    "    return LatticeSite([0, 0, 0],\n",
    "        mod(ϕ.θ⁺ + rand(Uniform(-sim.θmax, sim.θmax)), 2π), mod(ϕ.θ⁻ + rand(Uniform(-sim.θmax, sim.θmax)), 2π), \n",
    "        u⁺, u⁻)\n",
    "end"
   ]
  },
  {
   "cell_type": "code",
   "execution_count": 3,
   "metadata": {},
   "outputs": [
    {
     "data": {
      "text/plain": [
       "-0.8123940293992891"
      ]
     },
     "execution_count": 3,
     "metadata": {},
     "output_type": "execute_result"
    }
   ],
   "source": [
    "rand(Uniform(-1,1))"
   ]
  },
  {
   "cell_type": "code",
   "execution_count": 4,
   "metadata": {},
   "outputs": [
    {
     "data": {
      "text/plain": [
       "Distributions.Uniform{Float64}"
      ]
     },
     "execution_count": 4,
     "metadata": {},
     "output_type": "execute_result"
    }
   ],
   "source": [
    "typeof(Uniform(-1,1))"
   ]
  },
  {
   "cell_type": "code",
   "execution_count": 22,
   "metadata": {},
   "outputs": [
    {
     "data": {
      "text/plain": [
       "BenchmarkTools.Trial: \n",
       "  memory estimate:  96 bytes\n",
       "  allocs estimate:  1\n",
       "  --------------\n",
       "  minimum time:     91.742 ns (0.00% GC)\n",
       "  median time:      132.923 ns (0.00% GC)\n",
       "  mean time:        156.785 ns (15.35% GC)\n",
       "  maximum time:     8.740 μs (97.49% GC)\n",
       "  --------------\n",
       "  samples:          10000\n",
       "  evals/sample:     911"
      ]
     },
     "execution_count": 22,
     "metadata": {},
     "output_type": "execute_result"
    }
   ],
   "source": [
    "@benchmark mod2pi(3π)"
   ]
  },
  {
   "cell_type": "code",
   "execution_count": 23,
   "metadata": {},
   "outputs": [
    {
     "data": {
      "text/plain": [
       "BenchmarkTools.Trial: \n",
       "  memory estimate:  0 bytes\n",
       "  allocs estimate:  0\n",
       "  --------------\n",
       "  minimum time:     18.357 ns (0.00% GC)\n",
       "  median time:      26.035 ns (0.00% GC)\n",
       "  mean time:        31.051 ns (0.00% GC)\n",
       "  maximum time:     4.072 μs (0.00% GC)\n",
       "  --------------\n",
       "  samples:          10000\n",
       "  evals/sample:     995"
      ]
     },
     "execution_count": 23,
     "metadata": {},
     "output_type": "execute_result"
    }
   ],
   "source": [
    "@benchmark mod(3π, 2π)"
   ]
  },
  {
   "cell_type": "code",
   "execution_count": 7,
   "metadata": {},
   "outputs": [
    {
     "data": {
      "text/plain": [
       "BenchmarkTools.Trial: \n",
       "  memory estimate:  96 bytes\n",
       "  allocs estimate:  5\n",
       "  --------------\n",
       "  minimum time:     289.980 ns (0.00% GC)\n",
       "  median time:      419.169 ns (0.00% GC)\n",
       "  mean time:        445.670 ns (5.30% GC)\n",
       "  maximum time:     37.099 μs (96.77% GC)\n",
       "  --------------\n",
       "  samples:          10000\n",
       "  evals/sample:     201"
      ]
     },
     "execution_count": 7,
     "metadata": {},
     "output_type": "execute_result"
    }
   ],
   "source": [
    "@benchmark rand(Uniform(-sim.θmax,sim.θmax))"
   ]
  },
  {
   "cell_type": "code",
   "execution_count": 8,
   "metadata": {},
   "outputs": [
    {
     "data": {
      "text/plain": [
       "BenchmarkTools.Trial: \n",
       "  memory estimate:  48 bytes\n",
       "  allocs estimate:  2\n",
       "  --------------\n",
       "  minimum time:     80.576 ns (0.00% GC)\n",
       "  median time:      116.301 ns (0.00% GC)\n",
       "  mean time:        126.045 ns (7.09% GC)\n",
       "  maximum time:     6.356 μs (96.04% GC)\n",
       "  --------------\n",
       "  samples:          10000\n",
       "  evals/sample:     923"
      ]
     },
     "execution_count": 8,
     "metadata": {},
     "output_type": "execute_result"
    }
   ],
   "source": [
    "@benchmark rand(sim.θ_rng)"
   ]
  },
  {
   "cell_type": "code",
   "execution_count": 9,
   "metadata": {},
   "outputs": [
    {
     "data": {
      "text/plain": [
       "BenchmarkTools.Trial: \n",
       "  memory estimate:  272 bytes\n",
       "  allocs estimate:  3\n",
       "  --------------\n",
       "  minimum time:     243.781 ns (0.00% GC)\n",
       "  median time:      344.408 ns (0.00% GC)\n",
       "  mean time:        400.898 ns (12.75% GC)\n",
       "  maximum time:     22.026 μs (95.94% GC)\n",
       "  --------------\n",
       "  samples:          10000\n",
       "  evals/sample:     228"
      ]
     },
     "execution_count": 9,
     "metadata": {},
     "output_type": "execute_result"
    }
   ],
   "source": [
    "@benchmark proposeLocalUpdate1(ψ.lattice[1,1,1], sim)"
   ]
  },
  {
   "cell_type": "code",
   "execution_count": 10,
   "metadata": {},
   "outputs": [
    {
     "data": {
      "text/plain": [
       "BenchmarkTools.Trial: \n",
       "  memory estimate:  272 bytes\n",
       "  allocs estimate:  3\n",
       "  --------------\n",
       "  minimum time:     244.219 ns (0.00% GC)\n",
       "  median time:      355.777 ns (0.00% GC)\n",
       "  mean time:        415.156 ns (12.18% GC)\n",
       "  maximum time:     28.966 μs (96.17% GC)\n",
       "  --------------\n",
       "  samples:          10000\n",
       "  evals/sample:     215"
      ]
     },
     "execution_count": 10,
     "metadata": {},
     "output_type": "execute_result"
    }
   ],
   "source": [
    "@benchmark proposeLocalUpdate2(ψ.lattice[1,1,1], sim)"
   ]
  },
  {
   "cell_type": "code",
   "execution_count": 17,
   "metadata": {},
   "outputs": [
    {
     "name": "stdout",
     "output_type": "stream",
     "text": [
      "  0.000011 seconds (7 allocations: 432 bytes)\n"
     ]
    }
   ],
   "source": [
    "@time proposeLocalUpdate1(ψ.lattice[1,1,1], sim);"
   ]
  },
  {
   "cell_type": "code",
   "execution_count": 18,
   "metadata": {},
   "outputs": [
    {
     "name": "stdout",
     "output_type": "stream",
     "text": [
      "  0.000012 seconds (7 allocations: 432 bytes)\n"
     ]
    }
   ],
   "source": [
    "@time proposeLocalUpdate2(ψ.lattice[1,1,1], sim);"
   ]
  },
  {
   "cell_type": "markdown",
   "metadata": {},
   "source": [
    "# Code for saving states"
   ]
  },
  {
   "cell_type": "code",
   "execution_count": 36,
   "metadata": {},
   "outputs": [],
   "source": [
    "M = 8\n",
    "ψ_list = [ψ for i = 1:M];"
   ]
  },
  {
   "cell_type": "code",
   "execution_count": 101,
   "metadata": {},
   "outputs": [
    {
     "data": {
      "text/plain": [
       "10-element Array{Int64,1}:\n",
       " 3\n",
       " 0\n",
       " 0\n",
       " 0\n",
       " 0\n",
       " 0\n",
       " 0\n",
       " 0\n",
       " 0\n",
       " 0"
      ]
     },
     "execution_count": 101,
     "metadata": {},
     "output_type": "execute_result"
    }
   ],
   "source": [
    "digits(3, 10, 10)"
   ]
  },
  {
   "cell_type": "code",
   "execution_count": 4,
   "metadata": {},
   "outputs": [
    {
     "data": {
      "text/plain": [
       "save (generic function with 4 methods)"
      ]
     },
     "execution_count": 4,
     "metadata": {},
     "output_type": "execute_result"
    }
   ],
   "source": [
    "# -------------------------------------------------------------------------------------------------\n",
    "# Saves the state to file with specified filename. If mode is set to \"a\" then the state is appended\n",
    "# to the file.\n",
    "function save(ψ::State, filename::AbstractString, mode::AbstractString=\"w\")\n",
    "    if mode != \"w\" && mode != \"a\"\n",
    "        println(\"$(mode) is not a valid file-opening option.\")\n",
    "        return 0\n",
    "    end\n",
    "    println(\"Saving state to file $(filename)\")\n",
    "    L = ψ.consts.L\n",
    "    L₃ = ψ.consts.L₃\n",
    "    open(filename, mode) do f\n",
    "        # Write line indicating start of state\n",
    "        write(f, \"state start\\n\")\n",
    "        # Writing system constants on top of the file\n",
    "        write(f, \"$(ψ.consts.L)\\n\")\n",
    "        write(f, \"$(ψ.consts.L₃)\\n\")\n",
    "        write(f, \"$(ψ.consts.γ)\\n\")\n",
    "        write(f, \"$(ψ.consts.g⁻²)\\n\")\n",
    "        write(f, \"$(ψ.consts.ν)\\n\")\n",
    "        write(f, \"$(ψ.consts.κ₅)\\n\")\n",
    "        write(f, \"$(ψ.consts.f)\\n\")\n",
    "        write(f, \"$(ψ.consts.β)\\n\")\n",
    "        # Then starting writing the state lattice\n",
    "        for z=1:L₃, x=1:L, y=1:L\n",
    "            ϕ = ψ.lattice[y,x,z]\n",
    "            write(f, \"$(ϕ.A[1]):$(ϕ.A[2]):$(ϕ.A[3]):$(ϕ.θ⁺):$(ϕ.θ⁻):$(ϕ.u⁺):$(ϕ.u⁻)\\n\")\n",
    "        end\n",
    "        write(f, \"end\\n\")\n",
    "    end\n",
    "    return 1\n",
    "end\n",
    "\n"
   ]
  },
  {
   "cell_type": "code",
   "execution_count": 5,
   "metadata": {},
   "outputs": [
    {
     "data": {
      "text/plain": [
       "save (generic function with 4 methods)"
      ]
     },
     "execution_count": 5,
     "metadata": {},
     "output_type": "execute_result"
    }
   ],
   "source": [
    "function save(ψ_list::Array{State, 1}, filename::AbstractString=\"state_list.data\")\n",
    "    MAX_NUM_DIGITS = 10\n",
    "    open(filename, \"w\") do f\n",
    "        write(f, \"state array\\n\")\n",
    "        M = digits(length(ψ_list), 10, MAX_NUM_DIGITS)\n",
    "        for i = 1:MAX_NUM_DIGITS\n",
    "            write(f, \"$(M[MAX_NUM_DIGITS-i+1])\")\n",
    "        end\n",
    "        write(f, \"\\n\")\n",
    "        write(f, \"$(ψ_list[1].consts.L):$(ψ_list[1].consts.L₃):$(ψ_list[1].consts.γ):$(ψ_list[1].consts.g⁻²):\")\n",
    "        write(f, \"$(ψ_list[1].consts.ν):$(ψ_list[1].consts.κ₅):$(ψ_list[1].consts.f):$(ψ_list[1].consts.β)\\n\")\n",
    "        for ψ in ψ_list\n",
    "            write(f, \"state start\\n\")\n",
    "            for z=1:L₃, h=1:L, v=1:L\n",
    "                ϕ = ψ.lattice[v,h,z]\n",
    "                write(f, \"$(ϕ.A[1]):$(ϕ.A[2]):$(ϕ.A[3]):$(ϕ.θ⁺):$(ϕ.θ⁻):$(ϕ.u⁺):$(ϕ.u⁻)\\n\")\n",
    "            end\n",
    "        end\n",
    "    end\n",
    "    return 1\n",
    "end"
   ]
  },
  {
   "cell_type": "code",
   "execution_count": 6,
   "metadata": {},
   "outputs": [
    {
     "data": {
      "text/plain": [
       "addToList (generic function with 1 method)"
      ]
     },
     "execution_count": 6,
     "metadata": {},
     "output_type": "execute_result"
    }
   ],
   "source": [
    "function addToList(ψ::State, filename::AbstractString)\n",
    "    MAX_NUM_DIGITS = 10 # Has to be the same as number used in save(::Array{State,1}, ::AbstractString)\n",
    "    M₀ = 0\n",
    "    # Get length of existing list and check that constants are the same as state.\n",
    "    open(filename, \"r\") do file\n",
    "        line = readline(file)\n",
    "        if line != \"state array\"\n",
    "            println(\"ERROR: Start of file is $(line)\")\n",
    "            throw(Domainerror())\n",
    "        end\n",
    "        M₀ = parse(Int64, readline(file))\n",
    "        M₀ > 0 || throw(error(\"ERROR: Number of states in list is set to $(M₀)\"))\n",
    "        c_values = split(readline(file), \":\")\n",
    "        L = parse(Int64, c_values[1])\n",
    "        L > 0 || throw(error(\"ERROR: States L is $(L)\"))\n",
    "        L₃ = parse(Int64, c_values[2])\n",
    "        L₃ > 0 || throw(error(\"ERROR: States L₃ is $(L₃)\"))\n",
    "        γ = parse(Float64, c_values[3])\n",
    "        g⁻² = parse(Float64, c_values[4])\n",
    "        ν = parse(Float64, c_values[5])\n",
    "        κ₅ = parse(Float64, c_values[6])\n",
    "        f = parse(Float64, c_values[7])\n",
    "        β = parse(Float64, c_values[8])\n",
    "        if !(ψ.consts.L == L && ψ.consts.L₃ == L₃ && ψ.consts.γ == γ && ψ.consts.g⁻² == g⁻² && ψ.consts.ν == ν\n",
    "                && ψ.consts.κ₅ == κ₅ && ψ.consts.f == f && ψ.consts.β == β)\n",
    "            throw(error(\"ERROR: Input-state's constants do not match stored constants.\n",
    "\\tL\\tL₃\\tγ\\tg⁻²\\tν\\tκ₅\\tf\\tβ\n",
    "stored:\\t$(L)\\t$(L₃)\\t$(γ)\\t$(g⁻²)\\t$(ν)\\t$(κ₅)\\t$(f)\\t$(β)\n",
    "input:\\t$(ψ.consts.L)\\t$(ψ.consts.L₃)\\t$(ψ.consts.γ)\\t$(ψ.consts.g⁻²)\\t$(ψ.consts.ν)\\t$(ψ.consts.κ₅)\\t$(ψ.consts.f)\\t$(ψ.consts.β)\"))\n",
    "        end\n",
    "    end\n",
    "    # Save lattice to new state at the end\n",
    "    open(filename, \"a\") do file\n",
    "        write(file, \"state start\\n\")\n",
    "        for z=1:L₃, h=1:L, v=1:L\n",
    "            ϕ = ψ.lattice[v,h,z]\n",
    "            write(file, \"$(ϕ.A[1]):$(ϕ.A[2]):$(ϕ.A[3]):$(ϕ.θ⁺):$(ϕ.θ⁻):$(ϕ.u⁺):$(ϕ.u⁻)\\n\")\n",
    "        end\n",
    "    end\n",
    "    # Update length of list by 1.\n",
    "    open(filename, \"r+\") do file\n",
    "        line = readline(file)\n",
    "        M_list = digits(M₀+1, 10, MAX_NUM_DIGITS)\n",
    "        for i = 1:MAX_NUM_DIGITS\n",
    "            write(file, \"$(M_list[MAX_NUM_DIGITS-i+1])\")\n",
    "        end\n",
    "        write(file, \"\\n\")\n",
    "    end\n",
    "    return 1\n",
    "end"
   ]
  },
  {
   "cell_type": "code",
   "execution_count": 105,
   "metadata": {},
   "outputs": [
    {
     "data": {
      "text/plain": [
       "1"
      ]
     },
     "execution_count": 105,
     "metadata": {},
     "output_type": "execute_result"
    }
   ],
   "source": [
    "save(ψ_list, \"state_list.data\")"
   ]
  },
  {
   "cell_type": "code",
   "execution_count": 107,
   "metadata": {},
   "outputs": [
    {
     "name": "stdout",
     "output_type": "stream",
     "text": [
      "Read M₀ = 4\n",
      "Read L = 64\n",
      "Read M₀ = 5\n",
      "Read L = 64\n",
      "Read M₀ = 6\n",
      "Read L = 64\n",
      "Read M₀ = 7\n",
      "Read L = 64\n",
      "Read M₀ = 8\n",
      "Read L = 64\n",
      "Read M₀ = 9\n",
      "Read L = 64\n"
     ]
    }
   ],
   "source": [
    "\n",
    "for i = 1:6\n",
    "    addToList(State(2, syst), \"state_list.data\")\n",
    "end\n"
   ]
  },
  {
   "cell_type": "code",
   "execution_count": 106,
   "metadata": {},
   "outputs": [
    {
     "name": "stdout",
     "output_type": "stream",
     "text": [
      "Read M₀ = 3\n",
      "Read L = 64\n"
     ]
    },
    {
     "data": {
      "text/plain": [
       "1"
      ]
     },
     "execution_count": 106,
     "metadata": {},
     "output_type": "execute_result"
    }
   ],
   "source": [
    "addToList(State(2,syst), \"state_list.data\")"
   ]
  },
  {
   "cell_type": "code",
   "execution_count": 68,
   "metadata": {},
   "outputs": [],
   "source": [
    "ψ_l = loadStates(\"state_list.data\");"
   ]
  },
  {
   "cell_type": "code",
   "execution_count": 92,
   "metadata": {},
   "outputs": [
    {
     "data": {
      "text/plain": [
       "24"
      ]
     },
     "execution_count": 92,
     "metadata": {},
     "output_type": "execute_result"
    }
   ],
   "source": [
    "open(\"state_list.data\", \"r+\") do file\n",
    "    line = readline(file)\n",
    "    write(file, \"eselet slurer på halen\\n\")\n",
    "end"
   ]
  },
  {
   "cell_type": "code",
   "execution_count": 7,
   "metadata": {},
   "outputs": [
    {
     "data": {
      "text/plain": [
       "loadStates (generic function with 1 method)"
      ]
     },
     "execution_count": 7,
     "metadata": {},
     "output_type": "execute_result"
    }
   ],
   "source": [
    "function loadStates(filename::AbstractString)\n",
    "    open(filename, \"r\") do file\n",
    "        line = readline(file)\n",
    "        if line != \"state array\"\n",
    "            throw(DomainError())\n",
    "        end\n",
    "        M = parse(Int64, readline(file))\n",
    "        M > 0 || throw(DomainError())\n",
    "        ψ_l = Array{State, 1}(M)\n",
    "        c_values = split(readline(file), \":\")\n",
    "        L = parse(Int64, c_values[1])\n",
    "        L > 0 || throw(DomainError())\n",
    "        L₃ = parse(Int64, c_values[2])\n",
    "        L₃ > 0 || throw(DomainError())\n",
    "        γ = parse(Float64, c_values[3])\n",
    "        g⁻² = parse(Float64, c_values[4])\n",
    "        ν = parse(Float64, c_values[5])\n",
    "        κ₅ = parse(Float64, c_values[6])\n",
    "        f = parse(Float64, c_values[7])\n",
    "        β = parse(Float64, c_values[8])\n",
    "        for i = 1:M\n",
    "            line = readline(file)\n",
    "            if line != \"state start\"\n",
    "                throw(DomainError())\n",
    "            end\n",
    "            syst = SystConstants(L,L₃,γ,g⁻²,ν,κ₅,f,β)\n",
    "            lattice = Array{LatticeSite, 3}(L,L,L₃)\n",
    "            for z_pos = 1:L₃, h_pos = 1:L, v_pos = 1:L\n",
    "                ϕ_values = split(readline(file), \":\")\n",
    "                A₁ = parse(Float64, ϕ_values[1])\n",
    "                A₂ = parse(Float64, ϕ_values[2])\n",
    "                A₃ = parse(Float64, ϕ_values[3])\n",
    "                θ⁺ = parse(Float64, ϕ_values[4])\n",
    "                θ⁻ = parse(Float64, ϕ_values[5])\n",
    "                u⁺ = parse(Float64, ϕ_values[6])\n",
    "                u⁻ = parse(Float64, ϕ_values[7])\n",
    "                lattice[v_pos,h_pos,z_pos] = LatticeSite([A₁, A₂, A₃], θ⁺, θ⁻, u⁺, u⁻)\n",
    "            end\n",
    "\n",
    "            nbl = latticeNeighbors(lattice,L,L₃)\n",
    "            nnbl = latticeNextNeighbors(lattice,L,L₃)\n",
    "            nnnbl = latticeNNNeighbors(lattice,L,L₃)\n",
    "\n",
    "            ψ_l[i] = State(lattice, syst, nbl, nnbl, nnnbl)\n",
    "        end\n",
    "        return ψ_l\n",
    "    end\n",
    "end"
   ]
  },
  {
   "cell_type": "markdown",
   "metadata": {},
   "source": [
    "# Make thermal averages use this functionality"
   ]
  },
  {
   "cell_type": "code",
   "execution_count": 8,
   "metadata": {},
   "outputs": [],
   "source": [
    "@everywhere function addToChannel(r_c::RemoteChannel{Channel{Int64}})\n",
    "    put!(r_c, floor(Int64, 10*rand()))\n",
    "    return 1\n",
    "end"
   ]
  },
  {
   "cell_type": "code",
   "execution_count": 30,
   "metadata": {},
   "outputs": [
    {
     "name": "stdout",
     "output_type": "stream",
     "text": [
      "RemoteChannel{Channel{Int64}}(1, 1, 16)\n"
     ]
    },
    {
     "ename": "LoadError",
     "evalue": "\u001b[91mOn worker 2:\n\u001b[91mUndefVarError: addToChannel not defined\u001b[39m\n#192 at ./distributed/macros.jl:20\n#103 at ./distributed/process_messages.jl:264 [inlined]\nrun_work_thunk at ./distributed/process_messages.jl:56\nrun_work_thunk at ./distributed/process_messages.jl:65 [inlined]\n#96 at ./event.jl:73\u001b[39m",
     "output_type": "error",
     "traceback": [
      "\u001b[91mOn worker 2:\n\u001b[91mUndefVarError: addToChannel not defined\u001b[39m\n#192 at ./distributed/macros.jl:20\n#103 at ./distributed/process_messages.jl:264 [inlined]\nrun_work_thunk at ./distributed/process_messages.jl:56\nrun_work_thunk at ./distributed/process_messages.jl:65 [inlined]\n#96 at ./event.jl:73\u001b[39m",
      "",
      "Stacktrace:",
      " [1] \u001b[1m#remotecall_fetch#141\u001b[22m\u001b[22m\u001b[1m(\u001b[22m\u001b[22m::Array{Any,1}, ::Function, ::Function, ::Base.Distributed.Worker, ::Base.Distributed.RRID, ::Vararg{Any,N} where N\u001b[1m)\u001b[22m\u001b[22m at \u001b[1m./distributed/remotecall.jl:359\u001b[22m\u001b[22m",
      " [2] \u001b[1mremotecall_fetch\u001b[22m\u001b[22m\u001b[1m(\u001b[22m\u001b[22m::Function, ::Base.Distributed.Worker, ::Base.Distributed.RRID, ::Vararg{Any,N} where N\u001b[1m)\u001b[22m\u001b[22m at \u001b[1m./distributed/remotecall.jl:351\u001b[22m\u001b[22m",
      " [3] \u001b[1m#remotecall_fetch#144\u001b[22m\u001b[22m\u001b[1m(\u001b[22m\u001b[22m::Array{Any,1}, ::Function, ::Function, ::Int64, ::Base.Distributed.RRID, ::Vararg{Any,N} where N\u001b[1m)\u001b[22m\u001b[22m at \u001b[1m./distributed/remotecall.jl:372\u001b[22m\u001b[22m",
      " [4] \u001b[1mcall_on_owner\u001b[22m\u001b[22m\u001b[1m(\u001b[22m\u001b[22m::Function, ::Future\u001b[1m)\u001b[22m\u001b[22m at \u001b[1m./distributed/remotecall.jl:445\u001b[22m\u001b[22m",
      " [5] \u001b[1mfetch\u001b[22m\u001b[22m\u001b[1m(\u001b[22m\u001b[22m::Future\u001b[1m)\u001b[22m\u001b[22m at \u001b[1m./distributed/remotecall.jl:465\u001b[22m\u001b[22m",
      " [6] \u001b[1minclude_string\u001b[22m\u001b[22m\u001b[1m(\u001b[22m\u001b[22m::String, ::String\u001b[1m)\u001b[22m\u001b[22m at \u001b[1m./loading.jl:522\u001b[22m\u001b[22m",
      " [7] \u001b[1mexecute_request\u001b[22m\u001b[22m\u001b[1m(\u001b[22m\u001b[22m::ZMQ.Socket, ::IJulia.Msg\u001b[1m)\u001b[22m\u001b[22m at \u001b[1m/home/nicolai/.julia/v0.6/IJulia/src/execute_request.jl:193\u001b[22m\u001b[22m",
      " [8] \u001b[1m(::Compat.#inner#6{Array{Any,1},IJulia.#execute_request,Tuple{ZMQ.Socket,IJulia.Msg}})\u001b[22m\u001b[22m\u001b[1m(\u001b[22m\u001b[22m\u001b[1m)\u001b[22m\u001b[22m at \u001b[1m/home/nicolai/.julia/v0.6/Compat/src/Compat.jl:189\u001b[22m\u001b[22m",
      " [9] \u001b[1meventloop\u001b[22m\u001b[22m\u001b[1m(\u001b[22m\u001b[22m::ZMQ.Socket\u001b[1m)\u001b[22m\u001b[22m at \u001b[1m/home/nicolai/.julia/v0.6/IJulia/src/eventloop.jl:8\u001b[22m\u001b[22m",
      " [10] \u001b[1m(::IJulia.##13#16)\u001b[22m\u001b[22m\u001b[1m(\u001b[22m\u001b[22m\u001b[1m)\u001b[22m\u001b[22m at \u001b[1m./task.jl:335\u001b[22m\u001b[22m"
     ]
    }
   ],
   "source": [
    "c = Channel{Int64}(5)\n",
    "r_c = RemoteChannel(()->Channel{Int64}(5))\n",
    "future = @spawn addToChannel(r_c)\n",
    "sleep(1)\n",
    "if isready(r_c)\n",
    "    println(\"First!\")\n",
    "    println(take!(r_c))\n",
    "end\n",
    "println(r_c)\n",
    "println(fetch(future))\n",
    "if isready(r_c)\n",
    "    println(\"Second!\")\n",
    "    println(take!(r_c))\n",
    "end"
   ]
  },
  {
   "cell_type": "code",
   "execution_count": 2,
   "metadata": {},
   "outputs": [],
   "source": [
    "# --------------------------------------------------------------------------------------------------\n",
    "# Complimentary function to measurementSeries! Makes M measurements of the state and writes these\n",
    "# state-measurements to the remote channel. Each measurement is done with Δt MCS between them.\n",
    "@everywhere function measureStates!(ψ::State, sim::Controls, M::Int64, Δt::Int64, r_chan::RemoteChannel{Channel{State}})\n",
    "#    u⁺_list = Array{Float64, 1}(M); u⁻_list = Array{Float64, 1}(M)\n",
    "#    u⁺_list[1], u⁻_list[1] = meanAmplitudes(ψ)\n",
    "    put!(r_chan, ψ) # First measurement\n",
    "\n",
    "    for m = 2:M\n",
    "        nMCS(ψ, sim, Δt)\n",
    "        put!(r_chan, ψ)\n",
    "    end\n",
    "    \n",
    "    return 1\n",
    "end"
   ]
  },
  {
   "cell_type": "code",
   "execution_count": 3,
   "metadata": {},
   "outputs": [],
   "source": [
    "# --------------------------------------------------------------------------------------------------\n",
    "# Complimentary function to measurementSeries! Makes M measurements of the state and writes these\n",
    "# state-measurements to the remote channel. Each measurement is done with Δt MCS between them.\n",
    "@everywhere function measureStates2!(ψ::State, sim::Controls, M::Int64, Δt::Int64)\n",
    "#    u⁺_list = Array{Float64, 1}(M); u⁻_list = Array{Float64, 1}(M)\n",
    "#    u⁺_list[1], u⁻_list[1] = meanAmplitudes(ψ)\n",
    "    ψ_res = Array{State,1}(M)\n",
    "    ψ_res[1] = ψ # First measurement\n",
    "\n",
    "    for m = 2:M\n",
    "        nMCS(ψ, sim, Δt)\n",
    "        ψ_res[m] = ψ\n",
    "    end\n",
    "    \n",
    "    return ψ_res\n",
    "end"
   ]
  },
  {
   "cell_type": "code",
   "execution_count": 4,
   "metadata": {},
   "outputs": [
    {
     "data": {
      "text/plain": [
       "addChannelToDiskList (generic function with 1 method)"
      ]
     },
     "execution_count": 4,
     "metadata": {},
     "output_type": "execute_result"
    }
   ],
   "source": [
    "function addChannelToDiskList(r_chan::RemoteChannel{Channel{State}}, filename::AbstractString)\n",
    "    while isready(r_chan)\n",
    "        addToList(take!(r_chan), filename)\n",
    "    end\n",
    "    return 1\n",
    "end"
   ]
  },
  {
   "cell_type": "code",
   "execution_count": 5,
   "metadata": {},
   "outputs": [
    {
     "data": {
      "text/plain": [
       "measureStatesMaster! (generic function with 1 method)"
      ]
     },
     "execution_count": 5,
     "metadata": {},
     "output_type": "execute_result"
    }
   ],
   "source": [
    "# --------------------------------------------------------------------------------------------------\n",
    "# Complimentary function to measurementSeries! Makes M measurements of the state and writes these\n",
    "# state-measurements to the remote channel. Each measurement is done with Δt MCS between them.\n",
    "function measureStatesMaster!(ψ::State, sim::Controls, M::Int64, Δt::Int64, r_chan::RemoteChannel{Channel{State}},\n",
    "        filename::AbstractString)\n",
    "    \n",
    "    PROG_NUM = 10\n",
    "#    u⁺_list = Array{Float64, 1}(M); u⁻_list = Array{Float64, 1}(M)\n",
    "#    u⁺_list[1], u⁻_list[1] = meanAmplitudes(ψ)\n",
    "    save([ψ], filename) # First measurement starts a state-list on disk.\n",
    "    \n",
    "    prog_int = max(1,floor(Int64, M/PROG_NUM))\n",
    "    # Preform remaining (M-1) measurements\n",
    "    for m = 2:M\n",
    "        nMCS(ψ, sim, Δt)                       # Wait Δt MCS\n",
    "        addToList(ψ, filename)                 # Write state to disk\n",
    "        #if isready(r_chan)\n",
    "        #    addChannelToDiskList(r_chan, filename)   # Update disk with possible state measurements from workers.\n",
    "        #end\n",
    "        # Print measurement progress\n",
    "        if m % prog_int == 0\n",
    "            println(\"Measurement progress: $(Int(round(m/M*100,0)))%\")\n",
    "            flush(STDOUT)\n",
    "        end\n",
    "    end\n",
    "    \n",
    "    return 1\n",
    "end"
   ]
  },
  {
   "cell_type": "code",
   "execution_count": 6,
   "metadata": {},
   "outputs": [
    {
     "data": {
      "text/plain": [
       "measureStatesMaster2! (generic function with 1 method)"
      ]
     },
     "execution_count": 6,
     "metadata": {},
     "output_type": "execute_result"
    }
   ],
   "source": [
    "# --------------------------------------------------------------------------------------------------\n",
    "# Complimentary function to measurementSeries! Makes M measurements of the state and writes these\n",
    "# state-measurements to the remote channel. Each measurement is done with Δt MCS between them.\n",
    "function measureStatesMaster2!(ψ::State, sim::Controls, M::Int64, Δt::Int64,\n",
    "        filename::AbstractString)\n",
    "    \n",
    "    PROG_NUM = 10\n",
    "    ψ_res = Array{State, 1}(M)\n",
    "#    u⁺_list = Array{Float64, 1}(M); u⁻_list = Array{Float64, 1}(M)\n",
    "#    u⁺_list[1], u⁻_list[1] = meanAmplitudes(ψ)\n",
    "    ψ_res[1] = ψ # First measurement\n",
    "    \n",
    "    prog_int = max(1,floor(Int64, M/PROG_NUM))\n",
    "    # Preform remaining (M-1) measurements\n",
    "    for m = 2:M\n",
    "        nMCS(ψ, sim, Δt)                       # Wait Δt MCS\n",
    "        ψ_res[m] = ψ\n",
    "        \n",
    "        # Print measurement progress\n",
    "        if m % prog_int == 0\n",
    "            println(\"Measurement progress: $(Int(round(m/M*100,0)))%\")\n",
    "            flush(STDOUT)\n",
    "        end\n",
    "    end\n",
    "    \n",
    "    return ψ_res\n",
    "end"
   ]
  },
  {
   "cell_type": "code",
   "execution_count": 7,
   "metadata": {},
   "outputs": [
    {
     "data": {
      "text/plain": [
       "measurementSeries! (generic function with 1 method)"
      ]
     },
     "execution_count": 7,
     "metadata": {},
     "output_type": "execute_result"
    }
   ],
   "source": [
    "function writeChannel(r_chan::RemoteChannel{Channel{State}}, filename::AbstractString)\n",
    "    while true\n",
    "        ψ = take!(r_chan)\n",
    "        addToList(ψ, filename)\n",
    "    end\n",
    "end\n",
    "\n",
    "# --------------------------------------------------------------------------------------------------\n",
    "# Given np+1 uncorrelated states in ψ_list we use these to make M measurements of the states by splitting\n",
    "# the M measurements on the np workers as well as the master process. The measured states are continuously\n",
    "# stored in an file which can later be read to produce a measurement array of lattices.\n",
    "function measurementSeries!(ψ_list::Array{State,1}, sim::Controls, M::Int64, Δt::Int64; filename=\"state_list.data\")\n",
    "    syst = ψ_list[1].consts\n",
    "    L = syst.L\n",
    "    \n",
    "    M = M-1 # We use one of the states in ψ_list as first measurement to initialize file.\n",
    "    # Setup storage channel for parallel processes\n",
    "    ψ_chan = RemoteChannel(()->Channel{State}(M))\n",
    "    \n",
    "     # Splitting the problem into np sub-problems.\n",
    "    np = nprocs()-1\n",
    "    # Minimum amount of work pr. process\n",
    "    M_min = Int(floor(M/np))\n",
    "    # Number of workers doing +1 extra work\n",
    "    nw = M%np\n",
    "    \n",
    "    # Make sure that we have enough states\n",
    "    length(ψ_list) >= np+1 || throw(error(\"ERROR: Not enough states in list\"))\n",
    "    \n",
    "    # Initialize file\n",
    "    save([ψ_list[np+1]], filename)\n",
    "    \n",
    "    println(\"Starting $(M) measurements on $(np) processes doing max $(M_min + Int(ceil(nw/np))) measurements each\n",
    "on a $(L)×$(L) system giving in total $(M+1) measurements to file\")\n",
    "    \n",
    "    @async writeChannel(ψ_chan, filename)\n",
    "    @sync begin\n",
    "        # Start +1 workers\n",
    "        for i = 1:nw\n",
    "            @async remotecall_fetch(measureStates!, i+1, ψ_list[i], sim, M_min+1, Δt, ψ_chan)\n",
    "        end\n",
    "        # Start remaining workers\n",
    "        for i = 1:np-nw\n",
    "            @async remotecall_fetch(measureStates!, i+1+nw, ψ_list[nw+i], sim, M_min, Δt, ψ_chan)\n",
    "        end\n",
    "        # Make the master process work as well\n",
    "        #measureStatesMaster!(ψ_list[np], sim, M_min, Δt, ψ_chan, filename)\n",
    "    end\n",
    "        \n",
    "    println(\"Measurements done, collecting parallell results.\")\n",
    "    # Collect results\n",
    "    #for i = 1:np-1\n",
    "    #    fetch(futures[i])\n",
    "    #end\n",
    "    \n",
    "    #measureStatesMaster!(ψ_list[np], sim, M_min, Δt, ψ_chan, filename)\n",
    "    \n",
    "    #println(\"Parallell measurements done. Writing remaining measurements to disk.\")\n",
    "    \n",
    "    println(\"Measurements saved to:\\n$(pwd())/$(filename)\")\n",
    "    return 1\n",
    "end"
   ]
  },
  {
   "cell_type": "code",
   "execution_count": 8,
   "metadata": {},
   "outputs": [
    {
     "data": {
      "text/plain": [
       "measurementSeries2! (generic function with 1 method)"
      ]
     },
     "execution_count": 8,
     "metadata": {},
     "output_type": "execute_result"
    }
   ],
   "source": [
    "# Alternative that stores all states in memory before saving to file.\n",
    "# --------------------------------------------------------------------------------------------------\n",
    "# Given np+1 uncorrelated states in ψ_list we use these to make M measurements of the states by splitting\n",
    "# the M measurements on the np workers as well as the master process. The measured states are continuously\n",
    "# stored in an file which can later be read to produce a measurement array of lattices.\n",
    "function measurementSeries2!(ψ_list::Array{State,1}, sim::Controls, M::Int64, Δt::Int64; filename=\"state_list.data\")\n",
    "    syst = ψ_list[1].consts\n",
    "    L = syst.L\n",
    "    \n",
    "    # Setup storage channel for parallel processes\n",
    "    ψ_res = Array{State, 1}(M)\n",
    "    \n",
    "     # Splitting the problem into np sub-problems.\n",
    "    np = nprocs()\n",
    "    # Minimum amount of work pr. process\n",
    "    M_min = Int(floor(M/np))\n",
    "    # Number of workers doing +1 extra work\n",
    "    nw = M%np\n",
    "    \n",
    "    # Make sure that we have enough states\n",
    "    length(ψ_list) >= np || throw(error(\"ERROR: Not enough states in list\"))\n",
    "    \n",
    "    # Setup worker futures\n",
    "    futures = [Future() for i=1:(np-1)]\n",
    "    \n",
    "    println(\"Starting $(M) measurements on $(np) processes doing max $(M_min + Int(ceil(nw/np))) measurements each\n",
    "on a $(L)×$(L) system, corresponding to $((M_min+ceil(Int64, nw/np))*Δt) MCS pr. process\")\n",
    "    \n",
    "    # Start +1 workers\n",
    "    for i = 1:nw\n",
    "        futures[i] = @spawn measureStates2!(ψ_list[i], sim, M_min+1, Δt)\n",
    "    end\n",
    "    # Start remaining workers\n",
    "    for i = 1:np-nw-1\n",
    "        futures[i+nw] = @spawn measureStates2!(ψ_list[nw+i], sim, M_min, Δt)\n",
    "    end\n",
    "    # Make the master process work as well\n",
    "    ψ_res[1:M_min] = measureStatesMaster2!(ψ_list[np], sim, M_min, Δt, filename)\n",
    "        \n",
    "    println(\"Measurements done, collecting parallell results.\")\n",
    "    # Collect results\n",
    "    for i = 1:nw\n",
    "        ψ_res[1+M_min + (i-1)*(M_min+1) : M_min + i*(M_min+1)] = fetch(futures[i])\n",
    "    end\n",
    "    for i = 1:np-nw-1\n",
    "        ψ_res[M_min + nw*(M_min+1)+1 + (i-1)*M_min : M_min + nw*(M_min+1) + i*M_min] = fetch(futures[i+nw])\n",
    "    end\n",
    "    \n",
    "    println(\"Parallell measurements done. Writing remaining measurements to disk.\")\n",
    "    save(ψ_res, filename)\n",
    "    \n",
    "    println(\"Measurements saved to:\\n$(pwd())/$(filename)\")\n",
    "    return 1\n",
    "end"
   ]
  },
  {
   "cell_type": "code",
   "execution_count": 13,
   "metadata": {},
   "outputs": [
    {
     "name": "stdout",
     "output_type": "stream",
     "text": [
      "Thermalizing 4 states\n",
      "Number of parallel workers: 3\n",
      "Worker 1 initially thermalised after 19 steps\n",
      "Worker 2 initially thermalised after 15 steps\n",
      "Worker 3 initially thermalised after 61 steps\n",
      "All workers initially thermalized after 1001 steps\n",
      "Checking average ∈ [1002, 1272]\n",
      "Thermalization successful between T = [1002, 1272]\n",
      "Worker 1: ΔE = 3.4913954662934925 ± 24.66561959201963\n",
      "Worker 2: ΔE = 4.675266447768666 ± 29.851677868184897\n",
      "Worker 3: ΔE = 1.4027209847022697 ± 25.411775916274035\n",
      "Final thermalization time: 1392\n",
      " 14.124385 seconds (15.95 M allocations: 846.280 MiB, 6.60% gc time)\n",
      "Calculating energies and acceptance rates\n",
      "Saving plots to files\n",
      " 80.911532 seconds (70.28 M allocations: 3.574 GiB, 3.08% gc time)\n"
     ]
    }
   ],
   "source": [
    "@time (t₀, ψ_ref, sim_ref, ψ_w, sim_w) = initializeParallelStatesS(syst, sim);"
   ]
  },
  {
   "cell_type": "code",
   "execution_count": 14,
   "metadata": {
    "scrolled": true
   },
   "outputs": [
    {
     "name": "stdout",
     "output_type": "stream",
     "text": [
      "Starting 29 measurements on 3 processes doing max 10 measurements each\n",
      "on a 10×10 system giving in total 30 measurements to file\n",
      "Measurements done, collecting parallell results.\n",
      "Measurements saved to:\n",
      "/home/nicolai/Documents/Work/PhD/Numerikk/MC/finite-temp-vortex-lattice/Notebooks/state_list.data\n",
      "Starting 29 measurements on 3 processes doing max 10 measurements each\n",
      "on a 10×10 system giving in total 30 measurements to file\n",
      "Measurements done, collecting parallell results.\n",
      "Measurements saved to:\n",
      "/home/nicolai/Documents/Work/PhD/Numerikk/MC/finite-temp-vortex-lattice/Notebooks/state_list.data\n",
      "Starting 29 measurements on 3 processes doing max 10 measurements each\n",
      "on a 10×10 system giving in total 30 measurements to file\n",
      "Measurements done, collecting parallell results.\n",
      "Measurements saved to:\n",
      "/home/nicolai/Documents/Work/PhD/Numerikk/MC/finite-temp-vortex-lattice/Notebooks/state_list.data\n",
      "Starting 29 measurements on 3 processes doing max 10 measurements each\n",
      "on a 10×10 system giving in total 30 measurements to file\n",
      "Measurements done, collecting parallell results.\n",
      "Measurements saved to:\n",
      "/home/nicolai/Documents/Work/PhD/Numerikk/MC/finite-temp-vortex-lattice/Notebooks/state_list.data\n"
     ]
    },
    {
     "data": {
      "text/plain": [
       "BenchmarkTools.Trial: \n",
       "  memory estimate:  67.81 MiB\n",
       "  allocs estimate:  2612843\n",
       "  --------------\n",
       "  minimum time:     13.351 s (0.27% GC)\n",
       "  median time:      13.351 s (0.27% GC)\n",
       "  mean time:        13.351 s (0.27% GC)\n",
       "  maximum time:     13.351 s (0.27% GC)\n",
       "  --------------\n",
       "  samples:          1\n",
       "  evals/sample:     1"
      ]
     },
     "execution_count": 14,
     "metadata": {},
     "output_type": "execute_result"
    }
   ],
   "source": [
    "@benchmark measurementSeries!([ψ_ref, ψ_w...], sim_ref, 30, Δt; filename=\"state_list.data\")"
   ]
  },
  {
   "cell_type": "code",
   "execution_count": 15,
   "metadata": {
    "scrolled": true
   },
   "outputs": [
    {
     "name": "stdout",
     "output_type": "stream",
     "text": [
      "Starting 30 measurements on 4 processes doing max 8 measurements each\n",
      "on a 10×10 system, corresponding to 3200 MCS pr. process\n",
      "Measurement progress: 29%\n",
      "Measurement progress: 43%\n",
      "Measurement progress: 57%\n",
      "Measurement progress: 71%\n",
      "Measurement progress: 86%\n",
      "Measurement progress: 100%\n",
      "Measurements done, collecting parallell results.\n",
      "Parallell measurements done. Writing remaining measurements to disk.\n",
      "Measurements saved to:\n",
      "/home/nicolai/Documents/Work/PhD/Numerikk/MC/finite-temp-vortex-lattice/Notebooks/state_list.data\n",
      "Starting 30 measurements on 4 processes doing max 8 measurements each\n",
      "on a 10×10 system, corresponding to 3200 MCS pr. process\n",
      "Measurement progress: 29%\n",
      "Measurement progress: 43%\n",
      "Measurement progress: 57%\n",
      "Measurement progress: 71%\n",
      "Measurement progress: 86%\n",
      "Measurement progress: 100%\n",
      "Measurements done, collecting parallell results.\n",
      "Parallell measurements done. Writing remaining measurements to disk.\n",
      "Measurements saved to:\n",
      "/home/nicolai/Documents/Work/PhD/Numerikk/MC/finite-temp-vortex-lattice/Notebooks/state_list.data\n",
      "Starting 30 measurements on 4 processes doing max 8 measurements each\n",
      "on a 10×10 system, corresponding to 3200 MCS pr. process\n",
      "Measurement progress: 29%\n",
      "Measurement progress: 43%\n",
      "Measurement progress: 57%\n",
      "Measurement progress: 71%\n",
      "Measurement progress: 86%\n",
      "Measurement progress: 100%\n",
      "Measurements done, collecting parallell results.\n",
      "Parallell measurements done. Writing remaining measurements to disk.\n",
      "Measurements saved to:\n",
      "/home/nicolai/Documents/Work/PhD/Numerikk/MC/finite-temp-vortex-lattice/Notebooks/state_list.data\n",
      "Starting 30 measurements on 4 processes doing max 8 measurements each\n",
      "on a 10×10 system, corresponding to 3200 MCS pr. process\n",
      "Measurement progress: 29%\n",
      "Measurement progress: 43%\n",
      "Measurement progress: 57%\n",
      "Measurement progress: 71%\n",
      "Measurement progress: 86%\n",
      "Measurement progress: 100%\n",
      "Measurements done, collecting parallell results.\n",
      "Parallell measurements done. Writing remaining measurements to disk.\n",
      "Measurements saved to:\n",
      "/home/nicolai/Documents/Work/PhD/Numerikk/MC/finite-temp-vortex-lattice/Notebooks/state_list.data\n"
     ]
    },
    {
     "data": {
      "text/plain": [
       "BenchmarkTools.Trial: \n",
       "  memory estimate:  1.25 GiB\n",
       "  allocs estimate:  25245213\n",
       "  --------------\n",
       "  minimum time:     9.575 s (7.17% GC)\n",
       "  median time:      9.575 s (7.17% GC)\n",
       "  mean time:        9.575 s (7.17% GC)\n",
       "  maximum time:     9.575 s (7.17% GC)\n",
       "  --------------\n",
       "  samples:          1\n",
       "  evals/sample:     1"
      ]
     },
     "execution_count": 15,
     "metadata": {},
     "output_type": "execute_result"
    }
   ],
   "source": [
    "@benchmark measurementSeries2!([ψ_ref, ψ_w...], sim_ref, 30, Δt; filename=\"state_list.data\")"
   ]
  },
  {
   "cell_type": "code",
   "execution_count": 41,
   "metadata": {},
   "outputs": [
    {
     "data": {
      "text/plain": [
       "3"
      ]
     },
     "execution_count": 41,
     "metadata": {},
     "output_type": "execute_result"
    }
   ],
   "source": [
    "ψ_list = [State(2, syst) for i = 1:nprocs()];\n",
    "length(ψ_list)"
   ]
  },
  {
   "cell_type": "code",
   "execution_count": 84,
   "metadata": {},
   "outputs": [
    {
     "name": "stdout",
     "output_type": "stream",
     "text": [
      "search: \u001b[1mg\u001b[22met_\u001b[1mc\u001b[22molor_palette \u001b[1mg\u001b[22m\u001b[1mc\u001b[22m \u001b[1mg\u001b[22m\u001b[1mc\u001b[22md \u001b[1mg\u001b[22m\u001b[1mc\u001b[22mdx \u001b[1mg\u001b[22m\u001b[1mc\u001b[22m_enable lo\u001b[1mg\u001b[22m\u001b[1mc\u001b[22mdf lo\u001b[1mg\u001b[22m\u001b[1mc\u001b[22mcdf invlo\u001b[1mg\u001b[22m\u001b[1mc\u001b[22mdf\n",
      "\n"
     ]
    },
    {
     "data": {
      "text/markdown": [
       "```\n",
       "gc()\n",
       "```\n",
       "\n",
       "Perform garbage collection. This should not generally be used.\n"
      ],
      "text/plain": [
       "```\n",
       "gc()\n",
       "```\n",
       "\n",
       "Perform garbage collection. This should not generally be used.\n"
      ]
     },
     "execution_count": 84,
     "metadata": {},
     "output_type": "execute_result"
    }
   ],
   "source": [
    "?gc"
   ]
  },
  {
   "cell_type": "code",
   "execution_count": 123,
   "metadata": {},
   "outputs": [
    {
     "name": "stdout",
     "output_type": "stream",
     "text": [
      "Starting 20 measurements on 3 processes doing max 7 measurements each\n",
      "on a 64×64 system, corresponding to 700 MCS pr. process\n",
      "Measurement progress: 33%\n",
      "Measurement progress: 50%\n",
      "Measurement progress: 67%\n",
      "Measurement progress: 83%\n",
      "Measurement progress: 100%\n",
      "Measurements done, collecting parallell results.\n",
      "Parallell measurements done. Writing remaining measurements to disk.\n",
      "Measurements saved to:\n",
      "/home/nicolai/Documents/Work/PhD/Numerikk/MC/finite-temp-vortex-lattice/Notebooks/state_list.data\n"
     ]
    },
    {
     "data": {
      "text/plain": [
       "1"
      ]
     },
     "execution_count": 123,
     "metadata": {},
     "output_type": "execute_result"
    }
   ],
   "source": [
    "measurementSeries!(ψ_list, sim, 20, 100, filename=\"state_list.data\")"
   ]
  },
  {
   "cell_type": "code",
   "execution_count": 124,
   "metadata": {},
   "outputs": [],
   "source": [
    "ψ_l = loadStates(\"state_list.data\");"
   ]
  },
  {
   "cell_type": "code",
   "execution_count": 121,
   "metadata": {},
   "outputs": [],
   "source": [
    "for i = 1:length(ψ_l)\n",
    "    @test ψ_l[i].consts == ψ_l[1].consts\n",
    "end"
   ]
  },
  {
   "cell_type": "code",
   "execution_count": 125,
   "metadata": {},
   "outputs": [
    {
     "data": {
      "image/png": "[encoded data removed]"
     },
     "execution_count": 125,
     "metadata": {},
     "output_type": "execute_result"
    }
   ],
   "source": [
    "E_list = [E(ψ) for ψ in ψ_l]\n",
    "pyplot()\n",
    "plot(1:length(ψ_l), E_list)"
   ]
  },
  {
   "cell_type": "markdown",
   "metadata": {},
   "source": [
    "# Using the measured series of states to produce structure function"
   ]
  },
  {
   "cell_type": "code",
   "execution_count": 10,
   "metadata": {},
   "outputs": [
    {
     "data": {
      "text/plain": [
       "splitParallell (generic function with 1 method)"
      ]
     },
     "execution_count": 10,
     "metadata": {},
     "output_type": "execute_result"
    }
   ],
   "source": [
    "# Given M number of tasks that should be done, we first calculate the available\n",
    "# processes (np) that can do tasks, and then calculate the minimal number of tasks on\n",
    "# each process (M_min) as well as the number of processes that need to do an\n",
    "# extra task (nw) s.t. we get all M tasks done. Thus \n",
    "# M = M_min(np-nw) + (M_min+1)*nw = np*M_min + nw\n",
    "function splitParallell{T<:Int}(M::T)\n",
    "    # Splitting the problem into np sub-problems.\n",
    "    np = nprocs()\n",
    "    # Minimum amount of work pr. process\n",
    "    M_min = Int(floor(M/np))\n",
    "    # Number of workers doing +1 extra work\n",
    "    nw = M%np\n",
    "    \n",
    "    return np, M_min, nw\n",
    "end"
   ]
  },
  {
   "cell_type": "code",
   "execution_count": 49,
   "metadata": {},
   "outputs": [
    {
     "data": {
      "text/plain": [
       "1.0103495003812106"
      ]
     },
     "execution_count": 49,
     "metadata": {},
     "output_type": "execute_result"
    }
   ],
   "source": [
    "N = 10000\n",
    "A = rand(N)\n",
    "N/effective_sample_size(A)"
   ]
  },
  {
   "cell_type": "code",
   "execution_count": 51,
   "metadata": {},
   "outputs": [
    {
     "name": "stdout",
     "output_type": "stream",
     "text": [
      "search: \u001b[1ms\u001b[22m\u001b[1mi\u001b[22m\u001b[1mz\u001b[22m\u001b[1me\u001b[22m \u001b[1ms\u001b[22m\u001b[1mi\u001b[22m\u001b[1mz\u001b[22m\u001b[1me\u001b[22mof \u001b[1ms\u001b[22m\u001b[1mi\u001b[22m\u001b[1mz\u001b[22m\u001b[1me\u001b[22mhint! C\u001b[1ms\u001b[22m\u001b[1mi\u001b[22m\u001b[1mz\u001b[22m\u001b[1me\u001b[22m_t re\u001b[1ms\u001b[22m\u001b[1mi\u001b[22m\u001b[1mz\u001b[22m\u001b[1me\u001b[22m! file\u001b[1ms\u001b[22m\u001b[1mi\u001b[22m\u001b[1mz\u001b[22m\u001b[1me\u001b[22m C\u001b[1ms\u001b[22ms\u001b[1mi\u001b[22m\u001b[1mz\u001b[22m\u001b[1me\u001b[22m_t \u001b[1ms\u001b[22mer\u001b[1mi\u001b[22mali\u001b[1mz\u001b[22m\u001b[1me\u001b[22m\n",
      "\n"
     ]
    },
    {
     "data": {
      "text/markdown": [
       "```\n",
       "size(A::AbstractArray, [dim...])\n",
       "```\n",
       "\n",
       "Returns a tuple containing the dimensions of `A`. Optionally you can specify the dimension(s) you want the length of, and get the length of that dimension, or a tuple of the lengths of dimensions you asked for.\n",
       "\n",
       "```jldoctest\n",
       "julia> A = ones(2,3,4);\n",
       "\n",
       "julia> size(A, 2)\n",
       "3\n",
       "\n",
       "julia> size(A,3,2)\n",
       "(4, 3)\n",
       "```\n"
      ],
      "text/plain": [
       "```\n",
       "size(A::AbstractArray, [dim...])\n",
       "```\n",
       "\n",
       "Returns a tuple containing the dimensions of `A`. Optionally you can specify the dimension(s) you want the length of, and get the length of that dimension, or a tuple of the lengths of dimensions you asked for.\n",
       "\n",
       "```jldoctest\n",
       "julia> A = ones(2,3,4);\n",
       "\n",
       "julia> size(A, 2)\n",
       "3\n",
       "\n",
       "julia> size(A,3,2)\n",
       "(4, 3)\n",
       "```\n"
      ]
     },
     "execution_count": 51,
     "metadata": {},
     "output_type": "execute_result"
    }
   ],
   "source": [
    "?size"
   ]
  },
  {
   "cell_type": "code",
   "execution_count": 55,
   "metadata": {},
   "outputs": [
    {
     "data": {
      "text/plain": [
       "true"
      ]
     },
     "execution_count": 55,
     "metadata": {},
     "output_type": "execute_result"
    }
   ],
   "source": [
    "L = 4\n",
    "A = rand(L,L)\n",
    "v = [A[i] for i = 1:length(A)]\n",
    "reshape(v, size(A)...) == A"
   ]
  },
  {
   "cell_type": "code",
   "execution_count": 40,
   "metadata": {},
   "outputs": [
    {
     "data": {
      "text/plain": [
       "avgErr (generic function with 1 method)"
      ]
     },
     "execution_count": 40,
     "metadata": {},
     "output_type": "execute_result"
    }
   ],
   "source": [
    "# Given \n",
    "function avgErr(A::Array{Array{Float64, 2},1})\n",
    "    avg_A = mean(A)\n",
    "    sm_A = zeros(avg_A)\n",
    "    M = length(A)\n",
    "    N = length(avg_A)\n",
    "    for m = 1:M\n",
    "        for i = 1:N\n",
    "            sm_A[i] += A[m][i]^2\n",
    "        end\n",
    "    end\n",
    "    sm_A = sm_A./M\n",
    "    τ_matrix = [N/effective_sample_size([A[m][i] for m=1:M]) for i=1:N]\n",
    "    τ_matrix = reshape(τ_matrix, size(avg_A)...)\n",
    "    \n",
    "    err_A = sqrt.((1+2.*τ_matrix).*abs.(sm_A - avg_A.^2)./(M-1))\n",
    "    \n",
    "    return avg_A, err_A\n",
    "end"
   ]
  },
  {
   "cell_type": "code",
   "execution_count": 41,
   "metadata": {},
   "outputs": [
    {
     "name": "stdout",
     "output_type": "stream",
     "text": [
      "0.4996355317447886±0.0029131362227162493\n",
      "0.49942668583107763±0.002880012052821908\n",
      "0.49798333495796276±0.0028815186238290657\n",
      "0.5032118797158748±0.0028923344424256494\n",
      "0.5019110627011267±0.0028749703627855227\n",
      "0.49912450175022766±0.002886112613211927\n",
      "0.49773141639947±0.0028884597223230685\n",
      "0.5024840364416173±0.0028832337894945845\n",
      "0.5053257122709898±0.0029028085836377755\n",
      "0.49616441467337036±0.0029085608892154397\n",
      "0.5028341383006175±0.0028657403944262663\n",
      "0.5025481291438693±0.0029160452864170684\n",
      "0.4999221061714541±0.002887513276588575\n",
      "0.5018632929153328±0.0028873427778103823\n",
      "0.5037237250897075±0.0028855155464017446\n",
      "0.49486365919626024±0.0028872061099989043\n"
     ]
    }
   ],
   "source": [
    "N = 10000\n",
    "L = 4\n",
    "A = [rand(L,L) for i = 1:N]\n",
    "avg_A, err_A = avgErr(A)\n",
    "for i = 1:length(avg_A)\n",
    "    println(\"$(avg_A[i])±$(err_A[i])\")\n",
    "end"
   ]
  },
  {
   "cell_type": "code",
   "execution_count": 71,
   "metadata": {},
   "outputs": [
    {
     "data": {
      "text/plain": [
       "Tuple{Int64,Int64}"
      ]
     },
     "execution_count": 71,
     "metadata": {},
     "output_type": "execute_result"
    }
   ],
   "source": [
    "typeof((1,1))"
   ]
  },
  {
   "cell_type": "code",
   "execution_count": 93,
   "metadata": {},
   "outputs": [
    {
     "data": {
      "text/plain": [
       "10.0"
      ]
     },
     "execution_count": 93,
     "metadata": {},
     "output_type": "execute_result"
    }
   ],
   "source": [
    "signif(12.102, 1)"
   ]
  },
  {
   "cell_type": "code",
   "execution_count": 81,
   "metadata": {},
   "outputs": [
    {
     "data": {
      "text/plain": [
       "true"
      ]
     },
     "execution_count": 81,
     "metadata": {},
     "output_type": "execute_result"
    }
   ],
   "source": [
    "ismatch(r\"[e]\", \"$(signif(1.532e7,1))\")"
   ]
  },
  {
   "cell_type": "code",
   "execution_count": 34,
   "metadata": {},
   "outputs": [
    {
     "data": {
      "text/plain": [
       "scientificRounding (generic function with 1 method)"
      ]
     },
     "execution_count": 34,
     "metadata": {},
     "output_type": "execute_result"
    }
   ],
   "source": [
    "function scientificRounding{T<:Real}(val::T, err::T; extra_digits::Int64 = 0)\n",
    "    if err < 0.0\n",
    "        println(\"Warning: error less than zero inserted: $(err)\")\n",
    "        err = abs(err)\n",
    "    end\n",
    "    # First we find the number of decimals needed for the first significant digit of the error\n",
    "    # Round to first significant digit\n",
    "    err_temp = signif(err, 1)\n",
    "    # Find the first significant digit\n",
    "    st = \"$(err_temp)\"\n",
    "    if ismatch(r\"[e]\", st)\n",
    "        st = st[1]\n",
    "    else\n",
    "        st = reverse(\"$(err_temp)\")\n",
    "        st = match(r\"[1-9]\", st).match\n",
    "    end\n",
    "    sig = parse(Int64, st)\n",
    "    # Now divide by this integer to get a number on the form 10^(-d) and extract d through log10\n",
    "    digi_num = floor(Int64, -log10(err_temp/sig))\n",
    "    # Finally use the number of digits to round the value (note that this number could be negative)\n",
    "    val = round(val, digi_num+extra_digits)\n",
    "    return val, signif(err, 1+extra_digits)\n",
    "end"
   ]
  },
  {
   "cell_type": "code",
   "execution_count": 127,
   "metadata": {},
   "outputs": [
    {
     "data": {
      "text/plain": [
       "(103.0, 1.0)"
      ]
     },
     "execution_count": 127,
     "metadata": {},
     "output_type": "execute_result"
    }
   ],
   "source": [
    "scientificRounding(103.12435483, 1.1038572)"
   ]
  },
  {
   "cell_type": "code",
   "execution_count": 124,
   "metadata": {},
   "outputs": [
    {
     "data": {
      "text/plain": [
       "4856.492"
      ]
     },
     "execution_count": 124,
     "metadata": {},
     "output_type": "execute_result"
    }
   ],
   "source": [
    "err = 0.0015483\n",
    "val = 4856.4919740\n",
    "err = signif(err, 1)\n",
    "str = reverse(\"$(err)\")\n",
    "str = match(r\"[1-9]\", str).match\n",
    "man = parse(Int64, str)\n",
    "digi = floor(Int64, -log10(err/man))\n",
    "val = round(val, digi)"
   ]
  },
  {
   "cell_type": "code",
   "execution_count": 14,
   "metadata": {},
   "outputs": [
    {
     "data": {
      "text/plain": [
       "maxRelErr (generic function with 1 method)"
      ]
     },
     "execution_count": 14,
     "metadata": {},
     "output_type": "execute_result"
    }
   ],
   "source": [
    "function maxRelErr{T<:Real}(avg_A::Array{T,2}, err_A::Array{T,2})\n",
    "    v = 1; h = 1\n",
    "    val = err_A[1]/avg_A[1]\n",
    "    for v_pos = 1:size(avg_A,1), h_pos = 1:size(avg_A,2)\n",
    "        rel = err_A[v_pos,h_pos]/avg_A[v_pos,h_pos]\n",
    "        if rel > val\n",
    "            val = rel\n",
    "            v = v_pos; h = h_pos\n",
    "        end\n",
    "    end\n",
    "    return v, h, val\n",
    "end"
   ]
  },
  {
   "cell_type": "code",
   "execution_count": 74,
   "metadata": {},
   "outputs": [
    {
     "data": {
      "text/plain": [
       "maxRelErrString (generic function with 1 method)"
      ]
     },
     "execution_count": 74,
     "metadata": {},
     "output_type": "execute_result"
    }
   ],
   "source": [
    "function maxRelErrString{T<:Real}(avg_A::Array{T,2}, err_A::Array{T,2})\n",
    "    v, h, rel_err = maxRelErr(avg_A, err_A)\n",
    "    avg, err = scientificRounding(avg_A[v,h], err_A[v,h])\n",
    "    return \" rel_err = $(signif(rel_err,1))\\t@ [$(v), $(h)] for\\t $(avg)±$(err)\"\n",
    "end"
   ]
  },
  {
   "cell_type": "code",
   "execution_count": 142,
   "metadata": {},
   "outputs": [
    {
     "name": "stdout",
     "output_type": "stream",
     "text": [
      "0.5±0.002\t0.003164262632554962\n",
      "0.5±0.002\t0.0031642721977285086\n",
      "0.5±0.002\t0.0031602581888440073\n",
      "0.498±0.002\t0.0031743424776764944\n",
      "0.499±0.002\t0.0031685643523052366\n",
      "0.501±0.002\t0.003158305910078411\n",
      "0.5±0.002\t0.0031610054795734774\n",
      "0.5±0.002\t0.0031636648512816104\n",
      "0.5±0.002\t0.003165640184520126\n",
      "0.5±0.002\t0.0031642864289884516\n",
      "0.5±0.002\t0.003164665417214285\n",
      "0.5±0.002\t0.0031655343331058816\n",
      "0.502±0.002\t0.003148356785457976\n",
      "0.5±0.002\t0.0031617505444865726\n",
      "0.499±0.002\t0.0031659993440340956\n",
      "0.501±0.002\t0.0031581724939536223\n",
      "0.498±0.002 @ [4, 1] =>\trel_err = 0.003\n"
     ]
    }
   ],
   "source": [
    "N = 100000\n",
    "L = 4\n",
    "A = [rand(L,L) for i = 1:N]\n",
    "avg_A, err_A = avgErr(A)\n",
    "for i = 1:length(avg_A)\n",
    "    av, err = scientificRounding(avg_A[i], err_A[i])\n",
    "    println(\"$(av)±$(err)\\t$(err_A[i]/avg_A[i])\")\n",
    "end\n",
    "println(maxRelErrString(avg_A, err_A))"
   ]
  },
  {
   "cell_type": "code",
   "execution_count": 148,
   "metadata": {},
   "outputs": [
    {
     "name": "stdout",
     "output_type": "stream",
     "text": [
      "search: \u001b[1ms\u001b[22m\u001b[1mo\u001b[22m\u001b[1mr\u001b[22m\u001b[1mt\u001b[22m\u001b[1m!\u001b[22m \u001b[1ms\u001b[22m\u001b[1mo\u001b[22m\u001b[1mr\u001b[22m\u001b[1mt\u001b[22mperm\u001b[1m!\u001b[22m \u001b[1ms\u001b[22m\u001b[1mo\u001b[22m\u001b[1mr\u001b[22m\u001b[1mt\u001b[22m \u001b[1ms\u001b[22m\u001b[1mo\u001b[22m\u001b[1mr\u001b[22m\u001b[1mt\u001b[22mrows \u001b[1ms\u001b[22m\u001b[1mo\u001b[22m\u001b[1mr\u001b[22m\u001b[1mt\u001b[22mperm \u001b[1ms\u001b[22m\u001b[1mo\u001b[22m\u001b[1mr\u001b[22m\u001b[1mt\u001b[22mcols C\u001b[1ms\u001b[22mh\u001b[1mo\u001b[22m\u001b[1mr\u001b[22m\u001b[1mt\u001b[22m i\u001b[1ms\u001b[22ms\u001b[1mo\u001b[22m\u001b[1mr\u001b[22m\u001b[1mt\u001b[22med\n",
      "\n"
     ]
    },
    {
     "data": {
      "text/markdown": [
       "```\n",
       "sort!(v; alg::Algorithm=defalg(v), lt=isless, by=identity, rev::Bool=false, order::Ordering=Forward)\n",
       "```\n",
       "\n",
       "Sort the vector `v` in place. `QuickSort` is used by default for numeric arrays while `MergeSort` is used for other arrays. You can specify an algorithm to use via the `alg` keyword (see Sorting Algorithms for available algorithms). The `by` keyword lets you provide a function that will be applied to each element before comparison; the `lt` keyword allows providing a custom \"less than\" function; use `rev=true` to reverse the sorting order. These options are independent and can be used together in all possible combinations: if both `by` and `lt` are specified, the `lt` function is applied to the result of the `by` function; `rev=true` reverses whatever ordering specified via the `by` and `lt` keywords.\n",
       "\n",
       "# Examples\n",
       "\n",
       "```jldoctest\n",
       "julia> v = [3, 1, 2]; sort!(v); v\n",
       "3-element Array{Int64,1}:\n",
       " 1\n",
       " 2\n",
       " 3\n",
       "\n",
       "julia> v = [3, 1, 2]; sort!(v, rev = true); v\n",
       "3-element Array{Int64,1}:\n",
       " 3\n",
       " 2\n",
       " 1\n",
       "\n",
       "julia> v = [(1, \"c\"), (3, \"a\"), (2, \"b\")]; sort!(v, by = x -> x[1]); v\n",
       "3-element Array{Tuple{Int64,String},1}:\n",
       " (1, \"c\")\n",
       " (2, \"b\")\n",
       " (3, \"a\")\n",
       "\n",
       "julia> v = [(1, \"c\"), (3, \"a\"), (2, \"b\")]; sort!(v, by = x -> x[2]); v\n",
       "3-element Array{Tuple{Int64,String},1}:\n",
       " (3, \"a\")\n",
       " (2, \"b\")\n",
       " (1, \"c\")\n",
       "```\n"
      ],
      "text/plain": [
       "```\n",
       "sort!(v; alg::Algorithm=defalg(v), lt=isless, by=identity, rev::Bool=false, order::Ordering=Forward)\n",
       "```\n",
       "\n",
       "Sort the vector `v` in place. `QuickSort` is used by default for numeric arrays while `MergeSort` is used for other arrays. You can specify an algorithm to use via the `alg` keyword (see Sorting Algorithms for available algorithms). The `by` keyword lets you provide a function that will be applied to each element before comparison; the `lt` keyword allows providing a custom \"less than\" function; use `rev=true` to reverse the sorting order. These options are independent and can be used together in all possible combinations: if both `by` and `lt` are specified, the `lt` function is applied to the result of the `by` function; `rev=true` reverses whatever ordering specified via the `by` and `lt` keywords.\n",
       "\n",
       "# Examples\n",
       "\n",
       "```jldoctest\n",
       "julia> v = [3, 1, 2]; sort!(v); v\n",
       "3-element Array{Int64,1}:\n",
       " 1\n",
       " 2\n",
       " 3\n",
       "\n",
       "julia> v = [3, 1, 2]; sort!(v, rev = true); v\n",
       "3-element Array{Int64,1}:\n",
       " 3\n",
       " 2\n",
       " 1\n",
       "\n",
       "julia> v = [(1, \"c\"), (3, \"a\"), (2, \"b\")]; sort!(v, by = x -> x[1]); v\n",
       "3-element Array{Tuple{Int64,String},1}:\n",
       " (1, \"c\")\n",
       " (2, \"b\")\n",
       " (3, \"a\")\n",
       "\n",
       "julia> v = [(1, \"c\"), (3, \"a\"), (2, \"b\")]; sort!(v, by = x -> x[2]); v\n",
       "3-element Array{Tuple{Int64,String},1}:\n",
       " (3, \"a\")\n",
       " (2, \"b\")\n",
       " (1, \"c\")\n",
       "```\n"
      ]
     },
     "execution_count": 148,
     "metadata": {},
     "output_type": "execute_result"
    }
   ],
   "source": [
    "?sort!"
   ]
  },
  {
   "cell_type": "code",
   "execution_count": 16,
   "metadata": {},
   "outputs": [
    {
     "data": {
      "text/plain": [
       "matrixIndices (generic function with 1 method)"
      ]
     },
     "execution_count": 16,
     "metadata": {},
     "output_type": "execute_result"
    }
   ],
   "source": [
    "function matrixIndices(i::Int64, L_v::Int64)\n",
    "    if i%L_v == 0\n",
    "        v = L_v\n",
    "        h = floor(Int64, i/L_v)\n",
    "    else\n",
    "        h = floor(Int64, i/L_v)+1\n",
    "        v = i-(h-1)*L_v\n",
    "    end\n",
    "    return v,h\n",
    "end"
   ]
  },
  {
   "cell_type": "code",
   "execution_count": 17,
   "metadata": {},
   "outputs": [
    {
     "data": {
      "text/plain": [
       "findMaximaIndices (generic function with 1 method)"
      ]
     },
     "execution_count": 17,
     "metadata": {},
     "output_type": "execute_result"
    }
   ],
   "source": [
    "function findMaximaIndices{T<:Real}(A::Array{T, 2}; n::Int64=1)\n",
    "    L_v = size(A,1)\n",
    "    maxes = [[A[i], i] for i = 1:length(A)]\n",
    "    sort!(maxes, rev=true, by = x -> x[1])\n",
    "    return [[matrixIndices(Int(maxes[i][2]), L_v)...] for i = 1:n]\n",
    "end\n",
    "    "
   ]
  },
  {
   "cell_type": "code",
   "execution_count": 174,
   "metadata": {},
   "outputs": [
    {
     "data": {
      "text/plain": [
       "2-element Array{Array{Int64,1},1}:\n",
       " [2, 4]\n",
       " [1, 4]"
      ]
     },
     "execution_count": 174,
     "metadata": {},
     "output_type": "execute_result"
    }
   ],
   "source": [
    "L = 4\n",
    "A = rand(L,L)\n",
    "findMaximaIndices(A, n=2)"
   ]
  },
  {
   "cell_type": "code",
   "execution_count": 175,
   "metadata": {},
   "outputs": [
    {
     "data": {
      "text/plain": [
       "4×4 Array{Float64,2}:\n",
       " 0.60869    0.42165   0.516686  0.784817\n",
       " 0.425431   0.411864  0.73956   0.998514\n",
       " 0.484213   0.26408   0.214698  0.171939\n",
       " 0.0267283  0.344671  0.465018  0.446066"
      ]
     },
     "execution_count": 175,
     "metadata": {},
     "output_type": "execute_result"
    }
   ],
   "source": [
    "A"
   ]
  },
  {
   "cell_type": "code",
   "execution_count": 164,
   "metadata": {},
   "outputs": [
    {
     "name": "stdout",
     "output_type": "stream",
     "text": [
      "1\t[1, 1]\t(1, 1)\n",
      "2\t[2, 1]\t(2, 1)\n",
      "3\t[3, 1]\t(3, 1)\n",
      "4\t[4, 1]\t(4, 1)\n",
      "5\t[1, 2]\t(1, 2)\n",
      "6\t[2, 2]\t(2, 2)\n",
      "7\t[3, 2]\t(3, 2)\n",
      "8\t[4, 2]\t(4, 2)\n",
      "9\t[1, 3]\t(1, 3)\n",
      "10\t[2, 3]\t(2, 3)\n",
      "11\t[3, 3]\t(3, 3)\n",
      "12\t[4, 3]\t(4, 3)\n",
      "13\t[1, 4]\t(1, 4)\n",
      "14\t[2, 4]\t(2, 4)\n",
      "15\t[3, 4]\t(3, 4)\n",
      "16\t[4, 4]\t(4, 4)\n"
     ]
    }
   ],
   "source": [
    "L = 4\n",
    "A = [[v,h] for v = 1:4, h = 1:4]\n",
    "for i = 1:length(A)\n",
    "    println(\"$(i)\\t$(A[i])\\t$(matrixIndices(i, size(A,1)))\")\n",
    "end"
   ]
  },
  {
   "cell_type": "code",
   "execution_count": 166,
   "metadata": {},
   "outputs": [
    {
     "data": {
      "text/plain": [
       "2-element Array{Int64,1}:\n",
       " 2\n",
       " 1"
      ]
     },
     "execution_count": 166,
     "metadata": {},
     "output_type": "execute_result"
    }
   ],
   "source": [
    "A[2,1]"
   ]
  },
  {
   "cell_type": "code",
   "execution_count": 69,
   "metadata": {},
   "outputs": [],
   "source": [
    "# Takes in a list of states and measures the vorticity and structure function for each of them.\n",
    "@everywhere function structureFunctionWork{T<:Real}(k_matrix::Array{Array{T,1},2}, ψ_list::Array{State,1}; visible=false)\n",
    "    PROG_NUM = 10\n",
    "    M = length(ψ_list)\n",
    "    L_k1 = size(k_matrix, 1)\n",
    "    L_k2 = size(k_matrix, 2)\n",
    "    L = size(ψ_list[1].lattice, 1)\n",
    "    \n",
    "    #Setup measurement storage\n",
    "    S⁺ = [zeros(L_k1, L_k2) for i = 1:M]; S⁻ = [zeros(L_k1, L_k2) for i = 1:M]\n",
    "    V⁺ = [zeros(L,L) for i = 1:M]; V⁻ = [zeros(L,L) for i = 1:M]\n",
    "    \n",
    "    # Measure for each of the states in the list\n",
    "    for m = 1:M\n",
    "        V⁺_cube, V⁻_cube = vortexSnapshot(ψ_list[m])\n",
    "        V⁺[m] = avgVort(V⁺_cube); V⁻[m] = avgVort(V⁻_cube)\n",
    "        \n",
    "        # We use the vortex snapshots to measure the structure function\n",
    "        for v_pos = 1:L_k1, h_pos = 1:L_k2\n",
    "            S⁺[m][v_pos,h_pos], S⁻[m][v_pos,h_pos] = structureFunction(k_matrix[v_pos,h_pos], ψ_list[m], V⁺[m], V⁻[m])\n",
    "        end\n",
    "    end     \n",
    "    \n",
    "    return S⁺, S⁻, V⁺, V⁻\n",
    "end"
   ]
  },
  {
   "cell_type": "code",
   "execution_count": 65,
   "metadata": {},
   "outputs": [
    {
     "data": {
      "text/plain": [
       "normalizeSFVL! (generic function with 1 method)"
      ]
     },
     "execution_count": 65,
     "metadata": {},
     "output_type": "execute_result"
    }
   ],
   "source": [
    "# Normalizes the matrices found through \n",
    "# structureFunctionWork(::Array{Array{Float64,1},2}, ::Array{State,1}; ::Bool)\n",
    "function normalizeSFVL!(S⁺, S⁻, V⁺, V⁻, syst)\n",
    "    \n",
    "    s_norm_inv = 1/(syst.L^2*syst.f*two_pi)^2\n",
    "    v_norm_inv = 1/two_pi\n",
    "    \n",
    "    S⁺ = s_norm_inv.*S⁺; S⁻ = s_norm_inv.*S⁻;\n",
    "    V⁺ = v_norm_inv.*V⁺; V⁻ = v_norm_inv.*V⁻;\n",
    "    return S⁺, S⁻, V⁺, V⁻\n",
    "end"
   ]
  },
  {
   "cell_type": "code",
   "execution_count": 78,
   "metadata": {},
   "outputs": [
    {
     "data": {
      "text/plain": [
       "structureFunction (generic function with 3 methods)"
      ]
     },
     "execution_count": 78,
     "metadata": {},
     "output_type": "execute_result"
    }
   ],
   "source": [
    "function structureFunction{T<:Real}(filename::AbstractString, k_matrix::Array{Array{T, 1},2})\n",
    "    \n",
    "    # Get pre-measured states.\n",
    "    ψ_list = loadStates(filename)\n",
    "    \n",
    "    syst = ψ_list[1].consts\n",
    "    L = syst.L\n",
    "    \n",
    "    # Checking that the k matrix has equal dimensions\n",
    "    L_k = size(k_matrix, 1)\n",
    "    size(k_matrix, 2) == L_k || throw(error(\"k_matrix dimensions are not equal\"))\n",
    "    \n",
    "    M = length(ψ_list)\n",
    "    np, M_min, nw = splitParallell(M)\n",
    "    \n",
    "    # Setup storage.\n",
    "    S⁺ = Array{Array{Float64, 2},1}(M); S⁻ = Array{Array{Float64, 2},1}(M)\n",
    "    V⁺ = Array{Array{Float64, 2},1}(M); V⁻ = Array{Array{Float64, 2},1}(M)\n",
    "    \n",
    "    # Make sure that we have enough states\n",
    "    length(ψ_list) >= np || throw(error(\"ERROR: Not enough states in list\"))\n",
    "    \n",
    "    # Setup worker futures\n",
    "    futures = [Future() for i=1:(np-1)]\n",
    "    \n",
    "    println(\"Starting $(M) measurements on $(np) processes doing max $(M_min + Int(ceil(nw/np))) measurements each\n",
    "on a $(L)×$(L) system.\")\n",
    "    \n",
    "    # Start +1 workers\n",
    "    for i = 1:nw\n",
    "        futures[i] = @spawn structureFunctionWork(k_matrix, ψ_list[(M_min+1)*(i-1) + 1:(M_min+1)*i])\n",
    "        println(\"Starting states: $((M_min+1)*(i-1) + 1):$((M_min+1)*i)\")\n",
    "    end\n",
    "    # Start remaining workers\n",
    "    for i = 1:np-nw-1\n",
    "        futures[nw+i] = @spawn structureFunctionWork(k_matrix,\n",
    "            ψ_list[M_min*(i-1)+nw*(M_min+1)+1:M_min*(i-1)+nw*(M_min+1)+M_min])\n",
    "        println(\"Starting states: $(M_min*(i-1)+nw*(M_min+1)+1):$(M_min*(i-1)+nw*(M_min+1)+M_min)\")\n",
    "    end\n",
    "    # Make the master process work as well\n",
    "    int = 1:M_min\n",
    "    S⁺[int], S⁻[int], V⁺[int], V⁻[int] = structureFunctionWork(k_matrix,\n",
    "        ψ_list[M_min*(np-nw-1-1)+nw*(M_min+1)+M_min+1:M_min*np+nw]; visible=true)\n",
    "    println(\"Starting states: $(M_min*(np-nw-1-1)+nw*(M_min+1)+M_min+1):$(M_min*np+nw)\")\n",
    "    println(\"Saving to: $(1):$(M_min)\")\n",
    "    \n",
    "    println(\"Measurements done, collecting parallell results.\")\n",
    "    # Collect results\n",
    "    for i = 1:nw\n",
    "        int = (i-1)*(M_min+1)+1+M_min:i*(M_min+1)+M_min\n",
    "        S⁺[int], S⁻[int], V⁺[int], V⁻[int] = fetch(futures[i])\n",
    "        println(\"Saving to: $((i-1)*(M_min+1)+1+M_min):$(i*(M_min+1)+M_min)\")\n",
    "    end\n",
    "    for i = 1:np-nw-1\n",
    "        int = (i-1)*M_min+nw*(M_min+1)+1+M_min:i*M_min+nw*(M_min+1)+M_min\n",
    "        S⁺[int], S⁻[int], V⁺[int], V⁻[int] = fetch(futures[nw+i])\n",
    "        println(\"Saving to: $((i-1)*M_min+nw*(M_min+1)+1+M_min):$(i*M_min+nw*(M_min+1)+M_min)\")\n",
    "    end\n",
    "    \n",
    "    println(\"Parallell measurements done. Processing.\")\n",
    "    \n",
    "    # Normalize values\n",
    "    S⁺, S⁻, V⁺, V⁻ = normalizeSFVL!(S⁺, S⁻, V⁺, V⁻, syst)\n",
    "    \n",
    "    # Calculate averages and errors.\n",
    "    avg_S⁺, err_S⁺ = avgErr(S⁺); avg_S⁻, err_S⁻ = avgErr(S⁻)\n",
    "    avg_V⁺, err_V⁺ = avgErr(V⁺); avg_V⁻, err_V⁻ = avgErr(V⁻)\n",
    "    \n",
    "\n",
    "    # Sum of all vorticities\n",
    "    println(\"\\nSum of vorticity of random snapshot:\\nV⁺: \\t$(sum(V⁺[rand(1:M)]))\n",
    "V⁻: \\t$(sum(V⁻[rand(1:M)]))\")\n",
    "    \n",
    "    # Finding max relative error in the matrices.\n",
    "    println(\"\\nMax relative errors\\nS⁺:\\t$(maxRelErrString(avg_S⁺, err_S⁺))\n",
    "S⁻:\\t$(maxRelErrString(avg_S⁻, err_S⁻))\\nV⁺:\\t$(maxRelErrString(avg_V⁺, err_V⁺))\n",
    "V⁻:\\t$(maxRelErrString(avg_V⁻, err_V⁻))\")\n",
    "    \n",
    "    # Finding max values over the matrices.\n",
    "    N_MAX = 3\n",
    "    max_S⁺= findMaximaIndices(avg_S⁺; n=N_MAX); max_S⁻ = findMaximaIndices(avg_S⁻; n=N_MAX)\n",
    "    println(\"\\nMaximum of S⁺\")\n",
    "    for i = 1:length(max_S⁺)\n",
    "        avg, err = scientificRounding(avg_S⁺[max_S⁺[i]...], err_S⁺[max_S⁺[i]...])\n",
    "        println(\"$(max_S⁺[i]):   \\t$(avg) ± $(err)\")\n",
    "    end\n",
    "    \n",
    "    \n",
    "    return avg_V⁺, err_V⁺, V⁺, avg_V⁻, err_V⁻, V⁻, avg_S⁺, err_S⁺, S⁺, avg_S⁻, err_S⁻, S⁻\n",
    "end\n"
   ]
  },
  {
   "cell_type": "markdown",
   "metadata": {},
   "source": [
    "# Debugging EVERYTING!"
   ]
  },
  {
   "cell_type": "code",
   "execution_count": 20,
   "metadata": {},
   "outputs": [
    {
     "data": {
      "text/plain": [
       "makeDirRec (generic function with 1 method)"
      ]
     },
     "execution_count": 20,
     "metadata": {},
     "output_type": "execute_result"
    }
   ],
   "source": [
    "include(\"../Source/functions_plots_and_files.jl\")"
   ]
  },
  {
   "cell_type": "code",
   "execution_count": 23,
   "metadata": {},
   "outputs": [
    {
     "name": "stdout",
     "output_type": "stream",
     "text": [
      "Thermalizing 3 states\n",
      "Number of parallel workers: 2\n",
      "Worker 1 initially thermalised after 19 steps\n",
      "Worker 2 initially thermalised after 19 steps\n",
      "All workers initially thermalized after 1001 steps\n",
      "Checking average ∈ [1002, 1272]\n",
      "Thermalization successful between T = [1002, 1272]\n",
      "Worker 1: ΔE = 0.12753041343944974 ± 27.629260832902865\n",
      "Worker 2: ΔE = 5.025943300825474 ± 22.891531678347942\n",
      "Final thermalization time: 1392\n",
      "  6.541502 seconds (14.73 M allocations: 833.006 MiB, 9.06% gc time)\n",
      "Calculating energies and acceptance rates\n",
      "Saving plots to files\n"
     ]
    }
   ],
   "source": [
    "@time (t₀, ψ_ref, sim_ref, ψ_w, sim_w) = initializeParallelStatesS(syst, sim);"
   ]
  },
  {
   "cell_type": "code",
   "execution_count": 24,
   "metadata": {},
   "outputs": [
    {
     "name": "stdout",
     "output_type": "stream",
     "text": [
      "Starting 300 measurements on 3 processes doing max 100 measurements each\n",
      "on a 10×10 system, corresponding to 40000 MCS pr. process\n",
      "Measurement progress: 10%\n",
      "Measurement progress: 20%\n",
      "Measurement progress: 30%\n",
      "Measurement progress: 40%\n",
      "Measurement progress: 50%\n",
      "Measurement progress: 60%\n",
      "Measurement progress: 70%\n",
      "Measurement progress: 80%\n",
      "Measurement progress: 90%\n",
      "Measurement progress: 100%\n",
      "Measurements done, collecting parallell results.\n",
      "Parallell measurements done. Writing remaining measurements to disk.\n",
      "Measurements saved to:\n",
      "/home/nicolai/Documents/Work/PhD/Numerikk/MC/finite-temp-vortex-lattice/Notebooks/state_list.data\n"
     ]
    },
    {
     "data": {
      "text/plain": [
       "1"
      ]
     },
     "execution_count": 24,
     "metadata": {},
     "output_type": "execute_result"
    }
   ],
   "source": [
    "@time measurementSeries!([ψ_ref, ψ_w...], sim_ref, M, Δt; filename=\"state_list.data\")"
   ]
  },
  {
   "cell_type": "markdown",
   "metadata": {},
   "source": [
    "It seems that the parallel-processes doesn't start until the master process is done. This has to be looked into!"
   ]
  },
  {
   "cell_type": "code",
   "execution_count": 79,
   "metadata": {},
   "outputs": [
    {
     "name": "stdout",
     "output_type": "stream",
     "text": [
      "Starting 300 measurements on 3 processes doing max 100 measurements each\n",
      "on a 10×10 system.\n",
      "Starting states: 1:100\n",
      "Starting states: 101:200\n",
      "Starting states: 201:300\n",
      "Saving to: 1:100\n",
      "Measurements done, collecting parallell results.\n",
      "Saving to: 101:200\n",
      "Saving to: 201:300\n",
      "Parallell measurements done. Processing.\n",
      "\n",
      "Sum of vorticity of random snapshot:\n",
      "V⁺: \t10.000000000000002\n",
      "V⁻: \t10.0\n",
      "\n",
      "Max relative errors\n",
      "S⁺:\t rel_err = 0.2\t@ [3, 1] for\t 0.08±0.02\n",
      "S⁻:\t rel_err = 0.1\t@ [3, 6] for\t 0.01±0.001\n",
      "V⁺:\t rel_err = 0.3\t@ [3, 5] for\t 0.07±0.02\n",
      "V⁻:\t rel_err = 0.2\t@ [5, 6] for\t 0.07±0.01\n",
      "\n",
      "Maximum of S⁺\n",
      "[5, 6]:   \t1.0 ± 6.0e-9\n",
      "[10, 1]:   \t0.34 ± 0.03\n",
      " 31.382458 seconds (33.49 M allocations: 1.026 GiB, 18.03% gc time)\n"
     ]
    }
   ],
   "source": [
    "@time av_V⁺, err_V⁺, V⁺, av_V⁻, err_V⁻, V⁻, av_S⁺, err_S⁺, S⁺, av_S⁻, err_S⁻, S⁻ = structureFunction(\"state_list.data\", k_matrix);"
   ]
  },
  {
   "cell_type": "code",
   "execution_count": 80,
   "metadata": {},
   "outputs": [
    {
     "data": {
      "image/png": "[encoded data removed]"
     },
     "execution_count": 80,
     "metadata": {},
     "output_type": "execute_result"
    }
   ],
   "source": [
    "using Plots\n",
    "pyplot()\n",
    "heatmap(1:10, 1:10, av_S⁺, aspect_ratio=1)"
   ]
  },
  {
   "cell_type": "code",
   "execution_count": 62,
   "metadata": {},
   "outputs": [
    {
     "data": {
      "image/png": "[encoded data removed]"
     },
     "execution_count": 62,
     "metadata": {},
     "output_type": "execute_result"
    }
   ],
   "source": [
    "heatmap(1:10, 1:10, V⁺[1], aspect_ratio=1)"
   ]
  },
  {
   "cell_type": "code",
   "execution_count": 55,
   "metadata": {},
   "outputs": [
    {
     "data": {
      "image/png": "[encoded data removed]"
     },
     "execution_count": 55,
     "metadata": {},
     "output_type": "execute_result"
    }
   ],
   "source": [
    "v1, v2 = vortexSnapshot(ψ_ref)\n",
    "heatmap(1:10, 1:10, v1[:,:,1], aspect_ratio=1)"
   ]
  }
 ],
 "metadata": {
  "kernelspec": {
   "display_name": "Julia p3 0.6.4",
   "language": "julia",
   "name": "julia-p3-0.6"
  },
  "language_info": {
   "file_extension": ".jl",
   "mimetype": "application/julia",
   "name": "julia",
   "version": "0.6.4"
  }
 },
 "nbformat": 4,
 "nbformat_minor": 2
}
