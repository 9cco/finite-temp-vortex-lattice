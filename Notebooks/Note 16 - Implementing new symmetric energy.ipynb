{
 "cells": [
  {
   "cell_type": "code",
   "execution_count": 1,
   "metadata": {},
   "outputs": [],
   "source": [
    "include(\"../Source/ChiralMC.jl\")\n",
    "using ChiralMC"
   ]
  },
  {
   "cell_type": "code",
   "execution_count": 2,
   "metadata": {},
   "outputs": [
    {
     "data": {
      "text/plain": [
       "24"
      ]
     },
     "execution_count": 2,
     "metadata": {},
     "output_type": "execute_result"
    }
   ],
   "source": [
    "a = 2*(\n",
    "      4+8)"
   ]
  },
  {
   "cell_type": "code",
   "execution_count": 2,
   "metadata": {},
   "outputs": [
    {
     "data": {
      "text/plain": [
       "fᵣ (generic function with 1 method)"
      ]
     },
     "execution_count": 2,
     "metadata": {},
     "output_type": "execute_result"
    }
   ],
   "source": [
    "# ---------------------------------------------------------------------------------------------------\n",
    "# Calculate energy contribution from a single term in the energy sum of the Higgs terms.\n",
    "function fᵣ(ϕ::LatticeSite, nb::Neighbors, h_pos::Int64, c::SystConstants)\n",
    "    energy = 0.0\n",
    "    Aᵣ = two_pi*c.f*(h_pos-1)\n",
    "    Aᵣ₋₁ = two_pi*c.f*(hpos-2)\n",
    "    Aᵣ₋₂₁ = two_pi*c.f*(hpos-3)\n",
    "    ϕᵣ₊₁ = nb.ϕᵣ₊₁\n",
    "    ϕᵣ₋₁ = nb.ϕᵣ₋₁\n",
    "    ϕᵣ₊₂ = nb.ϕᵣ₊₂\n",
    "    ϕᵣ₋₂ = nb.ϕᵣ₋₂\n",
    "    \n",
    "    # Kinetic energy Fₖ\n",
    "    energy += -0.5*c.γ^2*(ϕᵣ₊₁.u⁺*ϕᵣ₋₁.u⁺*cos(ϕᵣ₊₁.θ⁺-ϕᵣ₋₁.θ⁺ - (ϕ.A[1]+ϕᵣ₋₁.A[1])) + \n",
    "        ϕᵣ₊₂.u⁺*ϕᵣ₋₂.u⁺*cos(ϕᵣ₊₂.θ⁺-ϕᵣ₋₂.θ⁺ - (ϕ.A[2]+2*Aᵣ+ϕᵣ₋₂.A[2])) + \n",
    "        ϕᵣ₊₁.u⁻*ϕᵣ₋₁.u⁻*cos(ϕᵣ₊₁.θ⁻-ϕᵣ₋₁.θ⁻ - (ϕ.A[1]+ϕᵣ₋₁.A[1])) + \n",
    "        ϕᵣ₊₂.u⁻*ϕᵣ₋₂.u⁻*cos(ϕᵣ₊₂.θ⁻-ϕᵣ₋₂.θ⁻ - (ϕ.A[2]+2*Aᵣ+ϕᵣ₋₂.A[2])))\n",
    "    # Potential energy Fᵥ\n",
    "    energy += c.γ^4*((ϕ.u⁺*ϕ.u⁻)^2*(2+c.ν*cos(2*(ϕ.θ⁺-ϕ.θ⁻))) + 0.5*(ϕ.u⁺^4 + ϕ.u⁻^4))\n",
    "    # Band-anisotropy terms\n",
    "    energy += (c.ν+1)/4*c.γ^2(\n",
    "          ϕᵣ₊₂.u⁺*ϕᵣ₋₂.u⁻*cos(ϕᵣ₊₂.θ⁺-ϕᵣ₋₂.θ⁻ - (ϕ.A[2] + 2*Aᵣ + ϕᵣ₋₂.A[2])) \n",
    "        - ϕᵣ₊₁.u⁺*ϕᵣ₋₁.u⁻*cos(ϕᵣ₊₁.θ⁺-ϕᵣ₋₁.θ⁻ - (ϕ.A[1] + ϕᵣ₋₁.A[1])) \n",
    "        + ϕᵣ₊₂.u⁻*ϕᵣ₋₂.u⁺*cos(ϕᵣ₊₂.θ⁻-ϕᵣ₋₂.θ⁺ - (ϕ.A[2] + 2*Aᵣ + ϕᵣ₋₂.A[2])) \n",
    "        - ϕᵣ₊₁.u⁻*ϕᵣ₋₁.u⁺*cos(ϕᵣ₊₁.θ⁻-ϕᵣ₋₁.θ⁺ - (ϕ.A[1] + ϕᵣ₋₁.A[1])))\n",
    "    # Mixed gradient terms\n",
    "    energy += c.γ^2*(c.ν-1)/4*(\n",
    "          ϕᵣ₊₁.u⁺*ϕᵣ₊₂.u⁻*sin(ϕᵣ₊₂.θ⁻-ϕᵣ₊₁.θ⁺ - (ϕ.A[2]+Aᵣ-ϕ.A[1])) \n",
    "        + ϕᵣ₋₁.u⁺*ϕᵣ₋₂.u⁻*sin(ϕᵣ₋₂.θ⁻-ϕᵣ₋₁.θ⁺ - (ϕᵣ₋₁.A[1]-ϕᵣ₋₂.A[2]-Aᵣ)) \n",
    "        + ϕᵣ₊₂.u⁺*ϕᵣ₋₁.u⁻*sin(ϕᵣ₊₂.θ⁺-ϕᵣ₋₁.θ⁻ - (ϕᵣ₋₁.A[1]+ϕ.A[2]+Aᵣ)) \n",
    "        + ϕᵣ₊₁.u⁺*ϕᵣ₋₂.u⁻*sin(ϕᵣ₊₁.θ⁺-ϕᵣ₋₂.θ⁻ - (ϕ.A[1]+ϕᵣ₋₂.A[2]+Aᵣ)) - \n",
    "        (ϕᵣ₊₁.u⁻*ϕᵣ₊₂.u⁺*sin(ϕᵣ₊₂.θ⁺-ϕᵣ₊₁.θ⁻ - (ϕ.A[2]+Aᵣ-ϕ.A[1])) \n",
    "        + ϕᵣ₋₁.u⁻*ϕᵣ₋₂.u⁺*sin(ϕᵣ₋₂.θ⁺-ϕᵣ₋₁.θ⁻ - (ϕᵣ₋₁.A[1]-ϕᵣ₋₂.A[2]-Aᵣ)) \n",
    "        + ϕᵣ₊₂.u⁻*ϕᵣ₋₁.u⁺*sin(ϕᵣ₊₂.θ⁻-ϕᵣ₋₁.θ⁺ - (ϕᵣ₋₁.A[1]+ϕ.A[2]+Aᵣ)) \n",
    "        + ϕᵣ₊₁.u⁻*ϕᵣ₋₂.u⁺*sin(ϕᵣ₊₁.θ⁻-ϕᵣ₋₂.θ⁺ - (ϕ.A[1]+ϕᵣ₋₂.A[2]+Aᵣ))))\n",
    "    energy\n",
    "end"
   ]
  },
  {
   "cell_type": "code",
   "execution_count": 16,
   "metadata": {},
   "outputs": [
    {
     "data": {
      "text/plain": [
       "E (generic function with 1 method)"
      ]
     },
     "execution_count": 16,
     "metadata": {},
     "output_type": "execute_result"
    }
   ],
   "source": [
    "# --------------------------------------------------------------------------------------------------\n",
    "# Loops over all positions of the lattice of a state and calculates the total energy from the\n",
    "# Higgs-field terms using the function fᵣ() + the energy from the gauge field.\n",
    "function E(ψ::State)\n",
    "    energy = 0.0\n",
    "    L = ψ.consts.L\n",
    "    \n",
    "    # Contribution from the bulk of lattice sites\n",
    "    for h_pos=1:L, v_pos=1:L\n",
    "        ϕ = ψ.lattice[v_pos,h_pos]          # Lattice site at position r\n",
    "        energy += fᵣ(ϕ,ψ.nb[v_pos,h_pos],x,ψ.consts)              # Higgs terms\n",
    "        energy += (ϕ.A[1] + ϕᵣ₊₁.A[2]-ϕᵣ₊₂.A[1]-ϕ.A[2])^2*g⁻²\n",
    "    end\n",
    "    energy\n",
    "end"
   ]
  },
  {
   "cell_type": "code",
   "execution_count": 4,
   "metadata": {},
   "outputs": [
    {
     "data": {
      "text/plain": [
       "4"
      ]
     },
     "execution_count": 4,
     "metadata": {},
     "output_type": "execute_result"
    }
   ],
   "source": [
    "a = (1+\n",
    "\n",
    "3)"
   ]
  },
  {
   "cell_type": "code",
   "execution_count": 5,
   "metadata": {},
   "outputs": [
    {
     "data": {
      "text/plain": [
       "ΔE (generic function with 1 method)"
      ]
     },
     "execution_count": 5,
     "metadata": {},
     "output_type": "execute_result"
    }
   ],
   "source": [
    "# --------------------------------------------------------------------------------------------------\n",
    "# Find the energy difference between two states; one that has ϕ′ in position r with ϕᵣ... as neighbors,\n",
    "# and one that has ϕ in position r. the position along the x-axis is needed for the constant Gauge field.\n",
    "function ΔE(ϕ′::LatticeSite, ϕ::LatticeSite, nb::Neighbors, nnb::NextNeighbors, nnnb::NNNeighbors,\n",
    "        h_pos::Int64, c::SystConstants)\n",
    "    δE::Float64 = 0.0\n",
    "    \n",
    "    # Calculate constant link variables\n",
    "    Aᵣ = two_pi*c.f*(h_pos-1)\n",
    "    Aᵣ₊₁ = two_pi*c.f*h_pos\n",
    "    Aᵣ₋₁ = two_pi*c.f*(h_pos-2)\n",
    "    \n",
    "    # Get neighbors\n",
    "    ϕᵣ₊₁ = nb.ϕᵣ₊₁\n",
    "    ϕᵣ₋₁ = nb.ϕᵣ₋₁\n",
    "    ϕᵣ₊₂ = nb.ϕᵣ₊₂\n",
    "    ϕᵣ₋₂ = nb.ϕᵣ₋₂\n",
    "    ϕᵣ₊₁₊₂ = nnb.ϕᵣ₊₁₊₂\n",
    "    ϕᵣ₊₁₋₂ = nnb.ϕᵣ₊₁₋₂\n",
    "    ϕᵣ₋₁₊₂ = nnb.ϕᵣ₋₁₊₂\n",
    "    ϕᵣ₋₁₋₂ = nnb.ϕᵣ₋₁₋₂\n",
    "    ϕᵣ₊₁₁ = nnnb.ϕᵣ₊₁₁\n",
    "    ϕᵣ₋₁₁ = nnnb.ϕᵣ₋₁₁\n",
    "    ϕᵣ₊₂₂ = nnnb.ϕᵣ₊₂₂\n",
    "    ϕᵣ₋₂₂ = nnnb.ϕᵣ₋₂₂\n",
    "    \n",
    "    # Normal kinetic terms\n",
    "    δE += -0.5*c.γ^2*(\n",
    "  ϕᵣ₊₁.u⁺*ϕᵣ₋₁.u⁺*cos(ϕᵣ₊₁.θ⁺-ϕᵣ₋₁.θ⁺-(ϕ′.A[1]+ϕᵣ₋₁.A[1])) - ϕᵣ₊₁.u⁺*ϕᵣ₋₁.u⁺*cos(ϕᵣ₊₁.θ⁺-ϕᵣ₋₁.θ⁺-(ϕ.A[1]+ϕᵣ₋₁.A[1])) \n",
    "+ ϕ′.u⁺*ϕᵣ₋₁₁.u⁺*cos(ϕ′.θ⁺-ϕᵣ₋₁₁.θ⁺-(ϕᵣ₋₁.A[1]+ϕᵣ₋₁₁.A[1])) - ϕ.u⁺*ϕᵣ₋₁₁.u⁺*cos(ϕ.θ⁺-ϕᵣ₋₁₁.θ⁺-(ϕᵣ₋₁.A[1]+ϕᵣ₋₁₁.A[1])) \n",
    "+ ϕᵣ₊₁₁.u⁺*ϕ′.u⁺*cos(ϕᵣ₊₁₁.θ⁺-ϕ′.θ⁺-(ϕᵣ₊₁.A[1]+ϕ′.A[1])) - ϕᵣ₊₁₁.u⁺*ϕ.u⁺*cos(ϕᵣ₊₁₁.θ⁺-ϕ.θ⁺-(ϕᵣ₊₁.A[1]+ϕ.A[1])) \n",
    "\n",
    "+ ϕᵣ₊₂.u⁺*ϕᵣ₋₂.u⁺*cos(ϕᵣ₊₂.θ⁺-ϕᵣ₋₂.θ⁺-(ϕ′.A[2]+ϕᵣ₋₂.A[2]+2*Aᵣ)) - ϕᵣ₊₂.u⁺*ϕᵣ₋₂.u⁺*cos(ϕᵣ₊₂.θ⁺-ϕᵣ₋₂.θ⁺-(ϕ.A[2]+ϕᵣ₋₂.A[2]+2*Aᵣ)) \n",
    "+ ϕ′.u⁺*ϕᵣ₋₂₂.u⁺*cos(ϕ′.θ⁺-ϕᵣ₋₂₂.θ⁺-(ϕᵣ₋₂.A[2]+ϕᵣ₋₂₂.A[2]+2*Aᵣ)) - ϕ.u⁺*ϕᵣ₋₂₂.u⁺*cos(ϕ.θ⁺-ϕᵣ₋₂₂.θ⁺-(ϕᵣ₋₂.A[2]+ϕᵣ₋₂₂.A[2]+2*Aᵣ)) \n",
    "+ ϕᵣ₊₂₂.u⁺*ϕ′.u⁺*cos(ϕᵣ₊₂₂.θ⁺-ϕ′.θ⁺-(ϕᵣ₊₂.A[2]+ϕ′.A[2]+2*Aᵣ)) - ϕᵣ₊₂₂.u⁺*ϕ.u⁺*cos(ϕᵣ₊₂₂.θ⁺-ϕ.θ⁺-(ϕᵣ₊₂.A[2]+ϕ.A[2]+2*Aᵣ)) \n",
    "        \n",
    "+ ϕᵣ₊₁.u⁻*ϕᵣ₋₁.u⁻*cos(ϕᵣ₊₁.θ⁻-ϕᵣ₋₁.θ⁻-(ϕ′.A[1]+ϕᵣ₋₁.A[1])) - ϕᵣ₊₁.u⁻*ϕᵣ₋₁.u⁻*cos(ϕᵣ₊₁.θ⁻-ϕᵣ₋₁.θ⁻-(ϕ.A[1]+ϕᵣ₋₁.A[1])) \n",
    "+ ϕ′.u⁻*ϕᵣ₋₁₁.u⁻*cos(ϕ′.θ⁻-ϕᵣ₋₁₁.θ⁻-(ϕᵣ₋₁.A[1]+ϕᵣ₋₁₁.A[1])) - ϕ.u⁻*ϕᵣ₋₁₁.u⁻*cos(ϕ.θ⁻-ϕᵣ₋₁₁.θ⁻-(ϕᵣ₋₁.A[1]+ϕᵣ₋₁₁.A[1])) \n",
    "+ ϕᵣ₊₁₁.u⁻*ϕ′.u⁻*cos(ϕᵣ₊₁₁.θ⁻-ϕ′.θ⁻-(ϕᵣ₊₁.A[1]+ϕ′.A[1])) - ϕᵣ₊₁₁.u⁻*ϕ.u⁻*cos(ϕᵣ₊₁₁.θ⁻-ϕ.θ⁻-(ϕᵣ₊₁.A[1]+ϕ.A[1])) \n",
    "\n",
    "+ ϕᵣ₊₂.u⁻*ϕᵣ₋₂.u⁻*cos(ϕᵣ₊₂.θ⁻-ϕᵣ₋₂.θ⁻-(ϕ′.A[2]+ϕᵣ₋₂.A[2]+2*Aᵣ)) - ϕᵣ₊₂.u⁻*ϕᵣ₋₂.u⁻*cos(ϕᵣ₊₂.θ⁻-ϕᵣ₋₂.θ⁻-(ϕ.A[2]+ϕᵣ₋₂.A[2]+2*Aᵣ)) \n",
    "+ ϕ′.u⁻*ϕᵣ₋₂₂.u⁻*cos(ϕ′.θ⁻-ϕᵣ₋₂₂.θ⁻-(ϕᵣ₋₂.A[2]+ϕᵣ₋₂₂.A[2]+2*Aᵣ)) - ϕ.u⁻*ϕᵣ₋₂₂.u⁻*cos(ϕ.θ⁻-ϕᵣ₋₂₂.θ⁻-(ϕᵣ₋₂.A[2]+ϕᵣ₋₂₂.A[2]+2*Aᵣ)) \n",
    "+ ϕᵣ₊₂₂.u⁻*ϕ′.u⁻*cos(ϕᵣ₊₂₂.θ⁻-ϕ′.θ⁻-(ϕᵣ₊₂.A[2]+ϕ′.A[2]+2*Aᵣ)) - ϕᵣ₊₂₂.u⁻*ϕ.u⁻*cos(ϕᵣ₊₂₂.θ⁻-ϕ.θ⁻-(ϕᵣ₊₂.A[2]+ϕ.A[2]+2*Aᵣ)))\n",
    "    \n",
    "    # Potential energy terms\n",
    "    δE += c.γ^4*((ϕ′.u⁺*ϕ′.u⁻)^2*(2+c.ν*cos(2*(ϕ′.θ⁺-ϕ′.θ⁻))) - (ϕ.u⁺*ϕ.u⁻)^2*(2+c.ν*cos(2*(ϕ.θ⁺-ϕ.θ⁻))) \n",
    "        + 0.5*(ϕ′.u⁺^4-ϕ.u⁺^4+ϕ′.u⁻^4-ϕ.u⁻^4))\n",
    "    \n",
    "    # Andreev-Bashkin terms\n",
    "    δE += (c.ν+1)/4*c.γ^2*(\n",
    "  ϕᵣ₊₂.u⁺*ϕᵣ₋₂.u⁻*cos(ϕᵣ₊₂.θ⁺-ϕᵣ₋₂.θ⁻-(ϕ′.A[2]+ϕᵣ₋₂.A[2]+2*Aᵣ)) - ϕᵣ₊₂.u⁺*ϕᵣ₋₂.u⁻*cos(ϕᵣ₊₂.θ⁺-ϕᵣ₋₂.θ⁻-(ϕ.A[2]+ϕᵣ₋₂.A[2]+2*Aᵣ)) \n",
    "+ ϕ′.u⁺*ϕᵣ₋₂₂.u⁻*cos(ϕ′.θ⁺-ϕᵣ₋₂₂.θ⁻-(ϕᵣ₋₂.A[2]+ϕᵣ₋₂₂.A[2]+2*Aᵣ)) -  ϕ.u⁺*ϕᵣ₋₂₂.u⁻*cos(ϕ.θ⁺-ϕᵣ₋₂₂.θ⁻-(ϕᵣ₋₂.A[2]+ϕᵣ₋₂₂.A[2]+2*Aᵣ)) \n",
    "+ ϕᵣ₊₂₂.u⁺*ϕ′.u⁻*cos(ϕᵣ₊₂₂.θ⁺-ϕ′.θ⁻-(ϕᵣ₊₂.A[2]+ϕ′.A[2]+2*Aᵣ)) - ϕᵣ₊₂₂.u⁺*ϕ.u⁻*cos(ϕᵣ₊₂₂.θ⁺-ϕ.θ⁻-(ϕᵣ₊₂.A[2]+ϕ.A[2]+2*Aᵣ))\n",
    "    \n",
    "- ϕᵣ₊₁.u⁺*ϕᵣ₋₁.u⁻*cos(ϕᵣ₊₁.θ⁺-ϕᵣ₋₁.θ⁻-(ϕ′.A[1]+ϕᵣ₋₁.A[1])) + ϕᵣ₊₁.u⁺*ϕᵣ₋₁.u⁻*cos(ϕᵣ₊₁.θ⁺-ϕᵣ₋₁.θ⁻-(ϕ.A[1]+ϕᵣ₋₁.A[1])) \n",
    "- ϕ′.u⁺*ϕᵣ₋₁₁.u⁻*cos(ϕ′.θ⁺-ϕᵣ₋₁₁.θ⁻-(ϕᵣ₋₁.A[1]+ϕᵣ₋₁₁.A[1])) +  ϕ.u⁺*ϕᵣ₋₁₁.u⁻*cos(ϕ.θ⁺-ϕᵣ₋₁₁.θ⁻-(ϕᵣ₋₁.A[1]+ϕᵣ₋₁₁.A[1])) \n",
    "- ϕᵣ₊₁₁.u⁺*ϕ′.u⁻*cos(ϕᵣ₊₁₁.θ⁺-ϕ′.θ⁻-(ϕᵣ₊₁.A[1]+ϕ′.A[1])) + ϕᵣ₊₁₁.u⁺*ϕ.u⁻*cos(ϕᵣ₊₁₁.θ⁺-ϕ.θ⁻-(ϕᵣ₊₁.A[1]+ϕ.A[1]))\n",
    "\n",
    "+ ϕᵣ₊₂.u⁻*ϕᵣ₋₂.u⁺*cos(ϕᵣ₊₂.θ⁻-ϕᵣ₋₂.θ⁺-(ϕ′.A[2]+ϕᵣ₋₂.A[2]+2*Aᵣ)) - ϕᵣ₊₂.u⁻*ϕᵣ₋₂.u⁺*cos(ϕᵣ₊₂.θ⁻-ϕᵣ₋₂.θ⁺-(ϕ.A[2]+ϕᵣ₋₂.A[2]+2*Aᵣ)) \n",
    "+ ϕ′.u⁻*ϕᵣ₋₂₂.u⁺*cos(ϕ′.θ⁻-ϕᵣ₋₂₂.θ⁺-(ϕᵣ₋₂.A[2]+ϕᵣ₋₂₂.A[2]+2*Aᵣ)) -  ϕ.u⁻*ϕᵣ₋₂₂.u⁺*cos(ϕ.θ⁻-ϕᵣ₋₂₂.θ⁺-(ϕᵣ₋₂.A[2]+ϕᵣ₋₂₂.A[2]+2*Aᵣ)) \n",
    "+ ϕᵣ₊₂₂.u⁻*ϕ′.u⁺*cos(ϕᵣ₊₂₂.θ⁻-ϕ′.θ⁺-(ϕᵣ₊₂.A[2]+ϕ′.A[2]+2*Aᵣ)) - ϕᵣ₊₂₂.u⁻*ϕ.u⁺*cos(ϕᵣ₊₂₂.θ⁻-ϕ.θ⁺-(ϕᵣ₊₂.A[2]+ϕ.A[2]+2*Aᵣ))\n",
    "    \n",
    "- ϕᵣ₊₁.u⁻*ϕᵣ₋₁.u⁺*cos(ϕᵣ₊₁.θ⁻-ϕᵣ₋₁.θ⁺-(ϕ′.A[1]+ϕᵣ₋₁.A[1])) + ϕᵣ₊₁.u⁻*ϕᵣ₋₁.u⁺*cos(ϕᵣ₊₁.θ⁻-ϕᵣ₋₁.θ⁺-(ϕ.A[1]+ϕᵣ₋₁.A[1])) \n",
    "- ϕ′.u⁻*ϕᵣ₋₁₁.u⁺*cos(ϕ′.θ⁻-ϕᵣ₋₁₁.θ⁺-(ϕᵣ₋₁.A[1]+ϕᵣ₋₁₁.A[1])) +  ϕ.u⁻*ϕᵣ₋₁₁.u⁺*cos(ϕ.θ⁻-ϕᵣ₋₁₁.θ⁺-(ϕᵣ₋₁.A[1]+ϕᵣ₋₁₁.A[1])) \n",
    "- ϕᵣ₊₁₁.u⁻*ϕ′.u⁺*cos(ϕᵣ₊₁₁.θ⁻-ϕ′.θ⁺-(ϕᵣ₊₁.A[1]+ϕ′.A[1])) + ϕᵣ₊₁₁.u⁻*ϕ.u⁺*cos(ϕᵣ₊₁₁.θ⁻-ϕ.θ⁺-(ϕᵣ₊₁.A[1]+ϕ.A[1])))\n",
    "    \n",
    "    # Mixed gradient terms Pause\n",
    "    δE += (c.ν-1)/4*γ^2*(\n",
    "  ϕᵣ₊₁.u⁺*ϕᵣ₊₂.u⁻*sin(ϕᵣ₊₂.θ⁻-ϕᵣ₊₁.θ⁺-(ϕ′.A[2]+Aᵣ-ϕ′.A[1])) - ϕᵣ₊₁.u⁺*ϕᵣ₊₂.u⁻*sin(ϕᵣ₊₂.θ⁻-ϕᵣ₊₁.θ⁺-(ϕ.A[2]+Aᵣ-ϕ.A[1]))\n",
    "+ ϕᵣ₊₂.u⁺*ϕᵣ₋₁.u⁻*sin(ϕᵣ₊₂.θ⁺-ϕᵣ₋₁.θ⁻-(ϕᵣ₋₁.A[1]+ϕ′.A[2]+Aᵣ)) - ϕᵣ₊₂.u⁺*ϕᵣ₋ₓ.u⁻*sin(ϕᵣ₊₂.θ⁺-ϕᵣ₋₁.θ⁻-(ϕᵣ₋₁.A[1]+ϕ.A[2]+Aᵣ))\n",
    "+ ϕᵣ₊₁.u⁺*ϕᵣ₋₂.u⁻*sin(ϕᵣ₊₁.θ⁺-ϕᵣ₋₂.θ⁻-(ϕ′.A[1]+ϕᵣ₋₂.A[2]+Aᵣ)) - ϕᵣ₊₁.u⁺*ϕᵣ₋₂.u⁻*sin(ϕᵣ₊₁.θ⁺-ϕᵣ₋₂.θ⁻-(ϕ.A[1]+ϕᵣ₋₂.A[2]+Aᵣ))\n",
    "\n",
    "+ ϕ′.u⁺*ϕᵣ₋₁₊₂.u⁻*sin(ϕᵣ₋₁₊₂.θ⁻-ϕ′.θ⁺-(ϕᵣ₋₁.A[2]+Aᵣ₋₁-ϕᵣ₋₁.A[1])) - ϕ.u⁺*ϕᵣ₋₁₊₂.u⁻*sin(ϕᵣ₋₁₊₂.θ⁻-ϕ.θ⁺-(ϕᵣ₋₁.A[2]+Aᵣ₋₁-ϕᵣ₋₁.A[1]))\n",
    "+ ϕ′.u⁺*ϕᵣ₋₁₋₂.u⁻*sin(ϕ′.θ⁺-ϕᵣ₋₁₋₂.θ⁻-(ϕᵣ₋₁.A[1]+ϕᵣ₋₁₋₂.A[2]+Aᵣ₋₁)) - ϕ.u⁺*ϕᵣ₋₁₋₂.u⁻*sin(ϕ.θ⁺-ϕᵣ₋₁₋₂.θ⁻-(ϕᵣ₋₁.A[1]+ϕᵣ₋₁₋₂.A[2]+Aᵣ₋₁))\n",
    "\n",
    "+ ϕᵣ₊₁₋₂.u⁺*ϕ′.u⁻*sin(ϕ′.θ⁻-ϕᵣ₊₁₋₂.θ⁺-(ϕᵣ₋₂.A[2]+Aᵣ-ϕᵣ₋₂.A[1])) - ϕᵣ₊₁₋₂.u⁺*ϕ.u⁻*sin(ϕ.θ⁻-ϕᵣ₊₁₋₂.θ⁺-(ϕᵣ₋₂.A[2]+Aᵣ-ϕᵣ₋₂.A[1]))\n",
    "+ ϕ′.u⁺*ϕᵣ₋₁₋₂.u⁻*sin(ϕ′.θ⁺-ϕᵣ₋₁₋₂.θ⁻-(ϕᵣ₋₁₋₂.A[1]+ϕᵣ₋₂.A[2]+Aᵣ)) - ϕ.u⁺*ϕᵣ₋₁₋₂.u⁻*sin(ϕ.θ⁺-ϕᵣ₋₁₋₂.θ⁻-(ϕᵣ₋₁₋₂.A[1]+ϕᵣ₋₂.A[2]+Aᵣ))\n",
    "\n",
    "+ ϕ′.u⁺*ϕᵣ₊₁₋₂.u⁻*sin(ϕᵣ₊₁₋₂.θ⁻-ϕ′.θ⁺-(ϕ′.A[1]-ϕᵣ₊₁₋₂.A[2]-Aᵣ₊₁)) - ϕ.u⁺*ϕᵣ₊₁₋₂.u⁻*sin(ϕᵣ₊₁₋₂.θ⁻-ϕ.θ⁺-(ϕ.A[1]-ϕᵣ₊₁₋₂.A[2]-Aᵣ₊₁))\n",
    "+ ϕᵣ₊₁₊₂.u⁺*ϕ′.u⁻*sin(ϕᵣ₊₁₊₂.θ⁺-ϕ′.θ⁻-(ϕ′.A[1]+ϕᵣ₊₁.A[2]+Aᵣ₊₁)) - ϕᵣ₊₁₊₂.u⁺*ϕ.u⁻*sin(ϕᵣ₊₁₊₂.θ⁺-ϕ.θ⁻-(ϕ.A[1]+ϕᵣ₊₁.A[2]+Aᵣ₊₁))\n",
    "    \n",
    "+ ϕᵣ₋₁₊₂.u⁺*ϕ′.u⁻*sin(ϕ′.θ⁻-ϕᵣ₋₁₊₂.θ⁺-(ϕᵣ₋₁₊₂.A[1]-ϕ′.A[2]-Aᵣ)) - ϕᵣ₋₁₊₂.u⁺*ϕ.u⁻*sin(ϕ.θ⁻-ϕᵣ₋₁₊₂.θ⁺-(ϕᵣ₋₁₊₂.A[1]-ϕ.A[2]-Aᵣ))\n",
    "+ ϕᵣ₊₁₊₂.u⁺*ϕ′.u⁻*sin(ϕᵣ₊₁₊₂.θ⁺-ϕ′.θ⁻-(ϕᵣ₊₂.A[1]+ϕ′.A[2]+Aᵣ)) - ϕᵣ₊₁₊₂.u⁺*ϕ.u⁻*sin(ϕᵣ₊₁₊₂.θ⁺-ϕ.θ⁻-(ϕᵣ₊₂.A[1]+ϕ.A[2]+Aᵣ))\n",
    "    \n",
    "  -(ϕᵣ₊₁.u⁻*ϕᵣ₊₂.u⁺*sin(ϕᵣ₊₂.θ⁺-ϕᵣ₊₁.θ⁻-(ϕ′.A[2]+Aᵣ-ϕ′.A[1])) - ϕᵣ₊₁.u⁻*ϕᵣ₊₂.u⁺*sin(ϕᵣ₊₂.θ⁺-ϕᵣ₊₁.θ⁻-(ϕ.A[2]+Aᵣ-ϕ.A[1]))\n",
    "+ ϕᵣ₊₂.u⁻*ϕᵣ₋₁.u⁺*sin(ϕᵣ₊₂.θ⁻-ϕᵣ₋₁.θ⁺-(ϕᵣ₋₁.A[1]+ϕ′.A[2]+Aᵣ)) - ϕᵣ₊₂.u⁻*ϕᵣ₋ₓ.u⁺*sin(ϕᵣ₊₂.θ⁻-ϕᵣ₋₁.θ⁺-(ϕᵣ₋₁.A[1]+ϕ.A[2]+Aᵣ))\n",
    "+ ϕᵣ₊₁.u⁻*ϕᵣ₋₂.u⁺*sin(ϕᵣ₊₁.θ⁻-ϕᵣ₋₂.θ⁺-(ϕ′.A[1]+ϕᵣ₋₂.A[2]+Aᵣ)) - ϕᵣ₊₁.u⁻*ϕᵣ₋₂.u⁺*sin(ϕᵣ₊₁.θ⁻-ϕᵣ₋₂.θ⁺-(ϕ.A[1]+ϕᵣ₋₂.A[2]+Aᵣ))\n",
    "\n",
    "+ ϕ′.u⁻*ϕᵣ₋₁₊₂.u⁺*sin(ϕᵣ₋₁₊₂.θ⁺-ϕ′.θ⁻-(ϕᵣ₋₁.A[2]+Aᵣ₋₁-ϕᵣ₋₁.A[1])) - ϕ.u⁻*ϕᵣ₋₁₊₂.u⁺*sin(ϕᵣ₋₁₊₂.θ⁺-ϕ.θ⁻-(ϕᵣ₋₁.A[2]+Aᵣ₋₁-ϕᵣ₋₁.A[1]))\n",
    "+ ϕ′.u⁻*ϕᵣ₋₁₋₂.u⁺*sin(ϕ′.θ⁻-ϕᵣ₋₁₋₂.θ⁺-(ϕᵣ₋₁.A[1]+ϕᵣ₋₁₋₂.A[2]+Aᵣ₋₁)) - ϕ.u⁻*ϕᵣ₋₁₋₂.u⁺*sin(ϕ.θ⁻-ϕᵣ₋₁₋₂.θ⁺-(ϕᵣ₋₁.A[1]+ϕᵣ₋₁₋₂.A[2]+Aᵣ₋₁))\n",
    "\n",
    "+ ϕᵣ₊₁₋₂.u⁻*ϕ′.u⁺*sin(ϕ′.θ⁺-ϕᵣ₊₁₋₂.θ⁻-(ϕᵣ₋₂.A[2]+Aᵣ-ϕᵣ₋₂.A[1])) - ϕᵣ₊₁₋₂.u⁻*ϕ.u⁺*sin(ϕ.θ⁺-ϕᵣ₊₁₋₂.θ⁻-(ϕᵣ₋₂.A[2]+Aᵣ-ϕᵣ₋₂.A[1]))\n",
    "+ ϕ′.u⁻*ϕᵣ₋₁₋₂.u⁺*sin(ϕ′.θ⁻-ϕᵣ₋₁₋₂.θ⁺-(ϕᵣ₋₁₋₂.A[1]+ϕᵣ₋₂.A[2]+Aᵣ)) - ϕ.u⁻*ϕᵣ₋₁₋₂.u⁺*sin(ϕ.θ⁻-ϕᵣ₋₁₋₂.θ⁺-(ϕᵣ₋₁₋₂.A[1]+ϕᵣ₋₂.A[2]+Aᵣ))\n",
    "\n",
    "+ ϕ′.u⁻*ϕᵣ₊₁₋₂.u⁺*sin(ϕᵣ₊₁₋₂.θ⁺-ϕ′.θ⁻-(ϕ′.A[1]-ϕᵣ₊₁₋₂.A[2]-Aᵣ₊₁)) - ϕ.u⁻*ϕᵣ₊₁₋₂.u⁺*sin(ϕᵣ₊₁₋₂.θ⁺-ϕ.θ⁻-(ϕ.A[1]-ϕᵣ₊₁₋₂.A[2]-Aᵣ₊₁))\n",
    "+ ϕᵣ₊₁₊₂.u⁻*ϕ′.u⁺*sin(ϕᵣ₊₁₊₂.θ⁻-ϕ′.θ⁺-(ϕ′.A[1]+ϕᵣ₊₁.A[2]+Aᵣ₊₁)) - ϕᵣ₊₁₊₂.u⁻*ϕ.u⁺*sin(ϕᵣ₊₁₊₂.θ⁻-ϕ.θ⁺-(ϕ.A[1]+ϕᵣ₊₁.A[2]+Aᵣ₊₁))\n",
    "    \n",
    "+ ϕᵣ₋₁₊₂.u⁻*ϕ′.u⁺*sin(ϕ′.θ⁺-ϕᵣ₋₁₊₂.θ⁻-(ϕᵣ₋₁₊₂.A[1]-ϕ′.A[2]-Aᵣ)) - ϕᵣ₋₁₊₂.u⁻*ϕ.u⁺*sin(ϕ.θ⁺-ϕᵣ₋₁₊₂.θ⁻-(ϕᵣ₋₁₊₂.A[1]-ϕ.A[2]-Aᵣ))\n",
    "+ ϕᵣ₊₁₊₂.u⁻*ϕ′.u⁺*sin(ϕᵣ₊₁₊₂.θ⁻-ϕ′.θ⁺-(ϕᵣ₊₂.A[1]+ϕ′.A[2]+Aᵣ)) - ϕᵣ₊₁₊₂.u⁻*ϕ.u⁺*sin(ϕᵣ₊₁₊₂.θ⁻-ϕ.θ⁺-(ϕᵣ₊₂.A[1]+ϕ.A[2]+Aᵣ))))\n",
    "    \n",
    "    # Then calculate the Gauge field contribution\n",
    "    # First contribution from current position\n",
    "    δE += ((ϕ′.A[1] + ϕᵣ₊₁.A[2] - ϕᵣ₊₂.A[1] - ϕ′.A[2])^2 - (ϕ.A[1] + ϕᵣ₊₁.A[2] - ϕᵣ₊₂.A[1] - ϕ.A[2])^2)*c.g⁻²\n",
    "    # Then from position r-x\n",
    "    δE += ((ϕᵣ₋₁.A[1] + ϕ′.A[2] - ϕᵣ₋₁₊₂.A[1] - ϕᵣ₋₁.A[2])^2 - (ϕᵣ₋₁.A[1] + ϕ.A[2] - ϕᵣ₋₁₊₂.A[1] - ϕᵣ₋₁.A[2])^2)*c.g⁻²\n",
    "    # Then from position r-y\n",
    "    δE += ((ϕᵣ₋₂.A[1] + ϕᵣ₊₁₋₂.A[2] - ϕ′.A[1] - ϕᵣ₋₂.A[2])^2 - (ϕᵣ₋₂.A[1] + ϕᵣ₊₁₋₂.A[2] - ϕ.A[1] - ϕᵣ₋₂.A[2])^2)*c.g⁻²\n",
    "    δE\n",
    "end"
   ]
  },
  {
   "cell_type": "code",
   "execution_count": 14,
   "metadata": {},
   "outputs": [
    {
     "data": {
      "text/plain": [
       "metropolisHastingUpdate! (generic function with 2 methods)"
      ]
     },
     "execution_count": 14,
     "metadata": {},
     "output_type": "execute_result"
    }
   ],
   "source": [
    "# --------------------------------------------------------------------------------------------------\n",
    "# Performes a Metropolis Hasting update on a lattice site at position pos in state ψ given an inverse temperature\n",
    "# β and where ϕᵣ... gives nearest and next nearest neighbor sites. Note that pos gives [y,x] of the position of\n",
    "# the lattice site in normal array notation such that [1,1] is the upper left corner.\n",
    "function metropolisHastingUpdate!(ψ::State, pos::Array{Int64,1}, sim::Controls)\n",
    "\t# Save the lattice site at the targeted position in a temporary variable ϕ and use the lattice site\n",
    "\t# as a basis for proposing a new lattice site ϕ′. Then find the energy difference between having\n",
    "\t# ϕ′ or ϕ at position pos.\n",
    "    const ϕ = ψ.lattice[pos...]\n",
    "    const ϕ′ = proposeLocalUpdate(ϕ, sim)\n",
    "    const δE = ΔE(ϕ′, ϕ, ψ.nb[pos...], ψ.nnb[pos...], ψ.nnnb[pos...], pos[2], ψ.consts)\n",
    "    \n",
    "    # Create random number ran ∈ (0,1].\n",
    "    const ran = rand()\n",
    "    if ran==0\n",
    "        ran=1\n",
    "    end\n",
    "    \n",
    "    # Update state with probability min(1, e^{-β⋅δE})\n",
    "    # and return the energy of final state regardless of whether it gets updated or not.\n",
    "    if log(ran) <= -ψ.consts.β*δE\n",
    "        ψ.lattice[pos...] = ϕ′\n",
    "        return δE\n",
    "    else\n",
    "        return 0.0\n",
    "    end\n",
    "end\n"
   ]
  },
  {
   "cell_type": "code",
   "execution_count": 8,
   "metadata": {},
   "outputs": [
    {
     "data": {
      "text/plain": [
       "latticeNeighbors (generic function with 1 method)"
      ]
     },
     "execution_count": 8,
     "metadata": {},
     "output_type": "execute_result"
    }
   ],
   "source": [
    "# Constructs mirror lattice of lattice, where each element consists of a Neighbor object listing all the\n",
    "# nearest neighbor LatticeSites of the LatticeSite in the mirror lattice that is at the corresponding position\n",
    "# of the Neighbor object.\n",
    "function latticeNeighbors(lattice::Array{LatticeSite, 2}, L::Int64)\n",
    "    nb = Array{Neighbors,2}(undef, L,L)\n",
    "    \n",
    "    # Set neighbors of upper right corner\n",
    "    ϕᵣ₊₁ = lattice[1,1]\n",
    "    ϕᵣ₋₁ = lattice[1,L-1]\n",
    "    ϕᵣ₊₂ = lattice[L,L]\n",
    "    ϕᵣ₋₂ = lattice[2,L]\n",
    "    nb[1,L] = Neighbors(ϕᵣ₊₁, ϕᵣ₋₁, ϕᵣ₊₂, ϕᵣ₋₂)\n",
    "    \n",
    "    # Set neighbors of upper left corner\n",
    "    ϕᵣ₊₁ = lattice[1,2]\n",
    "    ϕᵣ₋₁ = lattice[1,L]\n",
    "    ϕᵣ₊₂ = lattice[L,1]\n",
    "    ϕᵣ₋₂ = lattice[2,1]\n",
    "    nb[1,1] = Neighbors(ϕᵣ₊₁, ϕᵣ₋₁, ϕᵣ₊₂, ϕᵣ₋₂)\n",
    "    \n",
    "    # Set neighbors of lower right corner\n",
    "    ϕᵣ₊₁ = lattice[L,1]\n",
    "    ϕᵣ₋₁ = lattice[L,L-1]\n",
    "    ϕᵣ₊₂ = lattice[L-1,L]\n",
    "    ϕᵣ₋₂ = lattice[1,L]\n",
    "    nb[L,L] = Neighbors(ϕᵣ₊₁, ϕᵣ₋₁, ϕᵣ₊₂, ϕᵣ₋₂)\n",
    "    \n",
    "    # Set neighbors of lower left corner\n",
    "    ϕᵣ₊₁ = lattice[L,2]\n",
    "    ϕᵣ₋₁ = lattice[L,L]\n",
    "    ϕᵣ₊₂ = lattice[L-1,1]\n",
    "    ϕᵣ₋₂ = lattice[1,1]\n",
    "    nb[L,1] = Neighbors(ϕᵣ₊₁, ϕᵣ₋₁, ϕᵣ₊₂, ϕᵣ₋₂)\n",
    "    \n",
    "    # Set neighbors of borders except for corners\n",
    "    for i=2:L-1\n",
    "        # Right y-boundary\n",
    "        ϕᵣ₊₁ = lattice[i,1]\n",
    "        ϕᵣ₋₁ = lattice[i,L-1]\n",
    "        ϕᵣ₊₂ = lattice[i-1,L]\n",
    "        ϕᵣ₋₂ = lattice[i+1,L]\n",
    "        nb[i,L] = Neighbors(ϕᵣ₊₁, ϕᵣ₋₁, ϕᵣ₊₂, ϕᵣ₋₂)\n",
    "        \n",
    "        # Left y-boundary\n",
    "        ϕᵣ₊₁ = lattice[i,2]\n",
    "        ϕᵣ₋₁ = lattice[i,L]\n",
    "        ϕᵣ₊₂ = lattice[i-1,1]\n",
    "        ϕᵣ₋₂ = lattice[i+1,1]\n",
    "        nb[i,1] = Neighbors(ϕᵣ₊₁, ϕᵣ₋₁, ϕᵣ₊₂, ϕᵣ₋₂)\n",
    "        \n",
    "        # Lower x-boundary\n",
    "        ϕᵣ₊₁ = lattice[L,i+1]\n",
    "        ϕᵣ₋₁ = lattice[L,i-1]\n",
    "        ϕᵣ₊₂ = lattice[L-1,i]\n",
    "        ϕᵣ₋₂ = lattice[1,i]\n",
    "        nb[L,i] = Neighbors(ϕᵣ₊₁, ϕᵣ₋₁, ϕᵣ₊₂, ϕᵣ₋₂)\n",
    "        \n",
    "        # Upper x-boundary\n",
    "        ϕᵣ₊₁ = lattice[1,i+1]\n",
    "        ϕᵣ₋₁ = lattice[1,i-1]\n",
    "        ϕᵣ₊₂ = lattice[L,i]\n",
    "        ϕᵣ₋₂ = lattice[2,i]\n",
    "        nb[1,i] = Neighbors(ϕᵣ₊₁, ϕᵣ₋₁, ϕᵣ₊₂, ϕᵣ₋₂)\n",
    "    end\n",
    "    \n",
    "    # Contribution from the bulk of lattice sites\n",
    "    for x=2:(L-1), y=2:(L-1)\n",
    "        ϕ = lattice[y,x]          # Lattice site at position r\n",
    "        ϕᵣ₊₁ = lattice[y,x+1]       # Nearest neighbor at r+x\n",
    "        ϕᵣ₋₁ = lattice[y,x-1]\n",
    "        ϕᵣ₊₂ = lattice[y-1,x]       # Nearest neighbor at r+y\n",
    "        ϕᵣ₋₂ = lattice[y+1,x]\n",
    "        nb[y,x] = Neighbors(ϕᵣ₊₁, ϕᵣ₋₁, ϕᵣ₊₂, ϕᵣ₋₂)\n",
    "    end\n",
    "    nb\n",
    "end"
   ]
  },
  {
   "cell_type": "code",
   "execution_count": 9,
   "metadata": {},
   "outputs": [
    {
     "data": {
      "text/plain": [
       "latticeNextNeighbors (generic function with 1 method)"
      ]
     },
     "execution_count": 9,
     "metadata": {},
     "output_type": "execute_result"
    }
   ],
   "source": [
    "# Constructs lattice of next nearest negihbors sites of the corresponding lattice LatticeSites\n",
    "function latticeNextNeighbors(lattice::Array{LatticeSite,2}, L::Int64)\n",
    "    nnb = Array{NextNeighbors,2}(undef, L,L)\n",
    "    \n",
    "    # Contribution from upper right corner\n",
    "    ϕᵣ₊₁₊₂ = lattice[L,1]\n",
    "    ϕᵣ₊₁₋₂ = lattice[2,1]\n",
    "    ϕᵣ₋₁₊₂ = lattice[L,L-1]\n",
    "    ϕᵣ₋₁₋₂ = lattice[2,L-1]\n",
    "    nnb[1,L] = NextNeighbors(ϕᵣ₊₁₊₂, ϕᵣ₊₁₋₂, ϕᵣ₋₁₊₂, ϕᵣ₋₁₋₂)\n",
    "    \n",
    "    # Contribution from upper left corner\n",
    "    ϕᵣ₊₁₊₂ = lattice[L,2]\n",
    "    ϕᵣ₊₁₋₂ = lattice[2,2]\n",
    "    ϕᵣ₋₁₊₂ = lattice[L,L]\n",
    "    ϕᵣ₋₁₋₂ = lattice[2,L]\n",
    "    nnb[1,1] = NextNeighbors(ϕᵣ₊₁₊₂, ϕᵣ₊₁₋₂, ϕᵣ₋₁₊₂, ϕᵣ₋₁₋₂)\n",
    "    \n",
    "    # Contribution from lower right corner\n",
    "    ϕᵣ₊₁₊₂ = lattice[L-1,1]\n",
    "    ϕᵣ₊₁₋₂ = lattice[1,1]\n",
    "    ϕᵣ₋₁₊₂ = lattice[L-1,L-1]\n",
    "    ϕᵣ₋₁₋₂ = lattice[1,L-1]\n",
    "    nnb[L,L] = NextNeighbors(ϕᵣ₊₁₊₂, ϕᵣ₊₁₋₂, ϕᵣ₋₁₊₂, ϕᵣ₋₁₋₂)\n",
    "    \n",
    "    # Contribution from lower left corner\n",
    "    ϕᵣ₊₁₊₂ = lattice[L-1,2]\n",
    "    ϕᵣ₊₁₋₂ = lattice[1,2]\n",
    "    ϕᵣ₋₁₊₂ = lattice[L-1,L]\n",
    "    ϕᵣ₋₁₋₂ = lattice[1,L]\n",
    "    nnb[L,1] = NextNeighbors(ϕᵣ₊₁₊₂, ϕᵣ₊₁₋₂, ϕᵣ₋₁₊₂, ϕᵣ₋₁₋₂)\n",
    "    \n",
    "    # Set next nearest neighbors of borders except for corners\n",
    "    for i = 2:(L-1)\n",
    "        # Right y-boundary\n",
    "        ϕᵣ₊₁₊₂ = lattice[i-1,1]\n",
    "        ϕᵣ₊₁₋₂ = lattice[i+1,1]\n",
    "        ϕᵣ₋₁₊₂ = lattice[i-1,L-1]\n",
    "        ϕᵣ₋₁₋₂ = lattice[i+1,L-1]\n",
    "        nnb[i,L] = NextNeighbors(ϕᵣ₊₁₊₂, ϕᵣ₊₁₋₂, ϕᵣ₋₁₊₂, ϕᵣ₋₁₋₂)\n",
    "        \n",
    "        # Left y-boundary\n",
    "        ϕᵣ₊₁₊₂ = lattice[i-1,2]\n",
    "        ϕᵣ₊₁₋₂ = lattice[i+1,2]\n",
    "        ϕᵣ₋₁₊₂ = lattice[i-1,L]\n",
    "        ϕᵣ₋₁₋₂ = lattice[i+1,L]\n",
    "        nnb[i,1] = NextNeighbors(ϕᵣ₊₁₊₂, ϕᵣ₊₁₋₂, ϕᵣ₋₁₊₂, ϕᵣ₋₁₋₂)\n",
    "        \n",
    "        # Lower x-boundary\n",
    "        ϕᵣ₊₁₊₂ = lattice[L-1,i+1]\n",
    "        ϕᵣ₊₁₋₂ = lattice[1,i+1]\n",
    "        ϕᵣ₋₁₊₂ = lattice[L-1,i-1]\n",
    "        ϕᵣ₋₁₋₂ = lattice[1,i-1]\n",
    "        nnb[L,i] = NextNeighbors(ϕᵣ₊₁₊₂, ϕᵣ₊₁₋₂, ϕᵣ₋₁₊₂, ϕᵣ₋₁₋₂)\n",
    "        \n",
    "        # Upper x-boundary\n",
    "        ϕᵣ₊₁₊₂ = lattice[L,i+1]\n",
    "        ϕᵣ₊₁₋₂ = lattice[2,i+1]\n",
    "        ϕᵣ₋₁₊₂ = lattice[L,i-1]\n",
    "        ϕᵣ₋₁₋₂ = lattice[2,i-1]\n",
    "        nnb[L,i] = NextNeighbors(ϕᵣ₊₁₊₂, ϕᵣ₊₁₋₂, ϕᵣ₋₁₊₂, ϕᵣ₋₁₋₂)\n",
    "    end\n",
    "    \n",
    "    # Contributions from bulk positions\n",
    "    for h_pos = 2:(L-1), v_pos=2:(L-1)\n",
    "        ϕᵣ₊₁₊₂ = lattice[v_pos-1,h_pos+1]\n",
    "        ϕᵣ₊₁₋₂ = lattice[v_pos+1,h_pos+1]\n",
    "        ϕᵣ₋₁₊₂ = lattice[v_pos-1,h_pos-1]\n",
    "        ϕᵣ₋₁₋₂ = lattice[v_pos+1,h_pos-1]\n",
    "        nnb[v_pos,h_pos] = NextNeighbors(ϕᵣ₊₁₊₂, ϕᵣ₊₁₋₂, ϕᵣ₋₁₊₂, ϕᵣ₋₁₋₂)\n",
    "    end\n",
    "    nnb\n",
    "end"
   ]
  },
  {
   "cell_type": "code",
   "execution_count": 12,
   "metadata": {},
   "outputs": [
    {
     "name": "stdout",
     "output_type": "stream",
     "text": [
      "-1\n",
      "0\n"
     ]
    }
   ],
   "source": [
    "for i=-1:0\n",
    "    println(i)\n",
    "end"
   ]
  },
  {
   "cell_type": "code",
   "execution_count": 13,
   "metadata": {},
   "outputs": [
    {
     "data": {
      "text/plain": [
       "latticeNNNeighbors (generic function with 1 method)"
      ]
     },
     "execution_count": 13,
     "metadata": {},
     "output_type": "execute_result"
    }
   ],
   "source": [
    "# Constructs lattice of next next nearest neighbor sites of the corresponding lattice LatticeSites\n",
    "function latticeNNNeighbors(lattice::Array{LatticeSite, 2}, L::Int64)\n",
    "    nnnb = Array{NNNeighbors,2}(undef, L,L)\n",
    "    \n",
    "    # Contribution from upper right 2x2 corner\n",
    "    for i = 0:1, j=0:1\n",
    "        ϕᵣ₊₁₁ = lattice[1+i, 1+j]\n",
    "        ϕᵣ₋₁₁ = lattice[1+i, L-3+j]\n",
    "        ϕᵣ₊₂₂ = lattice[L-1+i, L-1+j]\n",
    "        ϕᵣ₋₂₂ = lattice[3+i, L-1+j]\n",
    "        nnnb[1+i,L-1+j] = NNNeighbors(ϕᵣ₊₁₁, ϕᵣ₋₁₁, ϕᵣ₊₂₂, ϕᵣ₋₂₂)\n",
    "    end\n",
    "    \n",
    "    # Contribution from upper left 2x2 corner\n",
    "    for i = 0:1, j=0:1\n",
    "        ϕᵣ₊₁₁ = lattice[1+i, 3+j]\n",
    "        ϕᵣ₋₁₁ = lattice[1+i, L-1+j]\n",
    "        ϕᵣ₊₂₂ = lattice[L-1+i, 1+j]\n",
    "        ϕᵣ₋₂₂ = lattice[3+i, 1+j]\n",
    "        nnnb[1+i,1+j] = NNNeighbors(ϕᵣ₊₁₁, ϕᵣ₋₁₁, ϕᵣ₊₂₂, ϕᵣ₋₂₂)\n",
    "    end\n",
    "    \n",
    "    # Contribution from lower left 2x2 corner\n",
    "    for i = -1:0, j=0:1\n",
    "        ϕᵣ₊₁₁ = lattice[L+i, 3+j]\n",
    "        ϕᵣ₋₁₁ = lattice[L+i, L-1+j]\n",
    "        ϕᵣ₊₂₂ = lattice[L-2+i, 1+j]\n",
    "        ϕᵣ₋₂₂ = lattice[2+i, 1+j]\n",
    "        nnnb[L+i,1+j] = NNNeighbors(ϕᵣ₊₁₁, ϕᵣ₋₁₁, ϕᵣ₊₂₂, ϕᵣ₋₂₂)\n",
    "    end\n",
    "    \n",
    "    # Contribution from lower right 2x2 corner\n",
    "    for i = -1:0, j=-1:0\n",
    "        ϕᵣ₊₁₁ = lattice[L+i, 2+j]\n",
    "        ϕᵣ₋₁₁ = lattice[L+i, L-2+j]\n",
    "        ϕᵣ₊₂₂ = lattice[L-2+i, L+j]\n",
    "        ϕᵣ₋₂₂ = lattice[2+i, L+j]\n",
    "        nnnb[L+i,L+j] = NNNeighbors(ϕᵣ₊₁₁, ϕᵣ₋₁₁, ϕᵣ₊₂₂, ϕᵣ₋₂₂)\n",
    "    end\n",
    "    \n",
    "    # Contribution from borders\n",
    "    for k = 3:(L-2)\n",
    "        for i = 0:1\n",
    "            # Contribution from 2-thick upper x-boundary\n",
    "            ϕᵣ₊₁₁ = lattice[1+i, k+2]\n",
    "            ϕᵣ₋₁₁ = lattice[1+i, k-2]\n",
    "            ϕᵣ₊₂₂ = lattice[L-1+i, k]\n",
    "            ϕᵣ₋₂₂ = lattice[3+i, k]\n",
    "            nnnb[1+i,k] = NNNeighbors(ϕᵣ₊₁₁, ϕᵣ₋₁₁, ϕᵣ₊₂₂, ϕᵣ₋₂₂)\n",
    "            \n",
    "            # Contribution from 2-thick left y-boundary\n",
    "            ϕᵣ₊₁₁ = lattice[k, 3+i]\n",
    "            ϕᵣ₋₁₁ = lattice[k, L-1+i]\n",
    "            ϕᵣ₊₂₂ = lattice[k-2, 1+i]\n",
    "            ϕᵣ₋₂₂ = lattice[k+2, 1+i]\n",
    "            nnnb[k,1+i] = NNNeighbors(ϕᵣ₊₁₁, ϕᵣ₋₁₁, ϕᵣ₊₂₂, ϕᵣ₋₂₂)\n",
    "        end\n",
    "        \n",
    "        for i = -1:0\n",
    "            # Contribution from 2-thick lower x-boundary\n",
    "            ϕᵣ₊₁₁ = lattice[L+i, k+2]\n",
    "            ϕᵣ₋₁₁ = lattice[L+i, k-2]\n",
    "            ϕᵣ₊₂₂ = lattice[L+i-2, k]\n",
    "            ϕᵣ₋₂₂ = lattice[2+i, k]\n",
    "            nnnb[L+i,k] = NNNeighbors(ϕᵣ₊₁₁, ϕᵣ₋₁₁, ϕᵣ₊₂₂, ϕᵣ₋₂₂)\n",
    "            \n",
    "            # Contribution from 2-thick right y-boundary\n",
    "            ϕᵣ₊₁₁ = lattice[k, 2+i]\n",
    "            ϕᵣ₋₁₁ = lattice[k, L-2+i]\n",
    "            ϕᵣ₊₂₂ = lattice[k-2, L+i]\n",
    "            ϕᵣ₋₂₂ = lattice[k+2, L+i]\n",
    "            nnnb[k,L+i] = NNNeighbors(ϕᵣ₊₁₁, ϕᵣ₋₁₁, ϕᵣ₊₂₂, ϕᵣ₋₂₂)\n",
    "        end\n",
    "    end\n",
    "    \n",
    "    # Contribution from bulk\n",
    "    for h_pos = 3:(L-2), v_pos = 3:(L-2)\n",
    "        ϕᵣ₊₁₁ = lattice[v_pos, h_pos+2]\n",
    "        ϕᵣ₋₁₁ = lattice[v_pos, h_pos-2]\n",
    "        ϕᵣ₊₂₂ = lattice[v_pos-2, h_pos]\n",
    "        ϕᵣ₋₂₂ = lattice[v_pos+2, h_pos]\n",
    "        nnnb[v_pos,h_pos] = NNNeighbors(ϕᵣ₊₁₁, ϕᵣ₋₁₁, ϕᵣ₊₂₂, ϕᵣ₋₂₂)\n",
    "    end\n",
    "    nnnb\n",
    "end"
   ]
  },
  {
   "cell_type": "code",
   "execution_count": 15,
   "metadata": {},
   "outputs": [
    {
     "data": {
      "text/plain": [
       "mcSweep! (generic function with 2 methods)"
      ]
     },
     "execution_count": 15,
     "metadata": {},
     "output_type": "execute_result"
    }
   ],
   "source": [
    "# --------------------------------------------------------------------------------------------------\n",
    "# Takes a state ψ with an L×L lattice and tries to update each site on the lattice by running the\n",
    "# metropolisHastingUpdate! function on it. Each part of the boundary is updated separately so that periodic\n",
    "# boundary conditions are taken care of for values stored in each lattice site.\n",
    "function mcSweep!(ψ::State, sim::Controls = Controls(π/3, 0.4, 3.0))\n",
    "   \n",
    "    # Find size of the lattice L\n",
    "    L::Int64 = ψ.consts.L\n",
    "    \n",
    "    for h_pos = 1:L, v_pos = 1:L\n",
    "        metropolisHastingUpdate!(ψ, [v_pos,h_pos], sim)\n",
    "    end\n",
    "end"
   ]
  },
  {
   "cell_type": "code",
   "execution_count": null,
   "metadata": {},
   "outputs": [],
   "source": []
  }
 ],
 "metadata": {
  "kernelspec": {
   "display_name": "Julia 0.6.3",
   "language": "julia",
   "name": "julia-0.6"
  },
  "language_info": {
   "file_extension": ".jl",
   "mimetype": "application/julia",
   "name": "julia",
   "version": "0.6.3"
  }
 },
 "nbformat": 4,
 "nbformat_minor": 2
}
