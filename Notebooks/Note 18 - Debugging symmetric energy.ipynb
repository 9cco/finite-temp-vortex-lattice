{
 "cells": [
  {
   "cell_type": "code",
   "execution_count": 1,
   "metadata": {},
   "outputs": [],
   "source": [
    "# Import source\n",
    "\n",
    "cd(\"../Source\")\n",
    "include(\"ChiralMC.jl\")\n",
    "using ChiralMC\n",
    "\n",
    "include(\"functions_msc.jl\")\n",
    "include(\"functions_observables.jl\")\n",
    "include(\"functions_parallel.jl\")\n",
    "\n",
    "using Base.Test\n",
    "using Plots\n",
    "gr()\n",
    "using Distributions\n",
    "cd(\"../Notebooks/\")"
   ]
  },
  {
   "cell_type": "code",
   "execution_count": 7,
   "metadata": {},
   "outputs": [
    {
     "name": "stdout",
     "output_type": "stream",
     "text": [
      "\n",
      "Testing Energy difference function ΔE\n",
      "----------------------------------------------------------------\n",
      "Checking that ΔE and E get the same result\n",
      "ΔE\t\t\tE₁-E₂\n",
      "-5.371279643836078e6\t-5.371279643836141e6\n",
      "0.9999999999999883\n",
      "\u001b[1m\u001b[32mTest Passed\u001b[39m\u001b[22m\n"
     ]
    }
   ],
   "source": [
    "println(\"\\nTesting Energy difference function ΔE\\n----------------------------------------------------------------\")\n",
    "# Test case. We make a random 5x5 lattice, and put two different lattice sites in the middle\n",
    "# i.e. the [2,2] position. Then we use the different functions to calculate the energy\n",
    "# difference associated with this change.\n",
    "\n",
    "L = 5\n",
    "ψ₂ = State(2,L)\n",
    "site = LatticeSite() # Get random lattice site\n",
    "ψ₁ = copy(ψ₂)\n",
    "@test ψ₁.nb[3,2].ϕᵣ₊₂.u⁺ == ψ₁.lattice[2,2].u⁺\n",
    "@test ψ₁.nb[3,2].ϕᵣ₊₂ == ψ₁.lattice[2,2]\n",
    "set!(ψ₁.lattice[2,2], site)\n",
    "@test ψ₁.nb[3,2].ϕᵣ₊₂.u⁺ == site.u⁺\n",
    "\n",
    "dE = ΔE(site,ψ₂.lattice[2,2],ψ₂.nb[2,2],ψ₂.nnb[2,2],ψ₂.nnnb[2,2], 2,ψ₂.consts)\n",
    "println(\"Checking that ΔE and E get the same result\")\n",
    "println(\"ΔE\\t\\t\\tE₁-E₂\")\n",
    "println(\"$dE\\t$(E(ψ₁)-E(ψ₂))\")\n",
    "println(dE/(E(ψ₁)-E(ψ₂)))\n",
    "println(@test isapprox(E(ψ₁)-E(ψ₂), dE; atol=0, rtol=1e-13))"
   ]
  },
  {
   "cell_type": "code",
   "execution_count": 8,
   "metadata": {},
   "outputs": [
    {
     "name": "stdout",
     "output_type": "stream",
     "text": [
      "Checking that ΔE gives same result as E'-E on all different sites of the lattice\n",
      "[v_pos, h_pos]\t|ΔE-(E₁-E₂)|\n",
      "[1, 1]\t\t4.470348358154297e-8\n",
      "[2, 1]\t\t5.21540641784668e-8\n",
      "[3, 1]\t\t5.587935447692871e-8\n",
      "[4, 1]\t\t1.4156103134155273e-7\n",
      "[5, 1]\t\t5.960464477539063e-8\n",
      "[1, 2]\t\t2.9802322387695312e-8\n",
      "[2, 2]\t\t4.0046870708465576e-8\n",
      "[3, 2]\t\t2.9802322387695312e-8\n",
      "[4, 2]\t\t3.3527612686157227e-8\n",
      "[5, 2]\t\t4.842877388000488e-8\n",
      "[1, 3]\t\t7.450580596923828e-9\n",
      "[2, 3]\t\t5.960464477539063e-8\n",
      "[3, 3]\t\t1.1175870895385742e-7\n",
      "[4, 3]\t\t1.4901161193847656e-8\n",
      "[5, 3]\t\t6.705522537231445e-8\n",
      "[1, 4]\t\t1.4901161193847656e-8\n",
      "[2, 4]\t\t1.862645149230957e-8\n",
      "[3, 4]\t\t1.862645149230957e-8\n",
      "[4, 4]\t\t3.166496753692627e-8\n",
      "[5, 4]\t\t2.421438694000244e-8\n",
      "[1, 5]\t\t4.842877388000488e-8\n",
      "[2, 5]\t\t4.470348358154297e-8\n",
      "[3, 5]\t\t1.564621925354004e-7\n",
      "[4, 5]\t\t1.2665987014770508e-7\n",
      "[5, 5]\t\t1.1548399925231934e-7\n",
      "\u001b[1m\u001b[32mTest Passed\u001b[39m\u001b[22m\n"
     ]
    }
   ],
   "source": [
    "\n",
    "println(\"Checking that ΔE gives same result as E'-E on all different sites of the lattice\")\n",
    "println(\"[v_pos, h_pos]\\t|ΔE-(E₁-E₂)|\")\n",
    "for h_pos = 1:L, v_pos = 1:L\n",
    "    ψ₁ = copy(ψ₂)\n",
    "    ϕ′ = LatticeSite()\n",
    "    dE = ΔE(ϕ′, ψ₂.lattice[v_pos,h_pos],ψ₂.nb[v_pos,h_pos],ψ₂.nnb[v_pos,h_pos],ψ₂.nnnb[v_pos,h_pos],h_pos,ψ₂.consts)\n",
    "    set!(ψ₁.lattice[v_pos,h_pos], ϕ′)\n",
    "    println(\"[$(v_pos), $h_pos]\\t\\t$(abs(dE-(E(ψ₁)-E(ψ₂))))\")\n",
    "    @test isapprox(E(ψ₁)-E(ψ₂), dE; atol=0, rtol=5e-13)\n",
    "end\n",
    "println(@test isapprox(E(ψ₁)-E(ψ₂), dE; atol=0, rtol=5e-13))\n"
   ]
  },
  {
   "cell_type": "code",
   "execution_count": 3,
   "metadata": {},
   "outputs": [
    {
     "name": "stdout",
     "output_type": "stream",
     "text": [
      "\n",
      "Testing Energy function E(ψ)\n",
      "----------------------------------------------------------------\n",
      "Test case: uᵣ⁺=const., uᵣ⁻=const., θ⁺=θ⁻=Aᵣ,ᵢ=0\n",
      "Testing mostly Fₖ and Fᵥ\n",
      "teoretisk =\t-0.6414910474159115\n",
      "E =\t\t-0.6414910474150659\n",
      "\u001b[1m\u001b[32mTest Passed\u001b[39m\u001b[22m\n"
     ]
    }
   ],
   "source": [
    "########################################################################################\n",
    "#                     Testing Symmetric Energy functions\n",
    "#\n",
    "#######################################################################################\n",
    "\n",
    "println(\"\\nTesting Energy function E(ψ)\\n----------------------------------------------------------------\")\n",
    "println(\"Test case: uᵣ⁺=const., uᵣ⁻=const., θ⁺=θ⁻=Aᵣ,ᵢ=0\")\n",
    "println(\"Testing mostly Fₖ and Fᵥ\")\n",
    "\n",
    "L = 100\n",
    "f = 0.0\n",
    "γ = 1.0\n",
    "ν = rand()\n",
    "\n",
    "# First we create a state with all phases and fluctuating gauge fields 0.\n",
    "c = SystConstants(L, γ, 1.0, ν, f, 0.5)\n",
    "ψ = State(1, c)\n",
    "u⁺ = rand()\n",
    "u⁻ = rand()\n",
    "for h_pos = 1:L, v_pos = 1:L\n",
    "    ψ.lattice[v_pos,h_pos].u⁺ = u⁺\n",
    "    ψ.lattice[v_pos,h_pos].u⁻ = u⁻\n",
    "end\n",
    "\n",
    "# Calculate theoretical energy\n",
    "teoretisk = γ^4*L^2*(u⁺^2*u⁻^2*(2+ν)+u⁺^4/2+u⁻^4/2) - L^2*(u⁺^2+u⁻^2)\n",
    "println(\"teoretisk =\\t$(teoretisk)\")\n",
    "println(\"E =\\t\\t$(E(ψ))\")\n",
    "println(@test isapprox(E(ψ), teoretisk, atol=0, rtol=1e-13*L^2))"
   ]
  },
  {
   "cell_type": "code",
   "execution_count": 4,
   "metadata": {},
   "outputs": [
    {
     "name": "stdout",
     "output_type": "stream",
     "text": [
      "\n",
      "Test case: uᵣ⁺=const., uᵣ⁻=const., θ⁺=θ⁻=0, Aᵣ,ᵢ=δᵢ₂⋅2πf⋅rₓ\n",
      "Tests the use of non-fluctuating vector potential\n",
      "teoretisk =\t-1181.4925440171028\n",
      "E =\t\t-1181.4925440171146\n",
      "\u001b[1m\u001b[32mTest Passed\u001b[39m\u001b[22m\n"
     ]
    }
   ],
   "source": [
    "println(\"\\nTest case: uᵣ⁺=const., uᵣ⁻=const., θ⁺=θ⁻=0, Aᵣ,ᵢ=δᵢ₂⋅2πf⋅rₓ\")\n",
    "println(\"Tests the use of non-fluctuating vector potential\")\n",
    "\n",
    "L = 100\n",
    "f = 1/L*rand(1:L-1)\n",
    "γ = 1.0\n",
    "ν = rand()\n",
    "\n",
    "c = SystConstants(L, γ, 1.0, ν, f, 0.5)\n",
    "ψ = State(1, c)\n",
    "u⁺ = rand()\n",
    "u⁻ = rand()\n",
    "for h_pos = 1:L, v_pos = 1:L\n",
    "    ψ.lattice[v_pos,h_pos].u⁺ = u⁺\n",
    "    ψ.lattice[v_pos,h_pos].u⁻ = u⁻\n",
    "end\n",
    "\n",
    "χ = sum([cos(4π*f*rₓ) for rₓ=0:(L-1)])\n",
    "\n",
    "teoretisk = -0.5*(u⁺^2 + u⁻^2)*(L^2 + L*χ) + (ν+1)/2*L*u⁺*u⁻*(χ - L) + L^2*(u⁺^2*u⁻^2*(2+ν)+u⁺^4/2+u⁻^4/2)\n",
    "println(\"teoretisk =\\t$(teoretisk)\")\n",
    "println(\"E =\\t\\t$(E(ψ))\")\n",
    "println(@test isapprox(E(ψ), teoretisk, atol=0, rtol=1e-13*L^2))"
   ]
  },
  {
   "cell_type": "code",
   "execution_count": 5,
   "metadata": {},
   "outputs": [
    {
     "name": "stdout",
     "output_type": "stream",
     "text": [
      "\n",
      "Test case: uᵣ⁺=const., uᵣ⁻=const., θ⁺=θ⁻=0, Aᵣ,ᵢ=δᵢ₂⋅2πf⋅rₓ, except at r=r₀ where θᵣ⁺=θ⁺, θᵣ⁻=θ⁻\n",
      "Tests full higgs energy function with MGT term\n",
      "teoretisk =\t-47.850345956643835\n",
      "E =\t\t-47.85034595664161\n",
      "\u001b[1m\u001b[32mTest Passed\u001b[39m\u001b[22m\n"
     ]
    }
   ],
   "source": [
    "println(\"\\nTest case: uᵣ⁺=const., uᵣ⁻=const., θ⁺=θ⁻=0, Aᵣ,ᵢ=δᵢ₂⋅2πf⋅rₓ, except at r=r₀ where θᵣ⁺=θ⁺, θᵣ⁻=θ⁻\")\n",
    "println(\"Tests full higgs energy function with MGT term\")\n",
    "\n",
    "L = 100\n",
    "f = 1/L*rand(1:L-1)\n",
    "γ = 1.0\n",
    "ν = rand()*0.9\n",
    "\n",
    "c = SystConstants(L, γ, 1.0, ν, f, 0.5)\n",
    "ψ = State(1, c)\n",
    "u⁺ = rand()\n",
    "u⁻ = rand()\n",
    "for h_pos = 1:L, v_pos = 1:L\n",
    "    ψ.lattice[v_pos,h_pos].u⁺ = u⁺\n",
    "    ψ.lattice[v_pos,h_pos].u⁻ = u⁻\n",
    "end\n",
    "\n",
    "# Pick r₀ in the middle and set phases\n",
    "r₀ = [floor(Int, L/2), floor(Int, L/2)]\n",
    "θ⁺ = mod2pi(rand()*two_pi)\n",
    "ψ.lattice[r₀...].θ⁺ = θ⁺\n",
    "θ⁻ = mod2pi(rand()*two_pi)\n",
    "ψ.lattice[r₀...].θ⁻ = θ⁻\n",
    "\n",
    "# Calculate theoretical energy\n",
    "rₓ = r₀[2]-1\n",
    "χ = L*sum([cos(4π*f*x) for x=0:(L-1)]) -2*cos(4π*f*rₓ)\n",
    "A = 2π*f\n",
    "Fₘ = (ν-1)/4*u⁺*u⁻*(sin(θ⁺-A*(rₓ-1)) - sin(θ⁺-A*(rₓ+1)) + sin(θ⁺+A*(rₓ+1)) - sin(θ⁺+A*(rₓ-1)) \n",
    "    - (sin(θ⁻-A*(rₓ-1)) - sin(θ⁻-A*(rₓ+1)) + sin(θ⁻+A*(rₓ+1)) - sin(θ⁻+A*(rₓ-1))))\n",
    "Fₖ = -0.5*((u⁺^2+u⁻^2)*(L^2-2+χ) + 2*(u⁺^2*cos(θ⁺)+u⁻^2*cos(θ⁻)) \n",
    "    + u⁺^2*cos(θ⁺+4π*f*rₓ)+u⁻^2*cos(θ⁻+4π*f*rₓ)+u⁺^2*cos(θ⁺-4π*f*rₓ)+u⁻^2*cos(θ⁻-4π*f*rₓ))\n",
    "Fₐₙ = (ν+1)/4*u⁺*u⁻*(2*χ - 2*(L^2-2) - 2*(cos(θ⁺)+cos(θ⁻))\n",
    "    + cos(θ⁺-4π*f*rₓ) + cos(θ⁺+4π*f*rₓ) + cos(θ⁻-4π*f*rₓ) + cos(θ⁻+4π*f*rₓ))\n",
    "Fᵥ = (u⁺*u⁻)^2*((L^2-1)*(2+ν) + 2 + ν*cos(2*(θ⁺-θ⁻))) + L^2/2*(u⁺^4+u⁻^4)\n",
    "teoretisk = Fₘ + Fₖ + Fₐₙ + Fᵥ\n",
    "\n",
    "# Compare with energy function\n",
    "println(\"teoretisk =\\t$(teoretisk)\")\n",
    "println(\"E =\\t\\t$(E(ψ))\")\n",
    "println(@test isapprox(E(ψ), teoretisk, atol=0, rtol=1e-13))"
   ]
  }
 ],
 "metadata": {
  "kernelspec": {
   "display_name": "Julia 0.6.4",
   "language": "julia",
   "name": "julia-0.6"
  },
  "language_info": {
   "file_extension": ".jl",
   "mimetype": "application/julia",
   "name": "julia",
   "version": "0.6.4"
  }
 },
 "nbformat": 4,
 "nbformat_minor": 2
}
