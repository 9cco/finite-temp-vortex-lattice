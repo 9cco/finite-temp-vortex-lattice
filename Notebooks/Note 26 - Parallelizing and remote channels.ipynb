{
 "cells": [
  {
   "cell_type": "markdown",
   "metadata": {},
   "source": [
    "We have a list of states - one for each process, and we want to do M measurements of states in total and write these measurements to a file. The M measurements are divided into nw processes doing M_min+1 measurements while np-nw processes do M_min measurements.\n",
    "\n",
    "In this minimal example we let each measurement be a number myid()x10+rand() and a sleep(2) between each measurement. This is collected in a RemoteChannel and this channel is printed to STOUT instead of saving it to disk."
   ]
  },
  {
   "cell_type": "code",
   "execution_count": 1,
   "metadata": {},
   "outputs": [
    {
     "data": {
      "text/plain": [
       "Plots.PyPlotBackend()"
      ]
     },
     "execution_count": 1,
     "metadata": {},
     "output_type": "execute_result"
    }
   ],
   "source": [
    "@everywhere using Distributions\n",
    "@everywhere using Base.Test\n",
    "@everywhere using StatsBase\n",
    "@everywhere using BenchmarkTools\n",
    "using MCMCDiagnostics\n",
    "cd(\"../Source/\")\n",
    "@everywhere include(\"types.jl\")\n",
    "@everywhere include(\"functions_neighbors.jl\")\n",
    "@everywhere include(\"functions_types.jl\")\n",
    "@everywhere include(\"functions_symmetric_energy.jl\")\n",
    "@everywhere include(\"functions_mc.jl\")\n",
    "@everywhere include(\"functions_thermalization.jl\")\n",
    "@everywhere include(\"functions_observables.jl\")\n",
    "include(\"functions_plots_and_files.jl\")\n",
    "cd(\"../Notebooks/\")\n",
    "using Plots\n",
    "pyplot()"
   ]
  },
  {
   "cell_type": "code",
   "execution_count": 2,
   "metadata": {},
   "outputs": [],
   "source": [
    "@everywhere function intensive(Δt::Int64)\n",
    "    r = √(2)\n",
    "    for i = 2:Δt\n",
    "        r = mod(√(2)*r+√(7), 1)\n",
    "    end\n",
    "    return r\n",
    "end"
   ]
  },
  {
   "cell_type": "code",
   "execution_count": 3,
   "metadata": {},
   "outputs": [],
   "source": [
    "@everywhere function produceMeasurement(M::Int64, Δt::Int64, r_chan::RemoteChannel{Channel{Float64}})\n",
    "    put!(r_chan, myid()*10+intensive(Δt))\n",
    "    for i = 2:M\n",
    "        r = intensive(Δt)\n",
    "        put!(r_chan, myid()*10+r)\n",
    "    end\n",
    "    return\n",
    "end"
   ]
  },
  {
   "cell_type": "code",
   "execution_count": 4,
   "metadata": {},
   "outputs": [
    {
     "data": {
      "text/plain": [
       "emptyChannel (generic function with 1 method)"
      ]
     },
     "execution_count": 4,
     "metadata": {},
     "output_type": "execute_result"
    }
   ],
   "source": [
    "function emptyChannel(r_chan::RemoteChannel{Channel{Float64}})\n",
    "    while isready(r_chan)\n",
    "        println(take!(r_chan))\n",
    "    end\n",
    "    return\n",
    "end"
   ]
  },
  {
   "cell_type": "code",
   "execution_count": 5,
   "metadata": {},
   "outputs": [
    {
     "data": {
      "text/plain": [
       "produceMeasurementMaster (generic function with 1 method)"
      ]
     },
     "execution_count": 5,
     "metadata": {},
     "output_type": "execute_result"
    }
   ],
   "source": [
    "function produceMeasurementMaster(M::Int64, Δt::Int64, r_chan::RemoteChannel{Channel{Float64}})\n",
    "    r = intensive(Δt)\n",
    "    println(\"$(myid()*10+r)\")\n",
    "    for i = 2:M\n",
    "        #sleep(floor(Int64, Δt/2))\n",
    "        r = intensive(Δt)\n",
    "        println(\"$(myid()*10+r)\")\n",
    "        emptyChannel(r_chan)\n",
    "        flush(STDOUT)\n",
    "    end\n",
    "    return\n",
    "end"
   ]
  },
  {
   "cell_type": "code",
   "execution_count": 16,
   "metadata": {},
   "outputs": [
    {
     "data": {
      "text/plain": [
       "measurements (generic function with 1 method)"
      ]
     },
     "execution_count": 16,
     "metadata": {},
     "output_type": "execute_result"
    }
   ],
   "source": [
    "function collection(r_chan::RemoteChannel{Channel{Float64}})\n",
    "    while true\n",
    "        ψ = take!(r_chan)\n",
    "        println(ψ)\n",
    "    end\n",
    "end\n",
    "\n",
    "function measurements(M::Int64, Δt::Int64)\n",
    "    # Setup storage channel for parallel processes\n",
    "    r_chan = RemoteChannel(()->Channel{Float64}(M))\n",
    "    \n",
    "     # Splitting the problem into np sub-problems.\n",
    "    np = nprocs()-1\n",
    "    # Minimum amount of work pr. process\n",
    "    M_min = Int(floor(M/np))\n",
    "    # Number of workers doing +1 extra work\n",
    "    nw = M%np\n",
    "    \n",
    "    println(\"Minimum work: $(M_min)\\n\")\n",
    "    @async collection(r_chan)\n",
    "    @sync begin\n",
    "        for i = 1:nw\n",
    "            @async remotecall_fetch(produceMeasurement, i+1, M_min+1, Δt, r_chan)\n",
    "        end\n",
    "        for i = 1:np-nw\n",
    "            @async remotecall_fetch(produceMeasurement, i+1+nw, M_min, Δt, r_chan)\n",
    "        end\n",
    "    end\n",
    "    return\n",
    "end"
   ]
  },
  {
   "cell_type": "code",
   "execution_count": 41,
   "metadata": {},
   "outputs": [
    {
     "data": {
      "text/plain": [
       "4096"
      ]
     },
     "execution_count": 41,
     "metadata": {},
     "output_type": "execute_result"
    }
   ],
   "source": [
    "2^12"
   ]
  },
  {
   "cell_type": "code",
   "execution_count": 17,
   "metadata": {},
   "outputs": [
    {
     "name": "stdout",
     "output_type": "stream",
     "text": [
      "Minimum work: 15\n",
      "\n",
      "30.14176452568755\n",
      "20.14176452568755\n",
      "30.14176452568755\n",
      "20.14176452568755\n",
      "30.14176452568755\n",
      "20.14176452568755\n",
      "30.14176452568755\n",
      "20.14176452568755\n",
      "30.14176452568755\n",
      "20.14176452568755\n",
      "30.14176452568755\n",
      "20.14176452568755\n",
      "30.14176452568755\n",
      "20.14176452568755\n",
      "30.14176452568755\n",
      "20.14176452568755\n",
      "30.14176452568755\n",
      "20.14176452568755\n",
      "30.14176452568755\n",
      "20.14176452568755\n",
      "30.14176452568755\n",
      "20.14176452568755\n",
      "30.14176452568755\n",
      "20.14176452568755\n",
      "30.14176452568755\n",
      "20.14176452568755\n",
      "30.14176452568755\n",
      "20.14176452568755\n",
      "30.14176452568755\n",
      "20.14176452568755\n",
      " 30.190745 seconds (52.84 k allocations: 2.982 MiB, 0.07% gc time)\n"
     ]
    }
   ],
   "source": [
    "@time measurements(30, 59600000)"
   ]
  },
  {
   "cell_type": "code",
   "execution_count": 46,
   "metadata": {},
   "outputs": [
    {
     "name": "stdout",
     "output_type": "stream",
     "text": [
      "  0.074757 seconds (6.87 k allocations: 376.488 KiB)\n"
     ]
    },
    {
     "data": {
      "text/plain": [
       "RemoteChannel{Channel{State}}(1, 1, 140937)"
      ]
     },
     "execution_count": 46,
     "metadata": {},
     "output_type": "execute_result"
    }
   ],
   "source": [
    "@time ψ_chan = RemoteChannel(()->Channel{State}(300))"
   ]
  },
  {
   "cell_type": "code",
   "execution_count": 45,
   "metadata": {},
   "outputs": [
    {
     "data": {
      "text/plain": [
       "BenchmarkTools.Trial: \n",
       "  memory estimate:  1.34 KiB\n",
       "  allocs estimate:  36\n",
       "  --------------\n",
       "  minimum time:     21.671 μs (0.00% GC)\n",
       "  median time:      31.049 μs (0.00% GC)\n",
       "  mean time:        31.065 μs (0.00% GC)\n",
       "  maximum time:     1.227 ms (0.00% GC)\n",
       "  --------------\n",
       "  samples:          10000\n",
       "  evals/sample:     1"
      ]
     },
     "execution_count": 45,
     "metadata": {},
     "output_type": "execute_result"
    }
   ],
   "source": [
    "@benchmark ψ_chan = RemoteChannel(()->Channel{State}(300))"
   ]
  },
  {
   "cell_type": "code",
   "execution_count": 50,
   "metadata": {},
   "outputs": [],
   "source": [
    "ψ_res = Array{State,1}(300);"
   ]
  },
  {
   "cell_type": "code",
   "execution_count": 7,
   "metadata": {},
   "outputs": [
    {
     "data": {
      "text/plain": [
       "RemoteChannel{Channel{State}}(1, 1, 44)"
      ]
     },
     "execution_count": 7,
     "metadata": {},
     "output_type": "execute_result"
    }
   ],
   "source": [
    "ψ_chan = RemoteChannel(()->Channel{State}(300))"
   ]
  },
  {
   "cell_type": "code",
   "execution_count": 8,
   "metadata": {},
   "outputs": [
    {
     "name": "stderr",
     "output_type": "stream",
     "text": [
      "WARNING: both BenchmarkTools and Distributions export \"params\"; uses of it in module Main must be qualified\n",
      "WARNING: both BenchmarkTools and StatsBase export \"trim\"; uses of it in module Main must be qualified\n"
     ]
    }
   ],
   "source": [
    "close(ψ_chan)"
   ]
  },
  {
   "cell_type": "code",
   "execution_count": null,
   "metadata": {},
   "outputs": [],
   "source": [
    "wait(ψ_chan)"
   ]
  }
 ],
 "metadata": {
  "kernelspec": {
   "display_name": "Julia -p 2 0.6.4",
   "language": "julia",
   "name": "julia--p-2-0.6"
  },
  "language_info": {
   "file_extension": ".jl",
   "mimetype": "application/julia",
   "name": "julia",
   "version": "0.6.4"
  }
 },
 "nbformat": 4,
 "nbformat_minor": 2
}
