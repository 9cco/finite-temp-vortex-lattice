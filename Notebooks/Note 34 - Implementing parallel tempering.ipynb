{
 "cells": [
  {
   "cell_type": "code",
   "execution_count": 1,
   "metadata": {},
   "outputs": [
    {
     "data": {
      "text/plain": [
       "fixRC (generic function with 1 method)"
      ]
     },
     "execution_count": 1,
     "metadata": {},
     "output_type": "execute_result"
    }
   ],
   "source": [
    "using Distributed\n",
    "# Script for investigating amplitude dependence of potential\n",
    "@everywhere using Distributions\n",
    "@everywhere using Test\n",
    "@everywhere using StatsBase\n",
    "@everywhere using BenchmarkTools\n",
    "@everywhere using LinearAlgebra\n",
    "@everywhere using LaTeXStrings\n",
    "using Primes\n",
    "using MCMCDiagnostics\n",
    "using SharedArrays\n",
    "using Plots\n",
    "pyplot()\n",
    "\n",
    "# Hack for fixing remote channels in 1.0.3 commit 099e826241\n",
    "@everywhere struct Hack end\n",
    "function fixRC()\n",
    "    for p in workers()\n",
    "        @fetchfrom p Hack()\n",
    "    end\n",
    "end"
   ]
  },
  {
   "cell_type": "code",
   "execution_count": 2,
   "metadata": {},
   "outputs": [
    {
     "data": {
      "text/plain": [
       "makeDirRec (generic function with 1 method)"
      ]
     },
     "execution_count": 2,
     "metadata": {},
     "output_type": "execute_result"
    }
   ],
   "source": [
    "@everywhere src_path = \"../Source/\"\n",
    "@everywhere include(src_path*\"types.jl\")\n",
    "@everywhere include(src_path*\"functions_msc.jl\")\n",
    "@everywhere include(src_path*\"functions_neighbors.jl\")\n",
    "@everywhere include(src_path*\"functions_types.jl\")\n",
    "@everywhere include(src_path*\"functions_energy.jl\")\n",
    "@everywhere include(src_path*\"functions_mc.jl\")\n",
    "@everywhere include(src_path*\"functions_thermalization.jl\")\n",
    "@everywhere include(src_path*\"functions_observables.jl\")\n",
    "@everywhere include(src_path*\"functions_symmetries.jl\")\n",
    "include(src_path*\"functions_plots_and_files.jl\")"
   ]
  },
  {
   "cell_type": "code",
   "execution_count": 3,
   "metadata": {},
   "outputs": [],
   "source": [
    "@everywhere mutable struct Replica\n",
    "    ψ::State\n",
    "    state::Int64\n",
    "    En::Float64\n",
    "    sim::Controls\n",
    "end"
   ]
  },
  {
   "cell_type": "code",
   "execution_count": 4,
   "metadata": {},
   "outputs": [
    {
     "name": "stdout",
     "output_type": "stream",
     "text": [
      "[1, 2, 3, 4]\n"
     ]
    }
   ],
   "source": [
    "A = [1,2,3,4]\n",
    "p = sortperm(A)\n",
    "println(p)"
   ]
  },
  {
   "cell_type": "code",
   "execution_count": 5,
   "metadata": {},
   "outputs": [
    {
     "data": {
      "text/plain": [
       "Replica"
      ]
     },
     "execution_count": 5,
     "metadata": {},
     "output_type": "execute_result"
    }
   ],
   "source": [
    "function Replica(ψ::State, sim::Controls)\n",
    "    Replica(ψ, 3, E(ψ), sim)\n",
    "end"
   ]
  },
  {
   "cell_type": "markdown",
   "metadata": {},
   "source": [
    "# Parallelizing Monte-Carlo Sweeps across multiple replicas\n",
    "\n",
    "The challenge here is to make it so that replicas are not continuously copied to new processes when this needs to be done."
   ]
  },
  {
   "cell_type": "code",
   "execution_count": 6,
   "metadata": {},
   "outputs": [],
   "source": [
    "# Make test state.\n",
    "\n",
    "g = 1.0    # Gauge coupling\n",
    "ν = 0.3    # Anisotropy\n",
    "# Other parameters\n",
    "L = 24     # System length\n",
    "L₃ = 24\n",
    "N = L^2*L₃\n",
    "T_list = [1.64, 1.63, 1.6, 1.61, 1.62, 1.65]\n",
    "κ₅ = 1.0\n",
    "f = 0.0/L\n",
    "syst_list = [SystConstants(L, L₃, 1/g^2, ν, κ₅, f, 1/temp) for temp in T_list]\n",
    "ψ_list = [State(1, syst; u⁺=1.0, u⁻=0.0) for syst in syst_list]\n",
    "sim_list = [Controls() for i = 1:length(T_list)]\n",
    "#pt = PTRun(ψ_list, sim_list, 1; verbose=true)\n",
    "rep_list = [Replica(ψ_list[i], sim_list[i]) for i = 1:length(ψ_list)];\n",
    "#println(pt.N_temp)\n",
    "#println(\"Temperatures: $([1/R.ψ.consts.β for R in pt.rep_list])\")"
   ]
  },
  {
   "cell_type": "code",
   "execution_count": 7,
   "metadata": {},
   "outputs": [],
   "source": [
    "@everywhere function nMCS!(R::Replica, n::Int64)\n",
    "    En = R.En\n",
    "    for i=1:n\n",
    "        En += mcSweepEn!(R.ψ,R.sim)\n",
    "    end\n",
    "    R.En = En\n",
    "    return R\n",
    "end"
   ]
  },
  {
   "cell_type": "markdown",
   "metadata": {},
   "source": [
    "# Fast implementation of distributed lists\n",
    "We create a new type that takes a normal 1-d Array of any type, distributes it evenly on available processors, and then enables fast parallel processing of the elements in the array, without the need of copying the element data to each process for each parallel execution."
   ]
  },
  {
   "cell_type": "code",
   "execution_count": 8,
   "metadata": {},
   "outputs": [
    {
     "data": {
      "text/plain": [
       "1:10"
      ]
     },
     "execution_count": 8,
     "metadata": {},
     "output_type": "execute_result"
    }
   ],
   "source": [
    "range(1; length=10)"
   ]
  },
  {
   "cell_type": "code",
   "execution_count": 9,
   "metadata": {},
   "outputs": [
    {
     "data": {
      "text/plain": [
       "getChunckRanges (generic function with 2 methods)"
      ]
     },
     "execution_count": 9,
     "metadata": {},
     "output_type": "execute_result"
    }
   ],
   "source": [
    "function getChunckRanges(n::T, nw::Int64=nprocs()-1) where T <: Int\n",
    "    chunck_min, pluss_num = divrem(n, nw)\n",
    "    chunck_ranges = Array{UnitRange{Int64}, 1}(undef, nw)\n",
    "    for i = 1:pluss_num\n",
    "        chunck_ranges[i] = range((i-1)*(chunck_min+1)+1; length=chunck_min+1)\n",
    "    end\n",
    "    for i = pluss_num+1:nw\n",
    "        chunck_ranges[i] = range(pluss_num*(chunck_min+1)+(i-1-pluss_num)*chunck_min+1; length=chunck_min)\n",
    "    end\n",
    "    return chunck_ranges\n",
    "end"
   ]
  },
  {
   "cell_type": "code",
   "execution_count": 10,
   "metadata": {},
   "outputs": [
    {
     "data": {
      "text/plain": [
       "2"
      ]
     },
     "execution_count": 10,
     "metadata": {},
     "output_type": "execute_result"
    }
   ],
   "source": [
    "length(workers())"
   ]
  },
  {
   "cell_type": "code",
   "execution_count": 11,
   "metadata": {},
   "outputs": [
    {
     "data": {
      "text/plain": [
       "UnitRange{Int64}"
      ]
     },
     "execution_count": 11,
     "metadata": {},
     "output_type": "execute_result"
    }
   ],
   "source": [
    "typeof(1:5)"
   ]
  },
  {
   "cell_type": "code",
   "execution_count": 12,
   "metadata": {},
   "outputs": [],
   "source": [
    "@everywhere struct DLChunck{T}\n",
    "    p::Int64\n",
    "    chan::RemoteChannel{Channel{Array{T,1}}}\n",
    "    range::UnitRange{Int64}\n",
    "end"
   ]
  },
  {
   "cell_type": "code",
   "execution_count": 13,
   "metadata": {},
   "outputs": [
    {
     "data": {
      "text/plain": [
       "distribute (generic function with 1 method)"
      ]
     },
     "execution_count": 13,
     "metadata": {},
     "output_type": "execute_result"
    }
   ],
   "source": [
    "function distribute(r_list::Array{T,1}; pids = workers()) where {T}\n",
    "    n = length(r_list)\n",
    "    nw = length(pids)\n",
    "    chunck_ranges = getChunckRanges(n, nw)\n",
    "    \n",
    "    chunck_list = Array{DLChunck, 1}(undef, nw)\n",
    "    for (i, p) = enumerate(pids)\n",
    "        chunck_list[i] = DLChunck(p, RemoteChannel(()->Channel{Array{T,1}}(1), p), chunck_ranges[i])\n",
    "        put!(chunck_list[i].chan, r_list[chunck_ranges[i]])\n",
    "    end\n",
    "    chunck_list\n",
    "end"
   ]
  },
  {
   "cell_type": "code",
   "execution_count": 14,
   "metadata": {},
   "outputs": [
    {
     "data": {
      "text/plain": [
       "dmap (generic function with 2 methods)"
      ]
     },
     "execution_count": 14,
     "metadata": {},
     "output_type": "execute_result"
    }
   ],
   "source": [
    "struct DList\n",
    "    chunck_list::Array{DLChunck, 1}\n",
    "    elem_pr_chunck::Array{Int64, 1}\n",
    "    chuncks::Int64\n",
    "    chunck_map::Array{Tuple{Int64, Int64}, 1}     # Map from the original indices to a tuple consisting of the index\n",
    "    # of the chunck containing the index as well as the position in the chunck.\n",
    "end\n",
    "import Base.length\n",
    "function length(dlist::DList)\n",
    "    l = 0\n",
    "    for i = 1:dlist.chuncks\n",
    "        l += dlist.elem_pr_chunck[i]\n",
    "    end\n",
    "    return l\n",
    "end\n",
    "function DList(r_list::Array{T, 1}) where {T}\n",
    "    chunck_list = distribute(r_list)\n",
    "    chuncks = length(chunck_list)\n",
    "    elem_pr_chunck = Array{Int64, 1}(undef, chuncks)\n",
    "    chunck_map = Array{Tuple{Int64, Int64}, 1}(undef, length(r_list))\n",
    "    k = 1\n",
    "    for i = 1:chuncks\n",
    "        elem_pr_chunck[i] = length(fetch(chunck_list[i].chan))\n",
    "        for j = 1:elem_pr_chunck[i]\n",
    "            chunck_map[k] = (i, j)\n",
    "            k += 1\n",
    "        end\n",
    "    end\n",
    "    DList(chunck_list, elem_pr_chunck, chuncks, chunck_map)\n",
    "end\n",
    "@everywhere function dmap(f::Function, chan::RemoteChannel{Channel{Array{T, 1}}}) where {T}\n",
    "    local_list = fetch(chan)\n",
    "    [f(el) for el in local_list]\n",
    "end\n",
    "function dmap(f::Function, dlist::DList)\n",
    "    chuncks = dlist.chuncks\n",
    "    futures = Array{Future, 1}(undef, chuncks)\n",
    "    \n",
    "    for (i, ck) = enumerate(dlist.chunck_list)\n",
    "        futures[i] = @spawnat ck.p dmap(f, ck.chan)\n",
    "    end\n",
    "    vcat([fetch(futures[i]) for i = 1:chuncks]...)\n",
    "end\n",
    "        "
   ]
  },
  {
   "cell_type": "code",
   "execution_count": 15,
   "metadata": {},
   "outputs": [
    {
     "data": {
      "text/plain": [
       "dmutate (generic function with 2 methods)"
      ]
     },
     "execution_count": 15,
     "metadata": {},
     "output_type": "execute_result"
    }
   ],
   "source": [
    "@everywhere function dmutate(f!::Function, channel::RemoteChannel{Channel{Array{T, 1}}}) where {T}\n",
    "    local_list = take!(channel)\n",
    "    for el in local_list\n",
    "        f!(el)\n",
    "    end\n",
    "    put!(channel, local_list)\n",
    "    nothing\n",
    "end\n",
    "function dmutate(f!::Function, list::DList)\n",
    "    chuncks = list.chuncks\n",
    "    futures = Array{Future, 1}(undef, chuncks)\n",
    "    \n",
    "    for (i, ck) = enumerate(list.chunck_list)\n",
    "        futures[i] = @spawnat ck.p dmutate(f!, ck.chan)\n",
    "    end\n",
    "    for i = 1:chuncks\n",
    "        wait(futures[i])\n",
    "    end\n",
    "    nothing\n",
    "end"
   ]
  },
  {
   "cell_type": "code",
   "execution_count": 16,
   "metadata": {},
   "outputs": [
    {
     "data": {
      "text/plain": [
       "impureMutate (generic function with 2 methods)"
      ]
     },
     "execution_count": 16,
     "metadata": {},
     "output_type": "execute_result"
    }
   ],
   "source": [
    "@everywhere function impureMutate(f!::Function, chan::RemoteChannel{Channel{Array{T, 1}}}) where {T}\n",
    "    local_list = take!(chan)\n",
    "    res_list = [f!(el) for el in local_list]\n",
    "    put!(chan, local_list)\n",
    "    res_list\n",
    "end\n",
    "function impureMutate(f!::Function, dlist::DList)\n",
    "    chuncks = dlist = chuncks\n",
    "    futures = Array{Future, 1}(undef, chuncks)\n",
    "    \n",
    "    for (i, ck) = enumerate(dlist.chunck_list)\n",
    "        futures[i] = @spawnat ck.p impureMutat(f!, ck.chan)\n",
    "    end\n",
    "    vcat([fetch(futures[i]) for i = 1:chuncks]...)\n",
    "end"
   ]
  },
  {
   "cell_type": "code",
   "execution_count": 17,
   "metadata": {},
   "outputs": [
    {
     "name": "stdout",
     "output_type": "stream",
     "text": [
      "Energies: [-3.0, -3.0, -3.0, -3.0, -3.0, -3.0]\n"
     ]
    }
   ],
   "source": [
    "println(\"Energies: $([R.En/N for R in rep_list])\")"
   ]
  },
  {
   "cell_type": "code",
   "execution_count": 18,
   "metadata": {},
   "outputs": [
    {
     "data": {
      "text/plain": [
       "3"
      ]
     },
     "execution_count": 18,
     "metadata": {},
     "output_type": "execute_result"
    }
   ],
   "source": [
    "fixRC()\n",
    "ck_list = distribute(rep_list)\n",
    "length(fetch(ck_list[1].chan))"
   ]
  },
  {
   "cell_type": "code",
   "execution_count": 19,
   "metadata": {},
   "outputs": [],
   "source": [
    "#@everywhere function nMCS(remote_r_list::RemoteChannel{Channel{Array{Replica,1}}}, n::T) where T <: Int\n",
    "#    r_list = take!(remote_r_list)\n",
    "#    for R in r_list\n",
    "#        nMCS!(R, n)\n",
    "#    end\n",
    "#    put!(remote_r_list, r_list)\n",
    "#    nothing\n",
    "#end\n",
    "#function nMCS(dl_list::Array{DLChunck, 1}, n::I) where I <: Int\n",
    "#    chuncks = length(dl_list)\n",
    "#    futures = Array{Future, 1}(undef, chuncks)\n",
    "#    \n",
    "#    for (i, dl) = enumerate(dl_list)\n",
    "#        futures[i] = @spawnat dl.p nMCS(dl.chan, n)\n",
    "#    end\n",
    "#    for i = 1:chuncks\n",
    "#        wait(futures[i])\n",
    "#    end\n",
    "#    nothing\n",
    "#end"
   ]
  },
  {
   "cell_type": "code",
   "execution_count": 20,
   "metadata": {},
   "outputs": [
    {
     "data": {
      "text/plain": [
       "localize (generic function with 2 methods)"
      ]
     },
     "execution_count": 20,
     "metadata": {},
     "output_type": "execute_result"
    }
   ],
   "source": [
    "function localize(chunck_list::Array{DLChunck, 1})\n",
    "    return vcat([fetch(ck.chan) for ck in chunck_list]...)\n",
    "end\n",
    "function localize(dlist::DList)\n",
    "    localize(dlist.chunck_list)\n",
    "end"
   ]
  },
  {
   "cell_type": "code",
   "execution_count": 21,
   "metadata": {},
   "outputs": [],
   "source": [
    "dlist = DList(rep_list);"
   ]
  },
  {
   "cell_type": "code",
   "execution_count": 22,
   "metadata": {},
   "outputs": [],
   "source": [
    "dmutate(R -> nMCS!(R, 4), dlist)"
   ]
  },
  {
   "cell_type": "code",
   "execution_count": 23,
   "metadata": {},
   "outputs": [
    {
     "name": "stdout",
     "output_type": "stream",
     "text": [
      "Energies: [-2.95476, -2.94735, -2.95603, -2.94986, -2.95318, -2.94809]\n"
     ]
    }
   ],
   "source": [
    "new_rep_list = localize(dlist)\n",
    "println(\"Energies: $([R.En/N for R in new_rep_list])\")"
   ]
  },
  {
   "cell_type": "code",
   "execution_count": 24,
   "metadata": {},
   "outputs": [],
   "source": [
    "@everywhere function E(R::Replica)\n",
    "    R.En\n",
    "end"
   ]
  },
  {
   "cell_type": "code",
   "execution_count": 25,
   "metadata": {},
   "outputs": [
    {
     "data": {
      "text/plain": [
       "BenchmarkTools.Trial: \n",
       "  memory estimate:  11.75 KiB\n",
       "  allocs estimate:  279\n",
       "  --------------\n",
       "  minimum time:     405.908 μs (0.00% GC)\n",
       "  median time:      433.041 μs (0.00% GC)\n",
       "  mean time:        498.429 μs (1.17% GC)\n",
       "  maximum time:     19.250 ms (66.28% GC)\n",
       "  --------------\n",
       "  samples:          9922\n",
       "  evals/sample:     1"
      ]
     },
     "execution_count": 25,
     "metadata": {},
     "output_type": "execute_result"
    }
   ],
   "source": [
    "@benchmark dmap(E, dlist)"
   ]
  },
  {
   "cell_type": "markdown",
   "metadata": {},
   "source": [
    "# Benchmarking DList"
   ]
  },
  {
   "cell_type": "code",
   "execution_count": 26,
   "metadata": {},
   "outputs": [
    {
     "name": "stdout",
     "output_type": "stream",
     "text": [
      "Energies [-3.0, -3.0, -3.0, -3.0, -3.0, -3.0, -3.0, -3.0, -3.0, -3.0, -3.0, -3.0, -3.0, -3.0, -3.0, -3.0, -3.0, -3.0, -3.0, -3.0, -3.0, -3.0, -3.0, -3.0, -3.0, -3.0, -3.0, -3.0, -3.0, -3.0, -3.0, -3.0, -3.0, -3.0, -3.0, -3.0, -3.0, -3.0, -3.0, -3.0, -3.0, -3.0, -3.0, -3.0, -3.0, -3.0, -3.0, -3.0, -3.0, -3.0, -3.0, -3.0, -3.0, -3.0, -3.0, -3.0, -3.0, -3.0, -3.0, -3.0, -3.0, -3.0, -3.0, -3.0]\n"
     ]
    }
   ],
   "source": [
    "# Make test state.\n",
    "\n",
    "g = 1.0    # Gauge coupling\n",
    "ν = 0.3    # Anisotropy\n",
    "# Other parameters\n",
    "L = 24     # System length\n",
    "L₃ = L\n",
    "N = L^2*L₃\n",
    "T_list = [T for T in range(1.6; length=64, step=0.001)]#[1.64, 1.63, 1.6, 1.61, 1.62, 1.65]#\n",
    "κ₅ = 1.0\n",
    "f = 0.0/L\n",
    "syst_list = [SystConstants(L, L₃, 1/g^2, ν, κ₅, f, 1/temp) for temp in T_list]\n",
    "ψ_list = [State(1, syst; u⁺=1.0, u⁻=0.0) for syst in syst_list]\n",
    "sim_list = [Controls() for i = 1:length(T_list)]\n",
    "#pt = PTRun(ψ_list, sim_list, 1; verbose=true)\n",
    "#println(pt.N_temp)\n",
    "#println(\"Temperatures: $([1/R.ψ.consts.β for R in pt.rep_list])\")\n",
    "\n",
    "rep_list = [Replica(ψ_list[i], sim_list[i]) for i = 1:length(ψ_list)];\n",
    "println(\"Energies $([R.En/N for R in rep_list])\")\n",
    "dr_list = DList(rep_list);"
   ]
  },
  {
   "cell_type": "code",
   "execution_count": 27,
   "metadata": {},
   "outputs": [
    {
     "data": {
      "text/plain": [
       "BenchmarkTools.Trial: \n",
       "  memory estimate:  12.27 KiB\n",
       "  allocs estimate:  283\n",
       "  --------------\n",
       "  minimum time:     1.128 s (0.00% GC)\n",
       "  median time:      1.187 s (0.00% GC)\n",
       "  mean time:        1.178 s (0.00% GC)\n",
       "  maximum time:     1.204 s (0.00% GC)\n",
       "  --------------\n",
       "  samples:          5\n",
       "  evals/sample:     1"
      ]
     },
     "execution_count": 27,
     "metadata": {},
     "output_type": "execute_result"
    }
   ],
   "source": [
    "@benchmark dmutate(R -> nMCS!(R, 1), dr_list)"
   ]
  },
  {
   "cell_type": "code",
   "execution_count": 28,
   "metadata": {},
   "outputs": [
    {
     "data": {
      "text/plain": [
       "BenchmarkTools.Trial: \n",
       "  memory estimate:  0 bytes\n",
       "  allocs estimate:  0\n",
       "  --------------\n",
       "  minimum time:     42.483 ns (0.00% GC)\n",
       "  median time:      43.176 ns (0.00% GC)\n",
       "  mean time:        43.257 ns (0.00% GC)\n",
       "  maximum time:     66.170 ns (0.00% GC)\n",
       "  --------------\n",
       "  samples:          10000\n",
       "  evals/sample:     991"
      ]
     },
     "execution_count": 28,
     "metadata": {},
     "output_type": "execute_result"
    }
   ],
   "source": [
    "@benchmark length(dlist)"
   ]
  },
  {
   "cell_type": "code",
   "execution_count": 29,
   "metadata": {},
   "outputs": [],
   "source": [
    "#import Base.getindex\n",
    "#function getindex(A::DList, i1::Int64)\n",
    "    "
   ]
  },
  {
   "cell_type": "code",
   "execution_count": 30,
   "metadata": {},
   "outputs": [
    {
     "data": {
      "text/html": [
       "getindex(A::<b>Array</b>, i1::<b>Int64</b>) in Base at <a href=\"https://github.com/JuliaLang/julia/tree/099e826241fca365a120df9bac9a9fede6e7bae4/base/array.jl#L731\" target=\"_blank\">array.jl:731</a>"
      ],
      "text/plain": [
       "getindex(A::Array, i1::Int64) in Base at array.jl:731"
      ]
     },
     "execution_count": 30,
     "metadata": {},
     "output_type": "execute_result"
    }
   ],
   "source": [
    "A = [1,23,5]\n",
    "@which A[1]"
   ]
  },
  {
   "cell_type": "code",
   "execution_count": 31,
   "metadata": {},
   "outputs": [
    {
     "name": "stdout",
     "output_type": "stream",
     "text": [
      "Energies [-2.85655, -2.84948, -2.8443, -2.85639, -2.85259, -2.84261, -2.85257, -2.83079, -2.85804, -2.85397, -2.84639, -2.84722, -2.84612, -2.85281, -2.84799, -2.85319, -2.84764, -2.85289, -2.84071, -2.84359, -2.83992, -2.85647, -2.84127, -2.84494, -2.84495, -2.83478, -2.85977, -2.83874, -2.84449, -2.84092, -2.85123, -2.84627, -2.84454, -2.83946, -2.84556, -2.8208, -2.84593, -2.83739, -2.86279, -2.84146, -2.84583, -2.83444, -2.82956, -2.84088, -2.83453, -2.83404, -2.83132, -2.83187, -2.83213, -2.84138, -2.83482, -2.84326, -2.84419, -2.84032, -2.83912, -2.84374, -2.82483, -2.83008, -2.83741, -2.83812, -2.8412, -2.83232, -2.83438, -2.83563]\n"
     ]
    }
   ],
   "source": [
    "println(\"Energies $(dmap(E, dr_list)./N)\")"
   ]
  },
  {
   "cell_type": "markdown",
   "metadata": {},
   "source": [
    "# Old slow naive methods of parallelization"
   ]
  },
  {
   "cell_type": "code",
   "execution_count": 32,
   "metadata": {},
   "outputs": [
    {
     "data": {
      "text/plain": [
       "BenchmarkTools.Trial: \n",
       "  memory estimate:  2.74 MiB\n",
       "  allocs estimate:  69120\n",
       "  --------------\n",
       "  minimum time:     45.059 ms (0.00% GC)\n",
       "  median time:      54.572 ms (0.00% GC)\n",
       "  mean time:        55.000 ms (2.16% GC)\n",
       "  maximum time:     65.390 ms (14.60% GC)\n",
       "  --------------\n",
       "  samples:          91\n",
       "  evals/sample:     1"
      ]
     },
     "execution_count": 32,
     "metadata": {},
     "output_type": "execute_result"
    }
   ],
   "source": [
    "@benchmark mcSweepEn!(rep_list[1].ψ, rep_list[1].sim)"
   ]
  },
  {
   "cell_type": "code",
   "execution_count": 33,
   "metadata": {},
   "outputs": [
    {
     "data": {
      "text/plain": [
       "BenchmarkTools.Trial: \n",
       "  memory estimate:  1.85 GiB\n",
       "  allocs estimate:  87985492\n",
       "  --------------\n",
       "  minimum time:     30.535 s (32.32% GC)\n",
       "  median time:      30.535 s (32.32% GC)\n",
       "  mean time:        30.535 s (32.32% GC)\n",
       "  maximum time:     30.535 s (32.32% GC)\n",
       "  --------------\n",
       "  samples:          1\n",
       "  evals/sample:     1"
      ]
     },
     "execution_count": 33,
     "metadata": {},
     "output_type": "execute_result"
    }
   ],
   "source": [
    "@benchmark pmap(R -> nMCS!(R, 1), rep_list)"
   ]
  },
  {
   "cell_type": "code",
   "execution_count": 34,
   "metadata": {},
   "outputs": [
    {
     "data": {
      "text/plain": [
       "nMCS! (generic function with 3 methods)"
      ]
     },
     "execution_count": 34,
     "metadata": {},
     "output_type": "execute_result"
    }
   ],
   "source": [
    "# --------------------------------------------------------------------------------------------------\n",
    "# Preform nMCS! on a list of replicas (as much as possible in paralllel)\n",
    "function nMCS!(rep_list::Array{Replica, 1}, n::Int64)\n",
    "    nw = nprocs()-1\n",
    "    n_state = length(rep_list)\n",
    "    \n",
    "    i = 0 # Index in rep_list of states already updated.\n",
    "    while i < n_state\n",
    "        \n",
    "        worker_jobs = min(nw, n_state-1-i) # Number of needed jobs given to workers\n",
    "        # Start the max number of workers if that wouldn't be too much.\n",
    "        work_futures = [Future() for w = 1:worker_jobs]\n",
    "        \n",
    "        for w = 1:worker_jobs\n",
    "            work_futures[w] = @spawn nMCS!(rep_list[i+w], n)\n",
    "        end\n",
    "        index = i+worker_jobs+1\n",
    "        rep_list[index] =  nMCS!(rep_list[index], n)\n",
    "        \n",
    "        for w = 1:worker_jobs\n",
    "            rep_list[i+w] = fetch(work_futures[w])\n",
    "        end\n",
    "        \n",
    "        i += worker_jobs+1\n",
    "    end\n",
    "    \n",
    "    # After this, all states should have been updated\n",
    "    return\n",
    "end"
   ]
  },
  {
   "cell_type": "markdown",
   "metadata": {},
   "source": [
    "# Continuing developing parallel tempering type"
   ]
  },
  {
   "cell_type": "code",
   "execution_count": 35,
   "metadata": {},
   "outputs": [
    {
     "data": {
      "text/plain": [
       "distributeTemperatures! (generic function with 2 methods)"
      ]
     },
     "execution_count": 35,
     "metadata": {},
     "output_type": "execute_result"
    }
   ],
   "source": [
    "@everywhere function distributeTemperatures!(chan::RemoteChannel{Channel{Array{Replica, 1}}}, β_list::Array{Float64, 1})\n",
    "    local_list = take!(chan)\n",
    "    for (i, β) = enumerate(β_list)\n",
    "        s = local_list[i].ψ.consts\n",
    "        new_syst = SystConstants(s.L, s.L₃, s.g⁻², s.ν, s.κ₅, s.f, β)\n",
    "        local_list[i].ψ.consts = new_syst\n",
    "    end\n",
    "    put!(chan, local_list)\n",
    "    nothing\n",
    "end\n",
    "function distributeTemperatures!(dr_list::DList, β_list::Array{Float64, 1})\n",
    "    futures = Array{Future, 1}(undef, dr_list.chuncks)\n",
    "    for (i, ck) = enumerate(dr_list.chunck_list)\n",
    "        futures[i] = @spawnat ck.p distributeTemperatures!(ck.chan, β_list[ck.range])\n",
    "    end\n",
    "    for i = 1:dr_list.chuncks\n",
    "        wait(futures[i])\n",
    "    end\n",
    "    nothing\n",
    "end"
   ]
  },
  {
   "cell_type": "code",
   "execution_count": 36,
   "metadata": {},
   "outputs": [
    {
     "name": "stdout",
     "output_type": "stream",
     "text": [
      "Energies [-3.0, -3.0, -3.0, -3.0]\n"
     ]
    },
    {
     "data": {
      "text/plain": [
       "BenchmarkTools.Trial: \n",
       "  memory estimate:  9.63 KiB\n",
       "  allocs estimate:  225\n",
       "  --------------\n",
       "  minimum time:     365.076 μs (0.00% GC)\n",
       "  median time:      436.878 μs (0.00% GC)\n",
       "  mean time:        489.718 μs (1.13% GC)\n",
       "  maximum time:     34.226 ms (55.57% GC)\n",
       "  --------------\n",
       "  samples:          10000\n",
       "  evals/sample:     1"
      ]
     },
     "execution_count": 36,
     "metadata": {},
     "output_type": "execute_result"
    }
   ],
   "source": [
    "# Make test state.\n",
    "\n",
    "g = 1.0    # Gauge coupling\n",
    "ν = 0.3    # Anisotropy\n",
    "# Other parameters\n",
    "L = 24     # System length\n",
    "L₃ = L\n",
    "N = L^2*L₃\n",
    "T_list = [T for T in range(1.6; length=4, step=0.001)]#[1.64, 1.63, 1.6, 1.61, 1.62, 1.65]#\n",
    "κ₅ = 1.0\n",
    "f = 0.0/L\n",
    "syst_list = [SystConstants(L, L₃, 1/g^2, ν, κ₅, f, 1/temp) for temp in T_list]\n",
    "ψ_list = [State(1, syst; u⁺=1.0, u⁻=0.0) for syst in syst_list]\n",
    "sim_list = [Controls() for i = 1:length(T_list)]\n",
    "\n",
    "rep_list = [Replica(ψ_list[i], sim_list[i]) for i = 1:length(ψ_list)];\n",
    "println(\"Energies $([R.En/N for R in rep_list])\")\n",
    "dr_list = DList(rep_list);\n",
    "β_list = [1.0, 2.0, 3.0, 4.0]\n",
    "@benchmark distributeTemperatures!(dr_list, β_list)\n",
    "#new_rep_list = localize(dr_list)\n",
    "#[1/R.ψ.consts.β for R in new_rep_list]"
   ]
  },
  {
   "cell_type": "code",
   "execution_count": 37,
   "metadata": {},
   "outputs": [
    {
     "data": {
      "text/plain": [
       "PTRun"
      ]
     },
     "execution_count": 37,
     "metadata": {},
     "output_type": "execute_result"
    }
   ],
   "source": [
    "mutable struct PTRun\n",
    "    dr_list::DList              # A list of replicas distributed over available processes.\n",
    "    accepts::Array{Int64,1}     # Number of accepted PT-swaps between i and i+1\n",
    "    histograms::Array{Array{Int64, 1},1}\n",
    "    # This is a list of histograms; 3 histograms pr. temperature. The first is the number of\n",
    "    # up-moving visits, the 2nd is the number of down-moving visits and the third is the number of visits\n",
    "    # of uninitialized states.\n",
    "    β_list::Array{Float64, 1}   # List of inverse temperatures\n",
    "    rep_map::Array{Int64, 1}       # A map from the index of the inverse temp. in β_list to the corresponding index in\n",
    "    # dr_list that has the replica with the corresponding temperature.\n",
    "    E_list::Array{Float64, 1}   # List of energies of the replicas. The index in this list should mirror the indices\n",
    "                                # in dr_list.\n",
    "    N_mc::Int64                 # Number of MC sweeps to do between each PT step.\n",
    "    N_pt::Int64                 # Number of PT steps done\n",
    "    N_temp::Int64               # Number of temperatures.\n",
    "end\n",
    "function PTRun(ψ_list::Array{State,1}, sim_list::Array{Controls,1}, N_mc::Int64; verbose=false)\n",
    "    N = length(ψ_list)\n",
    "    N == length(sim_list) || throw(error(\"ERROR: List of states and control constants are not same length\"))\n",
    "    \n",
    "    # Sort ψ_list according to increasing temperature\n",
    "    β_list = [ψ.consts.β for ψ in ψ_list]\n",
    "    perm = sortperm(β_list; rev=true)\n",
    "    if verbose && perm != [i for i = 1:N]\n",
    "        println(\"WARNING: Inserted state list did not have states in increasing temperature\")\n",
    "    end\n",
    "    β_list = β_list[perm]\n",
    "    ψ_list = ψ_list[perm]\n",
    "    sim_list = sim_list[perm]\n",
    "    \n",
    "    # Initialize remaining lists.\n",
    "    accepts = [0 for i = 1:N-1]\n",
    "    rep_list = [Replica(ψ_list[i], sim_list[i]) for i = 1:N]\n",
    "    rep_list[1].state = 1    # The lowest temperature replica is moving up\n",
    "    rep_list[N].state = 2    # The highest temperature replica is moving down.\n",
    "    rep_map = [i for i = 1:N]\n",
    "    E_list = [R.En for R in rep_list]\n",
    "    histograms = [[0,0,0] for i = 1:N]\n",
    "    dr_list = DList(rep_list)\n",
    "    return PTRun(dr_list, accepts, histograms, β_list, rep_map, E_list, N_mc, 0, N)\n",
    "end"
   ]
  },
  {
   "cell_type": "code",
   "execution_count": 38,
   "metadata": {},
   "outputs": [
    {
     "data": {
      "text/plain": [
       "incrementHistograms! (generic function with 1 method)"
      ]
     },
     "execution_count": 38,
     "metadata": {},
     "output_type": "execute_result"
    }
   ],
   "source": [
    "function incrementHistograms!(pt::PTRun)\n",
    "    states = dmap(R -> R.state, pt.dr_list)\n",
    "    for i = 1:pt.N_temp\n",
    "        histogram = pt.histograms[i]\n",
    "        replica_state = states[pt.rep_map[i]]\n",
    "        histogram[replica_state] += 1\n",
    "    end\n",
    "end"
   ]
  },
  {
   "cell_type": "code",
   "execution_count": 87,
   "metadata": {},
   "outputs": [
    {
     "name": "stdout",
     "output_type": "stream",
     "text": [
      "4\n",
      "Temperatures: [1.6, 1.601, 1.602, 1.603]\n",
      "Num of histograms: 4×3\n"
     ]
    },
    {
     "data": {
      "text/plain": [
       "3-element Array{Int64,1}:\n",
       " 100\n",
       "   0\n",
       "   0"
      ]
     },
     "execution_count": 87,
     "metadata": {},
     "output_type": "execute_result"
    }
   ],
   "source": [
    "pt = PTRun(ψ_list, sim_list, 1; verbose=true)\n",
    "println(pt.N_temp)\n",
    "println(\"Temperatures: $(dmap(R -> 1/R.ψ.consts.β, pt.dr_list))\")\n",
    "for i = 1:100\n",
    "    incrementHistograms!(pt)\n",
    "end\n",
    "println(\"Num of histograms: $(length(pt.histograms))×3\")\n",
    "pt.histograms[1]"
   ]
  },
  {
   "cell_type": "code",
   "execution_count": 40,
   "metadata": {},
   "outputs": [
    {
     "data": {
      "text/plain": [
       "ptSwap! (generic function with 1 method)"
      ]
     },
     "execution_count": 40,
     "metadata": {},
     "output_type": "execute_result"
    }
   ],
   "source": [
    "function ptSwap!(pt::PTRun, i::Int64, j::Int64)\n",
    "    # i and j refer to the indices in the temperature array. We swap the contents of rep_map at these indices.\n",
    "    # This means that effectively we swap the states associated with the temperatures at i and j.\n",
    "    temp = pt.rep_map[j]\n",
    "    pt.rep_map[j] = pt.rep_map[i]\n",
    "    pt.rep_map[i] = temp\n",
    "    \n",
    "    return nothing\n",
    "end"
   ]
  },
  {
   "cell_type": "code",
   "execution_count": 53,
   "metadata": {},
   "outputs": [
    {
     "data": {
      "text/plain": [
       "attemptSwap (generic function with 1 method)"
      ]
     },
     "execution_count": 53,
     "metadata": {},
     "output_type": "execute_result"
    }
   ],
   "source": [
    "function attemptSwap(pt::PTRun, i::Int64, j::Int64)\n",
    "    \n",
    "    Δβ = pt.β_list[j] - pt.β_list[i]#ψⱼ.consts.β-ψᵢ.consts.β\n",
    "    ΔE = pt.E_list[pt.rep_map[j]] - pt.E_list[pt.rep_map[i]]#rep_list[j].En - rep_list[i].En\n",
    "    \n",
    "    r = 1-rand() # make a number ∈ (0, 1]\n",
    "    # Same method as metropolis-hasting selection: to select with probability min{1, e^{Δβ⋅ΔE}}\n",
    "    # We could choose a random number r ∈ [0, 1] and check if it's lower than r <= e^{Δβ⋅ΔE} provided\n",
    "    # the exponent is negative. Taking the logarithm on both sides we see that in this case then also\n",
    "    # log(r) <= Δβ⋅ΔE. This has the advantage that since r ∈ (0,1], log(r) will always be negative\n",
    "    # and thus we always select if Δβ⋅ΔE is positive, as we should.\n",
    "    if log(r) <= Δβ*ΔE\n",
    "        ptSwap!(pt, i, j)\n",
    "        return true\n",
    "    end\n",
    "    return false\n",
    "end"
   ]
  },
  {
   "cell_type": "code",
   "execution_count": 42,
   "metadata": {},
   "outputs": [
    {
     "data": {
      "text/plain": [
       "setStates (generic function with 1 method)"
      ]
     },
     "execution_count": 42,
     "metadata": {},
     "output_type": "execute_result"
    }
   ],
   "source": [
    "@everywhere function setState(chan::RemoteChannel{Channel{Array{Replica, 1}}}, i::Int64, state::Int64)\n",
    "    rep_list = take!(chan)\n",
    "    rep_list[i].state = state\n",
    "    put!(chan, rep_list)\n",
    "    nothing\n",
    "end\n",
    "function setStates(dr_list::DList, up_index::Int64, down_index::Int64)\n",
    "    up_tup = dr_list.chunck_map[up_index]\n",
    "    up_ck = dr_list.chunck_list[up_tup[1]]\n",
    "    up_fut = @spawnat up_ck.p setState(up_ck.chan, up_tup[2], 1)\n",
    "    \n",
    "    down_tup = dr_list.chunck_map[down_index]\n",
    "    down_ck = dr_list.chunck_list[down_tup[1]]\n",
    "    down_fut = @spawnat down_ck.p setState(down_ck.chan, down_tup[2], 2)\n",
    "    \n",
    "    wait(up_fut)\n",
    "    wait(down_fut)\n",
    "    nothing\n",
    "end"
   ]
  },
  {
   "cell_type": "code",
   "execution_count": 43,
   "metadata": {},
   "outputs": [
    {
     "data": {
      "text/plain": [
       "4-element Array{Int64,1}:\n",
       " 2\n",
       " 3\n",
       " 3\n",
       " 1"
      ]
     },
     "execution_count": 43,
     "metadata": {},
     "output_type": "execute_result"
    }
   ],
   "source": [
    "setStates(pt.dr_list, 4, 1)\n",
    "[R.state for R in localize(pt.dr_list)]"
   ]
  },
  {
   "cell_type": "code",
   "execution_count": 44,
   "metadata": {},
   "outputs": [
    {
     "data": {
      "text/plain": [
       "BenchmarkTools.Trial: \n",
       "  memory estimate:  9.56 KiB\n",
       "  allocs estimate:  228\n",
       "  --------------\n",
       "  minimum time:     400.254 μs (0.00% GC)\n",
       "  median time:      418.671 μs (0.00% GC)\n",
       "  mean time:        492.079 μs (0.65% GC)\n",
       "  maximum time:     42.884 ms (23.94% GC)\n",
       "  --------------\n",
       "  samples:          10000\n",
       "  evals/sample:     1"
      ]
     },
     "execution_count": 44,
     "metadata": {},
     "output_type": "execute_result"
    }
   ],
   "source": [
    "@benchmark setStates(pt.dr_list, 1, 2)"
   ]
  },
  {
   "cell_type": "code",
   "execution_count": 81,
   "metadata": {},
   "outputs": [
    {
     "data": {
      "text/plain": [
       "PTStep! (generic function with 1 method)"
      ]
     },
     "execution_count": 81,
     "metadata": {},
     "output_type": "execute_result"
    }
   ],
   "source": [
    "function PTStep!(pt::PTRun)\n",
    "    # First we preform N_mc MC sweeps for all of the replicas\n",
    "    N_mc = pt.N_mc\n",
    "    dmutate(R -> nMCS!(R, N_mc), pt.dr_list)\n",
    "    # Get energies\n",
    "    pt.E_list = dmap(R -> R.En, pt.dr_list)\n",
    "    \n",
    "    # Before a squence of swap moves we increment the histograms\n",
    "    incrementHistograms!(pt)\n",
    "    \n",
    "    # Then we go through the temperatures and make a swap with probability\n",
    "    # p = min{1, e^(-Δβ*ΔE)} between neighboring temperatures.\n",
    "    for i = 1:pt.N_temp-1\n",
    "        if attemptSwap(pt, i, i+1)\n",
    "            # Updates acceptance rates if successful\n",
    "            pt.accepts[i] += 1\n",
    "        end\n",
    "    end\n",
    "    \n",
    "    # Distribute the new temperatures to worker processes\n",
    "    distributeTemperatures!(pt.dr_list, pt.β_list[pt.rep_map[pt.rep_map]])\n",
    "    \n",
    "    # Finally increment number of PT steps done and set the end states\n",
    "    # Since the lowest temperature is at index 1, we set the replica at rep_map[1] to be a up-mover.\n",
    "    # The temperature at N_temp is highest, thus the replica at rep_map[N_temp] is set to a down-mover.\n",
    "    pt.N_pt += 1\n",
    "    setStates(pt.dr_list, pt.rep_map[1], pt.rep_map[pt.N_temp])\n",
    "    \n",
    "    nothing\n",
    "end"
   ]
  },
  {
   "cell_type": "markdown",
   "metadata": {},
   "source": [
    "# Testing out PTRun"
   ]
  },
  {
   "cell_type": "code",
   "execution_count": 90,
   "metadata": {},
   "outputs": [
    {
     "name": "stdout",
     "output_type": "stream",
     "text": [
      "Temperatures: [1.6, 1.601, 1.602, 1.603]\n",
      "Energies: [-3.0, -3.0, -3.0, -3.0]\n"
     ]
    }
   ],
   "source": [
    "pt = PTRun(ψ_list, sim_list, 1; verbose=true)\n",
    "println(\"Temperatures: $(dmap(R -> 1/R.ψ.consts.β, pt.dr_list))\")\n",
    "println(\"Energies: $(dmap(R -> R.En/N, pt.dr_list))\")"
   ]
  },
  {
   "cell_type": "code",
   "execution_count": 49,
   "metadata": {},
   "outputs": [
    {
     "data": {
      "text/plain": [
       "1"
      ]
     },
     "execution_count": 49,
     "metadata": {},
     "output_type": "execute_result"
    }
   ],
   "source": [
    "N_mc = pt.N_mc"
   ]
  },
  {
   "cell_type": "code",
   "execution_count": 56,
   "metadata": {},
   "outputs": [
    {
     "data": {
      "text/plain": [
       "BenchmarkTools.Trial: \n",
       "  memory estimate:  11.44 KiB\n",
       "  allocs estimate:  255\n",
       "  --------------\n",
       "  minimum time:     84.298 ms (0.00% GC)\n",
       "  median time:      113.285 ms (0.00% GC)\n",
       "  mean time:        111.972 ms (0.00% GC)\n",
       "  maximum time:     119.572 ms (0.00% GC)\n",
       "  --------------\n",
       "  samples:          45\n",
       "  evals/sample:     1"
      ]
     },
     "execution_count": 56,
     "metadata": {},
     "output_type": "execute_result"
    }
   ],
   "source": [
    "@benchmark dmutate(R -> nMCS!(R, N_mc), pt.dr_list)"
   ]
  },
  {
   "cell_type": "code",
   "execution_count": 91,
   "metadata": {},
   "outputs": [],
   "source": [
    "for i = 1:500\n",
    "    PTStep!(pt)\n",
    "end"
   ]
  },
  {
   "cell_type": "code",
   "execution_count": 92,
   "metadata": {},
   "outputs": [
    {
     "data": {
      "text/plain": [
       "BenchmarkTools.Trial: \n",
       "  memory estimate:  59.08 KiB\n",
       "  allocs estimate:  1348\n",
       "  --------------\n",
       "  minimum time:     84.192 ms (0.00% GC)\n",
       "  median time:      117.843 ms (0.00% GC)\n",
       "  mean time:        114.702 ms (0.00% GC)\n",
       "  maximum time:     133.167 ms (0.00% GC)\n",
       "  --------------\n",
       "  samples:          44\n",
       "  evals/sample:     1"
      ]
     },
     "execution_count": 92,
     "metadata": {},
     "output_type": "execute_result"
    }
   ],
   "source": [
    "@benchmark PTStep!(pt)"
   ]
  },
  {
   "cell_type": "code",
   "execution_count": 97,
   "metadata": {},
   "outputs": [
    {
     "data": {
      "text/plain": [
       "4-element Array{Int64,1}:\n",
       " 591\n",
       "  71\n",
       "  45\n",
       "   0"
      ]
     },
     "execution_count": 97,
     "metadata": {},
     "output_type": "execute_result"
    }
   ],
   "source": [
    "[h[1] for h in pt.histograms]"
   ]
  },
  {
   "cell_type": "code",
   "execution_count": 99,
   "metadata": {},
   "outputs": [
    {
     "data": {
      "text/plain": [
       "4-element Array{Array{Int64,1},1}:\n",
       " [591, 0, 0] \n",
       " [71, 518, 2]\n",
       " [45, 545, 1]\n",
       " [0, 591, 0] "
      ]
     },
     "execution_count": 99,
     "metadata": {},
     "output_type": "execute_result"
    }
   ],
   "source": [
    "pt.histograms"
   ]
  },
  {
   "cell_type": "code",
   "execution_count": 100,
   "metadata": {},
   "outputs": [
    {
     "data": {
      "text/plain": [
       "591"
      ]
     },
     "execution_count": 100,
     "metadata": {},
     "output_type": "execute_result"
    }
   ],
   "source": [
    "pt.N_pt"
   ]
  },
  {
   "cell_type": "code",
   "execution_count": 101,
   "metadata": {},
   "outputs": [
    {
     "data": {
      "text/plain": [
       "getARList (generic function with 1 method)"
      ]
     },
     "execution_count": 101,
     "metadata": {},
     "output_type": "execute_result"
    }
   ],
   "source": [
    "function getARList(pt::PTRun)\n",
    "    return [an/(pt.N_pt) for an in pt.accepts]\n",
    "end"
   ]
  },
  {
   "cell_type": "code",
   "execution_count": 102,
   "metadata": {},
   "outputs": [
    {
     "data": {
      "text/plain": [
       "getHistograms (generic function with 1 method)"
      ]
     },
     "execution_count": 102,
     "metadata": {},
     "output_type": "execute_result"
    }
   ],
   "source": [
    "function getHistograms(pt::PTRun)\n",
    "    return [hist[1]/(hist[1]+hist[2]) for hist in pt.histograms]\n",
    "end"
   ]
  },
  {
   "cell_type": "code",
   "execution_count": 103,
   "metadata": {},
   "outputs": [
    {
     "data": {
      "text/plain": [
       "4-element Array{Float64,1}:\n",
       " 1.0                \n",
       " 0.12054329371816638\n",
       " 0.07627118644067797\n",
       " 0.0                "
      ]
     },
     "execution_count": 103,
     "metadata": {},
     "output_type": "execute_result"
    }
   ],
   "source": [
    "getHistograms(pt)"
   ]
  },
  {
   "cell_type": "code",
   "execution_count": 111,
   "metadata": {},
   "outputs": [
    {
     "data": {
      "text/plain": [
       "3-element Array{Int64,1}:\n",
       " 94\n",
       " 95\n",
       " 92"
      ]
     },
     "execution_count": 111,
     "metadata": {},
     "output_type": "execute_result"
    }
   ],
   "source": [
    "floor.(Int64, round.(getARList(pt).*100; digits=0))"
   ]
  }
 ],
 "metadata": {
  "kernelspec": {
   "display_name": "Julia -p 2 1.0.3",
   "language": "julia",
   "name": "julia--p-2-1.0"
  },
  "language_info": {
   "file_extension": ".jl",
   "mimetype": "application/julia",
   "name": "julia",
   "version": "1.0.3"
  }
 },
 "nbformat": 4,
 "nbformat_minor": 2
}
