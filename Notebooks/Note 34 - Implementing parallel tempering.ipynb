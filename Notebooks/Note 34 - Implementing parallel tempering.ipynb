{
 "cells": [
  {
   "cell_type": "code",
   "execution_count": 1,
   "metadata": {},
   "outputs": [
    {
     "data": {
      "text/plain": [
       "fixRC (generic function with 1 method)"
      ]
     },
     "execution_count": 1,
     "metadata": {},
     "output_type": "execute_result"
    }
   ],
   "source": [
    "using Distributed\n",
    "# Script for investigating amplitude dependence of potential\n",
    "@everywhere using Distributions\n",
    "@everywhere using Test\n",
    "@everywhere using StatsBase\n",
    "@everywhere using BenchmarkTools\n",
    "@everywhere using LinearAlgebra\n",
    "@everywhere using LaTeXStrings\n",
    "using Primes\n",
    "using MCMCDiagnostics\n",
    "using SharedArrays\n",
    "using Plots\n",
    "pyplot()\n",
    "\n",
    "# Hack for fixing remote channels in 1.0.3 commit 099e826241\n",
    "@everywhere struct Hack end\n",
    "function fixRC()\n",
    "    for p in workers()\n",
    "        @fetchfrom p Hack()\n",
    "    end\n",
    "end"
   ]
  },
  {
   "cell_type": "code",
   "execution_count": 2,
   "metadata": {},
   "outputs": [
    {
     "data": {
      "text/plain": [
       "makeDirRec (generic function with 1 method)"
      ]
     },
     "execution_count": 2,
     "metadata": {},
     "output_type": "execute_result"
    }
   ],
   "source": [
    "@everywhere src_path = \"../Source/\"\n",
    "@everywhere include(src_path*\"types.jl\")\n",
    "@everywhere include(src_path*\"functions_msc.jl\")\n",
    "@everywhere include(src_path*\"functions_neighbors.jl\")\n",
    "@everywhere include(src_path*\"functions_types.jl\")\n",
    "@everywhere include(src_path*\"functions_energy.jl\")\n",
    "@everywhere include(src_path*\"functions_mc.jl\")\n",
    "@everywhere include(src_path*\"functions_thermalization.jl\")\n",
    "@everywhere include(src_path*\"functions_observables.jl\")\n",
    "@everywhere include(src_path*\"functions_symmetries.jl\")\n",
    "include(src_path*\"functions_plots_and_files.jl\")"
   ]
  },
  {
   "cell_type": "code",
   "execution_count": 3,
   "metadata": {},
   "outputs": [],
   "source": [
    "@everywhere mutable struct Replica\n",
    "    ψ::State\n",
    "    state::Int64\n",
    "    En::Float64\n",
    "    sim::Controls\n",
    "end"
   ]
  },
  {
   "cell_type": "code",
   "execution_count": 4,
   "metadata": {},
   "outputs": [
    {
     "name": "stdout",
     "output_type": "stream",
     "text": [
      "[1, 2, 3, 4]\n"
     ]
    }
   ],
   "source": [
    "A = [1,2,3,4]\n",
    "p = sortperm(A)\n",
    "println(p)"
   ]
  },
  {
   "cell_type": "code",
   "execution_count": 5,
   "metadata": {},
   "outputs": [
    {
     "data": {
      "text/plain": [
       "PTRun"
      ]
     },
     "execution_count": 5,
     "metadata": {},
     "output_type": "execute_result"
    }
   ],
   "source": [
    "function Replica(ψ::State, sim::Controls)\n",
    "    Replica(ψ, 3, E(ψ), sim)\n",
    "end"
   ]
  },
  {
   "cell_type": "markdown",
   "metadata": {},
   "source": [
    "# Parallelizing Monte-Carlo Sweeps across multiple replicas\n",
    "\n",
    "The challenge here is to make it so that replicas are not continuously copied to new processes when this needs to be done."
   ]
  },
  {
   "cell_type": "code",
   "execution_count": 6,
   "metadata": {},
   "outputs": [
    {
     "name": "stdout",
     "output_type": "stream",
     "text": [
      "WARNING: Inserted state list did not have states in increasing temperature\n",
      "6\n",
      "Temperatures: [1.6, 1.61, 1.62, 1.63, 1.64, 1.65]\n"
     ]
    }
   ],
   "source": [
    "# Make test state.\n",
    "\n",
    "g = 1.0    # Gauge coupling\n",
    "ν = 0.3    # Anisotropy\n",
    "# Other parameters\n",
    "L = 24     # System length\n",
    "L₃ = 24\n",
    "N = L^2*L₃\n",
    "T_list = [1.64, 1.63, 1.6, 1.61, 1.62, 1.65]\n",
    "κ₅ = 1.0\n",
    "f = 0.0/L\n",
    "syst_list = [SystConstants(L, L₃, 1/g^2, ν, κ₅, f, 1/temp) for temp in T_list]\n",
    "ψ_list = [State(1, syst; u⁺=1.0, u⁻=0.0) for syst in syst_list]\n",
    "sim_list = [Controls() for i = 1:length(T_list)]\n",
    "pt = PTRun(ψ_list, sim_list, 1; verbose=true)\n",
    "rep_list = [Replica(ψ_list[i], sim_list[i]) for i = 1:length(ψ_list)]\n",
    "println(pt.N_temp)\n",
    "println(\"Temperatures: $([1/R.ψ.consts.β for R in pt.rep_list])\")"
   ]
  },
  {
   "cell_type": "code",
   "execution_count": 7,
   "metadata": {},
   "outputs": [],
   "source": [
    "@everywhere function nMCS!(R::Replica, n::Int64)\n",
    "    En = R.En\n",
    "    for i=1:n\n",
    "        En += mcSweepEn!(R.ψ,R.sim)\n",
    "    end\n",
    "    R.En = En\n",
    "    return R\n",
    "end"
   ]
  },
  {
   "cell_type": "markdown",
   "metadata": {},
   "source": [
    "# Fast implementation of distributed lists\n",
    "We create a new type that takes a normal 1-d Array of any type, distributes it evenly on available processors, and then enables fast parallel processing of the elements in the array, without the need of copying the element data to each process for each parallel execution."
   ]
  },
  {
   "cell_type": "code",
   "execution_count": 8,
   "metadata": {},
   "outputs": [
    {
     "data": {
      "text/plain": [
       "1:10"
      ]
     },
     "execution_count": 8,
     "metadata": {},
     "output_type": "execute_result"
    }
   ],
   "source": [
    "range(1; length=10)"
   ]
  },
  {
   "cell_type": "code",
   "execution_count": 9,
   "metadata": {},
   "outputs": [
    {
     "data": {
      "text/plain": [
       "getChunckRanges (generic function with 2 methods)"
      ]
     },
     "execution_count": 9,
     "metadata": {},
     "output_type": "execute_result"
    }
   ],
   "source": [
    "function getChunckRanges(n::T, nw::Int64=nprocs()-1) where T <: Int\n",
    "    chunck_min, pluss_num = divrem(n, nw)\n",
    "    chunck_ranges = Array{UnitRange{Int64}, 1}(undef, nw)\n",
    "    for i = 1:pluss_num\n",
    "        chunck_ranges[i] = range((i-1)*(chunck_min+1)+1; length=chunck_min+1)\n",
    "    end\n",
    "    for i = pluss_num+1:nw\n",
    "        chunck_ranges[i] = range(pluss_num*(chunck_min+1)+(i-1-pluss_num)*chunck_min+1; length=chunck_min)\n",
    "    end\n",
    "    return chunck_ranges\n",
    "end"
   ]
  },
  {
   "cell_type": "code",
   "execution_count": 10,
   "metadata": {},
   "outputs": [
    {
     "data": {
      "text/plain": [
       "2"
      ]
     },
     "execution_count": 10,
     "metadata": {},
     "output_type": "execute_result"
    }
   ],
   "source": [
    "length(workers())"
   ]
  },
  {
   "cell_type": "code",
   "execution_count": 11,
   "metadata": {},
   "outputs": [],
   "source": [
    "@everywhere struct DLChunck{T}\n",
    "    p::Int64\n",
    "    chan::RemoteChannel{Channel{Array{T,1}}}\n",
    "end"
   ]
  },
  {
   "cell_type": "code",
   "execution_count": 12,
   "metadata": {},
   "outputs": [
    {
     "data": {
      "text/plain": [
       "distribute (generic function with 1 method)"
      ]
     },
     "execution_count": 12,
     "metadata": {},
     "output_type": "execute_result"
    }
   ],
   "source": [
    "function distribute(r_list::Array{T,1}; pids = workers()) where {T}\n",
    "    n = length(r_list)\n",
    "    nw = length(pids)\n",
    "    chunck_ranges = getChunckRanges(n, nw)\n",
    "    \n",
    "    chunck_list = Array{DLChunck, 1}(undef, nw)\n",
    "    for (i, p) = enumerate(pids)\n",
    "        chunck_list[i] = DLChunck(p, RemoteChannel(()->Channel{Array{T,1}}(1), p))\n",
    "        put!(chunck_list[i].chan, r_list[chunck_ranges[i]])\n",
    "    end\n",
    "    chunck_list\n",
    "end"
   ]
  },
  {
   "cell_type": "code",
   "execution_count": 13,
   "metadata": {},
   "outputs": [
    {
     "data": {
      "text/plain": [
       "dmap (generic function with 2 methods)"
      ]
     },
     "execution_count": 13,
     "metadata": {},
     "output_type": "execute_result"
    }
   ],
   "source": [
    "struct DList\n",
    "    chunck_list::Array{DLChunck, 1}\n",
    "    elem_pr_chunck::Array{Int64, 1}\n",
    "    chuncks::Int64\n",
    "end\n",
    "import Base.length\n",
    "function length(dlist::DList)\n",
    "    l = 0\n",
    "    for i = 1:dlist.n\n",
    "        l += elem_pr_chunck[i]\n",
    "    end\n",
    "    return l\n",
    "end\n",
    "function DList(r_list::Array{Replica, 1})\n",
    "    chunck_list = distribute(r_list)\n",
    "    chuncks = length(chunck_list)\n",
    "    elem_pr_chunck = Array{Int64, 1}(undef, chuncks)\n",
    "    for i = 1:chuncks\n",
    "        elem_pr_chunck[i] = length(fetch(chunck_list[i].chan))\n",
    "    end\n",
    "    DList(chunck_list, elem_pr_chunck, chuncks)\n",
    "end\n",
    "@everywhere function dmap(f::Function, chan::RemoteChannel{Channel{Array{T, 1}}}) where {T}\n",
    "    local_list = fetch(chan)\n",
    "    [f(el) for el in local_list]\n",
    "end\n",
    "function dmap(f::Function, dlist::DList)\n",
    "    chuncks = dlist.chuncks\n",
    "    futures = Array{Future, 1}(undef, chuncks)\n",
    "    \n",
    "    for (i, ck) = enumerate(dlist.chunck_list)\n",
    "        futures[i] = @spawnat ck.p dmap(f, ck.chan)\n",
    "    end\n",
    "    vcat([fetch(futures[i]) for i = 1:chuncks]...)\n",
    "end\n",
    "        "
   ]
  },
  {
   "cell_type": "code",
   "execution_count": 14,
   "metadata": {},
   "outputs": [
    {
     "data": {
      "text/plain": [
       "dmutate (generic function with 2 methods)"
      ]
     },
     "execution_count": 14,
     "metadata": {},
     "output_type": "execute_result"
    }
   ],
   "source": [
    "@everywhere function dmutate(f!::Function, channel::RemoteChannel{Channel{Array{T, 1}}}) where {T}\n",
    "    local_list = take!(channel)\n",
    "    for el in local_list\n",
    "        f!(el)\n",
    "    end\n",
    "    put!(channel, local_list)\n",
    "    nothing\n",
    "end\n",
    "function dmutate(f!::Function, list::DList)\n",
    "    chuncks = list.chuncks\n",
    "    futures = Array{Future, 1}(undef, chuncks)\n",
    "    \n",
    "    for (i, ck) = enumerate(list.chunck_list)\n",
    "        futures[i] = @spawnat ck.p dmutate(f!, ck.chan)\n",
    "    end\n",
    "    for i = 1:chuncks\n",
    "        wait(futures[i])\n",
    "    end\n",
    "    nothing\n",
    "end"
   ]
  },
  {
   "cell_type": "code",
   "execution_count": 15,
   "metadata": {},
   "outputs": [
    {
     "data": {
      "text/plain": [
       "impureMutate (generic function with 2 methods)"
      ]
     },
     "execution_count": 15,
     "metadata": {},
     "output_type": "execute_result"
    }
   ],
   "source": [
    "@everywhere function impureMutate(f!::Function, chan::RemoteChannel{Channel{Array{T, 1}}}) where {T}\n",
    "    local_list = take!(chan)\n",
    "    res_list = [f!(el) for el in local_list]\n",
    "    put!(chan, local_list)\n",
    "    res_list\n",
    "end\n",
    "function impureMutate(f!::Function, dlist::DList)\n",
    "    chuncks = dlist = chuncks\n",
    "    futures = Array{Future, 1}(undef, chuncks)\n",
    "    \n",
    "    for (i, ck) = enumerate(dlist.chunck_list)\n",
    "        futures[i] = @spawnat ck.p impureMutat(f!, ck.chan)\n",
    "    end\n",
    "    vcat([fetch(futures[i]) for i = 1:chuncks]...)\n",
    "end"
   ]
  },
  {
   "cell_type": "code",
   "execution_count": 34,
   "metadata": {},
   "outputs": [
    {
     "name": "stdout",
     "output_type": "stream",
     "text": [
      "Energies: [-3.0, -3.0, -3.0, -3.0, -3.0, -3.0]\n"
     ]
    }
   ],
   "source": [
    "println(\"Energies: $([R.En/N for R in rep_list])\")"
   ]
  },
  {
   "cell_type": "code",
   "execution_count": 20,
   "metadata": {},
   "outputs": [
    {
     "data": {
      "text/plain": [
       "3"
      ]
     },
     "execution_count": 20,
     "metadata": {},
     "output_type": "execute_result"
    }
   ],
   "source": [
    "fixRC()\n",
    "ck_list = distribute(rep_list)\n",
    "length(fetch(ck_list[1].chan))"
   ]
  },
  {
   "cell_type": "code",
   "execution_count": 21,
   "metadata": {},
   "outputs": [
    {
     "data": {
      "text/plain": [
       "nMCS (generic function with 3 methods)"
      ]
     },
     "execution_count": 21,
     "metadata": {},
     "output_type": "execute_result"
    }
   ],
   "source": [
    "@everywhere function nMCS(remote_r_list::RemoteChannel{Channel{Array{Replica,1}}}, n::T) where T <: Int\n",
    "    r_list = take!(remote_r_list)\n",
    "    for R in r_list\n",
    "        nMCS!(R, n)\n",
    "    end\n",
    "    put!(remote_r_list, r_list)\n",
    "    nothing\n",
    "end\n",
    "function nMCS(dl_list::Array{DLChunck, 1}, n::I) where I <: Int\n",
    "    chuncks = length(dl_list)\n",
    "    futures = Array{Future, 1}(undef, chuncks)\n",
    "    \n",
    "    for (i, dl) = enumerate(dl_list)\n",
    "        futures[i] = @spawnat dl.p nMCS(dl.chan, n)\n",
    "    end\n",
    "    for i = 1:chuncks\n",
    "        wait(futures[i])\n",
    "    end\n",
    "    nothing\n",
    "end"
   ]
  },
  {
   "cell_type": "code",
   "execution_count": 23,
   "metadata": {},
   "outputs": [],
   "source": [
    "nMCS(ck_list, 100)"
   ]
  },
  {
   "cell_type": "code",
   "execution_count": 31,
   "metadata": {},
   "outputs": [
    {
     "data": {
      "text/plain": [
       "localize (generic function with 3 methods)"
      ]
     },
     "execution_count": 31,
     "metadata": {},
     "output_type": "execute_result"
    }
   ],
   "source": [
    "function localize(chunck_list::Array{DLChunck, 1})\n",
    "    return vcat([fetch(ck.chan) for ck in chunck_list]...)\n",
    "end\n",
    "function localize(dlist::DList)\n",
    "    localize(dlist.chunck_list)\n",
    "end"
   ]
  },
  {
   "cell_type": "code",
   "execution_count": 32,
   "metadata": {},
   "outputs": [
    {
     "name": "stdout",
     "output_type": "stream",
     "text": [
      "Energies: [-1.85492, -1.89984, -1.92137, -1.91085, -1.90519, -1.84576]\n"
     ]
    }
   ],
   "source": [
    "new_rep_list = localize(ck_list)\n",
    "println(\"Energies: $([R.En/N for R in new_rep_list])\")"
   ]
  },
  {
   "cell_type": "code",
   "execution_count": 33,
   "metadata": {},
   "outputs": [
    {
     "data": {
      "text/plain": [
       "BenchmarkTools.Trial: \n",
       "  memory estimate:  9.25 KiB\n",
       "  allocs estimate:  217\n",
       "  --------------\n",
       "  minimum time:     130.842 ms (0.00% GC)\n",
       "  median time:      164.371 ms (0.00% GC)\n",
       "  mean time:        159.443 ms (0.00% GC)\n",
       "  maximum time:     176.189 ms (0.00% GC)\n",
       "  --------------\n",
       "  samples:          32\n",
       "  evals/sample:     1"
      ]
     },
     "execution_count": 33,
     "metadata": {},
     "output_type": "execute_result"
    }
   ],
   "source": [
    "@benchmark nMCS(ck_list, 1)"
   ]
  },
  {
   "cell_type": "markdown",
   "metadata": {},
   "source": [
    "YEAH! Det funket!"
   ]
  },
  {
   "cell_type": "code",
   "execution_count": 36,
   "metadata": {},
   "outputs": [
    {
     "data": {
      "text/plain": [
       "DList(DLChunck[DLChunck{Replica}(2, RemoteChannel{Channel{Array{Replica,1}}}(2, 1, 439)), DLChunck{Replica}(3, RemoteChannel{Channel{Array{Replica,1}}}(3, 1, 442))], [3, 3], 2)"
      ]
     },
     "execution_count": 36,
     "metadata": {},
     "output_type": "execute_result"
    }
   ],
   "source": [
    "dlist = DList(rep_list);"
   ]
  },
  {
   "cell_type": "code",
   "execution_count": 37,
   "metadata": {},
   "outputs": [],
   "source": [
    "dmutate(R -> nMCS!(R, 100), dlist)"
   ]
  },
  {
   "cell_type": "code",
   "execution_count": 38,
   "metadata": {},
   "outputs": [
    {
     "name": "stdout",
     "output_type": "stream",
     "text": [
      "Energies: [-1.84713, -1.8754, -1.93635, -1.94505, -1.91681, -1.80607]\n"
     ]
    }
   ],
   "source": [
    "new_rep_list = localize(dlist)\n",
    "println(\"Energies: $([R.En/N for R in new_rep_list])\")"
   ]
  },
  {
   "cell_type": "code",
   "execution_count": 39,
   "metadata": {},
   "outputs": [
    {
     "data": {
      "text/plain": [
       "BenchmarkTools.Trial: \n",
       "  memory estimate:  11.22 KiB\n",
       "  allocs estimate:  249\n",
       "  --------------\n",
       "  minimum time:     116.413 ms (0.00% GC)\n",
       "  median time:      160.119 ms (0.00% GC)\n",
       "  mean time:        149.264 ms (0.00% GC)\n",
       "  maximum time:     176.955 ms (0.00% GC)\n",
       "  --------------\n",
       "  samples:          34\n",
       "  evals/sample:     1"
      ]
     },
     "execution_count": 39,
     "metadata": {},
     "output_type": "execute_result"
    }
   ],
   "source": [
    "@benchmark dmutate(R -> nMCS!(R, 1), dlist)"
   ]
  },
  {
   "cell_type": "code",
   "execution_count": 40,
   "metadata": {},
   "outputs": [],
   "source": [
    "@everywhere function E(R::Replica)\n",
    "    R.En\n",
    "end"
   ]
  },
  {
   "cell_type": "code",
   "execution_count": 43,
   "metadata": {},
   "outputs": [
    {
     "data": {
      "text/plain": [
       "BenchmarkTools.Trial: \n",
       "  memory estimate:  11.66 KiB\n",
       "  allocs estimate:  275\n",
       "  --------------\n",
       "  minimum time:     399.994 μs (0.00% GC)\n",
       "  median time:      527.650 μs (0.00% GC)\n",
       "  mean time:        531.174 μs (1.51% GC)\n",
       "  maximum time:     26.140 ms (66.27% GC)\n",
       "  --------------\n",
       "  samples:          9315\n",
       "  evals/sample:     1"
      ]
     },
     "execution_count": 43,
     "metadata": {},
     "output_type": "execute_result"
    }
   ],
   "source": [
    "@benchmark dmap(E, dlist)"
   ]
  },
  {
   "cell_type": "markdown",
   "metadata": {},
   "source": [
    "# Old slow naive methods of parallelization"
   ]
  },
  {
   "cell_type": "code",
   "execution_count": 17,
   "metadata": {},
   "outputs": [
    {
     "data": {
      "text/plain": [
       "BenchmarkTools.Trial: \n",
       "  memory estimate:  2.74 MiB\n",
       "  allocs estimate:  69120\n",
       "  --------------\n",
       "  minimum time:     30.019 ms (0.00% GC)\n",
       "  median time:      30.357 ms (0.00% GC)\n",
       "  mean time:        30.881 ms (1.38% GC)\n",
       "  maximum time:     38.660 ms (13.57% GC)\n",
       "  --------------\n",
       "  samples:          162\n",
       "  evals/sample:     1"
      ]
     },
     "execution_count": 17,
     "metadata": {},
     "output_type": "execute_result"
    }
   ],
   "source": [
    "@benchmark mcSweepEn!(pt.rep_list[1].ψ, pt.rep_list[1].sim)"
   ]
  },
  {
   "cell_type": "code",
   "execution_count": 17,
   "metadata": {},
   "outputs": [
    {
     "data": {
      "text/plain": [
       "BenchmarkTools.Trial: \n",
       "  memory estimate:  178.14 MiB\n",
       "  allocs estimate:  8248645\n",
       "  --------------\n",
       "  minimum time:     1.333 s (15.45% GC)\n",
       "  median time:      1.397 s (18.90% GC)\n",
       "  mean time:        1.391 s (18.91% GC)\n",
       "  maximum time:     1.436 s (22.13% GC)\n",
       "  --------------\n",
       "  samples:          4\n",
       "  evals/sample:     1"
      ]
     },
     "execution_count": 17,
     "metadata": {},
     "output_type": "execute_result"
    }
   ],
   "source": [
    "@benchmark pmap(R -> nMCS!(R, pt.N_mc), pt.rep_list)"
   ]
  },
  {
   "cell_type": "code",
   "execution_count": 10,
   "metadata": {},
   "outputs": [
    {
     "data": {
      "text/plain": [
       "nMCS! (generic function with 3 methods)"
      ]
     },
     "execution_count": 10,
     "metadata": {},
     "output_type": "execute_result"
    }
   ],
   "source": [
    "# --------------------------------------------------------------------------------------------------\n",
    "# Preform nMCS! on a list of replicas (as much as possible in paralllel)\n",
    "function nMCS!(rep_list::Array{Replica, 1}, n::Int64)\n",
    "    nw = nprocs()-1\n",
    "    n_state = length(rep_list)\n",
    "    \n",
    "    i = 0 # Index in rep_list of states already updated.\n",
    "    while i < n_state\n",
    "        \n",
    "        worker_jobs = min(nw, n_state-1-i) # Number of needed jobs given to workers\n",
    "        # Start the max number of workers if that wouldn't be too much.\n",
    "        work_futures = [Future() for w = 1:worker_jobs]\n",
    "        \n",
    "        for w = 1:worker_jobs\n",
    "            work_futures[w] = @spawn nMCS!(rep_list[i+w], n)\n",
    "        end\n",
    "        index = i+worker_jobs+1\n",
    "        rep_list[index] =  nMCS!(rep_list[index], n)\n",
    "        \n",
    "        for w = 1:worker_jobs\n",
    "            rep_list[i+w] = fetch(work_futures[w])\n",
    "        end\n",
    "        \n",
    "        i += worker_jobs+1\n",
    "    end\n",
    "    \n",
    "    # After this, all states should have been updated\n",
    "    return\n",
    "end"
   ]
  },
  {
   "cell_type": "markdown",
   "metadata": {},
   "source": [
    "# Continuing developing parallel tempering type"
   ]
  },
  {
   "cell_type": "code",
   "execution_count": null,
   "metadata": {},
   "outputs": [],
   "source": [
    "@everywhere mutable struct PTRun\n",
    "    rep_list::Array{Replica,1}\n",
    "    accepts::Array{Int64,1}     # Number of accepted PT-swaps between i and i+1\n",
    "    histograms::Array{Array{Int64, 1},1}\n",
    "    N_mc::Int64                 # Number of MC sweeps to do between each PT step.\n",
    "    N_pt::Int64                 # Number of PT steps done\n",
    "    N_temp::Int64               # Number of temperatures.\n",
    "end\n",
    "function PTRun(ψ_list::Array{State,1}, sim_list::Array{Controls,1}, N_mc::Int64; verbose=false)\n",
    "    N = length(ψ_list)\n",
    "    N == length(sim_list) || throw(error(\"ERROR: List of states and control constants are not same length\"))\n",
    "    \n",
    "    # Sort ψ_list according to increasing temperature\n",
    "    perm = sortperm([ψ.consts.β for ψ in ψ_list]; rev=true)\n",
    "    if verbose && perm != [i for i = 1:N]\n",
    "        println(\"WARNING: Inserted state list did not have states in increasing temperature\")\n",
    "    end\n",
    "    ψ_list = ψ_list[perm]\n",
    "    sim_list = sim_list[perm]\n",
    "        \n",
    "    accepts = [0 for i = 1:N-1]\n",
    "    rep_list = [Replica(ψ_list[i], sim_list[i]) for i = 1:N]\n",
    "    rep_list[1].state = 1    # The lowest temperature replica is moving up\n",
    "    rep_list[N].state = 2    # The highest temperature replica is moving down.\n",
    "    histograms = [[0,0,0] for i = 1:N]\n",
    "    return PTRun(rep_list, accepts, histograms, N_mc, 0, N)\n",
    "end"
   ]
  },
  {
   "cell_type": "code",
   "execution_count": 6,
   "metadata": {},
   "outputs": [
    {
     "data": {
      "text/plain": [
       "incrementHistograms! (generic function with 1 method)"
      ]
     },
     "execution_count": 6,
     "metadata": {},
     "output_type": "execute_result"
    }
   ],
   "source": [
    "function incrementHistograms!(pt::PTRun)\n",
    "    for i = 1:pt.N_temp\n",
    "        histogram = pt.histograms[i]\n",
    "        replica_state = pt.rep_list[i].state\n",
    "        histogram[replica_state] += 1\n",
    "    end\n",
    "end"
   ]
  },
  {
   "cell_type": "code",
   "execution_count": 7,
   "metadata": {},
   "outputs": [
    {
     "data": {
      "text/plain": [
       "ptSwap! (generic function with 1 method)"
      ]
     },
     "execution_count": 7,
     "metadata": {},
     "output_type": "execute_result"
    }
   ],
   "source": [
    "function ptSwap!(rep_list::Array{Replica,1}, i::Int64, j::Int64)\n",
    "    ψⱼ = rep_list[j].ψ\n",
    "    ψᵢ = rep_list[i].ψ\n",
    "    \n",
    "    # First we swap the temperatures of the two replicas\n",
    "    temp = ψⱼ.consts\n",
    "    ψⱼ.consts = ψᵢ.consts\n",
    "    ψᵢ.consts = temp\n",
    "\n",
    "    # Then we swap the placement of the replicas in the list, thus keeping the position of\n",
    "    # the temperatures in the list constant.\n",
    "    R_temp = rep_list[i]\n",
    "    rep_list[i] = rep_list[j]\n",
    "    rep_list[j] = R_temp\n",
    "    return\n",
    "end"
   ]
  },
  {
   "cell_type": "code",
   "execution_count": 8,
   "metadata": {},
   "outputs": [
    {
     "data": {
      "text/plain": [
       "attemptSwap (generic function with 1 method)"
      ]
     },
     "execution_count": 8,
     "metadata": {},
     "output_type": "execute_result"
    }
   ],
   "source": [
    "function attemptSwap(rep_list::Array{Replica,1}, i::Int64, j::Int64)\n",
    "    ψⱼ = rep_list[j].ψ\n",
    "    ψᵢ = rep_list[i].ψ\n",
    "    Δβ = ψⱼ.consts.β-ψᵢ.consts.β\n",
    "    ΔE = rep_list[j].En - rep_list[i].En\n",
    "    \n",
    "    r = 1-rand() # make a number ∈ (0, 1]\n",
    "    # Same method as metropolis-hasting selection: to select with probability min{1, e^{Δβ⋅ΔE}}\n",
    "    # We could choose a random number r ∈ [0, 1] and check if it's lower than r <= e^{Δβ⋅ΔE} provided\n",
    "    # the exponent is negative. Taking the logarithm on both sides we see that in this case then also\n",
    "    # log(r) <= Δβ⋅ΔE. This has the advantage that since r ∈ (0,1], log(r) will always be negative\n",
    "    # and thus we always select if Δβ⋅ΔE is positive, as we should.\n",
    "    if log(r) <= Δβ*ΔE\n",
    "        ptSwap!(rep_list, i, j)\n",
    "        return true\n",
    "    end\n",
    "    return false\n",
    "end"
   ]
  },
  {
   "cell_type": "code",
   "execution_count": 25,
   "metadata": {},
   "outputs": [
    {
     "name": "stdout",
     "output_type": "stream",
     "text": [
      "[-7171.9, -386.738, 6338.62]\n",
      "[-3030.58, 4407.93, 11968.4]\n"
     ]
    }
   ],
   "source": [
    "println([E(R.ψ) for R in pt.rep_list])\n",
    "nMCS!(pt.rep_list, 1000)\n",
    "println([E(R.ψ) for R in pt.rep_list])"
   ]
  },
  {
   "cell_type": "code",
   "execution_count": 43,
   "metadata": {},
   "outputs": [
    {
     "name": "stdout",
     "output_type": "stream",
     "text": [
      "[-41472.0, -41472.0, -41472.0]\n"
     ]
    }
   ],
   "source": [
    "println([R.En for R in pt.rep_list])"
   ]
  },
  {
   "cell_type": "code",
   "execution_count": 11,
   "metadata": {},
   "outputs": [
    {
     "data": {
      "text/plain": [
       "PTStep! (generic function with 1 method)"
      ]
     },
     "execution_count": 11,
     "metadata": {},
     "output_type": "execute_result"
    }
   ],
   "source": [
    "function PTStep!(pt::PTRun)\n",
    "    # First we preform N_mc MC sweeps for all of the replicas \n",
    "    nMCS!(pt.rep_list, pt.N_mc)\n",
    "    \n",
    "    # Before a squence of swap moves we increment the histograms\n",
    "    incrementHistograms!(pt)\n",
    "    \n",
    "    # Then we go through the temperatures and make a swap with probability\n",
    "    # p = min{1, e^(-Δβ*ΔE)} between neighboring temperatures.\n",
    "    for i = 1:pt.N_temp-1\n",
    "        if attemptSwap(pt.rep_list, i, i+1)\n",
    "            # Updates acceptance rates if successful\n",
    "            pt.accepts[i] += 1\n",
    "        end\n",
    "    end\n",
    "    \n",
    "    # Finally increment number of PT steps done and set the end states\n",
    "    pt.N_pt += 1\n",
    "    pt.rep_list[1].state = 1\n",
    "    pt.rep_list[pt.N_temp].state = 2\n",
    "    \n",
    "    return\n",
    "end"
   ]
  },
  {
   "cell_type": "code",
   "execution_count": 15,
   "metadata": {},
   "outputs": [
    {
     "data": {
      "text/plain": [
       "5-element Array{Float64,1}:\n",
       " -3.0\n",
       " -3.0\n",
       " -3.0\n",
       " -3.0\n",
       " -3.0"
      ]
     },
     "execution_count": 15,
     "metadata": {},
     "output_type": "execute_result"
    }
   ],
   "source": [
    "[R.En/N for R in pt.rep_list]"
   ]
  },
  {
   "cell_type": "code",
   "execution_count": 16,
   "metadata": {},
   "outputs": [
    {
     "data": {
      "text/plain": [
       "100"
      ]
     },
     "execution_count": 16,
     "metadata": {},
     "output_type": "execute_result"
    }
   ],
   "source": [
    "pt.N_mc"
   ]
  },
  {
   "cell_type": "code",
   "execution_count": 19,
   "metadata": {},
   "outputs": [],
   "source": [
    "for i = 1:70\n",
    "    PTStep!(pt)\n",
    "end"
   ]
  },
  {
   "cell_type": "code",
   "execution_count": 12,
   "metadata": {},
   "outputs": [
    {
     "data": {
      "text/plain": [
       "BenchmarkTools.Trial: \n",
       "  memory estimate:  328.40 MiB\n",
       "  allocs estimate:  15042258\n",
       "  --------------\n",
       "  minimum time:     3.897 s (11.97% GC)\n",
       "  median time:      3.907 s (11.52% GC)\n",
       "  mean time:        3.907 s (11.52% GC)\n",
       "  maximum time:     3.917 s (11.07% GC)\n",
       "  --------------\n",
       "  samples:          2\n",
       "  evals/sample:     1"
      ]
     },
     "execution_count": 12,
     "metadata": {},
     "output_type": "execute_result"
    }
   ],
   "source": [
    "@benchmark nMCS!(pt.rep_list, pt.N_mc)"
   ]
  },
  {
   "cell_type": "code",
   "execution_count": 13,
   "metadata": {},
   "outputs": [
    {
     "data": {
      "text/plain": [
       "BenchmarkTools.Trial: \n",
       "  memory estimate:  328.40 MiB\n",
       "  allocs estimate:  15042276\n",
       "  --------------\n",
       "  minimum time:     3.794 s (8.67% GC)\n",
       "  median time:      3.948 s (11.25% GC)\n",
       "  mean time:        3.948 s (11.25% GC)\n",
       "  maximum time:     4.103 s (13.62% GC)\n",
       "  --------------\n",
       "  samples:          2\n",
       "  evals/sample:     1"
      ]
     },
     "execution_count": 13,
     "metadata": {},
     "output_type": "execute_result"
    }
   ],
   "source": [
    "@benchmark PTStep!(pt)"
   ]
  },
  {
   "cell_type": "code",
   "execution_count": 20,
   "metadata": {},
   "outputs": [
    {
     "data": {
      "text/plain": [
       "6-element Array{Array{Int64,1},1}:\n",
       " [236, 0, 0] \n",
       " [211, 21, 4]\n",
       " [177, 56, 3]\n",
       " [53, 181, 2]\n",
       " [11, 224, 1]\n",
       " [0, 236, 0] "
      ]
     },
     "execution_count": 20,
     "metadata": {},
     "output_type": "execute_result"
    }
   ],
   "source": [
    "pt.histograms"
   ]
  },
  {
   "cell_type": "code",
   "execution_count": 38,
   "metadata": {},
   "outputs": [
    {
     "data": {
      "text/plain": [
       "7"
      ]
     },
     "execution_count": 38,
     "metadata": {},
     "output_type": "execute_result"
    }
   ],
   "source": [
    "pt.N_pt"
   ]
  },
  {
   "cell_type": "code",
   "execution_count": 21,
   "metadata": {},
   "outputs": [
    {
     "data": {
      "text/plain": [
       "getARList (generic function with 1 method)"
      ]
     },
     "execution_count": 21,
     "metadata": {},
     "output_type": "execute_result"
    }
   ],
   "source": [
    "function getARList(pt::PTRun)\n",
    "    return [an/(pt.N_pt) for an in pt.accepts]\n",
    "end"
   ]
  },
  {
   "cell_type": "code",
   "execution_count": 22,
   "metadata": {},
   "outputs": [
    {
     "data": {
      "text/plain": [
       "getHistograms (generic function with 1 method)"
      ]
     },
     "execution_count": 22,
     "metadata": {},
     "output_type": "execute_result"
    }
   ],
   "source": [
    "function getHistograms(pt::PTRun)\n",
    "    return [hist[1]/(hist[1]+hist[2]) for hist in pt.histograms]\n",
    "end"
   ]
  },
  {
   "cell_type": "code",
   "execution_count": 23,
   "metadata": {},
   "outputs": [
    {
     "data": {
      "text/plain": [
       "6-element Array{Float64,1}:\n",
       " 1.0                \n",
       " 0.9094827586206896 \n",
       " 0.759656652360515  \n",
       " 0.2264957264957265 \n",
       " 0.04680851063829787\n",
       " 0.0                "
      ]
     },
     "execution_count": 23,
     "metadata": {},
     "output_type": "execute_result"
    }
   ],
   "source": [
    "getHistograms(pt)"
   ]
  },
  {
   "cell_type": "code",
   "execution_count": 47,
   "metadata": {},
   "outputs": [
    {
     "data": {
      "text/plain": [
       "4-element Array{Array{Int64,1},1}:\n",
       " [7, 0, 0]\n",
       " [4, 0, 3]\n",
       " [0, 3, 4]\n",
       " [0, 7, 0]"
      ]
     },
     "execution_count": 47,
     "metadata": {},
     "output_type": "execute_result"
    }
   ],
   "source": [
    "pt.histograms"
   ]
  },
  {
   "cell_type": "code",
   "execution_count": 41,
   "metadata": {},
   "outputs": [
    {
     "data": {
      "text/plain": [
       "3-element Array{Int64,1}:\n",
       " 3\n",
       " 0\n",
       " 1"
      ]
     },
     "execution_count": 41,
     "metadata": {},
     "output_type": "execute_result"
    }
   ],
   "source": [
    "pt.accepts"
   ]
  },
  {
   "cell_type": "code",
   "execution_count": 24,
   "metadata": {},
   "outputs": [
    {
     "data": {
      "text/plain": [
       "5-element Array{Float64,1}:\n",
       " 64.40677966101694 \n",
       " 62.28813559322034 \n",
       " 43.22033898305085 \n",
       " 31.779661016949152\n",
       " 66.10169491525424 "
      ]
     },
     "execution_count": 24,
     "metadata": {},
     "output_type": "execute_result"
    }
   ],
   "source": [
    "getARList(pt).*100"
   ]
  },
  {
   "cell_type": "code",
   "execution_count": 25,
   "metadata": {},
   "outputs": [
    {
     "data": {
      "text/plain": [
       "6-element Array{Float64,1}:\n",
       " -0.9344024445502813\n",
       " -0.9166260126388124\n",
       " -0.8872395688279187\n",
       " -0.9130433607132877\n",
       " -0.8218083248427677\n",
       " -0.801200944919485 "
      ]
     },
     "execution_count": 25,
     "metadata": {},
     "output_type": "execute_result"
    }
   ],
   "source": [
    "[R.En/N for R in pt.rep_list]"
   ]
  },
  {
   "cell_type": "code",
   "execution_count": 37,
   "metadata": {},
   "outputs": [
    {
     "data": {
      "text/plain": [
       "3-element Array{Int64,1}:\n",
       " 0\n",
       " 2\n",
       " 0"
      ]
     },
     "execution_count": 37,
     "metadata": {},
     "output_type": "execute_result"
    }
   ],
   "source": [
    "pt.histograms[3]"
   ]
  }
 ],
 "metadata": {
  "kernelspec": {
   "display_name": "Julia -p 2 1.0.3",
   "language": "julia",
   "name": "julia--p-2-1.0"
  },
  "language_info": {
   "file_extension": ".jl",
   "mimetype": "application/julia",
   "name": "julia",
   "version": "1.0.3"
  }
 },
 "nbformat": 4,
 "nbformat_minor": 2
}
