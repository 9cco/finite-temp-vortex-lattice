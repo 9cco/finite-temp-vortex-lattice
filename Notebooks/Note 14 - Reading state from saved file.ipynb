{
 "cells": [
  {
   "cell_type": "code",
   "execution_count": 5,
   "metadata": {},
   "outputs": [],
   "source": [
    "# Import source\n",
    "\n",
    "cd(\"../Source\")\n",
    "include(\"ChiralMC.jl\")\n",
    "using ChiralMC\n",
    "\n",
    "include(\"functions_msc.jl\")\n",
    "include(\"functions_observables.jl\")\n",
    "include(\"functions_parallel.jl\")\n",
    "\n",
    "using Base.Test\n",
    "using Plots\n",
    "gr()\n",
    "using Distributions\n",
    "cd(\"../Notebooks/\")"
   ]
  },
  {
   "cell_type": "code",
   "execution_count": 6,
   "metadata": {},
   "outputs": [],
   "source": [
    "@everywhere const two_pi = 2π\n",
    "\n",
    "# We run a simulation with the parameters\n",
    "g = 0.3    # Gauge coupling\n",
    "ν = 0.3    # Anisotropy\n",
    "H = -0.72   # External field\n",
    "\n",
    "# Other parameters\n",
    "L = 32     # System length\n",
    "T = 0.4   # Temperature\n",
    "γ = 1.0    # Order parameter amplitud\n",
    "\n",
    "# Calculate periodic boundary conditioned f s.t. fL ∈ N\n",
    "f = ceil(abs(H/(2π)*L))/L*sign(H)\n",
    "# Calculate inverse temperature\n",
    "β = 1/T\n",
    "\n",
    "# Create system\n",
    "syst = SystConstants(L, γ, 1/g^2, ν, f, β)\n",
    "sim = Controls(π/3, 0.4, 3.0)\n",
    "\n",
    "# Measurement parameters\n",
    "M = 300    # Number of measurements\n",
    "Δt = 200  # Interval between measurements (MCS)\n",
    "# Construct k-matrix where the horizontal axis contains kx ∈ [-π, π), while\n",
    "# the vertical axis contain ky ∈ [-π, π) at the second component\n",
    "k_matrix = [[2π/L*(x-1-L/2), 2π/L*(L/2-y)] for y=1:L, x=1:L];"
   ]
  },
  {
   "cell_type": "markdown",
   "metadata": {},
   "source": [
    "# Motivation"
   ]
  },
  {
   "cell_type": "markdown",
   "metadata": {},
   "source": [
    "Since we so far don't have parallelized the mc-update, then much time is wasted thermalizing the system since this has to be done on a single cpu. Therefore it is better to use a cpu with higher frequency than what is found on Vilje and other supercomputers. The plan is to have a julia script prepare a folder for each system we want to measure. The folder should contain a file giving the system parameters as before, as well as two saved states that are the final states after thermalizing. As well as a file giving the thermalization time. This will also eliminate the need to re-equilibrate a system that is already equilibrated where we want to do new measurements."
   ]
  },
  {
   "cell_type": "markdown",
   "metadata": {},
   "source": [
    "### Moving to work directory"
   ]
  },
  {
   "cell_type": "code",
   "execution_count": 7,
   "metadata": {},
   "outputs": [],
   "source": [
    "cd(\"../Data/\")"
   ]
  },
  {
   "cell_type": "code",
   "execution_count": 10,
   "metadata": {},
   "outputs": [
    {
     "name": "stdout",
     "output_type": "stream",
     "text": [
      "Saving state to file temp_state\n"
     ]
    },
    {
     "data": {
      "text/plain": [
       "1"
      ]
     },
     "execution_count": 10,
     "metadata": {},
     "output_type": "execute_result"
    }
   ],
   "source": [
    "ψ = State(2, syst)\n",
    "save(ψ, \"temp_state\")"
   ]
  },
  {
   "cell_type": "code",
   "execution_count": 24,
   "metadata": {},
   "outputs": [
    {
     "data": {
      "text/plain": [
       "readState (generic function with 1 method)"
      ]
     },
     "execution_count": 24,
     "metadata": {},
     "output_type": "execute_result"
    }
   ],
   "source": [
    "function readState(filename::AbstractString)\n",
    "    open(filename, \"r\") do file\n",
    "        line = readline(file)\n",
    "        if line != \"state start\"\n",
    "            throw(DomainError())\n",
    "        end\n",
    "        L = parse(Int64, readline(file))\n",
    "        γ = parse(Float64, readline(file))\n",
    "        g⁻² = parse(Float64, readline(file))\n",
    "        ν = parse(Float64, readline(file))\n",
    "        f = parse(Float64, readline(file))\n",
    "        β = parse(Float64, readline(file))\n",
    "        syst = SystConstants(L, γ, g⁻², ν, f, β)\n",
    "        \n",
    "        lattice = Array{LatticeSite, 2}(L,L)\n",
    "        for h_pos = 1:L, v_pos = 1:L\n",
    "            ϕ_values = split(readline(file), \":\")\n",
    "            A₁ = parse(Float64, ϕ_values[1])\n",
    "            A₂ = parse(Float64, ϕ_values[2])\n",
    "            θ⁺ = parse(Float64, ϕ_values[3])\n",
    "            θ⁻ = parse(Float64, ϕ_values[4])\n",
    "            u⁺ = parse(Float64, ϕ_values[5])\n",
    "            u⁻ = parse(Float64, ϕ_values[6])\n",
    "            lattice[v_pos,h_pos] = LatticeSite([A₁, A₂], θ⁺, θ⁻, u⁺, u⁻)\n",
    "        end\n",
    "        \n",
    "        nbl = latticeNeighbors(lattice,L)\n",
    "        nnbl = latticeNextNeighbors(lattice,L)\n",
    "        nnnbl = latticeNNNeighbors(lattice,L)\n",
    "        \n",
    "        return State(lattice, syst, nbl, nnbl, nnnbl)\n",
    "    end\n",
    "end"
   ]
  },
  {
   "cell_type": "code",
   "execution_count": 28,
   "metadata": {},
   "outputs": [],
   "source": [
    "import Base.=="
   ]
  },
  {
   "cell_type": "code",
   "execution_count": 31,
   "metadata": {},
   "outputs": [
    {
     "data": {
      "text/plain": [
       "false"
      ]
     },
     "execution_count": 31,
     "metadata": {},
     "output_type": "execute_result"
    }
   ],
   "source": [
    "(true &&\n",
    "false && true)"
   ]
  },
  {
   "cell_type": "code",
   "execution_count": 35,
   "metadata": {},
   "outputs": [
    {
     "data": {
      "text/plain": [
       "== (generic function with 174 methods)"
      ]
     },
     "execution_count": 35,
     "metadata": {},
     "output_type": "execute_result"
    }
   ],
   "source": [
    "function ==(ϕ₁::LatticeSite, ϕ₂::LatticeSite)\n",
    "    return (ϕ₁.A[1] == ϕ₂.A[1] && ϕ₁.A[2] == ϕ₂.A[2] && ϕ₁.θ⁺ == ϕ₂.θ⁺ && \n",
    "        ϕ₁.θ⁻ == ϕ₂.θ⁻ && ϕ₁.u⁺ == ϕ₂.u⁺ && ϕ₁.u⁻ == ϕ₂.u⁻)\n",
    "end\n",
    "function ==(c₁::SystConstants, c₂::SystConstants)\n",
    "    return (c₁.L == c₂.L && c₁.γ == c₂.γ && c₁.g⁻² == c₂.g⁻² && c₁.ν == c₂.ν && c₁.f == c₂.f && c₁.β == c₂.β)\n",
    "end"
   ]
  },
  {
   "cell_type": "code",
   "execution_count": 36,
   "metadata": {},
   "outputs": [
    {
     "data": {
      "text/plain": [
       "== (generic function with 174 methods)"
      ]
     },
     "execution_count": 36,
     "metadata": {},
     "output_type": "execute_result"
    }
   ],
   "source": [
    "function ==(ψ₁::State, ψ₂::State)\n",
    "    check = ψ₁.consts == ψ₂.consts\n",
    "    L = ψ₁.consts.L\n",
    "    for h_pos=1:L, v_pos=1:L\n",
    "        check = check && ψ₁.lattice[v_pos,h_pos] == ψ₂.lattice[v_pos,h_pos]\n",
    "    end\n",
    "    return check\n",
    "end"
   ]
  },
  {
   "cell_type": "code",
   "execution_count": 25,
   "metadata": {},
   "outputs": [
    {
     "data": {
      "text/plain": [
       "ChiralMC.State(ChiralMC.LatticeSite[ChiralMC.LatticeSite([-204.292, 251.008], 4.0679, 2.8203, 0.879275, 0.476315) ChiralMC.LatticeSite([930.374, 1001.8], 2.23182, 1.62128, 0.123718, 0.992317) … ChiralMC.LatticeSite([602.035, 209.562], 4.54858, 5.12353, 0.591308, 0.806446) ChiralMC.LatticeSite([501.753, -68.7539], 1.78959, 0.364271, 0.343379, 0.939197); ChiralMC.LatticeSite([525.745, 281.104], 1.32093, 5.49295, 0.150915, 0.988547) ChiralMC.LatticeSite([-242.032, -387.028], 2.03045, 2.97377, 0.350811, 0.936446) … ChiralMC.LatticeSite([241.999, -900.811], 4.88932, 1.39726, 0.421664, 0.906752) ChiralMC.LatticeSite([-543.752, -905.355], 5.3743, 0.69171, 0.938925, 0.344121); … ; ChiralMC.LatticeSite([821.696, -715.093], 1.68815, 4.8587, 0.393203, 0.919452) ChiralMC.LatticeSite([802.22, 65.5285], 3.31287, 4.15757, 0.076888, 0.99704) … ChiralMC.LatticeSite([413.625, -358.161], 1.97966, 1.40614, 0.198675, 0.980065) ChiralMC.LatticeSite([466.39, 381.256], 6.08097, 5.06127, 0.86525, 0.501341); ChiralMC.LatticeSite([471.829, 500.882], 2.31074, 4.84589, 0.37771, 0.925924) ChiralMC.LatticeSite([831.584, -397.561], 2.36946, 4.75846, 0.365361, 0.930866) … ChiralMC.LatticeSite([1006.45, 309.982], 0.065962, 0.296724, 0.495356, 0.86869) ChiralMC.LatticeSite([53.3586, 139.424], 4.50404, 4.24987, 0.761255, 0.648453)], ChiralMC.SystConstants(32, 1.0, 11.11111111111111, 0.3, -0.125, 2.5), ChiralMC.Neighbors[ChiralMC.Neighbors(ChiralMC.LatticeSite([930.374, 1001.8], 2.23182, 1.62128, 0.123718, 0.992317), ChiralMC.LatticeSite([501.753, -68.7539], 1.78959, 0.364271, 0.343379, 0.939197), ChiralMC.LatticeSite([471.829, 500.882], 2.31074, 4.84589, 0.37771, 0.925924), ChiralMC.LatticeSite([525.745, 281.104], 1.32093, 5.49295, 0.150915, 0.988547)) ChiralMC.Neighbors(ChiralMC.LatticeSite([-271.055, 927.729], 4.87083, 4.71791, 0.425446, 0.904984), ChiralMC.LatticeSite([-204.292, 251.008], 4.0679, 2.8203, 0.879275, 0.476315), ChiralMC.LatticeSite([831.584, -397.561], 2.36946, 4.75846, 0.365361, 0.930866), ChiralMC.LatticeSite([-242.032, -387.028], 2.03045, 2.97377, 0.350811, 0.936446)) … ChiralMC.Neighbors(ChiralMC.LatticeSite([501.753, -68.7539], 1.78959, 0.364271, 0.343379, 0.939197), ChiralMC.LatticeSite([527.945, -114.953], 5.3787, 4.6403, 0.725695, 0.688017), ChiralMC.LatticeSite([1006.45, 309.982], 0.065962, 0.296724, 0.495356, 0.86869), ChiralMC.LatticeSite([241.999, -900.811], 4.88932, 1.39726, 0.421664, 0.906752)) ChiralMC.Neighbors(ChiralMC.LatticeSite([-204.292, 251.008], 4.0679, 2.8203, 0.879275, 0.476315), ChiralMC.LatticeSite([602.035, 209.562], 4.54858, 5.12353, 0.591308, 0.806446), ChiralMC.LatticeSite([53.3586, 139.424], 4.50404, 4.24987, 0.761255, 0.648453), ChiralMC.LatticeSite([-543.752, -905.355], 5.3743, 0.69171, 0.938925, 0.344121)); ChiralMC.Neighbors(ChiralMC.LatticeSite([-242.032, -387.028], 2.03045, 2.97377, 0.350811, 0.936446), ChiralMC.LatticeSite([-543.752, -905.355], 5.3743, 0.69171, 0.938925, 0.344121), ChiralMC.LatticeSite([-204.292, 251.008], 4.0679, 2.8203, 0.879275, 0.476315), ChiralMC.LatticeSite([971.449, 36.2374], 3.89454, 4.22691, 0.657133, 0.753775)) ChiralMC.Neighbors(ChiralMC.LatticeSite([-425.825, -526.884], 6.14706, 5.11192, 0.83017, 0.55751), ChiralMC.LatticeSite([525.745, 281.104], 1.32093, 5.49295, 0.150915, 0.988547), ChiralMC.LatticeSite([930.374, 1001.8], 2.23182, 1.62128, 0.123718, 0.992317), ChiralMC.LatticeSite([542.659, 490.652], 4.75689, 2.95114, 0.832652, 0.553797)) … ChiralMC.Neighbors(ChiralMC.LatticeSite([-543.752, -905.355], 5.3743, 0.69171, 0.938925, 0.344121), ChiralMC.LatticeSite([492.231, -705.283], 0.719215, 5.48709, 0.748992, 0.662579), ChiralMC.LatticeSite([602.035, 209.562], 4.54858, 5.12353, 0.591308, 0.806446), ChiralMC.LatticeSite([701.172, -139.899], 1.23439, 2.41875, 0.829278, 0.558837)) ChiralMC.Neighbors(ChiralMC.LatticeSite([525.745, 281.104], 1.32093, 5.49295, 0.150915, 0.988547), ChiralMC.LatticeSite([241.999, -900.811], 4.88932, 1.39726, 0.421664, 0.906752), ChiralMC.LatticeSite([501.753, -68.7539], 1.78959, 0.364271, 0.343379, 0.939197), ChiralMC.LatticeSite([969.747, -437.191], 3.07054, 3.07517, 0.34988, 0.936795)); … ; ChiralMC.Neighbors(ChiralMC.LatticeSite([802.22, 65.5285], 3.31287, 4.15757, 0.076888, 0.99704), ChiralMC.LatticeSite([466.39, 381.256], 6.08097, 5.06127, 0.86525, 0.501341), ChiralMC.LatticeSite([-63.2289, 231.558], 4.79604, 6.24037, 0.943617, 0.331039), ChiralMC.LatticeSite([471.829, 500.882], 2.31074, 4.84589, 0.37771, 0.925924)) ChiralMC.Neighbors(ChiralMC.LatticeSite([672.186, -804.016], 1.63587, 1.33584, 0.13713, 0.990553), ChiralMC.LatticeSite([821.696, -715.093], 1.68815, 4.8587, 0.393203, 0.919452), ChiralMC.LatticeSite([985.963, 648.928], 0.082299, 0.224197, 0.106957, 0.994264), ChiralMC.LatticeSite([831.584, -397.561], 2.36946, 4.75846, 0.365361, 0.930866)) … ChiralMC.Neighbors(ChiralMC.LatticeSite([466.39, 381.256], 6.08097, 5.06127, 0.86525, 0.501341), ChiralMC.LatticeSite([-354.061, 575.685], 4.42883, 4.75369, 0.597919, 0.801557), ChiralMC.LatticeSite([94.448, -737.255], 2.04368, 4.34641, 0.707129, 0.707085), ChiralMC.LatticeSite([1006.45, 309.982], 0.065962, 0.296724, 0.495356, 0.86869)) ChiralMC.Neighbors(ChiralMC.LatticeSite([821.696, -715.093], 1.68815, 4.8587, 0.393203, 0.919452), ChiralMC.LatticeSite([413.625, -358.161], 1.97966, 1.40614, 0.198675, 0.980065), ChiralMC.LatticeSite([-857.233, -987.966], 6.06241, 0.559876, 0.644752, 0.764392), ChiralMC.LatticeSite([53.3586, 139.424], 4.50404, 4.24987, 0.761255, 0.648453)); ChiralMC.Neighbors(ChiralMC.LatticeSite([831.584, -397.561], 2.36946, 4.75846, 0.365361, 0.930866), ChiralMC.LatticeSite([53.3586, 139.424], 4.50404, 4.24987, 0.761255, 0.648453), ChiralMC.LatticeSite([821.696, -715.093], 1.68815, 4.8587, 0.393203, 0.919452), ChiralMC.LatticeSite([-204.292, 251.008], 4.0679, 2.8203, 0.879275, 0.476315)) ChiralMC.Neighbors(ChiralMC.LatticeSite([-769.692, -102.894], 5.73621, 3.45665, 0.779439, 0.626478), ChiralMC.LatticeSite([471.829, 500.882], 2.31074, 4.84589, 0.37771, 0.925924), ChiralMC.LatticeSite([802.22, 65.5285], 3.31287, 4.15757, 0.076888, 0.99704), ChiralMC.LatticeSite([930.374, 1001.8], 2.23182, 1.62128, 0.123718, 0.992317)) … ChiralMC.Neighbors(ChiralMC.LatticeSite([53.3586, 139.424], 4.50404, 4.24987, 0.761255, 0.648453), ChiralMC.LatticeSite([-586.121, 127.873], 3.90562, 5.82495, 0.589241, 0.807957), ChiralMC.LatticeSite([413.625, -358.161], 1.97966, 1.40614, 0.198675, 0.980065), ChiralMC.LatticeSite([602.035, 209.562], 4.54858, 5.12353, 0.591308, 0.806446)) ChiralMC.Neighbors(ChiralMC.LatticeSite([471.829, 500.882], 2.31074, 4.84589, 0.37771, 0.925924), ChiralMC.LatticeSite([1006.45, 309.982], 0.065962, 0.296724, 0.495356, 0.86869), ChiralMC.LatticeSite([466.39, 381.256], 6.08097, 5.06127, 0.86525, 0.501341), ChiralMC.LatticeSite([501.753, -68.7539], 1.78959, 0.364271, 0.343379, 0.939197))], ChiralMC.NextNeighbors[ChiralMC.NextNeighbors(ChiralMC.LatticeSite([831.584, -397.561], 2.36946, 4.75846, 0.365361, 0.930866), ChiralMC.LatticeSite([-242.032, -387.028], 2.03045, 2.97377, 0.350811, 0.936446), ChiralMC.LatticeSite([53.3586, 139.424], 4.50404, 4.24987, 0.761255, 0.648453), ChiralMC.LatticeSite([-543.752, -905.355], 5.3743, 0.69171, 0.938925, 0.344121)) ChiralMC.NextNeighbors(ChiralMC.LatticeSite([-769.692, -102.894], 5.73621, 3.45665, 0.779439, 0.626478), ChiralMC.LatticeSite([-425.825, -526.884], 6.14706, 5.11192, 0.83017, 0.55751), ChiralMC.LatticeSite([471.829, 500.882], 2.31074, 4.84589, 0.37771, 0.925924), ChiralMC.LatticeSite([525.745, 281.104], 1.32093, 5.49295, 0.150915, 0.988547)) … ChiralMC.NextNeighbors(ChiralMC.LatticeSite([53.3586, 139.424], 4.50404, 4.24987, 0.761255, 0.648453), ChiralMC.LatticeSite([-543.752, -905.355], 5.3743, 0.69171, 0.938925, 0.344121), ChiralMC.LatticeSite([-586.121, 127.873], 3.90562, 5.82495, 0.589241, 0.807957), ChiralMC.LatticeSite([492.231, -705.283], 0.719215, 5.48709, 0.748992, 0.662579)) ChiralMC.NextNeighbors(ChiralMC.LatticeSite([471.829, 500.882], 2.31074, 4.84589, 0.37771, 0.925924), ChiralMC.LatticeSite([525.745, 281.104], 1.32093, 5.49295, 0.150915, 0.988547), ChiralMC.LatticeSite([1006.45, 309.982], 0.065962, 0.296724, 0.495356, 0.86869), ChiralMC.LatticeSite([241.999, -900.811], 4.88932, 1.39726, 0.421664, 0.906752)); ChiralMC.NextNeighbors(ChiralMC.LatticeSite([930.374, 1001.8], 2.23182, 1.62128, 0.123718, 0.992317), ChiralMC.LatticeSite([542.659, 490.652], 4.75689, 2.95114, 0.832652, 0.553797), ChiralMC.LatticeSite([501.753, -68.7539], 1.78959, 0.364271, 0.343379, 0.939197), ChiralMC.LatticeSite([969.747, -437.191], 3.07054, 3.07517, 0.34988, 0.936795)) ChiralMC.NextNeighbors(ChiralMC.LatticeSite([-271.055, 927.729], 4.87083, 4.71791, 0.425446, 0.904984), ChiralMC.LatticeSite([195.96, -222.976], 0.97402, 5.80267, 0.114067, 0.993473), ChiralMC.LatticeSite([-204.292, 251.008], 4.0679, 2.8203, 0.879275, 0.476315), ChiralMC.LatticeSite([971.449, 36.2374], 3.89454, 4.22691, 0.657133, 0.753775)) … ChiralMC.NextNeighbors(ChiralMC.LatticeSite([501.753, -68.7539], 1.78959, 0.364271, 0.343379, 0.939197), ChiralMC.LatticeSite([969.747, -437.191], 3.07054, 3.07517, 0.34988, 0.936795), ChiralMC.LatticeSite([527.945, -114.953], 5.3787, 4.6403, 0.725695, 0.688017), ChiralMC.LatticeSite([872.553, 165.75], 3.55034, 4.20111, 0.498698, 0.866776)) ChiralMC.NextNeighbors(ChiralMC.LatticeSite([-204.292, 251.008], 4.0679, 2.8203, 0.879275, 0.476315), ChiralMC.LatticeSite([971.449, 36.2374], 3.89454, 4.22691, 0.657133, 0.753775), ChiralMC.LatticeSite([602.035, 209.562], 4.54858, 5.12353, 0.591308, 0.806446), ChiralMC.LatticeSite([701.172, -139.899], 1.23439, 2.41875, 0.829278, 0.558837)); … ; ChiralMC.NextNeighbors(ChiralMC.LatticeSite([985.963, 648.928], 0.082299, 0.224197, 0.106957, 0.994264), ChiralMC.LatticeSite([831.584, -397.561], 2.36946, 4.75846, 0.365361, 0.930866), ChiralMC.LatticeSite([-857.233, -987.966], 6.06241, 0.559876, 0.644752, 0.764392), ChiralMC.LatticeSite([53.3586, 139.424], 4.50404, 4.24987, 0.761255, 0.648453)) ChiralMC.NextNeighbors(ChiralMC.LatticeSite([587.271, -622.21], 4.64211, 2.5204, 0.910082, 0.414427), ChiralMC.LatticeSite([-769.692, -102.894], 5.73621, 3.45665, 0.779439, 0.626478), ChiralMC.LatticeSite([-63.2289, 231.558], 4.79604, 6.24037, 0.943617, 0.331039), ChiralMC.LatticeSite([471.829, 500.882], 2.31074, 4.84589, 0.37771, 0.925924)) … ChiralMC.NextNeighbors(ChiralMC.LatticeSite([-857.233, -987.966], 6.06241, 0.559876, 0.644752, 0.764392), ChiralMC.LatticeSite([53.3586, 139.424], 4.50404, 4.24987, 0.761255, 0.648453), ChiralMC.LatticeSite([525.107, 259.861], 0.518305, 1.66888, 0.649701, 0.76019), ChiralMC.LatticeSite([-586.121, 127.873], 3.90562, 5.82495, 0.589241, 0.807957)) ChiralMC.NextNeighbors(ChiralMC.LatticeSite([-63.2289, 231.558], 4.79604, 6.24037, 0.943617, 0.331039), ChiralMC.LatticeSite([471.829, 500.882], 2.31074, 4.84589, 0.37771, 0.925924), ChiralMC.LatticeSite([94.448, -737.255], 2.04368, 4.34641, 0.707129, 0.707085), ChiralMC.LatticeSite([1006.45, 309.982], 0.065962, 0.296724, 0.495356, 0.86869)); ChiralMC.NextNeighbors(ChiralMC.LatticeSite([802.22, 65.5285], 3.31287, 4.15757, 0.076888, 0.99704), ChiralMC.LatticeSite([930.374, 1001.8], 2.23182, 1.62128, 0.123718, 0.992317), ChiralMC.LatticeSite([466.39, 381.256], 6.08097, 5.06127, 0.86525, 0.501341), ChiralMC.LatticeSite([501.753, -68.7539], 1.78959, 0.364271, 0.343379, 0.939197)) ChiralMC.NextNeighbors(ChiralMC.LatticeSite([672.186, -804.016], 1.63587, 1.33584, 0.13713, 0.990553), ChiralMC.LatticeSite([-271.055, 927.729], 4.87083, 4.71791, 0.425446, 0.904984), ChiralMC.LatticeSite([821.696, -715.093], 1.68815, 4.8587, 0.393203, 0.919452), ChiralMC.LatticeSite([-204.292, 251.008], 4.0679, 2.8203, 0.879275, 0.476315)) … ChiralMC.NextNeighbors(ChiralMC.LatticeSite([466.39, 381.256], 6.08097, 5.06127, 0.86525, 0.501341), ChiralMC.LatticeSite([501.753, -68.7539], 1.78959, 0.364271, 0.343379, 0.939197), ChiralMC.LatticeSite([-354.061, 575.685], 4.42883, 4.75369, 0.597919, 0.801557), ChiralMC.LatticeSite([527.945, -114.953], 5.3787, 4.6403, 0.725695, 0.688017)) ChiralMC.NextNeighbors(ChiralMC.LatticeSite([821.696, -715.093], 1.68815, 4.8587, 0.393203, 0.919452), ChiralMC.LatticeSite([-204.292, 251.008], 4.0679, 2.8203, 0.879275, 0.476315), ChiralMC.LatticeSite([413.625, -358.161], 1.97966, 1.40614, 0.198675, 0.980065), ChiralMC.LatticeSite([602.035, 209.562], 4.54858, 5.12353, 0.591308, 0.806446))], ChiralMC.NNNeighbors[ChiralMC.NNNeighbors(ChiralMC.LatticeSite([-271.055, 927.729], 4.87083, 4.71791, 0.425446, 0.904984), ChiralMC.LatticeSite([602.035, 209.562], 4.54858, 5.12353, 0.591308, 0.806446), ChiralMC.LatticeSite([821.696, -715.093], 1.68815, 4.8587, 0.393203, 0.919452), ChiralMC.LatticeSite([971.449, 36.2374], 3.89454, 4.22691, 0.657133, 0.753775)) ChiralMC.NNNeighbors(ChiralMC.LatticeSite([-421.369, -770.371], 1.76604, 4.70141, 0.457996, 0.888954), ChiralMC.LatticeSite([501.753, -68.7539], 1.78959, 0.364271, 0.343379, 0.939197), ChiralMC.LatticeSite([802.22, 65.5285], 3.31287, 4.15757, 0.076888, 0.99704), ChiralMC.LatticeSite([542.659, 490.652], 4.75689, 2.95114, 0.832652, 0.553797)) … ChiralMC.NNNeighbors(ChiralMC.LatticeSite([-204.292, 251.008], 4.0679, 2.8203, 0.879275, 0.476315), ChiralMC.LatticeSite([846.379, -517.309], 3.31148, 5.53501, 0.0739861, 0.997259), ChiralMC.LatticeSite([413.625, -358.161], 1.97966, 1.40614, 0.198675, 0.980065), ChiralMC.LatticeSite([701.172, -139.899], 1.23439, 2.41875, 0.829278, 0.558837)) ChiralMC.NNNeighbors(ChiralMC.LatticeSite([930.374, 1001.8], 2.23182, 1.62128, 0.123718, 0.992317), ChiralMC.LatticeSite([527.945, -114.953], 5.3787, 4.6403, 0.725695, 0.688017), ChiralMC.LatticeSite([466.39, 381.256], 6.08097, 5.06127, 0.86525, 0.501341), ChiralMC.LatticeSite([969.747, -437.191], 3.07054, 3.07517, 0.34988, 0.936795)); ChiralMC.NNNeighbors(ChiralMC.LatticeSite([-425.825, -526.884], 6.14706, 5.11192, 0.83017, 0.55751), ChiralMC.LatticeSite([241.999, -900.811], 4.88932, 1.39726, 0.421664, 0.906752), ChiralMC.LatticeSite([471.829, 500.882], 2.31074, 4.84589, 0.37771, 0.925924), ChiralMC.LatticeSite([-452.721, -612.168], 3.45338, 1.96124, 0.270678, 0.96267)) ChiralMC.NNNeighbors(ChiralMC.LatticeSite([-718.358, -619.342], 3.29102, 2.88889, 0.145662, 0.989334), ChiralMC.LatticeSite([-543.752, -905.355], 5.3743, 0.69171, 0.938925, 0.344121), ChiralMC.LatticeSite([831.584, -397.561], 2.36946, 4.75846, 0.365361, 0.930866), ChiralMC.LatticeSite([252.085, -45.7923], 3.20463, 3.38266, 0.211985, 0.977273)) … ChiralMC.NNNeighbors(ChiralMC.LatticeSite([525.745, 281.104], 1.32093, 5.49295, 0.150915, 0.988547), ChiralMC.LatticeSite([229.535, 8.84859], 1.64478, 5.39392, 0.716936, 0.697139), ChiralMC.LatticeSite([1006.45, 309.982], 0.065962, 0.296724, 0.495356, 0.86869), ChiralMC.LatticeSite([966.442, 735.132], 0.528181, 0.782234, 0.787755, 0.615989)) ChiralMC.NNNeighbors(ChiralMC.LatticeSite([-242.032, -387.028], 2.03045, 2.97377, 0.350811, 0.936446), ChiralMC.LatticeSite([492.231, -705.283], 0.719215, 5.48709, 0.748992, 0.662579), ChiralMC.LatticeSite([53.3586, 139.424], 4.50404, 4.24987, 0.761255, 0.648453), ChiralMC.LatticeSite([743.996, -993.164], 0.222521, 3.22653, 0.970905, 0.239464)); … ; ChiralMC.NNNeighbors(ChiralMC.LatticeSite([672.186, -804.016], 1.63587, 1.33584, 0.13713, 0.990553), ChiralMC.LatticeSite([413.625, -358.161], 1.97966, 1.40614, 0.198675, 0.980065), ChiralMC.LatticeSite([439.783, 87.0244], 4.4782, 5.83956, 0.556821, 0.830632), ChiralMC.LatticeSite([-204.292, 251.008], 4.0679, 2.8203, 0.879275, 0.476315)) ChiralMC.NNNeighbors(ChiralMC.LatticeSite([-937.338, 47.8609], 0.160211, 5.23803, 0.984098, 0.177625), ChiralMC.LatticeSite([466.39, 381.256], 6.08097, 5.06127, 0.86525, 0.501341), ChiralMC.LatticeSite([691.258, 98.6679], 3.34904, 3.23231, 0.119554, 0.992828), ChiralMC.LatticeSite([930.374, 1001.8], 2.23182, 1.62128, 0.123718, 0.992317)) … ChiralMC.NNNeighbors(ChiralMC.LatticeSite([821.696, -715.093], 1.68815, 4.8587, 0.393203, 0.919452), ChiralMC.LatticeSite([715.683, 283.694], 1.59961, 2.31355, 0.867654, 0.497168), ChiralMC.LatticeSite([-814.876, -725.076], 0.0893769, 1.47076, 0.927277, 0.374377), ChiralMC.LatticeSite([602.035, 209.562], 4.54858, 5.12353, 0.591308, 0.806446)) ChiralMC.NNNeighbors(ChiralMC.LatticeSite([802.22, 65.5285], 3.31287, 4.15757, 0.076888, 0.99704), ChiralMC.LatticeSite([-354.061, 575.685], 4.42883, 4.75369, 0.597919, 0.801557), ChiralMC.LatticeSite([-438.614, -761.865], 0.283847, 4.47258, 0.938402, 0.345544), ChiralMC.LatticeSite([501.753, -68.7539], 1.78959, 0.364271, 0.343379, 0.939197)); ChiralMC.NNNeighbors(ChiralMC.LatticeSite([-769.692, -102.894], 5.73621, 3.45665, 0.779439, 0.626478), ChiralMC.LatticeSite([1006.45, 309.982], 0.065962, 0.296724, 0.495356, 0.86869), ChiralMC.LatticeSite([-63.2289, 231.558], 4.79604, 6.24037, 0.943617, 0.331039), ChiralMC.LatticeSite([525.745, 281.104], 1.32093, 5.49295, 0.150915, 0.988547)) ChiralMC.NNNeighbors(ChiralMC.LatticeSite([644.477, -1011.56], 1.57062, 5.4847, 0.267255, 0.963626), ChiralMC.LatticeSite([53.3586, 139.424], 4.50404, 4.24987, 0.761255, 0.648453), ChiralMC.LatticeSite([985.963, 648.928], 0.082299, 0.224197, 0.106957, 0.994264), ChiralMC.LatticeSite([-242.032, -387.028], 2.03045, 2.97377, 0.350811, 0.936446)) … ChiralMC.NNNeighbors(ChiralMC.LatticeSite([471.829, 500.882], 2.31074, 4.84589, 0.37771, 0.925924), ChiralMC.LatticeSite([-381.904, 36.8025], 5.3975, 6.16385, 0.336755, 0.941592), ChiralMC.LatticeSite([94.448, -737.255], 2.04368, 4.34641, 0.707129, 0.707085), ChiralMC.LatticeSite([241.999, -900.811], 4.88932, 1.39726, 0.421664, 0.906752)) ChiralMC.NNNeighbors(ChiralMC.LatticeSite([831.584, -397.561], 2.36946, 4.75846, 0.365361, 0.930866), ChiralMC.LatticeSite([-586.121, 127.873], 3.90562, 5.82495, 0.589241, 0.807957), ChiralMC.LatticeSite([-857.233, -987.966], 6.06241, 0.559876, 0.644752, 0.764392), ChiralMC.LatticeSite([-543.752, -905.355], 5.3743, 0.69171, 0.938925, 0.344121))])"
      ]
     },
     "execution_count": 25,
     "metadata": {},
     "output_type": "execute_result"
    }
   ],
   "source": [
    "ψ_read = readState(\"temp_state\")"
   ]
  },
  {
   "cell_type": "code",
   "execution_count": 37,
   "metadata": {},
   "outputs": [
    {
     "data": {
      "text/plain": [
       "true"
      ]
     },
     "execution_count": 37,
     "metadata": {},
     "output_type": "execute_result"
    }
   ],
   "source": [
    "ψ == ψ_read"
   ]
  },
  {
   "cell_type": "code",
   "execution_count": 38,
   "metadata": {},
   "outputs": [
    {
     "data": {
      "text/plain": [
       "false"
      ]
     },
     "execution_count": 38,
     "metadata": {},
     "output_type": "execute_result"
    }
   ],
   "source": [
    "ψ_test = State(2, syst)\n",
    "ψ == ψ_test"
   ]
  },
  {
   "cell_type": "code",
   "execution_count": 23,
   "metadata": {},
   "outputs": [
    {
     "data": {
      "text/plain": [
       "6-element Array{SubString{String},1}:\n",
       " \"-204.29223948220715\"\n",
       " \"251.00763062155238\" \n",
       " \"4.067901401957929\"  \n",
       " \"2.820301520153933\"  \n",
       " \"0.879274862870894\"  \n",
       " \"0.47631472318559565\""
      ]
     },
     "execution_count": 23,
     "metadata": {},
     "output_type": "execute_result"
    }
   ],
   "source": [
    "str = \"-204.29223948220715:251.00763062155238:4.067901401957929:2.820301520153933:0.879274862870894:0.47631472318559565\"\n",
    "split(str, \":\")"
   ]
  }
 ],
 "metadata": {
  "kernelspec": {
   "display_name": "julia p2 0.6.3",
   "language": "julia",
   "name": "julia-p2-0.6"
  },
  "language_info": {
   "file_extension": ".jl",
   "mimetype": "application/julia",
   "name": "julia",
   "version": "0.6.3"
  }
 },
 "nbformat": 4,
 "nbformat_minor": 2
}
