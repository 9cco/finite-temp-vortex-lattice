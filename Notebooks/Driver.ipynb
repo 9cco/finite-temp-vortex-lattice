{
 "cells": [
  {
   "cell_type": "code",
   "execution_count": 13,
   "metadata": {},
   "outputs": [
    {
     "ename": "LoadError",
     "evalue": "\u001b[91mchdir ../Source: no such file or directory (ENOENT)\u001b[39m",
     "output_type": "error",
     "traceback": [
      "\u001b[91mchdir ../Source: no such file or directory (ENOENT)\u001b[39m",
      "",
      "Stacktrace:",
      " [1] \u001b[1muv_error\u001b[22m\u001b[22m at \u001b[1m./libuv.jl:68\u001b[22m\u001b[22m [inlined]",
      " [2] \u001b[1mcd\u001b[22m\u001b[22m\u001b[1m(\u001b[22m\u001b[22m::String\u001b[1m)\u001b[22m\u001b[22m at \u001b[1m./file.jl:50\u001b[22m\u001b[22m",
      " [3] \u001b[1minclude_string\u001b[22m\u001b[22m\u001b[1m(\u001b[22m\u001b[22m::String, ::String\u001b[1m)\u001b[22m\u001b[22m at \u001b[1m./loading.jl:522\u001b[22m\u001b[22m",
      " [4] \u001b[1mexecute_request\u001b[22m\u001b[22m\u001b[1m(\u001b[22m\u001b[22m::ZMQ.Socket, ::IJulia.Msg\u001b[1m)\u001b[22m\u001b[22m at \u001b[1m/home/nicolai/.julia/v0.6/IJulia/src/execute_request.jl:193\u001b[22m\u001b[22m",
      " [5] \u001b[1m(::Compat.#inner#6{Array{Any,1},IJulia.#execute_request,Tuple{ZMQ.Socket,IJulia.Msg}})\u001b[22m\u001b[22m\u001b[1m(\u001b[22m\u001b[22m\u001b[1m)\u001b[22m\u001b[22m at \u001b[1m/home/nicolai/.julia/v0.6/Compat/src/Compat.jl:189\u001b[22m\u001b[22m",
      " [6] \u001b[1meventloop\u001b[22m\u001b[22m\u001b[1m(\u001b[22m\u001b[22m::ZMQ.Socket\u001b[1m)\u001b[22m\u001b[22m at \u001b[1m/home/nicolai/.julia/v0.6/IJulia/src/eventloop.jl:8\u001b[22m\u001b[22m",
      " [7] \u001b[1m(::IJulia.##13#16)\u001b[22m\u001b[22m\u001b[1m(\u001b[22m\u001b[22m\u001b[1m)\u001b[22m\u001b[22m at \u001b[1m./task.jl:335\u001b[22m\u001b[22m"
     ]
    }
   ],
   "source": [
    "DIR_NAME = \"DRIVER_DATA\"\n",
    "\n",
    "# Import source\n",
    "cd(\"../Source\")\n",
    "@everywhere include(\"ChiralMC.jl\")\n",
    "@everywhere using ChiralMC\n",
    "@everywhere using Base.Test\n",
    "\n",
    "@everywhere include(\"functions_msc.jl\")\n",
    "@everywhere include(\"functions_observables.jl\")\n",
    "@everywhere include(\"functions_thermalization.jl\")\n",
    "\n",
    "using Base.Test\n",
    "using Plots\n",
    "using Distributions\n",
    "\n",
    "include(\"functions_plots_and_files.jl\")\n",
    "cd(\"../Notebooks/\")\n",
    "\n",
    "# Goto work dir\n",
    "if !isdir(\"./$(DIR_NAME)\")\n",
    "    mkdir(\"./$(DIR_NAME)\")\n",
    "end\n",
    "cd(\"./$(DIR_NAME)\")"
   ]
  },
  {
   "cell_type": "markdown",
   "metadata": {},
   "source": [
    "# Setup System"
   ]
  },
  {
   "cell_type": "code",
   "execution_count": 2,
   "metadata": {},
   "outputs": [
    {
     "name": "stdout",
     "output_type": "stream",
     "text": [
      "f set to 0.08333333333333333\n",
      "β set to 8.333333333333334\n"
     ]
    }
   ],
   "source": [
    "THERM_FRAC = 1/10\n",
    "DT_MAX = 10000\n",
    "\n",
    "@everywhere const two_pi = 2π\n",
    "\n",
    "# We run a simulation with the parameters\n",
    "g = 0.3    # Gauge coupling\n",
    "ν = 0.3    # Anisotropy\n",
    "H = 0.005   # External field\n",
    "\n",
    "# Other parameters\n",
    "L = 12     # System length\n",
    "T = 0.12 #0.11039   # Temperature\n",
    "γ = 1.0    # Order parameter amplitud\n",
    "κ₅ = 1.0\n",
    "\n",
    "# Calculate periodic boundary conditioned f s.t. fL ∈ N\n",
    "f = ceil(abs(H/(2π)*L))/L*sign(H)\n",
    "println(\"f set to $(f)\")\n",
    "# Calculate inverse temperature\n",
    "β = 1/T\n",
    "println(\"β set to $(β)\")\n",
    "\n",
    "# Create system\n",
    "syst = SystConstants(L, L, γ, 1/g^2, ν, κ₅, f, β)\n",
    "sim = Controls(π/3, 0.4, 3.0)\n",
    "\n",
    "# Measurement parameters\n",
    "M = 300    # Number of measurements\n",
    "Δt = 400  # Interval between measurements (MCS)\n",
    "# Construct k-matrix where the horizontal axis contains kx ∈ [-π, π), while\n",
    "# the vertical axis contain ky ∈ [-π, π) at the second component\n",
    "k_matrix = [[2π/L*(x-1-L/2), 2π/L*(L/2-y)] for y=1:L, x=1:L];"
   ]
  },
  {
   "cell_type": "markdown",
   "metadata": {},
   "source": [
    "# Thermalization"
   ]
  },
  {
   "cell_type": "code",
   "execution_count": 3,
   "metadata": {},
   "outputs": [
    {
     "name": "stdout",
     "output_type": "stream",
     "text": [
      "\n",
      "Testing Thermalization\n",
      "----------------------------------------------------------------\n",
      "Checking that a random state has lower energy than a completely correlated state\n",
      "\u001b[1m\u001b[32mTest Passed\u001b[39m\u001b[22m\n",
      "Number of parallel workers: 0\n",
      "WARNING: More requested states (2), than currently available extra processes (0).\n",
      "Thermalization will be ×2 as long.\n",
      "Increasing simulation time such that tₛ = 1001 and T = 1802\n",
      "Increasing simulation time such that tₛ = 1802 and T = 3244\n",
      "Increasing simulation time such that tₛ = 3244 and T = 5840\n",
      "Increasing simulation time such that tₛ = 5840 and T = 10512\n",
      "Worker 1 initially thermalised after 6358 steps\n",
      "All workers initially thermalized after 10512 steps\n",
      "Checking average ∈ [10513, 17650]\n",
      "Problem for worker 1: ΔE = 18.94407015838752 ± 13.478362854237892\n",
      "Increasing simulation time to T = 27644\n",
      "Checking average ∈ [17651, 27644]\n",
      "Problem for worker 1: ΔE = 9.0741303212251 ± 13.573452694809266\n",
      "Increasing simulation time to T = 41636\n",
      "Checking average ∈ [27645, 41636]\n",
      "Thermalization successful between T = [27645, 41636]\n",
      "Worker 1: ΔE = 2.3193661072560885 ± 12.55888465612909\n",
      "Final thermalization time: 60396\n",
      "t₀ = 60396\n"
     ]
    },
    {
     "data": {
      "text/plain": [
       "60396"
      ]
     },
     "execution_count": 3,
     "metadata": {},
     "output_type": "execute_result"
    }
   ],
   "source": [
    "println(\"\\nTesting Thermalization\\n----------------------------------------------------------------\")\n",
    "ψ₁ = State(1, syst)\n",
    "ψ₂ = State(2, syst)\n",
    "println(\"Checking that a random state has lower energy than a completely correlated state\")\n",
    "println(@test E(ψ₁) < E(ψ₂))\n",
    "(t₀, tₛ, T, E_ref, E_w, ψ_ref, ψ_w, sim_ref, sim_w) = parallelThermalization!(ψ₂, [ψ₁], syst, Controls())\n",
    "@show t₀"
   ]
  },
  {
   "cell_type": "code",
   "execution_count": 4,
   "metadata": {},
   "outputs": [
    {
     "data": {
      "text/plain": [
       "Array{Float64,2}"
      ]
     },
     "execution_count": 4,
     "metadata": {},
     "output_type": "execute_result"
    }
   ],
   "source": [
    "typeof(E_w)"
   ]
  },
  {
   "cell_type": "code",
   "execution_count": 7,
   "metadata": {},
   "outputs": [
    {
     "data": {
      "text/plain": [
       "Plots.PyPlotBackend()"
      ]
     },
     "execution_count": 7,
     "metadata": {},
     "output_type": "execute_result"
    }
   ],
   "source": [
    "using Plots\n",
    "pyplot()"
   ]
  },
  {
   "cell_type": "code",
   "execution_count": 11,
   "metadata": {},
   "outputs": [
    {
     "data": {
      "image/png": "[encoded data removed]"
     },
     "execution_count": 11,
     "metadata": {},
     "output_type": "execute_result"
    }
   ],
   "source": [
    "int = 10000:4*10^4\n",
    "plot(int, [E_ref[int], E_w[1,int]])"
   ]
  },
  {
   "cell_type": "code",
   "execution_count": 3,
   "metadata": {},
   "outputs": [
    {
     "name": "stdout",
     "output_type": "stream",
     "text": [
      "Thermalizing 4 states\n",
      "Number of parallel workers: 3\n",
      "Increasing simulation time such that tₛ = 1001 and T = 1802\n",
      "Worker 1 initially thermalised after 1478 steps\n",
      "Worker 2 initially thermalised after 1400 steps\n",
      "Worker 3 initially thermalised after 1423 steps\n",
      "All workers initially thermalized after 1802 steps\n",
      "Checking average ∈ [1803, 5053]\n",
      "Thermalization successful between T = [1803, 5053]\n",
      "Worker 1: ΔE = 0.13127132894140217 ± 8.489789164530587\n",
      "Worker 2: ΔE = 0.5168041985473372 ± 7.9225395502293905\n",
      "Worker 3: ΔE = 0.25097781607315817 ± 7.835959121345939\n",
      "Final thermalization time: 16293\n",
      "119.536762 seconds (108.13 M allocations: 4.100 GiB, 2.00% gc time)\n",
      "Calculating energies and acceptance rates\n",
      "Saving plots to files\n"
     ]
    }
   ],
   "source": [
    "(t₀, ψ_ref, sim_ref, ψ_w, sim_w) = initializeParallelStatesS(syst, sim);"
   ]
  },
  {
   "cell_type": "code",
   "execution_count": 21,
   "metadata": {
    "scrolled": true
   },
   "outputs": [],
   "source": [
    "@everywhere include(\"../../Source/functions_observables.jl\")"
   ]
  },
  {
   "cell_type": "code",
   "execution_count": 16,
   "metadata": {},
   "outputs": [
    {
     "name": "stdout",
     "output_type": "stream",
     "text": [
      "Amplitudes of reference state:\n",
      "⟨u⁺⟩ =\t5.786729803433406\t\t\t⟨u⁻⟩ =\t5.915049352459818\n",
      "max(u⁺) =\t1.228917659884519\t\tmax(u⁻) =\t1.2741042296198917\n",
      "min(u⁺) =\t0.0005333505571339936\t\tmin(u⁻) =\t0.0001319733853111793\n"
     ]
    }
   ],
   "source": [
    "av_u⁺, av_u⁻ = meanAmplitudes(ψ_ref)\n",
    "max_u⁺, min_u⁺, max_u⁻, min_u⁻ = maxMinAmplitudes(ψ_ref)\n",
    "println(\"Amplitudes of reference state:\\n⟨u⁺⟩ =\\t$(av_u⁺)\\t\\t\\t⟨u⁻⟩ =\\t$(av_u⁻)\\nmax(u⁺) =\\t$(max_u⁺)\\t\\tmax(u⁻) =\\t$(max_u⁻)\n",
    "min(u⁺) =\\t$(min_u⁺)\\t\\tmin(u⁻) =\\t$(min_u⁻)\")"
   ]
  },
  {
   "cell_type": "code",
   "execution_count": 17,
   "metadata": {},
   "outputs": [
    {
     "name": "stdout",
     "output_type": "stream",
     "text": [
      "Writing system:\n",
      "g\t=\t0.3\n",
      "ν\t=\t0.3\n",
      "H\t=\t0.005\n",
      "L\t=\t12\n",
      "T\t=\t41636\n",
      "γ\t=\t1.0\n",
      "M\t=\t300\n",
      "t₀\t=\t60396\n",
      "Δt\t=\t400\n",
      "f\t=\t0.08333333333333333\n",
      "Saving state to file state_ref\n",
      "Saving state to file state_w\n"
     ]
    },
    {
     "data": {
      "text/plain": [
       "1"
      ]
     },
     "execution_count": 17,
     "metadata": {},
     "output_type": "execute_result"
    }
   ],
   "source": [
    "println(\"Writing system:\\ng\\t=\\t$(g)\\nν\\t=\\t$(ν)\\nH\\t=\\t$(H)\\nL\\t=\\t$(L)\\nT\\t=\\t$(T)\")\n",
    "println(\"γ\\t=\\t$(γ)\\nM\\t=\\t$(M)\\nt₀\\t=\\t$(t₀)\\nΔt\\t=\\t$(Δt)\\nf\\t=\\t$(f)\")\n",
    "writeSimulationConstants(syst, sim, M, t₀, Δt)\n",
    "\n",
    "# Saving the reference state and the first worker state\n",
    "save(ψ_ref, \"state_ref\")\n",
    "save(ψ_w[1], \"state_w\")\n"
   ]
  },
  {
   "cell_type": "markdown",
   "metadata": {},
   "source": [
    "# Measuring Vortex Lattice"
   ]
  },
  {
   "cell_type": "code",
   "execution_count": null,
   "metadata": {},
   "outputs": [],
   "source": [
    "# Including ψ_ref in the list of states as the last state\n",
    "ψ_list = vcat(ψ_w, [ψ_ref])\n",
    "Δt = min(DT_MAX, ceil(Int64, t₀*THERM_FRAC))\n",
    "println(Δt)\n",
    "println(\"\\nMeasuring structure function and vortex lattice\n",
    "--------------------------------------------------------------------------------------\")\n",
    "@time (av_V⁺, err_V⁺, V⁺, av_V⁻, err_V⁻, V⁻, av_S⁺, err_S⁺, S⁺, av_S⁻, err_S⁻, S⁻) = parallelSFVLA!(k_matrix, ψ_list, sim_ref, M, Δt);"
   ]
  },
  {
   "cell_type": "code",
   "execution_count": 7,
   "metadata": {},
   "outputs": [
    {
     "name": "stdout",
     "output_type": "stream",
     "text": [
      "S⁺(0) ≈ 1.0000000000000002\n",
      "S⁻(0) ≈ 1.0000000000000002\n",
      "The proportion of vortices (n⁺, n⁻) in snapshot\n",
      "% of vortex kind (-1, -1): \t3\n",
      "% of vortex kind (-1, 0): \t9\n",
      "% of vortex kind (-1, 1): \t3\n",
      "% of vortex kind (0, -1): \t12\n",
      "% of vortex kind (0, 0): \t41\n",
      "% of vortex kind (0, 1): \t14\n",
      "% of vortex kind (1, -1): \t2\n",
      "% of vortex kind (1, 0): \t11\n",
      "% of vortex kind (1, 1): \t5\n",
      "\n",
      "Sum of + component vorticity in the snapshot: 30.00000000000001\n",
      "Sum of - component vorticity in the snapshot: 30.000000000000007\n"
     ]
    },
    {
     "data": {
      "text/plain": [
       "1"
      ]
     },
     "execution_count": 7,
     "metadata": {},
     "output_type": "execute_result"
    }
   ],
   "source": [
    "plotStructureFunctionVortexLatticeS(av_V⁺, av_V⁻, V⁺[rand(1:M)], V⁻[rand(1:M)], av_S⁺, av_S⁻, k_matrix)"
   ]
  },
  {
   "cell_type": "code",
   "execution_count": 8,
   "metadata": {},
   "outputs": [
    {
     "data": {
      "text/plain": [
       "\"/home/nicolai/Documents/Work/PhD/Numerikk/MC/finite-temp-vortex-lattice/Notebooks/DRIVER_DATA\""
      ]
     },
     "execution_count": 8,
     "metadata": {},
     "output_type": "execute_result"
    }
   ],
   "source": [
    "pwd()"
   ]
  },
  {
   "cell_type": "code",
   "execution_count": null,
   "metadata": {},
   "outputs": [],
   "source": []
  }
 ],
 "metadata": {
  "kernelspec": {
   "display_name": "Julia 0.6.4",
   "language": "julia",
   "name": "julia-0.6"
  },
  "language_info": {
   "file_extension": ".jl",
   "mimetype": "application/julia",
   "name": "julia",
   "version": "0.6.4"
  }
 },
 "nbformat": 4,
 "nbformat_minor": 2
}
