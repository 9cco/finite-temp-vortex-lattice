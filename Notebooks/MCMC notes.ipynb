{
 "cells": [
  {
   "cell_type": "markdown",
   "metadata": {},
   "source": [
    "# Lattice site\n",
    "Let's define a type called LatticeSite that contains two associated vector potential link variables $A_{\\mathbf{r},x},A_{\\mathbf{r},y}\\in(-\\infty,\\infty)$ and two real number $\\theta^\\pm\\in [0,2\\pi]$."
   ]
  },
  {
   "cell_type": "code",
   "execution_count": 1,
   "metadata": {},
   "outputs": [],
   "source": [
    "type LatticeSite\n",
    "    Aᵣx::Float64\n",
    "    Aᵣy::Float64\n",
    "    θ⁺::Float64\n",
    "    θ⁻::Float64\n",
    "end"
   ]
  },
  {
   "cell_type": "markdown",
   "metadata": {},
   "source": [
    "# State\n",
    "We will have a state type that contains all information about the state of the system at a particular time\n",
    "\n",
    "This will need to contain a lattice of lattice points $\\mathbf{r}$ of type LatticeSite as well as two amplitudes of the order parameter $\\rho_\\pm\\in[0,\\infty]$."
   ]
  },
  {
   "cell_type": "code",
   "execution_count": 12,
   "metadata": {},
   "outputs": [
    {
     "data": {
      "text/plain": [
       "LatticeSite(1.0, 1.0, 3.0, 3.0)"
      ]
     },
     "execution_count": 12,
     "metadata": {},
     "output_type": "execute_result"
    }
   ],
   "source": [
    "r = LatticeSite(0, 0, 4, 4)\n",
    "b = LatticeSite(1, 1, 3, 3)"
   ]
  },
  {
   "cell_type": "code",
   "execution_count": 21,
   "metadata": {},
   "outputs": [
    {
     "data": {
      "text/plain": [
       "2×2 Array{LatticeSite,2}:\n",
       " LatticeSite(1.0, 1.0, 3.0, 3.0)  LatticeSite(0.0, 0.0, 4.0, 4.0)\n",
       " LatticeSite(1.0, 1.0, 3.0, 3.0)  LatticeSite(0.0, 0.0, 4.0, 4.0)"
      ]
     },
     "execution_count": 21,
     "metadata": {},
     "output_type": "execute_result"
    }
   ],
   "source": [
    "w = hcat([[b,b], [r,r]]...)"
   ]
  },
  {
   "cell_type": "code",
   "execution_count": 18,
   "metadata": {},
   "outputs": [
    {
     "data": {
      "text/plain": [
       "LatticeSite(0.0, 0.0, 4.0, 4.0)"
      ]
     },
     "execution_count": 18,
     "metadata": {},
     "output_type": "execute_result"
    }
   ],
   "source": [
    "w[1, 2]"
   ]
  },
  {
   "cell_type": "code",
   "execution_count": 2,
   "metadata": {},
   "outputs": [],
   "source": [
    "type State\n",
    "    lattice::Array{LatticeSite,2}\n",
    "    ρ⁺::Float64\n",
    "    ρ⁻::Float64\n",
    "end"
   ]
  },
  {
   "cell_type": "markdown",
   "metadata": {},
   "source": [
    "We create a function \"initializeState\" that initializes a state as a $N\\times N$ lattice of either\n",
    "1. Completely ordered state\n",
    "2. Completely random state\n",
    "\n",
    "Since we have split the vector potential $\\mathbf{A}$ into a fixed part $\\mathbf{A}_0 = (0, 2\\pi xf, 0)$ and a\n",
    "fluctuating part $\\mathbf{A}_\\text{fluc}$, we have to make sure the link variables $A_{\\mathbf{r},\\mu}$ is set\n",
    "accordingly."
   ]
  },
  {
   "cell_type": "code",
   "execution_count": 19,
   "metadata": {},
   "outputs": [
    {
     "data": {
      "text/html": [
       "3 methods for generic function <b>Type</b>:<ul><li> State(lattice::<b>Array{LatticeSite,2}</b>, ρ⁺::<b>Float64</b>, ρ⁻::<b>Float64</b>) at In[2]:2</li> <li> State(lattice, ρ⁺, ρ⁻) at In[2]:2</li> <li> (::<b>Type{T}</b>)<i>{T}</i>(arg) at <a href=\"https://github.com/JuliaLang/julia/tree/d55cadc350d426a95fd967121ba77494d08364c8/base/sysimg.jl#L77\" target=\"_blank\">sysimg.jl:77</a></li> </ul>"
      ],
      "text/plain": [
       "# 3 methods for generic function \"(::Type)\":\n",
       "State(lattice::Array{LatticeSite,2}, ρ⁺::Float64, ρ⁻::Float64) in Main at In[2]:2\n",
       "State(lattice, ρ⁺, ρ⁻) in Main at In[2]:2\n",
       "(::Type{T})(arg) where T in Base at sysimg.jl:77"
      ]
     },
     "execution_count": 19,
     "metadata": {},
     "output_type": "execute_result"
    }
   ],
   "source": [
    "methods(State)"
   ]
  },
  {
   "cell_type": "code",
   "execution_count": null,
   "metadata": {},
   "outputs": [],
   "source": [
    "function initializeState(N::Int64, choice::Int64)"
   ]
  }
 ],
 "metadata": {
  "kernelspec": {
   "display_name": "Julia 0.6.3",
   "language": "julia",
   "name": "julia-0.6"
  },
  "language_info": {
   "file_extension": ".jl",
   "mimetype": "application/julia",
   "name": "julia",
   "version": "0.6.3"
  }
 },
 "nbformat": 4,
 "nbformat_minor": 2
}
