{
 "cells": [
  {
   "cell_type": "markdown",
   "metadata": {},
   "source": [
    "# Constants"
   ]
  },
  {
   "cell_type": "code",
   "execution_count": 1,
   "metadata": {},
   "outputs": [
    {
     "data": {
      "text/plain": [
       "1.38064852e-23"
      ]
     },
     "execution_count": 1,
     "metadata": {},
     "output_type": "execute_result"
    }
   ],
   "source": [
    "const kb = 1.38064852e-23"
   ]
  },
  {
   "cell_type": "markdown",
   "metadata": {},
   "source": [
    "# Lattice site\n",
    "Let's define a type called LatticeSite that contains two associated vector potential link variables $A_{\\mathbf{r},x},A_{\\mathbf{r},y}\\in(-\\infty,\\infty)$, two real numbers $\\theta^\\pm\\in [0,2\\pi]$ corresponding to the phases of the superconducting order parameters, as well as an amplitude $u_\\mathbf{r}\\in[0,1]$ that gives the amplitude of the $+$ component.\n",
    "The vector potential is split in a static and fluctuating part, but we take care of the static part in the calculation of energies and thus only need to store the fluctuating part in each lattice site."
   ]
  },
  {
   "cell_type": "code",
   "execution_count": 1,
   "metadata": {},
   "outputs": [],
   "source": [
    "type LatticeSite\n",
    "    A::Array{Float64,1}  # Fluctuating vector potential\n",
    "    θ⁺::Float64 # Phase of the + component\n",
    "    θ⁻::Float64 # Phase of the - component\n",
    "    u⁺::Float64 # Amplitude of + component\n",
    "end"
   ]
  },
  {
   "cell_type": "markdown",
   "metadata": {},
   "source": [
    "# State\n",
    "We will have a state type that contains all information about the state of the system at a particular time\n",
    "\n",
    "This will need to contain a lattice of lattice points $\\mathbf{r}$ of type LatticeSite as well as two amplitudes of the order parameter $\\rho_\\pm\\in[0,\\infty]$."
   ]
  },
  {
   "cell_type": "code",
   "execution_count": 3,
   "metadata": {},
   "outputs": [
    {
     "data": {
      "text/plain": [
       "LatticeSite([0.0, 0.0], 3.0, 3.0, 1.0)"
      ]
     },
     "execution_count": 3,
     "metadata": {},
     "output_type": "execute_result"
    }
   ],
   "source": [
    "r = LatticeSite([2,3], 4, 4, 0)\n",
    "b = LatticeSite([0,0], 3, 3, 1)"
   ]
  },
  {
   "cell_type": "code",
   "execution_count": 4,
   "metadata": {},
   "outputs": [
    {
     "data": {
      "text/plain": [
       "2×2 Array{LatticeSite,2}:\n",
       " LatticeSite([0.0, 0.0], 3.0, 3.0, 1.0)  …  LatticeSite([2.0, 3.0], 4.0, 4.0, 0.0)\n",
       " LatticeSite([0.0, 0.0], 3.0, 3.0, 1.0)     LatticeSite([2.0, 3.0], 4.0, 4.0, 0.0)"
      ]
     },
     "execution_count": 4,
     "metadata": {},
     "output_type": "execute_result"
    }
   ],
   "source": [
    "w = hcat([[b,b], [r,r]]...)"
   ]
  },
  {
   "cell_type": "code",
   "execution_count": 5,
   "metadata": {},
   "outputs": [
    {
     "data": {
      "text/plain": [
       "LatticeSite([2.0, 3.0], 4.0, 4.0, 0.0)"
      ]
     },
     "execution_count": 5,
     "metadata": {},
     "output_type": "execute_result"
    }
   ],
   "source": [
    "w[1, 2]"
   ]
  },
  {
   "cell_type": "code",
   "execution_count": 2,
   "metadata": {},
   "outputs": [],
   "source": [
    "type State\n",
    "    lattice::Array{LatticeSite,2}  # Numerical lattice\n",
    "    γ::Float64    # Order parameter amplitude\n",
    "    g::Float64    # Gauge coupling\n",
    "    ν::Float64    # Anisotropy constant\n",
    "    f::Float64    # Magnetic filling fraction\n",
    "end"
   ]
  },
  {
   "cell_type": "markdown",
   "metadata": {},
   "source": [
    "We create a function \"initializeState\" that initializes a state as a $N\\times N$ lattice of either\n",
    "1. Completely ordered state\n",
    "2. Completely random state\n",
    "\n",
    "Since we have split the vector potential $\\mathbf{A}$ into a fixed part $\\mathbf{A}_0 = (0, 2\\pi xf, 0)$ and a\n",
    "fluctuating part $\\mathbf{A}_\\text{fluc}$, we have to make sure the link variables $A_{\\mathbf{r},\\mu}$ is set\n",
    "accordingly. This should ensure that $\\oint_C(\\mathbf{A}_0+\\mathbf{A}_\\text{fluc})= 2\\pi fL^2$ for a lattice with\n",
    "dimensions $L\\times L$, magnetic filling fraction $f$ and where $C$ is a contour around the lattice. This is true because\n",
    "$\\mathbf{A}_\\text{fluc}$ has periodic boundary conditions, thus the integral vanishes. The line-integral over\n",
    "$\\mathbf{A}_0$ only gets a contribution from the right hand $y$-axis."
   ]
  },
  {
   "cell_type": "code",
   "execution_count": 7,
   "metadata": {},
   "outputs": [
    {
     "data": {
      "text/plain": [
       "231.06298393273437"
      ]
     },
     "execution_count": 7,
     "metadata": {},
     "output_type": "execute_result"
    }
   ],
   "source": [
    "rand()*2^10*(-1)^rand(0:1)"
   ]
  },
  {
   "cell_type": "code",
   "execution_count": 3,
   "metadata": {},
   "outputs": [
    {
     "data": {
      "text/plain": [
       "initializeState (generic function with 1 method)"
      ]
     },
     "execution_count": 3,
     "metadata": {},
     "output_type": "execute_result"
    }
   ],
   "source": [
    "function initializeState(N::Int64, choice::Int64)\n",
    "    N <= 1 && throw(DomainError())\n",
    "    \n",
    "    # Constants\n",
    "    γ = 1.0    # Order parameter amplitude\n",
    "    g = 1.0    # Gauge coupling\n",
    "    ν = 0.0    # Anisotropy constant\n",
    "    f = 1/32    # Magnetic filling fraction\n",
    "    \n",
    "    # Construct ordered state \n",
    "    if choice == 1\n",
    "        \n",
    "        # Construct NxN lattice of NxN LatticeSites\n",
    "        lattice = [LatticeSite([0,0],0,0,0) for y=1:N, x=1:N]\n",
    "        ψ = State(lattice, γ, g, ν, f)\n",
    "        \n",
    "    # Construct random state\n",
    "    elseif choice == 2\n",
    "        Amax::Int64 = 2^10\n",
    "        lattice = [LatticeSite([rand()*Amax*(-1)^rand(0:1),rand()*Amax*(-1)^rand(0:1)],\n",
    "                rand()*2*π,rand()*2*π, rand()) for y=1:N, x=1:N]\n",
    "        ψ = State(lattice, γ, g, ν, f)\n",
    "        \n",
    "    # We only have choices 1 and 2 so far so other values for choice will give an error.\n",
    "    else\n",
    "        throw(DomainError())\n",
    "    end\n",
    "    ψ\n",
    "end"
   ]
  },
  {
   "cell_type": "code",
   "execution_count": 4,
   "metadata": {},
   "outputs": [
    {
     "data": {
      "text/plain": [
       "4×3 Array{LatticeSite,2}:\n",
       " LatticeSite([0.0, 0.0], 0.0, 0.0, 0.0)  …  LatticeSite([0.0, 0.0], 0.0, 0.0, 0.0)\n",
       " LatticeSite([0.0, 0.0], 0.0, 0.0, 0.0)     LatticeSite([0.0, 0.0], 0.0, 0.0, 0.0)\n",
       " LatticeSite([0.0, 0.0], 0.0, 0.0, 0.0)     LatticeSite([0.0, 0.0], 0.0, 0.0, 0.0)\n",
       " LatticeSite([0.0, 0.0], 0.0, 0.0, 0.0)     LatticeSite([0.0, 0.0], 0.0, 0.0, 0.0)"
      ]
     },
     "execution_count": 4,
     "metadata": {},
     "output_type": "execute_result"
    }
   ],
   "source": [
    "lattice = [LatticeSite([0,0],0,0,0) for y=1:4, x=1:3]\n",
    "lattice"
   ]
  },
  {
   "cell_type": "markdown",
   "metadata": {},
   "source": [
    "# Calculation of energy\n",
    "\n",
    "To evaluate the acceptance probability we need to calculate the difference in energy from state $\\Psi_i \\to \\Psi_{i+1}$. Since we will be doing local updates, there is no need to iterate over the entire lattice to find the energy of each state and then subtract. For the difference we simply need to know the energy difference associated with the local update."
   ]
  },
  {
   "cell_type": "code",
   "execution_count": 16,
   "metadata": {},
   "outputs": [
    {
     "data": {
      "text/plain": [
       "fᵣ (generic function with 1 method)"
      ]
     },
     "execution_count": 16,
     "metadata": {},
     "output_type": "execute_result"
    }
   ],
   "source": [
    "function fᵣ(θ⁺::Float64, θ⁻::Float64, θx⁺::Float64, θx⁻::Float64, θy⁺::Float64, θy⁻::Float64, \n",
    "        u⁺::Float64, u⁻::Float64, ux⁺::Float64, ux⁻::Float64, uy⁺::Float64, uy⁻::Float64, \n",
    "        A₁::Float64, A₂::Float64, γ::Float64, g::Float64, ν::Float64, f::Float64)\n",
    "    energy = 0\n",
    "    # Kinetic energy Fₖ\n",
    "    energy += -2*γ^2*(ux⁺*u⁺*cos(θx⁺-θ⁺ + g*A₁) \n",
    "        + uy⁺*u⁺*cos(θy⁺-θ⁺ + g*A₂) \n",
    "        + ux⁻*u⁻*cos(θx⁻-θ⁻ + g*A₁) \n",
    "        + uy⁻*u⁻*cos(θy⁻-θ⁻ + g*A₂) )\n",
    "    # Potential energy Fᵥ\n",
    "    energy += γ^4*u⁺^2+u⁻^2*(1+ν*cos(2*(θ⁺-θ⁻)))\n",
    "    # Mixed gradient terms cos() part\n",
    "    energy += γ^2*(ν+1)*(u⁻*uy⁺*cos(θy⁺-θ⁻ + g*A₂) \n",
    "        + u⁺*uy⁻*cos(θy⁻-θ⁺ + g*A₂) \n",
    "        - u⁻*ux⁻*cos(θx⁺ - θ⁻ + g*A₁) \n",
    "        - u⁺*ux⁻*cos(θx⁻ - θ⁺ + g*A₁))\n",
    "    # Mixed gradient sin() part\n",
    "    energy += γ^2*(ν-1)*(uy⁺*ux⁻*sin(θx⁻ - θy⁺ + g*(A₁-A₂)) \n",
    "        - uy⁻*ux⁺*sin(θx⁺ - θy⁻ + g*(A₁ - A₂)) \n",
    "        + 2*u⁺*u⁻*sin(θ⁻-θ⁺) \n",
    "        -  u⁻*uy⁺*sin(θy⁺-θ⁻ + g*A₂) \n",
    "        + u⁺*uy⁻*sin(θy⁻-θ⁺ + g*A₂) \n",
    "        + u⁻*ux⁻*sin(θx⁺ - θ⁻ + g*A₁) \n",
    "        - u⁺*ux⁻*sin(θx⁻ - θ⁺ + g*A₁))\n",
    "    energy\n",
    "end"
   ]
  },
  {
   "cell_type": "code",
   "execution_count": 14,
   "metadata": {},
   "outputs": [
    {
     "data": {
      "text/plain": [
       "E (generic function with 1 method)"
      ]
     },
     "execution_count": 14,
     "metadata": {},
     "output_type": "execute_result"
    }
   ],
   "source": [
    "# Loops over all positions of the lattice of a state and calculates the total energy from the\n",
    "# Higgs-field terms using the function fᵣ() + the energy from the gauge field.\n",
    "function E(ψ::State)\n",
    "    γ = ψ.γ\n",
    "    g = ψ.g\n",
    "    energy = 0\n",
    "    ν = ψ.ν\n",
    "    f = ψ.f\n",
    "    Lx = size(ψ.lattice,2)\n",
    "    Ly = size(ψ.lattice,1)\n",
    "    \n",
    "    # Contribution from upper right corner\n",
    "    A⁰ = (Lx-1)*2π*f\n",
    "    r = ψ.lattice[1,Lx]    # Lattice site at upper right corner\n",
    "    rx = ψ.lattice[1,1]    # Nearest neighbor at r+x is upper left corner\n",
    "    ry = ψ.lattice[Ly,Lx]  # Nearest neighbor at r+y is lower right corner\n",
    "    energy += fᵣ(r.θ⁺,r.θ⁻,rx.θ⁺,rx.θ⁻,ry.θ⁺,ry.θ⁻,r.u⁺,√(1-r.u⁺^2),rx.u⁺,√(1-rx.u⁺^2),ry.u⁺,√(1-ry.u⁺^2),\n",
    "        r.A[1],r.A[2]+A⁰,γ,g,ν,f)                 # Higgs field\n",
    "    energy += (r.A[1] + rx.A[2]-ry.A[1]-r.A[2])^2 # Maxwell term\n",
    "    \n",
    "    # Contribution from right boundary paralell to y-axis\n",
    "    # except for the upper right corner.\n",
    "    for y=2:Ly\n",
    "        r = ψ.lattice[y,Lx]\n",
    "        rx = ψ.lattice[y,1]\n",
    "        ry = ψ.lattice[y-1,Lx]\n",
    "        A⁰ = (Lx-1)*2*π*f\n",
    "        energy += fᵣ(r.θ⁺,r.θ⁻,rx.θ⁺,rx.θ⁻,ry.θ⁺,ry.θ⁻,r.u⁺,√(1-r.u⁺^2),rx.u⁺,√(1-rx.u⁺^2),ry.u⁺,√(1-ry.u⁺^2),\n",
    "            r.A[1],r.A[2]+A⁰,γ,g,ν,f)\n",
    "        energy += (r.A[1] + rx.A[2]-ry.A[1]-r.A[2])^2\n",
    "    end\n",
    "    \n",
    "    # Contribution from the bulk of lattice sites and upper boundary\n",
    "    for x=1:(Lx-1)\n",
    "        A⁰ = (x-1)*2*π*f        # Constant vector potential.\n",
    "        # Constribution from upper boundary except upper right corner\n",
    "        r = ψ.lattice[1,x]\n",
    "        rx = ψ.lattice[1,x+1]\n",
    "        ry = ψ.lattice[Ly,x]\n",
    "        energy += fᵣ(r.θ⁺,r.θ⁻,rx.θ⁺,rx.θ⁻,ry.θ⁺,ry.θ⁻,r.u⁺,√(1-r.u⁺^2),rx.u⁺,√(1-rx.u⁺^2),ry.u⁺,√(1-ry.u⁺^2),\n",
    "            r.A[1],r.A[2]+A⁰,γ,g,ν,f)\n",
    "        energy += (r.A[1] + rx.A[2]-ry.A[1]-r.A[2])^2\n",
    "        \n",
    "        # Contribution from the rest of the bulk.\n",
    "        for y=2:size(ψ.lattice,1)\n",
    "            r = ψ.lattice[y,x]          # Lattice site at position r\n",
    "            rx = ψ.lattice[y,x+1]       # Nearest neighbor at r+x\n",
    "            ry = ψ.lattice[y-1,x]       # Nearest neighbor at r+y\n",
    "            \n",
    "            energy += fᵣ(r.θ⁺,r.θ⁻,rx.θ⁺,rx.θ⁻,ry.θ⁺,ry.θ⁻,r.u⁺,√(1-r.u⁺^2),rx.u⁺,√(1-rx.u⁺^2),ry.u⁺,√(1-ry.u⁺^2),\n",
    "                r.A[1],r.A[2]+A⁰,γ,g,ν,f)\n",
    "            energy += (r.A[1] + rx.A[2]-ry.A[1]-r.A[2])^2\n",
    "        end\n",
    "    end\n",
    "    \n",
    "    energy\n",
    "end\n",
    "            "
   ]
  },
  {
   "cell_type": "code",
   "execution_count": 8,
   "metadata": {},
   "outputs": [
    {
     "data": {
      "text/plain": [
       "State(LatticeSite[LatticeSite([0.0, 0.0], 0.0, 0.0, 0.0) LatticeSite([0.0, 0.0], 0.0, 0.0, 0.0); LatticeSite([0.0, 0.0], 0.0, 0.0, 0.0) LatticeSite([0.0, 0.0], 0.0, 0.0, 0.0)], 1.0, 1.0, 0.0, 0.03125)"
      ]
     },
     "execution_count": 8,
     "metadata": {},
     "output_type": "execute_result"
    }
   ],
   "source": [
    "ψ = initializeState(2, 1)"
   ]
  },
  {
   "cell_type": "code",
   "execution_count": 9,
   "metadata": {},
   "outputs": [
    {
     "data": {
      "text/plain": [
       "2"
      ]
     },
     "execution_count": 9,
     "metadata": {},
     "output_type": "execute_result"
    }
   ],
   "source": [
    "size(ψ.lattice,1)"
   ]
  },
  {
   "cell_type": "code",
   "execution_count": 11,
   "metadata": {},
   "outputs": [
    {
     "data": {
      "text/plain": [
       "2×2 Array{LatticeSite,2}:\n",
       " LatticeSite([0.0, 0.0], 0.0, 0.0, 0.0)  …  LatticeSite([0.0, 0.0], 0.0, 0.0, 0.0)\n",
       " LatticeSite([0.0, 0.0], 0.0, 0.0, 0.0)     LatticeSite([0.0, 0.0], 0.0, 0.0, 0.0)"
      ]
     },
     "execution_count": 11,
     "metadata": {},
     "output_type": "execute_result"
    }
   ],
   "source": [
    "ψ.lattice"
   ]
  },
  {
   "cell_type": "code",
   "execution_count": 17,
   "metadata": {},
   "outputs": [
    {
     "data": {
      "text/plain": [
       "-15.923141121612922"
      ]
     },
     "execution_count": 17,
     "metadata": {},
     "output_type": "execute_result"
    }
   ],
   "source": [
    "E(ψ)"
   ]
  },
  {
   "cell_type": "markdown",
   "metadata": {},
   "source": [
    "Let's do a unit test that the energy function acts as expected."
   ]
  },
  {
   "cell_type": "code",
   "execution_count": 12,
   "metadata": {},
   "outputs": [
    {
     "data": {
      "text/plain": [
       "\u001b[1m\u001b[32mTest Passed\u001b[39m\u001b[22m"
      ]
     },
     "execution_count": 12,
     "metadata": {},
     "output_type": "execute_result"
    }
   ],
   "source": [
    "# Tests mostly that the kinetic energy Fₖ is correctly calculated.\n",
    "using Base.Test\n",
    "f = 1.0/33\n",
    "ψ = initializeState(2, 1)\n",
    "@test E(ψ) == -4*(3+cos(2*π*1/32))"
   ]
  },
  {
   "cell_type": "markdown",
   "metadata": {},
   "source": [
    "In addition to having a function that goes through the whole lattice and calculates the energy of its current configuration $\\Psi_i$, we also want to have a function that takes in a local update of a lattice site $\\mathbf{r}_i\\to\\mathbf{r}_{i+1}$ and calculates\n",
    "the change in energy $\\Delta E_{i,i+1}$ if the lattice was updated to have the proposed change at the particular lattice site $\\Psi_i\\to\\Psi_{i+1}$.\n",
    "\n",
    "This function thus only needs to sum over the nearest neighbours of the lattice site $\\mathbf{r}_i$ since the energy is given as a sum over lattice sites where only the nearest neighbors are coupled."
   ]
  },
  {
   "cell_type": "markdown",
   "metadata": {},
   "source": [
    "When changing the values of a lattice site $\\mathbf{r}$ in the state $\\Psi$, the energy difference associated with this change\n",
    " is the sum of energy terms in $F$ where $\\mathbf{r}$ occurs. Since the evaulation of lattice sites in $F$ takes\n",
    "for form of $\\mathbf{r}$, $\\mathbf{r}+\\hat{x}$ and $\\mathbf{r}+\\hat{y}$, it is clear that when changing the values at lattice site $\\mathbf{r}$, only some of\n",
    " the terms in the free energy density when it was evaluated at $\\mathbf{r}'=\\mathbf{r}-\\hat{x}$ and $\\mathbf{r}'=\\mathbf{r}-\\hat{y}$ changes. Specifically\n",
    " the kinetic density $\\mathcal{F}_K(\\mathbf{r}')$, $\\mathcal{F}_\\text{MGT}(\\mathbf{r}')$ and $\\mathcal{F}_A(\\mathbf{r}')$ has to be evaluated in addition to $\\mathcal{F}(\\mathbf{r})$ to obtain\n",
    " the energy difference."
   ]
  },
  {
   "cell_type": "code",
   "execution_count": 19,
   "metadata": {},
   "outputs": [
    {
     "data": {
      "text/plain": [
       "4"
      ]
     },
     "execution_count": 19,
     "metadata": {},
     "output_type": "execute_result"
    }
   ],
   "source": [
    "1*(1\n",
    "+ 1\n",
    "+ 2)"
   ]
  },
  {
   "cell_type": "code",
   "execution_count": 39,
   "metadata": {},
   "outputs": [
    {
     "data": {
      "text/plain": [
       "fMGT (generic function with 1 method)"
      ]
     },
     "execution_count": 39,
     "metadata": {},
     "output_type": "execute_result"
    }
   ],
   "source": [
    "# Energy difference functions\n",
    "\n",
    "# Find the local kinetic energy difference at r caused by two different sites at r+i,\n",
    "# one that is primed and one not.\n",
    "function ΔKinetic(θ′⁺ᵣ₊ᵢ::Float64,θ′⁻ᵣ₊ᵢ::Float64,θ⁺ᵣ₊ᵢ::Float64,θ⁻ᵣ₊ᵢ::Float64,θ⁺::Float64,θ⁻::Float64,\n",
    "        u′⁺ᵣ₊ᵢ::Float64,u′⁻ᵣ₊ᵢ::Float64,u⁺ᵣ₊ᵢ::Float64,u⁻ᵣ₊ᵢ::Float64,u⁺::Float64,u⁻::Float64,\n",
    "        Aᵣᵢ::Float64,γ::Float64,g::Float64)\n",
    "    -2*γ^2(u⁺*(u′⁺ᵣ₊ᵢ*cos(θ′⁺ᵣ₊ᵢ - θ⁺ + g*Aᵣᵢ) - u⁺ᵣ₊ᵢ*cos(θ⁺ᵣ₊ᵢ - θ⁺ + g*Aᵣᵢ))\n",
    "        + u⁻*(u′⁻ᵣ₊ᵢ*cos(θ′⁻ᵣ₊ᵢ - θ⁻ + g*Aᵣᵢ) - u⁻ᵣ₊ᵢ*cos(θ⁻ᵣ₊ᵢ - θ⁻ + g*Aᵣᵢ)))\n",
    "end\n",
    "\n",
    "# Calculates the local contribution from mixed gradient terms to total free energy\n",
    "function fMGT(θ⁺ᵣ₊₁::Float64,θ⁻ᵣ₊₁::Float64,θ⁺ᵣ₊₂::Float64,θ⁻ᵣ₊₂::Float64,θ⁺::Float64,θ⁻::Float64,\n",
    "        u⁺ᵣ₊₁::Float64,u⁻ᵣ₊₁::Float64,u⁺ᵣ₊₂::Float64,u⁻ᵣ₊₂::Float64,u⁺::Float64,u⁻::Float64,\n",
    "        A₁::Float64,A₂::Float64,γ::Float64,g::Float64,ν::Float64)\n",
    "    γ^2*((ν+1)*(u⁻*u⁺ᵣ₊₂*cos(θ⁺ᵣ₊₂-θ⁻+g*A₂) + u⁺*u⁻ᵣ₊₂*cos(θ⁻ᵣ₊₂-θ⁺+g*A₂) \n",
    "            - u⁻*u⁺ᵣ₊₁*cos(θ⁺ᵣ₊₁-θ⁻+g*A₁) - u⁺*u⁻ᵣ₊₁*cos(θ⁻ᵣ₊₁-θ⁺+g*A₁))\n",
    "    +(ν-1)*(u⁺ᵣ₊₂*u⁻ᵣ₊₁*sin(θ⁻ᵣ₊₁-θ⁺ᵣ₊₂ + g*(A₁-A₂)) - u⁻ᵣ₊₂*u⁺ᵣ₊₁*sin(θ⁺ᵣ₊₁-θ⁻ᵣ₊₂ + g*(A₁-A₂)) \n",
    "            + 2*u⁺*u⁻*sin(θ⁻-θ⁺) # Because of this term we will be adding some zeros when taking energy differences.\n",
    "            + u⁻*u⁺ᵣ₊₁*sin(θ⁺ᵣ₊₁-θ⁻+g*A₁) - u⁺*u⁻ᵣ₊₁*sin(θ⁻ᵣ₊₁-θ⁺+g*A₁) \n",
    "            - u⁻*u⁺ᵣ₊₂*sin(θ⁺ᵣ₊₂-θ⁻+g*A₂) + u⁺*u⁻ᵣ₊₂*sin(θ⁻ᵣ₊₂-θ⁺+g*A₂)))\n",
    "end"
   ]
  },
  {
   "cell_type": "code",
   "execution_count": 40,
   "metadata": {},
   "outputs": [
    {
     "data": {
      "text/plain": [
       "0.0"
      ]
     },
     "execution_count": 40,
     "metadata": {},
     "output_type": "execute_result"
    }
   ],
   "source": [
    "fMGT(0.0, 0.0, 0.0, 0.0, 0.0, 0.0, 0.0, 0.0, 0.0, 0.0, 0.0, 0.0, 0.0, 0.0, 0.0, 0.0, 0.0, )"
   ]
  },
  {
   "cell_type": "code",
   "execution_count": 48,
   "metadata": {},
   "outputs": [
    {
     "data": {
      "text/plain": [
       "ΔE (generic function with 1 method)"
      ]
     },
     "execution_count": 48,
     "metadata": {},
     "output_type": "execute_result"
    }
   ],
   "source": [
    "# Calculate change in energy of the total free energy F when changing the lattice\n",
    "# site of ψ at r to the lattice \"site\"\n",
    "#    In the first iteration of this function we assume that r is in the bulk.\n",
    "function ΔE(ψ::State, site::LatticeSite, pos::Array{Int64,1})\n",
    "    δE = 0.0\n",
    "    x = pos[1]\n",
    "    y = pos[2]\n",
    "    γ = ψ.γ\n",
    "    g = ψ.g\n",
    "    ν = ψ.ν\n",
    "    f = ψ.f\n",
    "    Lx = size(ψ.lattice,2)\n",
    "    Ly = size(ψ.lattice,1)\n",
    "    r = ψ.lattice[y,x]\n",
    "    A⁰ = 2π*f*(x-1)\n",
    "    \n",
    "    # First calculate the change in energy caused by evaluating F at r-x\n",
    "    # Energy difference from Fₖ\n",
    "    r′ = ψ.lattice[y,x-1]\n",
    "    δE += ΔKinetic(site.θ⁺,site.θ⁻,r.θ⁺,r.θ⁻,r′.θ⁺,r′.θ⁻,\n",
    "        site.u⁺,√(1-site.u⁺^2),r.u⁺,√(1-r.u⁺^2),r′.u⁺,√(1-r′.u⁺^2),r′.A[1],γ,g)\n",
    "    # Energy difference from F MGT\n",
    "    # Here there is room for optimization by defining similar function to the one for the kinetic energy.\n",
    "    r′ᵣ₊₂ = ψ.lattice[y-1,x-1] # Nearest neighbor of \n",
    "    δE += (fMGT(site.θ⁺,site.θ⁻,r′ᵣ₊₂.θ⁺,r′ᵣ₊₂.θ⁻,r′.θ⁺,r′.θ⁻,\n",
    "        site.u⁺,√(1-site.u⁺^2),r′ᵣ₊₂.u⁺,√(1-r′ᵣ₊₂.u⁺^2),r′.u⁺,√(1-r′.u⁺^2),\n",
    "        r′.A[1],r′.A[2]+2π*f*(x-2),γ,g,ν)\n",
    "        -  fMGT(r.θ⁺,r.θ⁻,r′ᵣ₊₂.θ⁺,r′ᵣ₊₂.θ⁻,r′.θ⁺,r′.θ⁻,\n",
    "        r.u⁺,√(1-r.u⁺^2),r′ᵣ₊₂.u⁺,√(1-r′ᵣ₊₂.u⁺^2),r′.u⁺,√(1-r′.u⁺^2),\n",
    "        r′.A[1],r′.A[2]+2π*f*(x-2),γ,g,ν))\n",
    "    # Energy difference from Gauge term\n",
    "    δE += (r′.A[1] + site.A[2] - r′ᵣ₊₂.A[1] - r′.A[2])^2 - (r′.A[1] + r.A[2] - r′ᵣ₊₂.A[1] - r′.A[2])^2\n",
    "    \n",
    "    # Now calculate the contribution from the evaluating F at r-y\n",
    "    # Energy difference from Fₖ\n",
    "    r′ = ψ.lattice[y+1,x]\n",
    "    δE += ΔKinetic(site.θ⁺,site.θ⁻,r.θ⁺,r.θ⁻,r′.θ⁺,r′.θ⁻,\n",
    "        site.u⁺,√(1-site.u⁺^2),r.u⁺,√(1-r.u⁺^2),r′.u⁺,√(1-r′.u⁺^2),r′.A[2]+A⁰,γ,g)\n",
    "    # Energy difference from F MGT\n",
    "    r′ᵣ₊₁ = ψ.lattice[y+1,x+1]\n",
    "    δE += (fMGT(r′ᵣ₊₁.θ⁺,r′ᵣ₊₁.θ⁻,site.θ⁺,site.θ⁻,r′.θ⁺,r′.θ⁻,\n",
    "        r′ᵣ₊₁.u⁺,√(1-r′ᵣ₊₁.u⁺^2),site.u⁺,√(1-site.u⁺^2),r′.u⁺,√(1-r′.u⁺^2),\n",
    "        r′.A[1],r′.A[2]+A⁰,γ,g,ν) \n",
    "         - fMGT(r′ᵣ₊₁.θ⁺,r′ᵣ₊₁.θ⁻,r.θ⁺,r.θ⁻,r′.θ⁺,r′.θ⁻,\n",
    "        r′ᵣ₊₁.u⁺,√(1-r′ᵣ₊₁.u⁺^2),r.u⁺,√(1-r.u⁺^2),r′.u⁺,√(1-r′.u⁺^2),\n",
    "        r′.A[1],r′.A[2]+A⁰,γ,g,ν))\n",
    "    # Energy difference from Gauge term\n",
    "    δE += (r′.A[1] + r′ᵣ₊₁.A[2] - site.A[1] - r′.A[2])^2 - (r′.A[1] + r′ᵣ₊₁.A[2] - r.A[1] - r′.A[2])^2\n",
    "    \n",
    "    # Finally calculate energy difference from evaluating F at r\n",
    "    rᵣ₊₁ = ψ.lattice[y,x+1]\n",
    "    rᵣ₊₂ = ψ.lattice[y-1,x]\n",
    "    δE += (fᵣ(site.θ⁺,site.θ⁻,rᵣ₊₁.θ⁺,rᵣ₊₁.θ⁻,rᵣ₊₂.θ⁺,rᵣ₊₂.θ⁻, \n",
    "        site.u⁺,√(1-site.u⁺^2),rᵣ₊₁.u⁺,√(1-rᵣ₊₁.u⁺^2),rᵣ₊₂.u⁺,√(1-rᵣ₊₂.u⁺^2),\n",
    "        site.A[1],site.A[2]+A⁰,γ,g,ν,f) \n",
    "        - fᵣ(r.θ⁺,r.θ⁻,rᵣ₊₁.θ⁺,rᵣ₊₁.θ⁻,rᵣ₊₂.θ⁺,rᵣ₊₂.θ⁻, \n",
    "        r.u⁺,√(1-r.u⁺^2),rᵣ₊₁.u⁺,√(1-rᵣ₊₁.u⁺^2),rᵣ₊₂.u⁺,√(1-rᵣ₊₂.u⁺^2),\n",
    "        r.A[1],r.A[2]+A⁰,γ,g,ν,f))\n",
    "end"
   ]
  },
  {
   "cell_type": "code",
   "execution_count": 59,
   "metadata": {},
   "outputs": [
    {
     "data": {
      "text/plain": [
       "3×3 Array{LatticeSite,2}:\n",
       " LatticeSite([867.443, -406.759], 5.36234, 2.45224, 0.900525)     …  LatticeSite([122.547, 212.395], 4.56491, 2.43626, 0.129926) \n",
       " LatticeSite([-800.921, -152.294], 3.46875, 0.805812, 0.0228894)     LatticeSite([-82.455, 694.125], 2.09391, 6.26113, 0.056973) \n",
       " LatticeSite([-835.721, -838.029], 4.13664, 0.855568, 0.643861)      LatticeSite([54.0577, 405.888], 0.168952, 2.57329, 0.608625)"
      ]
     },
     "execution_count": 59,
     "metadata": {},
     "output_type": "execute_result"
    }
   ],
   "source": [
    "ψ₁ = initializeState(3, 2)\n",
    "ψ₂ = initializeState(3,2)\n",
    "ψ₂.lattice"
   ]
  },
  {
   "cell_type": "code",
   "execution_count": 60,
   "metadata": {},
   "outputs": [
    {
     "data": {
      "text/plain": [
       "-4.0"
      ]
     },
     "execution_count": 60,
     "metadata": {},
     "output_type": "execute_result"
    }
   ],
   "source": [
    "site = LatticeSite([0.0,0.0], 0, 0,1)\n",
    "ΔE(ψ₂,ψ₂.lattice[2,2],[2,2])"
   ]
  },
  {
   "cell_type": "code",
   "execution_count": null,
   "metadata": {},
   "outputs": [],
   "source": [
    "# An old iteration of ΔE that uses mod to calculate nearest neighbors\n",
    "#function ΔE(ψ::State, site::LatticeSite, r::Array{Int64,1})\n",
    "#    δE = 0.0\n",
    "#    x = r[1]\n",
    "#    y = r[2]\n",
    "#    Ly = size(ψ.lattice,1) # The dimension of the lattice\n",
    "#    \n",
    "#    # Calculate nearest neighbors of the position r, given periodic boundary conditions.\n",
    "#    nn = [[y,mod(x,L)+1], # position r+x\n",
    "#        [mod(y,L)+1,x],   # position r+y\n",
    "#        [y,mod(x-2,L)+1], # position r-x\n",
    "#        [mod(y-2,L)+1,x]] # position r-y\n",
    "#    \n",
    "#    for pos in nn\n",
    "#        # Here we have only used an example energy A_x*A_x\n",
    "#        δE += (ψ.lattice[pos...].A₀ᵣ[1] + ψ.lattice[pos...].Aᵣ[1])\n",
    "#        *(site.A₀ᵣ[1] + site.Aᵣ[1] - ψ.lattice[y,x].A₀ᵣ[1] - ψ.lattice[y,x].Aᵣ[1])\n",
    "#    end\n",
    "#    \n",
    "#    δE += (site.A₀ᵣ[1] + site.Aᵣ[1])^2 - (ψ.lattice[y,x].A₀ᵣ[1] - ψ.lattice[y,x].Aᵣ[1])^2\n",
    "#end"
   ]
  },
  {
   "cell_type": "code",
   "execution_count": 16,
   "metadata": {},
   "outputs": [
    {
     "data": {
      "text/plain": [
       "1"
      ]
     },
     "execution_count": 16,
     "metadata": {},
     "output_type": "execute_result"
    }
   ],
   "source": [
    "L = 3\n",
    "x = 3\n",
    "mod(x,L)+1"
   ]
  },
  {
   "cell_type": "code",
   "execution_count": 17,
   "metadata": {},
   "outputs": [
    {
     "data": {
      "text/plain": [
       "3"
      ]
     },
     "execution_count": 17,
     "metadata": {},
     "output_type": "execute_result"
    }
   ],
   "source": [
    "L = 3\n",
    "x = 1\n",
    "mod(x-2,L)+1"
   ]
  },
  {
   "cell_type": "code",
   "execution_count": 18,
   "metadata": {},
   "outputs": [
    {
     "ename": "LoadError",
     "evalue": "\u001b[91mUndefVarError: temp not defined\u001b[39m",
     "output_type": "error",
     "traceback": [
      "\u001b[91mUndefVarError: temp not defined\u001b[39m",
      ""
     ]
    }
   ],
   "source": [
    "r = [1,1]\n",
    "p1 = temp.lattice[r...]"
   ]
  },
  {
   "cell_type": "code",
   "execution_count": 19,
   "metadata": {},
   "outputs": [
    {
     "data": {
      "text/plain": [
       "LatticeSite([0.0, 0.0], [0.0, 0.0], 0.0, 0.0, 0.0)"
      ]
     },
     "execution_count": 19,
     "metadata": {},
     "output_type": "execute_result"
    }
   ],
   "source": [
    "ψ.lattice[r...]"
   ]
  },
  {
   "cell_type": "code",
   "execution_count": 20,
   "metadata": {},
   "outputs": [
    {
     "ename": "LoadError",
     "evalue": "\u001b[91mUndefVarError: p1 not defined\u001b[39m",
     "output_type": "error",
     "traceback": [
      "\u001b[91mUndefVarError: p1 not defined\u001b[39m",
      ""
     ]
    }
   ],
   "source": [
    "ΔE(ψ, p1, r)"
   ]
  },
  {
   "cell_type": "markdown",
   "metadata": {},
   "source": [
    "# Proposal of a local state update\n",
    "Given a state $\\Psi_i$ we want to propose a new state $\\Psi_{i+1}$ that can later be accepted according to the Metropolis-Hastings algorithm. The proposal function thus has to take in a given state $\\Psi_i$ and give out a new\n",
    "state $\\Psi_{i+1}$ as well as the energy difference between the two states since this can be effectively calculated depending on what kind of update is done to the state. Thus we don't need to call $E(\\Psi)$ twice to find the difference in energy.\n",
    "\n",
    "The local update is done at a particular lattice site where all degrees of freedom are updated, thus the function also has to know what lattice position to update.\n",
    "\n",
    "Remember that the proposal probability for a new state $P(\\Psi_i\\to\\Psi_j)$ has to be equal to the symmetric update"
   ]
  },
  {
   "cell_type": "markdown",
   "metadata": {},
   "source": [
    "$$P(\\Psi_i\\to\\Psi_j) = P(\\Psi_j\\to\\Psi_i),$$"
   ]
  },
  {
   "cell_type": "markdown",
   "metadata": {},
   "source": [
    "for the update to fulfill detailed balance.\n",
    "\n",
    "So far we do a very simple thing of defining a fixed interval around the original value, from within which the new value is uniformly randomly picked. Given a value $\\theta^+_\\mathbf{r}$ at the lattice site $\\mathbf{r}$, the new value \n",
    "$\\theta'{}^+_\\mathbf{r}$ is thus picked uniformly from the interval \n",
    "$$\\theta'{}^+_\\mathbf{r}\\in(\\theta^+_\\mathbf{r}-\\theta_\\text{max},\\;\\theta^+_\\mathbf{r}+\\theta_\\text{max})$$"
   ]
  },
  {
   "cell_type": "code",
   "execution_count": 21,
   "metadata": {},
   "outputs": [
    {
     "data": {
      "text/plain": [
       "proposeLocalUpdate (generic function with 1 method)"
      ]
     },
     "execution_count": 21,
     "metadata": {},
     "output_type": "execute_result"
    }
   ],
   "source": [
    "function proposeLocalUpdate(ψᵢ::State, r::Array{Int64, 1})\n",
    "    const θmax = 3/100 # How far away from the original value, the proposed new value for θ should be.\n",
    "    const umax = 3/100 # How far away from the original value, the proposed amplitude u should be.\n",
    "    const Amax = 3/100\n",
    "    const x = r[1]\n",
    "    const y = r[2]\n",
    "    (size(ψᵢ.lattice,1) < y || size(ψᵢ.lattice,2) < x) && throw(DomainError()) # r is outside the range of the lattice.\n",
    "    \n",
    "    # Save the lattice site at position r in a separate variable s.\n",
    "    s = ψᵢ.lattice[y,x]\n",
    "    \n",
    "    # Construct new configuration at lattice site.\n",
    "    newLatticeSite = LatticeSite(s.A₀ᵣ, [s.Aᵣ[1]+Amax*rand()*rand([-1,1]), s.Aᵣ[2]+Amax*rand()*rand([-1,1])],\n",
    "        mod(s.θ⁺ + θmax*rand()*rand([-1,1]), 2π), mod(s.θ⁻ + θmax*rand()*rand([-1,1]), 2π), \n",
    "        mod(s.uᵣ + umax*rand()*rand([-1,1]),1))\n",
    "    \n",
    "    # Calculate energy difference between the two configurations and return this with the proposed lattice site.\n",
    "    (newLatticeSite, ΔE(ψᵢ,newLatticeSite,r))\n",
    "end    "
   ]
  },
  {
   "cell_type": "code",
   "execution_count": 22,
   "metadata": {},
   "outputs": [
    {
     "data": {
      "text/plain": [
       "6.282185307179586"
      ]
     },
     "execution_count": 22,
     "metadata": {},
     "output_type": "execute_result"
    }
   ],
   "source": [
    "mod(-0.001, 2π)"
   ]
  },
  {
   "cell_type": "code",
   "execution_count": 23,
   "metadata": {},
   "outputs": [
    {
     "data": {
      "text/plain": [
       "-0.001"
      ]
     },
     "execution_count": 23,
     "metadata": {},
     "output_type": "execute_result"
    }
   ],
   "source": [
    "-0.001 % 2π"
   ]
  },
  {
   "cell_type": "code",
   "execution_count": 24,
   "metadata": {},
   "outputs": [
    {
     "data": {
      "text/plain": [
       "0.999"
      ]
     },
     "execution_count": 24,
     "metadata": {},
     "output_type": "execute_result"
    }
   ],
   "source": [
    "mod(-0.001,1)"
   ]
  },
  {
   "cell_type": "code",
   "execution_count": 25,
   "metadata": {},
   "outputs": [
    {
     "data": {
      "text/plain": [
       "2"
      ]
     },
     "execution_count": 25,
     "metadata": {},
     "output_type": "execute_result"
    }
   ],
   "source": [
    "A = zeros(2,3)\n",
    "size(A,1)"
   ]
  },
  {
   "cell_type": "code",
   "execution_count": 26,
   "metadata": {},
   "outputs": [
    {
     "data": {
      "text/plain": [
       "LatticeSite([0.0, 0.0], [0.0, 0.0], 0.0, 0.0, 0.0)"
      ]
     },
     "execution_count": 26,
     "metadata": {},
     "output_type": "execute_result"
    }
   ],
   "source": [
    "ψ.lattice[1,1]"
   ]
  },
  {
   "cell_type": "code",
   "execution_count": 27,
   "metadata": {},
   "outputs": [
    {
     "data": {
      "text/plain": [
       "0.0005231232307729393"
      ]
     },
     "execution_count": 27,
     "metadata": {},
     "output_type": "execute_result"
    }
   ],
   "source": [
    "proposeLocalUpdate(ψ, [1,1])[2]"
   ]
  },
  {
   "cell_type": "markdown",
   "metadata": {},
   "source": [
    "# Metropolis Hastings update\n",
    "\n",
    "Now we create a function that implements the acceptance step of the Metropolis Hastings algorithm.\n",
    "1. From state $\\Psi_i$, propose a new state $\\Psi_{i+1}$\n",
    "2. Calculate $\\Delta E_{i,i+1}$.\n",
    "3. Generate a random number r between $(0,1]$.\n",
    "4. If $r\\leq e^{-\\beta\\Delta E_{i,i+1}}$, accept the state\n",
    "\n",
    "Since the \n",
    "> rand() \n",
    "\n",
    "function creates a random number in $[0,1)$ we create a random number in $(0,1]$ by mapping $0\\mapsto1$."
   ]
  },
  {
   "cell_type": "code",
   "execution_count": 28,
   "metadata": {},
   "outputs": [
    {
     "data": {
      "text/plain": [
       "metropolisHastingUpdate! (generic function with 1 method)"
      ]
     },
     "execution_count": 28,
     "metadata": {},
     "output_type": "execute_result"
    }
   ],
   "source": [
    "function metropolisHastingUpdate!(ψ::State, r::Array{Int64,1}, β::Float64)\n",
    "    (site, δE) = proposeLocalUpdate(ψ,r)\n",
    "    \n",
    "    # Create random number ran ∈ (0,1].\n",
    "    ran = rand()\n",
    "    if ran==0\n",
    "        ran=1\n",
    "    end\n",
    "    \n",
    "    # Update state with probability min(1, e^{-β⋅δE})\n",
    "    # and return the energy of final state regardless of whether it gets updated or not.\n",
    "    if log(ran) <= -β*δE\n",
    "        ψ.lattice[r...] = site\n",
    "        δE\n",
    "    else\n",
    "        δE = 0\n",
    "    end\n",
    "end"
   ]
  },
  {
   "cell_type": "code",
   "execution_count": 29,
   "metadata": {},
   "outputs": [
    {
     "data": {
      "text/plain": [
       "(1, 3)"
      ]
     },
     "execution_count": 29,
     "metadata": {},
     "output_type": "execute_result"
    }
   ],
   "source": [
    "(x,y) = (1,3)"
   ]
  },
  {
   "cell_type": "code",
   "execution_count": 30,
   "metadata": {},
   "outputs": [
    {
     "data": {
      "text/plain": [
       "3"
      ]
     },
     "execution_count": 30,
     "metadata": {},
     "output_type": "execute_result"
    }
   ],
   "source": [
    "y"
   ]
  },
  {
   "cell_type": "code",
   "execution_count": 31,
   "metadata": {},
   "outputs": [
    {
     "data": {
      "text/plain": [
       "2×2 Array{LatticeSite,2}:\n",
       " LatticeSite([0.0, 0.0], [0.0, 0.0], 0.0, 0.0, 0.0)  …  LatticeSite([0.0, 0.1904], [0.0, 0.0], 0.0, 0.0, 0.0)\n",
       " LatticeSite([0.0, 0.0], [0.0, 0.0], 0.0, 0.0, 0.0)     LatticeSite([0.0, 0.1904], [0.0, 0.0], 0.0, 0.0, 0.0)"
      ]
     },
     "execution_count": 31,
     "metadata": {},
     "output_type": "execute_result"
    }
   ],
   "source": [
    "ψ.lattice"
   ]
  },
  {
   "cell_type": "code",
   "execution_count": 32,
   "metadata": {},
   "outputs": [
    {
     "data": {
      "text/plain": [
       "0.00017378092037991476"
      ]
     },
     "execution_count": 32,
     "metadata": {},
     "output_type": "execute_result"
    }
   ],
   "source": [
    "metropolisHastingUpdate!(ψ, [1,1], 1/4)"
   ]
  },
  {
   "cell_type": "markdown",
   "metadata": {},
   "source": [
    "# Monte Carlo sweep\n",
    "\n",
    "Try to update the entire lattice once."
   ]
  },
  {
   "cell_type": "code",
   "execution_count": 33,
   "metadata": {},
   "outputs": [
    {
     "data": {
      "text/plain": [
       "mcSweep! (generic function with 1 method)"
      ]
     },
     "execution_count": 33,
     "metadata": {},
     "output_type": "execute_result"
    }
   ],
   "source": [
    "function mcSweep!(ψ::State, β::Float64)\n",
    "    \n",
    "    # Find size of the lattice L\n",
    "    L = size(ψ.lattice,1)\n",
    "    \n",
    "    # Do a Metropolis-Hastings update for all lattice sites on the lattice.\n",
    "    for x in 1:L, y in 1:L\n",
    "        metropolisHastingUpdate!(ψ, [x,y], β)\n",
    "    end\n",
    "end"
   ]
  },
  {
   "cell_type": "markdown",
   "metadata": {},
   "source": [
    "# Main MC measurements function\n",
    "\n",
    "This is the function that will do all the work. Here we call all the other functions we have created.\n",
    "\n",
    "After $M_\\text{th}$ Monte-Carlo sweeps (MCS) we do a measurement. Before doing any measurements we wait\n",
    "$M_\\text{skip}$ MCS for the system to reach equilibrium. We do $M$ measurements. Let the lattice be of size $N\\times N$,\n",
    "the magnetic filling fraction is $f$ while $\\beta$ is the inverse temperature."
   ]
  },
  {
   "cell_type": "code",
   "execution_count": 44,
   "metadata": {},
   "outputs": [
    {
     "data": {
      "image/svg+xml": [
       "<?xml version=\"1.0\" encoding=\"utf-8\"?>\n",
       "<svg xmlns=\"http://www.w3.org/2000/svg\" xmlns:xlink=\"http://www.w3.org/1999/xlink\" width=\"600\" height=\"400\" viewBox=\"0 0 600 400\">\n",
       "<defs>\n",
       "  <clipPath id=\"clip7700\">\n",
       "    <rect x=\"0\" y=\"0\" width=\"600\" height=\"400\"/>\n",
       "  </clipPath>\n",
       "</defs>\n",
       "<polygon clip-path=\"url(#clip7700)\" points=\"\n",
       "0,400 600,400 600,0 0,0 \n",
       "  \" fill=\"#ffffff\" fill-opacity=\"1\"/>\n",
       "<defs>\n",
       "  <clipPath id=\"clip7701\">\n",
       "    <rect x=\"120\" y=\"0\" width=\"421\" height=\"400\"/>\n",
       "  </clipPath>\n",
       "</defs>\n",
       "<polygon clip-path=\"url(#clip7700)\" points=\"\n",
       "32.4745,375.869 580.315,375.869 580.315,11.811 32.4745,11.811 \n",
       "  \" fill=\"#ffffff\" fill-opacity=\"1\"/>\n",
       "<defs>\n",
       "  <clipPath id=\"clip7702\">\n",
       "    <rect x=\"32\" y=\"11\" width=\"549\" height=\"365\"/>\n",
       "  </clipPath>\n",
       "</defs>\n",
       "<polyline clip-path=\"url(#clip7702)\" style=\"stroke:#000000; stroke-width:0.5; stroke-opacity:0.1; fill:none\" points=\"\n",
       "  147.809,375.869 147.809,11.811 \n",
       "  \"/>\n",
       "<polyline clip-path=\"url(#clip7702)\" style=\"stroke:#000000; stroke-width:0.5; stroke-opacity:0.1; fill:none\" points=\"\n",
       "  291.978,375.869 291.978,11.811 \n",
       "  \"/>\n",
       "<polyline clip-path=\"url(#clip7702)\" style=\"stroke:#000000; stroke-width:0.5; stroke-opacity:0.1; fill:none\" points=\"\n",
       "  436.146,375.869 436.146,11.811 \n",
       "  \"/>\n",
       "<polyline clip-path=\"url(#clip7702)\" style=\"stroke:#000000; stroke-width:0.5; stroke-opacity:0.1; fill:none\" points=\"\n",
       "  580.315,375.869 580.315,11.811 \n",
       "  \"/>\n",
       "<polyline clip-path=\"url(#clip7702)\" style=\"stroke:#000000; stroke-width:0.5; stroke-opacity:0.1; fill:none\" points=\"\n",
       "  32.4745,302.093 580.315,302.093 \n",
       "  \"/>\n",
       "<polyline clip-path=\"url(#clip7702)\" style=\"stroke:#000000; stroke-width:0.5; stroke-opacity:0.1; fill:none\" points=\"\n",
       "  32.4745,225.408 580.315,225.408 \n",
       "  \"/>\n",
       "<polyline clip-path=\"url(#clip7702)\" style=\"stroke:#000000; stroke-width:0.5; stroke-opacity:0.1; fill:none\" points=\"\n",
       "  32.4745,148.723 580.315,148.723 \n",
       "  \"/>\n",
       "<polyline clip-path=\"url(#clip7702)\" style=\"stroke:#000000; stroke-width:0.5; stroke-opacity:0.1; fill:none\" points=\"\n",
       "  32.4745,72.0379 580.315,72.0379 \n",
       "  \"/>\n",
       "<polyline clip-path=\"url(#clip7700)\" style=\"stroke:#000000; stroke-width:1; stroke-opacity:1; fill:none\" points=\"\n",
       "  32.4745,375.869 580.315,375.869 \n",
       "  \"/>\n",
       "<polyline clip-path=\"url(#clip7700)\" style=\"stroke:#000000; stroke-width:1; stroke-opacity:1; fill:none\" points=\"\n",
       "  32.4745,375.869 32.4745,11.811 \n",
       "  \"/>\n",
       "<polyline clip-path=\"url(#clip7700)\" style=\"stroke:#000000; stroke-width:1; stroke-opacity:1; fill:none\" points=\"\n",
       "  147.809,375.869 147.809,370.408 \n",
       "  \"/>\n",
       "<polyline clip-path=\"url(#clip7700)\" style=\"stroke:#000000; stroke-width:1; stroke-opacity:1; fill:none\" points=\"\n",
       "  291.978,375.869 291.978,370.408 \n",
       "  \"/>\n",
       "<polyline clip-path=\"url(#clip7700)\" style=\"stroke:#000000; stroke-width:1; stroke-opacity:1; fill:none\" points=\"\n",
       "  436.146,375.869 436.146,370.408 \n",
       "  \"/>\n",
       "<polyline clip-path=\"url(#clip7700)\" style=\"stroke:#000000; stroke-width:1; stroke-opacity:1; fill:none\" points=\"\n",
       "  580.315,375.869 580.315,370.408 \n",
       "  \"/>\n",
       "<polyline clip-path=\"url(#clip7700)\" style=\"stroke:#000000; stroke-width:1; stroke-opacity:1; fill:none\" points=\"\n",
       "  32.4745,302.093 40.6921,302.093 \n",
       "  \"/>\n",
       "<polyline clip-path=\"url(#clip7700)\" style=\"stroke:#000000; stroke-width:1; stroke-opacity:1; fill:none\" points=\"\n",
       "  32.4745,225.408 40.6921,225.408 \n",
       "  \"/>\n",
       "<polyline clip-path=\"url(#clip7700)\" style=\"stroke:#000000; stroke-width:1; stroke-opacity:1; fill:none\" points=\"\n",
       "  32.4745,148.723 40.6921,148.723 \n",
       "  \"/>\n",
       "<polyline clip-path=\"url(#clip7700)\" style=\"stroke:#000000; stroke-width:1; stroke-opacity:1; fill:none\" points=\"\n",
       "  32.4745,72.0379 40.6921,72.0379 \n",
       "  \"/>\n",
       "<g clip-path=\"url(#clip7700)\">\n",
       "<text style=\"fill:#000000; fill-opacity:1; font-family:Arial,Helvetica Neue,Helvetica,sans-serif; font-size:12; text-anchor:middle;\" transform=\"rotate(0, 147.809, 389.669)\" x=\"147.809\" y=\"389.669\">5</text>\n",
       "</g>\n",
       "<g clip-path=\"url(#clip7700)\">\n",
       "<text style=\"fill:#000000; fill-opacity:1; font-family:Arial,Helvetica Neue,Helvetica,sans-serif; font-size:12; text-anchor:middle;\" transform=\"rotate(0, 291.978, 389.669)\" x=\"291.978\" y=\"389.669\">10</text>\n",
       "</g>\n",
       "<g clip-path=\"url(#clip7700)\">\n",
       "<text style=\"fill:#000000; fill-opacity:1; font-family:Arial,Helvetica Neue,Helvetica,sans-serif; font-size:12; text-anchor:middle;\" transform=\"rotate(0, 436.146, 389.669)\" x=\"436.146\" y=\"389.669\">15</text>\n",
       "</g>\n",
       "<g clip-path=\"url(#clip7700)\">\n",
       "<text style=\"fill:#000000; fill-opacity:1; font-family:Arial,Helvetica Neue,Helvetica,sans-serif; font-size:12; text-anchor:middle;\" transform=\"rotate(0, 580.315, 389.669)\" x=\"580.315\" y=\"389.669\">20</text>\n",
       "</g>\n",
       "<g clip-path=\"url(#clip7700)\">\n",
       "<text style=\"fill:#000000; fill-opacity:1; font-family:Arial,Helvetica Neue,Helvetica,sans-serif; font-size:12; text-anchor:end;\" transform=\"rotate(0, 26.4745, 306.593)\" x=\"26.4745\" y=\"306.593\">0.2</text>\n",
       "</g>\n",
       "<g clip-path=\"url(#clip7700)\">\n",
       "<text style=\"fill:#000000; fill-opacity:1; font-family:Arial,Helvetica Neue,Helvetica,sans-serif; font-size:12; text-anchor:end;\" transform=\"rotate(0, 26.4745, 229.908)\" x=\"26.4745\" y=\"229.908\">0.4</text>\n",
       "</g>\n",
       "<g clip-path=\"url(#clip7700)\">\n",
       "<text style=\"fill:#000000; fill-opacity:1; font-family:Arial,Helvetica Neue,Helvetica,sans-serif; font-size:12; text-anchor:end;\" transform=\"rotate(0, 26.4745, 153.223)\" x=\"26.4745\" y=\"153.223\">0.6</text>\n",
       "</g>\n",
       "<g clip-path=\"url(#clip7700)\">\n",
       "<text style=\"fill:#000000; fill-opacity:1; font-family:Arial,Helvetica Neue,Helvetica,sans-serif; font-size:12; text-anchor:end;\" transform=\"rotate(0, 26.4745, 76.5379)\" x=\"26.4745\" y=\"76.5379\">0.8</text>\n",
       "</g>\n",
       "<polyline clip-path=\"url(#clip7702)\" style=\"stroke:#009af9; stroke-width:1; stroke-opacity:1; fill:none\" points=\"\n",
       "  32.4745,193.517 61.3082,186.026 90.1419,375.869 118.976,189.686 147.809,260.552 176.643,12.0364 205.477,68.9087 234.31,210.733 263.144,18.696 291.978,11.811 \n",
       "  320.812,310.455 349.645,89.2283 378.479,130.956 407.313,367.59 436.146,268.766 464.98,16.1234 493.814,316.223 522.648,373.785 551.481,127.413 580.315,51.457 \n",
       "  \n",
       "  \"/>\n",
       "<polygon clip-path=\"url(#clip7700)\" points=\"\n",
       "489.608,62.931 562.315,62.931 562.315,32.691 489.608,32.691 \n",
       "  \" fill=\"#ffffff\" fill-opacity=\"1\"/>\n",
       "<polyline clip-path=\"url(#clip7700)\" style=\"stroke:#000000; stroke-width:1; stroke-opacity:1; fill:none\" points=\"\n",
       "  489.608,62.931 562.315,62.931 562.315,32.691 489.608,32.691 489.608,62.931 \n",
       "  \"/>\n",
       "<polyline clip-path=\"url(#clip7700)\" style=\"stroke:#009af9; stroke-width:1; stroke-opacity:1; fill:none\" points=\"\n",
       "  495.608,47.811 531.608,47.811 \n",
       "  \"/>\n",
       "<g clip-path=\"url(#clip7700)\">\n",
       "<text style=\"fill:#000000; fill-opacity:1; font-family:Arial,Helvetica Neue,Helvetica,sans-serif; font-size:12; text-anchor:start;\" transform=\"rotate(0, 537.608, 52.311)\" x=\"537.608\" y=\"52.311\">y1</text>\n",
       "</g>\n",
       "</svg>\n"
      ]
     },
     "execution_count": 44,
     "metadata": {},
     "output_type": "execute_result"
    }
   ],
   "source": [
    "using Plots\n",
    "gr()\n",
    "plot(1:20, [rand() for i=1:20])"
   ]
  },
  {
   "cell_type": "code",
   "execution_count": 47,
   "metadata": {},
   "outputs": [
    {
     "data": {
      "text/plain": [
       "mcMeasure (generic function with 1 method)"
      ]
     },
     "execution_count": 47,
     "metadata": {},
     "output_type": "execute_result"
    }
   ],
   "source": [
    "function mcMeasure(M::Int64, Mth::Int64, Mskip::Int64, N::Int64, f::Float64, β::Float64)\n",
    "    ψ = initializeState(N, f, 2)\n",
    "    \n",
    "    # As an example we just want to measure the energies of the states.\n",
    "    e = zeros(M)\n",
    "    \n",
    "    # Thermalize the system\n",
    "    for i=1:Mskip\n",
    "        mcSweep!(ψ,β)\n",
    "    end\n",
    "    \n",
    "    # Then do M measurements\n",
    "    for i=1:(M-1)\n",
    "        e[i] = E(ψ)\n",
    "        for j=1:Mth-1\n",
    "            mcSweep!(ψ,β)\n",
    "        end\n",
    "    end\n",
    "    e[M] = E(ψ)\n",
    "    \n",
    "    # Plot results\n",
    "    plot(1:M, e)\n",
    "end "
   ]
  },
  {
   "cell_type": "code",
   "execution_count": 45,
   "metadata": {},
   "outputs": [
    {
     "data": {
      "text/plain": [
       "3-element Array{Float64,1}:\n",
       " 0.0\n",
       " 0.0\n",
       " 0.0"
      ]
     },
     "execution_count": 45,
     "metadata": {},
     "output_type": "execute_result"
    }
   ],
   "source": [
    "zeros(3)"
   ]
  },
  {
   "cell_type": "code",
   "execution_count": 52,
   "metadata": {},
   "outputs": [
    {
     "data": {
      "image/svg+xml": [
       "<?xml version=\"1.0\" encoding=\"utf-8\"?>\n",
       "<svg xmlns=\"http://www.w3.org/2000/svg\" xmlns:xlink=\"http://www.w3.org/1999/xlink\" width=\"600\" height=\"400\" viewBox=\"0 0 600 400\">\n",
       "<defs>\n",
       "  <clipPath id=\"clip8700\">\n",
       "    <rect x=\"0\" y=\"0\" width=\"600\" height=\"400\"/>\n",
       "  </clipPath>\n",
       "</defs>\n",
       "<polygon clip-path=\"url(#clip8700)\" points=\"\n",
       "0,400 600,400 600,0 0,0 \n",
       "  \" fill=\"#ffffff\" fill-opacity=\"1\"/>\n",
       "<defs>\n",
       "  <clipPath id=\"clip8701\">\n",
       "    <rect x=\"120\" y=\"0\" width=\"421\" height=\"400\"/>\n",
       "  </clipPath>\n",
       "</defs>\n",
       "<polygon clip-path=\"url(#clip8700)\" points=\"\n",
       "45.8557,375.869 580.315,375.869 580.315,11.811 45.8557,11.811 \n",
       "  \" fill=\"#ffffff\" fill-opacity=\"1\"/>\n",
       "<defs>\n",
       "  <clipPath id=\"clip8702\">\n",
       "    <rect x=\"45\" y=\"11\" width=\"535\" height=\"365\"/>\n",
       "  </clipPath>\n",
       "</defs>\n",
       "<polyline clip-path=\"url(#clip8702)\" style=\"stroke:#000000; stroke-width:0.5; stroke-opacity:0.1; fill:none\" points=\"\n",
       "  158.373,375.869 158.373,11.811 \n",
       "  \"/>\n",
       "<polyline clip-path=\"url(#clip8702)\" style=\"stroke:#000000; stroke-width:0.5; stroke-opacity:0.1; fill:none\" points=\"\n",
       "  299.021,375.869 299.021,11.811 \n",
       "  \"/>\n",
       "<polyline clip-path=\"url(#clip8702)\" style=\"stroke:#000000; stroke-width:0.5; stroke-opacity:0.1; fill:none\" points=\"\n",
       "  439.668,375.869 439.668,11.811 \n",
       "  \"/>\n",
       "<polyline clip-path=\"url(#clip8702)\" style=\"stroke:#000000; stroke-width:0.5; stroke-opacity:0.1; fill:none\" points=\"\n",
       "  580.315,375.869 580.315,11.811 \n",
       "  \"/>\n",
       "<polyline clip-path=\"url(#clip8702)\" style=\"stroke:#000000; stroke-width:0.5; stroke-opacity:0.1; fill:none\" points=\"\n",
       "  45.8557,344.391 580.315,344.391 \n",
       "  \"/>\n",
       "<polyline clip-path=\"url(#clip8702)\" style=\"stroke:#000000; stroke-width:0.5; stroke-opacity:0.1; fill:none\" points=\"\n",
       "  45.8557,296.106 580.315,296.106 \n",
       "  \"/>\n",
       "<polyline clip-path=\"url(#clip8702)\" style=\"stroke:#000000; stroke-width:0.5; stroke-opacity:0.1; fill:none\" points=\"\n",
       "  45.8557,247.822 580.315,247.822 \n",
       "  \"/>\n",
       "<polyline clip-path=\"url(#clip8702)\" style=\"stroke:#000000; stroke-width:0.5; stroke-opacity:0.1; fill:none\" points=\"\n",
       "  45.8557,199.537 580.315,199.537 \n",
       "  \"/>\n",
       "<polyline clip-path=\"url(#clip8702)\" style=\"stroke:#000000; stroke-width:0.5; stroke-opacity:0.1; fill:none\" points=\"\n",
       "  45.8557,151.252 580.315,151.252 \n",
       "  \"/>\n",
       "<polyline clip-path=\"url(#clip8702)\" style=\"stroke:#000000; stroke-width:0.5; stroke-opacity:0.1; fill:none\" points=\"\n",
       "  45.8557,102.968 580.315,102.968 \n",
       "  \"/>\n",
       "<polyline clip-path=\"url(#clip8702)\" style=\"stroke:#000000; stroke-width:0.5; stroke-opacity:0.1; fill:none\" points=\"\n",
       "  45.8557,54.6831 580.315,54.6831 \n",
       "  \"/>\n",
       "<polyline clip-path=\"url(#clip8700)\" style=\"stroke:#000000; stroke-width:1; stroke-opacity:1; fill:none\" points=\"\n",
       "  45.8557,375.869 580.315,375.869 \n",
       "  \"/>\n",
       "<polyline clip-path=\"url(#clip8700)\" style=\"stroke:#000000; stroke-width:1; stroke-opacity:1; fill:none\" points=\"\n",
       "  45.8557,375.869 45.8557,11.811 \n",
       "  \"/>\n",
       "<polyline clip-path=\"url(#clip8700)\" style=\"stroke:#000000; stroke-width:1; stroke-opacity:1; fill:none\" points=\"\n",
       "  158.373,375.869 158.373,370.408 \n",
       "  \"/>\n",
       "<polyline clip-path=\"url(#clip8700)\" style=\"stroke:#000000; stroke-width:1; stroke-opacity:1; fill:none\" points=\"\n",
       "  299.021,375.869 299.021,370.408 \n",
       "  \"/>\n",
       "<polyline clip-path=\"url(#clip8700)\" style=\"stroke:#000000; stroke-width:1; stroke-opacity:1; fill:none\" points=\"\n",
       "  439.668,375.869 439.668,370.408 \n",
       "  \"/>\n",
       "<polyline clip-path=\"url(#clip8700)\" style=\"stroke:#000000; stroke-width:1; stroke-opacity:1; fill:none\" points=\"\n",
       "  580.315,375.869 580.315,370.408 \n",
       "  \"/>\n",
       "<polyline clip-path=\"url(#clip8700)\" style=\"stroke:#000000; stroke-width:1; stroke-opacity:1; fill:none\" points=\"\n",
       "  45.8557,344.391 53.8726,344.391 \n",
       "  \"/>\n",
       "<polyline clip-path=\"url(#clip8700)\" style=\"stroke:#000000; stroke-width:1; stroke-opacity:1; fill:none\" points=\"\n",
       "  45.8557,296.106 53.8726,296.106 \n",
       "  \"/>\n",
       "<polyline clip-path=\"url(#clip8700)\" style=\"stroke:#000000; stroke-width:1; stroke-opacity:1; fill:none\" points=\"\n",
       "  45.8557,247.822 53.8726,247.822 \n",
       "  \"/>\n",
       "<polyline clip-path=\"url(#clip8700)\" style=\"stroke:#000000; stroke-width:1; stroke-opacity:1; fill:none\" points=\"\n",
       "  45.8557,199.537 53.8726,199.537 \n",
       "  \"/>\n",
       "<polyline clip-path=\"url(#clip8700)\" style=\"stroke:#000000; stroke-width:1; stroke-opacity:1; fill:none\" points=\"\n",
       "  45.8557,151.252 53.8726,151.252 \n",
       "  \"/>\n",
       "<polyline clip-path=\"url(#clip8700)\" style=\"stroke:#000000; stroke-width:1; stroke-opacity:1; fill:none\" points=\"\n",
       "  45.8557,102.968 53.8726,102.968 \n",
       "  \"/>\n",
       "<polyline clip-path=\"url(#clip8700)\" style=\"stroke:#000000; stroke-width:1; stroke-opacity:1; fill:none\" points=\"\n",
       "  45.8557,54.6831 53.8726,54.6831 \n",
       "  \"/>\n",
       "<g clip-path=\"url(#clip8700)\">\n",
       "<text style=\"fill:#000000; fill-opacity:1; font-family:Arial,Helvetica Neue,Helvetica,sans-serif; font-size:12; text-anchor:middle;\" transform=\"rotate(0, 158.373, 389.669)\" x=\"158.373\" y=\"389.669\">5</text>\n",
       "</g>\n",
       "<g clip-path=\"url(#clip8700)\">\n",
       "<text style=\"fill:#000000; fill-opacity:1; font-family:Arial,Helvetica Neue,Helvetica,sans-serif; font-size:12; text-anchor:middle;\" transform=\"rotate(0, 299.021, 389.669)\" x=\"299.021\" y=\"389.669\">10</text>\n",
       "</g>\n",
       "<g clip-path=\"url(#clip8700)\">\n",
       "<text style=\"fill:#000000; fill-opacity:1; font-family:Arial,Helvetica Neue,Helvetica,sans-serif; font-size:12; text-anchor:middle;\" transform=\"rotate(0, 439.668, 389.669)\" x=\"439.668\" y=\"389.669\">15</text>\n",
       "</g>\n",
       "<g clip-path=\"url(#clip8700)\">\n",
       "<text style=\"fill:#000000; fill-opacity:1; font-family:Arial,Helvetica Neue,Helvetica,sans-serif; font-size:12; text-anchor:middle;\" transform=\"rotate(0, 580.315, 389.669)\" x=\"580.315\" y=\"389.669\">20</text>\n",
       "</g>\n",
       "<g clip-path=\"url(#clip8700)\">\n",
       "<text style=\"fill:#000000; fill-opacity:1; font-family:Arial,Helvetica Neue,Helvetica,sans-serif; font-size:12; text-anchor:end;\" transform=\"rotate(0, 39.8557, 348.891)\" x=\"39.8557\" y=\"348.891\">8.75</text>\n",
       "</g>\n",
       "<g clip-path=\"url(#clip8700)\">\n",
       "<text style=\"fill:#000000; fill-opacity:1; font-family:Arial,Helvetica Neue,Helvetica,sans-serif; font-size:12; text-anchor:end;\" transform=\"rotate(0, 39.8557, 300.606)\" x=\"39.8557\" y=\"300.606\">9.00</text>\n",
       "</g>\n",
       "<g clip-path=\"url(#clip8700)\">\n",
       "<text style=\"fill:#000000; fill-opacity:1; font-family:Arial,Helvetica Neue,Helvetica,sans-serif; font-size:12; text-anchor:end;\" transform=\"rotate(0, 39.8557, 252.322)\" x=\"39.8557\" y=\"252.322\">9.25</text>\n",
       "</g>\n",
       "<g clip-path=\"url(#clip8700)\">\n",
       "<text style=\"fill:#000000; fill-opacity:1; font-family:Arial,Helvetica Neue,Helvetica,sans-serif; font-size:12; text-anchor:end;\" transform=\"rotate(0, 39.8557, 204.037)\" x=\"39.8557\" y=\"204.037\">9.50</text>\n",
       "</g>\n",
       "<g clip-path=\"url(#clip8700)\">\n",
       "<text style=\"fill:#000000; fill-opacity:1; font-family:Arial,Helvetica Neue,Helvetica,sans-serif; font-size:12; text-anchor:end;\" transform=\"rotate(0, 39.8557, 155.752)\" x=\"39.8557\" y=\"155.752\">9.75</text>\n",
       "</g>\n",
       "<g clip-path=\"url(#clip8700)\">\n",
       "<text style=\"fill:#000000; fill-opacity:1; font-family:Arial,Helvetica Neue,Helvetica,sans-serif; font-size:12; text-anchor:end;\" transform=\"rotate(0, 39.8557, 107.468)\" x=\"39.8557\" y=\"107.468\">10.00</text>\n",
       "</g>\n",
       "<g clip-path=\"url(#clip8700)\">\n",
       "<text style=\"fill:#000000; fill-opacity:1; font-family:Arial,Helvetica Neue,Helvetica,sans-serif; font-size:12; text-anchor:end;\" transform=\"rotate(0, 39.8557, 59.1831)\" x=\"39.8557\" y=\"59.1831\">10.25</text>\n",
       "</g>\n",
       "<polyline clip-path=\"url(#clip8702)\" style=\"stroke:#009af9; stroke-width:1; stroke-opacity:1; fill:none\" points=\"\n",
       "  45.8557,11.811 73.9851,375.869 102.115,375.869 130.244,375.869 158.373,375.869 186.503,375.869 214.632,375.869 242.762,375.869 270.891,375.869 299.021,375.869 \n",
       "  327.15,375.869 355.279,375.869 383.409,375.869 411.538,375.869 439.668,375.869 467.797,375.869 495.927,375.869 524.056,375.869 552.186,375.869 580.315,375.869 \n",
       "  \n",
       "  \"/>\n",
       "<polygon clip-path=\"url(#clip8700)\" points=\"\n",
       "489.608,62.931 562.315,62.931 562.315,32.691 489.608,32.691 \n",
       "  \" fill=\"#ffffff\" fill-opacity=\"1\"/>\n",
       "<polyline clip-path=\"url(#clip8700)\" style=\"stroke:#000000; stroke-width:1; stroke-opacity:1; fill:none\" points=\"\n",
       "  489.608,62.931 562.315,62.931 562.315,32.691 489.608,32.691 489.608,62.931 \n",
       "  \"/>\n",
       "<polyline clip-path=\"url(#clip8700)\" style=\"stroke:#009af9; stroke-width:1; stroke-opacity:1; fill:none\" points=\"\n",
       "  495.608,47.811 531.608,47.811 \n",
       "  \"/>\n",
       "<g clip-path=\"url(#clip8700)\">\n",
       "<text style=\"fill:#000000; fill-opacity:1; font-family:Arial,Helvetica Neue,Helvetica,sans-serif; font-size:12; text-anchor:start;\" transform=\"rotate(0, 537.608, 52.311)\" x=\"537.608\" y=\"52.311\">y1</text>\n",
       "</g>\n",
       "</svg>\n"
      ]
     },
     "execution_count": 52,
     "metadata": {},
     "output_type": "execute_result"
    }
   ],
   "source": [
    "mcMeasure(20, 10, 0, 5, 1/30, 1/4)"
   ]
  }
 ],
 "metadata": {
  "kernelspec": {
   "display_name": "Julia 0.6.3",
   "language": "julia",
   "name": "julia-0.6"
  },
  "language_info": {
   "file_extension": ".jl",
   "mimetype": "application/julia",
   "name": "julia",
   "version": "0.6.3"
  }
 },
 "nbformat": 4,
 "nbformat_minor": 2
}
