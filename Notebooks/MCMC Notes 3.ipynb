{
 "cells": [
  {
   "cell_type": "markdown",
   "metadata": {},
   "source": [
    "### Copy past\n",
    "Importing all previous code from the Julia source files by copy pasting. First we import the types.jl file"
   ]
  },
  {
   "cell_type": "code",
   "execution_count": 1,
   "metadata": {},
   "outputs": [
    {
     "data": {
      "text/plain": [
       "State"
      ]
     },
     "execution_count": 1,
     "metadata": {},
     "output_type": "execute_result"
    }
   ],
   "source": [
    "type LatticeSite\n",
    "    A::Array{Float64,1}  # Fluctuating vector potential\n",
    "    θ⁺::Float64 # Phase of the + component\n",
    "    θ⁻::Float64 # Phase of the - component\n",
    "    u⁺::Float64 # Amplitude of + component\n",
    "end\n",
    "type State\n",
    "    lattice::Array{LatticeSite,2}  # Numerical lattice\n",
    "    γ::Float64    # Order parameter amplitude\n",
    "    g::Float64    # Gauge coupling\n",
    "    ν::Float64    # Anisotropy constant\n",
    "    f::Float64    # Magnetic filling fraction\n",
    "end\n",
    "#\n",
    "#   Utility functions for the types\n",
    "#\n",
    "import Base.copy\n",
    "function copy(ϕ::LatticeSite)\n",
    "    LatticeSite([ϕ.A[1],ϕ.A[2]],ϕ.θ⁺,ϕ.θ⁻,ϕ.u⁺)\n",
    "end\n",
    "function copy(ψ::State)\n",
    "    Lx = size(ψ.lattice,2)\n",
    "    Ly = size(ψ.lattice,1)\n",
    "    lattice = [LatticeSite([ψ.lattice[y,x].A[1],ψ.lattice[y,x].A[2]],ψ.lattice[y,x].θ⁺,ψ.lattice[y,x].θ⁻,\n",
    "            ψ.lattice[y,x].u⁺) for y = 1:Ly, x=1:Lx]\n",
    "    State(lattice, ψ.γ, ψ.g, ψ.ν, ψ.f)\n",
    "end\n",
    "\n",
    "# -------------------------------------------------------------------------------------------------\n",
    "# Outer constructor\n",
    "# Initializes a state ψ that either 1: has zero as value for the the fluctuating gauge potential link variables,\n",
    "# the phase and the u⁺ component (which means the u⁻=1) at each lattice site, or 2: has random values for\n",
    "# these variables. The lattice in state ψ will consist of NxN lattice sites.\n",
    "function State(N::Int64, choice::Int64)\n",
    "    N <= 1 && throw(DomainError())\n",
    "    \n",
    "    # Constants\n",
    "    γ = 1.0    # Order parameter amplitude\n",
    "    g = 1.0    # Gauge coupling\n",
    "    ν = 0.0    # Anisotropy constant\n",
    "    f = 1.0/N    # Magnetic filling fraction\n",
    "    \n",
    "    # Construct ordered state \n",
    "    if choice == 1\n",
    "        \n",
    "        # Construct NxN lattice of NxN LatticeSites\n",
    "        lattice = [LatticeSite([0,0],0,0,0) for y=1:N, x=1:N]\n",
    "        ψ = State(lattice, γ, g, ν, f)\n",
    "        \n",
    "    # Construct random state\n",
    "    elseif choice == 2\n",
    "        Amax::Int64 = 2^10\n",
    "\t\tlattice = [LatticeSite([rand(Uniform(-Amax,Amax)),rand(Uniform(-Amax,Amax))],\n",
    "\t\t\t\t\t\t   rand(Uniform(0,2π)), rand(Uniform(0,2π)), rand()) for y=1:N, x=1:N]\n",
    "        ψ = State(lattice, γ, g, ν, f)\n",
    "        \n",
    "    # We only have choices 1 and 2 so far so other values for choice will give an error.\n",
    "    else\n",
    "        throw(DomainError())\n",
    "    end\n",
    "    ψ\n",
    "end"
   ]
  },
  {
   "cell_type": "markdown",
   "metadata": {},
   "source": [
    "Then we import the functions.jl file"
   ]
  },
  {
   "cell_type": "code",
   "execution_count": 2,
   "metadata": {},
   "outputs": [
    {
     "data": {
      "text/plain": [
       "mcSweep! (generic function with 1 method)"
      ]
     },
     "execution_count": 2,
     "metadata": {},
     "output_type": "execute_result"
    }
   ],
   "source": [
    "using Distributions\n",
    "\n",
    "####################################################################################################################\n",
    "#                            Energy functions\n",
    "#\n",
    "####################################################################################################################\n",
    "\n",
    "# -----------------------------------------------------------------------------------------------------------\n",
    "# Calculate energy contribution from a single term in the energy sum of the Higgs terms.\n",
    "function fᵣ(ϕ::LatticeSite,ϕᵣ₊₁::LatticeSite,ϕᵣ₊₂::LatticeSite,A₀::Float64,γ::Float64,g::Float64,ν::Float64,f::Float64)\n",
    "    energy = 0\n",
    "    uᵣ₊₁⁻ = √(1-ϕᵣ₊₁.u⁺^2)\n",
    "    u⁻ = √(1-ϕ.u⁺^2)\n",
    "    uᵣ₊₂⁻ = √(1-ϕᵣ₊₂.u⁺^2)\n",
    "    A₂ = ϕ.A[2]+A₀\n",
    "    # Kinetic energy Fₖ\n",
    "    energy += -2*γ^2*(ϕᵣ₊₁.u⁺ *ϕ.u⁺*cos(ϕᵣ₊₁.θ⁺-ϕ.θ⁺ + g*ϕ.A[1]) \n",
    "        + ϕᵣ₊₂.u⁺*ϕ.u⁺*cos(ϕᵣ₊₂.θ⁺-ϕ.θ⁺ + g*A₂) \n",
    "        + uᵣ₊₁⁻*u⁻*cos(ϕᵣ₊₁.θ⁻-ϕ.θ⁻ + g*ϕ.A[1]) \n",
    "        + uᵣ₊₂⁻*u⁻*cos(ϕᵣ₊₂.θ⁻-ϕ.θ⁻ + g*A₂) )\n",
    "    # Potential energy Fᵥ\n",
    "    energy += γ^4*ϕ.u⁺^2*u⁻^2*(1+ν*cos(2*(ϕ.θ⁺-ϕ.θ⁻)))\n",
    "    # Andreev Bashkin terms\n",
    "    energy += γ^2*(ν+1)*(u⁻*ϕᵣ₊₂.u⁺*cos(ϕᵣ₊₂.θ⁺-ϕ.θ⁻ + g*A₂) \n",
    "        + ϕ.u⁺*uᵣ₊₂⁻*cos(ϕᵣ₊₂.θ⁻-ϕ.θ⁺ + g*A₂) \n",
    "        - u⁻*ϕᵣ₊₁.u⁺*cos(ϕᵣ₊₁.θ⁺ - ϕ.θ⁻ + g*ϕ.A[1]) \n",
    "        - ϕ.u⁺*uᵣ₊₁⁻*cos(ϕᵣ₊₁.θ⁻ - ϕ.θ⁺ + g*ϕ.A[1]))\n",
    "    # Mixed gradient terms\n",
    "    energy += γ^2*(ν-1)*(ϕᵣ₊₂.u⁺*uᵣ₊₁⁻*sin(ϕᵣ₊₁.θ⁻ - ϕᵣ₊₂.θ⁺ + g*(ϕ.A[1]-A₂)) \n",
    "        - uᵣ₊₂⁻*ϕᵣ₊₁.u⁺*sin(ϕᵣ₊₁.θ⁺ - ϕᵣ₊₂.θ⁻ + g*(ϕ.A[1] - A₂)) \n",
    "        + 2*ϕ.u⁺*u⁻*sin(ϕ.θ⁻-ϕ.θ⁺) \n",
    "        -  u⁻*ϕᵣ₊₂.u⁺*sin(ϕᵣ₊₂.θ⁺-ϕ.θ⁻ + g*A₂) \n",
    "        + ϕ.u⁺*uᵣ₊₂⁻*sin(ϕᵣ₊₂.θ⁻-ϕ.θ⁺ + g*A₂) \n",
    "        + u⁻*ϕᵣ₊₁.u⁺*sin(ϕᵣ₊₁.θ⁺ - ϕ.θ⁻ + g*ϕ.A[1]) \n",
    "        - ϕ.u⁺*uᵣ₊₁⁻*sin(ϕᵣ₊₁.θ⁻ - ϕ.θ⁺ + g*ϕ.A[1]))\n",
    "    energy\n",
    "end\n",
    "\n",
    "# -----------------------------------------------------------------------------------------------------------\n",
    "# Loops over all positions of the lattice of a state and calculates the total energy from the\n",
    "# Higgs-field terms using the function fᵣ() + the energy from the gauge field.\n",
    "function E(ψ::State)\n",
    "    γ = ψ.γ\n",
    "    g = ψ.g\n",
    "    energy = 0.0\n",
    "    ν = ψ.ν\n",
    "    f = ψ.f\n",
    "    Lx = size(ψ.lattice,2)\n",
    "    Ly = size(ψ.lattice,1)\n",
    "    \n",
    "    # Contribution from upper right corner\n",
    "    A⁰ = (Lx-1)*2π*f\n",
    "    ϕ = ψ.lattice[1,Lx]    # Lattice site at upper right corner\n",
    "    ϕᵣ₊₁ = ψ.lattice[1,1]    # Nearest neighbor at r+x is upper left corner\n",
    "    ϕᵣ₊₂ = ψ.lattice[Ly,Lx]  # Nearest neighbor at r+y is lower right corner\n",
    "    energy += fᵣ(ϕ,ϕᵣ₊₁,ϕᵣ₊₂,A⁰,γ,g,ν,f)              # Higgs terms\n",
    "    energy += (ϕ.A[1] + ϕᵣ₊₁.A[2]-ϕᵣ₊₂.A[1]-ϕ.A[2])^2 # Maxwell term\n",
    "    \n",
    "    # Contribution from right boundary paralell to y-axis\n",
    "    # except for the upper right corneϕ.\n",
    "    for y=2:Ly\n",
    "        ϕ = ψ.lattice[y,Lx]\n",
    "        ϕᵣ₊₁ = ψ.lattice[y,1]\n",
    "        ϕᵣ₊₂ = ψ.lattice[y-1,Lx]\n",
    "        A⁰ = (Lx-1)*2*π*f\n",
    "        energy += fᵣ(ϕ,ϕᵣ₊₁,ϕᵣ₊₂,A⁰,γ,g,ν,f)              # Higgs terms\n",
    "        energy += (ϕ.A[1] + ϕᵣ₊₁.A[2]-ϕᵣ₊₂.A[1]-ϕ.A[2])^2\n",
    "    end\n",
    "    \n",
    "    # Contribution from the bulk of lattice sites and upper boundary\n",
    "    for x=1:(Lx-1)\n",
    "        A⁰ = (x-1)*2*π*f        # Constant vector potential.\n",
    "        # Constribution from upper boundary except upper right corner\n",
    "        ϕ = ψ.lattice[1,x]\n",
    "        ϕᵣ₊₁ = ψ.lattice[1,x+1]\n",
    "        ϕᵣ₊₂ = ψ.lattice[Ly,x]\n",
    "        energy += fᵣ(ϕ,ϕᵣ₊₁,ϕᵣ₊₂,A⁰,γ,g,ν,f)              # Higgs terms\n",
    "        energy += (ϕ.A[1] + ϕᵣ₊₁.A[2]-ϕᵣ₊₂.A[1]-ϕ.A[2])^2\n",
    "        \n",
    "        # Contribution from the rest of the bulk.\n",
    "        for y=2:Ly\n",
    "            ϕ = ψ.lattice[y,x]          # Lattice site at position r\n",
    "            ϕᵣ₊₁ = ψ.lattice[y,x+1]       # Nearest neighbor at r+x\n",
    "            ϕᵣ₊₂ = ψ.lattice[y-1,x]       # Nearest neighbor at r+y\n",
    "            \n",
    "            energy += fᵣ(ϕ,ϕᵣ₊₁,ϕᵣ₊₂,A⁰,γ,g,ν,f)              # Higgs terms\n",
    "            energy += (ϕ.A[1] + ϕᵣ₊₁.A[2]-ϕᵣ₊₂.A[1]-ϕ.A[2])^2\n",
    "        end\n",
    "    end\n",
    "    \n",
    "    energy\n",
    "end\n",
    "\n",
    "# -----------------------------------------------------------------------------------------------------------\n",
    "# Find the energy difference between two states; one that has ϕ′ in position r with ϕᵣ... as neighbors,\n",
    "# and one that has ϕ in position r. the position along the x-axis is needed for the constant Gauge field.\n",
    "function ΔE(ψ::State, ϕ′::LatticeSite, ϕ::LatticeSite, ϕᵣ₊₁::LatticeSite, ϕᵣ₊₂::LatticeSite, \n",
    "        ϕᵣ₋₁::LatticeSite, ϕᵣ₋₂::LatticeSite, ϕᵣ₋₁₊₂::LatticeSite, ϕᵣ₋₂₊₁::LatticeSite, x::Int64)\n",
    "    const g = ψ.g\n",
    "    const δE::Float64 = 0.0\n",
    "    \n",
    "    # Calculate u⁻ for these lattice sites\n",
    "    const u′⁻ = √(1-ϕ′.u⁺^2)\n",
    "    const u⁻ = √(1-ϕ.u⁺^2)\n",
    "    const u⁻ᵣ₊₁ = √(1-ϕᵣ₊₁.u⁺^2)\n",
    "    const u⁻ᵣ₊₂ = √(1-ϕᵣ₊₂.u⁺^2)\n",
    "    const u⁻ᵣ₋₁ = √(1-ϕᵣ₋₁.u⁺^2)\n",
    "    const u⁻ᵣ₋₂ = √(1-ϕᵣ₋₂.u⁺^2)\n",
    "    const u⁻ᵣ₋₁₊₂ = √(1-ϕᵣ₋₁₊₂.u⁺^2)\n",
    "    const u⁻ᵣ₋₂₊₁ = √(1-ϕᵣ₋₂₊₁.u⁺^2)\n",
    "    \n",
    "    # Calculate constant link variables\n",
    "    const A⁰ = 2π*ψ.f*(x-1)\n",
    "    #const A⁰₊ = 2π*ψ.f*x\n",
    "    const A⁰₋ = 2π*ψ.f*(x-2)\n",
    "    \n",
    "    # Normal kinetic terms\n",
    "    δE += -2*ψ.γ^2*(ϕᵣ₊₁.u⁺*(ϕ′.u⁺*cos(ϕᵣ₊₁.θ⁺ - ϕ′.θ⁺ + g*ϕ′.A[1]) - ϕ.u⁺*cos(ϕᵣ₊₁.θ⁺ - ϕ.θ⁺ + g*ϕ.A[1]))\n",
    "        + ϕᵣ₋₁.u⁺*(ϕ′.u⁺*cos(ϕ′.θ⁺-ϕᵣ₋₁.θ⁺+g*ϕᵣ₋₁.A[1]) - ϕ.u⁺*cos(ϕ.θ⁺-ϕᵣ₋₁.θ⁺+g*ϕᵣ₋₁.A[1]))\n",
    "        + u⁻ᵣ₊₁*(u′⁻*cos(ϕᵣ₊₁.θ⁻ - ϕ′.θ⁻ + g*ϕ′.A[1]) - u⁻*cos(ϕᵣ₊₁.θ⁻ - ϕ.θ⁻ + g*ϕ.A[1]))\n",
    "        + u⁻ᵣ₋₁*(u′⁻*cos(ϕ′.θ⁻-ϕᵣ₋₁.θ⁻+g*ϕᵣ₋₁.A[1]) - u⁻*cos(ϕ.θ⁻-ϕᵣ₋₁.θ⁻+g*ϕᵣ₋₁.A[1]))\n",
    "        + ϕᵣ₊₂.u⁺*(ϕ′.u⁺*cos(ϕᵣ₊₂.θ⁺ - ϕ′.θ⁺ + g*(ϕ′.A[2]+A⁰)) - ϕ.u⁺*cos(ϕᵣ₊₂.θ⁺ - ϕ.θ⁺ + g*(ϕ.A[2]+A⁰)))\n",
    "        + ϕᵣ₋₂.u⁺*(ϕ′.u⁺*cos(ϕ′.θ⁺-ϕᵣ₋₂.θ⁺+g*(ϕᵣ₋₂.A[2]+A⁰)) - ϕ.u⁺*cos(ϕ.θ⁺-ϕᵣ₋₂.θ⁺+g*(ϕᵣ₋₂.A[2]+A⁰)))\n",
    "        + u⁻ᵣ₊₂*(u′⁻*cos(ϕᵣ₊₂.θ⁻ - ϕ′.θ⁻ + g*(ϕ′.A[2]+A⁰)) - u⁻*cos(ϕᵣ₊₂.θ⁻ - ϕ.θ⁻ + g*(ϕ.A[2]+A⁰)))\n",
    "        + u⁻ᵣ₋₂*(u′⁻*cos(ϕ′.θ⁻-ϕᵣ₋₂.θ⁻+g*(ϕᵣ₋₂.A[2]+A⁰)) - u⁻*cos(ϕ.θ⁻-ϕᵣ₋₂.θ⁻+g*(ϕᵣ₋₂.A[2]+A⁰))))\n",
    "    \n",
    "    # Potential energy terms\n",
    "    δE += ψ.γ^4*((ϕ′.u⁺*u′⁻)^2*(1+ψ.ν*cos(2*(ϕ′.θ⁺ - ϕ′.θ⁻))) - (ϕ.u⁺*u⁻)^2*(1+ψ.ν*cos(2*(ϕ.θ⁺ - ϕ.θ⁻))))\n",
    "    \n",
    "    # Andreev-Bashkin terms\n",
    "    δE += ψ.γ^2*(ψ.ν+1)*(ϕᵣ₊₂.u⁺*(u′⁻*cos(ϕᵣ₊₂.θ⁺-ϕ′.θ⁻+g*(ϕ′.A[2]+A⁰)) - u⁻*cos(ϕᵣ₊₂.θ⁺-ϕ.θ⁻+g*(ϕ.A[2]+A⁰))) \n",
    "        - ϕᵣ₊₁.u⁺*(u′⁻*cos(ϕᵣ₊₁.θ⁺-ϕ′.θ⁻+g*ϕ′.A[1]) - u⁻*cos(ϕᵣ₊₁.θ⁺-ϕ.θ⁻+g*ϕ.A[1])) \n",
    "        + u⁻ᵣ₋₂*(ϕ′.u⁺*cos(ϕ′.θ⁺-ϕᵣ₋₂.θ⁻+g*(ϕᵣ₋₂.A[2]+A⁰)) - ϕ.u⁺*cos(ϕ.θ⁺-ϕᵣ₋₂.θ⁻+g*(ϕᵣ₋₂.A[2]+A⁰))) \n",
    "        - u⁻ᵣ₋₁*(ϕ′.u⁺*cos(ϕ′.θ⁺-ϕᵣ₋₁.θ⁻+g*ϕᵣ₋₁.A[1]) - ϕ.u⁺*cos(ϕ.θ⁺-ϕᵣ₋₁.θ⁻+g*ϕᵣ₋₁.A[1]))\n",
    "        + u⁻ᵣ₊₂*(ϕ′.u⁺*cos(ϕᵣ₊₂.θ⁻-ϕ′.θ⁺+g*(ϕ′.A[2]+A⁰)) - ϕ.u⁺*cos(ϕᵣ₊₂.θ⁻-ϕ.θ⁺+g*(ϕ.A[2]+A⁰))) \n",
    "        - u⁻ᵣ₊₁*(ϕ′.u⁺*cos(ϕᵣ₊₁.θ⁻-ϕ′.θ⁺+g*ϕ′.A[1]) - ϕ.u⁺*cos(ϕᵣ₊₁.θ⁻-ϕ.θ⁺+g*ϕ.A[1])) \n",
    "        + ϕᵣ₋₂.u⁺*(u′⁻*cos(ϕ′.θ⁻-ϕᵣ₋₂.θ⁺+g*(ϕᵣ₋₂.A[2]+A⁰)) - u⁻*cos(ϕ.θ⁻-ϕᵣ₋₂.θ⁺+g*(ϕᵣ₋₂.A[2]+A⁰))) \n",
    "        - ϕᵣ₋₁.u⁺*(u′⁻*cos(ϕ′.θ⁻-ϕᵣ₋₁.θ⁺+g*ϕᵣ₋₁.A[1]) - u⁻*cos(ϕ.θ⁻-ϕᵣ₋₁.θ⁺+g*ϕᵣ₋₁.A[1])))\n",
    "    \n",
    "    # Mixed gradient terms\n",
    "    δE += ψ.γ^2*(ψ.ν-1)*(ϕᵣ₊₂.u⁺*u⁻ᵣ₊₁*(sin(ϕᵣ₊₁.θ⁻-ϕᵣ₊₂.θ⁺ + g*(ϕ′.A[1] - (ϕ′.A[2]+A⁰))) \n",
    "            - sin(ϕᵣ₊₁.θ⁻-ϕᵣ₊₂.θ⁺ + g*(ϕ.A[1] - (ϕ.A[2]+A⁰)))) \n",
    "        -ϕᵣ₊₂.u⁺*(u′⁻*sin(ϕᵣ₊₂.θ⁺-ϕ′.θ⁻+g*(ϕ′.A[2]+A⁰)) - u⁻*sin(ϕᵣ₊₂.θ⁺-ϕ.θ⁻+g*(ϕ.A[2]+A⁰))) \n",
    "        +ϕᵣ₊₁.u⁺*(u′⁻*sin(ϕᵣ₊₁.θ⁺-ϕ′.θ⁻+g*ϕ′.A[1]) - u⁻*sin(ϕᵣ₊₁.θ⁺-ϕ.θ⁻+g*ϕ.A[1])) \n",
    "        +u⁻ᵣ₋₂₊₁*(ϕ′.u⁺*sin(ϕᵣ₋₂₊₁.θ⁻-ϕ′.θ⁺+g*(ϕᵣ₋₂.A[1] - (ϕᵣ₋₂.A[2]+A⁰))) \n",
    "            - ϕ.u⁺*sin(ϕᵣ₋₂₊₁.θ⁻-ϕ.θ⁺+g*(ϕᵣ₋₂.A[1] - (ϕᵣ₋₂.A[2]+A⁰)))) \n",
    "        +ϕᵣ₋₁₊₂.u⁺*(u′⁻*sin(ϕ′.θ⁻-ϕᵣ₋₁₊₂.θ⁺+g*(ϕᵣ₋₁.A[1]-(ϕᵣ₋₁.A[2]+A⁰₋))) \n",
    "            - u⁻*sin(ϕ.θ⁻-ϕᵣ₋₁₊₂.θ⁺+g*(ϕᵣ₋₁.A[1]-(ϕᵣ₋₁.A[2]+A⁰₋)))) \n",
    "        -u⁻ᵣ₋₂*(ϕ′.u⁺*sin(ϕ′.θ⁺-ϕᵣ₋₂.θ⁻+g*(ϕᵣ₋₂.A[2]+A⁰)) - ϕ.u⁺*sin(ϕ.θ⁺-ϕᵣ₋₂.θ⁻+g*(ϕᵣ₋₂.A[2]+A⁰))) \n",
    "        +u⁻ᵣ₋₁*(ϕ′.u⁺*sin(ϕ′.θ⁺-ϕᵣ₋₁.θ⁻+g*ϕᵣ₋₁.A[1]) - ϕ.u⁺*sin(ϕ.θ⁺-ϕᵣ₋₁.θ⁻+g*ϕᵣ₋₁.A[1])) \n",
    "        -(u⁻ᵣ₊₂*ϕᵣ₊₁.u⁺*(sin(ϕᵣ₊₁.θ⁺-ϕᵣ₊₂.θ⁻ + g*(ϕ′.A[1] - (ϕ′.A[2]+A⁰))) \n",
    "            - sin(ϕᵣ₊₁.θ⁺-ϕᵣ₊₂.θ⁻ + g*(ϕ.A[1] - (ϕ.A[2]+A⁰)))) \n",
    "        -u⁻ᵣ₊₂*(ϕ′.u⁺*sin(ϕᵣ₊₂.θ⁻-ϕ′.θ⁺+g*(ϕ′.A[2]+A⁰)) - ϕ.u⁺*sin(ϕᵣ₊₂.θ⁻-ϕ.θ⁺+g*(ϕ.A[2]+A⁰))) \n",
    "        +u⁻ᵣ₊₁*(ϕ′.u⁺*sin(ϕᵣ₊₁.θ⁻-ϕ′.θ⁺+g*ϕ′.A[1]) - ϕ.u⁺*sin(ϕᵣ₊₁.θ⁻-ϕ.θ⁺+g*ϕ.A[1])) \n",
    "        +ϕᵣ₋₂₊₁.u⁺*(u′⁻*sin(ϕᵣ₋₂₊₁.θ⁺-ϕ′.θ⁻+g*(ϕᵣ₋₂.A[1] - (ϕᵣ₋₂.A[2]+A⁰))) \n",
    "            - u⁻*sin(ϕᵣ₋₂₊₁.θ⁺-ϕ.θ⁻+g*(ϕᵣ₋₂.A[1] - (ϕᵣ₋₂.A[2]+A⁰)))) \n",
    "        +u⁻ᵣ₋₁₊₂*(ϕ′.u⁺*sin(ϕ′.θ⁺-ϕᵣ₋₁₊₂.θ⁻+g*(ϕᵣ₋₁.A[1]-(ϕᵣ₋₁.A[2]+A⁰₋))) \n",
    "            - ϕ.u⁺*sin(ϕ.θ⁺-ϕᵣ₋₁₊₂.θ⁻+g*(ϕᵣ₋₁.A[1]-(ϕᵣ₋₁.A[2]+A⁰₋)))) \n",
    "        -ϕᵣ₋₂.u⁺*(u′⁻*sin(ϕ′.θ⁻-ϕᵣ₋₂.θ⁺+g*(ϕᵣ₋₂.A[2]+A⁰)) - u⁻*sin(ϕ.θ⁻-ϕᵣ₋₂.θ⁺+g*(ϕᵣ₋₂.A[2]+A⁰))) \n",
    "        +ϕᵣ₋₁.u⁺*(u′⁻*sin(ϕ′.θ⁻-ϕᵣ₋₁.θ⁺+g*ϕᵣ₋₁.A[1]) - u⁻*sin(ϕ.θ⁻-ϕᵣ₋₁.θ⁺+g*ϕᵣ₋₁.A[1])))\n",
    "        +2*(ϕ′.u⁺*u′⁻*sin(ϕ′.θ⁻-ϕ′.θ⁺) - ϕ.u⁺*u⁻*sin(ϕ.θ⁻-ϕ.θ⁺)))\n",
    "    \n",
    "    # Then calculate the Gauge field contribution\n",
    "    # First contribution from current position\n",
    "    δE += (ϕ′.A[1] + ϕᵣ₊₁.A[2] - ϕᵣ₊₂.A[1] - ϕ′.A[2])^2 - (ϕ.A[1] + ϕᵣ₊₁.A[2] - ϕᵣ₊₂.A[1] - ϕ.A[2])^2\n",
    "    # Then from position r-x\n",
    "    δE += (ϕᵣ₋₁.A[1] + ϕ′.A[2] - ϕᵣ₋₁₊₂.A[1] - ϕᵣ₋₁.A[2])^2 - (ϕᵣ₋₁.A[1] + ϕ.A[2] - ϕᵣ₋₁₊₂.A[1] - ϕᵣ₋₁.A[2])^2\n",
    "    # Then from position r-y\n",
    "    δE += (ϕᵣ₋₂.A[1] + ϕᵣ₋₂₊₁.A[2] - ϕ′.A[1] - ϕᵣ₋₂.A[2])^2 - (ϕᵣ₋₂.A[1] + ϕᵣ₋₂₊₁.A[2] - ϕ.A[1] - ϕᵣ₋₂.A[2])^2\n",
    "end\n",
    "\n",
    "\n",
    "\n",
    "####################################################################################################################\n",
    "#                            Monte-Carlo functions\n",
    "#\n",
    "####################################################################################################################\n",
    "\n",
    "# -----------------------------------------------------------------------------------------------------------\n",
    "# Given a lattice site ϕ, propose a new lattice site with values in intervals around the existing ones.\n",
    "function proposeLocalUpdate(ϕ::LatticeSite)\n",
    "    const θmax = π/2 # How far away from the original value, the proposed new value for θ should be.\n",
    "    const umax = 0.4 # How far away from the original value, the proposed amplitude u should be.\n",
    "    const Amax = 3\n",
    "    \n",
    "    # Construct new configuration at lattice site.\n",
    "    return LatticeSite([ϕ.A[1]+rand(Uniform(-Amax,Amax)), ϕ.A[2]+rand(Uniform(-Amax,Amax))],\n",
    "        mod(ϕ.θ⁺ + rand(Uniform(-θmax,θmax)), 2π), mod(ϕ.θ⁻ + rand(Uniform(-θmax,θmax)), 2π), \n",
    "        mod(ϕ.u⁺ + rand(Uniform(-umax,umax)),1))\n",
    "end\n",
    "\n",
    "# -----------------------------------------------------------------------------------------------------------\n",
    "# Performes a Metropolis Hasting update on a lattice site at position pos in state ψ given an inverse temperature\n",
    "# β and where ϕᵣ... gives nearest and next nearest neighbor sites. Note that pos gives [y,x] of the position of\n",
    "# the lattice site in normal array notation such that [1,1] is the upper left corner.\n",
    "function metropolisHastingUpdate!(ψ::State, pos::Array{Int64,1}, ϕᵣ₊₁::LatticeSite, ϕᵣ₊₂::LatticeSite,\n",
    "        ϕᵣ₋₁::LatticeSite, ϕᵣ₋₂::LatticeSite, ϕᵣ₋₁₊₂::LatticeSite, ϕᵣ₋₂₊₁::LatticeSite, β::Float64)\n",
    "\t# Save the lattice site at the targeted position in a temporary variable ϕ and use the lattice site\n",
    "\t# as a basis for proposing a new lattice site ϕ′. Then find the energy difference between having\n",
    "\t# ϕ′ or ϕ at position pos.\n",
    "    const ϕ = ψ.lattice[pos...]\n",
    "    const ϕ′ = proposeLocalUpdate(ϕ)\n",
    "    const δE = ΔE(ψ, ϕ′, ϕ, ϕᵣ₊₁, ϕᵣ₊₂, ϕᵣ₋₁, ϕᵣ₋₂, ϕᵣ₋₁₊₂, ϕᵣ₋₂₊₁, pos[2])\n",
    "    \n",
    "    # Create random number ran ∈ (0,1].\n",
    "    const ran = rand()\n",
    "    if ran==0\n",
    "        ran=1\n",
    "    end\n",
    "    \n",
    "    # Update state with probability min(1, e^{-β⋅δE})\n",
    "    # and return the energy of final state regardless of whether it gets updated or not.\n",
    "    if log(ran) <= -β*δE\n",
    "        ψ.lattice[pos...] = ϕ′\n",
    "        return δE\n",
    "    else\n",
    "        return 0.0\n",
    "    end\n",
    "end\n",
    "\n",
    "# -----------------------------------------------------------------------------------------------------------\n",
    "# Takes a state ψ with an L×L lattice and tries to update each site on the lattice by running the\n",
    "# metropolisHastingUpdate! function on it. Each part of the boundary is updated separately so that periodic\n",
    "# boundary conditions are taken care of for values stored in each lattice site.\n",
    "function mcSweep!(ψ::State, β::Float64)\n",
    "   \n",
    "    # Find size of the lattice L\n",
    "    const L::Int64 = size(ψ.lattice,1)\n",
    "    \n",
    "    \n",
    "    # Updating upper right corner\n",
    "    const ϕᵣ₊₁ = ψ.lattice[1,1]\n",
    "    const ϕᵣ₊₂ = ψ.lattice[L,L]\n",
    "    const ϕᵣ₋₁ = ψ.lattice[1,L-1]\n",
    "    const ϕᵣ₋₂ = ψ.lattice[2,L]\n",
    "    const ϕᵣ₋₁₊₂ = ψ.lattice[L,L-1]\n",
    "    const ϕᵣ₋₂₊₁ = ψ.lattice[2,1]\n",
    "    metropolisHastingUpdate!(ψ, [1,L], ϕᵣ₊₁, ϕᵣ₊₂, ϕᵣ₋₁, ϕᵣ₋₂, ϕᵣ₋₁₊₂, ϕᵣ₋₂₊₁, β)\n",
    "    \n",
    "    # Updating boundary paralell to y-axis\n",
    "    # except for the upper and lower right corner.\n",
    "    for y=2:(L-1)\n",
    "        ϕᵣ₊₁ = ψ.lattice[y,1]\n",
    "        ϕᵣ₊₂ = ψ.lattice[y-1,L]\n",
    "        ϕᵣ₋₁ = ψ.lattice[y,L-1]\n",
    "        ϕᵣ₋₂ = ψ.lattice[y+1,L]\n",
    "        ϕᵣ₋₁₊₂ = ψ.lattice[y-1,L-1]\n",
    "        ϕᵣ₋₂₊₁ = ψ.lattice[y+1,1]\n",
    "        metropolisHastingUpdate!(ψ, [y,L], ϕᵣ₊₁, ϕᵣ₊₂, ϕᵣ₋₁, ϕᵣ₋₂, ϕᵣ₋₁₊₂, ϕᵣ₋₂₊₁, β)\n",
    "    end\n",
    "    \n",
    "    # Updating lower right corner\n",
    "    ϕᵣ₊₁ = ψ.lattice[L,1]\n",
    "    ϕᵣ₊₂ = ψ.lattice[L-1,L]\n",
    "    ϕᵣ₋₁ = ψ.lattice[L,L-1]\n",
    "    ϕᵣ₋₂ = ψ.lattice[1,L]\n",
    "    ϕᵣ₋₁₊₂ = ψ.lattice[L-1,L-1]\n",
    "    ϕᵣ₋₂₊₁ = ψ.lattice[1,1]\n",
    "    metropolisHastingUpdate!(ψ, [L,L], ϕᵣ₊₁, ϕᵣ₊₂, ϕᵣ₋₁, ϕᵣ₋₂, ϕᵣ₋₁₊₂, ϕᵣ₋₂₊₁, β)\n",
    "    \n",
    "    # Updating lower x-axis boundary except for lower left and right corner\n",
    "    for x=2:(L-1)\n",
    "        ϕᵣ₊₁ = ψ.lattice[L,x+1]\n",
    "        ϕᵣ₊₂ = ψ.lattice[L-1,x]\n",
    "        ϕᵣ₋₁ = ψ.lattice[L,x-1]\n",
    "        ϕᵣ₋₂ = ψ.lattice[1,x]\n",
    "        ϕᵣ₋₁₊₂ = ψ.lattice[L-1,x-1]\n",
    "        ϕᵣ₋₂₊₁ = ψ.lattice[1,x+1]\n",
    "        metropolisHastingUpdate!(ψ, [L,x], ϕᵣ₊₁, ϕᵣ₊₂, ϕᵣ₋₁, ϕᵣ₋₂, ϕᵣ₋₁₊₂, ϕᵣ₋₂₊₁, β)\n",
    "    end\n",
    "    \n",
    "    # Updating lower left corner\n",
    "    ϕᵣ₊₁ = ψ.lattice[L,2]\n",
    "    ϕᵣ₊₂ = ψ.lattice[L-1,1]\n",
    "    ϕᵣ₋₁ = ψ.lattice[L,L]\n",
    "    ϕᵣ₋₂ = ψ.lattice[1,1]\n",
    "    ϕᵣ₋₁₊₂ = ψ.lattice[L-1,L]\n",
    "    ϕᵣ₋₂₊₁ = ψ.lattice[1,2]\n",
    "    metropolisHastingUpdate!(ψ, [L,1], ϕᵣ₊₁, ϕᵣ₊₂, ϕᵣ₋₁, ϕᵣ₋₂, ϕᵣ₋₁₊₂, ϕᵣ₋₂₊₁, β)\n",
    "    \n",
    "    # Updating left y-axis boundary except corners\n",
    "    for y=2:(L-1)\n",
    "        ϕᵣ₊₁ = ψ.lattice[y,2]\n",
    "        ϕᵣ₊₂ = ψ.lattice[y-1,1]\n",
    "        ϕᵣ₋₁ = ψ.lattice[y,L]\n",
    "        ϕᵣ₋₂ = ψ.lattice[y+1,1]\n",
    "        ϕᵣ₋₁₊₂ = ψ.lattice[y-1,L]\n",
    "        ϕᵣ₋₂₊₁ = ψ.lattice[y+1,2]\n",
    "        metropolisHastingUpdate!(ψ, [y,1], ϕᵣ₊₁, ϕᵣ₊₂, ϕᵣ₋₁, ϕᵣ₋₂, ϕᵣ₋₁₊₂, ϕᵣ₋₂₊₁, β)\n",
    "    end\n",
    "    \n",
    "    # Updating upper left corner\n",
    "    ϕᵣ₊₁ = ψ.lattice[1,2]\n",
    "    ϕᵣ₊₂ = ψ.lattice[L,1]\n",
    "    ϕᵣ₋₁ = ψ.lattice[1,L]\n",
    "    ϕᵣ₋₂ = ψ.lattice[2,1]\n",
    "    ϕᵣ₋₁₊₂ = ψ.lattice[L,L]\n",
    "    ϕᵣ₋₂₊₁ = ψ.lattice[2,2]\n",
    "    metropolisHastingUpdate!(ψ, [1,1], ϕᵣ₊₁, ϕᵣ₊₂, ϕᵣ₋₁, ϕᵣ₋₂, ϕᵣ₋₁₊₂, ϕᵣ₋₂₊₁, β)\n",
    "    \n",
    "    # Updating upper x-axis boundary\n",
    "    for x=2:(L-1)\n",
    "        ϕᵣ₊₁ = ψ.lattice[1,x+1]\n",
    "        ϕᵣ₊₂ = ψ.lattice[L,x]\n",
    "        ϕᵣ₋₁ = ψ.lattice[1,x-1]\n",
    "        ϕᵣ₋₂ = ψ.lattice[2,x]\n",
    "        ϕᵣ₋₁₊₂ = ψ.lattice[L,x-1]\n",
    "        ϕᵣ₋₂₊₁ = ψ.lattice[2,x+1]\n",
    "        metropolisHastingUpdate!(ψ, [1,x], ϕᵣ₊₁, ϕᵣ₊₂, ϕᵣ₋₁, ϕᵣ₋₂, ϕᵣ₋₁₊₂, ϕᵣ₋₂₊₁, β)\n",
    "    end\n",
    "    \n",
    "    # This concludes the updates of the boundary\n",
    "    \n",
    "    # Update the bulk\n",
    "    for x=2:(L-1), y=2:(L-1)\n",
    "        ϕᵣ₊₁ = ψ.lattice[y,x+1]\n",
    "        ϕᵣ₊₂ = ψ.lattice[y-1,x]\n",
    "        ϕᵣ₋₁ = ψ.lattice[y,x-1]\n",
    "        ϕᵣ₋₂ = ψ.lattice[y+1,x]\n",
    "        ϕᵣ₋₁₊₂ = ψ.lattice[y-1,x-1]\n",
    "        ϕᵣ₋₂₊₁ = ψ.lattice[y+1,x+1]\n",
    "        metropolisHastingUpdate!(ψ, [y,x], ϕᵣ₊₁, ϕᵣ₊₂, ϕᵣ₋₁, ϕᵣ₋₂, ϕᵣ₋₁₊₂, ϕᵣ₋₂₊₁, β)\n",
    "    end\n",
    "end\n"
   ]
  },
  {
   "cell_type": "code",
   "execution_count": 3,
   "metadata": {},
   "outputs": [
    {
     "data": {
      "text/plain": [
       "BenchmarkTools.Trial: \n",
       "  memory estimate:  712.03 KiB\n",
       "  allocs estimate:  25985\n",
       "  --------------\n",
       "  minimum time:     3.420 ms (0.00% GC)\n",
       "  median time:      3.459 ms (0.00% GC)\n",
       "  mean time:        3.928 ms (3.45% GC)\n",
       "  maximum time:     14.206 ms (54.95% GC)\n",
       "  --------------\n",
       "  samples:          1272\n",
       "  evals/sample:     1"
      ]
     },
     "execution_count": 3,
     "metadata": {},
     "output_type": "execute_result"
    }
   ],
   "source": [
    "using BenchmarkTools\n",
    "ψ = State(40,2)\n",
    "β = 1/4\n",
    "mcSweep!(ψ, β)\n",
    "ψ = State(40,2)\n",
    "@benchmark mcSweep!(ψ,β)"
   ]
  },
  {
   "cell_type": "markdown",
   "metadata": {},
   "source": [
    "# Calculation of Planar structure function of the local vorticity\n",
    "This function is given by\n",
    "$$ S^{(h)}(\\mathbf{k}_\\perp) = \\frac{1}{(fL^3)^2}\\Big\\langle\\Big|\\sum_\\mathbf{r}n_z^{(h)}(\\mathbf{r})e^{i\\mathbf{k}_\\perp\\cdot\\mathbf{r}_\\perp}\\Big|^2\\Big\\rangle $$\n",
    "where\n",
    "$$ \\mathbf{n}^{(h)}(\\mathbf{r}) = \\frac{1}{2\\pi}\\boldsymbol{\\nabla}\\times[\\boldsymbol{\\nabla}\\theta^h - e\\mathbf{A}]$$"
   ]
  },
  {
   "cell_type": "markdown",
   "metadata": {},
   "source": [
    "I am curios whether passing by reference or passing by value makes a difference when calculating $n^{(h)}_z(\\mathbf{r})$. Usually for most types in Julia, when passed as arguments to functions they are passed by reference, however types such as `Int64` and `Float64` are immutable and thus passed by value. Therefore when there immutable variables are passed as arguments, new variables has to be created each time a function is called."
   ]
  },
  {
   "cell_type": "code",
   "execution_count": 4,
   "metadata": {},
   "outputs": [
    {
     "data": {
      "text/plain": [
       "n⁺2 (generic function with 1 method)"
      ]
     },
     "execution_count": 4,
     "metadata": {},
     "output_type": "execute_result"
    }
   ],
   "source": [
    "const two_pi = 2π\n",
    "\n",
    "# -----------------------------------------------------------------------------------------------------------\n",
    "# Returns the local vorticity by preforming a plaquette sum using the gauge-invariant difference of the θ⁺ field.\n",
    "function n⁺(ψ::State, ϕ::LatticeSite, ϕᵣ₊₁::LatticeSite, ϕᵣ₊₂::LatticeSite, ϕᵣ₊₁₊₂::LatticeSite, x::Int64)\n",
    "    return (mod(ϕᵣ₊₁.θ⁺ - ϕ.θ⁺ + ψ.g*ϕ.A[1],two_pi) + mod(ϕᵣ₊₁₊₂.θ⁺ - ϕᵣ₊₁.θ⁺ + ψ.g*(ϕᵣ₊₁.A[2] + two_pi*ψ.f*x), two_pi) \n",
    "        - mod(ϕᵣ₊₁₊₂.θ⁺ - ϕᵣ₊₂.θ⁺ + ψ.g*ϕᵣ₊₂.A[1], two_pi) \n",
    "        - mod(ϕᵣ₊₂.θ⁺ - ϕ.θ⁺ + ψ.g*(ϕ.A[2] + two_pi*ψ.f*(x-1)), two_pi))/two_pi\n",
    "end\n",
    "\n",
    "# An altenative version that is a bad idea (depricated)\n",
    "function n⁺2(Δ₁θ::Float64, Δ₂θᵣ₊₁::Float64, Δ₁θᵣ₊₂::Float64, Δ₂θ::Float64,\n",
    "            Ax::Float64, Ay::Float64, Aᵣ₊₁y::Float64, Aᵣ₊₂x::Float64, g::Float64)\n",
    "    return (mod(Δ₁θ + g*Ax, two_pi) + mod(Δ₂θᵣ₊₁ + g*Aᵣ₊₁y, two_pi) \n",
    "        - mod(Δ₁θᵣ₊₂ + g*Aᵣ₊₂x, two_pi) - mod(Δ₂θ + g*Ay, two_pi))/two_pi\n",
    "end"
   ]
  },
  {
   "cell_type": "markdown",
   "metadata": {},
   "source": [
    "Checking that the two versions of the function gives the expected result and benchmarking which version runs fastest."
   ]
  },
  {
   "cell_type": "code",
   "execution_count": 8,
   "metadata": {},
   "outputs": [
    {
     "name": "stdout",
     "output_type": "stream",
     "text": [
      "true\n"
     ]
    },
    {
     "data": {
      "text/plain": [
       "BenchmarkTools.Trial: \n",
       "  memory estimate:  16 bytes\n",
       "  allocs estimate:  1\n",
       "  --------------\n",
       "  minimum time:     194.968 ns (0.00% GC)\n",
       "  median time:      196.675 ns (0.00% GC)\n",
       "  mean time:        200.479 ns (0.32% GC)\n",
       "  maximum time:     2.467 μs (0.00% GC)\n",
       "  --------------\n",
       "  samples:          10000\n",
       "  evals/sample:     621"
      ]
     },
     "execution_count": 8,
     "metadata": {},
     "output_type": "execute_result"
    }
   ],
   "source": [
    "using BenchmarkTools\n",
    "ψ = State(2, 2)\n",
    "# First evaluating by the first function\n",
    "x1 = n⁺(ψ, ψ.lattice[2,1], ψ.lattice[2,2], ψ.lattice[1,1], ψ.lattice[1,2], 1)\n",
    "# Evaluating by the second function we have to do some calculation in the call\n",
    "x2 = n⁺2(ψ.lattice[2,2].θ⁺-ψ.lattice[2,1].θ⁺, ψ.lattice[1,2].θ⁺ - ψ.lattice[2,2].θ⁺, \n",
    "    ψ.lattice[1,2].θ⁺ - ψ.lattice[1,1].θ⁺, ψ.lattice[1,1].θ⁺ - ψ.lattice[2,1].θ⁺, \n",
    "    ψ.lattice[2,1].A[1], ψ.lattice[2,1].A[2] + two_pi*ψ.f*(1-1), \n",
    "    ψ.lattice[2, 2].A[2] + two_pi*ψ.f*(2-1), ψ.lattice[1,1].A[1], ψ.g)\n",
    "println(x1==x2)\n",
    "@benchmark n⁺(ψ, ψ.lattice[2,1], ψ.lattice[2,2], ψ.lattice[1,1], ψ.lattice[1,2], 1)"
   ]
  },
  {
   "cell_type": "code",
   "execution_count": 27,
   "metadata": {},
   "outputs": [
    {
     "data": {
      "text/plain": [
       "BenchmarkTools.Trial: \n",
       "  memory estimate:  416 bytes\n",
       "  allocs estimate:  26\n",
       "  --------------\n",
       "  minimum time:     941.519 ns (0.00% GC)\n",
       "  median time:      960.259 ns (0.00% GC)\n",
       "  mean time:        1.026 μs (1.66% GC)\n",
       "  maximum time:     47.675 μs (93.05% GC)\n",
       "  --------------\n",
       "  samples:          10000\n",
       "  evals/sample:     27"
      ]
     },
     "execution_count": 27,
     "metadata": {},
     "output_type": "execute_result"
    }
   ],
   "source": [
    "@benchmark n⁺2(ψ.lattice[2,2].θ⁺-ψ.lattice[2,1].θ⁺, ψ.lattice[1,2].θ⁺ - ψ.lattice[2,2].θ⁺, \n",
    "    ψ.lattice[1,2].θ⁺ - ψ.lattice[1,1].θ⁺, ψ.lattice[1,1].θ⁺ - ψ.lattice[2,1].θ⁺, \n",
    "    ψ.lattice[2,1].A[1], ψ.lattice[2,1].A[2] + two_pi*ψ.f*(1-1), \n",
    "    ψ.lattice[2, 2].A[2] + two_pi*ψ.f*(2-1), ψ.lattice[1,1].A[1], ψ.g)"
   ]
  },
  {
   "cell_type": "markdown",
   "metadata": {},
   "source": [
    "As expected, using many call by value arguments is a bad idea."
   ]
  },
  {
   "cell_type": "markdown",
   "metadata": {},
   "source": [
    "Now we want a function that calculates the pure structure function, i.e. not thermally averaged, since this will be taken care of by the Monte-Carlo simulation. The thought is using this function inside to monte-carlo simulation as an observable that we want to take the thermal average of. We thus don't need to divide by $(fL^2)^2$ each time we evaluate it and only need to calculate the sum over $\\mathbf{r}$ at each measurement step."
   ]
  },
  {
   "cell_type": "markdown",
   "metadata": {},
   "source": []
  },
  {
   "cell_type": "code",
   "execution_count": 31,
   "metadata": {},
   "outputs": [
    {
     "data": {
      "text/plain": [
       "BenchmarkTools.Trial: \n",
       "  memory estimate:  64 bytes\n",
       "  allocs estimate:  2\n",
       "  --------------\n",
       "  minimum time:     72.491 ns (0.00% GC)\n",
       "  median time:      73.729 ns (0.00% GC)\n",
       "  mean time:        80.922 ns (7.03% GC)\n",
       "  maximum time:     4.024 μs (91.38% GC)\n",
       "  --------------\n",
       "  samples:          10000\n",
       "  evals/sample:     972"
      ]
     },
     "execution_count": 31,
     "metadata": {},
     "output_type": "execute_result"
    }
   ],
   "source": [
    "# Finding the most efficient way of calculating complex numbers in Julia\n",
    "cdot = 7.381029\n",
    "exp(im*cdot) == exp(Complex(0,cdot)) == cos(cdot) + im*sin(cdot)\n",
    "@benchmark exp(im*cdot)"
   ]
  },
  {
   "cell_type": "code",
   "execution_count": 32,
   "metadata": {},
   "outputs": [
    {
     "data": {
      "text/plain": [
       "BenchmarkTools.Trial: \n",
       "  memory estimate:  64 bytes\n",
       "  allocs estimate:  2\n",
       "  --------------\n",
       "  minimum time:     147.004 ns (0.00% GC)\n",
       "  median time:      148.968 ns (0.00% GC)\n",
       "  mean time:        156.815 ns (3.76% GC)\n",
       "  maximum time:     2.885 μs (91.48% GC)\n",
       "  --------------\n",
       "  samples:          10000\n",
       "  evals/sample:     829"
      ]
     },
     "execution_count": 32,
     "metadata": {},
     "output_type": "execute_result"
    }
   ],
   "source": [
    "@benchmark exp(Complex(0,cdot))"
   ]
  },
  {
   "cell_type": "code",
   "execution_count": 33,
   "metadata": {},
   "outputs": [
    {
     "data": {
      "text/plain": [
       "BenchmarkTools.Trial: \n",
       "  memory estimate:  96 bytes\n",
       "  allocs estimate:  4\n",
       "  --------------\n",
       "  minimum time:     105.544 ns (0.00% GC)\n",
       "  median time:      110.248 ns (0.00% GC)\n",
       "  mean time:        137.889 ns (9.62% GC)\n",
       "  maximum time:     8.166 μs (95.74% GC)\n",
       "  --------------\n",
       "  samples:          10000\n",
       "  evals/sample:     937"
      ]
     },
     "execution_count": 33,
     "metadata": {},
     "output_type": "execute_result"
    }
   ],
   "source": [
    "@benchmark cos(cdot) + im*sin(cdot)"
   ]
  },
  {
   "cell_type": "code",
   "execution_count": 5,
   "metadata": {},
   "outputs": [
    {
     "data": {
      "text/plain": [
       "structureFunctionPluss (generic function with 2 methods)"
      ]
     },
     "execution_count": 5,
     "metadata": {},
     "output_type": "execute_result"
    }
   ],
   "source": [
    "# -----------------------------------------------------------------------------------------------------------\n",
    "function structureFunctionPluss(k::Array{Int64,1}, ψ::State)\n",
    "    sum = Complex(0)\n",
    "    L = size(ψ.lattice, 2)\n",
    "    \n",
    "    # Sum over the corners\n",
    "    # Upper left corner\n",
    "     r = [0, L-1] # For r we assume origo is in position [L,1] of the lattice. \n",
    "                  # Note that r is the same as pos (found previously) with y-axis flipped and -1 in each direction.\n",
    "                  # Additionally we define it such that we get the usual r = [x,y] order of dimensions.\n",
    "     ϕ = ψ.lattice[1,1]\n",
    "     ϕᵣ₊₁ = ψ.lattice[1,2]\n",
    "     ϕᵣ₊₂ = ψ.lattice[L,1]\n",
    "     ϕᵣ₊₁₊₂ = ψ.lattice[L,2]\n",
    "    sum += n⁺(ψ, ϕ, ϕᵣ₊₁, ϕᵣ₊₂, ϕᵣ₊₁₊₂, 1)*exp(im*(k⋅r))\n",
    "    \n",
    "    # Lower left corner\n",
    "     r = [0,0]\n",
    "     ϕ = ψ.lattice[L,1]\n",
    "     ϕᵣ₊₁ = ψ.lattice[L,2]\n",
    "     ϕᵣ₊₂ = ψ.lattice[L-1,1]\n",
    "     ϕᵣ₊₁₊₂ = ψ.lattice[L-1,2]\n",
    "    sum += n⁺(ψ, ϕ, ϕᵣ₊₁, ϕᵣ₊₂, ϕᵣ₊₁₊₂, 1)*exp(im*(k⋅r))\n",
    "    \n",
    "    # Lower right corner\n",
    "     r = [L-1,0]\n",
    "     ϕ = ψ.lattice[L,L]\n",
    "     ϕᵣ₊₁ = ψ.lattice[L,1]\n",
    "     ϕᵣ₊₂ = ψ.lattice[L-1,L]\n",
    "     ϕᵣ₊₁₊₂ = ψ.lattice[L-1,1]\n",
    "    sum += n⁺(ψ, ϕ, ϕᵣ₊₁, ϕᵣ₊₂, ϕᵣ₊₁₊₂, L)*exp(im*(k⋅r))\n",
    "    \n",
    "    # Upper right corner\n",
    "     r = [L-1,L-1]\n",
    "     ϕ = ψ.lattice[1,L]\n",
    "     ϕᵣ₊₁ = ψ.lattice[1,1]\n",
    "     ϕᵣ₊₂ = ψ.lattice[L,L]\n",
    "     ϕᵣ₊₁₊₂ = ψ.lattice[L,1]\n",
    "    sum += n⁺(ψ, ϕ, ϕᵣ₊₁, ϕᵣ₊₂, ϕᵣ₊₁₊₂, L)*exp(im*(k⋅r))\n",
    "    \n",
    "    # Sum over borders without corners\n",
    "    for i = 2:(L-1)\n",
    "        # Upper border (counting in +x direction)\n",
    "        r = [i-1, L-1]\n",
    "        ϕ = ψ.lattice[1,i]\n",
    "        ϕᵣ₊₁ = ψ.lattice[1,i+1]\n",
    "        ϕᵣ₊₂ = ψ.lattice[L,i]\n",
    "        ϕᵣ₊₁₊₂ = ψ.lattice[L,i+1]\n",
    "        sum += n⁺(ψ, ϕ, ϕᵣ₊₁, ϕᵣ₊₂, ϕᵣ₊₁₊₂, i)*exp(im*(k⋅r))\n",
    "        \n",
    "        # Left border (counting in -y direction)\n",
    "        r = [0, L-i]\n",
    "        ϕ = ψ.lattice[i,1]\n",
    "        ϕᵣ₊₁ = ψ.lattice[i,2]\n",
    "        ϕᵣ₊₂ = ψ.lattice[i-1,1]\n",
    "        ϕᵣ₊₁₊₂ = ψ.lattice[i-1,2]\n",
    "        sum += n⁺(ψ, ϕ, ϕᵣ₊₁, ϕᵣ₊₂, ϕᵣ₊₁₊₂, 1)*exp(im*(k⋅r))\n",
    "        \n",
    "        # Lower border (counting in +x direction)\n",
    "        r = [i-1, 0]\n",
    "        ϕ = ψ.lattice[L,i]\n",
    "        ϕᵣ₊₁ = ψ.lattice[L,i+1]\n",
    "        ϕᵣ₊₂ = ψ.lattice[L-1,i]\n",
    "        ϕᵣ₊₁₊₂ = ψ.lattice[L-1,i+1]\n",
    "        sum += n⁺(ψ, ϕ, ϕᵣ₊₁, ϕᵣ₊₂, ϕᵣ₊₁₊₂, i)*exp(im*(k⋅r))\n",
    "        \n",
    "        # Right border (counting in -y direction)\n",
    "        r = [L-1, L-i]\n",
    "        ϕ = ψ.lattice[i,L]\n",
    "        ϕᵣ₊₁ = ψ.lattice[i,1]\n",
    "        ϕᵣ₊₂ = ψ.lattice[i-1,L]\n",
    "        ϕᵣ₊₁₊₂ = ψ.lattice[i-1,1]\n",
    "        sum += n⁺(ψ, ϕ, ϕᵣ₊₁, ϕᵣ₊₂, ϕᵣ₊₁₊₂, L)*exp(im*(k⋅r))\n",
    "    end\n",
    "    \n",
    "    # Sum over rest of the bulk\n",
    "    for h_pos = 2:(L-1)\n",
    "        for v_pos = 2:(L-1)\n",
    "            r = [h_pos-1, L-v_pos]\n",
    "            ϕ = ψ.lattice[v_pos,h_pos]\n",
    "            ϕᵣ₊₁ = ψ.lattice[v_pos,h_pos+1]\n",
    "            ϕᵣ₊₂ = ψ.lattice[v_pos-1,h_pos]\n",
    "            ϕᵣ₊₁₊₂ = ψ.lattice[v_pos-1,h_pos+1]\n",
    "            sum += n⁺(ψ, ϕ, ϕᵣ₊₁, ϕᵣ₊₂, ϕᵣ₊₁₊₂, h_pos)*exp(im*(k⋅r))\n",
    "        end\n",
    "    end\n",
    "    \n",
    "    return abs(sum)\n",
    "end\n",
    "\n",
    "\n",
    "# -----------------------------------------------------------------------------------------------------------\n",
    "# In the second version we assume that k = 0\n",
    "function structureFunctionPluss(ψ::State)\n",
    "    L = size(ψ.lattice, 1)\n",
    "    sum = 0.0\n",
    "    \n",
    "    # Sum over entire lattice and determine nearest neighbors dynamically.\n",
    "    for h_pos = 1:L\n",
    "        for v_pos = 1:L\n",
    "            \n",
    "            r = [h_pos-1, L-v_pos]\n",
    "            ϕ = ψ.lattice[v_pos,h_pos]\n",
    "            ϕᵣ₊₁ = ψ.lattice[v_pos, mod(h_pos, L)+1]\n",
    "            ϕᵣ₊₂ = ψ.lattice[mod(v_pos-2,L)+1, h_pos]\n",
    "            ϕᵣ₊₁₊₂ = ψ.lattice[mod(v_pos-2,L)+1, mod(h_pos, L)+1]\n",
    "            sum += n⁺(ψ, ϕ, ϕᵣ₊₁, ϕᵣ₊₂, ϕᵣ₊₁₊₂, h_pos)\n",
    "        end\n",
    "    end\n",
    "    return sum\n",
    "end"
   ]
  },
  {
   "cell_type": "code",
   "execution_count": 7,
   "metadata": {},
   "outputs": [
    {
     "name": "stdout",
     "output_type": "stream",
     "text": [
      "structureFunctionPluss([0, 0], ψ) = 2.4424906541753444e-14\n",
      "structureFunctionPluss(ψ) = -2.55351295663786e-14\n"
     ]
    },
    {
     "data": {
      "text/plain": [
       "BenchmarkTools.Trial: \n",
       "  memory estimate:  9.48 KiB\n",
       "  allocs estimate:  102\n",
       "  --------------\n",
       "  minimum time:     13.018 μs (0.00% GC)\n",
       "  median time:      13.622 μs (0.00% GC)\n",
       "  mean time:        15.282 μs (7.17% GC)\n",
       "  maximum time:     2.837 ms (96.54% GC)\n",
       "  --------------\n",
       "  samples:          10000\n",
       "  evals/sample:     1"
      ]
     },
     "execution_count": 7,
     "metadata": {},
     "output_type": "execute_result"
    }
   ],
   "source": [
    "ψ = State(30, 2)\n",
    "@show structureFunctionPluss([0,0], ψ)\n",
    "@show structureFunctionPluss(ψ)\n",
    "@benchmark structureFunctionPluss([0,0], ψ)"
   ]
  },
  {
   "cell_type": "code",
   "execution_count": 60,
   "metadata": {},
   "outputs": [
    {
     "data": {
      "text/plain": [
       "BenchmarkTools.Trial: \n",
       "  memory estimate:  84.39 KiB\n",
       "  allocs estimate:  901\n",
       "  --------------\n",
       "  minimum time:     234.424 μs (0.00% GC)\n",
       "  median time:      238.723 μs (0.00% GC)\n",
       "  mean time:        260.965 μs (3.74% GC)\n",
       "  maximum time:     4.409 ms (90.64% GC)\n",
       "  --------------\n",
       "  samples:          10000\n",
       "  evals/sample:     1"
      ]
     },
     "execution_count": 60,
     "metadata": {},
     "output_type": "execute_result"
    }
   ],
   "source": [
    "@benchmark structureFunctionPluss(ψ)"
   ]
  },
  {
   "cell_type": "code",
   "execution_count": null,
   "metadata": {},
   "outputs": [],
   "source": []
  }
 ],
 "metadata": {
  "kernelspec": {
   "display_name": "Julia 0.6.3",
   "language": "julia",
   "name": "julia-0.6"
  },
  "language_info": {
   "file_extension": ".jl",
   "mimetype": "application/julia",
   "name": "julia",
   "version": "0.6.3"
  }
 },
 "nbformat": 4,
 "nbformat_minor": 2
}
