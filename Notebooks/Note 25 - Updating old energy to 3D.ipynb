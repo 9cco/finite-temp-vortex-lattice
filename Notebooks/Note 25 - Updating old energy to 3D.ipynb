{
 "cells": [
  {
   "cell_type": "code",
   "execution_count": 1,
   "metadata": {},
   "outputs": [],
   "source": [
    "# Import source\n",
    "\n",
    "using Base.Test\n",
    "using Plots\n",
    "gr()\n",
    "using Distributions\n",
    "\n",
    "cd(\"../Source\")\n",
    "include(\"ChiralMC.jl\")\n",
    "using ChiralMC\n",
    "\n",
    "include(\"functions_msc.jl\")\n",
    "include(\"functions_observables.jl\")\n",
    "\n",
    "\n",
    "cd(\"../Notebooks/\")"
   ]
  },
  {
   "cell_type": "code",
   "execution_count": 18,
   "metadata": {},
   "outputs": [
    {
     "data": {
      "text/plain": [
       "ΔE (generic function with 1 method)"
      ]
     },
     "execution_count": 18,
     "metadata": {},
     "output_type": "execute_result"
    }
   ],
   "source": [
    "include(\"../Source/functions_energy.jl\")"
   ]
  },
  {
   "cell_type": "code",
   "execution_count": 2,
   "metadata": {},
   "outputs": [
    {
     "data": {
      "text/plain": [
       "testEnDiff (generic function with 1 method)"
      ]
     },
     "execution_count": 2,
     "metadata": {},
     "output_type": "execute_result"
    }
   ],
   "source": [
    "function testEnDiff(ψ₀::State, ψ::State, dE::Float64)\n",
    "    E₀ = E(ψ₀)\n",
    "    E′ = E(ψ)\n",
    "    if E₀ > E′\n",
    "        same = isapprox(E′-dE, E₀; atol=0, rtol=1e-13)\n",
    "    else\n",
    "        same = isapprox(E′, E₀+dE; atol=0, rtol=1e-13)\n",
    "    end\n",
    "    if !same\n",
    "        println(\"|(E′-E₀)-dE|/max(E′-E₀, dE) = $(abs((E′-E₀)-dE)/max(E′-E₀, dE))\")\n",
    "        println(\"E₀\\t\\t\\tΔE\\t\\t\\tE′-E₀\\t\\t\\t|ΔE-E₁-E₂|\")\n",
    "        println(\"$E₀\\t$dE\\t$(E′-E₀)\\t$(abs(dE - (E′-E₀)))\")\n",
    "    end\n",
    "    return same\n",
    "end"
   ]
  },
  {
   "cell_type": "code",
   "execution_count": 6,
   "metadata": {},
   "outputs": [
    {
     "name": "stdout",
     "output_type": "stream",
     "text": [
      "dE =\t-1018.8506457968613\n",
      "E-E₀ =\t-1018.8506457968747\n",
      "E₀ =\t-3936.995989561487\n",
      "|dE - (E-E₀)| =\t1.3415046851150692e-11\n"
     ]
    }
   ],
   "source": [
    "g = 0.3; ν = 0.3; L = 12; T = 0.12; γ = 1.0; κ₅ = 1.0; f = 1.4/L#0.12/L\n",
    "β = 1/T\n",
    "# Create system\n",
    "syst = SystConstants(L, L, γ, 1/g^2, ν, κ₅, f, β)\n",
    "ψ₀ = State(1, syst)\n",
    "ψ = copy(ψ₀)\n",
    "dE = 0.0\n",
    "for i = 1:20\n",
    "    dE += mcSweepEn!(ψ)\n",
    "end\n",
    "E′ = E(ψ)\n",
    "E⁰ = E(ψ₀)\n",
    "println(\"dE =\\t$(dE)\\nE-E₀ =\\t$(E(ψ)-E(ψ₀))\\nE₀ =\\t$(E(ψ₀))\\n|dE - (E-E₀)| =\\t$(abs(dE-(E′-E⁰)))\")"
   ]
  },
  {
   "cell_type": "code",
   "execution_count": 4,
   "metadata": {},
   "outputs": [
    {
     "name": "stdout",
     "output_type": "stream",
     "text": [
      "\n",
      "Testing Energy difference function ΔE\n",
      "----------------------------------------------------------------\n",
      "Checking that ΔE and E get same result\n",
      "\u001b[1m\u001b[32mTest Passed\u001b[39m\u001b[22m\n"
     ]
    }
   ],
   "source": [
    "println(\"\\nTesting Energy difference function ΔE\\n----------------------------------------------------------------\")\n",
    "# Test case. We make a random 3x3 lattice, and put two different lattice sites in the middle\n",
    "# i.e. the [2,2] position. Then we use the different functions to calculate the energy\n",
    "# difference associated with this change.\n",
    "\n",
    "L = 5\n",
    "ψ₂ = State(1,L)\n",
    "ϕ′ = LatticeSite() # Get random lattice site\n",
    "ψ₁ = copy(ψ₂)\n",
    "@test ψ₁.nb[3,2,2].ϕᵣ₊₂.u⁺ == ψ₁.lattice[2,2,2].u⁺\n",
    "@test ψ₁.nb[3,2,2].ϕᵣ₊₂ == ψ₁.lattice[2,2,2]\n",
    "set!(ψ₁.lattice[2,2,2], ϕ′)\n",
    "@test ψ₁.nb[3,2,2].ϕᵣ₊₂.u⁺ == ϕ′.u⁺\n",
    "\n",
    "dE = ΔE(ϕ′,ψ₂.lattice[2,2,2],ψ₂.nb[2,2,2],ψ₂.nnb[2,2,2],ψ₂.nnnb[2,2,2], 2,ψ₂.consts)\n",
    "println(\"Checking that ΔE and E get same result\")\n",
    "println(@test testEnDiff(ψ₂, ψ₁, dE))\n",
    "#println(@test isapprox(E(ψ₁)-E(ψ₂), dE; atol=0, rtol=1e-13))\n"
   ]
  },
  {
   "cell_type": "code",
   "execution_count": 5,
   "metadata": {},
   "outputs": [
    {
     "name": "stdout",
     "output_type": "stream",
     "text": [
      "Checking that ΔE gives same result as E'-E on all different sites of the lattice\n",
      "\u001b[1m\u001b[32mTest Passed\u001b[39m\u001b[22m\n"
     ]
    }
   ],
   "source": [
    "g = 0.3; ν = 0.3; L = 12; T = 0.12; γ = 1.0; κ₅ = 1.0; f = 1.4/L#0.12/L\n",
    "β = 1/T\n",
    "# Create system\n",
    "syst = SystConstants(L, L, γ, 1/g^2, ν, κ₅, f, β)\n",
    "ψ₀ = State(2, syst)\n",
    "println(\"Checking that ΔE gives same result as E'-E on all different sites of the lattice\")\n",
    "ψ = copy(ψ₀)\n",
    "for z_pos = 1:L, h_pos = 1:L, v_pos = 1:L\n",
    "    ψ = copy(ψ₀)\n",
    "    ϕ′ = LatticeSite()\n",
    "    dE = ΔE(ϕ′, ψ₀.lattice[v_pos,h_pos,z_pos],ψ₀.nb[v_pos,h_pos,z_pos],ψ₀.nnb[v_pos,h_pos,z_pos],ψ₀.nnnb[v_pos,h_pos,z_pos],h_pos,ψ₀.consts)\n",
    "    set!(ψ.lattice[v_pos,h_pos,z_pos], ϕ′)\n",
    "    if !testEnDiff(ψ₀, ψ, dE)\n",
    "        println(\"[$(v_pos), $(h_pos), $(z_pos)]\")\n",
    "    end\n",
    "    #@test isapprox(E(ψ₁)-E(ψ₂), dE; atol=0, rtol=1e-13)\n",
    "end\n",
    "println(@test isapprox(E(ψ)-dE, E(ψ₀); atol=0, rtol=1e-13))\n",
    "\n"
   ]
  },
  {
   "cell_type": "code",
   "execution_count": 6,
   "metadata": {},
   "outputs": [
    {
     "name": "stdout",
     "output_type": "stream",
     "text": [
      "\n",
      "Testing Energy difference function ΔE\n",
      "----------------------------------------------------------------\n",
      "Checking that ΔE and E get the same result\n",
      "ΔE\t\t\tE₁-E₂\n",
      "470.02615900889134\t470.0261590088908\n",
      "1.000000000000001\n",
      "\u001b[1m\u001b[32mTest Passed\u001b[39m\u001b[22m\n"
     ]
    }
   ],
   "source": [
    "println(\"\\nTesting Energy difference function ΔE\\n----------------------------------------------------------------\")\n",
    "# Test case. We make a random 5x5 lattice, and put two different lattice sites in the middle\n",
    "# i.e. the [2,2] position. Then we use the different functions to calculate the energy\n",
    "# difference associated with this change.\n",
    "\n",
    "L = 5\n",
    "ψ₂ = State(2,L)\n",
    "site = LatticeSite() # Get random lattice site\n",
    "ψ₁ = copy(ψ₂)\n",
    "@test ψ₁.nb[3,2].ϕᵣ₊₂.u⁺ == ψ₁.lattice[2,2].u⁺\n",
    "@test ψ₁.nb[3,2].ϕᵣ₊₂ == ψ₁.lattice[2,2]\n",
    "set!(ψ₁.lattice[2,2], site)\n",
    "@test ψ₁.nb[3,2].ϕᵣ₊₂.u⁺ == site.u⁺\n",
    "\n",
    "dE = ΔE(site,ψ₂.lattice[2,2],ψ₂.nb[2,2],ψ₂.nnb[2,2],ψ₂.nnnb[2,2], 2,ψ₂.consts)\n",
    "println(\"Checking that ΔE and E get the same result\")\n",
    "println(\"ΔE\\t\\t\\tE₁-E₂\")\n",
    "println(\"$dE\\t$(E(ψ₁)-E(ψ₂))\")\n",
    "println(dE/(E(ψ₁)-E(ψ₂)))\n",
    "println(@test isapprox(E(ψ₁)-E(ψ₂), dE; atol=0, rtol=1e-13))"
   ]
  },
  {
   "cell_type": "code",
   "execution_count": 7,
   "metadata": {},
   "outputs": [
    {
     "name": "stdout",
     "output_type": "stream",
     "text": [
      "Checking that ΔE gives same result as E'-E on all different sites of the lattice\n",
      "[v_pos, h_pos]\t|ΔE-(E₁-E₂)|\n",
      "[1, 1]\t\t0.0\n",
      "[2, 1]\t\t3.979039320256561e-13\n",
      "[3, 1]\t\t4.547473508864641e-13\n",
      "[4, 1]\t\t1.7053025658242404e-13\n",
      "[5, 1]\t\t8.526512829121202e-14\n",
      "[1, 2]\t\t5.684341886080802e-14\n",
      "[2, 2]\t\t4.547473508864641e-13\n",
      "[3, 2]\t\t2.842170943040401e-14\n",
      "[4, 2]\t\t1.4210854715202004e-13\n",
      "[5, 2]\t\t4.547473508864641e-13\n",
      "[1, 3]\t\t4.547473508864641e-13\n",
      "[2, 3]\t\t3.410605131648481e-13\n",
      "[3, 3]\t\t5.684341886080801e-13\n",
      "[4, 3]\t\t5.684341886080801e-13\n",
      "[5, 3]\t\t2.2737367544323206e-13\n",
      "[1, 4]\t\t5.684341886080802e-14\n",
      "[2, 4]\t\t5.684341886080801e-13\n",
      "[3, 4]\t\t2.1316282072803006e-13\n",
      "[4, 4]\t\t0.0\n",
      "[5, 4]\t\t1.9895196601282805e-13\n",
      "[1, 5]\t\t3.410605131648481e-13\n",
      "[2, 5]\t\t7.958078640513122e-13\n",
      "[3, 5]\t\t2.842170943040401e-14\n",
      "[4, 5]\t\t1.8474111129762605e-13\n",
      "[5, 5]\t\t4.547473508864641e-13\n",
      "\u001b[1m\u001b[32mTest Passed\u001b[39m\u001b[22m\n"
     ]
    }
   ],
   "source": [
    "\n",
    "println(\"Checking that ΔE gives same result as E'-E on all different sites of the lattice\")\n",
    "println(\"[v_pos, h_pos]\\t|ΔE-(E₁-E₂)|\")\n",
    "for h_pos = 1:L, v_pos = 1:L\n",
    "    ψ₁ = copy(ψ₂)\n",
    "    ϕ′ = LatticeSite()\n",
    "    dE = ΔE(ϕ′, ψ₂.lattice[v_pos,h_pos],ψ₂.nb[v_pos,h_pos],ψ₂.nnb[v_pos,h_pos],ψ₂.nnnb[v_pos,h_pos],h_pos,ψ₂.consts)\n",
    "    set!(ψ₁.lattice[v_pos,h_pos], ϕ′)\n",
    "    println(\"[$(v_pos), $h_pos]\\t\\t$(abs(dE-(E(ψ₁)-E(ψ₂))))\")\n",
    "    @test isapprox(E(ψ₁)-E(ψ₂), dE; atol=0, rtol=5e-13)\n",
    "end\n",
    "println(@test isapprox(E(ψ₁)-E(ψ₂), dE; atol=0, rtol=5e-13))\n"
   ]
  },
  {
   "cell_type": "code",
   "execution_count": null,
   "metadata": {},
   "outputs": [],
   "source": []
  }
 ],
 "metadata": {
  "kernelspec": {
   "display_name": "Julia -p 2 0.6.4",
   "language": "julia",
   "name": "julia--p-2-0.6"
  },
  "language_info": {
   "file_extension": ".jl",
   "mimetype": "application/julia",
   "name": "julia",
   "version": "0.6.4"
  }
 },
 "nbformat": 4,
 "nbformat_minor": 2
}
