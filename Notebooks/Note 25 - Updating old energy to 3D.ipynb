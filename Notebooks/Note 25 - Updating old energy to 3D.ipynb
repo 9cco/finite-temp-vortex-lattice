{
 "cells": [
  {
   "cell_type": "code",
   "execution_count": 1,
   "metadata": {},
   "outputs": [],
   "source": [
    "# Import source\n",
    "\n",
    "using Test\n",
    "using Plots\n",
    "pyplot()\n",
    "\n",
    "using Distributions\n",
    "using MCMCDiagnostics\n",
    "using StatsBase\n",
    "\n",
    "cd(\"../Source\")\n",
    "src_path = \"../Source/\"\n",
    "include(src_path*\"types.jl\")\n",
    "include(src_path*\"functions_msc.jl\")\n",
    "include(src_path*\"functions_neighbors.jl\")\n",
    "include(src_path*\"functions_types.jl\")\n",
    "include(src_path*\"functions_energy.jl\")\n",
    "include(src_path*\"functions_mc.jl\")\n",
    "#@everywhere include(src_path*\"functions_thermalization.jl\")\n",
    "#@everywhere include(src_path*\"functions_observables.jl\")\n",
    "#@everywhere include(src_path*\"functions_symmetries.jl\")\n",
    "include(src_path*\"Grid/xy_energy.jl\")\n",
    "\n",
    "\n",
    "cd(\"../Notebooks/\")"
   ]
  },
  {
   "cell_type": "code",
   "execution_count": 7,
   "metadata": {},
   "outputs": [
    {
     "data": {
      "text/plain": [
       "ΔE (generic function with 2 methods)"
      ]
     },
     "execution_count": 7,
     "metadata": {},
     "output_type": "execute_result"
    }
   ],
   "source": [
    "include(src_path*\"Grid/xy_energy.jl\")"
   ]
  },
  {
   "cell_type": "code",
   "execution_count": 18,
   "metadata": {},
   "outputs": [
    {
     "data": {
      "text/plain": [
       "ΔE (generic function with 1 method)"
      ]
     },
     "execution_count": 18,
     "metadata": {},
     "output_type": "execute_result"
    }
   ],
   "source": [
    "include(\"../Source/functions_energy.jl\")"
   ]
  },
  {
   "cell_type": "code",
   "execution_count": 2,
   "metadata": {},
   "outputs": [
    {
     "data": {
      "text/plain": [
       "testEnDiff (generic function with 2 methods)"
      ]
     },
     "execution_count": 2,
     "metadata": {},
     "output_type": "execute_result"
    }
   ],
   "source": [
    "function testEnDiff(ψ₀::State, ψ::State, dE::Float64)\n",
    "    E₀ = E(ψ₀)\n",
    "    E′ = E(ψ)\n",
    "    if E₀ > E′\n",
    "        same = isapprox(E′-dE, E₀; atol=0, rtol=1e-13)\n",
    "    else\n",
    "        same = isapprox(E′, E₀+dE; atol=0, rtol=1e-13)\n",
    "    end\n",
    "    if !same\n",
    "        println(\"|(E′-E₀)-dE|/max(E′-E₀, dE) = $(abs((E′-E₀)-dE)/max(E′-E₀, dE))\")\n",
    "        println(\"E₀\\t\\t\\tΔE\\t\\t\\tE′-E₀\\t\\t\\t|ΔE-E₁-E₂|\")\n",
    "        println(\"$E₀\\t$dE\\t$(E′-E₀)\\t$(abs(dE - (E′-E₀)))\")\n",
    "    end\n",
    "    return same\n",
    "end"
   ]
  },
  {
   "cell_type": "code",
   "execution_count": 16,
   "metadata": {},
   "outputs": [
    {
     "name": "stdout",
     "output_type": "stream",
     "text": [
      "dE =\t13751.968148355956\n",
      "E-E₀ =\t13751.968148355969\n",
      "E₀ =\t2975.0040104385125\n",
      "|dE - (E-E₀)| =\t1.2732925824820995e-11\n"
     ]
    }
   ],
   "source": [
    "g = 0.3; ν = 0.3; L = 12; T = 4.3; κ₅ = 1.0; f = 1.4/L#0.12/L\n",
    "β = 1/T\n",
    "sim = Controls(0.4, 0.4, 0.18)\n",
    "# Create system\n",
    "syst = SystConstants(L, L, 1/g^2, ν, κ₅, f, β)\n",
    "ψ₀ = State(1, syst)\n",
    "ψ = copy(ψ₀)\n",
    "dE = 0.0\n",
    "for i = 1:5000\n",
    "    dE += mcSweepEn!(ψ, sim)\n",
    "end\n",
    "E′ = E(ψ)\n",
    "E⁰ = E(ψ₀)\n",
    "println(\"dE =\\t$(dE)\\nE-E₀ =\\t$(E(ψ)-E(ψ₀))\\nE₀ =\\t$(E(ψ₀))\\n|dE - (E-E₀)| =\\t$(abs(dE-(E′-E⁰)))\")"
   ]
  },
  {
   "cell_type": "code",
   "execution_count": 17,
   "metadata": {},
   "outputs": [
    {
     "name": "stdout",
     "output_type": "stream",
     "text": [
      "\n",
      "Testing Energy difference function ΔE\n",
      "----------------------------------------------------------------\n",
      "Checking that ΔE and E get same result\n",
      "\u001b[32m\u001b[1mTest Passed\u001b[22m\u001b[39m\n"
     ]
    }
   ],
   "source": [
    "println(\"\\nTesting Energy difference function ΔE\\n----------------------------------------------------------------\")\n",
    "# Test case. We make a random 3x3 lattice, and put two different lattice sites in the middle\n",
    "# i.e. the [2,2] position. Then we use the different functions to calculate the energy\n",
    "# difference associated with this change.\n",
    "\n",
    "L = 5\n",
    "syst = SystConstants(L, L, 1/g^2, ν, κ₅, f, β)\n",
    "ψ₂ = State(1, syst)\n",
    "ϕ′ = LatticeSite() # Get random lattice site\n",
    "ψ₁ = copy(ψ₂)\n",
    "@test ψ₁.nb[3,2,2].ϕᵣ₊₂.u⁺ == ψ₁.lattice[2,2,2].u⁺\n",
    "@test ψ₁.nb[3,2,2].ϕᵣ₊₂ == ψ₁.lattice[2,2,2]\n",
    "set!(ψ₁.lattice[2,2,2], ϕ′)\n",
    "@test ψ₁.nb[3,2,2].ϕᵣ₊₂.u⁺ == ϕ′.u⁺\n",
    "\n",
    "dE = ΔE(ϕ′,ψ₂.lattice[2,2,2],ψ₂.nb[2,2,2],ψ₂.nnb[2,2,2],ψ₂.nnnb[2,2,2], 2,ψ₂.consts)\n",
    "println(\"Checking that ΔE and E get same result\")\n",
    "println(@test testEnDiff(ψ₂, ψ₁, dE))\n",
    "#println(@test isapprox(E(ψ₁)-E(ψ₂), dE; atol=0, rtol=1e-13))\n"
   ]
  },
  {
   "cell_type": "code",
   "execution_count": 19,
   "metadata": {},
   "outputs": [
    {
     "name": "stdout",
     "output_type": "stream",
     "text": [
      "Checking that ΔE gives same result as E'-E on all different sites of the lattice\n",
      "\u001b[32m\u001b[1mTest Passed\u001b[22m\u001b[39m\n"
     ]
    }
   ],
   "source": [
    "g = 0.3; ν = 0.3; L = 12; T = 4.12; κ₅ = 1.0; f = 1.4/L#0.12/L\n",
    "β = 1/T\n",
    "# Create system\n",
    "syst = SystConstants(L, L, 1/g^2, ν, κ₅, f, β)\n",
    "ψ₀ = State(2, syst)\n",
    "println(\"Checking that ΔE gives same result as E'-E on all different sites of the lattice\")\n",
    "ψ = copy(ψ₀)\n",
    "for z_pos = 1:L, h_pos = 1:L, v_pos = 1:L\n",
    "    ψ = copy(ψ₀)\n",
    "    ϕ′ = LatticeSite()\n",
    "    dE = ΔE(ϕ′, ψ₀.lattice[v_pos,h_pos,z_pos],ψ₀.nb[v_pos,h_pos,z_pos],ψ₀.nnb[v_pos,h_pos,z_pos],ψ₀.nnnb[v_pos,h_pos,z_pos],h_pos,ψ₀.consts)\n",
    "    set!(ψ.lattice[v_pos,h_pos,z_pos], ϕ′)\n",
    "    if !testEnDiff(ψ₀, ψ, dE)\n",
    "        println(\"[$(v_pos), $(h_pos), $(z_pos)]\")\n",
    "    end\n",
    "    #@test isapprox(E(ψ₁)-E(ψ₂), dE; atol=0, rtol=1e-13)\n",
    "end\n",
    "println(@test isapprox(E(ψ)-dE, E(ψ₀); atol=0, rtol=1e-13))\n",
    "\n"
   ]
  },
  {
   "cell_type": "code",
   "execution_count": 21,
   "metadata": {},
   "outputs": [
    {
     "name": "stdout",
     "output_type": "stream",
     "text": [
      "\n",
      "Testing Energy difference function ΔE\n",
      "----------------------------------------------------------------\n",
      "Checking that ΔE and E get the same result\n",
      "ΔE\t\t\tE₁-E₂\n",
      "-2556.254969927242\t-2556.254969927133\n",
      "1.0000000000000426\n",
      "\u001b[32m\u001b[1mTest Passed\u001b[22m\u001b[39m\n"
     ]
    }
   ],
   "source": [
    "println(\"\\nTesting Energy difference function ΔE\\n----------------------------------------------------------------\")\n",
    "# Test case. We make a random 5x5 lattice, and put two different lattice sites in the middle\n",
    "# i.e. the [2,2] position. Then we use the different functions to calculate the energy\n",
    "# difference associated with this change.\n",
    "\n",
    "L = 5\n",
    "syst = SystConstants(L, L, 1/g^2, ν, κ₅, f, β)\n",
    "ψ₂ = State(2,syst)\n",
    "site = LatticeSite() # Get random lattice site\n",
    "ψ₁ = copy(ψ₂)\n",
    "@test ψ₁.nb[3,2,1].ϕᵣ₊₂.u⁺ == ψ₁.lattice[2,2,1].u⁺\n",
    "@test ψ₁.nb[3,2,1].ϕᵣ₊₂ == ψ₁.lattice[2,2,1]\n",
    "set!(ψ₁.lattice[2,2,1], site)\n",
    "@test ψ₁.nb[3,2,1].ϕᵣ₊₂.u⁺ == site.u⁺\n",
    "\n",
    "dE = ΔE(site,ψ₂.lattice[2,2,1],ψ₂.nb[2,2,1],ψ₂.nnb[2,2,1],ψ₂.nnnb[2,2,1], 2,ψ₂.consts)\n",
    "println(\"Checking that ΔE and E get the same result\")\n",
    "println(\"ΔE\\t\\t\\tE₁-E₂\")\n",
    "println(\"$dE\\t$(E(ψ₁)-E(ψ₂))\")\n",
    "println(dE/(E(ψ₁)-E(ψ₂)))\n",
    "println(@test isapprox(E(ψ₁)-E(ψ₂), dE; atol=0, rtol=1e-13))"
   ]
  },
  {
   "cell_type": "code",
   "execution_count": 23,
   "metadata": {},
   "outputs": [
    {
     "data": {
      "text/plain": [
       "testEnDiff (generic function with 2 methods)"
      ]
     },
     "execution_count": 23,
     "metadata": {},
     "output_type": "execute_result"
    }
   ],
   "source": [
    "# -------------------------------------------------------------------------------------------------\n",
    "# Function that uses that changes one lattice site at the time in the whole lattice of the State and\n",
    "# calculates the difference in energy between using E(ψ′)-E(ψ) or using ΔE to calculate energy differences.\n",
    "function testEnDiff(ψ₀::State)\n",
    "    println(\"Checking that ΔE gives same result as E'-E on all different sites of the lattice\")\n",
    "    L₃ = ψ₀.consts.L₃\n",
    "    L = ψ₀.consts.L\n",
    "    ψ = copy(ψ₀)\n",
    "    dE = 0\n",
    "    for z_pos = 1:L₃, h_pos = 1:L, v_pos = 1:L\n",
    "        ψ = copy(ψ₀)\n",
    "        ϕ′ = LatticeSite()\n",
    "        dE = ΔE(ϕ′, ψ₀.lattice[v_pos,h_pos,z_pos],ψ₀.nb[v_pos,h_pos,z_pos],ψ₀.nnb[v_pos,h_pos,z_pos],ψ₀.nnnb[v_pos,h_pos,z_pos],h_pos,ψ₀.consts)\n",
    "        set!(ψ.lattice[v_pos,h_pos,z_pos], ϕ′)\n",
    "        if !testEnDiff(ψ₀, ψ, dE)\n",
    "            println(\"[$(v_pos), $(h_pos), $(z_pos)]\")\n",
    "        end\n",
    "        #@test isapprox(E(ψ₁)-E(ψ₂), dE; atol=0, rtol=1e-13)\n",
    "    end\n",
    "    return @test isapprox(E(ψ)-dE, E(ψ₀); atol=0, rtol=1e-13)\n",
    "end"
   ]
  },
  {
   "cell_type": "code",
   "execution_count": 25,
   "metadata": {},
   "outputs": [
    {
     "name": "stdout",
     "output_type": "stream",
     "text": [
      "Checking that ΔE gives same result as E'-E on all different sites of the lattice\n"
     ]
    },
    {
     "data": {
      "text/plain": [
       "\u001b[32m\u001b[1mTest Passed\u001b[22m\u001b[39m"
      ]
     },
     "execution_count": 25,
     "metadata": {},
     "output_type": "execute_result"
    }
   ],
   "source": [
    "testEnDiff(State(1,syst))"
   ]
  }
 ],
 "metadata": {
  "kernelspec": {
   "display_name": "Julia -p 3 1.0.3",
   "language": "julia",
   "name": "julia--p-3-1.0"
  },
  "language_info": {
   "file_extension": ".jl",
   "mimetype": "application/julia",
   "name": "julia",
   "version": "1.0.3"
  }
 },
 "nbformat": 4,
 "nbformat_minor": 2
}
