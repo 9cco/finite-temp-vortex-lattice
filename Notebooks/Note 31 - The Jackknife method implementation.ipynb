{
 "cells": [
  {
   "cell_type": "code",
   "execution_count": 1,
   "metadata": {},
   "outputs": [
    {
     "data": {
      "text/plain": [
       "Plots.PyPlotBackend()"
      ]
     },
     "execution_count": 1,
     "metadata": {},
     "output_type": "execute_result"
    }
   ],
   "source": [
    "# Script for investigating amplitude dependence of potential\n",
    "\n",
    "@everywhere using Distributions\n",
    "@everywhere using Base.Test\n",
    "@everywhere using StatsBase\n",
    "@everywhere using BenchmarkTools\n",
    "using MCMCDiagnostics\n",
    "@everywhere src_path = \"../Source/\"\n",
    "@everywhere include(src_path*\"types.jl\")\n",
    "@everywhere include(src_path*\"functions_msc.jl\")\n",
    "@everywhere include(src_path*\"functions_neighbors.jl\")\n",
    "@everywhere include(src_path*\"functions_types.jl\")\n",
    "@everywhere include(src_path*\"functions_energy.jl\")\n",
    "@everywhere include(src_path*\"functions_mc.jl\")\n",
    "@everywhere include(src_path*\"functions_thermalization.jl\")\n",
    "@everywhere include(src_path*\"functions_observables.jl\")\n",
    "@everywhere include(src_path*\"functions_symmetries.jl\")\n",
    "include(src_path*\"functions_plots_and_files.jl\")\n",
    "using Plots\n",
    "using Primes\n",
    "pyplot()"
   ]
  },
  {
   "cell_type": "markdown",
   "metadata": {},
   "source": [
    "# Binning and autocorrelation times\n",
    "First we need to implement code for splitting an array of floats into blocks and then checking that the number of elements in a block is sufficient to deminish autocorrelation effects."
   ]
  },
  {
   "cell_type": "code",
   "execution_count": 3,
   "metadata": {},
   "outputs": [],
   "source": [
    "mutable struct BlockInd\n",
    "    N::Int64    # The number of elements in the time-series\n",
    "    Nb::Int64   # The number of elements in a block\n",
    "    n::Int64    # The number of blocks n = N/Nb\n",
    "end"
   ]
  },
  {
   "cell_type": "code",
   "execution_count": 4,
   "metadata": {},
   "outputs": [
    {
     "data": {
      "text/plain": [
       "BlockInd"
      ]
     },
     "execution_count": 4,
     "metadata": {},
     "output_type": "execute_result"
    }
   ],
   "source": [
    "function BlockInd(N::Int64, Nb::Int64)\n",
    "    Nb != 0 || throw(error(\"Can not have 0 block length\"))\n",
    "    if N < Nb || N%Nb != 0\n",
    "        throw(error(\"Domain error. $(N) not divisible by $(Nb)\"))\n",
    "    end\n",
    "    n = N/Nb\n",
    "    return BlockInd(N, Nb, n)\n",
    "end"
   ]
  },
  {
   "cell_type": "code",
   "execution_count": 5,
   "metadata": {},
   "outputs": [
    {
     "data": {
      "text/plain": [
       "iterator (generic function with 1 method)"
      ]
     },
     "execution_count": 5,
     "metadata": {},
     "output_type": "execute_result"
    }
   ],
   "source": [
    "function iterator(B::BlockInd, t::Int64)\n",
    "    return (t-1)*B.Nb+1:t*B.Nb\n",
    "end"
   ]
  },
  {
   "cell_type": "code",
   "execution_count": 6,
   "metadata": {},
   "outputs": [
    {
     "data": {
      "text/plain": [
       "getindex (generic function with 275 methods)"
      ]
     },
     "execution_count": 6,
     "metadata": {},
     "output_type": "execute_result"
    }
   ],
   "source": [
    "import Base.getindex\n",
    "function getindex(B::BlockInd, t::Int64)\n",
    "    return [i for i = iterator(B,t)]#(t-1)*B.Nb+1:t*B.Nb]\n",
    "end"
   ]
  },
  {
   "cell_type": "code",
   "execution_count": 24,
   "metadata": {},
   "outputs": [
    {
     "data": {
      "text/plain": [
       "0.5964377372503602"
      ]
     },
     "execution_count": 24,
     "metadata": {},
     "output_type": "execute_result"
    }
   ],
   "source": [
    "mean(rand(10))"
   ]
  },
  {
   "cell_type": "code",
   "execution_count": 7,
   "metadata": {},
   "outputs": [
    {
     "data": {
      "text/plain": [
       "mapToBlockedSeries (generic function with 1 method)"
      ]
     },
     "execution_count": 7,
     "metadata": {},
     "output_type": "execute_result"
    }
   ],
   "source": [
    "function mapToBlockedSeries{T<:Real}(O::Array{T, 1}, B::BlockInd)\n",
    "    O_aux = Array{T}(B.n)\n",
    "    for t = 1:B.n\n",
    "        O_aux[t] = mean(O[iterator(B,t)])#(t-1)*B.Nb+1:t*B.Nb])\n",
    "    end\n",
    "    return O_aux\n",
    "end"
   ]
  },
  {
   "cell_type": "code",
   "execution_count": 15,
   "metadata": {},
   "outputs": [
    {
     "data": {
      "text/plain": [
       "mapToBlockedSeries2 (generic function with 1 method)"
      ]
     },
     "execution_count": 15,
     "metadata": {},
     "output_type": "execute_result"
    }
   ],
   "source": [
    "# Slower version of the one above.\n",
    "function mapToBlockedSeries2{T<:Real}(O::Array{T, 1}, B::BlockInd)\n",
    "    O_aux = Array{T}(B.n)\n",
    "    for t = 1:B.n\n",
    "        O_sum = 0\n",
    "        for i in B[t]\n",
    "            O_sum += O[i]\n",
    "        end\n",
    "        O_aux[t] = O_sum/B.Nb\n",
    "    end\n",
    "    return O_aux\n",
    "end"
   ]
  },
  {
   "cell_type": "code",
   "execution_count": 16,
   "metadata": {},
   "outputs": [
    {
     "data": {
      "text/plain": [
       "naiveVar (generic function with 1 method)"
      ]
     },
     "execution_count": 16,
     "metadata": {},
     "output_type": "execute_result"
    }
   ],
   "source": [
    "# Warning: this is a slow version. Use built in var(O)/length(O) instead.\n",
    "\n",
    "# Calculation of naive variance estimator\n",
    "function naiveVar{T<:Real}(O::Array{T, 1}; mn=nothing)\n",
    "    if mn == nothing\n",
    "        mn = mean(O)\n",
    "    end\n",
    "    N = length(O)\n",
    "    O_sum = sum(abs2, O-mn)\n",
    "    return O_sum/(N*(N-1))\n",
    "end"
   ]
  },
  {
   "cell_type": "code",
   "execution_count": 8,
   "metadata": {},
   "outputs": [
    {
     "data": {
      "text/plain": [
       "varByBlockLength (generic function with 1 method)"
      ]
     },
     "execution_count": 8,
     "metadata": {},
     "output_type": "execute_result"
    }
   ],
   "source": [
    "function varByBlockLength{T<:Real, I<:Int}(O::Array{T, 1}, Nb_list::Array{I, 1})\n",
    "    N = length(O)\n",
    "    M = length(Nb_list)\n",
    "    var_list = Array{Float64}(M)\n",
    "    var_error_list = Array{Float64}(M)\n",
    "    \n",
    "    for (i, Nb) in enumerate(Nb_list)\n",
    "        B = BlockInd(N,Nb)\n",
    "        O_aux = mapToBlockedSeries(O, B)\n",
    "        var_list[i]  = var(O_aux)/B.n\n",
    "        var_error_list[i] = var_list[i]*√(2/(B.n-1))\n",
    "    end\n",
    "    return var_list, var_error_list\n",
    "end"
   ]
  },
  {
   "cell_type": "code",
   "execution_count": 9,
   "metadata": {},
   "outputs": [
    {
     "data": {
      "text/plain": [
       "isWithinErrorOfRightPoints (generic function with 1 method)"
      ]
     },
     "execution_count": 9,
     "metadata": {},
     "output_type": "execute_result"
    }
   ],
   "source": [
    "# Checks if the element Y[i] is within the error of the points Y[j] for i<j such that \n",
    "# Y[i] ∈ [Y[j]-err[j], Y[j]+err[j]]\n",
    "function isWithinErrorOfRightPoints{T<:Real}(i::Int64, Y::Array{T,1}, err::Array{T,1}; err_weight=1.0)\n",
    "    for j = i+1:length(Y)\n",
    "        if Y[i] < Y[j]-err_weight*err[j] || Y[i] > Y[j]+err_weight*err[j]\n",
    "            return false\n",
    "        end\n",
    "    end\n",
    "    return true\n",
    "end"
   ]
  },
  {
   "cell_type": "code",
   "execution_count": 10,
   "metadata": {},
   "outputs": [
    {
     "data": {
      "text/plain": [
       "firstConvergedIndex (generic function with 1 method)"
      ]
     },
     "execution_count": 10,
     "metadata": {},
     "output_type": "execute_result"
    }
   ],
   "source": [
    "function firstConvergedIndex{T<:Real}(Y::Array{T,1}, err::Array{T,1})\n",
    "    for i = 1:length(Y)\n",
    "        if isWithinErrorOfRightPoints(i, Y, err)\n",
    "            return i\n",
    "        end\n",
    "    end\n",
    "    return -1\n",
    "end"
   ]
  },
  {
   "cell_type": "code",
   "execution_count": 11,
   "metadata": {},
   "outputs": [
    {
     "data": {
      "text/plain": [
       "divisors (generic function with 1 method)"
      ]
     },
     "execution_count": 11,
     "metadata": {},
     "output_type": "execute_result"
    }
   ],
   "source": [
    "# --------------------------------------------------------------------------------------------------\n",
    "# Returns a sorted array of divisors of M except for 1 and M.\n",
    "function divisors(M::Int; sorting=true)\n",
    "    # First we calculate all the divisors of M except for 1 and M\n",
    "    # and save them in the divisors array.\n",
    "    pr = primes(2,Int(floor(sqrt(M)))+2)\n",
    "    L = size(pr, 1)\n",
    "    divisors = Array{Int}(0)\n",
    "    m = M\n",
    "    for i = 1:L\n",
    "        while(m%pr[i]==0)\n",
    "            m /= pr[i]\n",
    "            if m == 1\n",
    "                break\n",
    "            end\n",
    "            push!(divisors, m)\n",
    "            push!(divisors, M/m)\n",
    "        end\n",
    "    end\n",
    "    \n",
    "    # Then we sort this array so that high divisors come first and\n",
    "    # iterate through it until a match is found.\n",
    "    if sorting\n",
    "        return sort(unique(divisors), rev=true)\n",
    "    else\n",
    "        return unique(divisors)\n",
    "    end\n",
    "end\n",
    "\n"
   ]
  },
  {
   "cell_type": "code",
   "execution_count": 12,
   "metadata": {},
   "outputs": [
    {
     "data": {
      "text/plain": [
       "smallestBlockSize (generic function with 1 method)"
      ]
     },
     "execution_count": 12,
     "metadata": {},
     "output_type": "execute_result"
    }
   ],
   "source": [
    "function smallestBlockSize{T<:Real}(O_series::Array{T,1}; write_plot=false, filename=\"block_size_variance_plt.png\")\n",
    "    N = length(O_series)\n",
    "    # Find the possible block sizes of the series {O}\n",
    "    Nb_list = reverse(divisors(N))\n",
    "    \n",
    "    # Calculate the variance its error when using the different possible block lengths\n",
    "    var_list, error_list = varByBlockLength(O_series, Nb_list)\n",
    "    i = firstConvergedIndex(var_list, error_list)\n",
    "    if i == -1\n",
    "        plt = scatter(Nb_list, var_list; xscale=:log2, yerror=error_list, yaxis=\"S²\", xaxis=\"Nb\",\n",
    "            title=\"Variance when dividing the series using block length Nb\")\n",
    "        savefig(plt, filename)\n",
    "        throw(error(\"ERROR: Could not determine minimum block size. Increase series length?\"))\n",
    "    end\n",
    "    if write_plot\n",
    "        plt = scatter(Nb_list, var_list; xscale=:log2, yerror=error_list, yaxis=\"S²\", xaxis=\"Nb\",\n",
    "            title=\"Variance when dividing the series using block length Nb\")\n",
    "        savefig(plt, filename)\n",
    "    end\n",
    "    return Nb_list[i]\n",
    "end"
   ]
  },
  {
   "cell_type": "code",
   "execution_count": 49,
   "metadata": {},
   "outputs": [
    {
     "data": {
      "text/plain": [
       "BlockInd(4096, 2048, 2)"
      ]
     },
     "execution_count": 49,
     "metadata": {},
     "output_type": "execute_result"
    }
   ],
   "source": [
    "BlockInd(2^12, 2^11)"
   ]
  },
  {
   "cell_type": "markdown",
   "metadata": {},
   "source": [
    "# Testing Binning"
   ]
  },
  {
   "cell_type": "code",
   "execution_count": 50,
   "metadata": {},
   "outputs": [
    {
     "data": {
      "text/plain": [
       "BenchmarkTools.Trial: \n",
       "  memory estimate:  192 bytes\n",
       "  allocs estimate:  7\n",
       "  --------------\n",
       "  minimum time:     1.660 μs (0.00% GC)\n",
       "  median time:      1.702 μs (0.00% GC)\n",
       "  mean time:        1.784 μs (0.00% GC)\n",
       "  maximum time:     5.290 μs (0.00% GC)\n",
       "  --------------\n",
       "  samples:          10000\n",
       "  evals/sample:     10"
      ]
     },
     "execution_count": 50,
     "metadata": {},
     "output_type": "execute_result"
    }
   ],
   "source": [
    "@benchmark var(energies)/length(energies)"
   ]
  },
  {
   "cell_type": "code",
   "execution_count": 51,
   "metadata": {},
   "outputs": [
    {
     "data": {
      "text/plain": [
       "BenchmarkTools.Trial: \n",
       "  memory estimate:  7.97 KiB\n",
       "  allocs estimate:  3\n",
       "  --------------\n",
       "  minimum time:     3.067 μs (0.00% GC)\n",
       "  median time:      4.663 μs (0.00% GC)\n",
       "  mean time:        5.702 μs (18.59% GC)\n",
       "  maximum time:     523.436 μs (95.08% GC)\n",
       "  --------------\n",
       "  samples:          10000\n",
       "  evals/sample:     8"
      ]
     },
     "execution_count": 51,
     "metadata": {},
     "output_type": "execute_result"
    }
   ],
   "source": [
    "@benchmark naiveVar(energies)"
   ]
  },
  {
   "cell_type": "code",
   "execution_count": 2,
   "metadata": {},
   "outputs": [
    {
     "name": "stdout",
     "output_type": "stream",
     "text": [
      "466.733083 seconds (849.42 M allocations: 30.588 GiB, 1.59% gc time)\n"
     ]
    }
   ],
   "source": [
    "# Create a realistic time-series of the energies in a Markov-chain.\n",
    "\n",
    "g = 1.0    # Gauge coupling\n",
    "ν = 0.3    # Anisotropy\n",
    "L = 12\n",
    "L₃ = 12\n",
    "κ₅ = 1.0\n",
    "f = 0.0/L\n",
    "T = 3.5\n",
    "sim = Controls(π-π/12, 1.0, 4.0)\n",
    "syst = SystConstants(L, L₃, 1/g^2, ν, κ₅, f, 1/T) \n",
    "M = 2^12\n",
    "Δt = 10\n",
    "\n",
    "energies = Array{Float64}(M)\n",
    "ψ = State(1, syst; u⁺=1.0, u⁻=0.0)\n",
    "@time for m = 1:M\n",
    "    for t = 1:Δt\n",
    "        mcSweep!(ψ, sim)\n",
    "    end\n",
    "    energies[m] = E(ψ)\n",
    "end"
   ]
  },
  {
   "cell_type": "code",
   "execution_count": 13,
   "metadata": {},
   "outputs": [],
   "source": [
    "Nb_list = [2^i for i = 1:11]\n",
    "var_list, error_list = varByBlockLength(energies, Nb_list);"
   ]
  },
  {
   "cell_type": "code",
   "execution_count": 14,
   "metadata": {},
   "outputs": [
    {
     "data": {
      "text/plain": [
       "4096"
      ]
     },
     "execution_count": 14,
     "metadata": {},
     "output_type": "execute_result"
    }
   ],
   "source": [
    "length(energies)"
   ]
  },
  {
   "cell_type": "code",
   "execution_count": 21,
   "metadata": {},
   "outputs": [
    {
     "data": {
      "text/plain": [
       "320"
      ]
     },
     "execution_count": 21,
     "metadata": {},
     "output_type": "execute_result"
    }
   ],
   "source": [
    "2^5*10"
   ]
  },
  {
   "cell_type": "code",
   "execution_count": 15,
   "metadata": {},
   "outputs": [
    {
     "name": "stdout",
     "output_type": "stream",
     "text": [
      "true\n"
     ]
    },
    {
     "data": {
      "image/png": "[encoded data removed]"
     },
     "execution_count": 15,
     "metadata": {},
     "output_type": "execute_result"
    }
   ],
   "source": [
    "using Plots\n",
    "println(length(Nb_list) == length(var_list))\n",
    "plt = scatter(Nb_list, var_list; xscale=:log2, yerror=error_list, yaxis=\"S²\", xaxis=\"Nb\",\n",
    "    title=\"Variance when dividing the series using block length Nb\")"
   ]
  },
  {
   "cell_type": "code",
   "execution_count": 16,
   "metadata": {},
   "outputs": [
    {
     "data": {
      "text/plain": [
       "5"
      ]
     },
     "execution_count": 16,
     "metadata": {},
     "output_type": "execute_result"
    }
   ],
   "source": [
    "firstConvergedIndex(var_list, error_list)"
   ]
  },
  {
   "cell_type": "code",
   "execution_count": 17,
   "metadata": {},
   "outputs": [
    {
     "data": {
      "text/plain": [
       "32"
      ]
     },
     "execution_count": 17,
     "metadata": {},
     "output_type": "execute_result"
    }
   ],
   "source": [
    "smallestBlockSize(energies; write_plot=true)"
   ]
  },
  {
   "cell_type": "code",
   "execution_count": 71,
   "metadata": {},
   "outputs": [
    {
     "data": {
      "text/plain": [
       "11-element Array{Int64,1}:\n",
       "    2\n",
       "    4\n",
       "    8\n",
       "   16\n",
       "   32\n",
       "   64\n",
       "  128\n",
       "  256\n",
       "  512\n",
       " 1024\n",
       " 2048"
      ]
     },
     "execution_count": 71,
     "metadata": {},
     "output_type": "execute_result"
    }
   ],
   "source": [
    "Nb_list2 = divisors(length(energies))\n",
    "reverse(Nb_list2)"
   ]
  },
  {
   "cell_type": "code",
   "execution_count": 31,
   "metadata": {},
   "outputs": [
    {
     "data": {
      "text/plain": [
       "50-element Array{Float64,1}:\n",
       " -624.699\n",
       " 4508.33 \n",
       " 5257.79 \n",
       " 5276.75 \n",
       " 5280.09 \n",
       " 5246.14 \n",
       " 5279.12 \n",
       " 5275.04 \n",
       " 5287.37 \n",
       " 5137.18 \n",
       " 5074.41 \n",
       " 5342.42 \n",
       " 5224.48 \n",
       "    ⋮    \n",
       " 5378.28 \n",
       " 5217.69 \n",
       " 5237.58 \n",
       " 5197.93 \n",
       " 5228.37 \n",
       " 5396.23 \n",
       " 5238.4  \n",
       " 5301.88 \n",
       " 5176.54 \n",
       " 5317.06 \n",
       " 5241.0  \n",
       " 5247.38 "
      ]
     },
     "execution_count": 31,
     "metadata": {},
     "output_type": "execute_result"
    }
   ],
   "source": [
    "B = BlockInd(M, 20)\n",
    "mapToBlockedSeries(energies, B)"
   ]
  },
  {
   "cell_type": "code",
   "execution_count": 32,
   "metadata": {},
   "outputs": [
    {
     "name": "stdout",
     "output_type": "stream",
     "text": [
      "5115.660158260941\n",
      "5115.66015826094\n"
     ]
    }
   ],
   "source": [
    "println(mean(energies))\n",
    "println(mean(mapToBlockedSeries(energies, B)))"
   ]
  },
  {
   "cell_type": "markdown",
   "metadata": {},
   "source": [
    "# Jackknife binning, variables and estimates\n",
    "Now that we have implemented binning and variance functionality, it is time to make functionality for calculating Jackknife estimates"
   ]
  },
  {
   "cell_type": "code",
   "execution_count": 95,
   "metadata": {},
   "outputs": [
    {
     "data": {
      "text/plain": [
       "UnitRange{Int64}"
      ]
     },
     "execution_count": 95,
     "metadata": {},
     "output_type": "execute_result"
    }
   ],
   "source": [
    "typeof(1:3)"
   ]
  },
  {
   "cell_type": "code",
   "execution_count": 18,
   "metadata": {},
   "outputs": [],
   "source": [
    "mutable struct JackInd\n",
    "    N::Int64    # The number of elements in the time-series\n",
    "    Nb::Int64   # The number of elements in a block\n",
    "    n::Int64    # The number of blocks n = N/Nb\n",
    "end"
   ]
  },
  {
   "cell_type": "code",
   "execution_count": 19,
   "metadata": {},
   "outputs": [
    {
     "data": {
      "text/plain": [
       "JackInd"
      ]
     },
     "execution_count": 19,
     "metadata": {},
     "output_type": "execute_result"
    }
   ],
   "source": [
    "function JackInd(N::Int64, Nb::Int64)\n",
    "    Nb != 0 || throw(error(\"Can not have 0 block length\"))\n",
    "    if N < Nb || N%Nb != 0\n",
    "        throw(error(\"Domain error. $(N) not divisible by $(Nb)\"))\n",
    "    end\n",
    "    n = N/Nb\n",
    "    return JackInd(N, Nb, n)\n",
    "end"
   ]
  },
  {
   "cell_type": "code",
   "execution_count": 96,
   "metadata": {},
   "outputs": [
    {
     "data": {
      "text/plain": [
       "high (generic function with 2 methods)"
      ]
     },
     "execution_count": 96,
     "metadata": {},
     "output_type": "execute_result"
    }
   ],
   "source": [
    "function low(J::BlockInd, t::Int64)\n",
    "    return 1:(t-1)*J.Nb\n",
    "end\n",
    "function high(J::BlockInd, t::Int64)\n",
    "    return t*J.Nb+1:J.N\n",
    "end"
   ]
  },
  {
   "cell_type": "code",
   "execution_count": 89,
   "metadata": {},
   "outputs": [
    {
     "data": {
      "text/plain": [
       "getindex (generic function with 276 methods)"
      ]
     },
     "execution_count": 89,
     "metadata": {},
     "output_type": "execute_result"
    }
   ],
   "source": [
    "import Base.getindex\n",
    "function getindex(J::JackInd, t::Int64)\n",
    "    if t <= 0 || t > J.n\n",
    "        throw(error(\"ERROR: invalid $(t) is not in [$(1), $(B.n)]\"))\n",
    "    end\n",
    "    return vcat([i for i = 1:(t-1)*J.Nb], [i for i = t*J.Nb+1:J.N])\n",
    "end"
   ]
  },
  {
   "cell_type": "code",
   "execution_count": 94,
   "metadata": {},
   "outputs": [
    {
     "data": {
      "text/plain": [
       "1-element Array{Int64,1}:\n",
       " 4"
      ]
     },
     "execution_count": 94,
     "metadata": {},
     "output_type": "execute_result"
    }
   ],
   "source": [
    "a = [1, 23, 4]\n",
    "vcat(a[1:0], [4])"
   ]
  },
  {
   "cell_type": "code",
   "execution_count": 95,
   "metadata": {},
   "outputs": [
    {
     "data": {
      "text/plain": [
       "jackSeries (generic function with 2 methods)"
      ]
     },
     "execution_count": 95,
     "metadata": {},
     "output_type": "execute_result"
    }
   ],
   "source": [
    "# Returns Jₜ = {1,...,N} \\ Bₜ = {1, ..., (t-1)*Nb} ∪ {t*Nb+1, ..., N}\n",
    "function jackSeries{T<:Real}(time_series::Array{T,1}, B::BlockInd, t::Int64)\n",
    "    return vcat(time_series[low(B,t)], time_series[high(B,t)])\n",
    "end"
   ]
  },
  {
   "cell_type": "code",
   "execution_count": 98,
   "metadata": {},
   "outputs": [
    {
     "name": "stdout",
     "output_type": "stream",
     "text": [
      "Hello\n",
      "Hello\n",
      "Hello\n"
     ]
    },
    {
     "data": {
      "text/plain": [
       "3"
      ]
     },
     "execution_count": 98,
     "metadata": {},
     "output_type": "execute_result"
    }
   ],
   "source": [
    "i = 0\n",
    "for i = 1:3\n",
    "    println(\"Hello\")\n",
    "end\n",
    "i"
   ]
  },
  {
   "cell_type": "code",
   "execution_count": 116,
   "metadata": {},
   "outputs": [
    {
     "data": {
      "text/plain": [
       "jackSeries2 (generic function with 1 method)"
      ]
     },
     "execution_count": 116,
     "metadata": {},
     "output_type": "execute_result"
    }
   ],
   "source": [
    "function jackSeries{T<:Real}(O_list::Array{T,1}, B::BlockInd, t::Int64)\n",
    "    O_aux = Array{T}(B.N-B.Nb)\n",
    "    i = 0\n",
    "    for i = low(B,t)\n",
    "        O_aux[i] = O_list[i]\n",
    "    end\n",
    "    for j = high(B,t)\n",
    "        O_aux[j-B.Nb] = O_list[j]\n",
    "    end\n",
    "    O_aux\n",
    "end\n",
    "    "
   ]
  },
  {
   "cell_type": "code",
   "execution_count": 123,
   "metadata": {},
   "outputs": [
    {
     "data": {
      "text/plain": [
       "true"
      ]
     },
     "execution_count": 123,
     "metadata": {},
     "output_type": "execute_result"
    }
   ],
   "source": [
    "t = 4\n",
    "jackSeries(energies, BlockInd(length(energies), 2^10), t) == jackSeries2(energies, BlockInd(length(energies), 2^10), t)"
   ]
  },
  {
   "cell_type": "code",
   "execution_count": 124,
   "metadata": {},
   "outputs": [
    {
     "data": {
      "text/plain": [
       "BenchmarkTools.Trial: \n",
       "  memory estimate:  48.30 KiB\n",
       "  allocs estimate:  8\n",
       "  --------------\n",
       "  minimum time:     13.062 μs (0.00% GC)\n",
       "  median time:      20.898 μs (0.00% GC)\n",
       "  mean time:        27.230 μs (25.41% GC)\n",
       "  maximum time:     3.835 ms (91.64% GC)\n",
       "  --------------\n",
       "  samples:          10000\n",
       "  evals/sample:     1"
      ]
     },
     "execution_count": 124,
     "metadata": {},
     "output_type": "execute_result"
    }
   ],
   "source": [
    "@benchmark jackSeries(energies, BlockInd(length(energies), 2^10), 1)"
   ]
  },
  {
   "cell_type": "code",
   "execution_count": 125,
   "metadata": {},
   "outputs": [
    {
     "data": {
      "text/plain": [
       "BenchmarkTools.Trial: \n",
       "  memory estimate:  24.14 KiB\n",
       "  allocs estimate:  5\n",
       "  --------------\n",
       "  minimum time:     11.705 μs (0.00% GC)\n",
       "  median time:      12.580 μs (0.00% GC)\n",
       "  mean time:        16.837 μs (20.90% GC)\n",
       "  maximum time:     3.908 ms (96.37% GC)\n",
       "  --------------\n",
       "  samples:          10000\n",
       "  evals/sample:     1"
      ]
     },
     "execution_count": 125,
     "metadata": {},
     "output_type": "execute_result"
    }
   ],
   "source": [
    "@benchmark jackSeries2(energies, BlockInd(length(energies), 2^10), 1)"
   ]
  },
  {
   "cell_type": "code",
   "execution_count": 22,
   "metadata": {},
   "outputs": [
    {
     "data": {
      "text/plain": [
       "jackSet (generic function with 1 method)"
      ]
     },
     "execution_count": 22,
     "metadata": {},
     "output_type": "execute_result"
    }
   ],
   "source": [
    "function jackSet{T<:Real}(O_set::Array{Array{T,1},1}, J_set::Array{JackInd,1}, t::Int64)\n",
    "    N₀ = length(O_set)\n",
    "    reduced_time_series_set = Array{Array{T,1}}(N₀)\n",
    "    for k = 1:N₀\n",
    "        reduced_time_series_set[k] = jackSeries(O_set[k], J_set[k], t)\n",
    "    end\n",
    "    return reduced_time_series_set\n",
    "end"
   ]
  },
  {
   "cell_type": "code",
   "execution_count": 23,
   "metadata": {},
   "outputs": [
    {
     "data": {
      "text/plain": [
       "jackVar (generic function with 1 method)"
      ]
     },
     "execution_count": 23,
     "metadata": {},
     "output_type": "execute_result"
    }
   ],
   "source": [
    "# This function was deemed unneccesary\n",
    "\n",
    "# Assume that all series in arg_series have been divided in the same number of blocks n. In J_set there\n",
    "# is one JackInd for each series in time_series_set. The funcion θ is then called using the redused\n",
    "# Jackknife series of the time_series in the set.\n",
    "# We require that θ takes only one argument of type ::Array{Real,1}\n",
    "function jackVar{T<:Real}(θ::Function, time_series_set::Array{Array{T,1},1}, J_set::Array{JackInd,1}, t::Int64)\n",
    "    reduced_time_series_set = jackSet(time_series_set, J_set, t)\n",
    "    return θ(reduced_time_series_set)\n",
    "end"
   ]
  },
  {
   "cell_type": "markdown",
   "metadata": {},
   "source": [
    "Assume we have a large set of time-series $\\{O_{k,1}, O_{k,2}, \\dots, O_{k,N_k}\\}$ for $k = 1,\\dots,N_0$ that goes to power an estimator $\\hat{\\theta}$. We want to split all the time series into $n$ blocks, but we want to choose $n$ such that all the time-series does not have autocorrelation effects. "
   ]
  },
  {
   "cell_type": "code",
   "execution_count": 24,
   "metadata": {},
   "outputs": [
    {
     "data": {
      "text/plain": [
       "blockNumIsSmallEnough (generic function with 2 methods)"
      ]
     },
     "execution_count": 24,
     "metadata": {},
     "output_type": "execute_result"
    }
   ],
   "source": [
    "# Checks that the block number gives block sizes that are sufficiently large for all time-series such that\n",
    "# autocorrelation effects are avoided.\n",
    "function blockNumIsSmallEnough{T<:Real}(n::Int64, O_set::Array{Array{T,1},1}; verbose=false)\n",
    "    n>0 || throw(error(\"ERROR: The block size must be larger than 1 (n set to $(n))\"))\n",
    "    num_series = length(O_set)\n",
    "    for k = 1:num_series\n",
    "        # First we check that n divides the time-series length\n",
    "        Nₖ = length(O_set[k])\n",
    "        Nₖ%n == 0 || throw(error(\"ERROR: Number of blocks $(n) does not \n",
    "divide number of elements $(Nₖ) in time series $(k)\"))\n",
    "        Nbₖ = Nₖ/n\n",
    "        Nb_smallest = smallestBlockSize(O_set[k])\n",
    "        if Nbₖ < Nb_smallest\n",
    "            if verbose\n",
    "                println(\"Problem in time-series k = $(k) with length $(Nₖ). \n",
    "Smallest block size returned $(Nb_smallest), while n = $(n) number of blocks yields block size $(Nbₖ)\")\n",
    "            end\n",
    "            return false\n",
    "        end\n",
    "    end\n",
    "    return true\n",
    "end\n",
    "\n",
    "function blockNumIsSmallEnough{T<:Real}(n::Int64, O_set::Array{T,1}; verbose=false)\n",
    "    return blockNumIsSmallEnough(n, [O_set]; verbose=verbose)\n",
    "end"
   ]
  },
  {
   "cell_type": "code",
   "execution_count": 25,
   "metadata": {},
   "outputs": [
    {
     "name": "stdout",
     "output_type": "stream",
     "text": [
      "Problem in time-series k = 1 with length 4096. \n",
      "Smallest block size returned 32, while n = 256 number of blocks yields block size 16.0\n"
     ]
    },
    {
     "data": {
      "text/plain": [
       "false"
      ]
     },
     "execution_count": 25,
     "metadata": {},
     "output_type": "execute_result"
    }
   ],
   "source": [
    "blockNumIsSmallEnough(2^8, energies; verbose=true)"
   ]
  },
  {
   "cell_type": "code",
   "execution_count": 33,
   "metadata": {},
   "outputs": [
    {
     "data": {
      "text/plain": [
       "jackEstimate (generic function with 2 methods)"
      ]
     },
     "execution_count": 33,
     "metadata": {},
     "output_type": "execute_result"
    }
   ],
   "source": [
    "# Efficiency note: It seems that most of the time goes to creating all the different jackSeries. This could be\n",
    "# prevented by only using the original series and only calculate the indices needed for the different jackknife series.\n",
    "# But this will restrict the estimator θ to take both the original O_list as well as a list of indices that\n",
    "# it should use. For θ that depends on O_set, then it should instead also take a set of lists of indices.\n",
    "\n",
    "function jackEstimate{T<:Real}(θ::Function, O_set::Array{Array{T,1}}, n::Int64; skip_check=false)\n",
    "    N₀ = length(O_set)\n",
    "    if !skip_check && !blockNumIsSmallEnough(n, O_set; verbose=true)\n",
    "        throw(error(\"ERROR: The number of blocks n = $(n) was too large to reduce \n",
    "autocorrelation effects of independent blocks for all sets in { O_list[k] }\"))\n",
    "    end\n",
    "    # Now we have checked that the jackknife estimate will work for the chosen block number n.\n",
    "    # This also checks that all series in the sets have lengths that are divisible by n.\n",
    "    \n",
    "    # For each time-series we create a jackknife object\n",
    "    J_set = Array{JackInd}(N₀)\n",
    "    for k = 1:N₀\n",
    "        Nₖ = length(O_set[k])\n",
    "        J_set[k] = JackInd(Nₖ, Int(Nₖ/n))\n",
    "    end\n",
    "    \n",
    "    # Then we calculate the jackknife variables\n",
    "    J_vars = Array{Real}(n)\n",
    "    for t = 1:n\n",
    "        J_vars[t] = θ(jackSet(O_set, J_set, t))\n",
    "    end\n",
    "    \n",
    "    # The mean of J_vars is the jackknife estimate. Also return its variance.\n",
    "    return mean(J_vars), (n-1)^2/n*var(J_vars)\n",
    "end\n",
    "\n",
    "function jackEstimate{T<:Real}(θ::Function, O_list::Array{T,1}, n::Int64; skip_check=false)\n",
    "    if !skip_check && !blockNumIsSmallEnough(n, O_list; verbose=true)\n",
    "        throw(error(\"ERROR: The number of blocks n = $(n) was too large to reduce \n",
    "autocorrelation effects of independent blocks for O_list\"))\n",
    "    end\n",
    "    # Now we have checked that the jackknife estimate will work for the chosen block number n.\n",
    "    # This also checks that all series in the sets have lengths that are divisible by n.\n",
    "    \n",
    "    # For each time-series we create a jackknife object\n",
    "    N = length(O_list)\n",
    "    J = JackInd(N, Int(N/n))\n",
    "    \n",
    "    # Then we calculate the jackknife variables\n",
    "    J_vars = Array{Real}(n)\n",
    "    for t = 1:n\n",
    "        J_vars[t] = θ(jackSeries(O_list, J, t))\n",
    "    end\n",
    "    \n",
    "    # The mean of J_vars is the jackknife estimate. Also return its variance.\n",
    "    return mean(J_vars), (n-1)^2/n*var(J_vars)\n",
    "end"
   ]
  },
  {
   "cell_type": "code",
   "execution_count": 27,
   "metadata": {},
   "outputs": [
    {
     "data": {
      "text/plain": [
       "32"
      ]
     },
     "execution_count": 27,
     "metadata": {},
     "output_type": "execute_result"
    }
   ],
   "source": [
    "Int(length(energies)/2^7)"
   ]
  },
  {
   "cell_type": "code",
   "execution_count": 38,
   "metadata": {},
   "outputs": [
    {
     "data": {
      "text/plain": [
       "mymean (generic function with 1 method)"
      ]
     },
     "execution_count": 38,
     "metadata": {},
     "output_type": "execute_result"
    }
   ],
   "source": [
    "function mymean{T<:Real}(O_set::Array{Array{T,1}})\n",
    "    return mean(O_set[1])\n",
    "end"
   ]
  },
  {
   "cell_type": "code",
   "execution_count": 92,
   "metadata": {},
   "outputs": [
    {
     "data": {
      "text/plain": [
       "BenchmarkTools.Trial: \n",
       "  memory estimate:  8.71 MiB\n",
       "  allocs estimate:  5955\n",
       "  --------------\n",
       "  minimum time:     3.260 ms (0.00% GC)\n",
       "  median time:      4.497 ms (0.00% GC)\n",
       "  mean time:        5.868 ms (25.77% GC)\n",
       "  maximum time:     16.734 ms (39.00% GC)\n",
       "  --------------\n",
       "  samples:          850\n",
       "  evals/sample:     1"
      ]
     },
     "execution_count": 92,
     "metadata": {},
     "output_type": "execute_result"
    }
   ],
   "source": [
    "@benchmark jackEstimate(mymean, [energies], 2^7)"
   ]
  },
  {
   "cell_type": "code",
   "execution_count": 93,
   "metadata": {},
   "outputs": [
    {
     "data": {
      "text/plain": [
       "BenchmarkTools.Trial: \n",
       "  memory estimate:  8.00 MiB\n",
       "  allocs estimate:  1679\n",
       "  --------------\n",
       "  minimum time:     2.739 ms (0.00% GC)\n",
       "  median time:      3.976 ms (0.00% GC)\n",
       "  mean time:        5.132 ms (24.75% GC)\n",
       "  maximum time:     11.935 ms (47.56% GC)\n",
       "  --------------\n",
       "  samples:          971\n",
       "  evals/sample:     1"
      ]
     },
     "execution_count": 93,
     "metadata": {},
     "output_type": "execute_result"
    }
   ],
   "source": [
    "@benchmark jackEstimate(mymean, [energies], 2^7; skip_check=true)"
   ]
  },
  {
   "cell_type": "code",
   "execution_count": 29,
   "metadata": {},
   "outputs": [
    {
     "data": {
      "text/plain": [
       "(5234.323119365255, 1015.7724404235653)"
      ]
     },
     "execution_count": 29,
     "metadata": {},
     "output_type": "execute_result"
    }
   ],
   "source": [
    "jackEstimate(mean, energies, 2^7)"
   ]
  },
  {
   "cell_type": "code",
   "execution_count": 74,
   "metadata": {},
   "outputs": [
    {
     "data": {
      "text/plain": [
       "(5238.324110186866, 3568.195410651178)"
      ]
     },
     "execution_count": 74,
     "metadata": {},
     "output_type": "execute_result"
    }
   ],
   "source": [
    "mean(energies), var(energies)/sqrt(length(energies))"
   ]
  },
  {
   "cell_type": "code",
   "execution_count": 31,
   "metadata": {},
   "outputs": [
    {
     "data": {
      "text/plain": [
       "2048"
      ]
     },
     "execution_count": 31,
     "metadata": {},
     "output_type": "execute_result"
    }
   ],
   "source": [
    "length(energies[Int(length(energies)/2)+1:end])"
   ]
  },
  {
   "cell_type": "code",
   "execution_count": 43,
   "metadata": {},
   "outputs": [
    {
     "name": "stdout",
     "output_type": "stream",
     "text": [
      "Problem in time-series k = 1 with length 2048. \n",
      "Smallest block size returned 512, while n = 8 number of blocks yields block size 256.0\n"
     ]
    },
    {
     "ename": "LoadError",
     "evalue": "\u001b[91mERROR: The number of blocks n = 8 was too large to reduce \nautocorrelation effects of independent blocks for O_list\u001b[39m",
     "output_type": "error",
     "traceback": [
      "\u001b[91mERROR: The number of blocks n = 8 was too large to reduce \nautocorrelation effects of independent blocks for O_list\u001b[39m",
      "",
      "Stacktrace:",
      " [1] \u001b[1m#jackEstimate#386\u001b[22m\u001b[22m\u001b[1m(\u001b[22m\u001b[22m::Bool, ::Function, ::Base.#mean, ::Array{Float64,1}, ::Int64\u001b[1m)\u001b[22m\u001b[22m at \u001b[1m./In[33]:34\u001b[22m\u001b[22m",
      " [2] \u001b[1mjackEstimate\u001b[22m\u001b[22m\u001b[1m(\u001b[22m\u001b[22m::Function, ::Array{Float64,1}, ::Int64\u001b[1m)\u001b[22m\u001b[22m at \u001b[1m./In[33]:33\u001b[22m\u001b[22m",
      " [3] \u001b[1minclude_string\u001b[22m\u001b[22m\u001b[1m(\u001b[22m\u001b[22m::String, ::String\u001b[1m)\u001b[22m\u001b[22m at \u001b[1m./loading.jl:522\u001b[22m\u001b[22m",
      " [4] \u001b[1mexecute_request\u001b[22m\u001b[22m\u001b[1m(\u001b[22m\u001b[22m::ZMQ.Socket, ::IJulia.Msg\u001b[1m)\u001b[22m\u001b[22m at \u001b[1m/home/nicolai/.julia/v0.6/IJulia/src/execute_request.jl:193\u001b[22m\u001b[22m",
      " [5] \u001b[1m(::Compat.#inner#6{Array{Any,1},IJulia.#execute_request,Tuple{ZMQ.Socket,IJulia.Msg}})\u001b[22m\u001b[22m\u001b[1m(\u001b[22m\u001b[22m\u001b[1m)\u001b[22m\u001b[22m at \u001b[1m/home/nicolai/.julia/v0.6/Compat/src/Compat.jl:189\u001b[22m\u001b[22m",
      " [6] \u001b[1meventloop\u001b[22m\u001b[22m\u001b[1m(\u001b[22m\u001b[22m::ZMQ.Socket\u001b[1m)\u001b[22m\u001b[22m at \u001b[1m/home/nicolai/.julia/v0.6/IJulia/src/eventloop.jl:8\u001b[22m\u001b[22m",
      " [7] \u001b[1m(::IJulia.##13#16)\u001b[22m\u001b[22m\u001b[1m(\u001b[22m\u001b[22m\u001b[1m)\u001b[22m\u001b[22m at \u001b[1m./task.jl:335\u001b[22m\u001b[22m"
     ]
    }
   ],
   "source": [
    "jackEstimate(mean, energies[Int(length(energies)/2)+1:end], 2^3)"
   ]
  },
  {
   "cell_type": "code",
   "execution_count": 55,
   "metadata": {},
   "outputs": [
    {
     "data": {
      "text/plain": [
       "10-element Array{Real,1}:\n",
       " #undef\n",
       " #undef\n",
       " #undef\n",
       " #undef\n",
       " #undef\n",
       " #undef\n",
       " #undef\n",
       " #undef\n",
       " #undef\n",
       " #undef"
      ]
     },
     "execution_count": 55,
     "metadata": {},
     "output_type": "execute_result"
    }
   ],
   "source": [
    "J_vars = Array{Real}(10)"
   ]
  },
  {
   "cell_type": "code",
   "execution_count": 94,
   "metadata": {},
   "outputs": [
    {
     "data": {
      "text/plain": [
       "Tuple{UnitRange{Int64},UnitRange{Int64}}"
      ]
     },
     "execution_count": 94,
     "metadata": {},
     "output_type": "execute_result"
    }
   ],
   "source": [
    "typeof((1:2,3:5))"
   ]
  },
  {
   "cell_type": "code",
   "execution_count": 44,
   "metadata": {},
   "outputs": [
    {
     "data": {
      "text/plain": [
       "makeJackknifeIterators (generic function with 1 method)"
      ]
     },
     "execution_count": 44,
     "metadata": {},
     "output_type": "execute_result"
    }
   ],
   "source": [
    "function makeJackknifeIterators(J_set::Array{JackInd,1}, t::Int64)\n",
    "    return [(low(J_set[k],t),high(J_set[k],t)) for k = 1:length(J_set)]\n",
    "end"
   ]
  },
  {
   "cell_type": "code",
   "execution_count": 86,
   "metadata": {},
   "outputs": [
    {
     "data": {
      "text/plain": [
       "fastJackknifeEstimate (generic function with 1 method)"
      ]
     },
     "execution_count": 86,
     "metadata": {},
     "output_type": "execute_result"
    }
   ],
   "source": [
    "# For this function we assume that θ takes the set of original time-series, as well as a set of the iterators\n",
    "# to use for the different time-series.\n",
    "function fastJackknifeEstimate{T<:Real}(θ::Function, O_set::Array{Array{T,1}}, n::Int64; skip_check=false)\n",
    "    N₀ = length(O_set)\n",
    "    if !skip_check && !blockNumIsSmallEnough(n, O_set; verbose=true)\n",
    "        thow(error(\"ERROR: The number of blocks n = $(n) was too large to reduce \n",
    "autocorrelation effects of independent blocks for all sets in { O_list[k] }\"))\n",
    "    end\n",
    "    # Now we have checked that the jackknife estimate will work for the chosen block number n.\n",
    "    # This also checks that all series in the sets have lengths that are divisible by n.\n",
    "    \n",
    "    # For each time-series we create a jackknife object\n",
    "    J_set = Array{JackInd}(N₀)\n",
    "    for k = 1:N₀\n",
    "        Nₖ = length(O_set[k])\n",
    "        J_set[k] = JackInd(Nₖ, Int(Nₖ/n))\n",
    "    end\n",
    "    \n",
    "    # Then we calculate the jackknife variables\n",
    "    J_vars = Array{Real}(n)\n",
    "    for t = 1:n\n",
    "        J_vars[t] = θ(O_set, J_set, t)\n",
    "    end\n",
    "    \n",
    "    # The mean of J_vars is the jackknife estimate. Also return its variance.\n",
    "    return mean(J_vars), (n-1)^2/n*var(J_vars)\n",
    "end"
   ]
  },
  {
   "cell_type": "code",
   "execution_count": 78,
   "metadata": {},
   "outputs": [
    {
     "data": {
      "text/plain": [
       "3"
      ]
     },
     "execution_count": 78,
     "metadata": {},
     "output_type": "execute_result"
    }
   ],
   "source": [
    "collect(3:4)[1]"
   ]
  },
  {
   "cell_type": "code",
   "execution_count": 90,
   "metadata": {},
   "outputs": [
    {
     "data": {
      "text/plain": [
       "mymean (generic function with 3 methods)"
      ]
     },
     "execution_count": 90,
     "metadata": {},
     "output_type": "execute_result"
    }
   ],
   "source": [
    "function mymean{T<:Real}(O_set::Array{Array{T,1},1}, J_set::Array{JackInd,1}, t::Int64)\n",
    "    #return 0.5*(mean(O_set[1][iter_set[1][1]]) + mean(O_set[1][iter_set[1][2]]))\n",
    "    #return mean(vcat(O_set[1][iter_set[1][1]], O_set[1][iter_set[1][2]]))\n",
    "    s = 0.0\n",
    "    for i = low(J_set[1],t)\n",
    "        s += O_set[1][i]\n",
    "    end\n",
    "    for i = high(J_set[1],t)\n",
    "        s += O_set[1][i]\n",
    "    end\n",
    "    return s/(length(O_set[1])-J_set[1].Nb)\n",
    "end"
   ]
  },
  {
   "cell_type": "code",
   "execution_count": 88,
   "metadata": {},
   "outputs": [
    {
     "data": {
      "text/plain": [
       "5233.154234228876"
      ]
     },
     "execution_count": 88,
     "metadata": {},
     "output_type": "execute_result"
    }
   ],
   "source": [
    "mymean([energies], [(1:2000, 2001:4000)])"
   ]
  },
  {
   "cell_type": "code",
   "execution_count": 91,
   "metadata": {},
   "outputs": [
    {
     "data": {
      "text/plain": [
       "(5234.323119365267, 1015.7724404234182)"
      ]
     },
     "execution_count": 91,
     "metadata": {},
     "output_type": "execute_result"
    }
   ],
   "source": [
    "x,y = fastJackknifeEstimate(mymean, [energies], 2^7)"
   ]
  },
  {
   "cell_type": "code",
   "execution_count": 94,
   "metadata": {},
   "outputs": [
    {
     "data": {
      "text/plain": [
       "(5234.323119365255, 1015.7724404235653)"
      ]
     },
     "execution_count": 94,
     "metadata": {},
     "output_type": "execute_result"
    }
   ],
   "source": [
    "jackEstimate(mean, energies, 2^7)"
   ]
  },
  {
   "cell_type": "code",
   "execution_count": 92,
   "metadata": {},
   "outputs": [
    {
     "name": "stdout",
     "output_type": "stream",
     "text": [
      "false\n"
     ]
    },
    {
     "data": {
      "text/plain": [
       "BenchmarkTools.Trial: \n",
       "  memory estimate:  15.73 KiB\n",
       "  allocs estimate:  913\n",
       "  --------------\n",
       "  minimum time:     782.104 μs (0.00% GC)\n",
       "  median time:      1.113 ms (0.00% GC)\n",
       "  mean time:        1.055 ms (0.26% GC)\n",
       "  maximum time:     5.721 ms (78.36% GC)\n",
       "  --------------\n",
       "  samples:          4722\n",
       "  evals/sample:     1"
      ]
     },
     "execution_count": 92,
     "metadata": {},
     "output_type": "execute_result"
    }
   ],
   "source": [
    "println(fastJackknifeEstimate(mymean, [energies], 2^7) == jackEstimate(mean, energies, 2^7))\n",
    "@benchmark fastJackknifeEstimate(mymean, [energies], 2^7; skip_check=true)"
   ]
  },
  {
   "cell_type": "code",
   "execution_count": 93,
   "metadata": {},
   "outputs": [
    {
     "data": {
      "text/plain": [
       "BenchmarkTools.Trial: \n",
       "  memory estimate:  7.99 MiB\n",
       "  allocs estimate:  1549\n",
       "  --------------\n",
       "  minimum time:     2.793 ms (0.00% GC)\n",
       "  median time:      3.919 ms (0.00% GC)\n",
       "  mean time:        4.955 ms (25.04% GC)\n",
       "  maximum time:     11.714 ms (54.83% GC)\n",
       "  --------------\n",
       "  samples:          1005\n",
       "  evals/sample:     1"
      ]
     },
     "execution_count": 93,
     "metadata": {},
     "output_type": "execute_result"
    }
   ],
   "source": [
    "@benchmark jackEstimate(mean, energies, 2^7; skip_check=true)"
   ]
  }
 ],
 "metadata": {
  "kernelspec": {
   "display_name": "Julia -p 2 0.6.4",
   "language": "julia",
   "name": "julia--p-2-0.6"
  },
  "language_info": {
   "file_extension": ".jl",
   "mimetype": "application/julia",
   "name": "julia",
   "version": "0.6.4"
  }
 },
 "nbformat": 4,
 "nbformat_minor": 2
}
