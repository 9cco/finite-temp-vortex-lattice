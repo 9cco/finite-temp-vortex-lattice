{
 "cells": [
  {
   "cell_type": "markdown",
   "metadata": {},
   "source": [
    "Getting the energy functions to work"
   ]
  },
  {
   "cell_type": "code",
   "execution_count": 1,
   "metadata": {},
   "outputs": [
    {
     "data": {
      "text/plain": [
       "copy (generic function with 46 methods)"
      ]
     },
     "execution_count": 1,
     "metadata": {},
     "output_type": "execute_result"
    }
   ],
   "source": [
    "type LatticeSite\n",
    "    A::Array{Float64,1}  # Fluctuating vector potential\n",
    "    θ⁺::Float64 # Phase of the + component\n",
    "    θ⁻::Float64 # Phase of the - component\n",
    "    u⁺::Float64 # Amplitude of + component\n",
    "end\n",
    "type State\n",
    "    lattice::Array{LatticeSite,2}  # Numerical lattice\n",
    "    γ::Float64    # Order parameter amplitude\n",
    "    g::Float64    # Gauge coupling\n",
    "    ν::Float64    # Anisotropy constant\n",
    "    f::Float64    # Magnetic filling fraction\n",
    "end\n",
    "function initializeState(N::Int64, choice::Int64)\n",
    "    N <= 1 && throw(DomainError())\n",
    "    \n",
    "    # Constants\n",
    "    γ = 1.0    # Order parameter amplitude\n",
    "    g = 1.0    # Gauge coupling\n",
    "    ν = 0.0    # Anisotropy constant\n",
    "    f = 0.0    # Magnetic filling fraction\n",
    "    \n",
    "    # Construct ordered state \n",
    "    if choice == 1\n",
    "        \n",
    "        # Construct NxN lattice of NxN LatticeSites\n",
    "        lattice = [LatticeSite([0,0],0,0,0) for y=1:N, x=1:N]\n",
    "        ψ = State(lattice, γ, g, ν, f)\n",
    "        \n",
    "    # Construct random state\n",
    "    elseif choice == 2\n",
    "        Amax::Int64 = 2^10\n",
    "        lattice = [LatticeSite([rand()*Amax*(-1)^rand(0:1),rand()*Amax*(-1)^rand(0:1)],\n",
    "                rand()*2*π,rand()*2*π, rand()) for y=1:N, x=1:N]\n",
    "        ψ = State(lattice, γ, g, ν, f)\n",
    "        \n",
    "    # We only have choices 1 and 2 so far so other values for choice will give an error.\n",
    "    else\n",
    "        throw(DomainError())\n",
    "    end\n",
    "    ψ\n",
    "end\n",
    "import Base.copy\n",
    "function copy(ϕ::LatticeSite)\n",
    "    LatticeSite([ϕ.A[1],ϕ.A[2]],ϕ.θ⁺,ϕ.θ⁻,ϕ.u⁺)\n",
    "end\n",
    "function copy(ψ::State)\n",
    "    Lx = size(ψ.lattice,2)\n",
    "    Ly = size(ψ.lattice,1)\n",
    "    lattice = [LatticeSite([ψ.lattice[y,x].A[1],ψ.lattice[y,x].A[2]],ψ.lattice[y,x].θ⁺,ψ.lattice[y,x].θ⁻,\n",
    "            ψ.lattice[y,x].u⁺) for y = 1:Ly, x=1:Lx]\n",
    "    State(lattice, ψ.γ, ψ.g, ψ.ν, ψ.f)\n",
    "end"
   ]
  },
  {
   "cell_type": "code",
   "execution_count": 2,
   "metadata": {},
   "outputs": [
    {
     "data": {
      "text/plain": [
       "fᵣ (generic function with 1 method)"
      ]
     },
     "execution_count": 2,
     "metadata": {},
     "output_type": "execute_result"
    }
   ],
   "source": [
    "function fᵣ(ϕ::LatticeSite,ϕᵣ₊₁::LatticeSite,ϕᵣ₊₂::LatticeSite,A₀::Float64,γ::Float64,g::Float64,ν::Float64,f::Float64)\n",
    "    energy = 0\n",
    "    uᵣ₊₁⁻ = √(1-ϕᵣ₊₁.u⁺^2)\n",
    "    u⁻ = √(1-ϕ.u⁺^2)\n",
    "    uᵣ₊₂⁻ = √(1-ϕᵣ₊₂.u⁺^2)\n",
    "    A₂ = ϕ.A[2]+A₀\n",
    "    # Kinetic energy Fₖ\n",
    "    energy += -2*γ^2*(ϕᵣ₊₁.u⁺ *ϕ.u⁺*cos(ϕᵣ₊₁.θ⁺-ϕ.θ⁺ + g*ϕ.A[1]) \n",
    "        + ϕᵣ₊₂.u⁺*ϕ.u⁺*cos(ϕᵣ₊₂.θ⁺-ϕ.θ⁺ + g*A₂) \n",
    "        + uᵣ₊₁⁻*u⁻*cos(ϕᵣ₊₁.θ⁻-ϕ.θ⁻ + g*ϕ.A[1]) \n",
    "        + uᵣ₊₂⁻*u⁻*cos(ϕᵣ₊₂.θ⁻-ϕ.θ⁻ + g*A₂) )\n",
    "    # Potential energy Fᵥ\n",
    "    energy += γ^4*ϕ.u⁺^2*u⁻^2*(1+ν*cos(2*(ϕ.θ⁺-ϕ.θ⁻)))\n",
    "    # Andreev Bashkin terms\n",
    "    energy += γ^2*(ν+1)*(u⁻*ϕᵣ₊₂.u⁺*cos(ϕᵣ₊₂.θ⁺-ϕ.θ⁻ + g*A₂) \n",
    "        + ϕ.u⁺*uᵣ₊₂⁻*cos(ϕᵣ₊₂.θ⁻-ϕ.θ⁺ + g*A₂) \n",
    "        - u⁻*ϕᵣ₊₁.u⁺*cos(ϕᵣ₊₁.θ⁺ - ϕ.θ⁻ + g*ϕ.A[1]) \n",
    "        - ϕ.u⁺*uᵣ₊₁⁻*cos(ϕᵣ₊₁.θ⁻ - ϕ.θ⁺ + g*ϕ.A[1]))\n",
    "    # Mixed gradient terms\n",
    "    energy += γ^2*(ν-1)*(ϕᵣ₊₂.u⁺*uᵣ₊₁⁻*sin(ϕᵣ₊₁.θ⁻ - ϕᵣ₊₂.θ⁺ + g*(ϕ.A[1]-A₂)) \n",
    "        - uᵣ₊₂⁻*ϕᵣ₊₁.u⁺*sin(ϕᵣ₊₁.θ⁺ - ϕᵣ₊₂.θ⁻ + g*(ϕ.A[1] - A₂)) \n",
    "        + 2*ϕ.u⁺*u⁻*sin(ϕ.θ⁻-ϕ.θ⁺) \n",
    "        -  u⁻*ϕᵣ₊₂.u⁺*sin(ϕᵣ₊₂.θ⁺-ϕ.θ⁻ + g*A₂) \n",
    "        + ϕ.u⁺*uᵣ₊₂⁻*sin(ϕᵣ₊₂.θ⁻-ϕ.θ⁺ + g*A₂) \n",
    "        + u⁻*ϕᵣ₊₁.u⁺*sin(ϕᵣ₊₁.θ⁺ - ϕ.θ⁻ + g*ϕ.A[1]) \n",
    "        - ϕ.u⁺*uᵣ₊₁⁻*sin(ϕᵣ₊₁.θ⁻ - ϕ.θ⁺ + g*ϕ.A[1]))\n",
    "    energy\n",
    "end"
   ]
  },
  {
   "cell_type": "code",
   "execution_count": 3,
   "metadata": {},
   "outputs": [
    {
     "data": {
      "text/plain": [
       "E (generic function with 1 method)"
      ]
     },
     "execution_count": 3,
     "metadata": {},
     "output_type": "execute_result"
    }
   ],
   "source": [
    "# Loops over all positions of the lattice of a state and calculates the total energy from the\n",
    "# Higgs-field terms using the function fᵣ() + the energy from the gauge field.\n",
    "function E(ψ::State)\n",
    "    γ = ψ.γ\n",
    "    g = ψ.g\n",
    "    energy = 0.0\n",
    "    ν = ψ.ν\n",
    "    f = ψ.f\n",
    "    Lx = size(ψ.lattice,2)\n",
    "    Ly = size(ψ.lattice,1)\n",
    "    \n",
    "    # Contribution from upper right corner\n",
    "    A⁰ = (Lx-1)*2π*f\n",
    "    ϕ = ψ.lattice[1,Lx]    # Lattice site at upper right corner\n",
    "    ϕᵣ₊₁ = ψ.lattice[1,1]    # Nearest neighbor at r+x is upper left corner\n",
    "    ϕᵣ₊₂ = ψ.lattice[Ly,Lx]  # Nearest neighbor at r+y is lower right corner\n",
    "    energy += fᵣ(ϕ,ϕᵣ₊₁,ϕᵣ₊₂,A⁰,γ,g,ν,f)              # Higgs terms\n",
    "    energy += (ϕ.A[1] + ϕᵣ₊₁.A[2]-ϕᵣ₊₂.A[1]-ϕ.A[2])^2 # Maxwell term\n",
    "    \n",
    "    # Contribution from right boundary paralell to y-axis\n",
    "    # except for the upper right corneϕ.\n",
    "    for y=2:Ly\n",
    "        ϕ = ψ.lattice[y,Lx]\n",
    "        ϕᵣ₊₁ = ψ.lattice[y,1]\n",
    "        ϕᵣ₊₂ = ψ.lattice[y-1,Lx]\n",
    "        A⁰ = (Lx-1)*2*π*f\n",
    "        energy += fᵣ(ϕ,ϕᵣ₊₁,ϕᵣ₊₂,A⁰,γ,g,ν,f)              # Higgs terms\n",
    "        energy += (ϕ.A[1] + ϕᵣ₊₁.A[2]-ϕᵣ₊₂.A[1]-ϕ.A[2])^2\n",
    "    end\n",
    "    \n",
    "    # Contribution from the bulk of lattice sites and upper boundary\n",
    "    for x=1:(Lx-1)\n",
    "        A⁰ = (x-1)*2*π*f        # Constant vector potential.\n",
    "        # Constribution from upper boundary except upper right corner\n",
    "        ϕ = ψ.lattice[1,x]\n",
    "        ϕᵣ₊₁ = ψ.lattice[1,x+1]\n",
    "        ϕᵣ₊₂ = ψ.lattice[Ly,x]\n",
    "        energy += fᵣ(ϕ,ϕᵣ₊₁,ϕᵣ₊₂,A⁰,γ,g,ν,f)              # Higgs terms\n",
    "        energy += (ϕ.A[1] + ϕᵣ₊₁.A[2]-ϕᵣ₊₂.A[1]-ϕ.A[2])^2\n",
    "        \n",
    "        # Contribution from the rest of the bulk.\n",
    "        for y=2:Ly\n",
    "            ϕ = ψ.lattice[y,x]          # Lattice site at position r\n",
    "            ϕᵣ₊₁ = ψ.lattice[y,x+1]       # Nearest neighbor at r+x\n",
    "            ϕᵣ₊₂ = ψ.lattice[y-1,x]       # Nearest neighbor at r+y\n",
    "            \n",
    "            energy += fᵣ(ϕ,ϕᵣ₊₁,ϕᵣ₊₂,A⁰,γ,g,ν,f)              # Higgs terms\n",
    "            energy += (ϕ.A[1] + ϕᵣ₊₁.A[2]-ϕᵣ₊₂.A[1]-ϕ.A[2])^2\n",
    "        end\n",
    "    end\n",
    "    \n",
    "    energy\n",
    "end"
   ]
  },
  {
   "cell_type": "markdown",
   "metadata": {},
   "source": [
    "Let's do a unit test that the energy function acts as expected."
   ]
  },
  {
   "cell_type": "code",
   "execution_count": 4,
   "metadata": {},
   "outputs": [
    {
     "name": "stdout",
     "output_type": "stream",
     "text": [
      "\u001b[1m\u001b[91mTest Failed\n",
      "\u001b[39m\u001b[22m  Expression: E(ψ) == -4 * (3 + cos((2 * π * 1) / 32))\n",
      "   Evaluated: -16.0 == -15.923141121612922\n"
     ]
    },
    {
     "ename": "LoadError",
     "evalue": "\u001b[91mThere was an error during testing\u001b[39m",
     "output_type": "error",
     "traceback": [
      "\u001b[91mThere was an error during testing\u001b[39m",
      "",
      "Stacktrace:",
      " [1] \u001b[1mrecord\u001b[22m\u001b[22m\u001b[1m(\u001b[22m\u001b[22m::Base.Test.FallbackTestSet, ::Base.Test.Fail\u001b[1m)\u001b[22m\u001b[22m at \u001b[1m./test.jl:533\u001b[22m\u001b[22m",
      " [2] \u001b[1mdo_test\u001b[22m\u001b[22m\u001b[1m(\u001b[22m\u001b[22m::Base.Test.Returned, ::Expr\u001b[1m)\u001b[22m\u001b[22m at \u001b[1m./test.jl:352\u001b[22m\u001b[22m"
     ]
    }
   ],
   "source": [
    "# Tests mostly that the kinetic energy Fₖ is correctly calculated.\n",
    "using Base.Test\n",
    "f = 1.0/33\n",
    "ψ = initializeState(2, 1)\n",
    "@test E(ψ) == -4*(3+cos(2*π*1/32))"
   ]
  },
  {
   "cell_type": "code",
   "execution_count": 96,
   "metadata": {},
   "outputs": [
    {
     "data": {
      "text/plain": [
       "ΔE2 (generic function with 1 method)"
      ]
     },
     "execution_count": 96,
     "metadata": {},
     "output_type": "execute_result"
    }
   ],
   "source": [
    "# If we don't try to be fancy about it, we could just use fᵣ for each of the points around the\n",
    "# updated lattice site.\n",
    "#\n",
    "function ΔE2(ψ::State, ϕ′::LatticeSite, pos::Array{Int64,1})\n",
    "    x = pos[1]\n",
    "    y = pos[2]\n",
    "    Ly = size(ψ.lattice,1)\n",
    "    Lx = size(ψ.lattice,2)\n",
    "    δE = 0.0\n",
    "    ϕ = ψ.lattice[y,x]\n",
    "    \n",
    "    # Calculate nearest neighbor lattice sites.\n",
    "    const ϕᵣ₊₁ = ψ.lattice[y, mod(x,Lx)+1]\n",
    "    const ϕᵣ₊₂ = ψ.lattice[mod(y-2,Ly)+1,x]\n",
    "    const ϕᵣ₋₁ = ψ.lattice[y,mod(x-2,Lx)+1]\n",
    "    const ϕᵣ₋₂ = ψ.lattice[mod(y,Ly)+1,x]\n",
    "    const ϕᵣ₋₁₊₂ = ψ.lattice[mod(y-2,Ly)+1,mod(x-2,Lx)+1]\n",
    "    const ϕᵣ₋₂₊₁ = ψ.lattice[mod(y,Ly)+1,mod(x,Lx)+1]\n",
    "    \n",
    "    # Energy difference from Higgs field terms\n",
    "    # First contribution from current position.\n",
    "    δE += fᵣ(ϕ′,ϕᵣ₊₁,ϕᵣ₊₂,2π*ψ.f*(x-1),ψ.γ,ψ.g,ψ.ν,ψ.f)-fᵣ(ϕ,ϕᵣ₊₁,ϕᵣ₊₂,2π*ψ.f*(x-1),ψ.γ,ψ.g,ψ.ν,ψ.f)\n",
    "    # Then from position r-x\n",
    "    δE += fᵣ(ϕᵣ₋₁,ϕ′,ϕᵣ₋₁₊₂,2π*ψ.f*(x-2),ψ.γ,ψ.g,ψ.ν,ψ.f)-fᵣ(ϕᵣ₋₁,ϕ,ϕᵣ₋₁₊₂,2π*ψ.f*(x-2),ψ.γ,ψ.g,ψ.ν,ψ.f)\n",
    "    # Then from position r-y\n",
    "    δE += fᵣ(ϕᵣ₋₂,ϕᵣ₋₂₊₁,ϕ′,2π*ψ.f*(x-1),ψ.γ,ψ.g,ψ.ν,ψ.f)-fᵣ(ϕᵣ₋₂,ϕᵣ₋₂₊₁,ϕ,2π*ψ.f*(x-1),ψ.γ,ψ.g,ψ.ν,ψ.f)\n",
    "    \n",
    "    # Then calculate the Gauge field contribution\n",
    "    # First contribution from current position\n",
    "    δE += (ϕ′.A[1] + ϕᵣ₊₁.A[2] - ϕᵣ₊₂.A[1] - ϕ′.A[2])^2 - (ϕ.A[1] + ϕᵣ₊₁.A[2] - ϕᵣ₊₂.A[1] - ϕ.A[2])^2\n",
    "    # Then from position r-x\n",
    "    δE += (ϕᵣ₋₁.A[1] + ϕ′.A[2] - ϕᵣ₋₁₊₂.A[1] - ϕᵣ₋₁.A[2])^2 - (ϕᵣ₋₁.A[1] + ϕ.A[2] - ϕᵣ₋₁₊₂.A[1] - ϕᵣ₋₁.A[2])^2\n",
    "    # Then from position r-y\n",
    "    δE += (ϕᵣ₋₂.A[1] + ϕᵣ₋₂₊₁.A[2] - ϕ′.A[1] - ϕᵣ₋₂.A[2])^2 - (ϕᵣ₋₂.A[1] + ϕᵣ₋₂₊₁.A[2] - ϕ.A[1] - ϕᵣ₋₂.A[2])^2\n",
    "end "
   ]
  },
  {
   "cell_type": "code",
   "execution_count": 97,
   "metadata": {},
   "outputs": [
    {
     "data": {
      "text/plain": [
       "ΔE3 (generic function with 1 method)"
      ]
     },
     "execution_count": 97,
     "metadata": {},
     "output_type": "execute_result"
    }
   ],
   "source": [
    "# Now we try to be fancy about it and use the reduced formula for the difference between the energies\n",
    "#\n",
    "function ΔE3(ψ::State, ϕ′::LatticeSite, pos::Array{Int64,1})\n",
    "    const x = pos[1]\n",
    "    const y = pos[2]\n",
    "    const Ly = size(ψ.lattice,1)\n",
    "    const Lx = size(ψ.lattice,2)\n",
    "    const ϕ = ψ.lattice[y,x]\n",
    "    const g = ψ.g\n",
    "    const δE::Float64 = 0.0\n",
    "    \n",
    "    # Calculate nearest neighbor lattice sites.\n",
    "    const ϕᵣ₊₁ = ψ.lattice[y, mod(x,Lx)+1]\n",
    "    const ϕᵣ₊₂ = ψ.lattice[mod(y-2,Ly)+1,x]\n",
    "    const ϕᵣ₋₁ = ψ.lattice[y,mod(x-2,Lx)+1]\n",
    "    const ϕᵣ₋₂ = ψ.lattice[mod(y,Ly)+1,x]\n",
    "    const ϕᵣ₋₁₊₂ = ψ.lattice[mod(y-2,Ly)+1,mod(x-2,Lx)+1]\n",
    "    const ϕᵣ₋₂₊₁ = ψ.lattice[mod(y,Ly)+1,mod(x,Lx)+1]\n",
    "    \n",
    "    # Calculate u⁻ for these lattice sites\n",
    "    const u′⁻ = √(1-ϕ′.u⁺^2)\n",
    "    const u⁻ = √(1-ϕ.u⁺^2)\n",
    "    const u⁻ᵣ₊₁ = √(1-ϕᵣ₊₁.u⁺^2)\n",
    "    const u⁻ᵣ₊₂ = √(1-ϕᵣ₊₂.u⁺^2)\n",
    "    const u⁻ᵣ₋₁ = √(1-ϕᵣ₋₁.u⁺^2)\n",
    "    const u⁻ᵣ₋₂ = √(1-ϕᵣ₋₂.u⁺^2)\n",
    "    const u⁻ᵣ₋₁₊₂ = √(1-ϕᵣ₋₁₊₂.u⁺^2)\n",
    "    const u⁻ᵣ₋₂₊₁ = √(1-ϕᵣ₋₂₊₁.u⁺^2)\n",
    "    \n",
    "    # Calculate constant link variables\n",
    "    const A⁰ = 2π*ψ.f*(x-1)\n",
    "    #const A⁰₊ = 2π*ψ.f*x\n",
    "    const A⁰₋ = 2π*ψ.f*(x-2)\n",
    "    \n",
    "    # Normal kinetic terms\n",
    "    δE += -2*ψ.γ^2*(ϕᵣ₊₁.u⁺*(ϕ′.u⁺*cos(ϕᵣ₊₁.θ⁺ - ϕ′.θ⁺ + g*ϕ′.A[1]) - ϕ.u⁺*cos(ϕᵣ₊₁.θ⁺ - ϕ.θ⁺ + g*ϕ.A[1]))\n",
    "        + ϕᵣ₋₁.u⁺*(ϕ′.u⁺*cos(ϕ′.θ⁺-ϕᵣ₋₁.θ⁺+g*ϕᵣ₋₁.A[1]) - ϕ.u⁺*cos(ϕ.θ⁺-ϕᵣ₋₁.θ⁺+g*ϕᵣ₋₁.A[1]))\n",
    "        + u⁻ᵣ₊₁*(u′⁻*cos(ϕᵣ₊₁.θ⁻ - ϕ′.θ⁻ + g*ϕ′.A[1]) - u⁻*cos(ϕᵣ₊₁.θ⁻ - ϕ.θ⁻ + g*ϕ.A[1]))\n",
    "        + u⁻ᵣ₋₁*(u′⁻*cos(ϕ′.θ⁻-ϕᵣ₋₁.θ⁻+g*ϕᵣ₋₁.A[1]) - u⁻*cos(ϕ.θ⁻-ϕᵣ₋₁.θ⁻+g*ϕᵣ₋₁.A[1]))\n",
    "        + ϕᵣ₊₂.u⁺*(ϕ′.u⁺*cos(ϕᵣ₊₂.θ⁺ - ϕ′.θ⁺ + g*(ϕ′.A[2]+A⁰)) - ϕ.u⁺*cos(ϕᵣ₊₂.θ⁺ - ϕ.θ⁺ + g*(ϕ.A[2]+A⁰)))\n",
    "        + ϕᵣ₋₂.u⁺*(ϕ′.u⁺*cos(ϕ′.θ⁺-ϕᵣ₋₂.θ⁺+g*(ϕᵣ₋₂.A[2]+A⁰)) - ϕ.u⁺*cos(ϕ.θ⁺-ϕᵣ₋₂.θ⁺+g*(ϕᵣ₋₂.A[2]+A⁰)))\n",
    "        + u⁻ᵣ₊₂*(u′⁻*cos(ϕᵣ₊₂.θ⁻ - ϕ′.θ⁻ + g*(ϕ′.A[2]+A⁰)) - u⁻*cos(ϕᵣ₊₂.θ⁻ - ϕ.θ⁻ + g*(ϕ.A[2]+A⁰)))\n",
    "        + u⁻ᵣ₋₂*(u′⁻*cos(ϕ′.θ⁻-ϕᵣ₋₂.θ⁻+g*(ϕᵣ₋₂.A[2]+A⁰)) - u⁻*cos(ϕ.θ⁻-ϕᵣ₋₂.θ⁻+g*(ϕᵣ₋₂.A[2]+A⁰))))\n",
    "    \n",
    "    # Potential energy terms\n",
    "    δE += ψ.γ^4*((ϕ′.u⁺*u′⁻)^2*(1+ψ.ν*cos(2*(ϕ′.θ⁺ - ϕ′.θ⁻))) - (ϕ.u⁺*u⁻)^2*(1+ψ.ν*cos(2*(ϕ.θ⁺ - ϕ.θ⁻))))\n",
    "    \n",
    "    # Andreev-Bashkin terms\n",
    "    δE += ψ.γ^2*(ψ.ν+1)*(ϕᵣ₊₂.u⁺*(u′⁻*cos(ϕᵣ₊₂.θ⁺-ϕ′.θ⁻+g*(ϕ′.A[2]+A⁰)) - u⁻*cos(ϕᵣ₊₂.θ⁺-ϕ.θ⁻+g*(ϕ.A[2]+A⁰))) \n",
    "        - ϕᵣ₊₁.u⁺*(u′⁻*cos(ϕᵣ₊₁.θ⁺-ϕ′.θ⁻+g*ϕ′.A[1]) - u⁻*cos(ϕᵣ₊₁.θ⁺-ϕ.θ⁻+g*ϕ.A[1])) \n",
    "        + u⁻ᵣ₋₂*(ϕ′.u⁺*cos(ϕ′.θ⁺-ϕᵣ₋₂.θ⁻+g*(ϕᵣ₋₂.A[2]+A⁰)) - ϕ.u⁺*cos(ϕ.θ⁺-ϕᵣ₋₂.θ⁻+g*(ϕᵣ₋₂.A[2]+A⁰))) \n",
    "        - u⁻ᵣ₋₁*(ϕ′.u⁺*cos(ϕ′.θ⁺-ϕᵣ₋₁.θ⁻+g*ϕᵣ₋₁.A[1]) - ϕ.u⁺*cos(ϕ.θ⁺-ϕᵣ₋₁.θ⁻+g*ϕᵣ₋₁.A[1]))\n",
    "        + u⁻ᵣ₊₂*(ϕ′.u⁺*cos(ϕᵣ₊₂.θ⁻-ϕ′.θ⁺+g*(ϕ′.A[2]+A⁰)) - ϕ.u⁺*cos(ϕᵣ₊₂.θ⁻-ϕ.θ⁺+g*(ϕ.A[2]+A⁰))) \n",
    "        - u⁻ᵣ₊₁*(ϕ′.u⁺*cos(ϕᵣ₊₁.θ⁻-ϕ′.θ⁺+g*ϕ′.A[1]) - ϕ.u⁺*cos(ϕᵣ₊₁.θ⁻-ϕ.θ⁺+g*ϕ.A[1])) \n",
    "        + ϕᵣ₋₂.u⁺*(u′⁻*cos(ϕ′.θ⁻-ϕᵣ₋₂.θ⁺+g*(ϕᵣ₋₂.A[2]+A⁰)) - u⁻*cos(ϕ.θ⁻-ϕᵣ₋₂.θ⁺+g*(ϕᵣ₋₂.A[2]+A⁰))) \n",
    "        - ϕᵣ₋₁.u⁺*(u′⁻*cos(ϕ′.θ⁻-ϕᵣ₋₁.θ⁺+g*ϕᵣ₋₁.A[1]) - u⁻*cos(ϕ.θ⁻-ϕᵣ₋₁.θ⁺+g*ϕᵣ₋₁.A[1])))\n",
    "    \n",
    "    # Mixed gradient terms\n",
    "    δE += ψ.γ^2*(ψ.ν-1)*(ϕᵣ₊₂.u⁺*u⁻ᵣ₊₁*(sin(ϕᵣ₊₁.θ⁻-ϕᵣ₊₂.θ⁺ + g*(ϕ′.A[1] - (ϕ′.A[2]+A⁰))) \n",
    "            - sin(ϕᵣ₊₁.θ⁻-ϕᵣ₊₂.θ⁺ + g*(ϕ.A[1] - (ϕ.A[2]+A⁰)))) \n",
    "        -ϕᵣ₊₂.u⁺*(u′⁻*sin(ϕᵣ₊₂.θ⁺-ϕ′.θ⁻+g*(ϕ′.A[2]+A⁰)) - u⁻*sin(ϕᵣ₊₂.θ⁺-ϕ.θ⁻+g*(ϕ.A[2]+A⁰))) \n",
    "        +ϕᵣ₊₁.u⁺*(u′⁻*sin(ϕᵣ₊₁.θ⁺-ϕ′.θ⁻+g*ϕ′.A[1]) - u⁻*sin(ϕᵣ₊₁.θ⁺-ϕ.θ⁻+g*ϕ.A[1])) \n",
    "        +u⁻ᵣ₋₂₊₁*(ϕ′.u⁺*sin(ϕᵣ₋₂₊₁.θ⁻-ϕ′.θ⁺+g*(ϕᵣ₋₂.A[1] - (ϕᵣ₋₂.A[2]+A⁰))) \n",
    "            - ϕ.u⁺*sin(ϕᵣ₋₂₊₁.θ⁻-ϕ.θ⁺+g*(ϕᵣ₋₂.A[1] - (ϕᵣ₋₂.A[2]+A⁰)))) \n",
    "        +ϕᵣ₋₁₊₂.u⁺*(u′⁻*sin(ϕ′.θ⁻-ϕᵣ₋₁₊₂.θ⁺+g*(ϕᵣ₋₁.A[1]-(ϕᵣ₋₁.A[2]+A⁰₋))) \n",
    "            - u⁻*sin(ϕ.θ⁻-ϕᵣ₋₁₊₂.θ⁺+g*(ϕᵣ₋₁.A[1]-(ϕᵣ₋₁.A[2]+A⁰₋)))) \n",
    "        -u⁻ᵣ₋₂*(ϕ′.u⁺*sin(ϕ′.θ⁺-ϕᵣ₋₂.θ⁻+g*(ϕᵣ₋₂.A[2]+A⁰)) - ϕ.u⁺*sin(ϕ.θ⁺-ϕᵣ₋₂.θ⁻+g*(ϕᵣ₋₂.A[2]+A⁰))) \n",
    "        +u⁻ᵣ₋₁*(ϕ′.u⁺*sin(ϕ′.θ⁺-ϕᵣ₋₁.θ⁻+g*ϕᵣ₋₁.A[1]) - ϕ.u⁺*sin(ϕ.θ⁺-ϕᵣ₋₁.θ⁻+g*ϕᵣ₋₁.A[1])) \n",
    "        -(u⁻ᵣ₊₂*ϕᵣ₊₁.u⁺*(sin(ϕᵣ₊₁.θ⁺-ϕᵣ₊₂.θ⁻ + g*(ϕ′.A[1] - (ϕ′.A[2]+A⁰))) \n",
    "            - sin(ϕᵣ₊₁.θ⁺-ϕᵣ₊₂.θ⁻ + g*(ϕ.A[1] - (ϕ.A[2]+A⁰)))) \n",
    "        -u⁻ᵣ₊₂*(ϕ′.u⁺*sin(ϕᵣ₊₂.θ⁻-ϕ′.θ⁺+g*(ϕ′.A[2]+A⁰)) - ϕ.u⁺*sin(ϕᵣ₊₂.θ⁻-ϕ.θ⁺+g*(ϕ.A[2]+A⁰))) \n",
    "        +u⁻ᵣ₊₁*(ϕ′.u⁺*sin(ϕᵣ₊₁.θ⁻-ϕ′.θ⁺+g*ϕ′.A[1]) - ϕ.u⁺*sin(ϕᵣ₊₁.θ⁻-ϕ.θ⁺+g*ϕ.A[1])) \n",
    "        +ϕᵣ₋₂₊₁.u⁺*(u′⁻*sin(ϕᵣ₋₂₊₁.θ⁺-ϕ′.θ⁻+g*(ϕᵣ₋₂.A[1] - (ϕᵣ₋₂.A[2]+A⁰))) \n",
    "            - u⁻*sin(ϕᵣ₋₂₊₁.θ⁺-ϕ.θ⁻+g*(ϕᵣ₋₂.A[1] - (ϕᵣ₋₂.A[2]+A⁰)))) \n",
    "        +u⁻ᵣ₋₁₊₂*(ϕ′.u⁺*sin(ϕ′.θ⁺-ϕᵣ₋₁₊₂.θ⁻+g*(ϕᵣ₋₁.A[1]-(ϕᵣ₋₁.A[2]+A⁰₋))) \n",
    "            - ϕ.u⁺*sin(ϕ.θ⁺-ϕᵣ₋₁₊₂.θ⁻+g*(ϕᵣ₋₁.A[1]-(ϕᵣ₋₁.A[2]+A⁰₋)))) \n",
    "        -ϕᵣ₋₂.u⁺*(u′⁻*sin(ϕ′.θ⁻-ϕᵣ₋₂.θ⁺+g*(ϕᵣ₋₂.A[2]+A⁰)) - u⁻*sin(ϕ.θ⁻-ϕᵣ₋₂.θ⁺+g*(ϕᵣ₋₂.A[2]+A⁰))) \n",
    "        +ϕᵣ₋₁.u⁺*(u′⁻*sin(ϕ′.θ⁻-ϕᵣ₋₁.θ⁺+g*ϕᵣ₋₁.A[1]) - u⁻*sin(ϕ.θ⁻-ϕᵣ₋₁.θ⁺+g*ϕᵣ₋₁.A[1])))\n",
    "        +2*(ϕ′.u⁺*u′⁻*sin(ϕ′.θ⁻-ϕ′.θ⁺) - ϕ.u⁺*u⁻*sin(ϕ.θ⁻-ϕ.θ⁺)))\n",
    "    \n",
    "    # Then calculate the Gauge field contribution\n",
    "    # First contribution from current position\n",
    "    δE += (ϕ′.A[1] + ϕᵣ₊₁.A[2] - ϕᵣ₊₂.A[1] - ϕ′.A[2])^2 - (ϕ.A[1] + ϕᵣ₊₁.A[2] - ϕᵣ₊₂.A[1] - ϕ.A[2])^2\n",
    "    # Then from position r-x\n",
    "    δE += (ϕᵣ₋₁.A[1] + ϕ′.A[2] - ϕᵣ₋₁₊₂.A[1] - ϕᵣ₋₁.A[2])^2 - (ϕᵣ₋₁.A[1] + ϕ.A[2] - ϕᵣ₋₁₊₂.A[1] - ϕᵣ₋₁.A[2])^2\n",
    "    # Then from position r-y\n",
    "    δE += (ϕᵣ₋₂.A[1] + ϕᵣ₋₂₊₁.A[2] - ϕ′.A[1] - ϕᵣ₋₂.A[2])^2 - (ϕᵣ₋₂.A[1] + ϕᵣ₋₂₊₁.A[2] - ϕ.A[1] - ϕᵣ₋₂.A[2])^2\n",
    "end"
   ]
  },
  {
   "cell_type": "code",
   "execution_count": 7,
   "metadata": {},
   "outputs": [
    {
     "name": "stdout",
     "output_type": "stream",
     "text": [
      "Ly = size(ψ₂.lattice, 1) = 3\n",
      "ΔE2(ψ₂, site, [2, 2]) = 3.422412591346157e6\n",
      "ΔE3(ψ₂, site, [2, 2]) = 3.422412591346157e6\n",
      "E(ψ₁) - E(ψ₂) = 3.422412591346156e6\n",
      "ΔE2(ψ₂, site, [2, 2]) == ΔE3(ψ₂, site, [2, 2]) = true\n",
      "E(ψ₁) = 2.0431051121835228e7\n",
      "isapprox(E(ψ₁) - E(ψ₂), ΔE3(ψ₂, site, [2, 2]); atol=1.0e-8, rtol=0) = true\n"
     ]
    },
    {
     "data": {
      "text/plain": [
       "true"
      ]
     },
     "execution_count": 7,
     "metadata": {},
     "output_type": "execute_result"
    }
   ],
   "source": [
    "# Test case. We make a 3x3 lattice, and put two different lattice sites in the middle\n",
    "# i.e. the [2,2] position. Then we use the different functions to calculate the energy\n",
    "# difference associated with this change.\n",
    "\n",
    "ψ₂ = initializeState(3,2)\n",
    "site = LatticeSite([0.0,0.0], 0, 0,1)\n",
    "@show Ly = size(ψ₂.lattice,1)\n",
    "ψ₁ = copy(ψ₂)\n",
    "ψ₁.lattice[2,2] = copy(site)\n",
    "@show ΔE2(ψ₂,site,[2,2])\n",
    "@show ΔE3(ψ₂,site,[2,2])\n",
    "@show E(ψ₁)-E(ψ₂)\n",
    "@show ΔE2(ψ₂,site,[2,2]) == ΔE3(ψ₂,site,[2,2])\n",
    "@show E(ψ₁)\n",
    "@show isapprox(E(ψ₁)-E(ψ₂), ΔE3(ψ₂,site,[2,2]); atol=0.00000000000001e6, rtol=0)"
   ]
  },
  {
   "cell_type": "markdown",
   "metadata": {},
   "source": [
    "It seems that the difference between using `E(ψ₁)-E(ψ₂)`and `ΔE2(ψ₂,site,[2,2])` is floating point error."
   ]
  },
  {
   "cell_type": "code",
   "execution_count": 34,
   "metadata": {},
   "outputs": [
    {
     "data": {
      "text/plain": [
       "BenchmarkTools.Trial: \n",
       "  memory estimate:  112 bytes\n",
       "  allocs estimate:  2\n",
       "  --------------\n",
       "  minimum time:     1.803 μs (0.00% GC)\n",
       "  median time:      1.829 μs (0.00% GC)\n",
       "  mean time:        1.906 μs (0.00% GC)\n",
       "  maximum time:     6.019 μs (0.00% GC)\n",
       "  --------------\n",
       "  samples:          10000\n",
       "  evals/sample:     10"
      ]
     },
     "execution_count": 34,
     "metadata": {},
     "output_type": "execute_result"
    }
   ],
   "source": [
    "using BenchmarkTools\n",
    "@benchmark ΔE2(ψ₂,site,[2,2])"
   ]
  },
  {
   "cell_type": "code",
   "execution_count": 88,
   "metadata": {},
   "outputs": [
    {
     "data": {
      "text/plain": [
       "BenchmarkTools.Trial: \n",
       "  memory estimate:  224 bytes\n",
       "  allocs estimate:  9\n",
       "  --------------\n",
       "  minimum time:     1.302 μs (0.00% GC)\n",
       "  median time:      1.320 μs (0.00% GC)\n",
       "  mean time:        1.404 μs (2.39% GC)\n",
       "  maximum time:     344.822 μs (97.52% GC)\n",
       "  --------------\n",
       "  samples:          10000\n",
       "  evals/sample:     10"
      ]
     },
     "execution_count": 88,
     "metadata": {},
     "output_type": "execute_result"
    }
   ],
   "source": [
    "@benchmark ΔE3(ψ₂,site,[2,2])"
   ]
  },
  {
   "cell_type": "markdown",
   "metadata": {},
   "source": [
    "For some reason there seems to be a problem with `ΔE3` allocating memory to heap, but still it is faster than `ΔE2` because we are not wasting time summing 0es. Not sure how to prevent the memory issue"
   ]
  },
  {
   "cell_type": "markdown",
   "metadata": {},
   "source": [
    "# Proposal of a local state update\n",
    "Given a state $\\Psi_i$ we want to propose a new state $\\Psi_{i+1}$ that can later be accepted according to the Metropolis-Hastings algorithm. The proposal function thus has to take in a given state $\\Psi_i$ and give out a new\n",
    "state $\\Psi_{i+1}$ as well as the energy difference between the two states since this can be effectively calculated depending on what kind of update is done to the state. Thus we don't need to call $E(\\Psi)$ twice to find the difference in energy.\n",
    "\n",
    "The local update is done at a particular lattice site where all degrees of freedom are updated, thus the function also has to know what lattice position to update.\n",
    "\n",
    "Remember that the proposal probability for a new state $P(\\Psi_i\\to\\Psi_j)$ has to be equal to the symmetric update"
   ]
  },
  {
   "cell_type": "markdown",
   "metadata": {},
   "source": [
    "$$P(\\Psi_i\\to\\Psi_j) = P(\\Psi_j\\to\\Psi_i),$$"
   ]
  },
  {
   "cell_type": "markdown",
   "metadata": {},
   "source": [
    "for the update to fulfill detailed balance.\n",
    "\n",
    "So far we do a very simple thing of defining a fixed interval around the original value, from within which the new value is uniformly randomly picked. Given a value $\\theta^+_\\mathbf{r}$ at the lattice site $\\mathbf{r}$, the new value \n",
    "$\\theta'{}^+_\\mathbf{r}$ is thus picked uniformly from the interval \n",
    "$$\\theta'{}^+_\\mathbf{r}\\in(\\theta^+_\\mathbf{r}-\\theta_\\text{max},\\;\\theta^+_\\mathbf{r}+\\theta_\\text{max})$$"
   ]
  },
  {
   "cell_type": "code",
   "execution_count": 8,
   "metadata": {},
   "outputs": [
    {
     "data": {
      "text/plain": [
       "proposeLocalUpdate (generic function with 1 method)"
      ]
     },
     "execution_count": 8,
     "metadata": {},
     "output_type": "execute_result"
    }
   ],
   "source": [
    "using Distributions\n",
    "function proposeLocalUpdate(ψᵢ::State, r::Array{Int64, 1})\n",
    "    const θmax = π/2 # How far away from the original value, the proposed new value for θ should be.\n",
    "    const umax = 3 # How far away from the original value, the proposed amplitude u should be.\n",
    "    const Amax = 3\n",
    "    const x = r[1]\n",
    "    const y = r[2]\n",
    "    (size(ψᵢ.lattice,1) < y || size(ψᵢ.lattice,2) < x) && throw(DomainError()) # r is outside the range of the lattice.\n",
    "    \n",
    "    # Save the lattice site at position r in a separate variable s.\n",
    "    s = ψᵢ.lattice[y,x]\n",
    "    \n",
    "    # Construct new configuration at lattice site.\n",
    "    newLatticeSite = LatticeSite([s.A[1]+rand(Uniform(-Amax,Amax)), s.A[2]+rand(Uniform(-Amax,Amax))],\n",
    "        mod(s.θ⁺ + rand(Uniform(-θmax,θmax)), 2π), mod(s.θ⁻ + rand(Uniform(-θmax,θmax)), 2π), \n",
    "        mod(s.u⁺ + rand(Uniform(-umax,umax)),1))\n",
    "    \n",
    "    # Calculate energy difference between the two configurations and return this with the proposed lattice site.\n",
    "    (newLatticeSite, ΔE3(ψᵢ,newLatticeSite,r))\n",
    "end    "
   ]
  },
  {
   "cell_type": "markdown",
   "metadata": {},
   "source": [
    "# Metropolis Hastings update\n",
    "\n",
    "Now we create a function that implements the acceptance step of the Metropolis Hastings algorithm.\n",
    "1. From state $\\Psi_i$, propose a new state $\\Psi_{i+1}$\n",
    "2. Calculate $\\Delta E_{i,i+1}$.\n",
    "3. Generate a random number r between $(0,1]$.\n",
    "4. If $r\\leq e^{-\\beta\\Delta E_{i,i+1}}$, accept the state\n",
    "\n",
    "Since the \n",
    "> rand() \n",
    "\n",
    "function creates a random number in $[0,1)$ we create a random number in $(0,1]$ by mapping $0\\mapsto1$."
   ]
  },
  {
   "cell_type": "code",
   "execution_count": 9,
   "metadata": {},
   "outputs": [
    {
     "data": {
      "text/plain": [
       "metropolisHastingUpdate! (generic function with 1 method)"
      ]
     },
     "execution_count": 9,
     "metadata": {},
     "output_type": "execute_result"
    }
   ],
   "source": [
    "function metropolisHastingUpdate!(ψ::State, r::Array{Int64,1}, β::Float64)\n",
    "    (site, δE) = proposeLocalUpdate(ψ,r)\n",
    "    \n",
    "    # Create random number ran ∈ (0,1].\n",
    "    ran = rand()\n",
    "    if ran==0\n",
    "        ran=1\n",
    "    end\n",
    "    \n",
    "    # Update state with probability min(1, e^{-β⋅δE})\n",
    "    # and return the energy of final state regardless of whether it gets updated or not.\n",
    "    if log(ran) <= -β*δE\n",
    "        ψ.lattice[r[2],r[1]] = site\n",
    "        δE\n",
    "    else\n",
    "        δE = 0\n",
    "    end\n",
    "end"
   ]
  },
  {
   "cell_type": "markdown",
   "metadata": {},
   "source": [
    "# Monte Carlo sweep\n",
    "\n",
    "Try to update the entire lattice once."
   ]
  },
  {
   "cell_type": "code",
   "execution_count": 10,
   "metadata": {},
   "outputs": [
    {
     "data": {
      "text/plain": [
       "mcSweep! (generic function with 1 method)"
      ]
     },
     "execution_count": 10,
     "metadata": {},
     "output_type": "execute_result"
    }
   ],
   "source": [
    "function mcSweep!(ψ::State, β::Float64)\n",
    "    \n",
    "    # Find size of the lattice L\n",
    "    L = size(ψ.lattice,1)\n",
    "    \n",
    "    # Do a Metropolis-Hastings update for all lattice sites on the lattice.\n",
    "    for x in 1:L, y in 1:L\n",
    "        metropolisHastingUpdate!(ψ, [x,y], β)\n",
    "    end\n",
    "end"
   ]
  },
  {
   "cell_type": "markdown",
   "metadata": {},
   "source": [
    "Idea from Håvard: create all update values for the lattice in one function and all random numbers as well. Numbers needed are the LxL random numbers $\\log(r),r\\in(0,1]$ as well as new lattice sites for each lattice site in the lattice."
   ]
  },
  {
   "cell_type": "code",
   "execution_count": 11,
   "metadata": {},
   "outputs": [
    {
     "data": {
      "text/plain": [
       "createLnUnif01 (generic function with 1 method)"
      ]
     },
     "execution_count": 11,
     "metadata": {},
     "output_type": "execute_result"
    }
   ],
   "source": [
    "# Return an array of random numbers log(r) where r in (0,1]\n",
    "function createLnUnif01(N::Int64)\n",
    "    v = rand(N)\n",
    "    for i=1:N\n",
    "        if v[i]==0\n",
    "            v[i] = 1\n",
    "        end\n",
    "        v[i] = log(v[i])\n",
    "    end\n",
    "    return v\n",
    "end"
   ]
  },
  {
   "cell_type": "code",
   "execution_count": 12,
   "metadata": {},
   "outputs": [
    {
     "data": {
      "text/plain": [
       "0.2967177114100492"
      ]
     },
     "execution_count": 12,
     "metadata": {},
     "output_type": "execute_result"
    }
   ],
   "source": [
    "δran = [rand(Uniform(-1,1),2,2) for i=1:5]\n",
    "δran[1][1] *= 2"
   ]
  },
  {
   "cell_type": "code",
   "execution_count": 13,
   "metadata": {},
   "outputs": [
    {
     "name": "stdout",
     "output_type": "stream",
     "text": [
      "(y, x) = (1, 5)\n",
      "(y, x) = (1, 6)\n",
      "(y, x) = (1, 7)\n",
      "(y, x) = (2, 5)\n",
      "(y, x) = (2, 6)\n",
      "(y, x) = (2, 7)\n",
      "(y, x) = (3, 5)\n",
      "(y, x) = (3, 6)\n",
      "(y, x) = (3, 7)\n"
     ]
    }
   ],
   "source": [
    "for y=1:3, x=5:7\n",
    "    @show (y,x)\n",
    "end"
   ]
  },
  {
   "cell_type": "code",
   "execution_count": 47,
   "metadata": {},
   "outputs": [
    {
     "data": {
      "text/plain": [
       "generateProposalLattice (generic function with 1 method)"
      ]
     },
     "execution_count": 47,
     "metadata": {},
     "output_type": "execute_result"
    }
   ],
   "source": [
    "# Generate new proposals for each site in ψ.lattice\n",
    "function generateProposalLattice(ψ::State, Lx::Int64, Ly::Int64)\n",
    "    const θmax = π/2 # How far away from the original value, the proposed new value for θ should be.\n",
    "    const umax = 3 # How far away from the original value, the proposed amplitude u should be.\n",
    "    const Amax = 3\n",
    "    N = Lx*Ly\n",
    "    \n",
    "    # Create an array of matrices that contain δ-updates for each value of each lattice site\n",
    "    # where each δ is in the interval [-maxValue, maxValue]\n",
    "    δran = [rand(Uniform(-1,1),Ly,Lx) for i=1:5]\n",
    "    for x=1:Lx, y=1:Ly\n",
    "        δran[1][y,x] *= Amax\n",
    "        δran[2][y,x] *= Amax\n",
    "        δran[3][y,x] *= θmax\n",
    "        δran[4][y,x] *= θmax\n",
    "        δran[5][y,x] *= umax\n",
    "    end\n",
    "    \n",
    "    newLattice = [LatticeSite([ψ.lattice[y,x].A[1] + δran[1][y,x], ψ.lattice[y,x].A[2] + δran[2][y,x]],\n",
    "            mod(ψ.lattice[y,x].θ⁺ + δran[3][y,x],2π), mod(ψ.lattice[y,x].θ⁻ + δran[4][y,x],2π),\n",
    "            mod(ψ.lattice[y,x].u⁺ + δran[5][y,x],1))\n",
    "    for x=1:Lx, y=1:Ly]\n",
    "end"
   ]
  },
  {
   "cell_type": "code",
   "execution_count": 48,
   "metadata": {},
   "outputs": [
    {
     "data": {
      "text/plain": [
       "generateProposalLattice2 (generic function with 1 method)"
      ]
     },
     "execution_count": 48,
     "metadata": {},
     "output_type": "execute_result"
    }
   ],
   "source": [
    "# Generate new proposals for each site in ψ.lattice\n",
    "function generateProposalLattice2(ψ::State, Lx::Int64, Ly::Int64)\n",
    "    const θmax = π/2 # How far away from the original value, the proposed new value for θ should be.\n",
    "    const umax = 3 # How far away from the original value, the proposed amplitude u should be.\n",
    "    const Amax = 3\n",
    "    \n",
    "    newLattice = [LatticeSite([ψ.lattice[y,x].A[1] + rand(Uniform(-1,1))*Amax, \n",
    "                ψ.lattice[y,x].A[2] + rand(Uniform(-1,1))*Amax],\n",
    "            mod(ψ.lattice[y,x].θ⁺ + rand(Uniform(-1,1))*θmax,2π), mod(ψ.lattice[y,x].θ⁻ + rand(Uniform(-1,1))*θmax,2π),\n",
    "            mod(ψ.lattice[y,x].u⁺ + rand(Uniform(-1,1))*umax,1))\n",
    "    for x=1:Lx, y=1:Ly]\n",
    "end"
   ]
  },
  {
   "cell_type": "code",
   "execution_count": 70,
   "metadata": {},
   "outputs": [
    {
     "data": {
      "text/plain": [
       "generateProposalLattice3 (generic function with 1 method)"
      ]
     },
     "execution_count": 70,
     "metadata": {},
     "output_type": "execute_result"
    }
   ],
   "source": [
    "# Generate new proposals for each site in ψ.lattice\n",
    "function generateProposalLattice3(ψ::State, Lx::Int64, Ly::Int64)\n",
    "    const θmax = π/2 # How far away from the original value, the proposed new value for θ should be.\n",
    "    const umax = 3 # How far away from the original value, the proposed amplitude u should be.\n",
    "    const Amax = 3\n",
    "    const newLattice = Array{LatticeSite}(Ly,Lx)\n",
    "    for x=1:Lx\n",
    "        for y=1:Ly\n",
    "            newLattice[y,x] = LatticeSite([ψ.lattice[y,x].A[1] + rand(Uniform(-1,1))*Amax, \n",
    "                ψ.lattice[y,x].A[2] + rand(Uniform(-1,1))*Amax],\n",
    "            mod(ψ.lattice[y,x].θ⁺ + rand(Uniform(-1,1))*θmax,2π), mod(ψ.lattice[y,x].θ⁻ + rand(Uniform(-1,1))*θmax,2π),\n",
    "            mod(ψ.lattice[y,x].u⁺ + rand(Uniform(-1,1))*umax,1))\n",
    "        end\n",
    "    end\n",
    "    return newLattice\n",
    "end"
   ]
  },
  {
   "cell_type": "markdown",
   "metadata": {},
   "source": [
    "### Benchmarking and testing different generateProposalLattice functions"
   ]
  },
  {
   "cell_type": "code",
   "execution_count": 66,
   "metadata": {},
   "outputs": [],
   "source": [
    "ψ = initializeState(40,2)\n",
    "generateProposalLattice3(ψ,40,40);"
   ]
  },
  {
   "cell_type": "code",
   "execution_count": 67,
   "metadata": {},
   "outputs": [
    {
     "data": {
      "text/plain": [
       "BenchmarkTools.Trial: \n",
       "  memory estimate:  350.95 KiB\n",
       "  allocs estimate:  6409\n",
       "  --------------\n",
       "  minimum time:     310.265 μs (0.00% GC)\n",
       "  median time:      383.659 μs (0.00% GC)\n",
       "  mean time:        474.988 μs (18.44% GC)\n",
       "  maximum time:     10.083 ms (89.64% GC)\n",
       "  --------------\n",
       "  samples:          10000\n",
       "  evals/sample:     1"
      ]
     },
     "execution_count": 67,
     "metadata": {},
     "output_type": "execute_result"
    }
   ],
   "source": [
    "using BenchmarkTools\n",
    "@benchmark generateProposalLattice(ψ,40,40)"
   ]
  },
  {
   "cell_type": "code",
   "execution_count": 68,
   "metadata": {},
   "outputs": [
    {
     "data": {
      "text/plain": [
       "BenchmarkTools.Trial: \n",
       "  memory estimate:  287.72 KiB\n",
       "  allocs estimate:  6403\n",
       "  --------------\n",
       "  minimum time:     331.000 μs (0.00% GC)\n",
       "  median time:      405.611 μs (0.00% GC)\n",
       "  mean time:        506.720 μs (15.57% GC)\n",
       "  maximum time:     12.949 ms (94.50% GC)\n",
       "  --------------\n",
       "  samples:          9833\n",
       "  evals/sample:     1"
      ]
     },
     "execution_count": 68,
     "metadata": {},
     "output_type": "execute_result"
    }
   ],
   "source": [
    "@benchmark generateProposalLattice2(ψ,40,40)"
   ]
  },
  {
   "cell_type": "code",
   "execution_count": 71,
   "metadata": {},
   "outputs": [
    {
     "data": {
      "text/plain": [
       "BenchmarkTools.Trial: \n",
       "  memory estimate:  287.63 KiB\n",
       "  allocs estimate:  6401\n",
       "  --------------\n",
       "  minimum time:     259.331 μs (0.00% GC)\n",
       "  median time:      270.341 μs (0.00% GC)\n",
       "  mean time:        350.511 μs (20.55% GC)\n",
       "  maximum time:     7.325 ms (94.61% GC)\n",
       "  --------------\n",
       "  samples:          10000\n",
       "  evals/sample:     1"
      ]
     },
     "execution_count": 71,
     "metadata": {},
     "output_type": "execute_result"
    }
   ],
   "source": [
    "@benchmark generateProposalLattice3(ψ,40,40)"
   ]
  },
  {
   "cell_type": "markdown",
   "metadata": {},
   "source": [
    "Number 2 seems to be the most efficient since GC is running less than nr. 1 but has about same mean time.\n",
    "CORRECTION: Now it seems that Nr. 3 has the best mean time (350$\\mu s$) by far, even though it has larger GC % "
   ]
  },
  {
   "cell_type": "code",
   "execution_count": 72,
   "metadata": {},
   "outputs": [
    {
     "data": {
      "text/plain": [
       "metropolisHastingUpdate2! (generic function with 1 method)"
      ]
     },
     "execution_count": 72,
     "metadata": {},
     "output_type": "execute_result"
    }
   ],
   "source": [
    "# Takes in a state, a proposed site and the position of the state and attempts to update\n",
    "# the position in the state with the proposed site according to Metropolis Hastings. Returns\n",
    "# difference in energy between new and old state.\n",
    "function metropolisHastingUpdate2!(ψ::State, ϕ′::LatticeSite, ln_ran::Float64, pos::Array{Int64,1}, β::Float64)\n",
    "    δE = ΔE3(ψ,ϕ′,pos)\n",
    "    if ln_ran <= -β*δE\n",
    "        ψ.lattice[pos[2],pos[1]] = ϕ′\n",
    "        return δE\n",
    "    else\n",
    "        return 0\n",
    "    end\n",
    "end"
   ]
  },
  {
   "cell_type": "code",
   "execution_count": 73,
   "metadata": {},
   "outputs": [
    {
     "data": {
      "text/plain": [
       "mcSweep2! (generic function with 1 method)"
      ]
     },
     "execution_count": 73,
     "metadata": {},
     "output_type": "execute_result"
    }
   ],
   "source": [
    "function mcSweep2!(ψ::State, β::Float64)\n",
    "    Lx = size(ψ.lattice, 2)\n",
    "    Ly = size(ψ.lattice, 1)\n",
    "    N = Lx*Ly\n",
    "    \n",
    "    # Create random numbers for check.\n",
    "    ln_random = createLnUnif01(N)\n",
    "    newLattice = generateProposalLattice2(ψ, Lx, Ly)\n",
    "    \n",
    "    # Loop over entire array\n",
    "    # TODO IDEA: loop over lattice similarly to E(ψ) function so that you all the time know what boundary conditions\n",
    "    # to use and create ΔE function that makes use of that information so that it dosen't have to calculate nearest\n",
    "    # and next nearest neighbors each time.\n",
    "    for x=1:Lx, y=1:Ly\n",
    "        # And try to update each lattice site using a Metropolis Hastings update.\n",
    "        metropolisHastingUpdate2!(ψ,newLattice[y,x],ln_random[(x-1)*Ly+y],[x,y],β)\n",
    "    end\n",
    "end"
   ]
  },
  {
   "cell_type": "markdown",
   "metadata": {},
   "source": [
    "### Bechmarking mcSweep functions"
   ]
  },
  {
   "cell_type": "code",
   "execution_count": 74,
   "metadata": {},
   "outputs": [
    {
     "data": {
      "text/plain": [
       "BenchmarkTools.Trial: \n",
       "  memory estimate:  700.00 KiB\n",
       "  allocs estimate:  24000\n",
       "  --------------\n",
       "  minimum time:     3.470 ms (0.00% GC)\n",
       "  median time:      3.587 ms (0.00% GC)\n",
       "  mean time:        3.801 ms (4.77% GC)\n",
       "  maximum time:     9.876 ms (61.30% GC)\n",
       "  --------------\n",
       "  samples:          1315\n",
       "  evals/sample:     1"
      ]
     },
     "execution_count": 74,
     "metadata": {},
     "output_type": "execute_result"
    }
   ],
   "source": [
    "using BenchmarkTools\n",
    "ψ = initializeState(40,2)\n",
    "β = 1/4\n",
    "mcSweep2!(ψ,β)\n",
    "mcSweep!(ψ, β)\n",
    "@benchmark mcSweep!(ψ,β)"
   ]
  },
  {
   "cell_type": "code",
   "execution_count": 75,
   "metadata": {},
   "outputs": [
    {
     "data": {
      "text/plain": [
       "BenchmarkTools.Trial: \n",
       "  memory estimate:  625.34 KiB\n",
       "  allocs estimate:  19204\n",
       "  --------------\n",
       "  minimum time:     3.566 ms (0.00% GC)\n",
       "  median time:      3.671 ms (0.00% GC)\n",
       "  mean time:        3.841 ms (3.88% GC)\n",
       "  maximum time:     9.598 ms (57.03% GC)\n",
       "  --------------\n",
       "  samples:          1301\n",
       "  evals/sample:     1"
      ]
     },
     "execution_count": 75,
     "metadata": {},
     "output_type": "execute_result"
    }
   ],
   "source": [
    "@benchmark mcSweep2!(ψ,β)"
   ]
  },
  {
   "cell_type": "markdown",
   "metadata": {},
   "source": [
    "Intrestingly it seems that there is no significant speedup by first creating all random numbers in seperate functions and then executing. It actually seems like this is slower. Perhaps there is something else wrong with `mcSweep2!`?"
   ]
  },
  {
   "cell_type": "markdown",
   "metadata": {},
   "source": [
    "# A MC Sweep that takes care of bc individually\n",
    "\n",
    "Use the same method as in `E` to calculate the boundary and bulk separately so that functions like `metropolisHastingUpdate` and `ΔE` can be boundary agnostic. This will eleminate the previous use of `mod` in `ΔE3`\n",
    "for finding the (next) nearest neighbors."
   ]
  },
  {
   "cell_type": "code",
   "execution_count": 90,
   "metadata": {},
   "outputs": [
    {
     "data": {
      "text/plain": [
       "ΔE (generic function with 1 method)"
      ]
     },
     "execution_count": 90,
     "metadata": {},
     "output_type": "execute_result"
    }
   ],
   "source": [
    "function ΔE(ψ::State, ϕ′::LatticeSite, ϕ::LatticeSite, ϕᵣ₊₁::LatticeSite, ϕᵣ₊₂::LatticeSite, \n",
    "        ϕᵣ₋₁::LatticeSite, ϕᵣ₋₂::LatticeSite, ϕᵣ₋₁₊₂::LatticeSite, ϕᵣ₋₂₊₁::LatticeSite, x::Int64)\n",
    "    const g = ψ.g\n",
    "    const δE::Float64 = 0.0\n",
    "    \n",
    "    # Calculate u⁻ for these lattice sites\n",
    "    const u′⁻ = √(1-ϕ′.u⁺^2)\n",
    "    const u⁻ = √(1-ϕ.u⁺^2)\n",
    "    const u⁻ᵣ₊₁ = √(1-ϕᵣ₊₁.u⁺^2)\n",
    "    const u⁻ᵣ₊₂ = √(1-ϕᵣ₊₂.u⁺^2)\n",
    "    const u⁻ᵣ₋₁ = √(1-ϕᵣ₋₁.u⁺^2)\n",
    "    const u⁻ᵣ₋₂ = √(1-ϕᵣ₋₂.u⁺^2)\n",
    "    const u⁻ᵣ₋₁₊₂ = √(1-ϕᵣ₋₁₊₂.u⁺^2)\n",
    "    const u⁻ᵣ₋₂₊₁ = √(1-ϕᵣ₋₂₊₁.u⁺^2)\n",
    "    \n",
    "    # Calculate constant link variables\n",
    "    const A⁰ = 2π*ψ.f*(x-1)\n",
    "    #const A⁰₊ = 2π*ψ.f*x\n",
    "    const A⁰₋ = 2π*ψ.f*(x-2)\n",
    "    \n",
    "    # Normal kinetic terms\n",
    "    δE += -2*ψ.γ^2*(ϕᵣ₊₁.u⁺*(ϕ′.u⁺*cos(ϕᵣ₊₁.θ⁺ - ϕ′.θ⁺ + g*ϕ′.A[1]) - ϕ.u⁺*cos(ϕᵣ₊₁.θ⁺ - ϕ.θ⁺ + g*ϕ.A[1]))\n",
    "        + ϕᵣ₋₁.u⁺*(ϕ′.u⁺*cos(ϕ′.θ⁺-ϕᵣ₋₁.θ⁺+g*ϕᵣ₋₁.A[1]) - ϕ.u⁺*cos(ϕ.θ⁺-ϕᵣ₋₁.θ⁺+g*ϕᵣ₋₁.A[1]))\n",
    "        + u⁻ᵣ₊₁*(u′⁻*cos(ϕᵣ₊₁.θ⁻ - ϕ′.θ⁻ + g*ϕ′.A[1]) - u⁻*cos(ϕᵣ₊₁.θ⁻ - ϕ.θ⁻ + g*ϕ.A[1]))\n",
    "        + u⁻ᵣ₋₁*(u′⁻*cos(ϕ′.θ⁻-ϕᵣ₋₁.θ⁻+g*ϕᵣ₋₁.A[1]) - u⁻*cos(ϕ.θ⁻-ϕᵣ₋₁.θ⁻+g*ϕᵣ₋₁.A[1]))\n",
    "        + ϕᵣ₊₂.u⁺*(ϕ′.u⁺*cos(ϕᵣ₊₂.θ⁺ - ϕ′.θ⁺ + g*(ϕ′.A[2]+A⁰)) - ϕ.u⁺*cos(ϕᵣ₊₂.θ⁺ - ϕ.θ⁺ + g*(ϕ.A[2]+A⁰)))\n",
    "        + ϕᵣ₋₂.u⁺*(ϕ′.u⁺*cos(ϕ′.θ⁺-ϕᵣ₋₂.θ⁺+g*(ϕᵣ₋₂.A[2]+A⁰)) - ϕ.u⁺*cos(ϕ.θ⁺-ϕᵣ₋₂.θ⁺+g*(ϕᵣ₋₂.A[2]+A⁰)))\n",
    "        + u⁻ᵣ₊₂*(u′⁻*cos(ϕᵣ₊₂.θ⁻ - ϕ′.θ⁻ + g*(ϕ′.A[2]+A⁰)) - u⁻*cos(ϕᵣ₊₂.θ⁻ - ϕ.θ⁻ + g*(ϕ.A[2]+A⁰)))\n",
    "        + u⁻ᵣ₋₂*(u′⁻*cos(ϕ′.θ⁻-ϕᵣ₋₂.θ⁻+g*(ϕᵣ₋₂.A[2]+A⁰)) - u⁻*cos(ϕ.θ⁻-ϕᵣ₋₂.θ⁻+g*(ϕᵣ₋₂.A[2]+A⁰))))\n",
    "    \n",
    "    # Potential energy terms\n",
    "    δE += ψ.γ^4*((ϕ′.u⁺*u′⁻)^2*(1+ψ.ν*cos(2*(ϕ′.θ⁺ - ϕ′.θ⁻))) - (ϕ.u⁺*u⁻)^2*(1+ψ.ν*cos(2*(ϕ.θ⁺ - ϕ.θ⁻))))\n",
    "    \n",
    "    # Andreev-Bashkin terms\n",
    "    δE += ψ.γ^2*(ψ.ν+1)*(ϕᵣ₊₂.u⁺*(u′⁻*cos(ϕᵣ₊₂.θ⁺-ϕ′.θ⁻+g*(ϕ′.A[2]+A⁰)) - u⁻*cos(ϕᵣ₊₂.θ⁺-ϕ.θ⁻+g*(ϕ.A[2]+A⁰))) \n",
    "        - ϕᵣ₊₁.u⁺*(u′⁻*cos(ϕᵣ₊₁.θ⁺-ϕ′.θ⁻+g*ϕ′.A[1]) - u⁻*cos(ϕᵣ₊₁.θ⁺-ϕ.θ⁻+g*ϕ.A[1])) \n",
    "        + u⁻ᵣ₋₂*(ϕ′.u⁺*cos(ϕ′.θ⁺-ϕᵣ₋₂.θ⁻+g*(ϕᵣ₋₂.A[2]+A⁰)) - ϕ.u⁺*cos(ϕ.θ⁺-ϕᵣ₋₂.θ⁻+g*(ϕᵣ₋₂.A[2]+A⁰))) \n",
    "        - u⁻ᵣ₋₁*(ϕ′.u⁺*cos(ϕ′.θ⁺-ϕᵣ₋₁.θ⁻+g*ϕᵣ₋₁.A[1]) - ϕ.u⁺*cos(ϕ.θ⁺-ϕᵣ₋₁.θ⁻+g*ϕᵣ₋₁.A[1]))\n",
    "        + u⁻ᵣ₊₂*(ϕ′.u⁺*cos(ϕᵣ₊₂.θ⁻-ϕ′.θ⁺+g*(ϕ′.A[2]+A⁰)) - ϕ.u⁺*cos(ϕᵣ₊₂.θ⁻-ϕ.θ⁺+g*(ϕ.A[2]+A⁰))) \n",
    "        - u⁻ᵣ₊₁*(ϕ′.u⁺*cos(ϕᵣ₊₁.θ⁻-ϕ′.θ⁺+g*ϕ′.A[1]) - ϕ.u⁺*cos(ϕᵣ₊₁.θ⁻-ϕ.θ⁺+g*ϕ.A[1])) \n",
    "        + ϕᵣ₋₂.u⁺*(u′⁻*cos(ϕ′.θ⁻-ϕᵣ₋₂.θ⁺+g*(ϕᵣ₋₂.A[2]+A⁰)) - u⁻*cos(ϕ.θ⁻-ϕᵣ₋₂.θ⁺+g*(ϕᵣ₋₂.A[2]+A⁰))) \n",
    "        - ϕᵣ₋₁.u⁺*(u′⁻*cos(ϕ′.θ⁻-ϕᵣ₋₁.θ⁺+g*ϕᵣ₋₁.A[1]) - u⁻*cos(ϕ.θ⁻-ϕᵣ₋₁.θ⁺+g*ϕᵣ₋₁.A[1])))\n",
    "    \n",
    "    # Mixed gradient terms\n",
    "    δE += ψ.γ^2*(ψ.ν-1)*(ϕᵣ₊₂.u⁺*u⁻ᵣ₊₁*(sin(ϕᵣ₊₁.θ⁻-ϕᵣ₊₂.θ⁺ + g*(ϕ′.A[1] - (ϕ′.A[2]+A⁰))) \n",
    "            - sin(ϕᵣ₊₁.θ⁻-ϕᵣ₊₂.θ⁺ + g*(ϕ.A[1] - (ϕ.A[2]+A⁰)))) \n",
    "        -ϕᵣ₊₂.u⁺*(u′⁻*sin(ϕᵣ₊₂.θ⁺-ϕ′.θ⁻+g*(ϕ′.A[2]+A⁰)) - u⁻*sin(ϕᵣ₊₂.θ⁺-ϕ.θ⁻+g*(ϕ.A[2]+A⁰))) \n",
    "        +ϕᵣ₊₁.u⁺*(u′⁻*sin(ϕᵣ₊₁.θ⁺-ϕ′.θ⁻+g*ϕ′.A[1]) - u⁻*sin(ϕᵣ₊₁.θ⁺-ϕ.θ⁻+g*ϕ.A[1])) \n",
    "        +u⁻ᵣ₋₂₊₁*(ϕ′.u⁺*sin(ϕᵣ₋₂₊₁.θ⁻-ϕ′.θ⁺+g*(ϕᵣ₋₂.A[1] - (ϕᵣ₋₂.A[2]+A⁰))) \n",
    "            - ϕ.u⁺*sin(ϕᵣ₋₂₊₁.θ⁻-ϕ.θ⁺+g*(ϕᵣ₋₂.A[1] - (ϕᵣ₋₂.A[2]+A⁰)))) \n",
    "        +ϕᵣ₋₁₊₂.u⁺*(u′⁻*sin(ϕ′.θ⁻-ϕᵣ₋₁₊₂.θ⁺+g*(ϕᵣ₋₁.A[1]-(ϕᵣ₋₁.A[2]+A⁰₋))) \n",
    "            - u⁻*sin(ϕ.θ⁻-ϕᵣ₋₁₊₂.θ⁺+g*(ϕᵣ₋₁.A[1]-(ϕᵣ₋₁.A[2]+A⁰₋)))) \n",
    "        -u⁻ᵣ₋₂*(ϕ′.u⁺*sin(ϕ′.θ⁺-ϕᵣ₋₂.θ⁻+g*(ϕᵣ₋₂.A[2]+A⁰)) - ϕ.u⁺*sin(ϕ.θ⁺-ϕᵣ₋₂.θ⁻+g*(ϕᵣ₋₂.A[2]+A⁰))) \n",
    "        +u⁻ᵣ₋₁*(ϕ′.u⁺*sin(ϕ′.θ⁺-ϕᵣ₋₁.θ⁻+g*ϕᵣ₋₁.A[1]) - ϕ.u⁺*sin(ϕ.θ⁺-ϕᵣ₋₁.θ⁻+g*ϕᵣ₋₁.A[1])) \n",
    "        -(u⁻ᵣ₊₂*ϕᵣ₊₁.u⁺*(sin(ϕᵣ₊₁.θ⁺-ϕᵣ₊₂.θ⁻ + g*(ϕ′.A[1] - (ϕ′.A[2]+A⁰))) \n",
    "            - sin(ϕᵣ₊₁.θ⁺-ϕᵣ₊₂.θ⁻ + g*(ϕ.A[1] - (ϕ.A[2]+A⁰)))) \n",
    "        -u⁻ᵣ₊₂*(ϕ′.u⁺*sin(ϕᵣ₊₂.θ⁻-ϕ′.θ⁺+g*(ϕ′.A[2]+A⁰)) - ϕ.u⁺*sin(ϕᵣ₊₂.θ⁻-ϕ.θ⁺+g*(ϕ.A[2]+A⁰))) \n",
    "        +u⁻ᵣ₊₁*(ϕ′.u⁺*sin(ϕᵣ₊₁.θ⁻-ϕ′.θ⁺+g*ϕ′.A[1]) - ϕ.u⁺*sin(ϕᵣ₊₁.θ⁻-ϕ.θ⁺+g*ϕ.A[1])) \n",
    "        +ϕᵣ₋₂₊₁.u⁺*(u′⁻*sin(ϕᵣ₋₂₊₁.θ⁺-ϕ′.θ⁻+g*(ϕᵣ₋₂.A[1] - (ϕᵣ₋₂.A[2]+A⁰))) \n",
    "            - u⁻*sin(ϕᵣ₋₂₊₁.θ⁺-ϕ.θ⁻+g*(ϕᵣ₋₂.A[1] - (ϕᵣ₋₂.A[2]+A⁰)))) \n",
    "        +u⁻ᵣ₋₁₊₂*(ϕ′.u⁺*sin(ϕ′.θ⁺-ϕᵣ₋₁₊₂.θ⁻+g*(ϕᵣ₋₁.A[1]-(ϕᵣ₋₁.A[2]+A⁰₋))) \n",
    "            - ϕ.u⁺*sin(ϕ.θ⁺-ϕᵣ₋₁₊₂.θ⁻+g*(ϕᵣ₋₁.A[1]-(ϕᵣ₋₁.A[2]+A⁰₋)))) \n",
    "        -ϕᵣ₋₂.u⁺*(u′⁻*sin(ϕ′.θ⁻-ϕᵣ₋₂.θ⁺+g*(ϕᵣ₋₂.A[2]+A⁰)) - u⁻*sin(ϕ.θ⁻-ϕᵣ₋₂.θ⁺+g*(ϕᵣ₋₂.A[2]+A⁰))) \n",
    "        +ϕᵣ₋₁.u⁺*(u′⁻*sin(ϕ′.θ⁻-ϕᵣ₋₁.θ⁺+g*ϕᵣ₋₁.A[1]) - u⁻*sin(ϕ.θ⁻-ϕᵣ₋₁.θ⁺+g*ϕᵣ₋₁.A[1])))\n",
    "        +2*(ϕ′.u⁺*u′⁻*sin(ϕ′.θ⁻-ϕ′.θ⁺) - ϕ.u⁺*u⁻*sin(ϕ.θ⁻-ϕ.θ⁺)))\n",
    "    \n",
    "    # Then calculate the Gauge field contribution\n",
    "    # First contribution from current position\n",
    "    δE += (ϕ′.A[1] + ϕᵣ₊₁.A[2] - ϕᵣ₊₂.A[1] - ϕ′.A[2])^2 - (ϕ.A[1] + ϕᵣ₊₁.A[2] - ϕᵣ₊₂.A[1] - ϕ.A[2])^2\n",
    "    # Then from position r-x\n",
    "    δE += (ϕᵣ₋₁.A[1] + ϕ′.A[2] - ϕᵣ₋₁₊₂.A[1] - ϕᵣ₋₁.A[2])^2 - (ϕᵣ₋₁.A[1] + ϕ.A[2] - ϕᵣ₋₁₊₂.A[1] - ϕᵣ₋₁.A[2])^2\n",
    "    # Then from position r-y\n",
    "    δE += (ϕᵣ₋₂.A[1] + ϕᵣ₋₂₊₁.A[2] - ϕ′.A[1] - ϕᵣ₋₂.A[2])^2 - (ϕᵣ₋₂.A[1] + ϕᵣ₋₂₊₁.A[2] - ϕ.A[1] - ϕᵣ₋₂.A[2])^2\n",
    "end"
   ]
  },
  {
   "cell_type": "code",
   "execution_count": 98,
   "metadata": {},
   "outputs": [
    {
     "name": "stdout",
     "output_type": "stream",
     "text": [
      "ΔE2(ψ₂, site, [2, 2]) = 2.7720198463857207e6\n",
      "ΔE3(ψ₂, site, [2, 2]) = 2.7720198463857207e6\n",
      "ΔE(ψ₂, site, ψ₂.lattice[2, 2], ψ₂.lattice[2, 3], ψ₂.lattice[1, 2], ψ₂.lattice[2, 1], ψ₂.lattice[3, 2], ψ₂.lattice[1, 1], ψ₂.lattice[3, 3], 2) = 2.7720198463857207e6\n",
      "ΔE2(ψ₂, site, [2, 2]) == ΔE3(ψ₂, site, [2, 2]) = true\n",
      "ΔE2(ψ₂, site, [2, 2]) == ΔE(ψ₂, site, ψ₂.lattice[2, 2], ψ₂.lattice[2, 3], ψ₂.lattice[1, 2], ψ₂.lattice[2, 1], ψ₂.lattice[3, 2], ψ₂.lattice[1, 1], ψ₂.lattice[3, 3], 2) = true\n"
     ]
    },
    {
     "data": {
      "text/plain": [
       "BenchmarkTools.Trial: \n",
       "  memory estimate:  112 bytes\n",
       "  allocs estimate:  2\n",
       "  --------------\n",
       "  minimum time:     1.808 μs (0.00% GC)\n",
       "  median time:      1.835 μs (0.00% GC)\n",
       "  mean time:        1.875 μs (0.00% GC)\n",
       "  maximum time:     4.205 μs (0.00% GC)\n",
       "  --------------\n",
       "  samples:          10000\n",
       "  evals/sample:     10"
      ]
     },
     "execution_count": 98,
     "metadata": {},
     "output_type": "execute_result"
    }
   ],
   "source": [
    "# Test case. We make a 3x3 lattice, and put two different lattice sites in the middle\n",
    "# i.e. the [2,2] position. Then we use the different functions to calculate the energy\n",
    "# difference associated with this change.\n",
    "\n",
    "ψ₂ = initializeState(3,2)\n",
    "site = LatticeSite([0.0,0.0], 0, 0,1)\n",
    "@show ΔE2(ψ₂,site,[2,2])\n",
    "@show ΔE3(ψ₂,site,[2,2])\n",
    "@show ΔE(ψ₂, site, ψ₂.lattice[2,2], ψ₂.lattice[2,3], ψ₂.lattice[1,2], ψ₂.lattice[2,1], \n",
    "    ψ₂.lattice[3,2], ψ₂.lattice[1,1], ψ₂.lattice[3,3], 2)\n",
    "@show ΔE2(ψ₂,site,[2,2]) == ΔE3(ψ₂,site,[2,2])\n",
    "@show ΔE2(ψ₂,site,[2,2]) == ΔE(ψ₂, site, ψ₂.lattice[2,2], ψ₂.lattice[2,3], ψ₂.lattice[1,2], ψ₂.lattice[2,1], \n",
    "    ψ₂.lattice[3,2], ψ₂.lattice[1,1], ψ₂.lattice[3,3], 2)\n",
    "@benchmark ΔE2(ψ₂,site,[2,2])"
   ]
  },
  {
   "cell_type": "code",
   "execution_count": 99,
   "metadata": {},
   "outputs": [
    {
     "data": {
      "text/plain": [
       "BenchmarkTools.Trial: \n",
       "  memory estimate:  224 bytes\n",
       "  allocs estimate:  9\n",
       "  --------------\n",
       "  minimum time:     1.298 μs (0.00% GC)\n",
       "  median time:      1.332 μs (0.00% GC)\n",
       "  mean time:        1.411 μs (3.30% GC)\n",
       "  maximum time:     474.101 μs (98.32% GC)\n",
       "  --------------\n",
       "  samples:          10000\n",
       "  evals/sample:     10"
      ]
     },
     "execution_count": 99,
     "metadata": {},
     "output_type": "execute_result"
    }
   ],
   "source": [
    "@benchmark ΔE3(ψ₂,site,[2,2])"
   ]
  },
  {
   "cell_type": "code",
   "execution_count": 100,
   "metadata": {},
   "outputs": [
    {
     "data": {
      "text/plain": [
       "BenchmarkTools.Trial: \n",
       "  memory estimate:  128 bytes\n",
       "  allocs estimate:  8\n",
       "  --------------\n",
       "  minimum time:     1.292 μs (0.00% GC)\n",
       "  median time:      1.310 μs (0.00% GC)\n",
       "  mean time:        1.352 μs (0.00% GC)\n",
       "  maximum time:     3.630 μs (0.00% GC)\n",
       "  --------------\n",
       "  samples:          10000\n",
       "  evals/sample:     10"
      ]
     },
     "execution_count": 100,
     "metadata": {},
     "output_type": "execute_result"
    }
   ],
   "source": [
    "@benchmark ΔE(ψ₂, site, ψ₂.lattice[2,2], ψ₂.lattice[2,3], ψ₂.lattice[1,2], ψ₂.lattice[2,1], \n",
    "    ψ₂.lattice[3,2], ψ₂.lattice[1,1], ψ₂.lattice[3,3], 2)"
   ]
  },
  {
   "cell_type": "code",
   "execution_count": 32,
   "metadata": {},
   "outputs": [
    {
     "data": {
      "text/plain": [
       "proposeLocalUpdate (generic function with 2 methods)"
      ]
     },
     "execution_count": 32,
     "metadata": {},
     "output_type": "execute_result"
    }
   ],
   "source": [
    "using Distributions\n",
    "function proposeLocalUpdate(ϕ::LatticeSite)\n",
    "    const θmax = π/2 # How far away from the original value, the proposed new value for θ should be.\n",
    "    const umax = 0.5 # How far away from the original value, the proposed amplitude u should be.\n",
    "    const Amax = 3\n",
    "    \n",
    "    # Construct new configuration at lattice site.\n",
    "    return LatticeSite([ϕ.A[1]+rand(Uniform(-Amax,Amax)), ϕ.A[2]+rand(Uniform(-Amax,Amax))],\n",
    "        mod(ϕ.θ⁺ + rand(Uniform(-θmax,θmax)), 2π), mod(ϕ.θ⁻ + rand(Uniform(-θmax,θmax)), 2π), \n",
    "        mod(ϕ.u⁺ + rand(Uniform(-umax,umax)),1))\n",
    "end"
   ]
  },
  {
   "cell_type": "code",
   "execution_count": 33,
   "metadata": {},
   "outputs": [
    {
     "data": {
      "text/plain": [
       "LatticeSite([0.521149, -2.80096], 5.2731278942935536, 0.4304390000351108, 0.4409098925037451)"
      ]
     },
     "execution_count": 33,
     "metadata": {},
     "output_type": "execute_result"
    }
   ],
   "source": [
    "proposeLocalUpdate(site)"
   ]
  },
  {
   "cell_type": "code",
   "execution_count": 85,
   "metadata": {},
   "outputs": [
    {
     "data": {
      "text/plain": [
       "metropolisHastingUpdate! (generic function with 2 methods)"
      ]
     },
     "execution_count": 85,
     "metadata": {},
     "output_type": "execute_result"
    }
   ],
   "source": [
    "function metropolisHastingUpdate!(ψ::State, pos::Array{Int64,1}, ϕᵣ₊₁::LatticeSite, ϕᵣ₊₂::LatticeSite,\n",
    "        ϕᵣ₋₁::LatticeSite, ϕᵣ₋₂::LatticeSite, ϕᵣ₋₁₊₂::LatticeSite, ϕᵣ₋₂₊₁::LatticeSite, β::Float64)\n",
    "    const ϕ = ψ.lattice[pos...]\n",
    "    const ϕ′ = proposeLocalUpdate(ϕ)\n",
    "    const δE = ΔE(ψ, ϕ′, ϕ, ϕᵣ₊₁, ϕᵣ₊₂, ϕᵣ₋₁, ϕᵣ₋₂, ϕᵣ₋₁₊₂, ϕᵣ₋₂₊₁, pos[2])\n",
    "    \n",
    "    # Create random number ran ∈ (0,1].\n",
    "    const ran = rand()\n",
    "    if ran==0\n",
    "        ran=1\n",
    "    end\n",
    "    \n",
    "    # Update state with probability min(1, e^{-β⋅δE})\n",
    "    # and return the energy of final state regardless of whether it gets updated or not.\n",
    "    if log(ran) <= -β*δE\n",
    "        ψ.lattice[pos...] = ϕ′\n",
    "        return δE\n",
    "    else\n",
    "        return 0.0\n",
    "    end\n",
    "end"
   ]
  },
  {
   "cell_type": "code",
   "execution_count": 46,
   "metadata": {},
   "outputs": [
    {
     "name": "stdout",
     "output_type": "stream",
     "text": [
      "metropolisHastingUpdate!(ψ₂, [2, 2], ψ₂.lattice[2, 3], ψ₂.lattice[1, 2], ψ₂.lattice[2, 1], ψ₂.lattice[3, 2], ψ₂.lattice[1, 1], ψ₂.lattice[3, 3], 0.0001) = 0.0\n",
      "(acc / N) * 100 = 98.901\n"
     ]
    },
    {
     "data": {
      "text/plain": [
       "98.901"
      ]
     },
     "execution_count": 46,
     "metadata": {},
     "output_type": "execute_result"
    }
   ],
   "source": [
    "# Checking that metropolisHastingUpdate! behaves as expected.\n",
    "ψ₂ = initializeState(3,2)\n",
    "\n",
    "# Do a metropolis hasting update\n",
    "# Insert a @show δE in metropolisHastingUpdate! to see how many times the proposal creates a site\n",
    "# with less energy (which should always be accepted).\n",
    "@show metropolisHastingUpdate!(ψ₂, [2,2], ψ₂.lattice[2,3], ψ₂.lattice[1,2], ψ₂.lattice[2,1], \n",
    "    ψ₂.lattice[3,2], ψ₂.lattice[1,1], ψ₂.lattice[3,3], 0.0001)\n",
    "\n",
    "# Testing the number of times a proposal is accepted\n",
    "N = 100000\n",
    "acc = 0\n",
    "for i=1:N\n",
    "    if metropolisHastingUpdate!(ψ₂, [2,2], ψ₂.lattice[2,3], ψ₂.lattice[1,2], ψ₂.lattice[2,1], \n",
    "    ψ₂.lattice[3,2], ψ₂.lattice[1,1], ψ₂.lattice[3,3], 100.0) == 0.0\n",
    "        acc += 1\n",
    "    end\n",
    "end\n",
    "@show acc/N*100"
   ]
  },
  {
   "cell_type": "code",
   "execution_count": 36,
   "metadata": {},
   "outputs": [
    {
     "data": {
      "text/plain": [
       "mcSweep3! (generic function with 1 method)"
      ]
     },
     "execution_count": 36,
     "metadata": {},
     "output_type": "execute_result"
    }
   ],
   "source": [
    "function mcSweep3!(ψ::State, β::Float64)\n",
    "   \n",
    "    # Find size of the lattice L\n",
    "    const L::Int64 = size(ψ.lattice,1)\n",
    "    \n",
    "    \n",
    "    # Updating upper right corner\n",
    "    const ϕᵣ₊₁ = ψ.lattice[1,1]\n",
    "    const ϕᵣ₊₂ = ψ.lattice[L,L]\n",
    "    const ϕᵣ₋₁ = ψ.lattice[1,L-1]\n",
    "    const ϕᵣ₋₂ = ψ.lattice[2,L]\n",
    "    const ϕᵣ₋₁₊₂ = ψ.lattice[L,L-1]\n",
    "    const ϕᵣ₋₂₊₁ = ψ.lattice[2,1]\n",
    "    metropolisHastingUpdate!(ψ, [L,L], ϕᵣ₊₁, ϕᵣ₊₂, ϕᵣ₋₁, ϕᵣ₋₂, ϕᵣ₋₁₊₂, ϕᵣ₋₂₊₁, β)\n",
    "    \n",
    "    # Updating boundary paralell to y-axis\n",
    "    # except for the upper and lower right corner.\n",
    "    for y=2:(L-1)\n",
    "        ϕᵣ₊₁ = ψ.lattice[y,1]\n",
    "        ϕᵣ₊₂ = ψ.lattice[y-1,L]\n",
    "        ϕᵣ₋₁ = ψ.lattice[y,L-1]\n",
    "        ϕᵣ₋₂ = ψ.lattice[y+1,L]\n",
    "        ϕᵣ₋₁₊₂ = ψ.lattice[y-1,L-1]\n",
    "        ϕᵣ₋₂₊₁ = ψ.lattice[y+1,1]\n",
    "        metropolisHastingUpdate!(ψ, [y,L], ϕᵣ₊₁, ϕᵣ₊₂, ϕᵣ₋₁, ϕᵣ₋₂, ϕᵣ₋₁₊₂, ϕᵣ₋₂₊₁, β)\n",
    "    end\n",
    "    \n",
    "    # Updating lower right corner\n",
    "    ϕᵣ₊₁ = ψ.lattice[L,1]\n",
    "    ϕᵣ₊₂ = ψ.lattice[L-1,L]\n",
    "    ϕᵣ₋₁ = ψ.lattice[L,L-1]\n",
    "    ϕᵣ₋₂ = ψ.lattice[1,L]\n",
    "    ϕᵣ₋₁₊₂ = ψ.lattice[L-1,L-1]\n",
    "    ϕᵣ₋₂₊₁ = ψ.lattice[1,1]\n",
    "    metropolisHastingUpdate!(ψ, [L,L], ϕᵣ₊₁, ϕᵣ₊₂, ϕᵣ₋₁, ϕᵣ₋₂, ϕᵣ₋₁₊₂, ϕᵣ₋₂₊₁, β)\n",
    "    \n",
    "    # Updating lower x-axis boundary except for lower left and right corner\n",
    "    for x=2:(L-1)\n",
    "        ϕᵣ₊₁ = ψ.lattice[L,x+1]\n",
    "        ϕᵣ₊₂ = ψ.lattice[L-1,x]\n",
    "        ϕᵣ₋₁ = ψ.lattice[L,x-1]\n",
    "        ϕᵣ₋₂ = ψ.lattice[1,x]\n",
    "        ϕᵣ₋₁₊₂ = ψ.lattice[L-1,x-1]\n",
    "        ϕᵣ₋₂₊₁ = ψ.lattice[1,x+1]\n",
    "        metropolisHastingUpdate!(ψ, [L,x], ϕᵣ₊₁, ϕᵣ₊₂, ϕᵣ₋₁, ϕᵣ₋₂, ϕᵣ₋₁₊₂, ϕᵣ₋₂₊₁, β)\n",
    "    end\n",
    "    \n",
    "    # Updating lower left corner\n",
    "    ϕᵣ₊₁ = ψ.lattice[L,2]\n",
    "    ϕᵣ₊₂ = ψ.lattice[L-1,1]\n",
    "    ϕᵣ₋₁ = ψ.lattice[L,L]\n",
    "    ϕᵣ₋₂ = ψ.lattice[1,1]\n",
    "    ϕᵣ₋₁₊₂ = ψ.lattice[L-1,L]\n",
    "    ϕᵣ₋₂₊₁ = ψ.lattice[1,2]\n",
    "    metropolisHastingUpdate!(ψ, [L,1], ϕᵣ₊₁, ϕᵣ₊₂, ϕᵣ₋₁, ϕᵣ₋₂, ϕᵣ₋₁₊₂, ϕᵣ₋₂₊₁, β)\n",
    "    \n",
    "    # Updating left y-axis boundary except corners\n",
    "    for y=2:(L-1)\n",
    "        ϕᵣ₊₁ = ψ.lattice[y,2]\n",
    "        ϕᵣ₊₂ = ψ.lattice[y-1,1]\n",
    "        ϕᵣ₋₁ = ψ.lattice[y,L]\n",
    "        ϕᵣ₋₂ = ψ.lattice[y+1,1]\n",
    "        ϕᵣ₋₁₊₂ = ψ.lattice[y-1,L]\n",
    "        ϕᵣ₋₂₊₁ = ψ.lattice[y+1,2]\n",
    "        metropolisHastingUpdate!(ψ, [y,1], ϕᵣ₊₁, ϕᵣ₊₂, ϕᵣ₋₁, ϕᵣ₋₂, ϕᵣ₋₁₊₂, ϕᵣ₋₂₊₁, β)\n",
    "    end\n",
    "    \n",
    "    # Updating upper left corner\n",
    "    ϕᵣ₊₁ = ψ.lattice[1,2]\n",
    "    ϕᵣ₊₂ = ψ.lattice[L,1]\n",
    "    ϕᵣ₋₁ = ψ.lattice[1,L]\n",
    "    ϕᵣ₋₂ = ψ.lattice[2,1]\n",
    "    ϕᵣ₋₁₊₂ = ψ.lattice[L,L]\n",
    "    ϕᵣ₋₂₊₁ = ψ.lattice[2,2]\n",
    "    metropolisHastingUpdate!(ψ, [1,1], ϕᵣ₊₁, ϕᵣ₊₂, ϕᵣ₋₁, ϕᵣ₋₂, ϕᵣ₋₁₊₂, ϕᵣ₋₂₊₁, β)\n",
    "    \n",
    "    # Updating upper x-axis boundary\n",
    "    for x=2:(L-1)\n",
    "        ϕᵣ₊₁ = ψ.lattice[1,x+1]\n",
    "        ϕᵣ₊₂ = ψ.lattice[L,x]\n",
    "        ϕᵣ₋₁ = ψ.lattice[1,x-1]\n",
    "        ϕᵣ₋₂ = ψ.lattice[2,x]\n",
    "        ϕᵣ₋₁₊₂ = ψ.lattice[L,x-1]\n",
    "        ϕᵣ₋₂₊₁ = ψ.lattice[2,x+1]\n",
    "        metropolisHastingUpdate!(ψ, [1,x], ϕᵣ₊₁, ϕᵣ₊₂, ϕᵣ₋₁, ϕᵣ₋₂, ϕᵣ₋₁₊₂, ϕᵣ₋₂₊₁, β)\n",
    "    end\n",
    "    \n",
    "    # This concludes the updates of the boundary\n",
    "    \n",
    "    # Update the bulk\n",
    "    for x=2:(L-1), y=2:(L-1)\n",
    "        ϕᵣ₊₁ = ψ.lattice[y,x+1]\n",
    "        ϕᵣ₊₂ = ψ.lattice[y-1,x]\n",
    "        ϕᵣ₋₁ = ψ.lattice[y,x-1]\n",
    "        ϕᵣ₋₂ = ψ.lattice[y+1,x]\n",
    "        ϕᵣ₋₁₊₂ = ψ.lattice[y-1,x-1]\n",
    "        ϕᵣ₋₂₊₁ = ψ.lattice[y+1,x+1]\n",
    "        metropolisHastingUpdate!(ψ, [y,x], ϕᵣ₊₁, ϕᵣ₊₂, ϕᵣ₋₁, ϕᵣ₋₂, ϕᵣ₋₁₊₂, ϕᵣ₋₂₊₁, β)\n",
    "    end\n",
    "end"
   ]
  },
  {
   "cell_type": "code",
   "execution_count": 37,
   "metadata": {},
   "outputs": [
    {
     "data": {
      "text/plain": [
       "mcSweep4! (generic function with 1 method)"
      ]
     },
     "execution_count": 37,
     "metadata": {},
     "output_type": "execute_result"
    }
   ],
   "source": [
    "function mcSweep4!(ψ::State, β::Float64)\n",
    "    const x::Int64 = 1\n",
    "    const y::Int64 = 1\n",
    "    # Find size of the lattice L\n",
    "    const L::Int64 = size(ψ.lattice,1)\n",
    "    \n",
    "    # Updating boundary paralell to y-axis\n",
    "    # except for the upper and lower right corner.\n",
    "    for i=2:(L-1)\n",
    "        metropolisHastingUpdate!(ψ, [i,L], ψ.lattice[i,1], ψ.lattice[i-1,L], ψ.lattice[i,L-1], ψ.lattice[i+1,L],\n",
    "            ψ.lattice[i-1,L-1], ψ.lattice[i+1,1], β) # right y-axis boundary\n",
    "        metropolisHastingUpdate!(ψ, [L,i], ψ.lattice[L,i+1], ψ.lattice[L-1,i], ψ.lattice[L,i-1], ψ.lattice[1,i],\n",
    "            ψ.lattice[L-1,i-1], ψ.lattice[1,i+1], β) # lower x-axis boundary\n",
    "        metropolisHastingUpdate!(ψ, [i,1], ψ.lattice[i,2], ψ.lattice[i-1,1], ψ.lattice[i,L], ψ.lattice[i+1,1],\n",
    "            ψ.lattice[i-1,L], ψ.lattice[i+1,2], β) # left y-axis boundary\n",
    "        metropolisHastingUpdate!(ψ, [1,i], ψ.lattice[1,i+1], ψ.lattice[L,i], ψ.lattice[1,i-1], ψ.lattice[2,i],\n",
    "            ψ.lattice[L,i-1], ψ.lattice[2,i+1], β) # upper x-axis boundary\n",
    "    end\n",
    "    \n",
    "    # Updating upper right corner\n",
    "    metropolisHastingUpdate!(ψ, [L,L], ψ.lattice[1,1], ψ.lattice[L,L], ψ.lattice[1,L-1], ψ.lattice[2,L],\n",
    "        ψ.lattice[L,L-1], ψ.lattice[2,1], β)\n",
    "    \n",
    "    # Updating lower right corner\n",
    "    metropolisHastingUpdate!(ψ, [L,L], ψ.lattice[L,1], ψ.lattice[L-1,L], ψ.lattice[L,L-1], ψ.lattice[1,L],\n",
    "        ψ.lattice[L-1,L-1], ψ.lattice[1,1], β)\n",
    "    \n",
    "    # Updating lower left corner\n",
    "    metropolisHastingUpdate!(ψ, [L,1], ψ.lattice[L,2], ψ.lattice[L-1,1], ψ.lattice[L,L], ψ.lattice[1,1],\n",
    "        ψ.lattice[L-1,L], ψ.lattice[1,2], β)\n",
    "    \n",
    "    # Updating upper left corner\n",
    "    metropolisHastingUpdate!(ψ, [1,1], ψ.lattice[1,2], ψ.lattice[L,1], ψ.lattice[1,L], ψ.lattice[2,1],\n",
    "        ψ.lattice[L,L], ψ.lattice[2,2], β)\n",
    "    \n",
    "    # This concludes the updates of the boundary\n",
    "    \n",
    "    # Update the bulk\n",
    "    for x=2:(L-1), y=2:(L-1)\n",
    "        metropolisHastingUpdate!(ψ, [y,x], ψ.lattice[y,x+1], ψ.lattice[y-1,x], ψ.lattice[y,x-1], ψ.lattice[y+1,x], \n",
    "            ψ.lattice[y-1,x-1], ψ.lattice[y+1,x+1], β)\n",
    "    end\n",
    "end"
   ]
  },
  {
   "cell_type": "markdown",
   "metadata": {},
   "source": [
    "Now we need to test that the new `mcSweep3` tries to update every position on the lattice."
   ]
  },
  {
   "cell_type": "code",
   "execution_count": 259,
   "metadata": {},
   "outputs": [
    {
     "name": "stdout",
     "output_type": "stream",
     "text": [
      "E(ψ) - e1 = -1.6833218094759524e7\n"
     ]
    },
    {
     "data": {
      "text/plain": [
       "-1.6833218094759524e7"
      ]
     },
     "execution_count": 259,
     "metadata": {},
     "output_type": "execute_result"
    }
   ],
   "source": [
    "# This assumes we have inserted a @show pos in metropolisHastingUpdate!\n",
    "\n",
    "ψ = initializeState(3,2)\n",
    "e1 = E(ψ)\n",
    "mcSweep3!(ψ,1.0)\n",
    "@show E(ψ)-e1"
   ]
  },
  {
   "cell_type": "markdown",
   "metadata": {},
   "source": [
    "### Benchmarking mcSweep3"
   ]
  },
  {
   "cell_type": "code",
   "execution_count": 101,
   "metadata": {},
   "outputs": [
    {
     "data": {
      "text/plain": [
       "BenchmarkTools.Trial: \n",
       "  memory estimate:  700.00 KiB\n",
       "  allocs estimate:  24000\n",
       "  --------------\n",
       "  minimum time:     3.519 ms (0.00% GC)\n",
       "  median time:      3.624 ms (0.00% GC)\n",
       "  mean time:        3.844 ms (4.88% GC)\n",
       "  maximum time:     12.214 ms (60.31% GC)\n",
       "  --------------\n",
       "  samples:          1300\n",
       "  evals/sample:     1"
      ]
     },
     "execution_count": 101,
     "metadata": {},
     "output_type": "execute_result"
    }
   ],
   "source": [
    "using BenchmarkTools\n",
    "ψ = initializeState(40,2)\n",
    "β = 1/4\n",
    "mcSweep!(ψ, β)\n",
    "mcSweep2!(ψ,β)\n",
    "mcSweep3!(ψ, β)\n",
    "ψ = initializeState(40,2)\n",
    "@benchmark mcSweep!(ψ,β)"
   ]
  },
  {
   "cell_type": "code",
   "execution_count": 102,
   "metadata": {},
   "outputs": [
    {
     "data": {
      "text/plain": [
       "BenchmarkTools.Trial: \n",
       "  memory estimate:  625.34 KiB\n",
       "  allocs estimate:  19204\n",
       "  --------------\n",
       "  minimum time:     3.650 ms (0.00% GC)\n",
       "  median time:      3.776 ms (0.00% GC)\n",
       "  mean time:        3.978 ms (4.19% GC)\n",
       "  maximum time:     12.115 ms (59.13% GC)\n",
       "  --------------\n",
       "  samples:          1256\n",
       "  evals/sample:     1"
      ]
     },
     "execution_count": 102,
     "metadata": {},
     "output_type": "execute_result"
    }
   ],
   "source": [
    "ψ = initializeState(40,2)\n",
    "@benchmark mcSweep2!(ψ,β)"
   ]
  },
  {
   "cell_type": "code",
   "execution_count": 103,
   "metadata": {},
   "outputs": [
    {
     "data": {
      "text/plain": [
       "BenchmarkTools.Trial: \n",
       "  memory estimate:  712.03 KiB\n",
       "  allocs estimate:  25985\n",
       "  --------------\n",
       "  minimum time:     3.440 ms (0.00% GC)\n",
       "  median time:      3.569 ms (0.00% GC)\n",
       "  mean time:        3.783 ms (4.86% GC)\n",
       "  maximum time:     9.955 ms (59.72% GC)\n",
       "  --------------\n",
       "  samples:          1321\n",
       "  evals/sample:     1"
      ]
     },
     "execution_count": 103,
     "metadata": {},
     "output_type": "execute_result"
    }
   ],
   "source": [
    "ψ = initializeState(40,2)\n",
    "@benchmark mcSweep3!(ψ,β)"
   ]
  },
  {
   "cell_type": "code",
   "execution_count": 104,
   "metadata": {},
   "outputs": [
    {
     "data": {
      "text/plain": [
       "BenchmarkTools.Trial: \n",
       "  memory estimate:  711.47 KiB\n",
       "  allocs estimate:  25967\n",
       "  --------------\n",
       "  minimum time:     3.438 ms (0.00% GC)\n",
       "  median time:      3.570 ms (0.00% GC)\n",
       "  mean time:        3.780 ms (4.89% GC)\n",
       "  maximum time:     10.083 ms (58.28% GC)\n",
       "  --------------\n",
       "  samples:          1322\n",
       "  evals/sample:     1"
      ]
     },
     "execution_count": 104,
     "metadata": {},
     "output_type": "execute_result"
    }
   ],
   "source": [
    "ψ = initializeState(40,2)\n",
    "@benchmark mcSweep4!(ψ,β)"
   ]
  },
  {
   "cell_type": "code",
   "execution_count": 108,
   "metadata": {},
   "outputs": [
    {
     "name": "stdout",
     "output_type": "stream",
     "text": [
      "round((2.4 / 3.7) * 100) = 65.0\n",
      "round((3.783 / 3.844) * 100) = 98.0\n"
     ]
    },
    {
     "data": {
      "text/plain": [
       "98.0"
      ]
     },
     "execution_count": 108,
     "metadata": {},
     "output_type": "execute_result"
    }
   ],
   "source": [
    "@show round(2.4/3.7*100)\n",
    "@show round(3.783/3.844*100)"
   ]
  },
  {
   "cell_type": "markdown",
   "metadata": {},
   "source": [
    "We seem to have gotten an $\\approx 65\\% $ of the time requred by switching to the new `mcSweep3/4!` from the old `mcSweep!`. Since `mcSweep3` has code that is more readable than `mcSweep4`, this is the recommended function. They seem to have indistinguishable benchmark results. "
   ]
  },
  {
   "cell_type": "markdown",
   "metadata": {},
   "source": [
    "# Main MC measurements function\n",
    "\n",
    "This is the function that will do all the work. Here we call all the other functions we have created.\n",
    "\n",
    "After $M_\\text{th}$ Monte-Carlo sweeps (MCS) we do a measurement. Before doing any measurements we wait\n",
    "$M_\\text{skip}$ MCS for the system to reach equilibrium. We do $M$ measurements. Let the lattice be of size $N\\times N$,\n",
    "the magnetic filling fraction is $f$ while $\\beta$ is the inverse temperature."
   ]
  },
  {
   "cell_type": "code",
   "execution_count": 109,
   "metadata": {},
   "outputs": [
    {
     "data": {
      "text/plain": [
       "mcMeasure (generic function with 1 method)"
      ]
     },
     "execution_count": 109,
     "metadata": {},
     "output_type": "execute_result"
    }
   ],
   "source": [
    "using Plots\n",
    "gr()\n",
    "function mcMeasure(M::Int64, Mth::Int64, Mskip::Int64, N::Int64, β::Float64)\n",
    "    ψ = initializeState(N, 2)\n",
    "    \n",
    "    # As an example we just want to measure the energies of the states.\n",
    "    e = zeros(M)\n",
    "    \n",
    "    # Thermalize the system\n",
    "    for i=1:Mskip\n",
    "        mcSweep!(ψ,β)\n",
    "    end\n",
    "    \n",
    "    # Then do M measurements\n",
    "    for i=1:(M-1)\n",
    "        e[i] = E(ψ)\n",
    "        for j=1:Mth-1\n",
    "            mcSweep!(ψ,β)\n",
    "        end\n",
    "    end\n",
    "    e[M] = E(ψ)\n",
    "    \n",
    "    # Plot results\n",
    "    plot(1:M, e)\n",
    "end "
   ]
  },
  {
   "cell_type": "code",
   "execution_count": 110,
   "metadata": {},
   "outputs": [
    {
     "data": {
      "image/svg+xml": [
       "<?xml version=\"1.0\" encoding=\"utf-8\"?>\n",
       "<svg xmlns=\"http://www.w3.org/2000/svg\" xmlns:xlink=\"http://www.w3.org/1999/xlink\" width=\"600\" height=\"400\" viewBox=\"0 0 600 400\">\n",
       "<defs>\n",
       "  <clipPath id=\"clip0500\">\n",
       "    <rect x=\"0\" y=\"0\" width=\"600\" height=\"400\"/>\n",
       "  </clipPath>\n",
       "</defs>\n",
       "<polygon clip-path=\"url(#clip0500)\" points=\"\n",
       "0,400 600,400 600,0 0,0 \n",
       "  \" fill=\"#ffffff\" fill-opacity=\"1\"/>\n",
       "<defs>\n",
       "  <clipPath id=\"clip0501\">\n",
       "    <rect x=\"120\" y=\"0\" width=\"421\" height=\"400\"/>\n",
       "  </clipPath>\n",
       "</defs>\n",
       "<polygon clip-path=\"url(#clip0500)\" points=\"\n",
       "29.1292,375.869 580.315,375.869 580.315,11.811 29.1292,11.811 \n",
       "  \" fill=\"#ffffff\" fill-opacity=\"1\"/>\n",
       "<defs>\n",
       "  <clipPath id=\"clip0502\">\n",
       "    <rect x=\"29\" y=\"11\" width=\"552\" height=\"365\"/>\n",
       "  </clipPath>\n",
       "</defs>\n",
       "<polyline clip-path=\"url(#clip0502)\" style=\"stroke:#000000; stroke-width:0.5; stroke-opacity:0.1; fill:none\" points=\"\n",
       "  164.848,375.869 164.848,11.811 \n",
       "  \"/>\n",
       "<polyline clip-path=\"url(#clip0502)\" style=\"stroke:#000000; stroke-width:0.5; stroke-opacity:0.1; fill:none\" points=\"\n",
       "  303.337,375.869 303.337,11.811 \n",
       "  \"/>\n",
       "<polyline clip-path=\"url(#clip0502)\" style=\"stroke:#000000; stroke-width:0.5; stroke-opacity:0.1; fill:none\" points=\"\n",
       "  441.826,375.869 441.826,11.811 \n",
       "  \"/>\n",
       "<polyline clip-path=\"url(#clip0502)\" style=\"stroke:#000000; stroke-width:0.5; stroke-opacity:0.1; fill:none\" points=\"\n",
       "  580.315,375.869 580.315,11.811 \n",
       "  \"/>\n",
       "<polyline clip-path=\"url(#clip0502)\" style=\"stroke:#000000; stroke-width:0.5; stroke-opacity:0.1; fill:none\" points=\"\n",
       "  29.1292,324.164 580.315,324.164 \n",
       "  \"/>\n",
       "<polyline clip-path=\"url(#clip0502)\" style=\"stroke:#000000; stroke-width:0.5; stroke-opacity:0.1; fill:none\" points=\"\n",
       "  29.1292,252.678 580.315,252.678 \n",
       "  \"/>\n",
       "<polyline clip-path=\"url(#clip0502)\" style=\"stroke:#000000; stroke-width:0.5; stroke-opacity:0.1; fill:none\" points=\"\n",
       "  29.1292,181.192 580.315,181.192 \n",
       "  \"/>\n",
       "<polyline clip-path=\"url(#clip0502)\" style=\"stroke:#000000; stroke-width:0.5; stroke-opacity:0.1; fill:none\" points=\"\n",
       "  29.1292,109.707 580.315,109.707 \n",
       "  \"/>\n",
       "<polyline clip-path=\"url(#clip0502)\" style=\"stroke:#000000; stroke-width:0.5; stroke-opacity:0.1; fill:none\" points=\"\n",
       "  29.1292,38.221 580.315,38.221 \n",
       "  \"/>\n",
       "<polyline clip-path=\"url(#clip0500)\" style=\"stroke:#000000; stroke-width:1; stroke-opacity:1; fill:none\" points=\"\n",
       "  29.1292,375.869 580.315,375.869 \n",
       "  \"/>\n",
       "<polyline clip-path=\"url(#clip0500)\" style=\"stroke:#000000; stroke-width:1; stroke-opacity:1; fill:none\" points=\"\n",
       "  29.1292,375.869 29.1292,11.811 \n",
       "  \"/>\n",
       "<polyline clip-path=\"url(#clip0500)\" style=\"stroke:#000000; stroke-width:1; stroke-opacity:1; fill:none\" points=\"\n",
       "  164.848,375.869 164.848,370.408 \n",
       "  \"/>\n",
       "<polyline clip-path=\"url(#clip0500)\" style=\"stroke:#000000; stroke-width:1; stroke-opacity:1; fill:none\" points=\"\n",
       "  303.337,375.869 303.337,370.408 \n",
       "  \"/>\n",
       "<polyline clip-path=\"url(#clip0500)\" style=\"stroke:#000000; stroke-width:1; stroke-opacity:1; fill:none\" points=\"\n",
       "  441.826,375.869 441.826,370.408 \n",
       "  \"/>\n",
       "<polyline clip-path=\"url(#clip0500)\" style=\"stroke:#000000; stroke-width:1; stroke-opacity:1; fill:none\" points=\"\n",
       "  580.315,375.869 580.315,370.408 \n",
       "  \"/>\n",
       "<polyline clip-path=\"url(#clip0500)\" style=\"stroke:#000000; stroke-width:1; stroke-opacity:1; fill:none\" points=\"\n",
       "  29.1292,324.164 37.397,324.164 \n",
       "  \"/>\n",
       "<polyline clip-path=\"url(#clip0500)\" style=\"stroke:#000000; stroke-width:1; stroke-opacity:1; fill:none\" points=\"\n",
       "  29.1292,252.678 37.397,252.678 \n",
       "  \"/>\n",
       "<polyline clip-path=\"url(#clip0500)\" style=\"stroke:#000000; stroke-width:1; stroke-opacity:1; fill:none\" points=\"\n",
       "  29.1292,181.192 37.397,181.192 \n",
       "  \"/>\n",
       "<polyline clip-path=\"url(#clip0500)\" style=\"stroke:#000000; stroke-width:1; stroke-opacity:1; fill:none\" points=\"\n",
       "  29.1292,109.707 37.397,109.707 \n",
       "  \"/>\n",
       "<polyline clip-path=\"url(#clip0500)\" style=\"stroke:#000000; stroke-width:1; stroke-opacity:1; fill:none\" points=\"\n",
       "  29.1292,38.221 37.397,38.221 \n",
       "  \"/>\n",
       "<g clip-path=\"url(#clip0500)\">\n",
       "<text style=\"fill:#000000; fill-opacity:1; font-family:Arial,Helvetica Neue,Helvetica,sans-serif; font-size:12; text-anchor:middle;\" transform=\"rotate(0, 164.848, 389.669)\" x=\"164.848\" y=\"389.669\">50</text>\n",
       "</g>\n",
       "<g clip-path=\"url(#clip0500)\">\n",
       "<text style=\"fill:#000000; fill-opacity:1; font-family:Arial,Helvetica Neue,Helvetica,sans-serif; font-size:12; text-anchor:middle;\" transform=\"rotate(0, 303.337, 389.669)\" x=\"303.337\" y=\"389.669\">100</text>\n",
       "</g>\n",
       "<g clip-path=\"url(#clip0500)\">\n",
       "<text style=\"fill:#000000; fill-opacity:1; font-family:Arial,Helvetica Neue,Helvetica,sans-serif; font-size:12; text-anchor:middle;\" transform=\"rotate(0, 441.826, 389.669)\" x=\"441.826\" y=\"389.669\">150</text>\n",
       "</g>\n",
       "<g clip-path=\"url(#clip0500)\">\n",
       "<text style=\"fill:#000000; fill-opacity:1; font-family:Arial,Helvetica Neue,Helvetica,sans-serif; font-size:12; text-anchor:middle;\" transform=\"rotate(0, 580.315, 389.669)\" x=\"580.315\" y=\"389.669\">200</text>\n",
       "</g>\n",
       "<g clip-path=\"url(#clip0500)\">\n",
       "<text style=\"fill:#000000; fill-opacity:1; font-family:Arial,Helvetica Neue,Helvetica,sans-serif; font-size:12; text-anchor:end;\" transform=\"rotate(0, 23.1292, 328.664)\" x=\"23.1292\" y=\"328.664\">0</text>\n",
       "</g>\n",
       "<g clip-path=\"url(#clip0500)\">\n",
       "<text style=\"fill:#000000; fill-opacity:1; font-family:Arial,Helvetica Neue,Helvetica,sans-serif; font-size:12; text-anchor:end;\" transform=\"rotate(0, 23.1292, 257.178)\" x=\"23.1292\" y=\"257.178\">20</text>\n",
       "</g>\n",
       "<g clip-path=\"url(#clip0500)\">\n",
       "<text style=\"fill:#000000; fill-opacity:1; font-family:Arial,Helvetica Neue,Helvetica,sans-serif; font-size:12; text-anchor:end;\" transform=\"rotate(0, 23.1292, 185.692)\" x=\"23.1292\" y=\"185.692\">40</text>\n",
       "</g>\n",
       "<g clip-path=\"url(#clip0500)\">\n",
       "<text style=\"fill:#000000; fill-opacity:1; font-family:Arial,Helvetica Neue,Helvetica,sans-serif; font-size:12; text-anchor:end;\" transform=\"rotate(0, 23.1292, 114.207)\" x=\"23.1292\" y=\"114.207\">60</text>\n",
       "</g>\n",
       "<g clip-path=\"url(#clip0500)\">\n",
       "<text style=\"fill:#000000; fill-opacity:1; font-family:Arial,Helvetica Neue,Helvetica,sans-serif; font-size:12; text-anchor:end;\" transform=\"rotate(0, 23.1292, 42.721)\" x=\"23.1292\" y=\"42.721\">80</text>\n",
       "</g>\n",
       "<polyline clip-path=\"url(#clip0502)\" style=\"stroke:#009af9; stroke-width:1; stroke-opacity:1; fill:none\" points=\"\n",
       "  29.1292,296.823 31.899,181.761 34.6688,240.672 37.4385,228.979 40.2083,259.656 42.9781,109.158 45.7479,148.09 48.5176,198.966 51.2874,193.503 54.0572,233.869 \n",
       "  56.827,309.192 59.5968,328.831 62.3665,251.079 65.1363,242.868 67.9061,142.954 70.6759,285.2 73.4456,268.407 76.2154,304.42 78.9852,287.953 81.755,262.911 \n",
       "  84.5248,279.643 87.2945,242.997 90.0643,316.199 92.8341,187.207 95.6039,155.111 98.3736,257.025 101.143,240.329 103.913,215.212 106.683,300.139 109.453,187.442 \n",
       "  112.223,336.286 114.992,284.263 117.762,255.685 120.532,183.978 123.302,191.047 126.071,142.624 128.841,319.198 131.611,369.834 134.381,109.894 137.151,146.778 \n",
       "  139.92,218 142.69,189.72 145.46,37.1839 148.23,169.376 150.999,184.922 153.769,208.889 156.539,276.085 159.309,197.984 162.079,113.886 164.848,167.142 \n",
       "  167.618,51.3523 170.388,222.1 173.158,165.818 175.927,210.04 178.697,131.761 181.467,158.697 184.237,267.092 187.007,125.971 189.776,314.03 192.546,255.101 \n",
       "  195.316,259.061 198.086,172.746 200.855,145.366 203.625,204.854 206.395,257.646 209.165,138.55 211.935,168.526 214.704,167.117 217.474,203.055 220.244,245.308 \n",
       "  223.014,211.738 225.783,253.914 228.553,235.836 231.323,281.587 234.093,240.606 236.863,274.399 239.632,183.765 242.402,224.115 245.172,214.008 247.942,271.701 \n",
       "  250.711,270.957 253.481,289.914 256.251,313.559 259.021,241.316 261.791,242.602 264.56,232.945 267.33,214.287 270.1,233.029 272.87,254.556 275.639,149.564 \n",
       "  278.409,164.231 281.179,206.261 283.949,139.414 286.719,258.067 289.488,278.996 292.258,198.951 295.028,147.361 297.798,174.675 300.567,153.655 303.337,183.245 \n",
       "  306.107,168.636 308.877,240.703 311.647,272.976 314.416,278.431 317.186,242.106 319.956,203.966 322.726,331.622 325.495,172.811 328.265,121.684 331.035,233.613 \n",
       "  333.805,237.883 336.575,202.692 339.344,269.661 342.114,279.061 344.884,269.546 347.654,191.269 350.423,221.358 353.193,262.87 355.963,165.787 358.733,164.986 \n",
       "  361.503,236.068 364.272,160.8 367.042,235.715 369.812,302.762 372.582,232.683 375.351,242.069 378.121,46.465 380.891,194.73 383.661,160.639 386.431,199.05 \n",
       "  389.2,148.41 391.97,258.291 394.74,234.736 397.51,192.064 400.279,230.728 403.049,11.811 405.819,183.055 408.589,272.519 411.359,159.793 414.128,223.535 \n",
       "  416.898,229.972 419.668,185.179 422.438,278.838 425.207,163.035 427.977,228.887 430.747,289.148 433.517,238.02 436.287,300.039 439.056,167.396 441.826,143.682 \n",
       "  444.596,217.028 447.366,179.071 450.135,210.28 452.905,292.432 455.675,176.517 458.445,232.647 461.215,235.18 463.984,211.916 466.754,197.049 469.524,281.83 \n",
       "  472.294,224.076 475.063,319.744 477.833,172.557 480.603,145.386 483.373,304.226 486.143,345.917 488.912,156.241 491.682,205.388 494.452,250.575 497.222,324.918 \n",
       "  499.991,228.978 502.761,53.6915 505.531,274.335 508.301,182.613 511.071,224.732 513.84,294.07 516.61,205.909 519.38,251.665 522.15,317.963 524.919,223.703 \n",
       "  527.689,185.079 530.459,216.45 533.229,249.205 535.999,375.869 538.768,219.328 541.538,297.289 544.308,219.557 547.078,305.781 549.847,256.666 552.617,313.673 \n",
       "  555.387,262.512 558.157,256.317 560.927,250.089 563.696,197.019 566.466,96.7951 569.236,130.923 572.006,314.04 574.775,281.701 577.545,140.197 580.315,264.719 \n",
       "  \n",
       "  \"/>\n",
       "<polygon clip-path=\"url(#clip0500)\" points=\"\n",
       "489.608,62.931 562.315,62.931 562.315,32.691 489.608,32.691 \n",
       "  \" fill=\"#ffffff\" fill-opacity=\"1\"/>\n",
       "<polyline clip-path=\"url(#clip0500)\" style=\"stroke:#000000; stroke-width:1; stroke-opacity:1; fill:none\" points=\"\n",
       "  489.608,62.931 562.315,62.931 562.315,32.691 489.608,32.691 489.608,62.931 \n",
       "  \"/>\n",
       "<polyline clip-path=\"url(#clip0500)\" style=\"stroke:#009af9; stroke-width:1; stroke-opacity:1; fill:none\" points=\"\n",
       "  495.608,47.811 531.608,47.811 \n",
       "  \"/>\n",
       "<g clip-path=\"url(#clip0500)\">\n",
       "<text style=\"fill:#000000; fill-opacity:1; font-family:Arial,Helvetica Neue,Helvetica,sans-serif; font-size:12; text-anchor:start;\" transform=\"rotate(0, 537.608, 52.311)\" x=\"537.608\" y=\"52.311\">y1</text>\n",
       "</g>\n",
       "</svg>\n"
      ]
     },
     "execution_count": 110,
     "metadata": {},
     "output_type": "execute_result"
    }
   ],
   "source": [
    "mcMeasure(200, 10, 2000, 5, 1/4)"
   ]
  },
  {
   "cell_type": "code",
   "execution_count": null,
   "metadata": {},
   "outputs": [],
   "source": []
  }
 ],
 "metadata": {
  "kernelspec": {
   "display_name": "Julia 0.6.3",
   "language": "julia",
   "name": "julia-0.6"
  },
  "language_info": {
   "file_extension": ".jl",
   "mimetype": "application/julia",
   "name": "julia",
   "version": "0.6.3"
  }
 },
 "nbformat": 4,
 "nbformat_minor": 2
}
