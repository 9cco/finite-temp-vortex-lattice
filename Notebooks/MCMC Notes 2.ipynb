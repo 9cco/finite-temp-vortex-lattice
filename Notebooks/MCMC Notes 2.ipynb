{
 "cells": [
  {
   "cell_type": "markdown",
   "metadata": {},
   "source": [
    "Getting the energy functions to work"
   ]
  },
  {
   "cell_type": "code",
   "execution_count": 1,
   "metadata": {},
   "outputs": [
    {
     "data": {
      "text/plain": [
       "copy (generic function with 46 methods)"
      ]
     },
     "execution_count": 1,
     "metadata": {},
     "output_type": "execute_result"
    }
   ],
   "source": [
    "type LatticeSite\n",
    "    A::Array{Float64,1}  # Fluctuating vector potential\n",
    "    θ⁺::Float64 # Phase of the + component\n",
    "    θ⁻::Float64 # Phase of the - component\n",
    "    u⁺::Float64 # Amplitude of + component\n",
    "end\n",
    "type State\n",
    "    lattice::Array{LatticeSite,2}  # Numerical lattice\n",
    "    γ::Float64    # Order parameter amplitude\n",
    "    g::Float64    # Gauge coupling\n",
    "    ν::Float64    # Anisotropy constant\n",
    "    f::Float64    # Magnetic filling fraction\n",
    "end\n",
    "function initializeState(N::Int64, choice::Int64)\n",
    "    N <= 1 && throw(DomainError())\n",
    "    \n",
    "    # Constants\n",
    "    γ = 1.0    # Order parameter amplitude\n",
    "    g = 1.0    # Gauge coupling\n",
    "    ν = 0.0    # Anisotropy constant\n",
    "    f = 0.0    # Magnetic filling fraction\n",
    "    \n",
    "    # Construct ordered state \n",
    "    if choice == 1\n",
    "        \n",
    "        # Construct NxN lattice of NxN LatticeSites\n",
    "        lattice = [LatticeSite([0,0],0,0,0) for y=1:N, x=1:N]\n",
    "        ψ = State(lattice, γ, g, ν, f)\n",
    "        \n",
    "    # Construct random state\n",
    "    elseif choice == 2\n",
    "        Amax::Int64 = 2^10\n",
    "        lattice = [LatticeSite([rand()*Amax*(-1)^rand(0:1),rand()*Amax*(-1)^rand(0:1)],\n",
    "                rand()*2*π,rand()*2*π, rand()) for y=1:N, x=1:N]\n",
    "        ψ = State(lattice, γ, g, ν, f)\n",
    "        \n",
    "    # We only have choices 1 and 2 so far so other values for choice will give an error.\n",
    "    else\n",
    "        throw(DomainError())\n",
    "    end\n",
    "    ψ\n",
    "end\n",
    "import Base.copy\n",
    "function copy(ϕ::LatticeSite)\n",
    "    LatticeSite([ϕ.A[1],ϕ.A[2]],ϕ.θ⁺,ϕ.θ⁻,ϕ.u⁺)\n",
    "end\n",
    "function copy(ψ::State)\n",
    "    Lx = size(ψ.lattice,2)\n",
    "    Ly = size(ψ.lattice,1)\n",
    "    lattice = [LatticeSite([ψ.lattice[y,x].A[1],ψ.lattice[y,x].A[2]],ψ.lattice[y,x].θ⁺,ψ.lattice[y,x].θ⁻,\n",
    "            ψ.lattice[y,x].u⁺) for y = 1:Ly, x=1:Lx]\n",
    "    State(lattice, ψ.γ, ψ.g, ψ.ν, ψ.f)\n",
    "end"
   ]
  },
  {
   "cell_type": "code",
   "execution_count": 2,
   "metadata": {},
   "outputs": [
    {
     "data": {
      "text/plain": [
       "fᵣ (generic function with 1 method)"
      ]
     },
     "execution_count": 2,
     "metadata": {},
     "output_type": "execute_result"
    }
   ],
   "source": [
    "function fᵣ(ϕ::LatticeSite,ϕᵣ₊₁::LatticeSite,ϕᵣ₊₂::LatticeSite,A₀::Float64,γ::Float64,g::Float64,ν::Float64,f::Float64)\n",
    "    energy = 0\n",
    "    uᵣ₊₁⁻ = √(1-ϕᵣ₊₁.u⁺^2)\n",
    "    u⁻ = √(1-ϕ.u⁺^2)\n",
    "    uᵣ₊₂⁻ = √(1-ϕᵣ₊₂.u⁺^2)\n",
    "    A₂ = ϕ.A[2]+A₀\n",
    "    # Kinetic energy Fₖ\n",
    "    energy += -2*γ^2*(ϕᵣ₊₁.u⁺ *ϕ.u⁺*cos(ϕᵣ₊₁.θ⁺-ϕ.θ⁺ + g*ϕ.A[1]) \n",
    "        + ϕᵣ₊₂.u⁺*ϕ.u⁺*cos(ϕᵣ₊₂.θ⁺-ϕ.θ⁺ + g*A₂) \n",
    "        + uᵣ₊₁⁻*u⁻*cos(ϕᵣ₊₁.θ⁻-ϕ.θ⁻ + g*ϕ.A[1]) \n",
    "        + uᵣ₊₂⁻*u⁻*cos(ϕᵣ₊₂.θ⁻-ϕ.θ⁻ + g*A₂) )\n",
    "    # Potential energy Fᵥ\n",
    "    energy += γ^4*ϕ.u⁺^2*u⁻^2*(1+ν*cos(2*(ϕ.θ⁺-ϕ.θ⁻)))\n",
    "    # Andreev Bashkin terms\n",
    "    energy += γ^2*(ν+1)*(u⁻*ϕᵣ₊₂.u⁺*cos(ϕᵣ₊₂.θ⁺-ϕ.θ⁻ + g*A₂) \n",
    "        + ϕ.u⁺*uᵣ₊₂⁻*cos(ϕᵣ₊₂.θ⁻-ϕ.θ⁺ + g*A₂) \n",
    "        - u⁻*ϕᵣ₊₁.u⁺*cos(ϕᵣ₊₁.θ⁺ - ϕ.θ⁻ + g*ϕ.A[1]) \n",
    "        - ϕ.u⁺*uᵣ₊₁⁻*cos(ϕᵣ₊₁.θ⁻ - ϕ.θ⁺ + g*ϕ.A[1]))\n",
    "    # Mixed gradient terms\n",
    "    energy += γ^2*(ν-1)*(ϕᵣ₊₂.u⁺*uᵣ₊₁⁻*sin(ϕᵣ₊₁.θ⁻ - ϕᵣ₊₂.θ⁺ + g*(ϕ.A[1]-A₂)) \n",
    "        - uᵣ₊₂⁻*ϕᵣ₊₁.u⁺*sin(ϕᵣ₊₁.θ⁺ - ϕᵣ₊₂.θ⁻ + g*(ϕ.A[1] - A₂)) \n",
    "        + 2*ϕ.u⁺*u⁻*sin(ϕ.θ⁻-ϕ.θ⁺) \n",
    "        -  u⁻*ϕᵣ₊₂.u⁺*sin(ϕᵣ₊₂.θ⁺-ϕ.θ⁻ + g*A₂) \n",
    "        + ϕ.u⁺*uᵣ₊₂⁻*sin(ϕᵣ₊₂.θ⁻-ϕ.θ⁺ + g*A₂) \n",
    "        + u⁻*ϕᵣ₊₁.u⁺*sin(ϕᵣ₊₁.θ⁺ - ϕ.θ⁻ + g*ϕ.A[1]) \n",
    "        - ϕ.u⁺*uᵣ₊₁⁻*sin(ϕᵣ₊₁.θ⁻ - ϕ.θ⁺ + g*ϕ.A[1]))\n",
    "    energy\n",
    "end"
   ]
  },
  {
   "cell_type": "code",
   "execution_count": 3,
   "metadata": {},
   "outputs": [
    {
     "data": {
      "text/plain": [
       "E (generic function with 1 method)"
      ]
     },
     "execution_count": 3,
     "metadata": {},
     "output_type": "execute_result"
    }
   ],
   "source": [
    "# Loops over all positions of the lattice of a state and calculates the total energy from the\n",
    "# Higgs-field terms using the function fᵣ() + the energy from the gauge field.\n",
    "function E(ψ::State)\n",
    "    γ = ψ.γ\n",
    "    g = ψ.g\n",
    "    energy = 0.0\n",
    "    ν = ψ.ν\n",
    "    f = ψ.f\n",
    "    Lx = size(ψ.lattice,2)\n",
    "    Ly = size(ψ.lattice,1)\n",
    "    \n",
    "    # Contribution from upper right corner\n",
    "    A⁰ = (Lx-1)*2π*f\n",
    "    ϕ = ψ.lattice[1,Lx]    # Lattice site at upper right corner\n",
    "    ϕᵣ₊₁ = ψ.lattice[1,1]    # Nearest neighbor at r+x is upper left corner\n",
    "    ϕᵣ₊₂ = ψ.lattice[Ly,Lx]  # Nearest neighbor at r+y is lower right corner\n",
    "    energy += fᵣ(ϕ,ϕᵣ₊₁,ϕᵣ₊₂,A⁰,γ,g,ν,f)              # Higgs terms\n",
    "    energy += (ϕ.A[1] + ϕᵣ₊₁.A[2]-ϕᵣ₊₂.A[1]-ϕ.A[2])^2 # Maxwell term\n",
    "    \n",
    "    # Contribution from right boundary paralell to y-axis\n",
    "    # except for the upper right corneϕ.\n",
    "    for y=2:Ly\n",
    "        ϕ = ψ.lattice[y,Lx]\n",
    "        ϕᵣ₊₁ = ψ.lattice[y,1]\n",
    "        ϕᵣ₊₂ = ψ.lattice[y-1,Lx]\n",
    "        A⁰ = (Lx-1)*2*π*f\n",
    "        energy += fᵣ(ϕ,ϕᵣ₊₁,ϕᵣ₊₂,A⁰,γ,g,ν,f)              # Higgs terms\n",
    "        energy += (ϕ.A[1] + ϕᵣ₊₁.A[2]-ϕᵣ₊₂.A[1]-ϕ.A[2])^2\n",
    "    end\n",
    "    \n",
    "    # Contribution from the bulk of lattice sites and upper boundary\n",
    "    for x=1:(Lx-1)\n",
    "        A⁰ = (x-1)*2*π*f        # Constant vector potential.\n",
    "        # Constribution from upper boundary except upper right corner\n",
    "        ϕ = ψ.lattice[1,x]\n",
    "        ϕᵣ₊₁ = ψ.lattice[1,x+1]\n",
    "        ϕᵣ₊₂ = ψ.lattice[Ly,x]\n",
    "        energy += fᵣ(ϕ,ϕᵣ₊₁,ϕᵣ₊₂,A⁰,γ,g,ν,f)              # Higgs terms\n",
    "        energy += (ϕ.A[1] + ϕᵣ₊₁.A[2]-ϕᵣ₊₂.A[1]-ϕ.A[2])^2\n",
    "        \n",
    "        # Contribution from the rest of the bulk.\n",
    "        for y=2:Ly\n",
    "            ϕ = ψ.lattice[y,x]          # Lattice site at position r\n",
    "            ϕᵣ₊₁ = ψ.lattice[y,x+1]       # Nearest neighbor at r+x\n",
    "            ϕᵣ₊₂ = ψ.lattice[y-1,x]       # Nearest neighbor at r+y\n",
    "            \n",
    "            energy += fᵣ(ϕ,ϕᵣ₊₁,ϕᵣ₊₂,A⁰,γ,g,ν,f)              # Higgs terms\n",
    "            energy += (ϕ.A[1] + ϕᵣ₊₁.A[2]-ϕᵣ₊₂.A[1]-ϕ.A[2])^2\n",
    "        end\n",
    "    end\n",
    "    \n",
    "    energy\n",
    "end"
   ]
  },
  {
   "cell_type": "markdown",
   "metadata": {},
   "source": [
    "Let's do a unit test that the energy function acts as expected."
   ]
  },
  {
   "cell_type": "code",
   "execution_count": 4,
   "metadata": {},
   "outputs": [
    {
     "name": "stdout",
     "output_type": "stream",
     "text": [
      "\u001b[1m\u001b[91mTest Failed\n",
      "\u001b[39m\u001b[22m  Expression: E(ψ) == -4 * (3 + cos((2 * π * 1) / 32))\n",
      "   Evaluated: -16.0 == -15.923141121612922\n"
     ]
    },
    {
     "ename": "LoadError",
     "evalue": "\u001b[91mThere was an error during testing\u001b[39m",
     "output_type": "error",
     "traceback": [
      "\u001b[91mThere was an error during testing\u001b[39m",
      "",
      "Stacktrace:",
      " [1] \u001b[1mrecord\u001b[22m\u001b[22m\u001b[1m(\u001b[22m\u001b[22m::Base.Test.FallbackTestSet, ::Base.Test.Fail\u001b[1m)\u001b[22m\u001b[22m at \u001b[1m./test.jl:533\u001b[22m\u001b[22m",
      " [2] \u001b[1mdo_test\u001b[22m\u001b[22m\u001b[1m(\u001b[22m\u001b[22m::Base.Test.Returned, ::Expr\u001b[1m)\u001b[22m\u001b[22m at \u001b[1m./test.jl:352\u001b[22m\u001b[22m"
     ]
    }
   ],
   "source": [
    "# Tests mostly that the kinetic energy Fₖ is correctly calculated.\n",
    "using Base.Test\n",
    "f = 1.0/33\n",
    "ψ = initializeState(2, 1)\n",
    "@test E(ψ) == -4*(3+cos(2*π*1/32))"
   ]
  },
  {
   "cell_type": "code",
   "execution_count": 5,
   "metadata": {},
   "outputs": [
    {
     "data": {
      "text/plain": [
       "ΔE2 (generic function with 1 method)"
      ]
     },
     "execution_count": 5,
     "metadata": {},
     "output_type": "execute_result"
    }
   ],
   "source": [
    "# If we don't try to be fancy about it, we could just use fᵣ for each of the points around the\n",
    "# updated lattice site.\n",
    "#\n",
    "function ΔE2(ψ::State, ϕ′::LatticeSite, pos::Array{Int64,1})\n",
    "    x = pos[1]\n",
    "    y = pos[2]\n",
    "    Ly = size(ψ.lattice,1)\n",
    "    Lx = size(ψ.lattice,2)\n",
    "    δE = 0.0\n",
    "    ϕ = ψ.lattice[y,x]\n",
    "    \n",
    "    # Calculate nearest neighbor lattice sites.\n",
    "    const ϕᵣ₊₁ = ψ.lattice[y, mod(x,Lx)+1]\n",
    "    const ϕᵣ₊₂ = ψ.lattice[mod(y-2,Ly)+1,x]\n",
    "    const ϕᵣ₋₁ = ψ.lattice[y,mod(x-2,Lx)+1]\n",
    "    const ϕᵣ₋₂ = ψ.lattice[mod(y,Ly)+1,x]\n",
    "    const ϕᵣ₋₁₊₂ = ψ.lattice[mod(y-2,Ly)+1,mod(x-2,Lx)+1]\n",
    "    const ϕᵣ₋₂₊₁ = ψ.lattice[mod(y,Ly)+1,mod(x,Lx)+1]\n",
    "    \n",
    "    # Energy difference from Higgs field terms\n",
    "    # First contribution from current position.\n",
    "    δE += fᵣ(ϕ′,ϕᵣ₊₁,ϕᵣ₊₂,2π*ψ.f*(x-1),ψ.γ,ψ.g,ψ.ν,ψ.f)-fᵣ(ϕ,ϕᵣ₊₁,ϕᵣ₊₂,2π*ψ.f*(x-1),ψ.γ,ψ.g,ψ.ν,ψ.f)\n",
    "    # Then from position r-x\n",
    "    δE += fᵣ(ϕᵣ₋₁,ϕ′,ϕᵣ₋₁₊₂,2π*ψ.f*(x-2),ψ.γ,ψ.g,ψ.ν,ψ.f)-fᵣ(ϕᵣ₋₁,ϕ,ϕᵣ₋₁₊₂,2π*ψ.f*(x-2),ψ.γ,ψ.g,ψ.ν,ψ.f)\n",
    "    # Then from position r-y\n",
    "    δE += fᵣ(ϕᵣ₋₂,ϕᵣ₋₂₊₁,ϕ′,2π*ψ.f*(x-1),ψ.γ,ψ.g,ψ.ν,ψ.f)-fᵣ(ϕᵣ₋₂,ϕᵣ₋₂₊₁,ϕ,2π*ψ.f*(x-1),ψ.γ,ψ.g,ψ.ν,ψ.f)\n",
    "    \n",
    "    # Then calculate the Gauge field contribution\n",
    "    # First contribution from current position\n",
    "    δE += (ϕ′.A[1] + ϕᵣ₊₁.A[2] - ϕᵣ₊₂.A[1] - ϕ′.A[2])^2 - (ϕ.A[1] + ϕᵣ₊₁.A[2] - ϕᵣ₊₂.A[1] - ϕ.A[2])^2\n",
    "    # Then from position r-x\n",
    "    δE += (ϕᵣ₋₁.A[1] + ϕ′.A[2] - ϕᵣ₋₁₊₂.A[1] - ϕᵣ₋₁.A[2])^2 - (ϕᵣ₋₁.A[1] + ϕ.A[2] - ϕᵣ₋₁₊₂.A[1] - ϕᵣ₋₁.A[2])^2\n",
    "    # Then from position r-y\n",
    "    δE += (ϕᵣ₋₂.A[1] + ϕᵣ₋₂₊₁.A[2] - ϕ′.A[1] - ϕᵣ₋₂.A[2])^2 - (ϕᵣ₋₂.A[1] + ϕᵣ₋₂₊₁.A[2] - ϕ.A[1] - ϕᵣ₋₂.A[2])^2\n",
    "end "
   ]
  },
  {
   "cell_type": "code",
   "execution_count": 79,
   "metadata": {},
   "outputs": [
    {
     "data": {
      "text/plain": [
       "ΔE3 (generic function with 1 method)"
      ]
     },
     "execution_count": 79,
     "metadata": {},
     "output_type": "execute_result"
    }
   ],
   "source": [
    "# Now we try to be fancy about it and use the reduced formula for the difference between the energies\n",
    "#\n",
    "function ΔE3(ψ::State, ϕ′::LatticeSite, pos::Array{Int64,1})\n",
    "    const x = pos[1]\n",
    "    const y = pos[2]\n",
    "    const Ly = size(ψ.lattice,1)\n",
    "    const Lx = size(ψ.lattice,2)\n",
    "    const ϕ = ψ.lattice[y,x]\n",
    "    const g = ψ.g\n",
    "    const δE::Float64 = 0.0\n",
    "    \n",
    "    # Calculate nearest neighbor lattice sites.\n",
    "    const ϕᵣ₊₁ = ψ.lattice[y, mod(x,Lx)+1]\n",
    "    const ϕᵣ₊₂ = ψ.lattice[mod(y-2,Ly)+1,x]\n",
    "    const ϕᵣ₋₁ = ψ.lattice[y,mod(x-2,Lx)+1]\n",
    "    const ϕᵣ₋₂ = ψ.lattice[mod(y,Ly)+1,x]\n",
    "    const ϕᵣ₋₁₊₂ = ψ.lattice[mod(y-2,Ly)+1,mod(x-2,Lx)+1]\n",
    "    const ϕᵣ₋₂₊₁ = ψ.lattice[mod(y,Ly)+1,mod(x,Lx)+1]\n",
    "    \n",
    "    # Calculate u⁻ for these lattice sites\n",
    "    const u′⁻ = √(1-ϕ′.u⁺^2)\n",
    "    const u⁻ = √(1-ϕ.u⁺^2)\n",
    "    const u⁻ᵣ₊₁ = √(1-ϕᵣ₊₁.u⁺^2)\n",
    "    const u⁻ᵣ₊₂ = √(1-ϕᵣ₊₂.u⁺^2)\n",
    "    const u⁻ᵣ₋₁ = √(1-ϕᵣ₋₁.u⁺^2)\n",
    "    const u⁻ᵣ₋₂ = √(1-ϕᵣ₋₂.u⁺^2)\n",
    "    const u⁻ᵣ₋₁₊₂ = √(1-ϕᵣ₋₁₊₂.u⁺^2)\n",
    "    const u⁻ᵣ₋₂₊₁ = √(1-ϕᵣ₋₂₊₁.u⁺^2)\n",
    "    \n",
    "    # Calculate constant link variables\n",
    "    const A⁰ = 2π*ψ.f*(x-1)\n",
    "    const A⁰₊ = 2π*ψ.f*x\n",
    "    const A⁰₋ = 2π*ψ.f*(x-2)\n",
    "    \n",
    "    # Normal kinetic terms\n",
    "    δE += -2*ψ.γ^2*(ϕᵣ₊₁.u⁺*(ϕ′.u⁺*cos(ϕᵣ₊₁.θ⁺ - ϕ′.θ⁺ + g*ϕ′.A[1]) - ϕ.u⁺*cos(ϕᵣ₊₁.θ⁺ - ϕ.θ⁺ + g*ϕ.A[1]))\n",
    "        + ϕᵣ₋₁.u⁺*(ϕ′.u⁺*cos(ϕ′.θ⁺-ϕᵣ₋₁.θ⁺+g*ϕᵣ₋₁.A[1]) - ϕ.u⁺*cos(ϕ.θ⁺-ϕᵣ₋₁.θ⁺+g*ϕᵣ₋₁.A[1]))\n",
    "        + u⁻ᵣ₊₁*(u′⁻*cos(ϕᵣ₊₁.θ⁻ - ϕ′.θ⁻ + g*ϕ′.A[1]) - u⁻*cos(ϕᵣ₊₁.θ⁻ - ϕ.θ⁻ + g*ϕ.A[1]))\n",
    "        + u⁻ᵣ₋₁*(u′⁻*cos(ϕ′.θ⁻-ϕᵣ₋₁.θ⁻+g*ϕᵣ₋₁.A[1]) - u⁻*cos(ϕ.θ⁻-ϕᵣ₋₁.θ⁻+g*ϕᵣ₋₁.A[1]))\n",
    "        + ϕᵣ₊₂.u⁺*(ϕ′.u⁺*cos(ϕᵣ₊₂.θ⁺ - ϕ′.θ⁺ + g*(ϕ′.A[2]+A⁰)) - ϕ.u⁺*cos(ϕᵣ₊₂.θ⁺ - ϕ.θ⁺ + g*(ϕ.A[2]+A⁰)))\n",
    "        + ϕᵣ₋₂.u⁺*(ϕ′.u⁺*cos(ϕ′.θ⁺-ϕᵣ₋₂.θ⁺+g*(ϕᵣ₋₂.A[2]+A⁰)) - ϕ.u⁺*cos(ϕ.θ⁺-ϕᵣ₋₂.θ⁺+g*(ϕᵣ₋₂.A[2]+A⁰)))\n",
    "        + u⁻ᵣ₊₂*(u′⁻*cos(ϕᵣ₊₂.θ⁻ - ϕ′.θ⁻ + g*(ϕ′.A[2]+A⁰)) - u⁻*cos(ϕᵣ₊₂.θ⁻ - ϕ.θ⁻ + g*(ϕ.A[2]+A⁰)))\n",
    "        + u⁻ᵣ₋₂*(u′⁻*cos(ϕ′.θ⁻-ϕᵣ₋₂.θ⁻+g*(ϕᵣ₋₂.A[2]+A⁰)) - u⁻*cos(ϕ.θ⁻-ϕᵣ₋₂.θ⁻+g*(ϕᵣ₋₂.A[2]+A⁰))))\n",
    "    \n",
    "    # Potential energy terms\n",
    "    δE += ψ.γ^4*((ϕ′.u⁺*u′⁻)^2*(1+ψ.ν*cos(2*(ϕ′.θ⁺ - ϕ′.θ⁻))) - (ϕ.u⁺*u⁻)^2*(1+ψ.ν*cos(2*(ϕ.θ⁺ - ϕ.θ⁻))))\n",
    "    \n",
    "    # Andreev-Bashkin terms\n",
    "    δE += ψ.γ^2*(ψ.ν+1)*(ϕᵣ₊₂.u⁺*(u′⁻*cos(ϕᵣ₊₂.θ⁺-ϕ′.θ⁻+g*(ϕ′.A[2]+A⁰)) - u⁻*cos(ϕᵣ₊₂.θ⁺-ϕ.θ⁻+g*(ϕ.A[2]+A⁰))) \n",
    "        - ϕᵣ₊₁.u⁺*(u′⁻*cos(ϕᵣ₊₁.θ⁺-ϕ′.θ⁻+g*ϕ′.A[1]) - u⁻*cos(ϕᵣ₊₁.θ⁺-ϕ.θ⁻+g*ϕ.A[1])) \n",
    "        + u⁻ᵣ₋₂*(ϕ′.u⁺*cos(ϕ′.θ⁺-ϕᵣ₋₂.θ⁻+g*(ϕᵣ₋₂.A[2]+A⁰)) - ϕ.u⁺*cos(ϕ.θ⁺-ϕᵣ₋₂.θ⁻+g*(ϕᵣ₋₂.A[2]+A⁰))) \n",
    "        - u⁻ᵣ₋₁*(ϕ′.u⁺*cos(ϕ′.θ⁺-ϕᵣ₋₁.θ⁻+g*ϕᵣ₋₁.A[1]) - ϕ.u⁺*cos(ϕ.θ⁺-ϕᵣ₋₁.θ⁻+g*ϕᵣ₋₁.A[1]))\n",
    "        + u⁻ᵣ₊₂*(ϕ′.u⁺*cos(ϕᵣ₊₂.θ⁻-ϕ′.θ⁺+g*(ϕ′.A[2]+A⁰)) - ϕ.u⁺*cos(ϕᵣ₊₂.θ⁻-ϕ.θ⁺+g*(ϕ.A[2]+A⁰))) \n",
    "        - u⁻ᵣ₊₁*(ϕ′.u⁺*cos(ϕᵣ₊₁.θ⁻-ϕ′.θ⁺+g*ϕ′.A[1]) - ϕ.u⁺*cos(ϕᵣ₊₁.θ⁻-ϕ.θ⁺+g*ϕ.A[1])) \n",
    "        + ϕᵣ₋₂.u⁺*(u′⁻*cos(ϕ′.θ⁻-ϕᵣ₋₂.θ⁺+g*(ϕᵣ₋₂.A[2]+A⁰)) - u⁻*cos(ϕ.θ⁻-ϕᵣ₋₂.θ⁺+g*(ϕᵣ₋₂.A[2]+A⁰))) \n",
    "        - ϕᵣ₋₁.u⁺*(u′⁻*cos(ϕ′.θ⁻-ϕᵣ₋₁.θ⁺+g*ϕᵣ₋₁.A[1]) - u⁻*cos(ϕ.θ⁻-ϕᵣ₋₁.θ⁺+g*ϕᵣ₋₁.A[1])))\n",
    "    \n",
    "    # Mixed gradient terms\n",
    "    δE += ψ.γ^2*(ψ.ν-1)*(ϕᵣ₊₂.u⁺*u⁻ᵣ₊₁*(sin(ϕᵣ₊₁.θ⁻-ϕᵣ₊₂.θ⁺ + g*(ϕ′.A[1] - (ϕ′.A[2]+A⁰))) \n",
    "            - sin(ϕᵣ₊₁.θ⁻-ϕᵣ₊₂.θ⁺ + g*(ϕ.A[1] - (ϕ.A[2]+A⁰)))) \n",
    "        -ϕᵣ₊₂.u⁺*(u′⁻*sin(ϕᵣ₊₂.θ⁺-ϕ′.θ⁻+g*(ϕ′.A[2]+A⁰)) - u⁻*sin(ϕᵣ₊₂.θ⁺-ϕ.θ⁻+g*(ϕ.A[2]+A⁰))) \n",
    "        +ϕᵣ₊₁.u⁺*(u′⁻*sin(ϕᵣ₊₁.θ⁺-ϕ′.θ⁻+g*ϕ′.A[1]) - u⁻*sin(ϕᵣ₊₁.θ⁺-ϕ.θ⁻+g*ϕ.A[1])) \n",
    "        +u⁻ᵣ₋₂₊₁*(ϕ′.u⁺*sin(ϕᵣ₋₂₊₁.θ⁻-ϕ′.θ⁺+g*(ϕᵣ₋₂.A[1] - (ϕᵣ₋₂.A[2]+A⁰))) \n",
    "            - ϕ.u⁺*sin(ϕᵣ₋₂₊₁.θ⁻-ϕ.θ⁺+g*(ϕᵣ₋₂.A[1] - (ϕᵣ₋₂.A[2]+A⁰)))) \n",
    "        +ϕᵣ₋₁₊₂.u⁺*(u′⁻*sin(ϕ′.θ⁻-ϕᵣ₋₁₊₂.θ⁺+g*(ϕᵣ₋₁.A[1]-(ϕᵣ₋₁.A[2]+A⁰₋))) \n",
    "            - u⁻*sin(ϕ.θ⁻-ϕᵣ₋₁₊₂.θ⁺+g*(ϕᵣ₋₁.A[1]-(ϕᵣ₋₁.A[2]+A⁰₋)))) \n",
    "        -u⁻ᵣ₋₂*(ϕ′.u⁺*sin(ϕ′.θ⁺-ϕᵣ₋₂.θ⁻+g*(ϕᵣ₋₂.A[2]+A⁰)) - ϕ.u⁺*sin(ϕ.θ⁺-ϕᵣ₋₂.θ⁻+g*(ϕᵣ₋₂.A[2]+A⁰))) \n",
    "        +u⁻ᵣ₋₁*(ϕ′.u⁺*sin(ϕ′.θ⁺-ϕᵣ₋₁.θ⁻+g*ϕᵣ₋₁.A[1]) - ϕ.u⁺*sin(ϕ.θ⁺-ϕᵣ₋₁.θ⁻+g*ϕᵣ₋₁.A[1])) \n",
    "        -(u⁻ᵣ₊₂*ϕᵣ₊₁.u⁺*(sin(ϕᵣ₊₁.θ⁺-ϕᵣ₊₂.θ⁻ + g*(ϕ′.A[1] - (ϕ′.A[2]+A⁰))) \n",
    "            - sin(ϕᵣ₊₁.θ⁺-ϕᵣ₊₂.θ⁻ + g*(ϕ.A[1] - (ϕ.A[2]+A⁰)))) \n",
    "        -u⁻ᵣ₊₂*(ϕ′.u⁺*sin(ϕᵣ₊₂.θ⁻-ϕ′.θ⁺+g*(ϕ′.A[2]+A⁰)) - ϕ.u⁺*sin(ϕᵣ₊₂.θ⁻-ϕ.θ⁺+g*(ϕ.A[2]+A⁰))) \n",
    "        +u⁻ᵣ₊₁*(ϕ′.u⁺*sin(ϕᵣ₊₁.θ⁻-ϕ′.θ⁺+g*ϕ′.A[1]) - ϕ.u⁺*sin(ϕᵣ₊₁.θ⁻-ϕ.θ⁺+g*ϕ.A[1])) \n",
    "        +ϕᵣ₋₂₊₁.u⁺*(u′⁻*sin(ϕᵣ₋₂₊₁.θ⁺-ϕ′.θ⁻+g*(ϕᵣ₋₂.A[1] - (ϕᵣ₋₂.A[2]+A⁰))) \n",
    "            - u⁻*sin(ϕᵣ₋₂₊₁.θ⁺-ϕ.θ⁻+g*(ϕᵣ₋₂.A[1] - (ϕᵣ₋₂.A[2]+A⁰)))) \n",
    "        +u⁻ᵣ₋₁₊₂*(ϕ′.u⁺*sin(ϕ′.θ⁺-ϕᵣ₋₁₊₂.θ⁻+g*(ϕᵣ₋₁.A[1]-(ϕᵣ₋₁.A[2]+A⁰₋))) \n",
    "            - ϕ.u⁺*sin(ϕ.θ⁺-ϕᵣ₋₁₊₂.θ⁻+g*(ϕᵣ₋₁.A[1]-(ϕᵣ₋₁.A[2]+A⁰₋)))) \n",
    "        -ϕᵣ₋₂.u⁺*(u′⁻*sin(ϕ′.θ⁻-ϕᵣ₋₂.θ⁺+g*(ϕᵣ₋₂.A[2]+A⁰)) - u⁻*sin(ϕ.θ⁻-ϕᵣ₋₂.θ⁺+g*(ϕᵣ₋₂.A[2]+A⁰))) \n",
    "        +ϕᵣ₋₁.u⁺*(u′⁻*sin(ϕ′.θ⁻-ϕᵣ₋₁.θ⁺+g*ϕᵣ₋₁.A[1]) - u⁻*sin(ϕ.θ⁻-ϕᵣ₋₁.θ⁺+g*ϕᵣ₋₁.A[1])))\n",
    "        +2*(ϕ′.u⁺*u′⁻*sin(ϕ′.θ⁻-ϕ′.θ⁺) - ϕ.u⁺*u⁻*sin(ϕ.θ⁻-ϕ.θ⁺)))\n",
    "    \n",
    "    # Then calculate the Gauge field contribution\n",
    "    # First contribution from current position\n",
    "    δE += (ϕ′.A[1] + ϕᵣ₊₁.A[2] - ϕᵣ₊₂.A[1] - ϕ′.A[2])^2 - (ϕ.A[1] + ϕᵣ₊₁.A[2] - ϕᵣ₊₂.A[1] - ϕ.A[2])^2\n",
    "    # Then from position r-x\n",
    "    δE += (ϕᵣ₋₁.A[1] + ϕ′.A[2] - ϕᵣ₋₁₊₂.A[1] - ϕᵣ₋₁.A[2])^2 - (ϕᵣ₋₁.A[1] + ϕ.A[2] - ϕᵣ₋₁₊₂.A[1] - ϕᵣ₋₁.A[2])^2\n",
    "    # Then from position r-y\n",
    "    δE += (ϕᵣ₋₂.A[1] + ϕᵣ₋₂₊₁.A[2] - ϕ′.A[1] - ϕᵣ₋₂.A[2])^2 - (ϕᵣ₋₂.A[1] + ϕᵣ₋₂₊₁.A[2] - ϕ.A[1] - ϕᵣ₋₂.A[2])^2\n",
    "end"
   ]
  },
  {
   "cell_type": "code",
   "execution_count": 33,
   "metadata": {},
   "outputs": [
    {
     "name": "stdout",
     "output_type": "stream",
     "text": [
      "Ly = size(ψ₂.lattice, 1) = 3\n",
      "ΔE2(ψ₂, site, [2, 2]) = -1.8807743274874892e6\n",
      "pos = [2, 2]\n",
      "ΔE3(ψ₂, site, [2, 2]) = -1.8807743274874892e6\n",
      "E(ψ₁) - E(ψ₂) = -1.8807743274874873e6\n",
      "pos = [2, 2]\n",
      "ΔE2(ψ₂, site, [2, 2]) == ΔE3(ψ₂, site, [2, 2]) = true\n",
      "E(ψ₁) = 1.4612586570286604e7\n",
      "pos = [2, 2]\n",
      "isapprox(E(ψ₁) - E(ψ₂), ΔE3(ψ₂, site, [2, 2]); atol=1.0e-8, rtol=0) = true\n"
     ]
    },
    {
     "data": {
      "text/plain": [
       "true"
      ]
     },
     "execution_count": 33,
     "metadata": {},
     "output_type": "execute_result"
    }
   ],
   "source": [
    "# Test case. We make a 3x3 lattice, and put two different lattice sites in the middle\n",
    "# i.e. the [2,2] position. Then we use the different functions to calculate the energy\n",
    "# difference associated with this change.\n",
    "\n",
    "ψ₂ = initializeState(3,2)\n",
    "site = LatticeSite([0.0,0.0], 0, 0,1)\n",
    "@show Ly = size(ψ₂.lattice,1)\n",
    "ψ₁ = copy(ψ₂)\n",
    "ψ₁.lattice[2,2] = copy(site)\n",
    "@show ΔE2(ψ₂,site,[2,2])\n",
    "@show ΔE3(ψ₂,site,[2,2])\n",
    "@show E(ψ₁)-E(ψ₂)\n",
    "@show ΔE2(ψ₂,site,[2,2]) == ΔE3(ψ₂,site,[2,2])\n",
    "@show E(ψ₁)\n",
    "@show isapprox(E(ψ₁)-E(ψ₂), ΔE3(ψ₂,site,[2,2]); atol=0.00000000000001e6, rtol=0)"
   ]
  },
  {
   "cell_type": "markdown",
   "metadata": {},
   "source": [
    "It seems that the difference between using `E(ψ₁)-E(ψ₂)`and `ΔE2(ψ₂,site,[2,2])` is floating point error."
   ]
  },
  {
   "cell_type": "code",
   "execution_count": 34,
   "metadata": {},
   "outputs": [
    {
     "data": {
      "text/plain": [
       "BenchmarkTools.Trial: \n",
       "  memory estimate:  112 bytes\n",
       "  allocs estimate:  2\n",
       "  --------------\n",
       "  minimum time:     1.803 μs (0.00% GC)\n",
       "  median time:      1.829 μs (0.00% GC)\n",
       "  mean time:        1.906 μs (0.00% GC)\n",
       "  maximum time:     6.019 μs (0.00% GC)\n",
       "  --------------\n",
       "  samples:          10000\n",
       "  evals/sample:     10"
      ]
     },
     "execution_count": 34,
     "metadata": {},
     "output_type": "execute_result"
    }
   ],
   "source": [
    "using BenchmarkTools\n",
    "@benchmark ΔE2(ψ₂,site,[2,2])"
   ]
  },
  {
   "cell_type": "code",
   "execution_count": 88,
   "metadata": {},
   "outputs": [
    {
     "data": {
      "text/plain": [
       "BenchmarkTools.Trial: \n",
       "  memory estimate:  224 bytes\n",
       "  allocs estimate:  9\n",
       "  --------------\n",
       "  minimum time:     1.302 μs (0.00% GC)\n",
       "  median time:      1.320 μs (0.00% GC)\n",
       "  mean time:        1.404 μs (2.39% GC)\n",
       "  maximum time:     344.822 μs (97.52% GC)\n",
       "  --------------\n",
       "  samples:          10000\n",
       "  evals/sample:     10"
      ]
     },
     "execution_count": 88,
     "metadata": {},
     "output_type": "execute_result"
    }
   ],
   "source": [
    "@benchmark ΔE3(ψ₂,site,[2,2])"
   ]
  },
  {
   "cell_type": "markdown",
   "metadata": {},
   "source": [
    "For some reason there seems to be a problem with `ΔE3` allocating memory to heap, but still it is faster than `ΔE2` because we are not wasting time summing 0es. Not sure how to prevent the memory issue"
   ]
  },
  {
   "cell_type": "markdown",
   "metadata": {},
   "source": [
    "# Proposal of a local state update\n",
    "Given a state $\\Psi_i$ we want to propose a new state $\\Psi_{i+1}$ that can later be accepted according to the Metropolis-Hastings algorithm. The proposal function thus has to take in a given state $\\Psi_i$ and give out a new\n",
    "state $\\Psi_{i+1}$ as well as the energy difference between the two states since this can be effectively calculated depending on what kind of update is done to the state. Thus we don't need to call $E(\\Psi)$ twice to find the difference in energy.\n",
    "\n",
    "The local update is done at a particular lattice site where all degrees of freedom are updated, thus the function also has to know what lattice position to update.\n",
    "\n",
    "Remember that the proposal probability for a new state $P(\\Psi_i\\to\\Psi_j)$ has to be equal to the symmetric update"
   ]
  },
  {
   "cell_type": "markdown",
   "metadata": {},
   "source": [
    "$$P(\\Psi_i\\to\\Psi_j) = P(\\Psi_j\\to\\Psi_i),$$"
   ]
  },
  {
   "cell_type": "markdown",
   "metadata": {},
   "source": [
    "for the update to fulfill detailed balance.\n",
    "\n",
    "So far we do a very simple thing of defining a fixed interval around the original value, from within which the new value is uniformly randomly picked. Given a value $\\theta^+_\\mathbf{r}$ at the lattice site $\\mathbf{r}$, the new value \n",
    "$\\theta'{}^+_\\mathbf{r}$ is thus picked uniformly from the interval \n",
    "$$\\theta'{}^+_\\mathbf{r}\\in(\\theta^+_\\mathbf{r}-\\theta_\\text{max},\\;\\theta^+_\\mathbf{r}+\\theta_\\text{max})$$"
   ]
  },
  {
   "cell_type": "code",
   "execution_count": 36,
   "metadata": {},
   "outputs": [
    {
     "data": {
      "text/plain": [
       "proposeLocalUpdate (generic function with 1 method)"
      ]
     },
     "execution_count": 36,
     "metadata": {},
     "output_type": "execute_result"
    }
   ],
   "source": [
    "using Distributions\n",
    "function proposeLocalUpdate(ψᵢ::State, r::Array{Int64, 1})\n",
    "    const θmax = π/2 # How far away from the original value, the proposed new value for θ should be.\n",
    "    const umax = 3 # How far away from the original value, the proposed amplitude u should be.\n",
    "    const Amax = 3\n",
    "    const x = r[1]\n",
    "    const y = r[2]\n",
    "    (size(ψᵢ.lattice,1) < y || size(ψᵢ.lattice,2) < x) && throw(DomainError()) # r is outside the range of the lattice.\n",
    "    \n",
    "    # Save the lattice site at position r in a separate variable s.\n",
    "    s = ψᵢ.lattice[y,x]\n",
    "    \n",
    "    # Construct new configuration at lattice site.\n",
    "    newLatticeSite = LatticeSite([s.A[1]+rand(Uniform(-Amax,Amax)), s.A[2]+rand(Uniform(-Amax,Amax))],\n",
    "        mod(s.θ⁺ + rand(Uniform(-θmax,θmax)), 2π), mod(s.θ⁻ + rand(Uniform(-θmax,θmax)), 2π), \n",
    "        mod(s.u⁺ + rand(Uniform(-umax,umax)),1))\n",
    "    \n",
    "    # Calculate energy difference between the two configurations and return this with the proposed lattice site.\n",
    "    (newLatticeSite, ΔE3(ψᵢ,newLatticeSite,r))\n",
    "end    "
   ]
  },
  {
   "cell_type": "markdown",
   "metadata": {},
   "source": [
    "# Metropolis Hastings update\n",
    "\n",
    "Now we create a function that implements the acceptance step of the Metropolis Hastings algorithm.\n",
    "1. From state $\\Psi_i$, propose a new state $\\Psi_{i+1}$\n",
    "2. Calculate $\\Delta E_{i,i+1}$.\n",
    "3. Generate a random number r between $(0,1]$.\n",
    "4. If $r\\leq e^{-\\beta\\Delta E_{i,i+1}}$, accept the state\n",
    "\n",
    "Since the \n",
    "> rand() \n",
    "\n",
    "function creates a random number in $[0,1)$ we create a random number in $(0,1]$ by mapping $0\\mapsto1$."
   ]
  },
  {
   "cell_type": "code",
   "execution_count": 37,
   "metadata": {},
   "outputs": [
    {
     "data": {
      "text/plain": [
       "metropolisHastingUpdate! (generic function with 1 method)"
      ]
     },
     "execution_count": 37,
     "metadata": {},
     "output_type": "execute_result"
    }
   ],
   "source": [
    "function metropolisHastingUpdate!(ψ::State, r::Array{Int64,1}, β::Float64)\n",
    "    (site, δE) = proposeLocalUpdate(ψ,r)\n",
    "    \n",
    "    # Create random number ran ∈ (0,1].\n",
    "    ran = rand()\n",
    "    if ran==0\n",
    "        ran=1\n",
    "    end\n",
    "    \n",
    "    # Update state with probability min(1, e^{-β⋅δE})\n",
    "    # and return the energy of final state regardless of whether it gets updated or not.\n",
    "    if log(ran) <= -β*δE\n",
    "        ψ.lattice[r[2],r[1]] = site\n",
    "        δE\n",
    "    else\n",
    "        δE = 0\n",
    "    end\n",
    "end"
   ]
  },
  {
   "cell_type": "markdown",
   "metadata": {},
   "source": [
    "# Monte Carlo sweep\n",
    "\n",
    "Try to update the entire lattice once."
   ]
  },
  {
   "cell_type": "code",
   "execution_count": 38,
   "metadata": {},
   "outputs": [
    {
     "data": {
      "text/plain": [
       "mcSweep! (generic function with 1 method)"
      ]
     },
     "execution_count": 38,
     "metadata": {},
     "output_type": "execute_result"
    }
   ],
   "source": [
    "function mcSweep!(ψ::State, β::Float64)\n",
    "    \n",
    "    # Find size of the lattice L\n",
    "    L = size(ψ.lattice,1)\n",
    "    \n",
    "    # Do a Metropolis-Hastings update for all lattice sites on the lattice.\n",
    "    for x in 1:L, y in 1:L\n",
    "        metropolisHastingUpdate!(ψ, [x,y], β)\n",
    "    end\n",
    "end"
   ]
  },
  {
   "cell_type": "markdown",
   "metadata": {},
   "source": [
    "Idea from Håvard: create all update values for the lattice in one function and all random numbers as well. Numbers needed are the LxL random numbers $\\log(r),r\\in(0,1]$ as well as new lattice sites for each lattice site in the lattice."
   ]
  },
  {
   "cell_type": "code",
   "execution_count": 39,
   "metadata": {},
   "outputs": [
    {
     "data": {
      "text/plain": [
       "createLnUnif01 (generic function with 1 method)"
      ]
     },
     "execution_count": 39,
     "metadata": {},
     "output_type": "execute_result"
    }
   ],
   "source": [
    "# Return an array of random numbers log(r) where r in (0,1]\n",
    "function createLnUnif01(N::Int64)\n",
    "    v = rand(N)\n",
    "    for i=1:N\n",
    "        if v[i]==0\n",
    "            v[i] = 1\n",
    "        end\n",
    "        v[i] = log(v[i])\n",
    "    end\n",
    "    return v\n",
    "end"
   ]
  },
  {
   "cell_type": "code",
   "execution_count": 40,
   "metadata": {},
   "outputs": [
    {
     "data": {
      "text/plain": [
       "0.4926322022031746"
      ]
     },
     "execution_count": 40,
     "metadata": {},
     "output_type": "execute_result"
    }
   ],
   "source": [
    "δran = [rand(Uniform(-1,1),2,2) for i=1:5]\n",
    "δran[1][1] *= 2"
   ]
  },
  {
   "cell_type": "code",
   "execution_count": 41,
   "metadata": {},
   "outputs": [
    {
     "name": "stdout",
     "output_type": "stream",
     "text": [
      "(y, x) = (1, 5)\n",
      "(y, x) = (1, 6)\n",
      "(y, x) = (1, 7)\n",
      "(y, x) = (2, 5)\n",
      "(y, x) = (2, 6)\n",
      "(y, x) = (2, 7)\n",
      "(y, x) = (3, 5)\n",
      "(y, x) = (3, 6)\n",
      "(y, x) = (3, 7)\n"
     ]
    }
   ],
   "source": [
    "for y=1:3, x=5:7\n",
    "    @show (y,x)\n",
    "end"
   ]
  },
  {
   "cell_type": "code",
   "execution_count": 71,
   "metadata": {},
   "outputs": [
    {
     "data": {
      "text/plain": [
       "generateProposalLattice (generic function with 1 method)"
      ]
     },
     "execution_count": 71,
     "metadata": {},
     "output_type": "execute_result"
    }
   ],
   "source": [
    "# Generate new proposals for each site in ψ.lattice\n",
    "function generateProposalLattice(ψ::State, Lx::Int64, Ly::Int64)\n",
    "    const θmax = π/2 # How far away from the original value, the proposed new value for θ should be.\n",
    "    const umax = 3 # How far away from the original value, the proposed amplitude u should be.\n",
    "    const Amax = 3\n",
    "    N = Lx*Ly\n",
    "    \n",
    "    # Create an array of matrices that contain δ-updates for each value of each lattice site\n",
    "    # where each δ is in the interval [-maxValue, maxValue]\n",
    "    δran = [rand(Uniform(-1,1),Ly,Lx) for i=1:5]\n",
    "    for x=1:Lx, y=1:Ly\n",
    "        δran[1][y,x] *= Amax\n",
    "        δran[2][y,x] *= Amax\n",
    "        δran[3][y,x] *= θmax\n",
    "        δran[4][y,x] *= θmax\n",
    "        δran[5][y,x] *= umax\n",
    "    end\n",
    "    \n",
    "    newLattice = [LatticeSite([ψ.lattice[y,x].A[1] + δran[1][y,x], ψ.lattice[y,x].A[2] + δran[2][y,x]],\n",
    "            mod(ψ.lattice[y,x].θ⁺ + δran[3][y,x],2π), mod(ψ.lattice[y,x].θ⁻ + δran[4][y,x],2π),\n",
    "            mod(ψ.lattice[y,x].u⁺ + δran[5][y,x],1))\n",
    "    for x=1:Lx, y=1:Ly]\n",
    "end"
   ]
  },
  {
   "cell_type": "code",
   "execution_count": 63,
   "metadata": {},
   "outputs": [
    {
     "data": {
      "text/plain": [
       "generateProposalLattice2 (generic function with 1 method)"
      ]
     },
     "execution_count": 63,
     "metadata": {},
     "output_type": "execute_result"
    }
   ],
   "source": [
    "# Generate new proposals for each site in ψ.lattice\n",
    "function generateProposalLattice2(ψ::State, Lx::Int64, Ly::Int64)\n",
    "    const θmax = π/2 # How far away from the original value, the proposed new value for θ should be.\n",
    "    const umax = 3 # How far away from the original value, the proposed amplitude u should be.\n",
    "    const Amax = 3\n",
    "    \n",
    "    newLattice = [LatticeSite([ψ.lattice[y,x].A[1] + rand(Uniform(-1,1))*Amax, \n",
    "                ψ.lattice[y,x].A[2] + rand(Uniform(-1,1))*Amax],\n",
    "            mod(ψ.lattice[y,x].θ⁺ + rand(Uniform(-1,1))*θmax,2π), mod(ψ.lattice[y,x].θ⁻ + rand(Uniform(-1,1))*θmax,2π),\n",
    "            mod(ψ.lattice[y,x].u⁺ + rand(Uniform(-1,1))*umax,1))\n",
    "    for x=1:Lx, y=1:Ly]\n",
    "end"
   ]
  },
  {
   "cell_type": "code",
   "execution_count": 44,
   "metadata": {},
   "outputs": [
    {
     "data": {
      "text/plain": [
       "generateProposalLattice3 (generic function with 1 method)"
      ]
     },
     "execution_count": 44,
     "metadata": {},
     "output_type": "execute_result"
    }
   ],
   "source": [
    "# Generate new proposals for each site in ψ.lattice\n",
    "function generateProposalLattice3(ψ::State, Lx::Int64, Ly::Int64)\n",
    "    const θmax = π/2 # How far away from the original value, the proposed new value for θ should be.\n",
    "    const umax = 3 # How far away from the original value, the proposed amplitude u should be.\n",
    "    const Amax = 3\n",
    "    newLattice = Array{LatticeSite}(Ly,Lx)\n",
    "    for x=1:Lx\n",
    "        for y=1:Ly\n",
    "            newLattice[y,x] = LatticeSite([ψ.lattice[y,x].A[1] + rand(Uniform(-1,1))*Amax, \n",
    "                ψ.lattice[y,x].A[2] + rand(Uniform(-1,1))*Amax],\n",
    "            ψ.lattice[y,x].θ⁺ + rand(Uniform(-1,1))*θmax, ψ.lattice[y,x].θ⁻ + rand(Uniform(-1,1))*θmax,\n",
    "            ψ.lattice[y,x].u⁺ + rand(Uniform(-1,1))*umax)\n",
    "        end\n",
    "    end\n",
    "    return newLattice\n",
    "end"
   ]
  },
  {
   "cell_type": "markdown",
   "metadata": {},
   "source": [
    "### Benchmarking and testing different generateProposalLattice functions"
   ]
  },
  {
   "cell_type": "code",
   "execution_count": 72,
   "metadata": {},
   "outputs": [],
   "source": [
    "ψ = initializeState(40,2)\n",
    "generateProposalLattice3(ψ,40,40);"
   ]
  },
  {
   "cell_type": "code",
   "execution_count": 73,
   "metadata": {},
   "outputs": [
    {
     "data": {
      "text/plain": [
       "BenchmarkTools.Trial: \n",
       "  memory estimate:  350.95 KiB\n",
       "  allocs estimate:  6409\n",
       "  --------------\n",
       "  minimum time:     295.323 μs (0.00% GC)\n",
       "  median time:      346.146 μs (0.00% GC)\n",
       "  mean time:        421.860 μs (16.47% GC)\n",
       "  maximum time:     6.003 ms (90.23% GC)\n",
       "  --------------\n",
       "  samples:          10000\n",
       "  evals/sample:     1"
      ]
     },
     "execution_count": 73,
     "metadata": {},
     "output_type": "execute_result"
    }
   ],
   "source": [
    "using BenchmarkTools\n",
    "@benchmark generateProposalLattice(ψ,40,40)"
   ]
  },
  {
   "cell_type": "code",
   "execution_count": 74,
   "metadata": {},
   "outputs": [
    {
     "data": {
      "text/plain": [
       "BenchmarkTools.Trial: \n",
       "  memory estimate:  287.72 KiB\n",
       "  allocs estimate:  6403\n",
       "  --------------\n",
       "  minimum time:     322.769 μs (0.00% GC)\n",
       "  median time:      378.964 μs (0.00% GC)\n",
       "  mean time:        435.417 μs (13.32% GC)\n",
       "  maximum time:     10.611 ms (92.40% GC)\n",
       "  --------------\n",
       "  samples:          10000\n",
       "  evals/sample:     1"
      ]
     },
     "execution_count": 74,
     "metadata": {},
     "output_type": "execute_result"
    }
   ],
   "source": [
    "@benchmark generateProposalLattice2(ψ,40,40)"
   ]
  },
  {
   "cell_type": "code",
   "execution_count": 75,
   "metadata": {},
   "outputs": [
    {
     "data": {
      "text/plain": [
       "BenchmarkTools.Trial: \n",
       "  memory estimate:  287.63 KiB\n",
       "  allocs estimate:  6401\n",
       "  --------------\n",
       "  minimum time:     192.444 μs (0.00% GC)\n",
       "  median time:      201.960 μs (0.00% GC)\n",
       "  mean time:        289.687 μs (22.78% GC)\n",
       "  maximum time:     12.205 ms (96.64% GC)\n",
       "  --------------\n",
       "  samples:          10000\n",
       "  evals/sample:     1"
      ]
     },
     "execution_count": 75,
     "metadata": {},
     "output_type": "execute_result"
    }
   ],
   "source": [
    "@benchmark generateProposalLattice3(ψ,40,40)"
   ]
  },
  {
   "cell_type": "markdown",
   "metadata": {},
   "source": [
    "Number 2 seems to be the most efficient since GC is running less than nr. 1 but has about same mean time."
   ]
  },
  {
   "cell_type": "code",
   "execution_count": 76,
   "metadata": {},
   "outputs": [
    {
     "data": {
      "text/plain": [
       "metropolisHastingUpdate2! (generic function with 1 method)"
      ]
     },
     "execution_count": 76,
     "metadata": {},
     "output_type": "execute_result"
    }
   ],
   "source": [
    "# Takes in a state, a proposed site and the position of the state and attempts to update\n",
    "# the position in the state with the proposed site according to Metropolis Hastings. Returns\n",
    "# difference in energy between new and old state.\n",
    "function metropolisHastingUpdate2!(ψ::State, ϕ′::LatticeSite, ln_ran::Float64, pos::Array{Int64,1}, β::Float64)\n",
    "    δE = ΔE3(ψ,ϕ′,pos)\n",
    "    if ln_ran <= -β*δE\n",
    "        ψ.lattice[pos[2],pos[1]] = ϕ′\n",
    "        return δE\n",
    "    else\n",
    "        return 0\n",
    "    end\n",
    "end"
   ]
  },
  {
   "cell_type": "code",
   "execution_count": 80,
   "metadata": {},
   "outputs": [
    {
     "data": {
      "text/plain": [
       "mcSweep2! (generic function with 1 method)"
      ]
     },
     "execution_count": 80,
     "metadata": {},
     "output_type": "execute_result"
    }
   ],
   "source": [
    "function mcSweep2!(ψ::State, β::Float64)\n",
    "    Lx = size(ψ.lattice, 2)\n",
    "    Ly = size(ψ.lattice, 1)\n",
    "    N = Lx*Ly\n",
    "    \n",
    "    # Create random numbers for check.\n",
    "    ln_random = createLnUnif01(N)\n",
    "    newLattice = generateProposalLattice2(ψ, Lx, Ly)\n",
    "    \n",
    "    # Loop over entire array\n",
    "    # TODO IDEA: loop over lattice similarly to E(ψ) function so that you all the time know what boundary conditions\n",
    "    # to use and create ΔE function that makes use of that information so that it dosen't have to calculate nearest\n",
    "    # and next nearest neighbors each time.\n",
    "    for x=1:Lx, y=1:Ly\n",
    "        # And try to update each lattice site using a Metropolis Hastings update.\n",
    "        metropolisHastingUpdate2!(ψ,newLattice[y,x],ln_random[(x-1)*Ly+y],[x,y],β)\n",
    "    end\n",
    "end"
   ]
  },
  {
   "cell_type": "markdown",
   "metadata": {},
   "source": [
    "### Bechmarking mcSweep functions"
   ]
  },
  {
   "cell_type": "code",
   "execution_count": 86,
   "metadata": {},
   "outputs": [
    {
     "data": {
      "text/plain": [
       "BenchmarkTools.Trial: \n",
       "  memory estimate:  700.00 KiB\n",
       "  allocs estimate:  24000\n",
       "  --------------\n",
       "  minimum time:     3.447 ms (0.00% GC)\n",
       "  median time:      3.546 ms (0.00% GC)\n",
       "  mean time:        3.777 ms (3.92% GC)\n",
       "  maximum time:     10.761 ms (50.17% GC)\n",
       "  --------------\n",
       "  samples:          1323\n",
       "  evals/sample:     1"
      ]
     },
     "execution_count": 86,
     "metadata": {},
     "output_type": "execute_result"
    }
   ],
   "source": [
    "using BenchmarkTools\n",
    "ψ = initializeState(40,2)\n",
    "β = 1/4\n",
    "mcSweep2!(ψ,β)\n",
    "mcSweep!(ψ, β)\n",
    "@benchmark mcSweep!(ψ,β)"
   ]
  },
  {
   "cell_type": "code",
   "execution_count": 87,
   "metadata": {},
   "outputs": [
    {
     "data": {
      "text/plain": [
       "BenchmarkTools.Trial: \n",
       "  memory estimate:  625.34 KiB\n",
       "  allocs estimate:  19204\n",
       "  --------------\n",
       "  minimum time:     3.542 ms (0.00% GC)\n",
       "  median time:      3.638 ms (0.00% GC)\n",
       "  mean time:        3.794 ms (3.19% GC)\n",
       "  maximum time:     9.896 ms (47.08% GC)\n",
       "  --------------\n",
       "  samples:          1317\n",
       "  evals/sample:     1"
      ]
     },
     "execution_count": 87,
     "metadata": {},
     "output_type": "execute_result"
    }
   ],
   "source": [
    "@benchmark mcSweep2!(ψ,β)"
   ]
  },
  {
   "cell_type": "markdown",
   "metadata": {},
   "source": [
    "Intrestingly it seems that there is no significant speedup by first creating all random numbers in seperate functions and then executing. It actually seems like this is slower. Perhaps there is something else wrong with `mcSweep2!`?"
   ]
  },
  {
   "cell_type": "markdown",
   "metadata": {},
   "source": [
    "# A MC Sweep that takes care of bc individually\n",
    "\n",
    "Use the same method as in `E` to calculate the boundary and bulk separately so that functions like `metropolisHastingUpdate` and `ΔE` can be boundary agnostic. This will eleminate the previous use of `mod` in `ΔE3`\n",
    "for finding the (next) nearest neighbors."
   ]
  },
  {
   "cell_type": "code",
   "execution_count": 89,
   "metadata": {},
   "outputs": [
    {
     "data": {
      "text/plain": [
       "ΔE (generic function with 1 method)"
      ]
     },
     "execution_count": 89,
     "metadata": {},
     "output_type": "execute_result"
    }
   ],
   "source": [
    "function ΔE(ψ::State, ϕ′::LatticeSite, ϕ::LatticeSite, ϕᵣ₊₁::LatticeSite, ϕᵣ₊₂::LatticeSite, \n",
    "        ϕᵣ₋₁::LatticeSite, ϕᵣ₋₂::LatticeSite, ϕᵣ₋₁₊₂::LatticeSite, ϕᵣ₋₂₊₁::LatticeSite, x::Int64)\n",
    "    const g = ψ.g\n",
    "    const δE::Float64 = 0.0\n",
    "    \n",
    "    # Calculate u⁻ for these lattice sites\n",
    "    const u′⁻ = √(1-ϕ′.u⁺^2)\n",
    "    const u⁻ = √(1-ϕ.u⁺^2)\n",
    "    const u⁻ᵣ₊₁ = √(1-ϕᵣ₊₁.u⁺^2)\n",
    "    const u⁻ᵣ₊₂ = √(1-ϕᵣ₊₂.u⁺^2)\n",
    "    const u⁻ᵣ₋₁ = √(1-ϕᵣ₋₁.u⁺^2)\n",
    "    const u⁻ᵣ₋₂ = √(1-ϕᵣ₋₂.u⁺^2)\n",
    "    const u⁻ᵣ₋₁₊₂ = √(1-ϕᵣ₋₁₊₂.u⁺^2)\n",
    "    const u⁻ᵣ₋₂₊₁ = √(1-ϕᵣ₋₂₊₁.u⁺^2)\n",
    "    \n",
    "    # Calculate constant link variables\n",
    "    const A⁰ = 2π*ψ.f*(x-1)\n",
    "    const A⁰₊ = 2π*ψ.f*x\n",
    "    const A⁰₋ = 2π*ψ.f*(x-2)\n",
    "    \n",
    "    # Normal kinetic terms\n",
    "    δE += -2*ψ.γ^2*(ϕᵣ₊₁.u⁺*(ϕ′.u⁺*cos(ϕᵣ₊₁.θ⁺ - ϕ′.θ⁺ + g*ϕ′.A[1]) - ϕ.u⁺*cos(ϕᵣ₊₁.θ⁺ - ϕ.θ⁺ + g*ϕ.A[1]))\n",
    "        + ϕᵣ₋₁.u⁺*(ϕ′.u⁺*cos(ϕ′.θ⁺-ϕᵣ₋₁.θ⁺+g*ϕᵣ₋₁.A[1]) - ϕ.u⁺*cos(ϕ.θ⁺-ϕᵣ₋₁.θ⁺+g*ϕᵣ₋₁.A[1]))\n",
    "        + u⁻ᵣ₊₁*(u′⁻*cos(ϕᵣ₊₁.θ⁻ - ϕ′.θ⁻ + g*ϕ′.A[1]) - u⁻*cos(ϕᵣ₊₁.θ⁻ - ϕ.θ⁻ + g*ϕ.A[1]))\n",
    "        + u⁻ᵣ₋₁*(u′⁻*cos(ϕ′.θ⁻-ϕᵣ₋₁.θ⁻+g*ϕᵣ₋₁.A[1]) - u⁻*cos(ϕ.θ⁻-ϕᵣ₋₁.θ⁻+g*ϕᵣ₋₁.A[1]))\n",
    "        + ϕᵣ₊₂.u⁺*(ϕ′.u⁺*cos(ϕᵣ₊₂.θ⁺ - ϕ′.θ⁺ + g*(ϕ′.A[2]+A⁰)) - ϕ.u⁺*cos(ϕᵣ₊₂.θ⁺ - ϕ.θ⁺ + g*(ϕ.A[2]+A⁰)))\n",
    "        + ϕᵣ₋₂.u⁺*(ϕ′.u⁺*cos(ϕ′.θ⁺-ϕᵣ₋₂.θ⁺+g*(ϕᵣ₋₂.A[2]+A⁰)) - ϕ.u⁺*cos(ϕ.θ⁺-ϕᵣ₋₂.θ⁺+g*(ϕᵣ₋₂.A[2]+A⁰)))\n",
    "        + u⁻ᵣ₊₂*(u′⁻*cos(ϕᵣ₊₂.θ⁻ - ϕ′.θ⁻ + g*(ϕ′.A[2]+A⁰)) - u⁻*cos(ϕᵣ₊₂.θ⁻ - ϕ.θ⁻ + g*(ϕ.A[2]+A⁰)))\n",
    "        + u⁻ᵣ₋₂*(u′⁻*cos(ϕ′.θ⁻-ϕᵣ₋₂.θ⁻+g*(ϕᵣ₋₂.A[2]+A⁰)) - u⁻*cos(ϕ.θ⁻-ϕᵣ₋₂.θ⁻+g*(ϕᵣ₋₂.A[2]+A⁰))))\n",
    "    \n",
    "    # Potential energy terms\n",
    "    δE += ψ.γ^4*((ϕ′.u⁺*u′⁻)^2*(1+ψ.ν*cos(2*(ϕ′.θ⁺ - ϕ′.θ⁻))) - (ϕ.u⁺*u⁻)^2*(1+ψ.ν*cos(2*(ϕ.θ⁺ - ϕ.θ⁻))))\n",
    "    \n",
    "    # Andreev-Bashkin terms\n",
    "    δE += ψ.γ^2*(ψ.ν+1)*(ϕᵣ₊₂.u⁺*(u′⁻*cos(ϕᵣ₊₂.θ⁺-ϕ′.θ⁻+g*(ϕ′.A[2]+A⁰)) - u⁻*cos(ϕᵣ₊₂.θ⁺-ϕ.θ⁻+g*(ϕ.A[2]+A⁰))) \n",
    "        - ϕᵣ₊₁.u⁺*(u′⁻*cos(ϕᵣ₊₁.θ⁺-ϕ′.θ⁻+g*ϕ′.A[1]) - u⁻*cos(ϕᵣ₊₁.θ⁺-ϕ.θ⁻+g*ϕ.A[1])) \n",
    "        + u⁻ᵣ₋₂*(ϕ′.u⁺*cos(ϕ′.θ⁺-ϕᵣ₋₂.θ⁻+g*(ϕᵣ₋₂.A[2]+A⁰)) - ϕ.u⁺*cos(ϕ.θ⁺-ϕᵣ₋₂.θ⁻+g*(ϕᵣ₋₂.A[2]+A⁰))) \n",
    "        - u⁻ᵣ₋₁*(ϕ′.u⁺*cos(ϕ′.θ⁺-ϕᵣ₋₁.θ⁻+g*ϕᵣ₋₁.A[1]) - ϕ.u⁺*cos(ϕ.θ⁺-ϕᵣ₋₁.θ⁻+g*ϕᵣ₋₁.A[1]))\n",
    "        + u⁻ᵣ₊₂*(ϕ′.u⁺*cos(ϕᵣ₊₂.θ⁻-ϕ′.θ⁺+g*(ϕ′.A[2]+A⁰)) - ϕ.u⁺*cos(ϕᵣ₊₂.θ⁻-ϕ.θ⁺+g*(ϕ.A[2]+A⁰))) \n",
    "        - u⁻ᵣ₊₁*(ϕ′.u⁺*cos(ϕᵣ₊₁.θ⁻-ϕ′.θ⁺+g*ϕ′.A[1]) - ϕ.u⁺*cos(ϕᵣ₊₁.θ⁻-ϕ.θ⁺+g*ϕ.A[1])) \n",
    "        + ϕᵣ₋₂.u⁺*(u′⁻*cos(ϕ′.θ⁻-ϕᵣ₋₂.θ⁺+g*(ϕᵣ₋₂.A[2]+A⁰)) - u⁻*cos(ϕ.θ⁻-ϕᵣ₋₂.θ⁺+g*(ϕᵣ₋₂.A[2]+A⁰))) \n",
    "        - ϕᵣ₋₁.u⁺*(u′⁻*cos(ϕ′.θ⁻-ϕᵣ₋₁.θ⁺+g*ϕᵣ₋₁.A[1]) - u⁻*cos(ϕ.θ⁻-ϕᵣ₋₁.θ⁺+g*ϕᵣ₋₁.A[1])))\n",
    "    \n",
    "    # Mixed gradient terms\n",
    "    δE += ψ.γ^2*(ψ.ν-1)*(ϕᵣ₊₂.u⁺*u⁻ᵣ₊₁*(sin(ϕᵣ₊₁.θ⁻-ϕᵣ₊₂.θ⁺ + g*(ϕ′.A[1] - (ϕ′.A[2]+A⁰))) \n",
    "            - sin(ϕᵣ₊₁.θ⁻-ϕᵣ₊₂.θ⁺ + g*(ϕ.A[1] - (ϕ.A[2]+A⁰)))) \n",
    "        -ϕᵣ₊₂.u⁺*(u′⁻*sin(ϕᵣ₊₂.θ⁺-ϕ′.θ⁻+g*(ϕ′.A[2]+A⁰)) - u⁻*sin(ϕᵣ₊₂.θ⁺-ϕ.θ⁻+g*(ϕ.A[2]+A⁰))) \n",
    "        +ϕᵣ₊₁.u⁺*(u′⁻*sin(ϕᵣ₊₁.θ⁺-ϕ′.θ⁻+g*ϕ′.A[1]) - u⁻*sin(ϕᵣ₊₁.θ⁺-ϕ.θ⁻+g*ϕ.A[1])) \n",
    "        +u⁻ᵣ₋₂₊₁*(ϕ′.u⁺*sin(ϕᵣ₋₂₊₁.θ⁻-ϕ′.θ⁺+g*(ϕᵣ₋₂.A[1] - (ϕᵣ₋₂.A[2]+A⁰))) \n",
    "            - ϕ.u⁺*sin(ϕᵣ₋₂₊₁.θ⁻-ϕ.θ⁺+g*(ϕᵣ₋₂.A[1] - (ϕᵣ₋₂.A[2]+A⁰)))) \n",
    "        +ϕᵣ₋₁₊₂.u⁺*(u′⁻*sin(ϕ′.θ⁻-ϕᵣ₋₁₊₂.θ⁺+g*(ϕᵣ₋₁.A[1]-(ϕᵣ₋₁.A[2]+A⁰₋))) \n",
    "            - u⁻*sin(ϕ.θ⁻-ϕᵣ₋₁₊₂.θ⁺+g*(ϕᵣ₋₁.A[1]-(ϕᵣ₋₁.A[2]+A⁰₋)))) \n",
    "        -u⁻ᵣ₋₂*(ϕ′.u⁺*sin(ϕ′.θ⁺-ϕᵣ₋₂.θ⁻+g*(ϕᵣ₋₂.A[2]+A⁰)) - ϕ.u⁺*sin(ϕ.θ⁺-ϕᵣ₋₂.θ⁻+g*(ϕᵣ₋₂.A[2]+A⁰))) \n",
    "        +u⁻ᵣ₋₁*(ϕ′.u⁺*sin(ϕ′.θ⁺-ϕᵣ₋₁.θ⁻+g*ϕᵣ₋₁.A[1]) - ϕ.u⁺*sin(ϕ.θ⁺-ϕᵣ₋₁.θ⁻+g*ϕᵣ₋₁.A[1])) \n",
    "        -(u⁻ᵣ₊₂*ϕᵣ₊₁.u⁺*(sin(ϕᵣ₊₁.θ⁺-ϕᵣ₊₂.θ⁻ + g*(ϕ′.A[1] - (ϕ′.A[2]+A⁰))) \n",
    "            - sin(ϕᵣ₊₁.θ⁺-ϕᵣ₊₂.θ⁻ + g*(ϕ.A[1] - (ϕ.A[2]+A⁰)))) \n",
    "        -u⁻ᵣ₊₂*(ϕ′.u⁺*sin(ϕᵣ₊₂.θ⁻-ϕ′.θ⁺+g*(ϕ′.A[2]+A⁰)) - ϕ.u⁺*sin(ϕᵣ₊₂.θ⁻-ϕ.θ⁺+g*(ϕ.A[2]+A⁰))) \n",
    "        +u⁻ᵣ₊₁*(ϕ′.u⁺*sin(ϕᵣ₊₁.θ⁻-ϕ′.θ⁺+g*ϕ′.A[1]) - ϕ.u⁺*sin(ϕᵣ₊₁.θ⁻-ϕ.θ⁺+g*ϕ.A[1])) \n",
    "        +ϕᵣ₋₂₊₁.u⁺*(u′⁻*sin(ϕᵣ₋₂₊₁.θ⁺-ϕ′.θ⁻+g*(ϕᵣ₋₂.A[1] - (ϕᵣ₋₂.A[2]+A⁰))) \n",
    "            - u⁻*sin(ϕᵣ₋₂₊₁.θ⁺-ϕ.θ⁻+g*(ϕᵣ₋₂.A[1] - (ϕᵣ₋₂.A[2]+A⁰)))) \n",
    "        +u⁻ᵣ₋₁₊₂*(ϕ′.u⁺*sin(ϕ′.θ⁺-ϕᵣ₋₁₊₂.θ⁻+g*(ϕᵣ₋₁.A[1]-(ϕᵣ₋₁.A[2]+A⁰₋))) \n",
    "            - ϕ.u⁺*sin(ϕ.θ⁺-ϕᵣ₋₁₊₂.θ⁻+g*(ϕᵣ₋₁.A[1]-(ϕᵣ₋₁.A[2]+A⁰₋)))) \n",
    "        -ϕᵣ₋₂.u⁺*(u′⁻*sin(ϕ′.θ⁻-ϕᵣ₋₂.θ⁺+g*(ϕᵣ₋₂.A[2]+A⁰)) - u⁻*sin(ϕ.θ⁻-ϕᵣ₋₂.θ⁺+g*(ϕᵣ₋₂.A[2]+A⁰))) \n",
    "        +ϕᵣ₋₁.u⁺*(u′⁻*sin(ϕ′.θ⁻-ϕᵣ₋₁.θ⁺+g*ϕᵣ₋₁.A[1]) - u⁻*sin(ϕ.θ⁻-ϕᵣ₋₁.θ⁺+g*ϕᵣ₋₁.A[1])))\n",
    "        +2*(ϕ′.u⁺*u′⁻*sin(ϕ′.θ⁻-ϕ′.θ⁺) - ϕ.u⁺*u⁻*sin(ϕ.θ⁻-ϕ.θ⁺)))\n",
    "    \n",
    "    # Then calculate the Gauge field contribution\n",
    "    # First contribution from current position\n",
    "    δE += (ϕ′.A[1] + ϕᵣ₊₁.A[2] - ϕᵣ₊₂.A[1] - ϕ′.A[2])^2 - (ϕ.A[1] + ϕᵣ₊₁.A[2] - ϕᵣ₊₂.A[1] - ϕ.A[2])^2\n",
    "    # Then from position r-x\n",
    "    δE += (ϕᵣ₋₁.A[1] + ϕ′.A[2] - ϕᵣ₋₁₊₂.A[1] - ϕᵣ₋₁.A[2])^2 - (ϕᵣ₋₁.A[1] + ϕ.A[2] - ϕᵣ₋₁₊₂.A[1] - ϕᵣ₋₁.A[2])^2\n",
    "    # Then from position r-y\n",
    "    δE += (ϕᵣ₋₂.A[1] + ϕᵣ₋₂₊₁.A[2] - ϕ′.A[1] - ϕᵣ₋₂.A[2])^2 - (ϕᵣ₋₂.A[1] + ϕᵣ₋₂₊₁.A[2] - ϕ.A[1] - ϕᵣ₋₂.A[2])^2\n",
    "end"
   ]
  },
  {
   "cell_type": "code",
   "execution_count": 107,
   "metadata": {},
   "outputs": [
    {
     "name": "stdout",
     "output_type": "stream",
     "text": [
      "ΔE2(ψ₂, site, [2, 2]) = -372068.157956452\n",
      "ΔE3(ψ₂, site, [2, 2]) = -372068.157956452\n",
      "ΔE(ψ₂, site, ψ₂.lattice[2, 2], ψ₂.lattice[2, 3], ψ₂.lattice[1, 2], ψ₂.lattice[2, 1], ψ₂.lattice[3, 2], ψ₂.lattice[1, 1], ψ₂.lattice[3, 3], 2) = -372068.157956452\n",
      "ΔE2(ψ₂, site, [2, 2]) == ΔE3(ψ₂, site, [2, 2]) = true\n",
      "ΔE2(ψ₂, site, [2, 2]) == ΔE(ψ₂, site, ψ₂.lattice[2, 2], ψ₂.lattice[2, 3], ψ₂.lattice[1, 2], ψ₂.lattice[2, 1], ψ₂.lattice[3, 2], ψ₂.lattice[1, 1], ψ₂.lattice[3, 3], 2) = true\n"
     ]
    },
    {
     "data": {
      "text/plain": [
       "BenchmarkTools.Trial: \n",
       "  memory estimate:  112 bytes\n",
       "  allocs estimate:  2\n",
       "  --------------\n",
       "  minimum time:     1.809 μs (0.00% GC)\n",
       "  median time:      1.851 μs (0.00% GC)\n",
       "  mean time:        1.933 μs (0.00% GC)\n",
       "  maximum time:     10.108 μs (0.00% GC)\n",
       "  --------------\n",
       "  samples:          10000\n",
       "  evals/sample:     10"
      ]
     },
     "execution_count": 107,
     "metadata": {},
     "output_type": "execute_result"
    }
   ],
   "source": [
    "# Test case. We make a 3x3 lattice, and put two different lattice sites in the middle\n",
    "# i.e. the [2,2] position. Then we use the different functions to calculate the energy\n",
    "# difference associated with this change.\n",
    "\n",
    "ψ₂ = initializeState(3,2)\n",
    "site = LatticeSite([0.0,0.0], 0, 0,1)\n",
    "@show ΔE2(ψ₂,site,[2,2])\n",
    "@show ΔE3(ψ₂,site,[2,2])\n",
    "@show ΔE(ψ₂, site, ψ₂.lattice[2,2], ψ₂.lattice[2,3], ψ₂.lattice[1,2], ψ₂.lattice[2,1], \n",
    "    ψ₂.lattice[3,2], ψ₂.lattice[1,1], ψ₂.lattice[3,3], 2)\n",
    "@show ΔE2(ψ₂,site,[2,2]) == ΔE3(ψ₂,site,[2,2])\n",
    "@show ΔE2(ψ₂,site,[2,2]) == ΔE(ψ₂, site, ψ₂.lattice[2,2], ψ₂.lattice[2,3], ψ₂.lattice[1,2], ψ₂.lattice[2,1], \n",
    "    ψ₂.lattice[3,2], ψ₂.lattice[1,1], ψ₂.lattice[3,3], 2)\n",
    "@benchmark ΔE2(ψ₂,site,[2,2])"
   ]
  },
  {
   "cell_type": "code",
   "execution_count": 108,
   "metadata": {},
   "outputs": [
    {
     "data": {
      "text/plain": [
       "BenchmarkTools.Trial: \n",
       "  memory estimate:  224 bytes\n",
       "  allocs estimate:  9\n",
       "  --------------\n",
       "  minimum time:     1.312 μs (0.00% GC)\n",
       "  median time:      1.326 μs (0.00% GC)\n",
       "  mean time:        1.410 μs (2.42% GC)\n",
       "  maximum time:     349.023 μs (97.75% GC)\n",
       "  --------------\n",
       "  samples:          10000\n",
       "  evals/sample:     10"
      ]
     },
     "execution_count": 108,
     "metadata": {},
     "output_type": "execute_result"
    }
   ],
   "source": [
    "@benchmark ΔE3(ψ₂,site,[2,2])"
   ]
  },
  {
   "cell_type": "code",
   "execution_count": 109,
   "metadata": {},
   "outputs": [
    {
     "data": {
      "text/plain": [
       "BenchmarkTools.Trial: \n",
       "  memory estimate:  128 bytes\n",
       "  allocs estimate:  8\n",
       "  --------------\n",
       "  minimum time:     1.298 μs (0.00% GC)\n",
       "  median time:      1.352 μs (0.00% GC)\n",
       "  mean time:        1.390 μs (0.00% GC)\n",
       "  maximum time:     3.782 μs (0.00% GC)\n",
       "  --------------\n",
       "  samples:          10000\n",
       "  evals/sample:     10"
      ]
     },
     "execution_count": 109,
     "metadata": {},
     "output_type": "execute_result"
    }
   ],
   "source": [
    "@benchmark ΔE(ψ₂, site, ψ₂.lattice[2,2], ψ₂.lattice[2,3], ψ₂.lattice[1,2], ψ₂.lattice[2,1], \n",
    "    ψ₂.lattice[3,2], ψ₂.lattice[1,1], ψ₂.lattice[3,3], 2)"
   ]
  },
  {
   "cell_type": "code",
   "execution_count": 132,
   "metadata": {},
   "outputs": [
    {
     "data": {
      "text/plain": [
       "proposeLocalUpdate (generic function with 2 methods)"
      ]
     },
     "execution_count": 132,
     "metadata": {},
     "output_type": "execute_result"
    }
   ],
   "source": [
    "using Distributions\n",
    "function proposeLocalUpdate(ϕ::LatticeSite)\n",
    "    const θmax = π/2 # How far away from the original value, the proposed new value for θ should be.\n",
    "    const umax = 0.5 # How far away from the original value, the proposed amplitude u should be.\n",
    "    const Amax = 3\n",
    "    \n",
    "    # Construct new configuration at lattice site.\n",
    "    return LatticeSite([ϕ.A[1]+rand(Uniform(-Amax,Amax)), ϕ.A[2]+rand(Uniform(-Amax,Amax))],\n",
    "        mod(ϕ.θ⁺ + rand(Uniform(-θmax,θmax)), 2π), mod(ϕ.θ⁻ + rand(Uniform(-θmax,θmax)), 2π), \n",
    "        mod(ϕ.u⁺ + rand(Uniform(-umax,umax)),1))\n",
    "end"
   ]
  },
  {
   "cell_type": "code",
   "execution_count": 148,
   "metadata": {},
   "outputs": [
    {
     "data": {
      "text/plain": [
       "LatticeSite([0.33918, 0.704973], 4.95684179199792, 5.5286559199513645, 0.18760756630600794)"
      ]
     },
     "execution_count": 148,
     "metadata": {},
     "output_type": "execute_result"
    }
   ],
   "source": [
    "proposeLocalUpdate(site)"
   ]
  },
  {
   "cell_type": "code",
   "execution_count": 235,
   "metadata": {},
   "outputs": [
    {
     "data": {
      "text/plain": [
       "metropolisHastingUpdate! (generic function with 2 methods)"
      ]
     },
     "execution_count": 235,
     "metadata": {},
     "output_type": "execute_result"
    }
   ],
   "source": [
    "function metropolisHastingUpdate!(ψ::State, pos::Array{Int64,1}, ϕᵣ₊₁::LatticeSite, ϕᵣ₊₂::LatticeSite,\n",
    "        ϕᵣ₋₁::LatticeSite, ϕᵣ₋₂::LatticeSite, ϕᵣ₋₁₊₂::LatticeSite, ϕᵣ₋₂₊₁::LatticeSite, β::Float64)\n",
    "    ϕ = ψ.lattice[pos...]\n",
    "    ϕ′ = proposeLocalUpdate(ϕ)\n",
    "    δE = ΔE(ψ, ϕ′, ϕ, ϕᵣ₊₁, ϕᵣ₊₂, ϕᵣ₋₁, ϕᵣ₋₂, ϕᵣ₋₁₊₂, ϕᵣ₋₂₊₁, pos[2])\n",
    "    \n",
    "    # Create random number ran ∈ (0,1].\n",
    "    ran = rand()\n",
    "    if ran==0\n",
    "        ran=1\n",
    "    end\n",
    "    \n",
    "    # Update state with probability min(1, e^{-β⋅δE})\n",
    "    # and return the energy of final state regardless of whether it gets updated or not.\n",
    "    if log(ran) <= -β*δE\n",
    "        ψ.lattice[pos...] = site\n",
    "        return δE\n",
    "    else\n",
    "        return 0.0\n",
    "    end\n",
    "end"
   ]
  },
  {
   "cell_type": "code",
   "execution_count": 225,
   "metadata": {},
   "outputs": [
    {
     "name": "stdout",
     "output_type": "stream",
     "text": [
      "metropolisHastingUpdate!(ψ₂, [2, 2], ψ₂.lattice[2, 3], ψ₂.lattice[1, 2], ψ₂.lattice[2, 1], ψ₂.lattice[3, 2], ψ₂.lattice[1, 1], ψ₂.lattice[3, 3], 0.0001) = 7396.521588943987\n",
      "(acc / N) * 100 = 49.989\n"
     ]
    },
    {
     "data": {
      "text/plain": [
       "49.989"
      ]
     },
     "execution_count": 225,
     "metadata": {},
     "output_type": "execute_result"
    }
   ],
   "source": [
    "# Checking that metropolisHastingUpdate! behaves as expected.\n",
    "ψ₂ = initializeState(3,2)\n",
    "\n",
    "# Do a metropolis hasting update\n",
    "# Insert a @show δE in metropolisHastingUpdate! to see how many times the proposal creates a site\n",
    "# with less energy (which should always be accepted).\n",
    "@show metropolisHastingUpdate!(ψ₂, [2,2], ψ₂.lattice[2,3], ψ₂.lattice[1,2], ψ₂.lattice[2,1], \n",
    "    ψ₂.lattice[3,2], ψ₂.lattice[1,1], ψ₂.lattice[3,3], 0.0001)\n",
    "\n",
    "# Testing the number of times a proposal is accepted\n",
    "N = 100000\n",
    "acc = 0\n",
    "for i=1:N\n",
    "    if metropolisHastingUpdate!(ψ₂, [2,2], ψ₂.lattice[2,3], ψ₂.lattice[1,2], ψ₂.lattice[2,1], \n",
    "    ψ₂.lattice[3,2], ψ₂.lattice[1,1], ψ₂.lattice[3,3], 100.0) == 0.0\n",
    "        acc += 1\n",
    "    end\n",
    "end\n",
    "@show acc/N*100"
   ]
  },
  {
   "cell_type": "code",
   "execution_count": 264,
   "metadata": {},
   "outputs": [
    {
     "data": {
      "text/plain": [
       "mcSweep3! (generic function with 1 method)"
      ]
     },
     "execution_count": 264,
     "metadata": {},
     "output_type": "execute_result"
    }
   ],
   "source": [
    "function mcSweep3!(ψ::State, β::Float64)\n",
    "   \n",
    "    # Find size of the lattice L\n",
    "    const L::Int64 = size(ψ.lattice,1)\n",
    "    \n",
    "    \n",
    "    # Updating upper right corner\n",
    "    const ϕᵣ₊₁ = ψ.lattice[1,1]\n",
    "    const ϕᵣ₊₂ = ψ.lattice[L,L]\n",
    "    const ϕᵣ₋₁ = ψ.lattice[1,L-1]\n",
    "    const ϕᵣ₋₂ = ψ.lattice[2,L]\n",
    "    const ϕᵣ₋₁₊₂ = ψ.lattice[L,L-1]\n",
    "    const ϕᵣ₋₂₊₁ = ψ.lattice[2,1]\n",
    "    metropolisHastingUpdate!(ψ, [L,L], ϕᵣ₊₁, ϕᵣ₊₂, ϕᵣ₋₁, ϕᵣ₋₂, ϕᵣ₋₁₊₂, ϕᵣ₋₂₊₁, β)\n",
    "    \n",
    "    # Updating boundary paralell to y-axis\n",
    "    # except for the upper and lower right corner.\n",
    "    for y=2:(L-1)\n",
    "        ϕᵣ₊₁ = ψ.lattice[y,1]\n",
    "        ϕᵣ₊₂ = ψ.lattice[y-1,L]\n",
    "        ϕᵣ₋₁ = ψ.lattice[y,L-1]\n",
    "        ϕᵣ₋₂ = ψ.lattice[y+1,L]\n",
    "        ϕᵣ₋₁₊₂ = ψ.lattice[y-1,L-1]\n",
    "        ϕᵣ₋₂₊₁ = ψ.lattice[y+1,1]\n",
    "        metropolisHastingUpdate!(ψ, [y,L], ϕᵣ₊₁, ϕᵣ₊₂, ϕᵣ₋₁, ϕᵣ₋₂, ϕᵣ₋₁₊₂, ϕᵣ₋₂₊₁, β)\n",
    "    end\n",
    "    \n",
    "    # Updating lower right corner\n",
    "    ϕᵣ₊₁ = ψ.lattice[L,1]\n",
    "    ϕᵣ₊₂ = ψ.lattice[L-1,L]\n",
    "    ϕᵣ₋₁ = ψ.lattice[L,L-1]\n",
    "    ϕᵣ₋₂ = ψ.lattice[1,L]\n",
    "    ϕᵣ₋₁₊₂ = ψ.lattice[L-1,L-1]\n",
    "    ϕᵣ₋₂₊₁ = ψ.lattice[1,1]\n",
    "    metropolisHastingUpdate!(ψ, [L,L], ϕᵣ₊₁, ϕᵣ₊₂, ϕᵣ₋₁, ϕᵣ₋₂, ϕᵣ₋₁₊₂, ϕᵣ₋₂₊₁, β)\n",
    "    \n",
    "    # Updating lower x-axis boundary except for lower left and right corner\n",
    "    for x=2:(L-1)\n",
    "        ϕᵣ₊₁ = ψ.lattice[L,x+1]\n",
    "        ϕᵣ₊₂ = ψ.lattice[L-1,x]\n",
    "        ϕᵣ₋₁ = ψ.lattice[L,x-1]\n",
    "        ϕᵣ₋₂ = ψ.lattice[1,x]\n",
    "        ϕᵣ₋₁₊₂ = ψ.lattice[L-1,x-1]\n",
    "        ϕᵣ₋₂₊₁ = ψ.lattice[1,x+1]\n",
    "        metropolisHastingUpdate!(ψ, [L,x], ϕᵣ₊₁, ϕᵣ₊₂, ϕᵣ₋₁, ϕᵣ₋₂, ϕᵣ₋₁₊₂, ϕᵣ₋₂₊₁, β)\n",
    "    end\n",
    "    \n",
    "    # Updating lower left corner\n",
    "    ϕᵣ₊₁ = ψ.lattice[L,2]\n",
    "    ϕᵣ₊₂ = ψ.lattice[L-1,1]\n",
    "    ϕᵣ₋₁ = ψ.lattice[L,L]\n",
    "    ϕᵣ₋₂ = ψ.lattice[1,1]\n",
    "    ϕᵣ₋₁₊₂ = ψ.lattice[L-1,L]\n",
    "    ϕᵣ₋₂₊₁ = ψ.lattice[1,2]\n",
    "    metropolisHastingUpdate!(ψ, [L,1], ϕᵣ₊₁, ϕᵣ₊₂, ϕᵣ₋₁, ϕᵣ₋₂, ϕᵣ₋₁₊₂, ϕᵣ₋₂₊₁, β)\n",
    "    \n",
    "    # Updating left y-axis boundary except corners\n",
    "    for y=2:(L-1)\n",
    "        ϕᵣ₊₁ = ψ.lattice[y,2]\n",
    "        ϕᵣ₊₂ = ψ.lattice[y-1,1]\n",
    "        ϕᵣ₋₁ = ψ.lattice[y,L]\n",
    "        ϕᵣ₋₂ = ψ.lattice[y+1,1]\n",
    "        ϕᵣ₋₁₊₂ = ψ.lattice[y-1,L]\n",
    "        ϕᵣ₋₂₊₁ = ψ.lattice[y+1,2]\n",
    "        metropolisHastingUpdate!(ψ, [y,1], ϕᵣ₊₁, ϕᵣ₊₂, ϕᵣ₋₁, ϕᵣ₋₂, ϕᵣ₋₁₊₂, ϕᵣ₋₂₊₁, β)\n",
    "    end\n",
    "    \n",
    "    # Updating upper left corner\n",
    "    ϕᵣ₊₁ = ψ.lattice[1,2]\n",
    "    ϕᵣ₊₂ = ψ.lattice[L,1]\n",
    "    ϕᵣ₋₁ = ψ.lattice[1,L]\n",
    "    ϕᵣ₋₂ = ψ.lattice[2,1]\n",
    "    ϕᵣ₋₁₊₂ = ψ.lattice[L,L]\n",
    "    ϕᵣ₋₂₊₁ = ψ.lattice[2,2]\n",
    "    metropolisHastingUpdate!(ψ, [1,1], ϕᵣ₊₁, ϕᵣ₊₂, ϕᵣ₋₁, ϕᵣ₋₂, ϕᵣ₋₁₊₂, ϕᵣ₋₂₊₁, β)\n",
    "    \n",
    "    # Updating upper x-axis boundary\n",
    "    for x=2:(L-1)\n",
    "        ϕᵣ₊₁ = ψ.lattice[1,x+1]\n",
    "        ϕᵣ₊₂ = ψ.lattice[L,x]\n",
    "        ϕᵣ₋₁ = ψ.lattice[1,x-1]\n",
    "        ϕᵣ₋₂ = ψ.lattice[2,x]\n",
    "        ϕᵣ₋₁₊₂ = ψ.lattice[L,x-1]\n",
    "        ϕᵣ₋₂₊₁ = ψ.lattice[2,x+1]\n",
    "        metropolisHastingUpdate!(ψ, [1,x], ϕᵣ₊₁, ϕᵣ₊₂, ϕᵣ₋₁, ϕᵣ₋₂, ϕᵣ₋₁₊₂, ϕᵣ₋₂₊₁, β)\n",
    "    end\n",
    "    \n",
    "    # This concludes the updates of the boundary\n",
    "    \n",
    "    # Update the bulk\n",
    "    for x=2:(L-1), y=2:(L-1)\n",
    "        ϕᵣ₊₁ = ψ.lattice[y,x+1]\n",
    "        ϕᵣ₊₂ = ψ.lattice[y-1,x]\n",
    "        ϕᵣ₋₁ = ψ.lattice[y,x-1]\n",
    "        ϕᵣ₋₂ = ψ.lattice[y+1,x]\n",
    "        ϕᵣ₋₁₊₂ = ψ.lattice[y-1,x-1]\n",
    "        ϕᵣ₋₂₊₁ = ψ.lattice[y+1,x+1]\n",
    "        metropolisHastingUpdate!(ψ, [y,x], ϕᵣ₊₁, ϕᵣ₊₂, ϕᵣ₋₁, ϕᵣ₋₂, ϕᵣ₋₁₊₂, ϕᵣ₋₂₊₁, β)\n",
    "    end\n",
    "end"
   ]
  },
  {
   "cell_type": "code",
   "execution_count": 272,
   "metadata": {},
   "outputs": [
    {
     "data": {
      "text/plain": [
       "mcSweep4! (generic function with 1 method)"
      ]
     },
     "execution_count": 272,
     "metadata": {},
     "output_type": "execute_result"
    }
   ],
   "source": [
    "function mcSweep4!(ψ::State, β::Float64)\n",
    "    const x::Int64 = 1\n",
    "    const y::Int64 = 1\n",
    "    # Find size of the lattice L\n",
    "    const L::Int64 = size(ψ.lattice,1)\n",
    "    \n",
    "    # Updating boundary paralell to y-axis\n",
    "    # except for the upper and lower right corner.\n",
    "    for i=2:(L-1)\n",
    "        metropolisHastingUpdate!(ψ, [i,L], ψ.lattice[i,1], ψ.lattice[i-1,L], ψ.lattice[i,L-1], ψ.lattice[i+1,L],\n",
    "            ψ.lattice[i-1,L-1], ψ.lattice[i+1,1], β) # right y-axis boundary\n",
    "        metropolisHastingUpdate!(ψ, [L,i], ψ.lattice[L,i+1], ψ.lattice[L-1,i], ψ.lattice[L,i-1], ψ.lattice[1,i],\n",
    "            ψ.lattice[L-1,i-1], ψ.lattice[1,i+1], β) # lower x-axis boundary\n",
    "        metropolisHastingUpdate!(ψ, [i,1], ψ.lattice[i,2], ψ.lattice[i-1,1], ψ.lattice[i,L], ψ.lattice[i+1,1],\n",
    "            ψ.lattice[i-1,L], ψ.lattice[i+1,2], β) # left y-axis boundary\n",
    "        metropolisHastingUpdate!(ψ, [1,i], ψ.lattice[1,i+1], ψ.lattice[L,i], ψ.lattice[1,i-1], ψ.lattice[2,i],\n",
    "            ψ.lattice[L,i-1], ψ.lattice[2,i+1], β) # upper x-axis boundary\n",
    "    end\n",
    "    \n",
    "    # Updating upper right corner\n",
    "    metropolisHastingUpdate!(ψ, [L,L], ψ.lattice[1,1], ψ.lattice[L,L], ψ.lattice[1,L-1], ψ.lattice[2,L],\n",
    "        ψ.lattice[L,L-1], ψ.lattice[2,1], β)\n",
    "    \n",
    "    # Updating lower right corner\n",
    "    metropolisHastingUpdate!(ψ, [L,L], ψ.lattice[L,1], ψ.lattice[L-1,L], ψ.lattice[L,L-1], ψ.lattice[1,L],\n",
    "        ψ.lattice[L-1,L-1], ψ.lattice[1,1], β)\n",
    "    \n",
    "    # Updating lower left corner\n",
    "    metropolisHastingUpdate!(ψ, [L,1], ψ.lattice[L,2], ψ.lattice[L-1,1], ψ.lattice[L,L], ψ.lattice[1,1],\n",
    "        ψ.lattice[L-1,L], ψ.lattice[1,2], β)\n",
    "    \n",
    "    # Updating upper left corner\n",
    "    metropolisHastingUpdate!(ψ, [1,1], ψ.lattice[1,2], ψ.lattice[L,1], ψ.lattice[1,L], ψ.lattice[2,1],\n",
    "        ψ.lattice[L,L], ψ.lattice[2,2], β)\n",
    "    \n",
    "    # This concludes the updates of the boundary\n",
    "    \n",
    "    # Update the bulk\n",
    "    for x=2:(L-1), y=2:(L-1)\n",
    "        metropolisHastingUpdate!(ψ, [y,x], ψ.lattice[y,x+1], ψ.lattice[y-1,x], ψ.lattice[y,x-1], ψ.lattice[y+1,x], \n",
    "            ψ.lattice[y-1,x-1], ψ.lattice[y+1,x+1], β)\n",
    "    end\n",
    "end"
   ]
  },
  {
   "cell_type": "markdown",
   "metadata": {},
   "source": [
    "Now we need to test that the new `mcSweep3` tries to update every position on the lattice."
   ]
  },
  {
   "cell_type": "code",
   "execution_count": 259,
   "metadata": {},
   "outputs": [
    {
     "name": "stdout",
     "output_type": "stream",
     "text": [
      "E(ψ) - e1 = -1.6833218094759524e7\n"
     ]
    },
    {
     "data": {
      "text/plain": [
       "-1.6833218094759524e7"
      ]
     },
     "execution_count": 259,
     "metadata": {},
     "output_type": "execute_result"
    }
   ],
   "source": [
    "# This assumes we have inserted a @show pos in metropolisHastingUpdate!\n",
    "\n",
    "ψ = initializeState(3,2)\n",
    "e1 = E(ψ)\n",
    "mcSweep3!(ψ,1.0)\n",
    "@show E(ψ)-e1"
   ]
  },
  {
   "cell_type": "markdown",
   "metadata": {},
   "source": [
    "### Benchmarking mcSweep3"
   ]
  },
  {
   "cell_type": "code",
   "execution_count": 273,
   "metadata": {},
   "outputs": [
    {
     "data": {
      "text/plain": [
       "BenchmarkTools.Trial: \n",
       "  memory estimate:  700.00 KiB\n",
       "  allocs estimate:  24000\n",
       "  --------------\n",
       "  minimum time:     3.449 ms (0.00% GC)\n",
       "  median time:      3.547 ms (0.00% GC)\n",
       "  mean time:        3.736 ms (4.35% GC)\n",
       "  maximum time:     9.326 ms (57.24% GC)\n",
       "  --------------\n",
       "  samples:          1338\n",
       "  evals/sample:     1"
      ]
     },
     "execution_count": 273,
     "metadata": {},
     "output_type": "execute_result"
    }
   ],
   "source": [
    "using BenchmarkTools\n",
    "ψ = initializeState(40,2)\n",
    "β = 1/4\n",
    "mcSweep!(ψ, β)\n",
    "mcSweep2!(ψ,β)\n",
    "mcSweep3!(ψ, β)\n",
    "ψ = initializeState(40,2)\n",
    "@benchmark mcSweep!(ψ,β)"
   ]
  },
  {
   "cell_type": "code",
   "execution_count": 274,
   "metadata": {},
   "outputs": [
    {
     "data": {
      "text/plain": [
       "BenchmarkTools.Trial: \n",
       "  memory estimate:  625.34 KiB\n",
       "  allocs estimate:  19204\n",
       "  --------------\n",
       "  minimum time:     3.622 ms (0.00% GC)\n",
       "  median time:      3.721 ms (0.00% GC)\n",
       "  mean time:        3.889 ms (3.71% GC)\n",
       "  maximum time:     12.786 ms (67.37% GC)\n",
       "  --------------\n",
       "  samples:          1285\n",
       "  evals/sample:     1"
      ]
     },
     "execution_count": 274,
     "metadata": {},
     "output_type": "execute_result"
    }
   ],
   "source": [
    "ψ = initializeState(40,2)\n",
    "@benchmark mcSweep2!(ψ,β)"
   ]
  },
  {
   "cell_type": "code",
   "execution_count": 275,
   "metadata": {},
   "outputs": [
    {
     "data": {
      "text/plain": [
       "BenchmarkTools.Trial: \n",
       "  memory estimate:  701.69 KiB\n",
       "  allocs estimate:  25654\n",
       "  --------------\n",
       "  minimum time:     2.133 ms (0.00% GC)\n",
       "  median time:      2.194 ms (0.00% GC)\n",
       "  mean time:        2.346 ms (5.89% GC)\n",
       "  maximum time:     8.301 ms (70.90% GC)\n",
       "  --------------\n",
       "  samples:          2130\n",
       "  evals/sample:     1"
      ]
     },
     "execution_count": 275,
     "metadata": {},
     "output_type": "execute_result"
    }
   ],
   "source": [
    "ψ = initializeState(40,2)\n",
    "@benchmark mcSweep3!(ψ,β)"
   ]
  },
  {
   "cell_type": "code",
   "execution_count": 276,
   "metadata": {},
   "outputs": [
    {
     "data": {
      "text/plain": [
       "BenchmarkTools.Trial: \n",
       "  memory estimate:  701.72 KiB\n",
       "  allocs estimate:  25655\n",
       "  --------------\n",
       "  minimum time:     2.193 ms (0.00% GC)\n",
       "  median time:      2.260 ms (0.00% GC)\n",
       "  mean time:        2.513 ms (5.63% GC)\n",
       "  maximum time:     8.501 ms (58.03% GC)\n",
       "  --------------\n",
       "  samples:          1989\n",
       "  evals/sample:     1"
      ]
     },
     "execution_count": 276,
     "metadata": {},
     "output_type": "execute_result"
    }
   ],
   "source": [
    "ψ = initializeState(40,2)\n",
    "@benchmark mcSweep4!(ψ,β)"
   ]
  },
  {
   "cell_type": "code",
   "execution_count": 277,
   "metadata": {},
   "outputs": [
    {
     "data": {
      "text/plain": [
       "64.86486486486486"
      ]
     },
     "execution_count": 277,
     "metadata": {},
     "output_type": "execute_result"
    }
   ],
   "source": [
    "2.4/3.7*100"
   ]
  },
  {
   "cell_type": "markdown",
   "metadata": {},
   "source": [
    "We seem to have gotten an $\\approx 65\\% $ of the time requred by switching to the new `mcSweep3/4!` from the old `mcSweep!`. Since `mcSweep3` has code that is more readable than `mcSweep4`, this is the recommended function. They seem to have indistinguishable benchmark results. "
   ]
  },
  {
   "cell_type": "markdown",
   "metadata": {},
   "source": [
    "# Main MC measurements function\n",
    "\n",
    "This is the function that will do all the work. Here we call all the other functions we have created.\n",
    "\n",
    "After $M_\\text{th}$ Monte-Carlo sweeps (MCS) we do a measurement. Before doing any measurements we wait\n",
    "$M_\\text{skip}$ MCS for the system to reach equilibrium. We do $M$ measurements. Let the lattice be of size $N\\times N$,\n",
    "the magnetic filling fraction is $f$ while $\\beta$ is the inverse temperature."
   ]
  },
  {
   "cell_type": "code",
   "execution_count": 15,
   "metadata": {},
   "outputs": [
    {
     "data": {
      "text/plain": [
       "mcMeasure (generic function with 1 method)"
      ]
     },
     "execution_count": 15,
     "metadata": {},
     "output_type": "execute_result"
    }
   ],
   "source": [
    "using Plots\n",
    "gr()\n",
    "function mcMeasure(M::Int64, Mth::Int64, Mskip::Int64, N::Int64, β::Float64)\n",
    "    ψ = initializeState(N, 2)\n",
    "    \n",
    "    # As an example we just want to measure the energies of the states.\n",
    "    e = zeros(M)\n",
    "    \n",
    "    # Thermalize the system\n",
    "    for i=1:Mskip\n",
    "        mcSweep!(ψ,β)\n",
    "    end\n",
    "    \n",
    "    # Then do M measurements\n",
    "    for i=1:(M-1)\n",
    "        e[i] = E(ψ)\n",
    "        for j=1:Mth-1\n",
    "            mcSweep!(ψ,β)\n",
    "        end\n",
    "    end\n",
    "    e[M] = E(ψ)\n",
    "    \n",
    "    # Plot results\n",
    "    plot(1:M, e)\n",
    "end "
   ]
  },
  {
   "cell_type": "code",
   "execution_count": 27,
   "metadata": {},
   "outputs": [
    {
     "data": {
      "image/svg+xml": [
       "<?xml version=\"1.0\" encoding=\"utf-8\"?>\n",
       "<svg xmlns=\"http://www.w3.org/2000/svg\" xmlns:xlink=\"http://www.w3.org/1999/xlink\" width=\"600\" height=\"400\" viewBox=\"0 0 600 400\">\n",
       "<defs>\n",
       "  <clipPath id=\"clip4600\">\n",
       "    <rect x=\"0\" y=\"0\" width=\"600\" height=\"400\"/>\n",
       "  </clipPath>\n",
       "</defs>\n",
       "<polygon clip-path=\"url(#clip4600)\" points=\"\n",
       "0,400 600,400 600,0 0,0 \n",
       "  \" fill=\"#ffffff\" fill-opacity=\"1\"/>\n",
       "<defs>\n",
       "  <clipPath id=\"clip4601\">\n",
       "    <rect x=\"120\" y=\"0\" width=\"421\" height=\"400\"/>\n",
       "  </clipPath>\n",
       "</defs>\n",
       "<polygon clip-path=\"url(#clip4600)\" points=\"\n",
       "42.5104,375.869 580.315,375.869 580.315,11.811 42.5104,11.811 \n",
       "  \" fill=\"#ffffff\" fill-opacity=\"1\"/>\n",
       "<defs>\n",
       "  <clipPath id=\"clip4602\">\n",
       "    <rect x=\"42\" y=\"11\" width=\"539\" height=\"365\"/>\n",
       "  </clipPath>\n",
       "</defs>\n",
       "<polyline clip-path=\"url(#clip4602)\" style=\"stroke:#000000; stroke-width:0.5; stroke-opacity:0.1; fill:none\" points=\"\n",
       "  174.935,375.869 174.935,11.811 \n",
       "  \"/>\n",
       "<polyline clip-path=\"url(#clip4602)\" style=\"stroke:#000000; stroke-width:0.5; stroke-opacity:0.1; fill:none\" points=\"\n",
       "  310.061,375.869 310.061,11.811 \n",
       "  \"/>\n",
       "<polyline clip-path=\"url(#clip4602)\" style=\"stroke:#000000; stroke-width:0.5; stroke-opacity:0.1; fill:none\" points=\"\n",
       "  445.188,375.869 445.188,11.811 \n",
       "  \"/>\n",
       "<polyline clip-path=\"url(#clip4602)\" style=\"stroke:#000000; stroke-width:0.5; stroke-opacity:0.1; fill:none\" points=\"\n",
       "  580.315,375.869 580.315,11.811 \n",
       "  \"/>\n",
       "<polyline clip-path=\"url(#clip4602)\" style=\"stroke:#000000; stroke-width:0.5; stroke-opacity:0.1; fill:none\" points=\"\n",
       "  42.5104,319.644 580.315,319.644 \n",
       "  \"/>\n",
       "<polyline clip-path=\"url(#clip4602)\" style=\"stroke:#000000; stroke-width:0.5; stroke-opacity:0.1; fill:none\" points=\"\n",
       "  42.5104,259.676 580.315,259.676 \n",
       "  \"/>\n",
       "<polyline clip-path=\"url(#clip4602)\" style=\"stroke:#000000; stroke-width:0.5; stroke-opacity:0.1; fill:none\" points=\"\n",
       "  42.5104,199.709 580.315,199.709 \n",
       "  \"/>\n",
       "<polyline clip-path=\"url(#clip4602)\" style=\"stroke:#000000; stroke-width:0.5; stroke-opacity:0.1; fill:none\" points=\"\n",
       "  42.5104,139.741 580.315,139.741 \n",
       "  \"/>\n",
       "<polyline clip-path=\"url(#clip4602)\" style=\"stroke:#000000; stroke-width:0.5; stroke-opacity:0.1; fill:none\" points=\"\n",
       "  42.5104,79.7734 580.315,79.7734 \n",
       "  \"/>\n",
       "<polyline clip-path=\"url(#clip4602)\" style=\"stroke:#000000; stroke-width:0.5; stroke-opacity:0.1; fill:none\" points=\"\n",
       "  42.5104,19.8057 580.315,19.8057 \n",
       "  \"/>\n",
       "<polyline clip-path=\"url(#clip4600)\" style=\"stroke:#000000; stroke-width:1; stroke-opacity:1; fill:none\" points=\"\n",
       "  42.5104,375.869 580.315,375.869 \n",
       "  \"/>\n",
       "<polyline clip-path=\"url(#clip4600)\" style=\"stroke:#000000; stroke-width:1; stroke-opacity:1; fill:none\" points=\"\n",
       "  42.5104,375.869 42.5104,11.811 \n",
       "  \"/>\n",
       "<polyline clip-path=\"url(#clip4600)\" style=\"stroke:#000000; stroke-width:1; stroke-opacity:1; fill:none\" points=\"\n",
       "  174.935,375.869 174.935,370.408 \n",
       "  \"/>\n",
       "<polyline clip-path=\"url(#clip4600)\" style=\"stroke:#000000; stroke-width:1; stroke-opacity:1; fill:none\" points=\"\n",
       "  310.061,375.869 310.061,370.408 \n",
       "  \"/>\n",
       "<polyline clip-path=\"url(#clip4600)\" style=\"stroke:#000000; stroke-width:1; stroke-opacity:1; fill:none\" points=\"\n",
       "  445.188,375.869 445.188,370.408 \n",
       "  \"/>\n",
       "<polyline clip-path=\"url(#clip4600)\" style=\"stroke:#000000; stroke-width:1; stroke-opacity:1; fill:none\" points=\"\n",
       "  580.315,375.869 580.315,370.408 \n",
       "  \"/>\n",
       "<polyline clip-path=\"url(#clip4600)\" style=\"stroke:#000000; stroke-width:1; stroke-opacity:1; fill:none\" points=\"\n",
       "  42.5104,319.644 50.5774,319.644 \n",
       "  \"/>\n",
       "<polyline clip-path=\"url(#clip4600)\" style=\"stroke:#000000; stroke-width:1; stroke-opacity:1; fill:none\" points=\"\n",
       "  42.5104,259.676 50.5774,259.676 \n",
       "  \"/>\n",
       "<polyline clip-path=\"url(#clip4600)\" style=\"stroke:#000000; stroke-width:1; stroke-opacity:1; fill:none\" points=\"\n",
       "  42.5104,199.709 50.5774,199.709 \n",
       "  \"/>\n",
       "<polyline clip-path=\"url(#clip4600)\" style=\"stroke:#000000; stroke-width:1; stroke-opacity:1; fill:none\" points=\"\n",
       "  42.5104,139.741 50.5774,139.741 \n",
       "  \"/>\n",
       "<polyline clip-path=\"url(#clip4600)\" style=\"stroke:#000000; stroke-width:1; stroke-opacity:1; fill:none\" points=\"\n",
       "  42.5104,79.7734 50.5774,79.7734 \n",
       "  \"/>\n",
       "<polyline clip-path=\"url(#clip4600)\" style=\"stroke:#000000; stroke-width:1; stroke-opacity:1; fill:none\" points=\"\n",
       "  42.5104,19.8057 50.5774,19.8057 \n",
       "  \"/>\n",
       "<g clip-path=\"url(#clip4600)\">\n",
       "<text style=\"fill:#000000; fill-opacity:1; font-family:Arial,Helvetica Neue,Helvetica,sans-serif; font-size:12; text-anchor:middle;\" transform=\"rotate(0, 174.935, 389.669)\" x=\"174.935\" y=\"389.669\">50</text>\n",
       "</g>\n",
       "<g clip-path=\"url(#clip4600)\">\n",
       "<text style=\"fill:#000000; fill-opacity:1; font-family:Arial,Helvetica Neue,Helvetica,sans-serif; font-size:12; text-anchor:middle;\" transform=\"rotate(0, 310.061, 389.669)\" x=\"310.061\" y=\"389.669\">100</text>\n",
       "</g>\n",
       "<g clip-path=\"url(#clip4600)\">\n",
       "<text style=\"fill:#000000; fill-opacity:1; font-family:Arial,Helvetica Neue,Helvetica,sans-serif; font-size:12; text-anchor:middle;\" transform=\"rotate(0, 445.188, 389.669)\" x=\"445.188\" y=\"389.669\">150</text>\n",
       "</g>\n",
       "<g clip-path=\"url(#clip4600)\">\n",
       "<text style=\"fill:#000000; fill-opacity:1; font-family:Arial,Helvetica Neue,Helvetica,sans-serif; font-size:12; text-anchor:middle;\" transform=\"rotate(0, 580.315, 389.669)\" x=\"580.315\" y=\"389.669\">200</text>\n",
       "</g>\n",
       "<g clip-path=\"url(#clip4600)\">\n",
       "<text style=\"fill:#000000; fill-opacity:1; font-family:Arial,Helvetica Neue,Helvetica,sans-serif; font-size:12; text-anchor:end;\" transform=\"rotate(0, 36.5104, 324.144)\" x=\"36.5104\" y=\"324.144\">1000</text>\n",
       "</g>\n",
       "<g clip-path=\"url(#clip4600)\">\n",
       "<text style=\"fill:#000000; fill-opacity:1; font-family:Arial,Helvetica Neue,Helvetica,sans-serif; font-size:12; text-anchor:end;\" transform=\"rotate(0, 36.5104, 264.176)\" x=\"36.5104\" y=\"264.176\">2000</text>\n",
       "</g>\n",
       "<g clip-path=\"url(#clip4600)\">\n",
       "<text style=\"fill:#000000; fill-opacity:1; font-family:Arial,Helvetica Neue,Helvetica,sans-serif; font-size:12; text-anchor:end;\" transform=\"rotate(0, 36.5104, 204.209)\" x=\"36.5104\" y=\"204.209\">3000</text>\n",
       "</g>\n",
       "<g clip-path=\"url(#clip4600)\">\n",
       "<text style=\"fill:#000000; fill-opacity:1; font-family:Arial,Helvetica Neue,Helvetica,sans-serif; font-size:12; text-anchor:end;\" transform=\"rotate(0, 36.5104, 144.241)\" x=\"36.5104\" y=\"144.241\">4000</text>\n",
       "</g>\n",
       "<g clip-path=\"url(#clip4600)\">\n",
       "<text style=\"fill:#000000; fill-opacity:1; font-family:Arial,Helvetica Neue,Helvetica,sans-serif; font-size:12; text-anchor:end;\" transform=\"rotate(0, 36.5104, 84.2734)\" x=\"36.5104\" y=\"84.2734\">5000</text>\n",
       "</g>\n",
       "<g clip-path=\"url(#clip4600)\">\n",
       "<text style=\"fill:#000000; fill-opacity:1; font-family:Arial,Helvetica Neue,Helvetica,sans-serif; font-size:12; text-anchor:end;\" transform=\"rotate(0, 36.5104, 24.3057)\" x=\"36.5104\" y=\"24.3057\">6000</text>\n",
       "</g>\n",
       "<polyline clip-path=\"url(#clip4602)\" style=\"stroke:#009af9; stroke-width:1; stroke-opacity:1; fill:none\" points=\"\n",
       "  42.5104,11.811 45.2129,65.4846 47.9154,59.342 50.618,148.374 53.3205,195.43 56.023,197.018 58.7256,235.359 61.4281,226.663 64.1307,266.418 66.8332,299.387 \n",
       "  69.5357,315.676 72.2383,334.874 74.9408,321.035 77.6433,322.066 80.3459,318.914 83.0484,328.048 85.7509,344.043 88.4535,351.152 91.156,354.275 93.8585,352.183 \n",
       "  96.5611,360.498 99.2636,364.28 101.966,362.331 104.669,350.795 107.371,347.916 110.074,363.031 112.776,367.288 115.479,366.544 118.181,370.564 120.884,369.105 \n",
       "  123.586,366.63 126.289,365.278 128.992,369.96 131.694,369.743 134.397,371.734 137.099,368.89 139.802,372.414 142.504,369.106 145.207,371.997 147.909,365.395 \n",
       "  150.612,366.184 153.314,369.73 156.017,369.738 158.719,371.365 161.422,361.759 164.124,363.837 166.827,368.375 169.53,368.535 172.232,370.324 174.935,372.924 \n",
       "  177.637,365.157 180.34,368.579 183.042,368.255 185.745,370.629 188.447,366.161 191.15,366.333 193.852,363.146 196.555,362.507 199.257,365.724 201.96,373.844 \n",
       "  204.663,367.356 207.365,364.387 210.068,367.104 212.77,364.946 215.473,366.014 218.175,375.869 220.878,366.602 223.58,363.817 226.283,366.542 228.985,371.161 \n",
       "  231.688,366.47 234.39,369.259 237.093,371.963 239.795,371.161 242.498,362.084 245.201,366.841 247.903,364.417 250.606,361.394 253.308,368.71 256.011,360.348 \n",
       "  258.713,370.151 261.416,363.865 264.118,363.977 266.821,366.72 269.523,371.217 272.226,358.386 274.928,365.974 277.631,368.343 280.334,365.604 283.036,361.599 \n",
       "  285.739,362.064 288.441,358.802 291.144,369.265 293.846,358.337 296.549,369.612 299.251,359.636 301.954,366.662 304.656,360.509 307.359,362.259 310.061,361.93 \n",
       "  312.764,357.4 315.466,345.16 318.169,357.498 320.872,369.049 323.574,369.916 326.277,370.805 328.979,366.847 331.682,364.946 334.384,359.633 337.087,364.951 \n",
       "  339.789,374.312 342.492,369.441 345.194,365.406 347.897,372.175 350.599,372.484 353.302,373.516 356.005,358.194 358.707,363.009 361.41,365.812 364.112,363.97 \n",
       "  366.815,368.17 369.517,366.76 372.22,371.409 374.922,370.242 377.625,370.373 380.327,371.243 383.03,366.12 385.732,371.17 388.435,368.838 391.137,372.558 \n",
       "  393.84,362.068 396.543,355.102 399.245,354.848 401.948,367.803 404.65,365.783 407.353,364.448 410.055,356.619 412.758,360.222 415.46,358.909 418.163,367.767 \n",
       "  420.865,366.577 423.568,370.443 426.27,363.383 428.973,365.803 431.676,370.36 434.378,368.068 437.081,363.857 439.783,361.679 442.486,369.035 445.188,363.944 \n",
       "  447.891,372.448 450.593,365.334 453.296,365.292 455.998,360.097 458.701,366.129 461.403,369.206 464.106,363.56 466.808,370.136 469.511,371.296 472.214,366.337 \n",
       "  474.916,355.327 477.619,371.846 480.321,371.124 483.024,371.192 485.726,371.145 488.429,366.945 491.131,365.156 493.834,368.354 496.536,367.981 499.239,369.519 \n",
       "  501.941,365.583 504.644,372.869 507.346,366.92 510.049,368.013 512.752,372.464 515.454,365.724 518.157,367.356 520.859,362.027 523.562,369.814 526.264,370.008 \n",
       "  528.967,365.494 531.669,363.198 534.372,368.025 537.074,367.273 539.777,372.963 542.479,367.122 545.182,371.662 547.885,365.344 550.587,365.171 553.29,370.135 \n",
       "  555.992,369.685 558.695,371.776 561.397,370.154 564.1,372.066 566.802,370.154 569.505,369.465 572.207,369.354 574.91,365.587 577.612,366.577 580.315,365.123 \n",
       "  \n",
       "  \"/>\n",
       "<polygon clip-path=\"url(#clip4600)\" points=\"\n",
       "489.608,62.931 562.315,62.931 562.315,32.691 489.608,32.691 \n",
       "  \" fill=\"#ffffff\" fill-opacity=\"1\"/>\n",
       "<polyline clip-path=\"url(#clip4600)\" style=\"stroke:#000000; stroke-width:1; stroke-opacity:1; fill:none\" points=\"\n",
       "  489.608,62.931 562.315,62.931 562.315,32.691 489.608,32.691 489.608,62.931 \n",
       "  \"/>\n",
       "<polyline clip-path=\"url(#clip4600)\" style=\"stroke:#009af9; stroke-width:1; stroke-opacity:1; fill:none\" points=\"\n",
       "  495.608,47.811 531.608,47.811 \n",
       "  \"/>\n",
       "<g clip-path=\"url(#clip4600)\">\n",
       "<text style=\"fill:#000000; fill-opacity:1; font-family:Arial,Helvetica Neue,Helvetica,sans-serif; font-size:12; text-anchor:start;\" transform=\"rotate(0, 537.608, 52.311)\" x=\"537.608\" y=\"52.311\">y1</text>\n",
       "</g>\n",
       "</svg>\n"
      ]
     },
     "execution_count": 27,
     "metadata": {},
     "output_type": "execute_result"
    }
   ],
   "source": [
    "mcMeasure(200, 10, 2000, 5, 1/4)"
   ]
  },
  {
   "cell_type": "code",
   "execution_count": null,
   "metadata": {},
   "outputs": [],
   "source": []
  }
 ],
 "metadata": {
  "kernelspec": {
   "display_name": "Julia 0.6.3",
   "language": "julia",
   "name": "julia-0.6"
  },
  "language_info": {
   "file_extension": ".jl",
   "mimetype": "application/julia",
   "name": "julia",
   "version": "0.6.3"
  }
 },
 "nbformat": 4,
 "nbformat_minor": 2
}
