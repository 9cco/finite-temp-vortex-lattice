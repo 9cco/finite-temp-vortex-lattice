{
 "cells": [
  {
   "cell_type": "markdown",
   "metadata": {},
   "source": [
    "Getting the energy functions to work"
   ]
  },
  {
   "cell_type": "code",
   "execution_count": 1,
   "metadata": {},
   "outputs": [
    {
     "data": {
      "text/plain": [
       "copy (generic function with 46 methods)"
      ]
     },
     "execution_count": 1,
     "metadata": {},
     "output_type": "execute_result"
    }
   ],
   "source": [
    "type LatticeSite\n",
    "    A::Array{Float64,1}  # Fluctuating vector potential\n",
    "    θ⁺::Float64 # Phase of the + component\n",
    "    θ⁻::Float64 # Phase of the - component\n",
    "    u⁺::Float64 # Amplitude of + component\n",
    "end\n",
    "type State\n",
    "    lattice::Array{LatticeSite,2}  # Numerical lattice\n",
    "    γ::Float64    # Order parameter amplitude\n",
    "    g::Float64    # Gauge coupling\n",
    "    ν::Float64    # Anisotropy constant\n",
    "    f::Float64    # Magnetic filling fraction\n",
    "end\n",
    "function initializeState(N::Int64, choice::Int64)\n",
    "    N <= 1 && throw(DomainError())\n",
    "    \n",
    "    # Constants\n",
    "    γ = 1.0    # Order parameter amplitude\n",
    "    g = 1.0    # Gauge coupling\n",
    "    ν = 0.0    # Anisotropy constant\n",
    "    f = 0.0    # Magnetic filling fraction\n",
    "    \n",
    "    # Construct ordered state \n",
    "    if choice == 1\n",
    "        \n",
    "        # Construct NxN lattice of NxN LatticeSites\n",
    "        lattice = [LatticeSite([0,0],0,0,0) for y=1:N, x=1:N]\n",
    "        ψ = State(lattice, γ, g, ν, f)\n",
    "        \n",
    "    # Construct random state\n",
    "    elseif choice == 2\n",
    "        Amax::Int64 = 2^10\n",
    "        lattice = [LatticeSite([rand()*Amax*(-1)^rand(0:1),rand()*Amax*(-1)^rand(0:1)],\n",
    "                rand()*2*π,rand()*2*π, rand()) for y=1:N, x=1:N]\n",
    "        ψ = State(lattice, γ, g, ν, f)\n",
    "        \n",
    "    # We only have choices 1 and 2 so far so other values for choice will give an error.\n",
    "    else\n",
    "        throw(DomainError())\n",
    "    end\n",
    "    ψ\n",
    "end\n",
    "import Base.copy\n",
    "function copy(ϕ::LatticeSite)\n",
    "    LatticeSite([ϕ.A[1],ϕ.A[2]],ϕ.θ⁺,ϕ.θ⁻,ϕ.u⁺)\n",
    "end\n",
    "function copy(ψ::State)\n",
    "    Lx = size(ψ.lattice,2)\n",
    "    Ly = size(ψ.lattice,1)\n",
    "    lattice = [LatticeSite([ψ.lattice[y,x].A[1],ψ.lattice[y,x].A[2]],ψ.lattice[y,x].θ⁺,ψ.lattice[y,x].θ⁻,\n",
    "            ψ.lattice[y,x].u⁺) for y = 1:Ly, x=1:Lx]\n",
    "    State(lattice, ψ.γ, ψ.g, ψ.ν, ψ.f)\n",
    "end"
   ]
  },
  {
   "cell_type": "code",
   "execution_count": 2,
   "metadata": {},
   "outputs": [
    {
     "data": {
      "text/plain": [
       "fᵣ (generic function with 1 method)"
      ]
     },
     "execution_count": 2,
     "metadata": {},
     "output_type": "execute_result"
    }
   ],
   "source": [
    "function fᵣ(ϕ::LatticeSite,ϕᵣ₊₁::LatticeSite,ϕᵣ₊₂::LatticeSite,A₀::Float64,γ::Float64,g::Float64,ν::Float64,f::Float64)\n",
    "    energy = 0\n",
    "    uᵣ₊₁⁻ = √(1-ϕᵣ₊₁.u⁺^2)\n",
    "    u⁻ = √(1-ϕ.u⁺^2)\n",
    "    uᵣ₊₂⁻ = √(1-ϕᵣ₊₂.u⁺^2)\n",
    "    A₂ = ϕ.A[2]+A₀\n",
    "    # Kinetic energy Fₖ\n",
    "    energy += -2*γ^2*(ϕᵣ₊₁.u⁺ *ϕ.u⁺*cos(ϕᵣ₊₁.θ⁺-ϕ.θ⁺ + g*ϕ.A[1]) \n",
    "        + ϕᵣ₊₂.u⁺*ϕ.u⁺*cos(ϕᵣ₊₂.θ⁺-ϕ.θ⁺ + g*A₂) \n",
    "        + uᵣ₊₁⁻*u⁻*cos(ϕᵣ₊₁.θ⁻-ϕ.θ⁻ + g*ϕ.A[1]) \n",
    "        + uᵣ₊₂⁻*u⁻*cos(ϕᵣ₊₂.θ⁻-ϕ.θ⁻ + g*A₂) )\n",
    "    # Potential energy Fᵥ\n",
    "    energy += γ^4*ϕ.u⁺^2*u⁻^2*(1+ν*cos(2*(ϕ.θ⁺-ϕ.θ⁻)))\n",
    "    # Andreev Bashkin terms\n",
    "    energy += γ^2*(ν+1)*(u⁻*ϕᵣ₊₂.u⁺*cos(ϕᵣ₊₂.θ⁺-ϕ.θ⁻ + g*A₂) \n",
    "        + ϕ.u⁺*uᵣ₊₂⁻*cos(ϕᵣ₊₂.θ⁻-ϕ.θ⁺ + g*A₂) \n",
    "        - u⁻*ϕᵣ₊₁.u⁺*cos(ϕᵣ₊₁.θ⁺ - ϕ.θ⁻ + g*ϕ.A[1]) \n",
    "        - ϕ.u⁺*uᵣ₊₁⁻*cos(ϕᵣ₊₁.θ⁻ - ϕ.θ⁺ + g*ϕ.A[1]))\n",
    "    # Mixed gradient terms\n",
    "    energy += γ^2*(ν-1)*(ϕᵣ₊₂.u⁺*uᵣ₊₁⁻*sin(ϕᵣ₊₁.θ⁻ - ϕᵣ₊₂.θ⁺ + g*(ϕ.A[1]-A₂)) \n",
    "        - uᵣ₊₂⁻*ϕᵣ₊₁.u⁺*sin(ϕᵣ₊₁.θ⁺ - ϕᵣ₊₂.θ⁻ + g*(ϕ.A[1] - A₂)) \n",
    "        + 2*ϕ.u⁺*u⁻*sin(ϕ.θ⁻-ϕ.θ⁺) \n",
    "        -  u⁻*ϕᵣ₊₂.u⁺*sin(ϕᵣ₊₂.θ⁺-ϕ.θ⁻ + g*A₂) \n",
    "        + ϕ.u⁺*uᵣ₊₂⁻*sin(ϕᵣ₊₂.θ⁻-ϕ.θ⁺ + g*A₂) \n",
    "        + u⁻*ϕᵣ₊₁.u⁺*sin(ϕᵣ₊₁.θ⁺ - ϕ.θ⁻ + g*ϕ.A[1]) \n",
    "        - ϕ.u⁺*uᵣ₊₁⁻*sin(ϕᵣ₊₁.θ⁻ - ϕ.θ⁺ + g*ϕ.A[1]))\n",
    "    energy\n",
    "end"
   ]
  },
  {
   "cell_type": "code",
   "execution_count": 3,
   "metadata": {},
   "outputs": [
    {
     "data": {
      "text/plain": [
       "E (generic function with 1 method)"
      ]
     },
     "execution_count": 3,
     "metadata": {},
     "output_type": "execute_result"
    }
   ],
   "source": [
    "# Loops over all positions of the lattice of a state and calculates the total energy from the\n",
    "# Higgs-field terms using the function fᵣ() + the energy from the gauge field.\n",
    "function E(ψ::State)\n",
    "    γ = ψ.γ\n",
    "    g = ψ.g\n",
    "    energy = 0.0\n",
    "    ν = ψ.ν\n",
    "    f = ψ.f\n",
    "    Lx = size(ψ.lattice,2)\n",
    "    Ly = size(ψ.lattice,1)\n",
    "    \n",
    "    # Contribution from upper right corner\n",
    "    A⁰ = (Lx-1)*2π*f\n",
    "    ϕ = ψ.lattice[1,Lx]    # Lattice site at upper right corner\n",
    "    ϕᵣ₊₁ = ψ.lattice[1,1]    # Nearest neighbor at r+x is upper left corner\n",
    "    ϕᵣ₊₂ = ψ.lattice[Ly,Lx]  # Nearest neighbor at r+y is lower right corner\n",
    "    energy += fᵣ(ϕ,ϕᵣ₊₁,ϕᵣ₊₂,A⁰,γ,g,ν,f)              # Higgs terms\n",
    "    energy += (ϕ.A[1] + ϕᵣ₊₁.A[2]-ϕᵣ₊₂.A[1]-ϕ.A[2])^2 # Maxwell term\n",
    "    \n",
    "    # Contribution from right boundary paralell to y-axis\n",
    "    # except for the upper right corneϕ.\n",
    "    for y=2:Ly\n",
    "        ϕ = ψ.lattice[y,Lx]\n",
    "        ϕᵣ₊₁ = ψ.lattice[y,1]\n",
    "        ϕᵣ₊₂ = ψ.lattice[y-1,Lx]\n",
    "        A⁰ = (Lx-1)*2*π*f\n",
    "        energy += fᵣ(ϕ,ϕᵣ₊₁,ϕᵣ₊₂,A⁰,γ,g,ν,f)              # Higgs terms\n",
    "        energy += (ϕ.A[1] + ϕᵣ₊₁.A[2]-ϕᵣ₊₂.A[1]-ϕ.A[2])^2\n",
    "    end\n",
    "    \n",
    "    # Contribution from the bulk of lattice sites and upper boundary\n",
    "    for x=1:(Lx-1)\n",
    "        A⁰ = (x-1)*2*π*f        # Constant vector potential.\n",
    "        # Constribution from upper boundary except upper right corner\n",
    "        ϕ = ψ.lattice[1,x]\n",
    "        ϕᵣ₊₁ = ψ.lattice[1,x+1]\n",
    "        ϕᵣ₊₂ = ψ.lattice[Ly,x]\n",
    "        energy += fᵣ(ϕ,ϕᵣ₊₁,ϕᵣ₊₂,A⁰,γ,g,ν,f)              # Higgs terms\n",
    "        energy += (ϕ.A[1] + ϕᵣ₊₁.A[2]-ϕᵣ₊₂.A[1]-ϕ.A[2])^2\n",
    "        \n",
    "        # Contribution from the rest of the bulk.\n",
    "        for y=2:Ly\n",
    "            ϕ = ψ.lattice[y,x]          # Lattice site at position r\n",
    "            ϕᵣ₊₁ = ψ.lattice[y,x+1]       # Nearest neighbor at r+x\n",
    "            ϕᵣ₊₂ = ψ.lattice[y-1,x]       # Nearest neighbor at r+y\n",
    "            \n",
    "            energy += fᵣ(ϕ,ϕᵣ₊₁,ϕᵣ₊₂,A⁰,γ,g,ν,f)              # Higgs terms\n",
    "            energy += (ϕ.A[1] + ϕᵣ₊₁.A[2]-ϕᵣ₊₂.A[1]-ϕ.A[2])^2\n",
    "        end\n",
    "    end\n",
    "    \n",
    "    energy\n",
    "end"
   ]
  },
  {
   "cell_type": "markdown",
   "metadata": {},
   "source": [
    "Let's do a unit test that the energy function acts as expected."
   ]
  },
  {
   "cell_type": "code",
   "execution_count": null,
   "metadata": {},
   "outputs": [],
   "source": [
    "# Tests mostly that the kinetic energy Fₖ is correctly calculated.\n",
    "using Base.Test\n",
    "f = 1.0/33\n",
    "ψ = initializeState(2, 1)\n",
    "@test E(ψ) == -4*(3+cos(2*π*1/32))"
   ]
  },
  {
   "cell_type": "code",
   "execution_count": 4,
   "metadata": {},
   "outputs": [
    {
     "data": {
      "text/plain": [
       "ΔE2 (generic function with 1 method)"
      ]
     },
     "execution_count": 4,
     "metadata": {},
     "output_type": "execute_result"
    }
   ],
   "source": [
    "# If we don't try to be fancy about it, we could just use fᵣ for each of the points around the\n",
    "# updated lattice site.\n",
    "#\n",
    "function ΔE2(ψ::State, ϕ′::LatticeSite, pos::Array{Int64,1})\n",
    "    x = pos[1]\n",
    "    y = pos[2]\n",
    "    Ly = size(ψ.lattice,1)\n",
    "    Lx = size(ψ.lattice,2)\n",
    "    δE = 0.0\n",
    "    ϕ = ψ.lattice[y,x]\n",
    "    \n",
    "    # Calculate nearest neighbor lattice sites.\n",
    "    const ϕᵣ₊₁ = ψ.lattice[y, mod(x,Lx)+1]\n",
    "    const ϕᵣ₊₂ = ψ.lattice[mod(y-2,Ly)+1,x]\n",
    "    const ϕᵣ₋₁ = ψ.lattice[y,mod(x-2,Lx)+1]\n",
    "    const ϕᵣ₋₂ = ψ.lattice[mod(y,Ly)+1,x]\n",
    "    const ϕᵣ₋₁₊₂ = ψ.lattice[mod(y-2,Ly)+1,mod(x-2,Lx)+1]\n",
    "    const ϕᵣ₋₂₊₁ = ψ.lattice[mod(y,Ly)+1,mod(x,Lx)+1]\n",
    "    \n",
    "    # Energy difference from Higgs field terms\n",
    "    # First contribution from current position.\n",
    "    δE += fᵣ(ϕ′,ϕᵣ₊₁,ϕᵣ₊₂,2π*ψ.f*(x-1),ψ.γ,ψ.g,ψ.ν,ψ.f)-fᵣ(ϕ,ϕᵣ₊₁,ϕᵣ₊₂,2π*ψ.f*(x-1),ψ.γ,ψ.g,ψ.ν,ψ.f)\n",
    "    # Then from position r-x\n",
    "    δE += fᵣ(ϕᵣ₋₁,ϕ′,ϕᵣ₋₁₊₂,2π*ψ.f*(x-2),ψ.γ,ψ.g,ψ.ν,ψ.f)-fᵣ(ϕᵣ₋₁,ϕ,ϕᵣ₋₁₊₂,2π*ψ.f*(x-2),ψ.γ,ψ.g,ψ.ν,ψ.f)\n",
    "    # Then from position r-y\n",
    "    δE += fᵣ(ϕᵣ₋₂,ϕᵣ₋₂₊₁,ϕ′,2π*ψ.f*(x-1),ψ.γ,ψ.g,ψ.ν,ψ.f)-fᵣ(ϕᵣ₋₂,ϕᵣ₋₂₊₁,ϕ,2π*ψ.f*(x-1),ψ.γ,ψ.g,ψ.ν,ψ.f)\n",
    "    \n",
    "    # Then calculate the Gauge field contribution\n",
    "    # First contribution from current position\n",
    "    δE += (ϕ′.A[1] + ϕᵣ₊₁.A[2] - ϕᵣ₊₂.A[1] - ϕ′.A[2])^2 - (ϕ.A[1] + ϕᵣ₊₁.A[2] - ϕᵣ₊₂.A[1] - ϕ.A[2])^2\n",
    "    # Then from position r-x\n",
    "    δE += (ϕᵣ₋₁.A[1] + ϕ′.A[2] - ϕᵣ₋₁₊₂.A[1] - ϕᵣ₋₁.A[2])^2 - (ϕᵣ₋₁.A[1] + ϕ.A[2] - ϕᵣ₋₁₊₂.A[1] - ϕᵣ₋₁.A[2])^2\n",
    "    # Then from position r-y\n",
    "    δE += (ϕᵣ₋₂.A[1] + ϕᵣ₋₂₊₁.A[2] - ϕ′.A[1] - ϕᵣ₋₂.A[2])^2 - (ϕᵣ₋₂.A[1] + ϕᵣ₋₂₊₁.A[2] - ϕ.A[1] - ϕᵣ₋₂.A[2])^2\n",
    "end "
   ]
  },
  {
   "cell_type": "code",
   "execution_count": 5,
   "metadata": {},
   "outputs": [
    {
     "data": {
      "text/plain": [
       "ΔE3 (generic function with 1 method)"
      ]
     },
     "execution_count": 5,
     "metadata": {},
     "output_type": "execute_result"
    }
   ],
   "source": [
    "# Now we try to be fancy about it and use the reduced formula for the difference between the energies\n",
    "#\n",
    "function ΔE3(ψ::State, ϕ′::LatticeSite, pos::Array{Int64,1})\n",
    "    const x = pos[1]\n",
    "    const y = pos[2]\n",
    "    const Ly = size(ψ.lattice,1)\n",
    "    const Lx = size(ψ.lattice,2)\n",
    "    const ϕ = ψ.lattice[y,x]\n",
    "    const g = ψ.g\n",
    "    const δE::Float64 = 0.0\n",
    "    \n",
    "    # Calculate nearest neighbor lattice sites.\n",
    "    const ϕᵣ₊₁ = ψ.lattice[y, mod(x,Lx)+1]\n",
    "    const ϕᵣ₊₂ = ψ.lattice[mod(y-2,Ly)+1,x]\n",
    "    const ϕᵣ₋₁ = ψ.lattice[y,mod(x-2,Lx)+1]\n",
    "    const ϕᵣ₋₂ = ψ.lattice[mod(y,Ly)+1,x]\n",
    "    const ϕᵣ₋₁₊₂ = ψ.lattice[mod(y-2,Ly)+1,mod(x-2,Lx)+1]\n",
    "    const ϕᵣ₋₂₊₁ = ψ.lattice[mod(y,Ly)+1,mod(x,Lx)+1]\n",
    "    \n",
    "    # Calculate u⁻ for these lattice sites\n",
    "    const u′⁻ = √(1-ϕ′.u⁺^2)\n",
    "    const u⁻ = √(1-ϕ.u⁺^2)\n",
    "    const u⁻ᵣ₊₁ = √(1-ϕᵣ₊₁.u⁺^2)\n",
    "    const u⁻ᵣ₊₂ = √(1-ϕᵣ₊₂.u⁺^2)\n",
    "    const u⁻ᵣ₋₁ = √(1-ϕᵣ₋₁.u⁺^2)\n",
    "    const u⁻ᵣ₋₂ = √(1-ϕᵣ₋₂.u⁺^2)\n",
    "    const u⁻ᵣ₋₁₊₂ = √(1-ϕᵣ₋₁₊₂.u⁺^2)\n",
    "    const u⁻ᵣ₋₂₊₁ = √(1-ϕᵣ₋₂₊₁.u⁺^2)\n",
    "    \n",
    "    # Calculate constant link variables\n",
    "    const A⁰ = 2π*ψ.f*(x-1)\n",
    "    const A⁰₊ = 2π*ψ.f*x\n",
    "    const A⁰₋ = 2π*ψ.f*(x-2)\n",
    "    \n",
    "    # Normal kinetic terms\n",
    "    δE += -2*ψ.γ^2*(ϕᵣ₊₁.u⁺*(ϕ′.u⁺*cos(ϕᵣ₊₁.θ⁺ - ϕ′.θ⁺ + g*ϕ′.A[1]) - ϕ.u⁺*cos(ϕᵣ₊₁.θ⁺ - ϕ.θ⁺ + g*ϕ.A[1]))\n",
    "        + ϕᵣ₋₁.u⁺*(ϕ′.u⁺*cos(ϕ′.θ⁺-ϕᵣ₋₁.θ⁺+g*ϕᵣ₋₁.A[1]) - ϕ.u⁺*cos(ϕ.θ⁺-ϕᵣ₋₁.θ⁺+g*ϕᵣ₋₁.A[1]))\n",
    "        + u⁻ᵣ₊₁*(u′⁻*cos(ϕᵣ₊₁.θ⁻ - ϕ′.θ⁻ + g*ϕ′.A[1]) - u⁻*cos(ϕᵣ₊₁.θ⁻ - ϕ.θ⁻ + g*ϕ.A[1]))\n",
    "        + u⁻ᵣ₋₁*(u′⁻*cos(ϕ′.θ⁻-ϕᵣ₋₁.θ⁻+g*ϕᵣ₋₁.A[1]) - u⁻*cos(ϕ.θ⁻-ϕᵣ₋₁.θ⁻+g*ϕᵣ₋₁.A[1]))\n",
    "        + ϕᵣ₊₂.u⁺*(ϕ′.u⁺*cos(ϕᵣ₊₂.θ⁺ - ϕ′.θ⁺ + g*(ϕ′.A[2]+A⁰)) - ϕ.u⁺*cos(ϕᵣ₊₂.θ⁺ - ϕ.θ⁺ + g*(ϕ.A[2]+A⁰)))\n",
    "        + ϕᵣ₋₂.u⁺*(ϕ′.u⁺*cos(ϕ′.θ⁺-ϕᵣ₋₂.θ⁺+g*(ϕᵣ₋₂.A[2]+A⁰)) - ϕ.u⁺*cos(ϕ.θ⁺-ϕᵣ₋₂.θ⁺+g*(ϕᵣ₋₂.A[2]+A⁰)))\n",
    "        + u⁻ᵣ₊₂*(u′⁻*cos(ϕᵣ₊₂.θ⁻ - ϕ′.θ⁻ + g*(ϕ′.A[2]+A⁰)) - u⁻*cos(ϕᵣ₊₂.θ⁻ - ϕ.θ⁻ + g*(ϕ.A[2]+A⁰)))\n",
    "        + u⁻ᵣ₋₂*(u′⁻*cos(ϕ′.θ⁻-ϕᵣ₋₂.θ⁻+g*(ϕᵣ₋₂.A[2]+A⁰)) - u⁻*cos(ϕ.θ⁻-ϕᵣ₋₂.θ⁻+g*(ϕᵣ₋₂.A[2]+A⁰))))\n",
    "    \n",
    "    # Potential energy terms\n",
    "    δE += ψ.γ^4*((ϕ′.u⁺*u′⁻)^2*(1+ψ.ν*cos(2*(ϕ′.θ⁺ - ϕ′.θ⁻))) - (ϕ.u⁺*u⁻)^2*(1+ψ.ν*cos(2*(ϕ.θ⁺ - ϕ.θ⁻))))\n",
    "    \n",
    "    # Andreev-Bashkin terms\n",
    "    δE += ψ.γ^2*(ψ.ν+1)*(ϕᵣ₊₂.u⁺*(u′⁻*cos(ϕᵣ₊₂.θ⁺-ϕ′.θ⁻+g*(ϕ′.A[2]+A⁰)) - u⁻*cos(ϕᵣ₊₂.θ⁺-ϕ.θ⁻+g*(ϕ.A[2]+A⁰))) \n",
    "        - ϕᵣ₊₁.u⁺*(u′⁻*cos(ϕᵣ₊₁.θ⁺-ϕ′.θ⁻+g*ϕ′.A[1]) - u⁻*cos(ϕᵣ₊₁.θ⁺-ϕ.θ⁻+g*ϕ.A[1])) \n",
    "        + u⁻ᵣ₋₂*(ϕ′.u⁺*cos(ϕ′.θ⁺-ϕᵣ₋₂.θ⁻+g*(ϕᵣ₋₂.A[2]+A⁰)) - ϕ.u⁺*cos(ϕ.θ⁺-ϕᵣ₋₂.θ⁻+g*(ϕᵣ₋₂.A[2]+A⁰))) \n",
    "        - u⁻ᵣ₋₁*(ϕ′.u⁺*cos(ϕ′.θ⁺-ϕᵣ₋₁.θ⁻+g*ϕᵣ₋₁.A[1]) - ϕ.u⁺*cos(ϕ.θ⁺-ϕᵣ₋₁.θ⁻+g*ϕᵣ₋₁.A[1]))\n",
    "        + u⁻ᵣ₊₂*(ϕ′.u⁺*cos(ϕᵣ₊₂.θ⁻-ϕ′.θ⁺+g*(ϕ′.A[2]+A⁰)) - ϕ.u⁺*cos(ϕᵣ₊₂.θ⁻-ϕ.θ⁺+g*(ϕ.A[2]+A⁰))) \n",
    "        - u⁻ᵣ₊₁*(ϕ′.u⁺*cos(ϕᵣ₊₁.θ⁻-ϕ′.θ⁺+g*ϕ′.A[1]) - ϕ.u⁺*cos(ϕᵣ₊₁.θ⁻-ϕ.θ⁺+g*ϕ.A[1])) \n",
    "        + ϕᵣ₋₂.u⁺*(u′⁻*cos(ϕ′.θ⁻-ϕᵣ₋₂.θ⁺+g*(ϕᵣ₋₂.A[2]+A⁰)) - u⁻*cos(ϕ.θ⁻-ϕᵣ₋₂.θ⁺+g*(ϕᵣ₋₂.A[2]+A⁰))) \n",
    "        - ϕᵣ₋₁.u⁺*(u′⁻*cos(ϕ′.θ⁻-ϕᵣ₋₁.θ⁺+g*ϕᵣ₋₁.A[1]) - u⁻*cos(ϕ.θ⁻-ϕᵣ₋₁.θ⁺+g*ϕᵣ₋₁.A[1])))\n",
    "    \n",
    "    # Mixed gradient terms\n",
    "    δE += ψ.γ^2*(ψ.ν-1)*(ϕᵣ₊₂.u⁺*u⁻ᵣ₊₁*(sin(ϕᵣ₊₁.θ⁻-ϕᵣ₊₂.θ⁺ + g*(ϕ′.A[1] - (ϕ′.A[2]+A⁰))) \n",
    "            - sin(ϕᵣ₊₁.θ⁻-ϕᵣ₊₂.θ⁺ + g*(ϕ.A[1] - (ϕ.A[2]+A⁰)))) \n",
    "        -ϕᵣ₊₂.u⁺*(u′⁻*sin(ϕᵣ₊₂.θ⁺-ϕ′.θ⁻+g*(ϕ′.A[2]+A⁰)) - u⁻*sin(ϕᵣ₊₂.θ⁺-ϕ.θ⁻+g*(ϕ.A[2]+A⁰))) \n",
    "        +ϕᵣ₊₁.u⁺*(u′⁻*sin(ϕᵣ₊₁.θ⁺-ϕ′.θ⁻+g*ϕ′.A[1]) - u⁻*sin(ϕᵣ₊₁.θ⁺-ϕ.θ⁻+g*ϕ.A[1])) \n",
    "        +u⁻ᵣ₋₂₊₁*(ϕ′.u⁺*sin(ϕᵣ₋₂₊₁.θ⁻-ϕ′.θ⁺+g*(ϕᵣ₋₂.A[1] - (ϕᵣ₋₂.A[2]+A⁰))) \n",
    "            - ϕ.u⁺*sin(ϕᵣ₋₂₊₁.θ⁻-ϕ.θ⁺+g*(ϕᵣ₋₂.A[1] - (ϕᵣ₋₂.A[2]+A⁰)))) \n",
    "        +ϕᵣ₋₁₊₂.u⁺*(u′⁻*sin(ϕ′.θ⁻-ϕᵣ₋₁₊₂.θ⁺+g*(ϕᵣ₋₁.A[1]-(ϕᵣ₋₁.A[2]+A⁰₋))) \n",
    "            - u⁻*sin(ϕ.θ⁻-ϕᵣ₋₁₊₂.θ⁺+g*(ϕᵣ₋₁.A[1]-(ϕᵣ₋₁.A[2]+A⁰₋)))) \n",
    "        -u⁻ᵣ₋₂*(ϕ′.u⁺*sin(ϕ′.θ⁺-ϕᵣ₋₂.θ⁻+g*(ϕᵣ₋₂.A[2]+A⁰)) - ϕ.u⁺*sin(ϕ.θ⁺-ϕᵣ₋₂.θ⁻+g*(ϕᵣ₋₂.A[2]+A⁰))) \n",
    "        +u⁻ᵣ₋₁*(ϕ′.u⁺*sin(ϕ′.θ⁺-ϕᵣ₋₁.θ⁻+g*ϕᵣ₋₁.A[1]) - ϕ.u⁺*sin(ϕ.θ⁺-ϕᵣ₋₁.θ⁻+g*ϕᵣ₋₁.A[1])) \n",
    "        -(u⁻ᵣ₊₂*ϕᵣ₊₁.u⁺*(sin(ϕᵣ₊₁.θ⁺-ϕᵣ₊₂.θ⁻ + g*(ϕ′.A[1] - (ϕ′.A[2]+A⁰))) \n",
    "            - sin(ϕᵣ₊₁.θ⁺-ϕᵣ₊₂.θ⁻ + g*(ϕ.A[1] - (ϕ.A[2]+A⁰)))) \n",
    "        -u⁻ᵣ₊₂*(ϕ′.u⁺*sin(ϕᵣ₊₂.θ⁻-ϕ′.θ⁺+g*(ϕ′.A[2]+A⁰)) - ϕ.u⁺*sin(ϕᵣ₊₂.θ⁻-ϕ.θ⁺+g*(ϕ.A[2]+A⁰))) \n",
    "        +u⁻ᵣ₊₁*(ϕ′.u⁺*sin(ϕᵣ₊₁.θ⁻-ϕ′.θ⁺+g*ϕ′.A[1]) - ϕ.u⁺*sin(ϕᵣ₊₁.θ⁻-ϕ.θ⁺+g*ϕ.A[1])) \n",
    "        +ϕᵣ₋₂₊₁.u⁺*(u′⁻*sin(ϕᵣ₋₂₊₁.θ⁺-ϕ′.θ⁻+g*(ϕᵣ₋₂.A[1] - (ϕᵣ₋₂.A[2]+A⁰))) \n",
    "            - u⁻*sin(ϕᵣ₋₂₊₁.θ⁺-ϕ.θ⁻+g*(ϕᵣ₋₂.A[1] - (ϕᵣ₋₂.A[2]+A⁰)))) \n",
    "        +u⁻ᵣ₋₁₊₂*(ϕ′.u⁺*sin(ϕ′.θ⁺-ϕᵣ₋₁₊₂.θ⁻+g*(ϕᵣ₋₁.A[1]-(ϕᵣ₋₁.A[2]+A⁰₋))) \n",
    "            - ϕ.u⁺*sin(ϕ.θ⁺-ϕᵣ₋₁₊₂.θ⁻+g*(ϕᵣ₋₁.A[1]-(ϕᵣ₋₁.A[2]+A⁰₋)))) \n",
    "        -ϕᵣ₋₂.u⁺*(u′⁻*sin(ϕ′.θ⁻-ϕᵣ₋₂.θ⁺+g*(ϕᵣ₋₂.A[2]+A⁰)) - u⁻*sin(ϕ.θ⁻-ϕᵣ₋₂.θ⁺+g*(ϕᵣ₋₂.A[2]+A⁰))) \n",
    "        +ϕᵣ₋₁.u⁺*(u′⁻*sin(ϕ′.θ⁻-ϕᵣ₋₁.θ⁺+g*ϕᵣ₋₁.A[1]) - u⁻*sin(ϕ.θ⁻-ϕᵣ₋₁.θ⁺+g*ϕᵣ₋₁.A[1])))\n",
    "        +2*(ϕ′.u⁺*u′⁻*sin(ϕ′.θ⁻-ϕ′.θ⁺) - ϕ.u⁺*u⁻*sin(ϕ.θ⁻-ϕ.θ⁺)))\n",
    "    \n",
    "    # Then calculate the Gauge field contribution\n",
    "    # First contribution from current position\n",
    "    δE += (ϕ′.A[1] + ϕᵣ₊₁.A[2] - ϕᵣ₊₂.A[1] - ϕ′.A[2])^2 - (ϕ.A[1] + ϕᵣ₊₁.A[2] - ϕᵣ₊₂.A[1] - ϕ.A[2])^2\n",
    "    # Then from position r-x\n",
    "    δE += (ϕᵣ₋₁.A[1] + ϕ′.A[2] - ϕᵣ₋₁₊₂.A[1] - ϕᵣ₋₁.A[2])^2 - (ϕᵣ₋₁.A[1] + ϕ.A[2] - ϕᵣ₋₁₊₂.A[1] - ϕᵣ₋₁.A[2])^2\n",
    "    # Then from position r-y\n",
    "    δE += (ϕᵣ₋₂.A[1] + ϕᵣ₋₂₊₁.A[2] - ϕ′.A[1] - ϕᵣ₋₂.A[2])^2 - (ϕᵣ₋₂.A[1] + ϕᵣ₋₂₊₁.A[2] - ϕ.A[1] - ϕᵣ₋₂.A[2])^2\n",
    "end"
   ]
  },
  {
   "cell_type": "code",
   "execution_count": 6,
   "metadata": {},
   "outputs": [
    {
     "name": "stdout",
     "output_type": "stream",
     "text": [
      "Ly = size(ψ₂.lattice, 1) = 3\n",
      "ΔE2(ψ₂, site, [2, 2]) = -1.1743661188699056e6\n",
      "ΔE3(ψ₂, site, [2, 2]) = -1.1743661188699056e6\n",
      "E(ψ₁) - E(ψ₂) = -1.1743661188699054e6\n",
      "ΔE2(ψ₂, site, [2, 2]) == ΔE3(ψ₂, site, [2, 2]) = true\n",
      "E(ψ₁) = 4.754825752254953e6\n",
      "isapprox(E(ψ₁) - E(ψ₂), ΔE3(ψ₂, site, [2, 2]); atol=1.0e-8, rtol=0) = true\n"
     ]
    },
    {
     "data": {
      "text/plain": [
       "true"
      ]
     },
     "execution_count": 6,
     "metadata": {},
     "output_type": "execute_result"
    }
   ],
   "source": [
    "# Test case. We make a 3x3 lattice, and put two different lattice sites in the middle\n",
    "# i.e. the [2,2] position. Then we use the different functions to calculate the energy\n",
    "# difference associated with this change.\n",
    "\n",
    "ψ₂ = initializeState(3,2)\n",
    "site = LatticeSite([0.0,0.0], 0, 0,1)\n",
    "@show Ly = size(ψ₂.lattice,1)\n",
    "ψ₁ = copy(ψ₂)\n",
    "ψ₁.lattice[2,2] = copy(site)\n",
    "@show ΔE2(ψ₂,site,[2,2])\n",
    "@show ΔE3(ψ₂,site,[2,2])\n",
    "@show E(ψ₁)-E(ψ₂)\n",
    "@show ΔE2(ψ₂,site,[2,2]) == ΔE3(ψ₂,site,[2,2])\n",
    "@show E(ψ₁)\n",
    "@show isapprox(E(ψ₁)-E(ψ₂), ΔE3(ψ₂,site,[2,2]); atol=0.00000000000001e6, rtol=0)"
   ]
  },
  {
   "cell_type": "markdown",
   "metadata": {},
   "source": [
    "It seems that the difference between using `E(ψ₁)-E(ψ₂)`and `ΔE2(ψ₂,site,[2,2])` is floating point error."
   ]
  },
  {
   "cell_type": "code",
   "execution_count": 7,
   "metadata": {},
   "outputs": [
    {
     "data": {
      "text/plain": [
       "BenchmarkTools.Trial: \n",
       "  memory estimate:  112 bytes\n",
       "  allocs estimate:  2\n",
       "  --------------\n",
       "  minimum time:     1.789 μs (0.00% GC)\n",
       "  median time:      1.812 μs (0.00% GC)\n",
       "  mean time:        1.855 μs (0.00% GC)\n",
       "  maximum time:     4.558 μs (0.00% GC)\n",
       "  --------------\n",
       "  samples:          10000\n",
       "  evals/sample:     10"
      ]
     },
     "execution_count": 7,
     "metadata": {},
     "output_type": "execute_result"
    }
   ],
   "source": [
    "using BenchmarkTools\n",
    "@benchmark ΔE2(ψ₂,site,[2,2])"
   ]
  },
  {
   "cell_type": "code",
   "execution_count": 8,
   "metadata": {},
   "outputs": [
    {
     "data": {
      "text/plain": [
       "BenchmarkTools.Trial: \n",
       "  memory estimate:  224 bytes\n",
       "  allocs estimate:  9\n",
       "  --------------\n",
       "  minimum time:     1.298 μs (0.00% GC)\n",
       "  median time:      1.317 μs (0.00% GC)\n",
       "  mean time:        1.400 μs (1.95% GC)\n",
       "  maximum time:     281.364 μs (96.88% GC)\n",
       "  --------------\n",
       "  samples:          10000\n",
       "  evals/sample:     10"
      ]
     },
     "execution_count": 8,
     "metadata": {},
     "output_type": "execute_result"
    }
   ],
   "source": [
    "@benchmark ΔE3(ψ₂,site,[2,2])"
   ]
  },
  {
   "cell_type": "markdown",
   "metadata": {},
   "source": [
    "For some reason there seems to be a problem with `ΔE3` allocating memory to heap, but still it is faster than `ΔE2` because we are not wasting time summing 0es. Not sure how to prevent the memory issue"
   ]
  },
  {
   "cell_type": "markdown",
   "metadata": {},
   "source": [
    "# Proposal of a local state update\n",
    "Given a state $\\Psi_i$ we want to propose a new state $\\Psi_{i+1}$ that can later be accepted according to the Metropolis-Hastings algorithm. The proposal function thus has to take in a given state $\\Psi_i$ and give out a new\n",
    "state $\\Psi_{i+1}$ as well as the energy difference between the two states since this can be effectively calculated depending on what kind of update is done to the state. Thus we don't need to call $E(\\Psi)$ twice to find the difference in energy.\n",
    "\n",
    "The local update is done at a particular lattice site where all degrees of freedom are updated, thus the function also has to know what lattice position to update.\n",
    "\n",
    "Remember that the proposal probability for a new state $P(\\Psi_i\\to\\Psi_j)$ has to be equal to the symmetric update"
   ]
  },
  {
   "cell_type": "markdown",
   "metadata": {},
   "source": [
    "$$P(\\Psi_i\\to\\Psi_j) = P(\\Psi_j\\to\\Psi_i),$$"
   ]
  },
  {
   "cell_type": "markdown",
   "metadata": {},
   "source": [
    "for the update to fulfill detailed balance.\n",
    "\n",
    "So far we do a very simple thing of defining a fixed interval around the original value, from within which the new value is uniformly randomly picked. Given a value $\\theta^+_\\mathbf{r}$ at the lattice site $\\mathbf{r}$, the new value \n",
    "$\\theta'{}^+_\\mathbf{r}$ is thus picked uniformly from the interval \n",
    "$$\\theta'{}^+_\\mathbf{r}\\in(\\theta^+_\\mathbf{r}-\\theta_\\text{max},\\;\\theta^+_\\mathbf{r}+\\theta_\\text{max})$$"
   ]
  },
  {
   "cell_type": "code",
   "execution_count": 13,
   "metadata": {},
   "outputs": [
    {
     "name": "stderr",
     "output_type": "stream",
     "text": [
      "\u001b[1m\u001b[36mINFO: \u001b[39m\u001b[22m\u001b[36mCloning cache of Calculus from https://github.com/JuliaMath/Calculus.jl.git\n",
      "\u001b[39m\u001b[1m\u001b[36mINFO: \u001b[39m\u001b[22m\u001b[36mCloning cache of Distributions from https://github.com/JuliaStats/Distributions.jl.git\n",
      "\u001b[39m\u001b[1m\u001b[36mINFO: \u001b[39m\u001b[22m\u001b[36mCloning cache of PDMats from https://github.com/JuliaStats/PDMats.jl.git\n",
      "\u001b[39m\u001b[1m\u001b[36mINFO: \u001b[39m\u001b[22m\u001b[36mCloning cache of QuadGK from https://github.com/JuliaMath/QuadGK.jl.git\n",
      "\u001b[39m\u001b[1m\u001b[36mINFO: \u001b[39m\u001b[22m\u001b[36mCloning cache of Rmath from https://github.com/JuliaStats/Rmath.jl.git\n",
      "\u001b[39m\u001b[1m\u001b[36mINFO: \u001b[39m\u001b[22m\u001b[36mCloning cache of SpecialFunctions from https://github.com/JuliaMath/SpecialFunctions.jl.git\n",
      "\u001b[39m\u001b[1m\u001b[36mINFO: \u001b[39m\u001b[22m\u001b[36mCloning cache of StatsFuns from https://github.com/JuliaStats/StatsFuns.jl.git\n",
      "\u001b[39m\u001b[1m\u001b[36mINFO: \u001b[39m\u001b[22m\u001b[36mInstalling Calculus v0.4.0\n",
      "\u001b[39m\u001b[1m\u001b[36mINFO: \u001b[39m\u001b[22m\u001b[36mInstalling Distributions v0.15.0\n",
      "\u001b[39m\u001b[1m\u001b[36mINFO: \u001b[39m\u001b[22m\u001b[36mInstalling PDMats v0.8.0\n",
      "\u001b[39m\u001b[1m\u001b[36mINFO: \u001b[39m\u001b[22m\u001b[36mInstalling QuadGK v0.2.1\n",
      "\u001b[39m\u001b[1m\u001b[36mINFO: \u001b[39m\u001b[22m\u001b[36mInstalling Rmath v0.4.0\n",
      "\u001b[39m\u001b[1m\u001b[36mINFO: \u001b[39m\u001b[22m\u001b[36mInstalling SpecialFunctions v0.6.0\n",
      "\u001b[39m\u001b[1m\u001b[36mINFO: \u001b[39m\u001b[22m\u001b[36mInstalling StatsFuns v0.6.0\n",
      "\u001b[39m\u001b[1m\u001b[36mINFO: \u001b[39m\u001b[22m\u001b[36mBuilding SpecialFunctions\n",
      "\u001b[39m\u001b[1m\u001b[36mINFO: \u001b[39m\u001b[22m\u001b[36mBuilding Rmath\n",
      "\u001b[39m\u001b[1m\u001b[36mInfo: \u001b[39m\u001b[22m\u001b[36mDownloading https://github.com/staticfloat/RmathBuilder/releases/download/v0.2.0-1/libRmath.x86_64-linux-gnu.tar.gz to /home/nicolai/.julia/v0.6/Rmath/deps/usr/downloads/libRmath.x86_64-linux-gnu.tar.gz...\n",
      "\u001b[39m"
     ]
    },
    {
     "name": "stdout",
     "output_type": "stream",
     "text": [
      "\u001b[39m\u001b[1m\u001b[0m[20:47:32] \u001b[22m\u001b[31m######################################################################### 100.0%[1m\u001b[0m[20:47:30] \u001b[22m\u001b[31m##O=#  #                                                                       \u001b[1m\u001b[0m[20:47:30] \u001b[22m\u001b[31m#=#=-#  #                                                                      \u001b[1m\u001b[0m[20:47:30] \u001b[22m\u001b[31m-#O#- #   #                                                                    \u001b[1m\u001b[0m[20:47:30] \u001b[22m\u001b[31m-=#=#   #   #                                                                  \u001b[1m\u001b[0m[20:47:30] \u001b[22m\u001b[31m-=O#- #  #    #                                                                \u001b[1m\u001b[0m[20:47:31] \u001b[22m\u001b[31m-=O=#  #   #    #                                                              \u001b[1m\u001b[0m[20:47:31] \u001b[22m\u001b[31m\u001b[1m\u001b[0m[20:47:31] \u001b[22m\u001b[31m#########                                                                  13.3%\u001b[1m\u001b[0m[20:47:31] \u001b[22m\u001b[31m###################                                                        27.1%\u001b[1m\u001b[0m[20:47:31] \u001b[22m\u001b[31m####################                                                       28.0%\u001b[1m\u001b[0m[20:47:31] \u001b[22m\u001b[31m########################################                                   55.4%\u001b[1m\u001b[0m[20:47:32] \u001b[22m\u001b[31m#############################################################              83.8%\n",
      "\u001b[39m"
     ]
    },
    {
     "name": "stderr",
     "output_type": "stream",
     "text": [
      "\u001b[1m\u001b[36mINFO: \u001b[39m\u001b[22m\u001b[36mPackage database updated\n",
      "\u001b[39m\u001b[1m\u001b[36mINFO: \u001b[39m\u001b[22m\u001b[36mMETADATA is out-of-date — you may not have the latest version of Distributions\n",
      "\u001b[39m\u001b[1m\u001b[36mINFO: \u001b[39m\u001b[22m\u001b[36mUse `Pkg.update()` to get the latest versions of your packages\n",
      "\u001b[39m\u001b[1m\u001b[36mINFO: \u001b[39m\u001b[22m\u001b[36mPrecompiling module Distributions.\n",
      "\u001b[39m"
     ]
    }
   ],
   "source": [
    "Pkg.add(\"Distributions\")\n",
    "using Distributions"
   ]
  },
  {
   "cell_type": "code",
   "execution_count": 16,
   "metadata": {},
   "outputs": [
    {
     "data": {
      "text/plain": [
       "0.1364828401458298"
      ]
     },
     "execution_count": 16,
     "metadata": {},
     "output_type": "execute_result"
    }
   ],
   "source": [
    "rand(Uniform(-1,1))"
   ]
  },
  {
   "cell_type": "code",
   "execution_count": 17,
   "metadata": {},
   "outputs": [
    {
     "data": {
      "text/plain": [
       "proposeLocalUpdate (generic function with 1 method)"
      ]
     },
     "execution_count": 17,
     "metadata": {},
     "output_type": "execute_result"
    }
   ],
   "source": [
    "function proposeLocalUpdate(ψᵢ::State, r::Array{Int64, 1})\n",
    "    const θmax = 3/100 # How far away from the original value, the proposed new value for θ should be.\n",
    "    const umax = 3/100 # How far away from the original value, the proposed amplitude u should be.\n",
    "    const Amax = 3/100\n",
    "    const x = r[1]\n",
    "    const y = r[2]\n",
    "    (size(ψᵢ.lattice,1) < y || size(ψᵢ.lattice,2) < x) && throw(DomainError()) # r is outside the range of the lattice.\n",
    "    \n",
    "    # Save the lattice site at position r in a separate variable s.\n",
    "    s = ψᵢ.lattice[y,x]\n",
    "    \n",
    "    # Construct new configuration at lattice site.\n",
    "    newLatticeSite = LatticeSite([s.A[1]+rand(Uniform(-Amax,Amax)), s.A[2]+rand(Uniform(-Amax,Amax))],\n",
    "        mod(s.θ⁺ + rand(Uniform(-θmax,θmax)), 2π), mod(s.θ⁻ + rand(Uniform(-θmax,θmax)), 2π), \n",
    "        mod(s.u⁺ + rand(Uniform(-umx,umax)),1))\n",
    "    \n",
    "    # Calculate energy difference between the two configurations and return this with the proposed lattice site.\n",
    "    (newLatticeSite, ΔE3(ψᵢ,newLatticeSite,r))\n",
    "end    "
   ]
  },
  {
   "cell_type": "markdown",
   "metadata": {},
   "source": [
    "# Metropolis Hastings update\n",
    "\n",
    "Now we create a function that implements the acceptance step of the Metropolis Hastings algorithm.\n",
    "1. From state $\\Psi_i$, propose a new state $\\Psi_{i+1}$\n",
    "2. Calculate $\\Delta E_{i,i+1}$.\n",
    "3. Generate a random number r between $(0,1]$.\n",
    "4. If $r\\leq e^{-\\beta\\Delta E_{i,i+1}}$, accept the state\n",
    "\n",
    "Since the \n",
    "> rand() \n",
    "\n",
    "function creates a random number in $[0,1)$ we create a random number in $(0,1]$ by mapping $0\\mapsto1$."
   ]
  },
  {
   "cell_type": "code",
   "execution_count": 10,
   "metadata": {},
   "outputs": [
    {
     "data": {
      "text/plain": [
       "metropolisHastingUpdate! (generic function with 1 method)"
      ]
     },
     "execution_count": 10,
     "metadata": {},
     "output_type": "execute_result"
    }
   ],
   "source": [
    "function metropolisHastingUpdate!(ψ::State, r::Array{Int64,1}, β::Float64)\n",
    "    (site, δE) = proposeLocalUpdate(ψ,r)\n",
    "    \n",
    "    # Create random number ran ∈ (0,1].\n",
    "    ran = rand()\n",
    "    if ran==0\n",
    "        ran=1\n",
    "    end\n",
    "    \n",
    "    # Update state with probability min(1, e^{-β⋅δE})\n",
    "    # and return the energy of final state regardless of whether it gets updated or not.\n",
    "    if log(ran) <= -β*δE\n",
    "        ψ.lattice[r...] = site\n",
    "        δE\n",
    "    else\n",
    "        δE = 0\n",
    "    end\n",
    "end"
   ]
  },
  {
   "cell_type": "markdown",
   "metadata": {},
   "source": [
    "# Monte Carlo sweep\n",
    "\n",
    "Try to update the entire lattice once."
   ]
  },
  {
   "cell_type": "code",
   "execution_count": 11,
   "metadata": {},
   "outputs": [
    {
     "data": {
      "text/plain": [
       "mcSweep! (generic function with 1 method)"
      ]
     },
     "execution_count": 11,
     "metadata": {},
     "output_type": "execute_result"
    }
   ],
   "source": [
    "function mcSweep!(ψ::State, β::Float64)\n",
    "    \n",
    "    # Find size of the lattice L\n",
    "    L = size(ψ.lattice,1)\n",
    "    \n",
    "    # Do a Metropolis-Hastings update for all lattice sites on the lattice.\n",
    "    for x in 1:L, y in 1:L\n",
    "        metropolisHastingUpdate!(ψ, [x,y], β)\n",
    "    end\n",
    "end"
   ]
  },
  {
   "cell_type": "markdown",
   "metadata": {},
   "source": [
    "# Main MC measurements function\n",
    "\n",
    "This is the function that will do all the work. Here we call all the other functions we have created.\n",
    "\n",
    "After $M_\\text{th}$ Monte-Carlo sweeps (MCS) we do a measurement. Before doing any measurements we wait\n",
    "$M_\\text{skip}$ MCS for the system to reach equilibrium. We do $M$ measurements. Let the lattice be of size $N\\times N$,\n",
    "the magnetic filling fraction is $f$ while $\\beta$ is the inverse temperature."
   ]
  },
  {
   "cell_type": "code",
   "execution_count": 12,
   "metadata": {},
   "outputs": [
    {
     "data": {
      "text/plain": [
       "mcMeasure (generic function with 1 method)"
      ]
     },
     "execution_count": 12,
     "metadata": {},
     "output_type": "execute_result"
    }
   ],
   "source": [
    "function mcMeasure(M::Int64, Mth::Int64, Mskip::Int64, N::Int64, f::Float64, β::Float64)\n",
    "    ψ = initializeState(N, f, 2)\n",
    "    \n",
    "    # As an example we just want to measure the energies of the states.\n",
    "    e = zeros(M)\n",
    "    \n",
    "    # Thermalize the system\n",
    "    for i=1:Mskip\n",
    "        mcSweep!(ψ,β)\n",
    "    end\n",
    "    \n",
    "    # Then do M measurements\n",
    "    for i=1:(M-1)\n",
    "        e[i] = E(ψ)\n",
    "        for j=1:Mth-1\n",
    "            mcSweep!(ψ,β)\n",
    "        end\n",
    "    end\n",
    "    e[M] = E(ψ)\n",
    "    \n",
    "    # Plot results\n",
    "    plot(1:M, e)\n",
    "end "
   ]
  },
  {
   "cell_type": "code",
   "execution_count": null,
   "metadata": {},
   "outputs": [],
   "source": []
  }
 ],
 "metadata": {
  "kernelspec": {
   "display_name": "Julia 0.6.3",
   "language": "julia",
   "name": "julia-0.6"
  },
  "language_info": {
   "file_extension": ".jl",
   "mimetype": "application/julia",
   "name": "julia",
   "version": "0.6.3"
  }
 },
 "nbformat": 4,
 "nbformat_minor": 2
}
